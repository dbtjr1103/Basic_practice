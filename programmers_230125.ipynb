{
  "nbformat": 4,
  "nbformat_minor": 0,
  "metadata": {
    "colab": {
      "provenance": [],
      "authorship_tag": "ABX9TyNCXkizeGxAiomDPgnuR44x",
      "include_colab_link": true
    },
    "kernelspec": {
      "name": "python3",
      "display_name": "Python 3"
    },
    "language_info": {
      "name": "python"
    }
  },
  "cells": [
    {
      "cell_type": "markdown",
      "metadata": {
        "id": "view-in-github",
        "colab_type": "text"
      },
      "source": [
        "<a href=\"https://colab.research.google.com/github/dbtjr1103/Basic_practice/blob/main/programmers_230125.ipynb\" target=\"_parent\"><img src=\"https://colab.research.google.com/assets/colab-badge.svg\" alt=\"Open In Colab\"/></a>"
      ]
    },
    {
      "cell_type": "code",
      "execution_count": null,
      "metadata": {
        "id": "1SW4SGG1PJmr"
      },
      "outputs": [],
      "source": [
        "# 약수의 합\n",
        "def solution(n):\n",
        "    answer = 0\n",
        "    \n",
        "    for i in range(1, int(n+1/2)):\n",
        "        if n % i == 0:\n",
        "            answer += i\n",
        "\n",
        "    return answer + n"
      ]
    },
    {
      "cell_type": "code",
      "source": [
        "def solution(n):\n",
        "\n",
        "    return sum(i for i in range(1, int(n+1/))"
      ],
      "metadata": {
        "id": "1MbK3yEoPNBN"
      },
      "execution_count": null,
      "outputs": []
    },
    {
      "cell_type": "code",
      "source": [
        "def sumDivisor(num):\n",
        "    # num / 2 의 수들만 검사하면 성능 약 2배 향상잼\n",
        "    return num + sum([i for i in range(1, (num // 2) + 1) if num % i == 0])"
      ],
      "metadata": {
        "id": "t5cU69pvQjPc"
      },
      "execution_count": null,
      "outputs": []
    },
    {
      "cell_type": "code",
      "source": [
        "def solution(n):\n",
        "    return n + sum(i for i in range(1, (n//2)+1) if n % i == 0)"
      ],
      "metadata": {
        "id": "zyIqsPWERNDC"
      },
      "execution_count": 5,
      "outputs": []
    },
    {
      "cell_type": "code",
      "source": [
        "solution(12)"
      ],
      "metadata": {
        "colab": {
          "base_uri": "https://localhost:8080/"
        },
        "id": "jagSxQR0RPwR",
        "outputId": "c2487641-15b3-4de3-a104-24fad9c299f1"
      },
      "execution_count": 6,
      "outputs": [
        {
          "output_type": "execute_result",
          "data": {
            "text/plain": [
              "28"
            ]
          },
          "metadata": {},
          "execution_count": 6
        }
      ]
    },
    {
      "cell_type": "code",
      "source": [
        "# 짝수와 홀수\n",
        "def solution(num):\n",
        "    if (num%2):\n",
        "        return 'Odd'\n",
        "    else:\n",
        "        return 'Even'"
      ],
      "metadata": {
        "id": "e0GhY7kNR9a9"
      },
      "execution_count": 10,
      "outputs": []
    },
    {
      "cell_type": "code",
      "source": [
        "# 평균 구하기\n",
        "import numpy as np\n",
        "def solution(arr):\n",
        "    return np.mean(arr)"
      ],
      "metadata": {
        "id": "iR7wEh4wSRJ4"
      },
      "execution_count": 16,
      "outputs": []
    },
    {
      "cell_type": "code",
      "source": [
        "# 평균 구하기\n",
        "def solution(arr):\n",
        "    return sum(arr)/len(arr)"
      ],
      "metadata": {
        "id": "Xqc3wTZSTOol"
      },
      "execution_count": 20,
      "outputs": []
    },
    {
      "cell_type": "code",
      "source": [
        "arr = [1,2,3,4]\n",
        "sum(arr)/len(arr)"
      ],
      "metadata": {
        "colab": {
          "base_uri": "https://localhost:8080/"
        },
        "id": "zmUC8HGsSidT",
        "outputId": "a756e5f5-e65a-4d59-ceff-7daa5f236d27"
      },
      "execution_count": 19,
      "outputs": [
        {
          "output_type": "execute_result",
          "data": {
            "text/plain": [
              "2.5"
            ]
          },
          "metadata": {},
          "execution_count": 19
        }
      ]
    },
    {
      "cell_type": "code",
      "source": [
        "# 자릿수 더하기\n",
        "def solution(n):\n",
        "    return sum(int(str(n)[i]) for i in range(len(str(n))))"
      ],
      "metadata": {
        "id": "aCP5sYiwTXPN"
      },
      "execution_count": 52,
      "outputs": []
    },
    {
      "cell_type": "code",
      "source": [
        "solution(123)"
      ],
      "metadata": {
        "colab": {
          "base_uri": "https://localhost:8080/"
        },
        "id": "LfwdFkDWStQ-",
        "outputId": "ed6e36dc-a676-46b5-888d-0469de8ef8a8"
      },
      "execution_count": 53,
      "outputs": [
        {
          "output_type": "execute_result",
          "data": {
            "text/plain": [
              "6"
            ]
          },
          "metadata": {},
          "execution_count": 53
        }
      ]
    },
    {
      "cell_type": "code",
      "source": [
        "N = 123\n",
        "sum(map(int, str(N)))"
      ],
      "metadata": {
        "colab": {
          "base_uri": "https://localhost:8080/"
        },
        "id": "fLSSguDFTxg1",
        "outputId": "b2172b11-e3db-455e-808d-b5d36a931f40"
      },
      "execution_count": 57,
      "outputs": [
        {
          "output_type": "execute_result",
          "data": {
            "text/plain": [
              "6"
            ]
          },
          "metadata": {},
          "execution_count": 57
        }
      ]
    },
    {
      "cell_type": "code",
      "source": [
        "# 자연수 뒤집어 배열로 만들기\n",
        "def solution(n):\n",
        "    answer = []\n",
        "    for i in range(len(str(n))):\n",
        "        answer.append(str(n)[i])\n",
        "    answer = list(map(int, answer))\n",
        "    answer.reverse()\n",
        "    return answer"
      ],
      "metadata": {
        "id": "d7LhzWYTUYEW"
      },
      "execution_count": 83,
      "outputs": []
    },
    {
      "cell_type": "code",
      "source": [
        "# 자연수 뒤집어 배열로 만들기\n",
        "def solution(n):\n",
        "    return list(map(int, reversed(str(n))))"
      ],
      "metadata": {
        "id": "Pyh8N-sLV1gY"
      },
      "execution_count": 88,
      "outputs": []
    },
    {
      "cell_type": "code",
      "source": [
        "solution(12345)"
      ],
      "metadata": {
        "colab": {
          "base_uri": "https://localhost:8080/"
        },
        "id": "IKkm4m86XG35",
        "outputId": "ad8dcb2d-503b-4229-e5fe-18acc89c0c47"
      },
      "execution_count": 85,
      "outputs": [
        {
          "output_type": "execute_result",
          "data": {
            "text/plain": [
              "[5, 4, 3, 2, 1]"
            ]
          },
          "metadata": {},
          "execution_count": 85
        }
      ]
    },
    {
      "cell_type": "code",
      "source": [
        "import time \n",
        "\n",
        "start = time.time()\n",
        "\n",
        "\n",
        "# 자연수 뒤집어 배열로 만들기\n",
        "def solution(n):\n",
        "    answer = []\n",
        "    for i in range(len(str(n))):\n",
        "        answer.append(str(n)[i])\n",
        "    answer = list(map(int, answer))\n",
        "    answer.reverse()\n",
        "    return answer\n",
        "\n",
        "print(solution(12345))\n",
        "\n",
        "end = time.time()\n",
        "\n",
        "print(\"작동시간:\", f\"{end - start:.5f} sec\")"
      ],
      "metadata": {
        "colab": {
          "base_uri": "https://localhost:8080/"
        },
        "id": "N5m8TNjJWL3j",
        "outputId": "203d0bad-f0b5-4e76-bd46-2666c633fb81"
      },
      "execution_count": 87,
      "outputs": [
        {
          "output_type": "stream",
          "name": "stdout",
          "text": [
            "[5, 4, 3, 2, 1]\n",
            "작동시간: 0.00028 sec\n"
          ]
        }
      ]
    },
    {
      "cell_type": "code",
      "source": [
        "import time \n",
        "\n",
        "start = time.time()\n",
        "\n",
        "\n",
        "# 자연수 뒤집어 배열로 만들기\n",
        "def solution(n):\n",
        "    return list(map(int, reversed(str(n))))\n",
        "\n",
        "print(solution(12345))\n",
        "\n",
        "end = time.time()\n",
        "\n",
        "print(\"작동시간:\", f\"{end - start:.5f} sec\")"
      ],
      "metadata": {
        "colab": {
          "base_uri": "https://localhost:8080/"
        },
        "id": "NGJCxO0iaQJS",
        "outputId": "36968d7f-6298-4ac2-ed58-803932479384"
      },
      "execution_count": 92,
      "outputs": [
        {
          "output_type": "stream",
          "name": "stdout",
          "text": [
            "[5, 4, 3, 2, 1]\n",
            "작동시간: 0.00020 sec\n"
          ]
        }
      ]
    }
  ]
}