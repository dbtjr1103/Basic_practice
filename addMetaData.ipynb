{
  "metadata": {
    "language_info": {
      "codemirror_mode": {
        "name": "ipython",
        "version": 3
      },
      "file_extension": ".py",
      "mimetype": "text/x-python",
      "name": "python",
      "nbconvert_exporter": "python",
      "pygments_lexer": "ipython3",
      "version": "3.9.0-final"
    },
    "orig_nbformat": 2,
    "kernelspec": {
      "name": "python3",
      "display_name": "Python 3",
      "language": "python"
    },
    "colab": {
      "provenance": [],
      "include_colab_link": true
    },
    "accelerator": "GPU",
    "gpuClass": "standard",
    "widgets": {
      "application/vnd.jupyter.widget-state+json": {
        "a47fa4149bea414d86c2aff9e0bcf352": {
          "model_module": "@jupyter-widgets/controls",
          "model_name": "HBoxModel",
          "model_module_version": "1.5.0",
          "state": {
            "_dom_classes": [],
            "_model_module": "@jupyter-widgets/controls",
            "_model_module_version": "1.5.0",
            "_model_name": "HBoxModel",
            "_view_count": null,
            "_view_module": "@jupyter-widgets/controls",
            "_view_module_version": "1.5.0",
            "_view_name": "HBoxView",
            "box_style": "",
            "children": [
              "IPY_MODEL_fbfc5fd8c13a48139088eb5fc2c72795",
              "IPY_MODEL_ff23c1d3b9e849dfb5f3a971386d5053",
              "IPY_MODEL_97e38c792db843218d38d7ca86366e8c"
            ],
            "layout": "IPY_MODEL_a2e883a382474128938bd0d247460bfc"
          }
        },
        "fbfc5fd8c13a48139088eb5fc2c72795": {
          "model_module": "@jupyter-widgets/controls",
          "model_name": "HTMLModel",
          "model_module_version": "1.5.0",
          "state": {
            "_dom_classes": [],
            "_model_module": "@jupyter-widgets/controls",
            "_model_module_version": "1.5.0",
            "_model_name": "HTMLModel",
            "_view_count": null,
            "_view_module": "@jupyter-widgets/controls",
            "_view_module_version": "1.5.0",
            "_view_name": "HTMLView",
            "description": "",
            "description_tooltip": null,
            "layout": "IPY_MODEL_584461e11b724dc0868a850485685edf",
            "placeholder": "​",
            "style": "IPY_MODEL_e5000ab28dae4add958383f6faedfad0",
            "value": "100%"
          }
        },
        "ff23c1d3b9e849dfb5f3a971386d5053": {
          "model_module": "@jupyter-widgets/controls",
          "model_name": "FloatProgressModel",
          "model_module_version": "1.5.0",
          "state": {
            "_dom_classes": [],
            "_model_module": "@jupyter-widgets/controls",
            "_model_module_version": "1.5.0",
            "_model_name": "FloatProgressModel",
            "_view_count": null,
            "_view_module": "@jupyter-widgets/controls",
            "_view_module_version": "1.5.0",
            "_view_name": "ProgressView",
            "bar_style": "success",
            "description": "",
            "description_tooltip": null,
            "layout": "IPY_MODEL_994996dd3c8642919676af9d3a4081c3",
            "max": 6534387,
            "min": 0,
            "orientation": "horizontal",
            "style": "IPY_MODEL_a47e3e72f6ed42318e535029bb2149dc",
            "value": 6534387
          }
        },
        "97e38c792db843218d38d7ca86366e8c": {
          "model_module": "@jupyter-widgets/controls",
          "model_name": "HTMLModel",
          "model_module_version": "1.5.0",
          "state": {
            "_dom_classes": [],
            "_model_module": "@jupyter-widgets/controls",
            "_model_module_version": "1.5.0",
            "_model_name": "HTMLModel",
            "_view_count": null,
            "_view_module": "@jupyter-widgets/controls",
            "_view_module_version": "1.5.0",
            "_view_name": "HTMLView",
            "description": "",
            "description_tooltip": null,
            "layout": "IPY_MODEL_33b031f030a442a08ddb4a09b2259ecd",
            "placeholder": "​",
            "style": "IPY_MODEL_7974462eba7b4c7984568d6e1ee6ef89",
            "value": " 6.23M/6.23M [00:00&lt;00:00, 69.4MB/s]"
          }
        },
        "a2e883a382474128938bd0d247460bfc": {
          "model_module": "@jupyter-widgets/base",
          "model_name": "LayoutModel",
          "model_module_version": "1.2.0",
          "state": {
            "_model_module": "@jupyter-widgets/base",
            "_model_module_version": "1.2.0",
            "_model_name": "LayoutModel",
            "_view_count": null,
            "_view_module": "@jupyter-widgets/base",
            "_view_module_version": "1.2.0",
            "_view_name": "LayoutView",
            "align_content": null,
            "align_items": null,
            "align_self": null,
            "border": null,
            "bottom": null,
            "display": null,
            "flex": null,
            "flex_flow": null,
            "grid_area": null,
            "grid_auto_columns": null,
            "grid_auto_flow": null,
            "grid_auto_rows": null,
            "grid_column": null,
            "grid_gap": null,
            "grid_row": null,
            "grid_template_areas": null,
            "grid_template_columns": null,
            "grid_template_rows": null,
            "height": null,
            "justify_content": null,
            "justify_items": null,
            "left": null,
            "margin": null,
            "max_height": null,
            "max_width": null,
            "min_height": null,
            "min_width": null,
            "object_fit": null,
            "object_position": null,
            "order": null,
            "overflow": null,
            "overflow_x": null,
            "overflow_y": null,
            "padding": null,
            "right": null,
            "top": null,
            "visibility": null,
            "width": null
          }
        },
        "584461e11b724dc0868a850485685edf": {
          "model_module": "@jupyter-widgets/base",
          "model_name": "LayoutModel",
          "model_module_version": "1.2.0",
          "state": {
            "_model_module": "@jupyter-widgets/base",
            "_model_module_version": "1.2.0",
            "_model_name": "LayoutModel",
            "_view_count": null,
            "_view_module": "@jupyter-widgets/base",
            "_view_module_version": "1.2.0",
            "_view_name": "LayoutView",
            "align_content": null,
            "align_items": null,
            "align_self": null,
            "border": null,
            "bottom": null,
            "display": null,
            "flex": null,
            "flex_flow": null,
            "grid_area": null,
            "grid_auto_columns": null,
            "grid_auto_flow": null,
            "grid_auto_rows": null,
            "grid_column": null,
            "grid_gap": null,
            "grid_row": null,
            "grid_template_areas": null,
            "grid_template_columns": null,
            "grid_template_rows": null,
            "height": null,
            "justify_content": null,
            "justify_items": null,
            "left": null,
            "margin": null,
            "max_height": null,
            "max_width": null,
            "min_height": null,
            "min_width": null,
            "object_fit": null,
            "object_position": null,
            "order": null,
            "overflow": null,
            "overflow_x": null,
            "overflow_y": null,
            "padding": null,
            "right": null,
            "top": null,
            "visibility": null,
            "width": null
          }
        },
        "e5000ab28dae4add958383f6faedfad0": {
          "model_module": "@jupyter-widgets/controls",
          "model_name": "DescriptionStyleModel",
          "model_module_version": "1.5.0",
          "state": {
            "_model_module": "@jupyter-widgets/controls",
            "_model_module_version": "1.5.0",
            "_model_name": "DescriptionStyleModel",
            "_view_count": null,
            "_view_module": "@jupyter-widgets/base",
            "_view_module_version": "1.2.0",
            "_view_name": "StyleView",
            "description_width": ""
          }
        },
        "994996dd3c8642919676af9d3a4081c3": {
          "model_module": "@jupyter-widgets/base",
          "model_name": "LayoutModel",
          "model_module_version": "1.2.0",
          "state": {
            "_model_module": "@jupyter-widgets/base",
            "_model_module_version": "1.2.0",
            "_model_name": "LayoutModel",
            "_view_count": null,
            "_view_module": "@jupyter-widgets/base",
            "_view_module_version": "1.2.0",
            "_view_name": "LayoutView",
            "align_content": null,
            "align_items": null,
            "align_self": null,
            "border": null,
            "bottom": null,
            "display": null,
            "flex": null,
            "flex_flow": null,
            "grid_area": null,
            "grid_auto_columns": null,
            "grid_auto_flow": null,
            "grid_auto_rows": null,
            "grid_column": null,
            "grid_gap": null,
            "grid_row": null,
            "grid_template_areas": null,
            "grid_template_columns": null,
            "grid_template_rows": null,
            "height": null,
            "justify_content": null,
            "justify_items": null,
            "left": null,
            "margin": null,
            "max_height": null,
            "max_width": null,
            "min_height": null,
            "min_width": null,
            "object_fit": null,
            "object_position": null,
            "order": null,
            "overflow": null,
            "overflow_x": null,
            "overflow_y": null,
            "padding": null,
            "right": null,
            "top": null,
            "visibility": null,
            "width": null
          }
        },
        "a47e3e72f6ed42318e535029bb2149dc": {
          "model_module": "@jupyter-widgets/controls",
          "model_name": "ProgressStyleModel",
          "model_module_version": "1.5.0",
          "state": {
            "_model_module": "@jupyter-widgets/controls",
            "_model_module_version": "1.5.0",
            "_model_name": "ProgressStyleModel",
            "_view_count": null,
            "_view_module": "@jupyter-widgets/base",
            "_view_module_version": "1.2.0",
            "_view_name": "StyleView",
            "bar_color": null,
            "description_width": ""
          }
        },
        "33b031f030a442a08ddb4a09b2259ecd": {
          "model_module": "@jupyter-widgets/base",
          "model_name": "LayoutModel",
          "model_module_version": "1.2.0",
          "state": {
            "_model_module": "@jupyter-widgets/base",
            "_model_module_version": "1.2.0",
            "_model_name": "LayoutModel",
            "_view_count": null,
            "_view_module": "@jupyter-widgets/base",
            "_view_module_version": "1.2.0",
            "_view_name": "LayoutView",
            "align_content": null,
            "align_items": null,
            "align_self": null,
            "border": null,
            "bottom": null,
            "display": null,
            "flex": null,
            "flex_flow": null,
            "grid_area": null,
            "grid_auto_columns": null,
            "grid_auto_flow": null,
            "grid_auto_rows": null,
            "grid_column": null,
            "grid_gap": null,
            "grid_row": null,
            "grid_template_areas": null,
            "grid_template_columns": null,
            "grid_template_rows": null,
            "height": null,
            "justify_content": null,
            "justify_items": null,
            "left": null,
            "margin": null,
            "max_height": null,
            "max_width": null,
            "min_height": null,
            "min_width": null,
            "object_fit": null,
            "object_position": null,
            "order": null,
            "overflow": null,
            "overflow_x": null,
            "overflow_y": null,
            "padding": null,
            "right": null,
            "top": null,
            "visibility": null,
            "width": null
          }
        },
        "7974462eba7b4c7984568d6e1ee6ef89": {
          "model_module": "@jupyter-widgets/controls",
          "model_name": "DescriptionStyleModel",
          "model_module_version": "1.5.0",
          "state": {
            "_model_module": "@jupyter-widgets/controls",
            "_model_module_version": "1.5.0",
            "_model_name": "DescriptionStyleModel",
            "_view_count": null,
            "_view_module": "@jupyter-widgets/base",
            "_view_module_version": "1.2.0",
            "_view_name": "StyleView",
            "description_width": ""
          }
        }
      }
    }
  },
  "nbformat": 4,
  "nbformat_minor": 0,
  "cells": [
    {
      "cell_type": "markdown",
      "metadata": {
        "id": "view-in-github",
        "colab_type": "text"
      },
      "source": [
        "<a href=\"https://colab.research.google.com/github/dbtjr1103/Basic_practice/blob/main/addMetaData.ipynb\" target=\"_parent\"><img src=\"https://colab.research.google.com/assets/colab-badge.svg\" alt=\"Open In Colab\"/></a>"
      ]
    },
    {
      "source": [
        "# TFlite 모델에 메타데이터 추가하기"
      ],
      "cell_type": "markdown",
      "metadata": {
        "id": "AdyBCfmBv-I3"
      }
    },
    {
      "cell_type": "code",
      "execution_count": null,
      "metadata": {
        "colab": {
          "base_uri": "https://localhost:8080/"
        },
        "id": "Js3lmvLQv-I7",
        "outputId": "14f7e63c-a144-4bef-e347-15175eb945b7"
      },
      "outputs": [
        {
          "output_type": "stream",
          "name": "stdout",
          "text": [
            "Looking in indexes: https://pypi.org/simple, https://us-python.pkg.dev/colab-wheels/public/simple/\n",
            "Collecting tflite-support\n",
            "  Downloading tflite_support-0.4.3-cp38-cp38-manylinux2014_x86_64.whl (60.8 MB)\n",
            "\u001b[2K     \u001b[90m━━━━━━━━━━━━━━━━━━━━━━━━━━━━━━━━━━━━━━━━\u001b[0m \u001b[32m60.8/60.8 MB\u001b[0m \u001b[31m10.3 MB/s\u001b[0m eta \u001b[36m0:00:00\u001b[0m\n",
            "\u001b[?25hRequirement already satisfied: absl-py>=0.7.0 in /usr/local/lib/python3.8/dist-packages (from tflite-support) (1.3.0)\n",
            "Requirement already satisfied: protobuf<4,>=3.18.0 in /usr/local/lib/python3.8/dist-packages (from tflite-support) (3.19.6)\n",
            "Collecting sounddevice>=0.4.4\n",
            "  Downloading sounddevice-0.4.5-py3-none-any.whl (31 kB)\n",
            "Collecting flatbuffers>=2.0\n",
            "  Downloading flatbuffers-23.1.21-py2.py3-none-any.whl (26 kB)\n",
            "Collecting pybind11>=2.6.0\n",
            "  Downloading pybind11-2.10.3-py3-none-any.whl (222 kB)\n",
            "\u001b[2K     \u001b[90m━━━━━━━━━━━━━━━━━━━━━━━━━━━━━━━━━━━━━━\u001b[0m \u001b[32m222.4/222.4 KB\u001b[0m \u001b[31m11.8 MB/s\u001b[0m eta \u001b[36m0:00:00\u001b[0m\n",
            "\u001b[?25hRequirement already satisfied: numpy>=1.20.0 in /usr/local/lib/python3.8/dist-packages (from tflite-support) (1.21.6)\n",
            "Requirement already satisfied: CFFI>=1.0 in /usr/local/lib/python3.8/dist-packages (from sounddevice>=0.4.4->tflite-support) (1.15.1)\n",
            "Requirement already satisfied: pycparser in /usr/local/lib/python3.8/dist-packages (from CFFI>=1.0->sounddevice>=0.4.4->tflite-support) (2.21)\n",
            "Installing collected packages: flatbuffers, pybind11, sounddevice, tflite-support\n",
            "  Attempting uninstall: flatbuffers\n",
            "    Found existing installation: flatbuffers 1.12\n",
            "    Uninstalling flatbuffers-1.12:\n",
            "      Successfully uninstalled flatbuffers-1.12\n",
            "\u001b[31mERROR: pip's dependency resolver does not currently take into account all the packages that are installed. This behaviour is the source of the following dependency conflicts.\n",
            "tensorflow 2.9.2 requires flatbuffers<2,>=1.12, but you have flatbuffers 23.1.21 which is incompatible.\u001b[0m\u001b[31m\n",
            "\u001b[0mSuccessfully installed flatbuffers-23.1.21 pybind11-2.10.3 sounddevice-0.4.5 tflite-support-0.4.3\n"
          ]
        }
      ],
      "source": [
        "# 메타 데이터 도구 패키기 설치\n",
        "!pip install tflite-support"
      ]
    },
    {
      "cell_type": "code",
      "execution_count": null,
      "metadata": {
        "id": "Lci3FQO6v-I9"
      },
      "outputs": [],
      "source": [
        "from tflite_support import flatbuffers\n",
        "from tflite_support import metadata as _metadata\n",
        "from tflite_support import metadata_schema_py_generated as _metadata_fb"
      ]
    },
    {
      "cell_type": "code",
      "execution_count": null,
      "metadata": {
        "id": "9XG3UjL_v-I-"
      },
      "outputs": [],
      "source": [
        "\"\"\" ... \"\"\"\n",
        "\"\"\"Creates the metadata for an image classifier.\"\"\"\n",
        "\n",
        "# Creates model info.\n",
        "model_meta = _metadata_fb.ModelMetadataT()\n",
        "model_meta.name = \"yoloV5\"\n",
        "model_meta.description = (\"coco80\")\n",
        "model_meta.version = \"v1\"\n",
        "model_meta.author = \"ysj\"\n",
        "model_meta.license = (\"Apache License. Version 2.0 \"\n",
        "                      \"http://www.apache.org/licenses/LICENSE-2.0.\")\n"
      ]
    },
    {
      "cell_type": "code",
      "execution_count": null,
      "metadata": {
        "id": "N-Opc2m1v-I-"
      },
      "outputs": [],
      "source": [
        "# Creates input info.\n",
        "input_meta = _metadata_fb.TensorMetadataT()\n",
        "input_meta.name = \"image\"\n",
        "input_meta.content = _metadata_fb.ContentT()\n",
        "input_meta.content.contentProperties = _metadata_fb.ImagePropertiesT()\n",
        "input_meta.content.contentProperties.colorSpace = (\n",
        "    _metadata_fb.ColorSpaceType.RGB)\n",
        "input_meta.content.contentPropertiesType = (\n",
        "    _metadata_fb.ContentProperties.ImageProperties)\n",
        "input_normalization = _metadata_fb.ProcessUnitT()\n",
        "input_normalization.optionsType = (\n",
        "    _metadata_fb.ProcessUnitOptions.NormalizationOptions)\n",
        "input_normalization.options = _metadata_fb.NormalizationOptionsT()\n",
        "input_normalization.options.mean = [127.5]\n",
        "input_normalization.options.std = [127.5]\n",
        "input_meta.processUnits = [input_normalization]\n",
        "input_stats = _metadata_fb.StatsT()\n",
        "input_stats.max = [255]\n",
        "input_stats.min = [0]\n",
        "input_meta.stats = input_stats"
      ]
    },
    {
      "cell_type": "code",
      "execution_count": null,
      "metadata": {
        "id": "qyq7cZdcv-I_"
      },
      "outputs": [],
      "source": [
        "# Creates outputs info.\n",
        "output_location_meta = _metadata_fb.TensorMetadataT()\n",
        "output_location_meta.name = \"location\"\n",
        "output_location_meta.description = \"The locations of the detected boxes.\"\n",
        "output_location_meta.content = _metadata_fb.ContentT()\n",
        "output_location_meta.content.contentPropertiesType = (\n",
        "    _metadata_fb.ContentProperties.BoundingBoxProperties)\n",
        "output_location_meta.content.contentProperties = (\n",
        "    _metadata_fb.BoundingBoxPropertiesT())\n",
        "output_location_meta.content.contentProperties.index = [1, 0, 3, 2]\n",
        "output_location_meta.content.contentProperties.type = (\n",
        "    _metadata_fb.BoundingBoxType.BOUNDARIES)\n",
        "output_location_meta.content.contentProperties.coordinateType = (\n",
        "    _metadata_fb.CoordinateType.RATIO)\n",
        "output_location_meta.content.range = _metadata_fb.ValueRangeT()\n",
        "output_location_meta.content.range.min = 2\n",
        "output_location_meta.content.range.max = 2\n",
        "output_class_meta = _metadata_fb.TensorMetadataT()\n",
        "output_class_meta.name = \"category\"\n",
        "output_class_meta.description = \"The categories of the detected boxes.\"\n",
        "output_class_meta.content = _metadata_fb.ContentT()\n",
        "output_class_meta.content.contentPropertiesType = (\n",
        "    _metadata_fb.ContentProperties.FeatureProperties)\n",
        "output_class_meta.content.contentProperties = (\n",
        "    _metadata_fb.FeaturePropertiesT())\n",
        "output_class_meta.content.range = _metadata_fb.ValueRangeT()\n",
        "output_class_meta.content.range.min = 2\n",
        "output_class_meta.content.range.max = 2\n",
        "label_file = _metadata_fb.AssociatedFileT()\n",
        "label_file.name = 'label.txt'\n",
        "label_file.description = \"Label of objects that this model can recognize.\"\n",
        "label_file.type = _metadata_fb.AssociatedFileType.TENSOR_VALUE_LABELS\n",
        "output_class_meta.associatedFiles = [label_file]\n",
        "output_score_meta = _metadata_fb.TensorMetadataT()\n",
        "output_score_meta.name = \"score\"\n",
        "output_score_meta.description = \"The scores of the detected boxes.\"\n",
        "output_score_meta.content = _metadata_fb.ContentT()\n",
        "output_score_meta.content.contentPropertiesType = (\n",
        "    _metadata_fb.ContentProperties.FeatureProperties)\n",
        "output_score_meta.content.contentProperties = (\n",
        "    _metadata_fb.FeaturePropertiesT())\n",
        "output_score_meta.content.range = _metadata_fb.ValueRangeT()\n",
        "output_score_meta.content.range.min = 2\n",
        "output_score_meta.content.range.max = 2\n",
        "output_number_meta = _metadata_fb.TensorMetadataT()\n",
        "output_number_meta.name = \"number of detections\"\n",
        "output_number_meta.description = \"The number of the detected boxes.\"\n",
        "output_number_meta.content = _metadata_fb.ContentT()\n",
        "output_number_meta.content.contentPropertiesType = (\n",
        "    _metadata_fb.ContentProperties.FeatureProperties)\n",
        "output_number_meta.content.contentProperties = (\n",
        "    _metadata_fb.FeaturePropertiesT())"
      ]
    },
    {
      "cell_type": "code",
      "execution_count": null,
      "metadata": {
        "id": "sjw8Nds8v-JA"
      },
      "outputs": [],
      "source": [
        "group = _metadata_fb.TensorGroupT()\n",
        "group.name = \"detection result\"\n",
        "group.tensorNames = [\n",
        "    output_location_meta.name, output_class_meta.name,\n",
        "    output_score_meta.name\n",
        "]\n",
        "subgraph = _metadata_fb.SubGraphMetadataT()\n",
        "subgraph.inputTensorMetadata = [input_meta]\n",
        "subgraph.outputTensorMetadata = [\n",
        "    output_location_meta, output_class_meta, output_score_meta,\n",
        "    output_number_meta\n",
        "]\n",
        "subgraph.outputTensorGroups = [group]\n",
        "model_meta.subgraphMetadata = [subgraph]\n",
        "b = flatbuffers.Builder(0)\n",
        "b.Finish(\n",
        "    model_meta.Pack(b),\n",
        "    _metadata.MetadataPopulator.METADATA_FILE_IDENTIFIER)\n",
        "metadta_buf = b.Output()"
      ]
    },
    {
      "cell_type": "code",
      "execution_count": null,
      "metadata": {
        "colab": {
          "base_uri": "https://localhost:8080/",
          "height": 405
        },
        "id": "huabjG1zv-JB",
        "outputId": "5a27c676-bc27-4642-bfb0-2cb710b03ce2"
      },
      "outputs": [
        {
          "output_type": "error",
          "ename": "ValueError",
          "evalue": "ignored",
          "traceback": [
            "\u001b[0;31m---------------------------------------------------------------------------\u001b[0m",
            "\u001b[0;31mValueError\u001b[0m                                Traceback (most recent call last)",
            "\u001b[0;32m<ipython-input-12-e7ca60ac389a>\u001b[0m in \u001b[0;36m<module>\u001b[0;34m\u001b[0m\n\u001b[1;32m      1\u001b[0m \u001b[0mpopulator\u001b[0m \u001b[0;34m=\u001b[0m \u001b[0m_metadata\u001b[0m\u001b[0;34m.\u001b[0m\u001b[0mMetadataPopulator\u001b[0m\u001b[0;34m.\u001b[0m\u001b[0mwith_model_file\u001b[0m\u001b[0;34m(\u001b[0m\u001b[0;34m\"yolov5n-fp16.tflite\"\u001b[0m\u001b[0;34m)\u001b[0m\u001b[0;34m\u001b[0m\u001b[0;34m\u001b[0m\u001b[0m\n\u001b[0;32m----> 2\u001b[0;31m \u001b[0mpopulator\u001b[0m\u001b[0;34m.\u001b[0m\u001b[0mload_metadata_buffer\u001b[0m\u001b[0;34m(\u001b[0m\u001b[0mmetadta_buf\u001b[0m\u001b[0;34m)\u001b[0m\u001b[0;34m\u001b[0m\u001b[0;34m\u001b[0m\u001b[0m\n\u001b[0m\u001b[1;32m      3\u001b[0m \u001b[0mpopulator\u001b[0m\u001b[0;34m.\u001b[0m\u001b[0mload_associated_files\u001b[0m\u001b[0;34m(\u001b[0m\u001b[0;34m[\u001b[0m\u001b[0;34m\"label.txt\"\u001b[0m\u001b[0;34m]\u001b[0m\u001b[0;34m)\u001b[0m\u001b[0;34m\u001b[0m\u001b[0;34m\u001b[0m\u001b[0m\n\u001b[1;32m      4\u001b[0m \u001b[0mpopulator\u001b[0m\u001b[0;34m.\u001b[0m\u001b[0mpopulate\u001b[0m\u001b[0;34m(\u001b[0m\u001b[0;34m)\u001b[0m\u001b[0;34m\u001b[0m\u001b[0;34m\u001b[0m\u001b[0m\n",
            "\u001b[0;32m/usr/local/lib/python3.8/dist-packages/tensorflow_lite_support/metadata/python/metadata.py\u001b[0m in \u001b[0;36mload_metadata_buffer\u001b[0;34m(self, metadata_buf)\u001b[0m\n\u001b[1;32m    300\u001b[0m       \u001b[0;32mraise\u001b[0m \u001b[0mValueError\u001b[0m\u001b[0;34m(\u001b[0m\u001b[0;34m\"The metadata to be populated is empty.\"\u001b[0m\u001b[0;34m)\u001b[0m\u001b[0;34m\u001b[0m\u001b[0;34m\u001b[0m\u001b[0m\n\u001b[1;32m    301\u001b[0m \u001b[0;34m\u001b[0m\u001b[0m\n\u001b[0;32m--> 302\u001b[0;31m     \u001b[0mself\u001b[0m\u001b[0;34m.\u001b[0m\u001b[0m_validate_metadata\u001b[0m\u001b[0;34m(\u001b[0m\u001b[0mmetadata_buf\u001b[0m\u001b[0;34m)\u001b[0m\u001b[0;34m\u001b[0m\u001b[0;34m\u001b[0m\u001b[0m\n\u001b[0m\u001b[1;32m    303\u001b[0m \u001b[0;34m\u001b[0m\u001b[0m\n\u001b[1;32m    304\u001b[0m     \u001b[0;31m# Gets the minimum metadata parser version of the metadata_buf.\u001b[0m\u001b[0;34m\u001b[0m\u001b[0;34m\u001b[0m\u001b[0;34m\u001b[0m\u001b[0m\n",
            "\u001b[0;32m/usr/local/lib/python3.8/dist-packages/tensorflow_lite_support/metadata/python/metadata.py\u001b[0m in \u001b[0;36m_validate_metadata\u001b[0;34m(self, metadata_buf)\u001b[0m\n\u001b[1;32m    637\u001b[0m         0).OutputTensorMetadataLength()\n\u001b[1;32m    638\u001b[0m     \u001b[0;32mif\u001b[0m \u001b[0mnum_output_tensors\u001b[0m \u001b[0;34m!=\u001b[0m \u001b[0mnum_output_meta\u001b[0m\u001b[0;34m:\u001b[0m\u001b[0;34m\u001b[0m\u001b[0;34m\u001b[0m\u001b[0m\n\u001b[0;32m--> 639\u001b[0;31m       raise ValueError(\n\u001b[0m\u001b[1;32m    640\u001b[0m           \u001b[0;34m\"The number of output tensors ({0}) should match the number of \"\u001b[0m\u001b[0;34m\u001b[0m\u001b[0;34m\u001b[0m\u001b[0m\n\u001b[1;32m    641\u001b[0m           \"output tensor metadata ({1})\".format(num_output_tensors,\n",
            "\u001b[0;31mValueError\u001b[0m: The number of output tensors (1) should match the number of output tensor metadata (4)"
          ]
        }
      ],
      "source": [
        "populator = _metadata.MetadataPopulator.with_model_file(\"yolov5n-fp16.tflite\")\n",
        "populator.load_metadata_buffer(metadta_buf)\n",
        "populator.load_associated_files([\"label.txt\"])\n",
        "populator.populate()"
      ]
    },
    {
      "cell_type": "code",
      "execution_count": null,
      "metadata": {
        "id": "S-U86dLwv-JC",
        "outputId": "7bbc1e74-15ba-49da-d550-6d9e2e624b86"
      },
      "outputs": [
        {
          "output_type": "error",
          "ename": "NameError",
          "evalue": "name 'FLAGS' is not defined",
          "traceback": [
            "\u001b[1;31m---------------------------------------------------------------------------\u001b[0m",
            "\u001b[1;31mNameError\u001b[0m                                 Traceback (most recent call last)",
            "\u001b[1;32m<ipython-input-32-4921736f664e>\u001b[0m in \u001b[0;36m<module>\u001b[1;34m\u001b[0m\n\u001b[0;32m      2\u001b[0m \u001b[1;32mimport\u001b[0m \u001b[0mos\u001b[0m\u001b[1;33m\u001b[0m\u001b[1;33m\u001b[0m\u001b[0m\n\u001b[0;32m      3\u001b[0m \u001b[0mdisplayer\u001b[0m \u001b[1;33m=\u001b[0m \u001b[0m_metadata\u001b[0m\u001b[1;33m.\u001b[0m\u001b[0mMetadataDisplayer\u001b[0m\u001b[1;33m.\u001b[0m\u001b[0mwith_model_file\u001b[0m\u001b[1;33m(\u001b[0m\u001b[1;34m\"C:/Users/lee01/Jupyter_Projects/Safety-Helmet-Wearing-Dataset/ProcessingTfliteDetectionModel/final_model.tflite\"\u001b[0m\u001b[1;33m)\u001b[0m\u001b[1;33m\u001b[0m\u001b[1;33m\u001b[0m\u001b[0m\n\u001b[1;32m----> 4\u001b[1;33m export_json_file = os.path.join(FLAGS.export_directory,\n\u001b[0m\u001b[0;32m      5\u001b[0m                     os.path.splitext(model_basename)[0] + \".json\")\n\u001b[0;32m      6\u001b[0m \u001b[0mjson_file\u001b[0m \u001b[1;33m=\u001b[0m \u001b[0mdisplayer\u001b[0m\u001b[1;33m.\u001b[0m\u001b[0mget_metadata_json\u001b[0m\u001b[1;33m(\u001b[0m\u001b[1;33m)\u001b[0m\u001b[1;33m\u001b[0m\u001b[1;33m\u001b[0m\u001b[0m\n",
            "\u001b[1;31mNameError\u001b[0m: name 'FLAGS' is not defined"
          ]
        }
      ],
      "source": [
        "#메타 데이터 시각화\n",
        "import os\n",
        "displayer = _metadata.MetadataDisplayer.with_model_file(\"C:/Users/lee01/Jupyter_Projects/Safety-Helmet-Wearing-Dataset/ProcessingTfliteDetectionModel/final_model.tflite\")\n",
        "export_json_file = os.path.join(FLAGS.export_directory,\n",
        "                    os.path.splitext(model_basename)[0] + \".json\")\n",
        "json_file = displayer.get_metadata_json()\n",
        "# Optional: write out the metadata as a json file\n",
        "with open(export_json_file, \"w\") as f:\n",
        "  f.write(json_file)"
      ]
    },
    {
      "cell_type": "code",
      "execution_count": null,
      "metadata": {
        "id": "wBfod4Nhv-JD"
      },
      "outputs": [],
      "source": []
    },
    {
      "cell_type": "markdown",
      "source": [
        "# yolov5\n"
      ],
      "metadata": {
        "id": "-IVGF8mJxNhs"
      }
    },
    {
      "cell_type": "code",
      "source": [
        "!git clone https://github.com/ultralytics/yolov5  # clone\n",
        "%cd yolov5\n",
        "!pip install -r requirements.txt  # install"
      ],
      "metadata": {
        "colab": {
          "base_uri": "https://localhost:8080/"
        },
        "id": "EuIU2JbixOib",
        "outputId": "f1127633-7a30-43a2-b893-5b38451778ae"
      },
      "execution_count": null,
      "outputs": [
        {
          "output_type": "stream",
          "name": "stdout",
          "text": [
            "Cloning into 'yolov5'...\n",
            "remote: Enumerating objects: 15002, done.\u001b[K\n",
            "remote: Counting objects: 100% (7/7), done.\u001b[K\n",
            "remote: Compressing objects: 100% (6/6), done.\u001b[K\n",
            "remote: Total 15002 (delta 1), reused 3 (delta 1), pack-reused 14995\u001b[K\n",
            "Receiving objects: 100% (15002/15002), 14.09 MiB | 26.97 MiB/s, done.\n",
            "Resolving deltas: 100% (10281/10281), done.\n",
            "/content/yolov5\n",
            "Looking in indexes: https://pypi.org/simple, https://us-python.pkg.dev/colab-wheels/public/simple/\n",
            "Collecting gitpython\n",
            "  Downloading GitPython-3.1.30-py3-none-any.whl (184 kB)\n",
            "\u001b[2K     \u001b[90m━━━━━━━━━━━━━━━━━━━━━━━━━━━━━━━━━━━━━━\u001b[0m \u001b[32m184.0/184.0 KB\u001b[0m \u001b[31m10.4 MB/s\u001b[0m eta \u001b[36m0:00:00\u001b[0m\n",
            "\u001b[?25hRequirement already satisfied: ipython in /usr/local/lib/python3.8/dist-packages (from -r requirements.txt (line 6)) (7.9.0)\n",
            "Requirement already satisfied: matplotlib>=3.2.2 in /usr/local/lib/python3.8/dist-packages (from -r requirements.txt (line 7)) (3.2.2)\n",
            "Requirement already satisfied: numpy>=1.18.5 in /usr/local/lib/python3.8/dist-packages (from -r requirements.txt (line 8)) (1.21.6)\n",
            "Requirement already satisfied: opencv-python>=4.1.1 in /usr/local/lib/python3.8/dist-packages (from -r requirements.txt (line 9)) (4.6.0.66)\n",
            "Requirement already satisfied: Pillow>=7.1.2 in /usr/local/lib/python3.8/dist-packages (from -r requirements.txt (line 10)) (7.1.2)\n",
            "Requirement already satisfied: psutil in /usr/local/lib/python3.8/dist-packages (from -r requirements.txt (line 11)) (5.4.8)\n",
            "Requirement already satisfied: PyYAML>=5.3.1 in /usr/local/lib/python3.8/dist-packages (from -r requirements.txt (line 12)) (6.0)\n",
            "Requirement already satisfied: requests>=2.23.0 in /usr/local/lib/python3.8/dist-packages (from -r requirements.txt (line 13)) (2.25.1)\n",
            "Requirement already satisfied: scipy>=1.4.1 in /usr/local/lib/python3.8/dist-packages (from -r requirements.txt (line 14)) (1.7.3)\n",
            "Collecting thop>=0.1.1\n",
            "  Downloading thop-0.1.1.post2209072238-py3-none-any.whl (15 kB)\n",
            "Requirement already satisfied: torch>=1.7.0 in /usr/local/lib/python3.8/dist-packages (from -r requirements.txt (line 16)) (1.13.1+cu116)\n",
            "Requirement already satisfied: torchvision>=0.8.1 in /usr/local/lib/python3.8/dist-packages (from -r requirements.txt (line 17)) (0.14.1+cu116)\n",
            "Requirement already satisfied: tqdm>=4.64.0 in /usr/local/lib/python3.8/dist-packages (from -r requirements.txt (line 18)) (4.64.1)\n",
            "Requirement already satisfied: tensorboard>=2.4.1 in /usr/local/lib/python3.8/dist-packages (from -r requirements.txt (line 22)) (2.9.1)\n",
            "Requirement already satisfied: pandas>=1.1.4 in /usr/local/lib/python3.8/dist-packages (from -r requirements.txt (line 27)) (1.3.5)\n",
            "Requirement already satisfied: seaborn>=0.11.0 in /usr/local/lib/python3.8/dist-packages (from -r requirements.txt (line 28)) (0.11.2)\n",
            "Collecting gitdb<5,>=4.0.1\n",
            "  Downloading gitdb-4.0.10-py3-none-any.whl (62 kB)\n",
            "\u001b[2K     \u001b[90m━━━━━━━━━━━━━━━━━━━━━━━━━━━━━━━━━━━━━━━━\u001b[0m \u001b[32m62.7/62.7 KB\u001b[0m \u001b[31m8.6 MB/s\u001b[0m eta \u001b[36m0:00:00\u001b[0m\n",
            "\u001b[?25hCollecting jedi>=0.10\n",
            "  Downloading jedi-0.18.2-py2.py3-none-any.whl (1.6 MB)\n",
            "\u001b[2K     \u001b[90m━━━━━━━━━━━━━━━━━━━━━━━━━━━━━━━━━━━━━━━━\u001b[0m \u001b[32m1.6/1.6 MB\u001b[0m \u001b[31m56.4 MB/s\u001b[0m eta \u001b[36m0:00:00\u001b[0m\n",
            "\u001b[?25hRequirement already satisfied: backcall in /usr/local/lib/python3.8/dist-packages (from ipython->-r requirements.txt (line 6)) (0.2.0)\n",
            "Requirement already satisfied: traitlets>=4.2 in /usr/local/lib/python3.8/dist-packages (from ipython->-r requirements.txt (line 6)) (5.7.1)\n",
            "Requirement already satisfied: pygments in /usr/local/lib/python3.8/dist-packages (from ipython->-r requirements.txt (line 6)) (2.6.1)\n",
            "Requirement already satisfied: pickleshare in /usr/local/lib/python3.8/dist-packages (from ipython->-r requirements.txt (line 6)) (0.7.5)\n",
            "Requirement already satisfied: setuptools>=18.5 in /usr/local/lib/python3.8/dist-packages (from ipython->-r requirements.txt (line 6)) (57.4.0)\n",
            "Requirement already satisfied: prompt-toolkit<2.1.0,>=2.0.0 in /usr/local/lib/python3.8/dist-packages (from ipython->-r requirements.txt (line 6)) (2.0.10)\n",
            "Requirement already satisfied: decorator in /usr/local/lib/python3.8/dist-packages (from ipython->-r requirements.txt (line 6)) (4.4.2)\n",
            "Requirement already satisfied: pexpect in /usr/local/lib/python3.8/dist-packages (from ipython->-r requirements.txt (line 6)) (4.8.0)\n",
            "Requirement already satisfied: python-dateutil>=2.1 in /usr/local/lib/python3.8/dist-packages (from matplotlib>=3.2.2->-r requirements.txt (line 7)) (2.8.2)\n",
            "Requirement already satisfied: cycler>=0.10 in /usr/local/lib/python3.8/dist-packages (from matplotlib>=3.2.2->-r requirements.txt (line 7)) (0.11.0)\n",
            "Requirement already satisfied: pyparsing!=2.0.4,!=2.1.2,!=2.1.6,>=2.0.1 in /usr/local/lib/python3.8/dist-packages (from matplotlib>=3.2.2->-r requirements.txt (line 7)) (3.0.9)\n",
            "Requirement already satisfied: kiwisolver>=1.0.1 in /usr/local/lib/python3.8/dist-packages (from matplotlib>=3.2.2->-r requirements.txt (line 7)) (1.4.4)\n",
            "Requirement already satisfied: idna<3,>=2.5 in /usr/local/lib/python3.8/dist-packages (from requests>=2.23.0->-r requirements.txt (line 13)) (2.10)\n",
            "Requirement already satisfied: certifi>=2017.4.17 in /usr/local/lib/python3.8/dist-packages (from requests>=2.23.0->-r requirements.txt (line 13)) (2022.12.7)\n",
            "Requirement already satisfied: urllib3<1.27,>=1.21.1 in /usr/local/lib/python3.8/dist-packages (from requests>=2.23.0->-r requirements.txt (line 13)) (1.24.3)\n",
            "Requirement already satisfied: chardet<5,>=3.0.2 in /usr/local/lib/python3.8/dist-packages (from requests>=2.23.0->-r requirements.txt (line 13)) (4.0.0)\n",
            "Requirement already satisfied: typing-extensions in /usr/local/lib/python3.8/dist-packages (from torch>=1.7.0->-r requirements.txt (line 16)) (4.4.0)\n",
            "Requirement already satisfied: tensorboard-data-server<0.7.0,>=0.6.0 in /usr/local/lib/python3.8/dist-packages (from tensorboard>=2.4.1->-r requirements.txt (line 22)) (0.6.1)\n",
            "Requirement already satisfied: absl-py>=0.4 in /usr/local/lib/python3.8/dist-packages (from tensorboard>=2.4.1->-r requirements.txt (line 22)) (1.3.0)\n",
            "Requirement already satisfied: google-auth-oauthlib<0.5,>=0.4.1 in /usr/local/lib/python3.8/dist-packages (from tensorboard>=2.4.1->-r requirements.txt (line 22)) (0.4.6)\n",
            "Requirement already satisfied: wheel>=0.26 in /usr/local/lib/python3.8/dist-packages (from tensorboard>=2.4.1->-r requirements.txt (line 22)) (0.38.4)\n",
            "Requirement already satisfied: google-auth<3,>=1.6.3 in /usr/local/lib/python3.8/dist-packages (from tensorboard>=2.4.1->-r requirements.txt (line 22)) (2.16.0)\n",
            "Requirement already satisfied: protobuf<3.20,>=3.9.2 in /usr/local/lib/python3.8/dist-packages (from tensorboard>=2.4.1->-r requirements.txt (line 22)) (3.19.6)\n",
            "Requirement already satisfied: grpcio>=1.24.3 in /usr/local/lib/python3.8/dist-packages (from tensorboard>=2.4.1->-r requirements.txt (line 22)) (1.51.1)\n",
            "Requirement already satisfied: markdown>=2.6.8 in /usr/local/lib/python3.8/dist-packages (from tensorboard>=2.4.1->-r requirements.txt (line 22)) (3.4.1)\n",
            "Requirement already satisfied: tensorboard-plugin-wit>=1.6.0 in /usr/local/lib/python3.8/dist-packages (from tensorboard>=2.4.1->-r requirements.txt (line 22)) (1.8.1)\n",
            "Requirement already satisfied: werkzeug>=1.0.1 in /usr/local/lib/python3.8/dist-packages (from tensorboard>=2.4.1->-r requirements.txt (line 22)) (1.0.1)\n",
            "Requirement already satisfied: pytz>=2017.3 in /usr/local/lib/python3.8/dist-packages (from pandas>=1.1.4->-r requirements.txt (line 27)) (2022.7)\n",
            "Collecting smmap<6,>=3.0.1\n",
            "  Downloading smmap-5.0.0-py3-none-any.whl (24 kB)\n",
            "Requirement already satisfied: pyasn1-modules>=0.2.1 in /usr/local/lib/python3.8/dist-packages (from google-auth<3,>=1.6.3->tensorboard>=2.4.1->-r requirements.txt (line 22)) (0.2.8)\n",
            "Requirement already satisfied: cachetools<6.0,>=2.0.0 in /usr/local/lib/python3.8/dist-packages (from google-auth<3,>=1.6.3->tensorboard>=2.4.1->-r requirements.txt (line 22)) (5.2.1)\n",
            "Requirement already satisfied: six>=1.9.0 in /usr/local/lib/python3.8/dist-packages (from google-auth<3,>=1.6.3->tensorboard>=2.4.1->-r requirements.txt (line 22)) (1.15.0)\n",
            "Requirement already satisfied: rsa<5,>=3.1.4 in /usr/local/lib/python3.8/dist-packages (from google-auth<3,>=1.6.3->tensorboard>=2.4.1->-r requirements.txt (line 22)) (4.9)\n",
            "Requirement already satisfied: requests-oauthlib>=0.7.0 in /usr/local/lib/python3.8/dist-packages (from google-auth-oauthlib<0.5,>=0.4.1->tensorboard>=2.4.1->-r requirements.txt (line 22)) (1.3.1)\n",
            "Requirement already satisfied: parso<0.9.0,>=0.8.0 in /usr/local/lib/python3.8/dist-packages (from jedi>=0.10->ipython->-r requirements.txt (line 6)) (0.8.3)\n",
            "Requirement already satisfied: importlib-metadata>=4.4 in /usr/local/lib/python3.8/dist-packages (from markdown>=2.6.8->tensorboard>=2.4.1->-r requirements.txt (line 22)) (6.0.0)\n",
            "Requirement already satisfied: wcwidth in /usr/local/lib/python3.8/dist-packages (from prompt-toolkit<2.1.0,>=2.0.0->ipython->-r requirements.txt (line 6)) (0.2.5)\n",
            "Requirement already satisfied: ptyprocess>=0.5 in /usr/local/lib/python3.8/dist-packages (from pexpect->ipython->-r requirements.txt (line 6)) (0.7.0)\n",
            "Requirement already satisfied: zipp>=0.5 in /usr/local/lib/python3.8/dist-packages (from importlib-metadata>=4.4->markdown>=2.6.8->tensorboard>=2.4.1->-r requirements.txt (line 22)) (3.11.0)\n",
            "Requirement already satisfied: pyasn1<0.5.0,>=0.4.6 in /usr/local/lib/python3.8/dist-packages (from pyasn1-modules>=0.2.1->google-auth<3,>=1.6.3->tensorboard>=2.4.1->-r requirements.txt (line 22)) (0.4.8)\n",
            "Requirement already satisfied: oauthlib>=3.0.0 in /usr/local/lib/python3.8/dist-packages (from requests-oauthlib>=0.7.0->google-auth-oauthlib<0.5,>=0.4.1->tensorboard>=2.4.1->-r requirements.txt (line 22)) (3.2.2)\n",
            "Installing collected packages: smmap, jedi, thop, gitdb, gitpython\n",
            "Successfully installed gitdb-4.0.10 gitpython-3.1.30 jedi-0.18.2 smmap-5.0.0 thop-0.1.1.post2209072238\n"
          ]
        }
      ]
    },
    {
      "cell_type": "code",
      "source": [
        "!python export.py --weights yolov5n.pt --include tflite"
      ],
      "metadata": {
        "colab": {
          "base_uri": "https://localhost:8080/"
        },
        "id": "Kx7ptSFuxVMm",
        "outputId": "2cb17c96-a291-45c0-dcae-82d519811bc1"
      },
      "execution_count": null,
      "outputs": [
        {
          "output_type": "stream",
          "name": "stdout",
          "text": [
            "\u001b[34m\u001b[1mexport: \u001b[0mdata=data/coco128.yaml, weights=['yolov5n.pt'], imgsz=[640, 640], batch_size=1, device=cpu, half=False, inplace=False, keras=False, optimize=False, int8=False, dynamic=False, simplify=False, opset=17, verbose=False, workspace=4, nms=False, agnostic_nms=False, topk_per_class=100, topk_all=100, iou_thres=0.45, conf_thres=0.25, include=['tflite']\n",
            "YOLOv5 🚀 v7.0-72-g064365d Python-3.8.10 torch-1.13.1+cu116 CPU\n",
            "\n",
            "Downloading https://github.com/ultralytics/yolov5/releases/download/v7.0/yolov5n.pt to yolov5n.pt...\n",
            "100% 3.87M/3.87M [00:00<00:00, 25.6MB/s]\n",
            "\n",
            "Fusing layers... \n",
            "YOLOv5n summary: 213 layers, 1867405 parameters, 0 gradients\n",
            "\n",
            "\u001b[34m\u001b[1mPyTorch:\u001b[0m starting from yolov5n.pt with output shape (1, 25200, 85) (3.9 MB)\n",
            "\n",
            "\u001b[34m\u001b[1mTensorFlow SavedModel:\u001b[0m starting export with tensorflow 2.9.2...\n",
            "\n",
            "                 from  n    params  module                                  arguments                     \n",
            "2023-01-26 01:53:31.366400: E tensorflow/stream_executor/cuda/cuda_driver.cc:271] failed call to cuInit: CUDA_ERROR_NO_DEVICE: no CUDA-capable device is detected\n",
            "  0                -1  1      1760  models.common.Conv                      [3, 16, 6, 2, 2]              \n",
            "  1                -1  1      4672  models.common.Conv                      [16, 32, 3, 2]                \n",
            "  2                -1  1      4800  models.common.C3                        [32, 32, 1]                   \n",
            "  3                -1  1     18560  models.common.Conv                      [32, 64, 3, 2]                \n",
            "  4                -1  1     29184  models.common.C3                        [64, 64, 2]                   \n",
            "  5                -1  1     73984  models.common.Conv                      [64, 128, 3, 2]               \n",
            "  6                -1  1    156928  models.common.C3                        [128, 128, 3]                 \n",
            "  7                -1  1    295424  models.common.Conv                      [128, 256, 3, 2]              \n",
            "  8                -1  1    296448  models.common.C3                        [256, 256, 1]                 \n",
            "  9                -1  1    164608  models.common.SPPF                      [256, 256, 5]                 \n",
            " 10                -1  1     33024  models.common.Conv                      [256, 128, 1, 1]              \n",
            " 11                -1  1         0  torch.nn.modules.upsampling.Upsample    [None, 2, 'nearest']          \n",
            " 12           [-1, 6]  1         0  models.common.Concat                    [1]                           \n",
            " 13                -1  1     90880  models.common.C3                        [256, 128, 1, False]          \n",
            " 14                -1  1      8320  models.common.Conv                      [128, 64, 1, 1]               \n",
            " 15                -1  1         0  torch.nn.modules.upsampling.Upsample    [None, 2, 'nearest']          \n",
            " 16           [-1, 4]  1         0  models.common.Concat                    [1]                           \n",
            " 17                -1  1     22912  models.common.C3                        [128, 64, 1, False]           \n",
            " 18                -1  1     36992  models.common.Conv                      [64, 64, 3, 2]                \n",
            " 19          [-1, 14]  1         0  models.common.Concat                    [1]                           \n",
            " 20                -1  1     74496  models.common.C3                        [128, 128, 1, False]          \n",
            " 21                -1  1    147712  models.common.Conv                      [128, 128, 3, 2]              \n",
            " 22          [-1, 10]  1         0  models.common.Concat                    [1]                           \n",
            " 23                -1  1    296448  models.common.C3                        [256, 256, 1, False]          \n",
            " 24      [17, 20, 23]  1    115005  models.yolo.Detect                      [80, [[10, 13, 16, 30, 33, 23], [30, 61, 62, 45, 59, 119], [116, 90, 156, 198, 373, 326]], [64, 128, 256], [640, 640]]\n",
            "Model: \"model\"\n",
            "__________________________________________________________________________________________________\n",
            " Layer (type)                   Output Shape         Param #     Connected to                     \n",
            "==================================================================================================\n",
            " input_1 (InputLayer)           [(1, 640, 640, 3)]   0           []                               \n",
            "                                                                                                  \n",
            " tf_conv (TFConv)               (1, 320, 320, 16)    1744        ['input_1[0][0]']                \n",
            "                                                                                                  \n",
            " tf_conv_1 (TFConv)             (1, 160, 160, 32)    4640        ['tf_conv[0][0]']                \n",
            "                                                                                                  \n",
            " tfc3 (TFC3)                    (1, 160, 160, 32)    4704        ['tf_conv_1[0][0]']              \n",
            "                                                                                                  \n",
            " tf_conv_7 (TFConv)             (1, 80, 80, 64)      18496       ['tfc3[0][0]']                   \n",
            "                                                                                                  \n",
            " tfc3_1 (TFC3)                  (1, 80, 80, 64)      28928       ['tf_conv_7[0][0]']              \n",
            "                                                                                                  \n",
            " tf_conv_15 (TFConv)            (1, 40, 40, 128)     73856       ['tfc3_1[0][0]']                 \n",
            "                                                                                                  \n",
            " tfc3_2 (TFC3)                  (1, 40, 40, 128)     156288      ['tf_conv_15[0][0]']             \n",
            "                                                                                                  \n",
            " tf_conv_25 (TFConv)            (1, 20, 20, 256)     295168      ['tfc3_2[0][0]']                 \n",
            "                                                                                                  \n",
            " tfc3_3 (TFC3)                  (1, 20, 20, 256)     295680      ['tf_conv_25[0][0]']             \n",
            "                                                                                                  \n",
            " tfsppf (TFSPPF)                (1, 20, 20, 256)     164224      ['tfc3_3[0][0]']                 \n",
            "                                                                                                  \n",
            " tf_conv_33 (TFConv)            (1, 20, 20, 128)     32896       ['tfsppf[0][0]']                 \n",
            "                                                                                                  \n",
            " tf_upsample (TFUpsample)       (1, 40, 40, 128)     0           ['tf_conv_33[0][0]']             \n",
            "                                                                                                  \n",
            " tf_concat (TFConcat)           (1, 40, 40, 256)     0           ['tf_upsample[0][0]',            \n",
            "                                                                  'tfc3_2[0][0]']                 \n",
            "                                                                                                  \n",
            " tfc3_4 (TFC3)                  (1, 40, 40, 128)     90496       ['tf_concat[0][0]']              \n",
            "                                                                                                  \n",
            " tf_conv_39 (TFConv)            (1, 40, 40, 64)      8256        ['tfc3_4[0][0]']                 \n",
            "                                                                                                  \n",
            " tf_upsample_1 (TFUpsample)     (1, 80, 80, 64)      0           ['tf_conv_39[0][0]']             \n",
            "                                                                                                  \n",
            " tf_concat_1 (TFConcat)         (1, 80, 80, 128)     0           ['tf_upsample_1[0][0]',          \n",
            "                                                                  'tfc3_1[0][0]']                 \n",
            "                                                                                                  \n",
            " tfc3_5 (TFC3)                  (1, 80, 80, 64)      22720       ['tf_concat_1[0][0]']            \n",
            "                                                                                                  \n",
            " tf_conv_45 (TFConv)            (1, 40, 40, 64)      36928       ['tfc3_5[0][0]']                 \n",
            "                                                                                                  \n",
            " tf_concat_2 (TFConcat)         (1, 40, 40, 128)     0           ['tf_conv_45[0][0]',             \n",
            "                                                                  'tf_conv_39[0][0]']             \n",
            "                                                                                                  \n",
            " tfc3_6 (TFC3)                  (1, 40, 40, 128)     74112       ['tf_concat_2[0][0]']            \n",
            "                                                                                                  \n",
            " tf_conv_51 (TFConv)            (1, 20, 20, 128)     147584      ['tfc3_6[0][0]']                 \n",
            "                                                                                                  \n",
            " tf_concat_3 (TFConcat)         (1, 20, 20, 256)     0           ['tf_conv_51[0][0]',             \n",
            "                                                                  'tf_conv_33[0][0]']             \n",
            "                                                                                                  \n",
            " tfc3_7 (TFC3)                  (1, 20, 20, 256)     295680      ['tf_concat_3[0][0]']            \n",
            "                                                                                                  \n",
            " tf_detect (TFDetect)           ((1, 25200, 85),     115005      ['tfc3_5[0][0]',                 \n",
            "                                )                                 'tfc3_6[0][0]',                 \n",
            "                                                                  'tfc3_7[0][0]']                 \n",
            "                                                                                                  \n",
            "==================================================================================================\n",
            "Total params: 1,867,405\n",
            "Trainable params: 0\n",
            "Non-trainable params: 1,867,405\n",
            "__________________________________________________________________________________________________\n",
            "\u001b[34m\u001b[1mTensorFlow SavedModel:\u001b[0m export success ✅ 7.8s, saved as yolov5n_saved_model (7.4 MB)\n",
            "\n",
            "\u001b[34m\u001b[1mTensorFlow Lite:\u001b[0m starting export with tensorflow 2.9.2...\n",
            "WARNING:absl:Found untraced functions such as tf_conv_2_layer_call_fn, tf_conv_2_layer_call_and_return_conditional_losses, tf_conv_3_layer_call_fn, tf_conv_3_layer_call_and_return_conditional_losses, tf_conv_4_layer_call_fn while saving (showing 5 of 268). These functions will not be directly callable after loading.\n",
            "2023-01-26 01:54:23.501459: W tensorflow/compiler/mlir/lite/python/tf_tfl_flatbuffer_helpers.cc:362] Ignored output_format.\n",
            "2023-01-26 01:54:23.501524: W tensorflow/compiler/mlir/lite/python/tf_tfl_flatbuffer_helpers.cc:365] Ignored drop_control_dependency.\n",
            "Estimated count of arithmetic ops: 5.393 G  ops, equivalently 2.697 G  MACs\n",
            "\u001b[34m\u001b[1mTensorFlow Lite:\u001b[0m export success ✅ 48.8s, saved as yolov5n-fp16.tflite (3.7 MB)\n",
            "\n",
            "Export complete (59.6s)\n",
            "Results saved to \u001b[1m/content/yolov5\u001b[0m\n",
            "Detect:          python detect.py --weights yolov5n-fp16.tflite \n",
            "Validate:        python val.py --weights yolov5n-fp16.tflite \n",
            "PyTorch Hub:     model = torch.hub.load('ultralytics/yolov5', 'custom', 'yolov5n-fp16.tflite')  \n",
            "Visualize:       https://netron.app\n"
          ]
        }
      ]
    },
    {
      "cell_type": "code",
      "source": [
        "# 모델 구조 확인\n",
        "import numpy as np\n",
        "import tensorflow as tf"
      ],
      "metadata": {
        "id": "FcpO2Vutx4a-"
      },
      "execution_count": null,
      "outputs": []
    },
    {
      "cell_type": "code",
      "source": [
        "model = 'yolov8n.tflite'"
      ],
      "metadata": {
        "id": "gl2JCR-cjO4t"
      },
      "execution_count": null,
      "outputs": []
    },
    {
      "cell_type": "code",
      "source": [
        "model.summary()"
      ],
      "metadata": {
        "colab": {
          "base_uri": "https://localhost:8080/",
          "height": 176
        },
        "id": "oXn_mBsRkAUr",
        "outputId": "26f58e19-c935-4368-e4bf-cd6709e6e49a"
      },
      "execution_count": null,
      "outputs": [
        {
          "output_type": "error",
          "ename": "AttributeError",
          "evalue": "ignored",
          "traceback": [
            "\u001b[0;31m---------------------------------------------------------------------------\u001b[0m",
            "\u001b[0;31mAttributeError\u001b[0m                            Traceback (most recent call last)",
            "\u001b[0;32m<ipython-input-3-5f15418b3570>\u001b[0m in \u001b[0;36m<module>\u001b[0;34m\u001b[0m\n\u001b[0;32m----> 1\u001b[0;31m \u001b[0mmodel\u001b[0m\u001b[0;34m.\u001b[0m\u001b[0msummary\u001b[0m\u001b[0;34m(\u001b[0m\u001b[0;34m)\u001b[0m\u001b[0;34m\u001b[0m\u001b[0;34m\u001b[0m\u001b[0m\n\u001b[0m",
            "\u001b[0;31mAttributeError\u001b[0m: 'str' object has no attribute 'summary'"
          ]
        }
      ]
    },
    {
      "cell_type": "code",
      "source": [
        "interpreter = tf.lite.Interpreter(model_path='yolov8n.tflite')\n",
        "interpreter.allocate_tensors()"
      ],
      "metadata": {
        "id": "sDcL-SaOkBG_"
      },
      "execution_count": null,
      "outputs": []
    },
    {
      "cell_type": "code",
      "source": [
        "# Get input and output tensors.\n",
        "input_details = interpreter.get_input_details()\n",
        "output_details = interpreter.get_output_details()"
      ],
      "metadata": {
        "id": "DxhJf4ULkXFi"
      },
      "execution_count": null,
      "outputs": []
    },
    {
      "cell_type": "code",
      "source": [
        "# Test the model on random input data.\n",
        "input_shape = input_details[0]['shape']\n",
        "output_shape = output_details[0]['shape']"
      ],
      "metadata": {
        "id": "isM63r-ykY8T"
      },
      "execution_count": null,
      "outputs": []
    },
    {
      "cell_type": "code",
      "source": [
        "print(input_shape)"
      ],
      "metadata": {
        "colab": {
          "base_uri": "https://localhost:8080/"
        },
        "id": "HU5MbdSrkaey",
        "outputId": "866dae0d-8395-4cec-98a1-72432f6353e6"
      },
      "execution_count": null,
      "outputs": [
        {
          "output_type": "stream",
          "name": "stdout",
          "text": [
            "[  1   3 640 640]\n"
          ]
        }
      ]
    },
    {
      "cell_type": "code",
      "source": [
        "print(input_shape)"
      ],
      "metadata": {
        "colab": {
          "base_uri": "https://localhost:8080/"
        },
        "id": "d7Bh10sHssid",
        "outputId": "a25307f0-41d8-4608-84d4-fcaad92ca8f7"
      },
      "execution_count": null,
      "outputs": [
        {
          "output_type": "stream",
          "name": "stdout",
          "text": [
            "[  1   3 640 640]\n"
          ]
        }
      ]
    },
    {
      "cell_type": "code",
      "source": [
        "input_data = np.array(np.random.random_sample(input_shape), dtype=np.float32)\n",
        "interpreter.set_tensor(input_details[0]['index'], input_data)"
      ],
      "metadata": {
        "id": "cUZhwTqekbrb"
      },
      "execution_count": null,
      "outputs": []
    },
    {
      "cell_type": "code",
      "source": [
        "interpreter.invoke()"
      ],
      "metadata": {
        "id": "fXwDJiT4kc6B"
      },
      "execution_count": null,
      "outputs": []
    },
    {
      "cell_type": "code",
      "source": [
        "# The function `get_tensor()` returns a copy of the tensor data.\n",
        "# Use `tensor()` in order to get a pointer to the tensor.\n",
        "output_data = interpreter.get_tensor(output_details[0]['index'])\n",
        "print(output_data.shape)"
      ],
      "metadata": {
        "colab": {
          "base_uri": "https://localhost:8080/"
        },
        "id": "TpRgVKk-kefj",
        "outputId": "105924be-3680-4452-a07d-56ea919d5678"
      },
      "execution_count": null,
      "outputs": [
        {
          "output_type": "stream",
          "name": "stdout",
          "text": [
            "(1, 103, 8400)\n"
          ]
        }
      ]
    },
    {
      "cell_type": "code",
      "source": [
        "# The function `get_tensor()` returns a copy of the tensor data.\n",
        "# Use `tensor()` in order to get a pointer to the tensor.\n",
        "output_data = interpreter.get_tensor(output_details[0]['index'])\n",
        "print(output_data.shape)"
      ],
      "metadata": {
        "colab": {
          "base_uri": "https://localhost:8080/"
        },
        "id": "OfFIV1GJsuNx",
        "outputId": "85e63174-bc63-4a2b-ffa4-1c4cebe98855"
      },
      "execution_count": null,
      "outputs": [
        {
          "output_type": "stream",
          "name": "stdout",
          "text": [
            "(1, 84, 8400)\n"
          ]
        }
      ]
    },
    {
      "cell_type": "code",
      "source": [
        "pip install ultralytics"
      ],
      "metadata": {
        "colab": {
          "base_uri": "https://localhost:8080/"
        },
        "id": "HNOW8D5Akfw3",
        "outputId": "83da9eb2-be07-42a3-ce70-75b2e0fa2162"
      },
      "execution_count": null,
      "outputs": [
        {
          "output_type": "stream",
          "name": "stdout",
          "text": [
            "Looking in indexes: https://pypi.org/simple, https://us-python.pkg.dev/colab-wheels/public/simple/\n",
            "Requirement already satisfied: ultralytics in /usr/local/lib/python3.8/dist-packages (8.0.21)\n",
            "Requirement already satisfied: PyYAML>=5.3.1 in /usr/local/lib/python3.8/dist-packages (from ultralytics) (6.0)\n",
            "Requirement already satisfied: torchvision>=0.8.1 in /usr/local/lib/python3.8/dist-packages (from ultralytics) (0.14.1+cu116)\n",
            "Requirement already satisfied: Pillow>=7.1.2 in /usr/local/lib/python3.8/dist-packages (from ultralytics) (7.1.2)\n",
            "Requirement already satisfied: torch>=1.7.0 in /usr/local/lib/python3.8/dist-packages (from ultralytics) (1.13.1+cu116)\n",
            "Requirement already satisfied: opencv-python>=4.6.0 in /usr/local/lib/python3.8/dist-packages (from ultralytics) (4.6.0.66)\n",
            "Requirement already satisfied: scipy>=1.4.1 in /usr/local/lib/python3.8/dist-packages (from ultralytics) (1.7.3)\n",
            "Requirement already satisfied: pandas>=1.1.4 in /usr/local/lib/python3.8/dist-packages (from ultralytics) (1.3.5)\n",
            "Requirement already satisfied: requests>=2.23.0 in /usr/local/lib/python3.8/dist-packages (from ultralytics) (2.25.1)\n",
            "Requirement already satisfied: seaborn>=0.11.0 in /usr/local/lib/python3.8/dist-packages (from ultralytics) (0.11.2)\n",
            "Requirement already satisfied: psutil in /usr/local/lib/python3.8/dist-packages (from ultralytics) (5.4.8)\n",
            "Requirement already satisfied: numpy>=1.18.5 in /usr/local/lib/python3.8/dist-packages (from ultralytics) (1.21.6)\n",
            "Requirement already satisfied: thop>=0.1.1 in /usr/local/lib/python3.8/dist-packages (from ultralytics) (0.1.1.post2209072238)\n",
            "Requirement already satisfied: tqdm>=4.64.0 in /usr/local/lib/python3.8/dist-packages (from ultralytics) (4.64.1)\n",
            "Requirement already satisfied: matplotlib>=3.2.2 in /usr/local/lib/python3.8/dist-packages (from ultralytics) (3.2.2)\n",
            "Requirement already satisfied: ipython in /usr/local/lib/python3.8/dist-packages (from ultralytics) (7.9.0)\n",
            "Requirement already satisfied: sentry-sdk in /usr/local/lib/python3.8/dist-packages (from ultralytics) (1.14.0)\n",
            "Requirement already satisfied: tensorboard>=2.4.1 in /usr/local/lib/python3.8/dist-packages (from ultralytics) (2.9.1)\n",
            "Requirement already satisfied: python-dateutil>=2.1 in /usr/local/lib/python3.8/dist-packages (from matplotlib>=3.2.2->ultralytics) (2.8.2)\n",
            "Requirement already satisfied: pyparsing!=2.0.4,!=2.1.2,!=2.1.6,>=2.0.1 in /usr/local/lib/python3.8/dist-packages (from matplotlib>=3.2.2->ultralytics) (3.0.9)\n",
            "Requirement already satisfied: kiwisolver>=1.0.1 in /usr/local/lib/python3.8/dist-packages (from matplotlib>=3.2.2->ultralytics) (1.4.4)\n",
            "Requirement already satisfied: cycler>=0.10 in /usr/local/lib/python3.8/dist-packages (from matplotlib>=3.2.2->ultralytics) (0.11.0)\n",
            "Requirement already satisfied: pytz>=2017.3 in /usr/local/lib/python3.8/dist-packages (from pandas>=1.1.4->ultralytics) (2022.7)\n",
            "Requirement already satisfied: chardet<5,>=3.0.2 in /usr/local/lib/python3.8/dist-packages (from requests>=2.23.0->ultralytics) (4.0.0)\n",
            "Requirement already satisfied: certifi>=2017.4.17 in /usr/local/lib/python3.8/dist-packages (from requests>=2.23.0->ultralytics) (2022.12.7)\n",
            "Requirement already satisfied: urllib3<1.27,>=1.21.1 in /usr/local/lib/python3.8/dist-packages (from requests>=2.23.0->ultralytics) (1.26.14)\n",
            "Requirement already satisfied: idna<3,>=2.5 in /usr/local/lib/python3.8/dist-packages (from requests>=2.23.0->ultralytics) (2.10)\n",
            "Requirement already satisfied: tensorboard-data-server<0.7.0,>=0.6.0 in /usr/local/lib/python3.8/dist-packages (from tensorboard>=2.4.1->ultralytics) (0.6.1)\n",
            "Requirement already satisfied: tensorboard-plugin-wit>=1.6.0 in /usr/local/lib/python3.8/dist-packages (from tensorboard>=2.4.1->ultralytics) (1.8.1)\n",
            "Requirement already satisfied: protobuf<3.20,>=3.9.2 in /usr/local/lib/python3.8/dist-packages (from tensorboard>=2.4.1->ultralytics) (3.19.6)\n",
            "Requirement already satisfied: absl-py>=0.4 in /usr/local/lib/python3.8/dist-packages (from tensorboard>=2.4.1->ultralytics) (1.3.0)\n",
            "Requirement already satisfied: werkzeug>=1.0.1 in /usr/local/lib/python3.8/dist-packages (from tensorboard>=2.4.1->ultralytics) (1.0.1)\n",
            "Requirement already satisfied: markdown>=2.6.8 in /usr/local/lib/python3.8/dist-packages (from tensorboard>=2.4.1->ultralytics) (3.4.1)\n",
            "Requirement already satisfied: google-auth<3,>=1.6.3 in /usr/local/lib/python3.8/dist-packages (from tensorboard>=2.4.1->ultralytics) (2.16.0)\n",
            "Requirement already satisfied: grpcio>=1.24.3 in /usr/local/lib/python3.8/dist-packages (from tensorboard>=2.4.1->ultralytics) (1.51.1)\n",
            "Requirement already satisfied: google-auth-oauthlib<0.5,>=0.4.1 in /usr/local/lib/python3.8/dist-packages (from tensorboard>=2.4.1->ultralytics) (0.4.6)\n",
            "Requirement already satisfied: setuptools>=41.0.0 in /usr/local/lib/python3.8/dist-packages (from tensorboard>=2.4.1->ultralytics) (57.4.0)\n",
            "Requirement already satisfied: wheel>=0.26 in /usr/local/lib/python3.8/dist-packages (from tensorboard>=2.4.1->ultralytics) (0.38.4)\n",
            "Requirement already satisfied: typing-extensions in /usr/local/lib/python3.8/dist-packages (from torch>=1.7.0->ultralytics) (4.4.0)\n",
            "Requirement already satisfied: prompt-toolkit<2.1.0,>=2.0.0 in /usr/local/lib/python3.8/dist-packages (from ipython->ultralytics) (2.0.10)\n",
            "Requirement already satisfied: pickleshare in /usr/local/lib/python3.8/dist-packages (from ipython->ultralytics) (0.7.5)\n",
            "Requirement already satisfied: pexpect in /usr/local/lib/python3.8/dist-packages (from ipython->ultralytics) (4.8.0)\n",
            "Requirement already satisfied: pygments in /usr/local/lib/python3.8/dist-packages (from ipython->ultralytics) (2.6.1)\n",
            "Requirement already satisfied: jedi>=0.10 in /usr/local/lib/python3.8/dist-packages (from ipython->ultralytics) (0.18.2)\n",
            "Requirement already satisfied: backcall in /usr/local/lib/python3.8/dist-packages (from ipython->ultralytics) (0.2.0)\n",
            "Requirement already satisfied: decorator in /usr/local/lib/python3.8/dist-packages (from ipython->ultralytics) (4.4.2)\n",
            "Requirement already satisfied: traitlets>=4.2 in /usr/local/lib/python3.8/dist-packages (from ipython->ultralytics) (5.7.1)\n",
            "Requirement already satisfied: cachetools<6.0,>=2.0.0 in /usr/local/lib/python3.8/dist-packages (from google-auth<3,>=1.6.3->tensorboard>=2.4.1->ultralytics) (5.2.1)\n",
            "Requirement already satisfied: pyasn1-modules>=0.2.1 in /usr/local/lib/python3.8/dist-packages (from google-auth<3,>=1.6.3->tensorboard>=2.4.1->ultralytics) (0.2.8)\n",
            "Requirement already satisfied: rsa<5,>=3.1.4 in /usr/local/lib/python3.8/dist-packages (from google-auth<3,>=1.6.3->tensorboard>=2.4.1->ultralytics) (4.9)\n",
            "Requirement already satisfied: six>=1.9.0 in /usr/local/lib/python3.8/dist-packages (from google-auth<3,>=1.6.3->tensorboard>=2.4.1->ultralytics) (1.15.0)\n",
            "Requirement already satisfied: requests-oauthlib>=0.7.0 in /usr/local/lib/python3.8/dist-packages (from google-auth-oauthlib<0.5,>=0.4.1->tensorboard>=2.4.1->ultralytics) (1.3.1)\n",
            "Requirement already satisfied: parso<0.9.0,>=0.8.0 in /usr/local/lib/python3.8/dist-packages (from jedi>=0.10->ipython->ultralytics) (0.8.3)\n",
            "Requirement already satisfied: importlib-metadata>=4.4 in /usr/local/lib/python3.8/dist-packages (from markdown>=2.6.8->tensorboard>=2.4.1->ultralytics) (6.0.0)\n",
            "Requirement already satisfied: wcwidth in /usr/local/lib/python3.8/dist-packages (from prompt-toolkit<2.1.0,>=2.0.0->ipython->ultralytics) (0.2.5)\n",
            "Requirement already satisfied: ptyprocess>=0.5 in /usr/local/lib/python3.8/dist-packages (from pexpect->ipython->ultralytics) (0.7.0)\n",
            "Requirement already satisfied: zipp>=0.5 in /usr/local/lib/python3.8/dist-packages (from importlib-metadata>=4.4->markdown>=2.6.8->tensorboard>=2.4.1->ultralytics) (3.11.0)\n",
            "Requirement already satisfied: pyasn1<0.5.0,>=0.4.6 in /usr/local/lib/python3.8/dist-packages (from pyasn1-modules>=0.2.1->google-auth<3,>=1.6.3->tensorboard>=2.4.1->ultralytics) (0.4.8)\n",
            "Requirement already satisfied: oauthlib>=3.0.0 in /usr/local/lib/python3.8/dist-packages (from requests-oauthlib>=0.7.0->google-auth-oauthlib<0.5,>=0.4.1->tensorboard>=2.4.1->ultralytics) (3.2.2)\n"
          ]
        }
      ]
    },
    {
      "cell_type": "code",
      "source": [
        "pip install torchviz"
      ],
      "metadata": {
        "colab": {
          "base_uri": "https://localhost:8080/"
        },
        "id": "y9p1VMrhlWSp",
        "outputId": "ddc80b80-531a-4d78-81a8-c8682b68574d"
      },
      "execution_count": null,
      "outputs": [
        {
          "output_type": "stream",
          "name": "stdout",
          "text": [
            "Looking in indexes: https://pypi.org/simple, https://us-python.pkg.dev/colab-wheels/public/simple/\n",
            "Collecting torchviz\n",
            "  Downloading torchviz-0.0.2.tar.gz (4.9 kB)\n",
            "  Preparing metadata (setup.py) ... \u001b[?25l\u001b[?25hdone\n",
            "Requirement already satisfied: torch in /usr/local/lib/python3.8/dist-packages (from torchviz) (1.13.1+cu116)\n",
            "Requirement already satisfied: graphviz in /usr/local/lib/python3.8/dist-packages (from torchviz) (0.10.1)\n",
            "Requirement already satisfied: typing-extensions in /usr/local/lib/python3.8/dist-packages (from torch->torchviz) (4.4.0)\n",
            "Building wheels for collected packages: torchviz\n",
            "  Building wheel for torchviz (setup.py) ... \u001b[?25l\u001b[?25hdone\n",
            "  Created wheel for torchviz: filename=torchviz-0.0.2-py3-none-any.whl size=4151 sha256=5352cb8bcf1a91021875d2a8aecd5cb57783581f08fb6b2cd1f4b7ccb17bfd96\n",
            "  Stored in directory: /root/.cache/pip/wheels/05/7d/1b/8306781244e42ede119edbb053bdcda1c1f424ca226165a417\n",
            "Successfully built torchviz\n",
            "Installing collected packages: torchviz\n",
            "Successfully installed torchviz-0.0.2\n"
          ]
        }
      ]
    },
    {
      "cell_type": "code",
      "source": [
        "from torchviz import make_dot\n",
        "import torch"
      ],
      "metadata": {
        "id": "3QI3z_t_lyQC"
      },
      "execution_count": null,
      "outputs": []
    },
    {
      "cell_type": "code",
      "source": [
        "from ultralytics import YOLO"
      ],
      "metadata": {
        "id": "6eJUmCGKmSvr"
      },
      "execution_count": null,
      "outputs": []
    },
    {
      "cell_type": "code",
      "source": [
        "model = YOLO(\"/content/YOLOv8_best_230126.pt\") "
      ],
      "metadata": {
        "id": "IGNxHxrYl3CL"
      },
      "execution_count": null,
      "outputs": []
    },
    {
      "cell_type": "code",
      "source": [
        "model.fuse() "
      ],
      "metadata": {
        "colab": {
          "base_uri": "https://localhost:8080/"
        },
        "id": "KzY9SqJ3mPUt",
        "outputId": "29431696-4118-45b6-852b-df3779e741e7"
      },
      "execution_count": null,
      "outputs": [
        {
          "output_type": "stream",
          "name": "stderr",
          "text": [
            "Model summary (fused): 168 layers, 3330713 parameters, 0 gradients, 9.6 GFLOPs\n"
          ]
        }
      ]
    },
    {
      "cell_type": "code",
      "source": [
        "model.info(verbose=True)"
      ],
      "metadata": {
        "colab": {
          "base_uri": "https://localhost:8080/"
        },
        "id": "8f3wWPSXmVvE",
        "outputId": "ca3390a3-5c6d-4fc4-f0f0-0d8c632a5bd9"
      },
      "execution_count": null,
      "outputs": [
        {
          "output_type": "stream",
          "name": "stderr",
          "text": [
            "Model summary (fused): 168 layers, 3330713 parameters, 0 gradients, 9.6 GFLOPs\n"
          ]
        },
        {
          "output_type": "stream",
          "name": "stdout",
          "text": [
            "layer                                     name  gradient   parameters                shape         mu      sigma\n",
            "    0                      model.0.conv.weight     False          432        [16, 3, 3, 3]     -0.134       3.25\n",
            "    1                        model.0.conv.bias     False           16                 [16]       1.78       2.13\n",
            "    2                      model.1.conv.weight     False         4608       [32, 16, 3, 3]   -0.00296      0.238\n",
            "    3                        model.1.conv.bias     False           32                 [32]        1.2       2.03\n",
            "    4                  model.2.cv1.conv.weight     False         1024       [32, 32, 1, 1]    -0.0171       0.11\n",
            "    5                    model.2.cv1.conv.bias     False           32                 [32]       1.76        1.1\n",
            "    6                  model.2.cv2.conv.weight     False         1536       [32, 48, 1, 1]   -0.00855      0.122\n",
            "    7                    model.2.cv2.conv.bias     False           32                 [32]       1.62       1.21\n",
            "    8              model.2.m.0.cv1.conv.weight     False         2304       [16, 16, 3, 3]   -0.00637      0.217\n",
            "    9                model.2.m.0.cv1.conv.bias     False           16                 [16]       2.31        2.5\n",
            "   10              model.2.m.0.cv2.conv.weight     False         2304       [16, 16, 3, 3]   -0.00187     0.0899\n",
            "   11                model.2.m.0.cv2.conv.bias     False           16                 [16]       1.11       1.69\n",
            "   12                      model.3.conv.weight     False        18432       [64, 32, 3, 3]   -0.00214       0.05\n",
            "   13                        model.3.conv.bias     False           64                 [64]      0.463       1.27\n",
            "   14                  model.4.cv1.conv.weight     False         4096       [64, 64, 1, 1]   -0.00606      0.192\n",
            "   15                    model.4.cv1.conv.bias     False           64                 [64]      0.144        1.8\n",
            "   16                  model.4.cv2.conv.weight     False         8192      [64, 128, 1, 1]   -0.00417     0.0942\n",
            "   17                    model.4.cv2.conv.bias     False           64                 [64]      0.565       1.13\n",
            "   18              model.4.m.0.cv1.conv.weight     False         9216       [32, 32, 3, 3]   -0.00327     0.0892\n",
            "   19                model.4.m.0.cv1.conv.bias     False           32                 [32]      0.271       1.29\n",
            "   20              model.4.m.0.cv2.conv.weight     False         9216       [32, 32, 3, 3]   -0.00446      0.101\n",
            "   21                model.4.m.0.cv2.conv.bias     False           32                 [32]      0.105      0.831\n",
            "   22              model.4.m.1.cv1.conv.weight     False         9216       [32, 32, 3, 3]   -0.00461     0.0593\n",
            "   23                model.4.m.1.cv1.conv.bias     False           32                 [32]    -0.0503      0.882\n",
            "   24              model.4.m.1.cv2.conv.weight     False         9216       [32, 32, 3, 3]    -0.0157       0.23\n",
            "   25                model.4.m.1.cv2.conv.bias     False           32                 [32]     -0.261        1.2\n",
            "   26                      model.5.conv.weight     False        73728      [128, 64, 3, 3]   -0.00174     0.0521\n",
            "   27                        model.5.conv.bias     False          128                [128]     -0.168      0.855\n",
            "   28                  model.6.cv1.conv.weight     False        16384     [128, 128, 1, 1]    -0.0126      0.169\n",
            "   29                    model.6.cv1.conv.bias     False          128                [128]      0.133       1.02\n",
            "   30                  model.6.cv2.conv.weight     False        32768     [128, 256, 1, 1]   -0.00416     0.0629\n",
            "   31                    model.6.cv2.conv.bias     False          128                [128]    0.00104      0.892\n",
            "   32              model.6.m.0.cv1.conv.weight     False        36864       [64, 64, 3, 3]   -0.00539     0.0813\n",
            "   33                model.6.m.0.cv1.conv.bias     False           64                 [64]     -0.372      0.886\n",
            "   34              model.6.m.0.cv2.conv.weight     False        36864       [64, 64, 3, 3]   -0.00537     0.0643\n",
            "   35                model.6.m.0.cv2.conv.bias     False           64                 [64]     -0.305      0.645\n",
            "   36              model.6.m.1.cv1.conv.weight     False        36864       [64, 64, 3, 3]   -0.00448     0.0518\n",
            "   37                model.6.m.1.cv1.conv.bias     False           64                 [64]     -0.348       0.64\n",
            "   38              model.6.m.1.cv2.conv.weight     False        36864       [64, 64, 3, 3]   -0.00831      0.131\n",
            "   39                model.6.m.1.cv2.conv.bias     False           64                 [64]      -0.47       1.19\n",
            "   40                      model.7.conv.weight     False       294912     [256, 128, 3, 3]   -0.00254     0.0488\n",
            "   41                        model.7.conv.bias     False          256                [256]     -0.672      0.708\n",
            "   42                  model.8.cv1.conv.weight     False        65536     [256, 256, 1, 1]    -0.0186      0.149\n",
            "   43                    model.8.cv1.conv.bias     False          256                [256]     -0.785       0.62\n",
            "   44                  model.8.cv2.conv.weight     False        98304     [256, 384, 1, 1]    -0.0058     0.0562\n",
            "   45                    model.8.cv2.conv.bias     False          256                [256]    -0.0983      0.517\n",
            "   46              model.8.m.0.cv1.conv.weight     False       147456     [128, 128, 3, 3]   -0.00465     0.0732\n",
            "   47                model.8.m.0.cv1.conv.bias     False          128                [128]     -0.438      0.794\n",
            "   48              model.8.m.0.cv2.conv.weight     False       147456     [128, 128, 3, 3]   -0.00492       0.06\n",
            "   49                model.8.m.0.cv2.conv.bias     False          128                [128]      0.188      0.986\n",
            "   50                  model.9.cv1.conv.weight     False        32768     [128, 256, 1, 1]    -0.0134     0.0781\n",
            "   51                    model.9.cv1.conv.bias     False          128                [128]       1.71      0.613\n",
            "   52                  model.9.cv2.conv.weight     False       131072     [256, 512, 1, 1]   0.000335     0.0338\n",
            "   53                    model.9.cv2.conv.bias     False          256                [256]      -1.73       2.82\n",
            "   54                 model.12.cv1.conv.weight     False        49152     [128, 384, 1, 1]    -0.0114       0.13\n",
            "   55                   model.12.cv1.conv.bias     False          128                [128]     -0.954       1.24\n",
            "   56                 model.12.cv2.conv.weight     False        24576     [128, 192, 1, 1]    -0.0158      0.111\n",
            "   57                   model.12.cv2.conv.bias     False          128                [128]      -0.22      0.752\n",
            "   58             model.12.m.0.cv1.conv.weight     False        36864       [64, 64, 3, 3]   -0.00541     0.0633\n",
            "   59               model.12.m.0.cv1.conv.bias     False           64                 [64]     -0.392      0.868\n",
            "   60             model.12.m.0.cv2.conv.weight     False        36864       [64, 64, 3, 3]    -0.0045     0.0901\n",
            "   61               model.12.m.0.cv2.conv.bias     False           64                 [64]     -0.338      0.868\n",
            "   62                 model.15.cv1.conv.weight     False        12288      [64, 192, 1, 1]   -0.00605      0.101\n",
            "   63                   model.15.cv1.conv.bias     False           64                 [64]     0.0401       1.12\n",
            "   64                 model.15.cv2.conv.weight     False         6144       [64, 96, 1, 1]   -0.00453      0.148\n",
            "   65                   model.15.cv2.conv.bias     False           64                 [64]      0.319       1.23\n",
            "   66             model.15.m.0.cv1.conv.weight     False         9216       [32, 32, 3, 3]   -0.00601     0.0972\n",
            "   67               model.15.m.0.cv1.conv.bias     False           32                 [32]     0.0301        1.2\n",
            "   68             model.15.m.0.cv2.conv.weight     False         9216       [32, 32, 3, 3]   -0.00574      0.137\n",
            "   69               model.15.m.0.cv2.conv.bias     False           32                 [32]    -0.0646       1.11\n",
            "   70                     model.16.conv.weight     False        36864       [64, 64, 3, 3]   -0.00271     0.0582\n",
            "   71                       model.16.conv.bias     False           64                 [64]    -0.0379       1.21\n",
            "   72                 model.18.cv1.conv.weight     False        24576     [128, 192, 1, 1]    -0.0105      0.145\n",
            "   73                   model.18.cv1.conv.bias     False          128                [128]     -0.402      0.862\n",
            "   74                 model.18.cv2.conv.weight     False        24576     [128, 192, 1, 1]   -0.00755     0.0794\n",
            "   75                   model.18.cv2.conv.bias     False          128                [128]     -0.232        0.7\n",
            "   76             model.18.m.0.cv1.conv.weight     False        36864       [64, 64, 3, 3]   -0.00544     0.0479\n",
            "   77               model.18.m.0.cv1.conv.bias     False           64                 [64]     -0.428      0.797\n",
            "   78             model.18.m.0.cv2.conv.weight     False        36864       [64, 64, 3, 3]   -0.00819      0.126\n",
            "   79               model.18.m.0.cv2.conv.bias     False           64                 [64]     -0.414       1.51\n",
            "   80                     model.19.conv.weight     False       147456     [128, 128, 3, 3]   -0.00301     0.0437\n",
            "   81                       model.19.conv.bias     False          128                [128]      -0.39      0.668\n",
            "   82                 model.21.cv1.conv.weight     False        98304     [256, 384, 1, 1]    -0.0157      0.147\n",
            "   83                   model.21.cv1.conv.bias     False          256                [256]      -1.15      0.985\n",
            "   84                 model.21.cv2.conv.weight     False        98304     [256, 384, 1, 1]    -0.0102     0.0782\n",
            "   85                   model.21.cv2.conv.bias     False          256                [256]     -0.601       0.52\n",
            "   86             model.21.m.0.cv1.conv.weight     False       147456     [128, 128, 3, 3]   -0.00465     0.0496\n",
            "   87               model.21.m.0.cv1.conv.bias     False          128                [128]     -0.674       1.04\n",
            "   88             model.21.m.0.cv2.conv.weight     False       147456     [128, 128, 3, 3]   -0.00555     0.0694\n",
            "   89               model.21.m.0.cv2.conv.bias     False          128                [128]     -0.856      0.795\n",
            "   90             model.22.cv2.0.0.conv.weight     False        36864       [64, 64, 3, 3]   -0.00426      0.068\n",
            "   91               model.22.cv2.0.0.conv.bias     False           64                 [64]     -0.417       1.47\n",
            "   92             model.22.cv2.0.1.conv.weight     False        36864       [64, 64, 3, 3]   -0.00282      0.129\n",
            "   93               model.22.cv2.0.1.conv.bias     False           64                 [64]      0.946      0.714\n",
            "   94                  model.22.cv2.0.2.weight     False         4096       [64, 64, 1, 1]   5.73e-07     0.0536\n",
            "   95                    model.22.cv2.0.2.bias     False           64                 [64]          1       1.38\n",
            "   96             model.22.cv2.1.0.conv.weight     False        73728      [64, 128, 3, 3]   -0.00501     0.0607\n",
            "   97               model.22.cv2.1.0.conv.bias     False           64                 [64]     -0.195      0.962\n",
            "   98             model.22.cv2.1.1.conv.weight     False        36864       [64, 64, 3, 3]   -0.00383     0.0848\n",
            "   99               model.22.cv2.1.1.conv.bias     False           64                 [64]        1.3      0.944\n",
            "  100                  model.22.cv2.1.2.weight     False         4096       [64, 64, 1, 1]  -1.41e-06     0.0657\n",
            "  101                    model.22.cv2.1.2.bias     False           64                 [64]      0.999       1.32\n",
            "  102             model.22.cv2.2.0.conv.weight     False       147456      [64, 256, 3, 3]   -0.00169     0.0386\n",
            "  103               model.22.cv2.2.0.conv.bias     False           64                 [64]     -0.191      0.804\n",
            "  104             model.22.cv2.2.1.conv.weight     False        36864       [64, 64, 3, 3]   -0.00349     0.0721\n",
            "  105               model.22.cv2.2.1.conv.bias     False           64                 [64]       1.51      0.702\n",
            "  106                  model.22.cv2.2.2.weight     False         4096       [64, 64, 1, 1]   6.19e-06     0.0638\n",
            "  107                    model.22.cv2.2.2.bias     False           64                 [64]          1       1.32\n",
            "  108             model.22.cv3.0.0.conv.weight     False        57024       [99, 64, 3, 3]    0.00174      0.121\n",
            "  109               model.22.cv3.0.0.conv.bias     False           99                 [99]       0.55       1.88\n",
            "  110             model.22.cv3.0.1.conv.weight     False        88209       [99, 99, 3, 3]   0.000443     0.0417\n",
            "  111               model.22.cv3.0.1.conv.bias     False           99                 [99]    -0.0689      0.224\n",
            "  112                  model.22.cv3.0.2.weight     False         9801       [99, 99, 1, 1]  -0.000499     0.0597\n",
            "  113                    model.22.cv3.0.2.bias     False           99                 [99]      -11.8     0.0192\n",
            "  114             model.22.cv3.1.0.conv.weight     False       114048      [99, 128, 3, 3]  -0.000807     0.0783\n",
            "  115               model.22.cv3.1.0.conv.bias     False           99                 [99]      0.553        0.9\n",
            "  116             model.22.cv3.1.1.conv.weight     False        88209       [99, 99, 3, 3]  -0.000678     0.0376\n",
            "  117               model.22.cv3.1.1.conv.bias     False           99                 [99]      0.107      0.223\n",
            "  118                  model.22.cv3.1.2.weight     False         9801       [99, 99, 1, 1]   0.000333     0.0715\n",
            "  119                    model.22.cv3.1.2.bias     False           99                 [99]      -10.3     0.0476\n",
            "  120             model.22.cv3.2.0.conv.weight     False       228096      [99, 256, 3, 3]  -0.000555     0.0502\n",
            "  121               model.22.cv3.2.0.conv.bias     False           99                 [99]     -0.161      0.386\n",
            "  122             model.22.cv3.2.1.conv.weight     False        88209       [99, 99, 3, 3]   -0.00113     0.0443\n",
            "  123               model.22.cv3.2.1.conv.bias     False           99                 [99]       0.17      0.281\n",
            "  124                  model.22.cv3.2.2.weight     False         9801       [99, 99, 1, 1]    0.00095     0.0644\n",
            "  125                    model.22.cv3.2.2.bias     False           99                 [99]      -8.97     0.0334\n",
            "  126                 model.22.dfl.conv.weight     False           16        [1, 16, 1, 1]        7.5       4.76\n"
          ]
        }
      ]
    },
    {
      "cell_type": "code",
      "source": [
        "model = YOLO(\"yolov8n.pt\") "
      ],
      "metadata": {
        "colab": {
          "base_uri": "https://localhost:8080/",
          "height": 86,
          "referenced_widgets": [
            "a47fa4149bea414d86c2aff9e0bcf352",
            "fbfc5fd8c13a48139088eb5fc2c72795",
            "ff23c1d3b9e849dfb5f3a971386d5053",
            "97e38c792db843218d38d7ca86366e8c",
            "a2e883a382474128938bd0d247460bfc",
            "584461e11b724dc0868a850485685edf",
            "e5000ab28dae4add958383f6faedfad0",
            "994996dd3c8642919676af9d3a4081c3",
            "a47e3e72f6ed42318e535029bb2149dc",
            "33b031f030a442a08ddb4a09b2259ecd",
            "7974462eba7b4c7984568d6e1ee6ef89"
          ]
        },
        "id": "KjrWuBcxmjCp",
        "outputId": "82dfbb44-7015-47df-ea47-7e6165b129c0"
      },
      "execution_count": null,
      "outputs": [
        {
          "output_type": "stream",
          "name": "stderr",
          "text": [
            "Downloading https://github.com/ultralytics/assets/releases/download/v0.0.0/yolov8n.pt to yolov8n.pt...\n"
          ]
        },
        {
          "output_type": "display_data",
          "data": {
            "text/plain": [
              "  0%|          | 0.00/6.23M [00:00<?, ?B/s]"
            ],
            "application/vnd.jupyter.widget-view+json": {
              "version_major": 2,
              "version_minor": 0,
              "model_id": "a47fa4149bea414d86c2aff9e0bcf352"
            }
          },
          "metadata": {}
        },
        {
          "output_type": "stream",
          "name": "stderr",
          "text": [
            "\n"
          ]
        }
      ]
    },
    {
      "cell_type": "code",
      "source": [
        "model.info(verbose=True)"
      ],
      "metadata": {
        "colab": {
          "base_uri": "https://localhost:8080/"
        },
        "id": "9sHFvYY-nKRB",
        "outputId": "8134fc35-c6a9-4686-97a0-021c1fecbd7d"
      },
      "execution_count": null,
      "outputs": [
        {
          "output_type": "stream",
          "name": "stderr",
          "text": [
            "YOLOv8n summary: 225 layers, 3157200 parameters, 0 gradients, 8.9 GFLOPs\n"
          ]
        },
        {
          "output_type": "stream",
          "name": "stdout",
          "text": [
            "layer                                     name  gradient   parameters                shape         mu      sigma\n",
            "    0                      model.0.conv.weight     False          432        [16, 3, 3, 3]   -0.00279      0.152\n",
            "    1                        model.0.bn.weight     False           16                 [16]       2.97       1.86\n",
            "    2                          model.0.bn.bias     False           16                 [16]      0.249       4.17\n",
            "    3                      model.1.conv.weight     False         4608       [32, 16, 3, 3]   -0.00012      0.063\n",
            "    4                        model.1.bn.weight     False           32                 [32]       5.02       1.12\n",
            "    5                          model.1.bn.bias     False           32                 [32]      0.942        1.5\n",
            "    6                  model.2.cv1.conv.weight     False         1024       [32, 32, 1, 1]     -0.011     0.0906\n",
            "    7                    model.2.cv1.bn.weight     False           32                 [32]       2.22       1.39\n",
            "    8                      model.2.cv1.bn.bias     False           32                 [32]      0.802       1.38\n",
            "    9                  model.2.cv2.conv.weight     False         1536       [32, 48, 1, 1]    -0.0045      0.082\n",
            "   10                    model.2.cv2.bn.weight     False           32                 [32]       1.21      0.581\n",
            "   11                      model.2.cv2.bn.bias     False           32                 [32]      0.544       1.12\n",
            "   12              model.2.m.0.cv1.conv.weight     False         2304       [16, 16, 3, 3]   -0.00119     0.0558\n",
            "   13                model.2.m.0.cv1.bn.weight     False           16                 [16]       2.36      0.719\n",
            "   14                  model.2.m.0.cv1.bn.bias     False           16                 [16]       1.03        1.7\n",
            "   15              model.2.m.0.cv2.conv.weight     False         2304       [16, 16, 3, 3]  -0.000189     0.0477\n",
            "   16                model.2.m.0.cv2.bn.weight     False           16                 [16]       2.11      0.513\n",
            "   17                  model.2.m.0.cv2.bn.bias     False           16                 [16]      0.919       1.89\n",
            "   18                      model.3.conv.weight     False        18432       [64, 32, 3, 3]   -0.00152     0.0317\n",
            "   19                        model.3.bn.weight     False           64                 [64]      0.817      0.207\n",
            "   20                          model.3.bn.bias     False           64                 [64]      0.253       0.93\n",
            "   21                  model.4.cv1.conv.weight     False         4096       [64, 64, 1, 1]   -0.00269     0.0534\n",
            "   22                    model.4.cv1.bn.weight     False           64                 [64]      0.819      0.361\n",
            "   23                      model.4.cv1.bn.bias     False           64                 [64]      0.261       0.78\n",
            "   24                  model.4.cv2.conv.weight     False         8192      [64, 128, 1, 1]   -0.00208     0.0456\n",
            "   25                    model.4.cv2.bn.weight     False           64                 [64]      0.712       0.21\n",
            "   26                      model.4.cv2.bn.bias     False           64                 [64]    -0.0523      0.753\n",
            "   27              model.4.m.0.cv1.conv.weight     False         9216       [32, 32, 3, 3]   -0.00148     0.0341\n",
            "   28                model.4.m.0.cv1.bn.weight     False           32                 [32]      0.748      0.155\n",
            "   29                  model.4.m.0.cv1.bn.bias     False           32                 [32]     -0.257      0.629\n",
            "   30              model.4.m.0.cv2.conv.weight     False         9216       [32, 32, 3, 3]   -0.00153     0.0316\n",
            "   31                model.4.m.0.cv2.bn.weight     False           32                 [32]      0.775        0.2\n",
            "   32                  model.4.m.0.cv2.bn.bias     False           32                 [32]      0.195      0.696\n",
            "   33              model.4.m.1.cv1.conv.weight     False         9216       [32, 32, 3, 3]   -0.00224      0.031\n",
            "   34                model.4.m.1.cv1.bn.weight     False           32                 [32]      0.682      0.106\n",
            "   35                  model.4.m.1.cv1.bn.bias     False           32                 [32]     -0.816      0.473\n",
            "   36              model.4.m.1.cv2.conv.weight     False         9216       [32, 32, 3, 3]   -0.00179     0.0276\n",
            "   37                model.4.m.1.cv2.bn.weight     False           32                 [32]       1.05      0.241\n",
            "   38                  model.4.m.1.cv2.bn.bias     False           32                 [32]      0.527      0.863\n",
            "   39                      model.5.conv.weight     False        73728      [128, 64, 3, 3]  -0.000401     0.0189\n",
            "   40                        model.5.bn.weight     False          128                [128]      0.822      0.231\n",
            "   41                          model.5.bn.bias     False          128                [128]     -0.233      0.677\n",
            "   42                  model.6.cv1.conv.weight     False        16384     [128, 128, 1, 1]   -0.00239     0.0326\n",
            "   43                    model.6.cv1.bn.weight     False          128                [128]      0.895        0.4\n",
            "   44                      model.6.cv1.bn.bias     False          128                [128]     -0.135      0.745\n",
            "   45                  model.6.cv2.conv.weight     False        32768     [128, 256, 1, 1]   -0.00184     0.0283\n",
            "   46                    model.6.cv2.bn.weight     False          128                [128]      0.769      0.206\n",
            "   47                      model.6.cv2.bn.bias     False          128                [128]     -0.588      0.754\n",
            "   48              model.6.m.0.cv1.conv.weight     False        36864       [64, 64, 3, 3]    -0.0015     0.0203\n",
            "   49                model.6.m.0.cv1.bn.weight     False           64                 [64]       1.06      0.177\n",
            "   50                  model.6.m.0.cv1.bn.bias     False           64                 [64]     -0.912        0.6\n",
            "   51              model.6.m.0.cv2.conv.weight     False        36864       [64, 64, 3, 3]   -0.00149     0.0188\n",
            "   52                model.6.m.0.cv2.bn.weight     False           64                 [64]      0.835      0.248\n",
            "   53                  model.6.m.0.cv2.bn.bias     False           64                 [64]    -0.0764      0.526\n",
            "   54              model.6.m.1.cv1.conv.weight     False        36864       [64, 64, 3, 3]   -0.00166     0.0192\n",
            "   55                model.6.m.1.cv1.bn.weight     False           64                 [64]      0.918      0.175\n",
            "   56                  model.6.m.1.cv1.bn.bias     False           64                 [64]      -1.13      0.734\n",
            "   57              model.6.m.1.cv2.conv.weight     False        36864       [64, 64, 3, 3]  -0.000996      0.018\n",
            "   58                model.6.m.1.cv2.bn.weight     False           64                 [64]       1.18      0.277\n",
            "   59                  model.6.m.1.cv2.bn.bias     False           64                 [64]      0.208      0.765\n",
            "   60                      model.7.conv.weight     False       294912     [256, 128, 3, 3]  -0.000505     0.0115\n",
            "   61                        model.7.bn.weight     False          256                [256]      0.961      0.196\n",
            "   62                          model.7.bn.bias     False          256                [256]     -0.718       0.45\n",
            "   63                  model.8.cv1.conv.weight     False        65536     [256, 256, 1, 1]   -0.00268     0.0204\n",
            "   64                    model.8.cv1.bn.weight     False          256                [256]       1.14       0.33\n",
            "   65                      model.8.cv1.bn.bias     False          256                [256]     -0.736      0.573\n",
            "   66                  model.8.cv2.conv.weight     False        98304     [256, 384, 1, 1]   -0.00162     0.0174\n",
            "   67                    model.8.cv2.bn.weight     False          256                [256]       1.19      0.223\n",
            "   68                      model.8.cv2.bn.bias     False          256                [256]     -0.689      0.484\n",
            "   69              model.8.m.0.cv1.conv.weight     False       147456     [128, 128, 3, 3]  -0.000843     0.0128\n",
            "   70                model.8.m.0.cv1.bn.weight     False          128                [128]       1.14      0.205\n",
            "   71                  model.8.m.0.cv1.bn.bias     False          128                [128]     -0.822      0.719\n",
            "   72              model.8.m.0.cv2.conv.weight     False       147456     [128, 128, 3, 3]   -0.00101     0.0124\n",
            "   73                model.8.m.0.cv2.bn.weight     False          128                [128]       1.65      0.368\n",
            "   74                  model.8.m.0.cv2.bn.bias     False          128                [128]     -0.199      0.607\n",
            "   75                  model.9.cv1.conv.weight     False        32768     [128, 256, 1, 1]   -0.00378     0.0238\n",
            "   76                    model.9.cv1.bn.weight     False          128                [128]      0.926      0.248\n",
            "   77                      model.9.cv1.bn.bias     False          128                [128]       1.43      0.657\n",
            "   78                  model.9.cv2.conv.weight     False       131072     [256, 512, 1, 1]    6.2e-05      0.015\n",
            "   79                    model.9.cv2.bn.weight     False          256                [256]      0.942      0.255\n",
            "   80                      model.9.cv2.bn.bias     False          256                [256]      -1.26       0.83\n",
            "   81                 model.12.cv1.conv.weight     False        49152     [128, 384, 1, 1]   -0.00209      0.023\n",
            "   82                   model.12.cv1.bn.weight     False          128                [128]      0.873      0.222\n",
            "   83                     model.12.cv1.bn.bias     False          128                [128]     -0.371      0.819\n",
            "   84                 model.12.cv2.conv.weight     False        24576     [128, 192, 1, 1]   -0.00362     0.0259\n",
            "   85                   model.12.cv2.bn.weight     False          128                [128]      0.739      0.198\n",
            "   86                     model.12.cv2.bn.bias     False          128                [128]     -0.271      0.661\n",
            "   87             model.12.m.0.cv1.conv.weight     False        36864       [64, 64, 3, 3]   -0.00153     0.0193\n",
            "   88               model.12.m.0.cv1.bn.weight     False           64                 [64]      0.833      0.138\n",
            "   89                 model.12.m.0.cv1.bn.bias     False           64                 [64]     -0.837       0.61\n",
            "   90             model.12.m.0.cv2.conv.weight     False        36864       [64, 64, 3, 3]  -0.000776     0.0179\n",
            "   91               model.12.m.0.cv2.bn.weight     False           64                 [64]      0.822      0.181\n",
            "   92                 model.12.m.0.cv2.bn.bias     False           64                 [64]     -0.106      0.635\n",
            "   93                 model.15.cv1.conv.weight     False        12288      [64, 192, 1, 1]   -0.00152     0.0297\n",
            "   94                   model.15.cv1.bn.weight     False           64                 [64]      0.541      0.214\n",
            "   95                     model.15.cv1.bn.bias     False           64                 [64]      0.166      0.965\n",
            "   96                 model.15.cv2.conv.weight     False         6144       [64, 96, 1, 1]  -0.000505     0.0346\n",
            "   97                   model.15.cv2.bn.weight     False           64                 [64]      0.567      0.264\n",
            "   98                     model.15.cv2.bn.bias     False           64                 [64]      0.134      0.946\n",
            "   99             model.15.m.0.cv1.conv.weight     False         9216       [32, 32, 3, 3]   -0.00172     0.0279\n",
            "  100               model.15.m.0.cv1.bn.weight     False           32                 [32]      0.663       0.14\n",
            "  101                 model.15.m.0.cv1.bn.bias     False           32                 [32]     -0.564      0.582\n",
            "  102             model.15.m.0.cv2.conv.weight     False         9216       [32, 32, 3, 3]  -0.000878     0.0261\n",
            "  103               model.15.m.0.cv2.bn.weight     False           32                 [32]      0.734      0.162\n",
            "  104                 model.15.m.0.cv2.bn.bias     False           32                 [32]      0.207      0.785\n",
            "  105                     model.16.conv.weight     False        36864       [64, 64, 3, 3]  -0.000385     0.0134\n",
            "  106                       model.16.bn.weight     False           64                 [64]      0.842      0.213\n",
            "  107                         model.16.bn.bias     False           64                 [64]     -0.388       0.59\n",
            "  108                 model.18.cv1.conv.weight     False        24576     [128, 192, 1, 1]   -0.00125     0.0212\n",
            "  109                   model.18.cv1.bn.weight     False          128                [128]      0.885      0.205\n",
            "  110                     model.18.cv1.bn.bias     False          128                [128]     -0.298      0.609\n",
            "  111                 model.18.cv2.conv.weight     False        24576     [128, 192, 1, 1]  -0.000884     0.0206\n",
            "  112                   model.18.cv2.bn.weight     False          128                [128]      0.734      0.292\n",
            "  113                     model.18.cv2.bn.bias     False          128                [128]     -0.427      0.761\n",
            "  114             model.18.m.0.cv1.conv.weight     False        36864       [64, 64, 3, 3]    -0.0014     0.0165\n",
            "  115               model.18.m.0.cv1.bn.weight     False           64                 [64]        0.8      0.177\n",
            "  116                 model.18.m.0.cv1.bn.bias     False           64                 [64]     -0.772       0.49\n",
            "  117             model.18.m.0.cv2.conv.weight     False        36864       [64, 64, 3, 3]  -0.000584     0.0152\n",
            "  118               model.18.m.0.cv2.bn.weight     False           64                 [64]       1.19      0.286\n",
            "  119                 model.18.m.0.cv2.bn.bias     False           64                 [64]    -0.0701      0.665\n",
            "  120                     model.19.conv.weight     False       147456     [128, 128, 3, 3]  -0.000376    0.00768\n",
            "  121                       model.19.bn.weight     False          128                [128]      0.877       0.21\n",
            "  122                         model.19.bn.bias     False          128                [128]     -0.507      0.364\n",
            "  123                 model.21.cv1.conv.weight     False        98304     [256, 384, 1, 1]   -0.00112     0.0124\n",
            "  124                   model.21.cv1.bn.weight     False          256                [256]       1.06      0.228\n",
            "  125                     model.21.cv1.bn.bias     False          256                [256]      -0.59      0.577\n",
            "  126                 model.21.cv2.conv.weight     False        98304     [256, 384, 1, 1]   -0.00096     0.0109\n",
            "  127                   model.21.cv2.bn.weight     False          256                [256]       1.04      0.317\n",
            "  128                     model.21.cv2.bn.bias     False          256                [256]      -0.89      0.489\n",
            "  129             model.21.m.0.cv1.conv.weight     False       147456     [128, 128, 3, 3]  -0.000713    0.00903\n",
            "  130               model.21.m.0.cv1.bn.weight     False          128                [128]       1.03      0.223\n",
            "  131                 model.21.m.0.cv1.bn.bias     False          128                [128]      -0.96      0.617\n",
            "  132             model.21.m.0.cv2.conv.weight     False       147456     [128, 128, 3, 3]   -0.00042     0.0083\n",
            "  133               model.21.m.0.cv2.bn.weight     False          128                [128]       1.36      0.252\n",
            "  134                 model.21.m.0.cv2.bn.bias     False          128                [128]      -0.55      0.517\n",
            "  135             model.22.cv2.0.0.conv.weight     False        36864       [64, 64, 3, 3]  -0.000871     0.0138\n",
            "  136               model.22.cv2.0.0.bn.weight     False           64                 [64]      0.882      0.357\n",
            "  137                 model.22.cv2.0.0.bn.bias     False           64                 [64]     -0.501      0.702\n",
            "  138             model.22.cv2.0.1.conv.weight     False        36864       [64, 64, 3, 3]  -0.000302     0.0121\n",
            "  139               model.22.cv2.0.1.bn.weight     False           64                 [64]       2.41       1.04\n",
            "  140                 model.22.cv2.0.1.bn.bias     False           64                 [64]      0.923      0.752\n",
            "  141                  model.22.cv2.0.2.weight     False         4096       [64, 64, 1, 1]   5.55e-07     0.0503\n",
            "  142                    model.22.cv2.0.2.bias     False           64                 [64]          1       1.39\n",
            "  143             model.22.cv2.1.0.conv.weight     False        73728      [64, 128, 3, 3]  -0.000461    0.00909\n",
            "  144               model.22.cv2.1.0.bn.weight     False           64                 [64]       1.29      0.492\n",
            "  145                 model.22.cv2.1.0.bn.bias     False           64                 [64]     -0.394      0.673\n",
            "  146             model.22.cv2.1.1.conv.weight     False        36864       [64, 64, 3, 3]  -0.000135     0.0113\n",
            "  147               model.22.cv2.1.1.bn.weight     False           64                 [64]       2.56          1\n",
            "  148                 model.22.cv2.1.1.bn.bias     False           64                 [64]      0.856      0.562\n",
            "  149                  model.22.cv2.1.2.weight     False         4096       [64, 64, 1, 1]  -4.08e-07     0.0548\n",
            "  150                    model.22.cv2.1.2.bias     False           64                 [64]      0.999       1.31\n",
            "  151             model.22.cv2.2.0.conv.weight     False       147456      [64, 256, 3, 3]  -0.000226    0.00654\n",
            "  152               model.22.cv2.2.0.bn.weight     False           64                 [64]       1.55      0.415\n",
            "  153                 model.22.cv2.2.0.bn.bias     False           64                 [64]     -0.257      0.617\n",
            "  154             model.22.cv2.2.1.conv.weight     False        36864       [64, 64, 3, 3]  -0.000172     0.0105\n",
            "  155               model.22.cv2.2.1.bn.weight     False           64                 [64]       2.95      0.853\n",
            "  156                 model.22.cv2.2.1.bn.bias     False           64                 [64]      0.826      0.555\n",
            "  157                  model.22.cv2.2.2.weight     False         4096       [64, 64, 1, 1]   5.78e-06     0.0593\n",
            "  158                    model.22.cv2.2.2.bias     False           64                 [64]          1       1.32\n",
            "  159             model.22.cv3.0.0.conv.weight     False        46080       [80, 64, 3, 3]  -0.000739     0.0119\n",
            "  160               model.22.cv3.0.0.bn.weight     False           80                 [80]      0.697      0.247\n",
            "  161                 model.22.cv3.0.0.bn.bias     False           80                 [80]      -0.58      0.767\n",
            "  162             model.22.cv3.0.1.conv.weight     False        57600       [80, 80, 3, 3]  -0.000899       0.01\n",
            "  163               model.22.cv3.0.1.bn.weight     False           80                 [80]       2.75      0.655\n",
            "  164                 model.22.cv3.0.1.bn.bias     False           80                 [80]       1.34       1.83\n",
            "  165                  model.22.cv3.0.2.weight     False         6400       [80, 80, 1, 1]    -0.0123     0.0532\n",
            "  166                    model.22.cv3.0.2.bias     False           80                 [80]      -11.4       1.11\n",
            "  167             model.22.cv3.1.0.conv.weight     False        92160      [80, 128, 3, 3]  -0.000437    0.00858\n",
            "  168               model.22.cv3.1.0.bn.weight     False           80                 [80]      0.872       0.28\n",
            "  169                 model.22.cv3.1.0.bn.bias     False           80                 [80]     -0.411      0.884\n",
            "  170             model.22.cv3.1.1.conv.weight     False        57600       [80, 80, 3, 3]  -0.000971    0.00925\n",
            "  171               model.22.cv3.1.1.bn.weight     False           80                 [80]       2.85       1.26\n",
            "  172                 model.22.cv3.1.1.bn.bias     False           80                 [80]       1.28       1.45\n",
            "  173                  model.22.cv3.1.2.weight     False         6400       [80, 80, 1, 1]    -0.0114     0.0527\n",
            "  174                    model.22.cv3.1.2.bias     False           80                 [80]      -10.5      0.911\n",
            "  175             model.22.cv3.2.0.conv.weight     False       184320      [80, 256, 3, 3]  -0.000242    0.00608\n",
            "  176               model.22.cv3.2.0.bn.weight     False           80                 [80]       1.12      0.328\n",
            "  177                 model.22.cv3.2.0.bn.bias     False           80                 [80]     -0.289      0.942\n",
            "  178             model.22.cv3.2.1.conv.weight     False        57600       [80, 80, 3, 3]   -0.00099    0.00803\n",
            "  179               model.22.cv3.2.1.bn.weight     False           80                 [80]       3.15       1.28\n",
            "  180                 model.22.cv3.2.1.bn.bias     False           80                 [80]       1.28       1.32\n",
            "  181                  model.22.cv3.2.2.weight     False         6400       [80, 80, 1, 1]    -0.0105     0.0502\n",
            "  182                    model.22.cv3.2.2.bias     False           80                 [80]      -9.61      0.937\n",
            "  183                 model.22.dfl.conv.weight     False           16        [1, 16, 1, 1]        7.5       4.76\n"
          ]
        }
      ]
    },
    {
      "cell_type": "code",
      "source": [
        "model = YOLO(\"yolov8n.tflite\")"
      ],
      "metadata": {
        "colab": {
          "base_uri": "https://localhost:8080/",
          "height": 307
        },
        "id": "TNA_UzitnM7Z",
        "outputId": "5676df86-cfb3-40c5-ea30-360acf26edcc"
      },
      "execution_count": null,
      "outputs": [
        {
          "output_type": "error",
          "ename": "NotImplementedError",
          "evalue": "ignored",
          "traceback": [
            "\u001b[0;31m---------------------------------------------------------------------------\u001b[0m",
            "\u001b[0;31mNotImplementedError\u001b[0m                       Traceback (most recent call last)",
            "\u001b[0;32m<ipython-input-16-df4109f9c20a>\u001b[0m in \u001b[0;36m<module>\u001b[0;34m\u001b[0m\n\u001b[0;32m----> 1\u001b[0;31m \u001b[0mmodel\u001b[0m \u001b[0;34m=\u001b[0m \u001b[0mYOLO\u001b[0m\u001b[0;34m(\u001b[0m\u001b[0;34m\"yolov8n.tflite\"\u001b[0m\u001b[0;34m)\u001b[0m\u001b[0;34m\u001b[0m\u001b[0;34m\u001b[0m\u001b[0m\n\u001b[0m",
            "\u001b[0;32m/usr/local/lib/python3.8/dist-packages/ultralytics/yolo/engine/model.py\u001b[0m in \u001b[0;36m__init__\u001b[0;34m(self, model, type)\u001b[0m\n\u001b[1;32m     60\u001b[0m             \u001b[0;34m{\u001b[0m\u001b[0;34m'.pt'\u001b[0m\u001b[0;34m:\u001b[0m \u001b[0mself\u001b[0m\u001b[0;34m.\u001b[0m\u001b[0m_load\u001b[0m\u001b[0;34m,\u001b[0m \u001b[0;34m'.yaml'\u001b[0m\u001b[0;34m:\u001b[0m \u001b[0mself\u001b[0m\u001b[0;34m.\u001b[0m\u001b[0m_new\u001b[0m\u001b[0;34m}\u001b[0m\u001b[0;34m[\u001b[0m\u001b[0msuffix\u001b[0m\u001b[0;34m]\u001b[0m\u001b[0;34m(\u001b[0m\u001b[0mmodel\u001b[0m\u001b[0;34m)\u001b[0m\u001b[0;34m\u001b[0m\u001b[0;34m\u001b[0m\u001b[0m\n\u001b[1;32m     61\u001b[0m         \u001b[0;32melse\u001b[0m\u001b[0;34m:\u001b[0m\u001b[0;34m\u001b[0m\u001b[0;34m\u001b[0m\u001b[0m\n\u001b[0;32m---> 62\u001b[0;31m             \u001b[0;32mraise\u001b[0m \u001b[0mNotImplementedError\u001b[0m\u001b[0;34m(\u001b[0m\u001b[0;34mf\"'{suffix}' model loading not implemented\"\u001b[0m\u001b[0;34m)\u001b[0m\u001b[0;34m\u001b[0m\u001b[0;34m\u001b[0m\u001b[0m\n\u001b[0m\u001b[1;32m     63\u001b[0m \u001b[0;34m\u001b[0m\u001b[0m\n\u001b[1;32m     64\u001b[0m     \u001b[0;32mdef\u001b[0m \u001b[0m__call__\u001b[0m\u001b[0;34m(\u001b[0m\u001b[0mself\u001b[0m\u001b[0;34m,\u001b[0m \u001b[0msource\u001b[0m\u001b[0;34m=\u001b[0m\u001b[0;32mNone\u001b[0m\u001b[0;34m,\u001b[0m \u001b[0mstream\u001b[0m\u001b[0;34m=\u001b[0m\u001b[0;32mFalse\u001b[0m\u001b[0;34m,\u001b[0m \u001b[0;34m**\u001b[0m\u001b[0mkwargs\u001b[0m\u001b[0;34m)\u001b[0m\u001b[0;34m:\u001b[0m\u001b[0;34m\u001b[0m\u001b[0;34m\u001b[0m\u001b[0m\n",
            "\u001b[0;31mNotImplementedError\u001b[0m: '.tflite' model loading not implemented"
          ]
        }
      ]
    },
    {
      "cell_type": "code",
      "source": [
        "!pip install tflite-support-nightly"
      ],
      "metadata": {
        "colab": {
          "base_uri": "https://localhost:8080/"
        },
        "id": "cfwFV5IWrTSP",
        "outputId": "87dad5b8-0e00-4fb5-977f-d9e1d45ce1f2"
      },
      "execution_count": null,
      "outputs": [
        {
          "output_type": "stream",
          "name": "stdout",
          "text": [
            "Looking in indexes: https://pypi.org/simple, https://us-python.pkg.dev/colab-wheels/public/simple/\n",
            "Requirement already satisfied: tflite-support-nightly in /usr/local/lib/python3.8/dist-packages (0.4.4.dev20221103)\n",
            "Requirement already satisfied: absl-py>=0.7.0 in /usr/local/lib/python3.8/dist-packages (from tflite-support-nightly) (1.3.0)\n",
            "Requirement already satisfied: protobuf<4,>=3.18.0 in /usr/local/lib/python3.8/dist-packages (from tflite-support-nightly) (3.19.6)\n",
            "Requirement already satisfied: flatbuffers>=2.0 in /usr/local/lib/python3.8/dist-packages (from tflite-support-nightly) (2.0)\n",
            "Requirement already satisfied: sounddevice>=0.4.4 in /usr/local/lib/python3.8/dist-packages (from tflite-support-nightly) (0.4.5)\n",
            "Requirement already satisfied: numpy>=1.20.0 in /usr/local/lib/python3.8/dist-packages (from tflite-support-nightly) (1.21.6)\n",
            "Requirement already satisfied: pybind11>=2.6.0 in /usr/local/lib/python3.8/dist-packages (from tflite-support-nightly) (2.10.3)\n",
            "Requirement already satisfied: CFFI>=1.0 in /usr/local/lib/python3.8/dist-packages (from sounddevice>=0.4.4->tflite-support-nightly) (1.15.1)\n",
            "Requirement already satisfied: pycparser in /usr/local/lib/python3.8/dist-packages (from CFFI>=1.0->sounddevice>=0.4.4->tflite-support-nightly) (2.21)\n"
          ]
        }
      ]
    },
    {
      "cell_type": "code",
      "source": [
        "from tflite_support.metadata_writers import object_detector\n",
        "from tflite_support.metadata_writers import writer_utils"
      ],
      "metadata": {
        "id": "GUqUcS2XtOwC"
      },
      "execution_count": null,
      "outputs": []
    },
    {
      "cell_type": "code",
      "source": [
        "pip install flatbuffers==2.0"
      ],
      "metadata": {
        "colab": {
          "base_uri": "https://localhost:8080/"
        },
        "id": "-2ataEAEuaew",
        "outputId": "c2251462-80af-4721-a267-3f133a73debc"
      },
      "execution_count": null,
      "outputs": [
        {
          "output_type": "stream",
          "name": "stdout",
          "text": [
            "Looking in indexes: https://pypi.org/simple, https://us-python.pkg.dev/colab-wheels/public/simple/\n",
            "Collecting flatbuffers==2.0\n",
            "  Downloading flatbuffers-2.0-py2.py3-none-any.whl (26 kB)\n",
            "Installing collected packages: flatbuffers\n",
            "  Attempting uninstall: flatbuffers\n",
            "    Found existing installation: flatbuffers 23.1.21\n",
            "    Uninstalling flatbuffers-23.1.21:\n",
            "      Successfully uninstalled flatbuffers-23.1.21\n",
            "\u001b[31mERROR: pip's dependency resolver does not currently take into account all the packages that are installed. This behaviour is the source of the following dependency conflicts.\n",
            "tensorflow 2.9.2 requires flatbuffers<2,>=1.12, but you have flatbuffers 2.0 which is incompatible.\u001b[0m\u001b[31m\n",
            "\u001b[0mSuccessfully installed flatbuffers-2.0\n"
          ]
        }
      ]
    },
    {
      "cell_type": "code",
      "source": [
        "ObjectDetectorWriter = object_detector.MetadataWriter\n",
        "_MODEL_PATH = \"/content/yolov8n.tflite\"\n",
        "# Task Library expects label files that are in the same format as the one below.\n",
        "_LABEL_FILE = \"/content/label.txt\"\n",
        "_SAVE_TO_PATH = \"/content/yolov8n_meta.tflite\"\n",
        "# Normalization parameters is required when reprocessing the image. It is\n",
        "# optional if the image pixel values are in range of [0, 255] and the input\n",
        "# tensor is quantized to uint8. See the introduction for normalization and\n",
        "# quantization parameters below for more details.\n",
        "# https://www.tensorflow.org/lite/models/convert/metadata#normalization_and_quantization_parameters)\n",
        "_INPUT_NORM_MEAN = 127.5\n",
        "_INPUT_NORM_STD = 127.5\n",
        "\n",
        "# Create the metadata writer.\n",
        "writer = ObjectDetectorWriter.create_for_inference(\n",
        "    writer_utils.load_file(_MODEL_PATH), [_INPUT_NORM_MEAN], [_INPUT_NORM_STD],\n",
        "    [_LABEL_FILE])\n",
        "\n",
        "# Verify the metadata generated by metadata writer.\n",
        "print(writer.get_metadata_json())\n",
        "\n",
        "# Populate the metadata into the model.\n",
        "writer_utils.save_file(writer.populate(), _SAVE_TO_PATH)"
      ],
      "metadata": {
        "colab": {
          "base_uri": "https://localhost:8080/"
        },
        "id": "oIIh5N5Ct7eo",
        "outputId": "5f67d022-b3c4-4063-e1d0-60f0f97198cb"
      },
      "execution_count": null,
      "outputs": [
        {
          "output_type": "stream",
          "name": "stdout",
          "text": [
            "{\n",
            "  \"name\": \"ObjectDetector\",\n",
            "  \"description\": \"Identify which of a known set of objects might be present and provide information about their positions within the given image or a video stream.\",\n",
            "  \"subgraph_metadata\": [\n",
            "    {\n",
            "      \"input_tensor_metadata\": [\n",
            "        {\n",
            "          \"name\": \"image\",\n",
            "          \"description\": \"Input image to be detected.\",\n",
            "          \"content\": {\n",
            "            \"content_properties_type\": \"ImageProperties\",\n",
            "            \"content_properties\": {\n",
            "              \"color_space\": \"RGB\"\n",
            "            }\n",
            "          },\n",
            "          \"process_units\": [\n",
            "            {\n",
            "              \"options_type\": \"NormalizationOptions\",\n",
            "              \"options\": {\n",
            "                \"mean\": [\n",
            "                  127.5\n",
            "                ],\n",
            "                \"std\": [\n",
            "                  127.5\n",
            "                ]\n",
            "              }\n",
            "            }\n",
            "          ],\n",
            "          \"stats\": {\n",
            "            \"max\": [\n",
            "              1.0\n",
            "            ],\n",
            "            \"min\": [\n",
            "              -1.0\n",
            "            ]\n",
            "          }\n",
            "        }\n",
            "      ],\n",
            "      \"output_tensor_metadata\": [\n",
            "        {\n",
            "          \"name\": \"number of detections\",\n",
            "          \"description\": \"The number of the detected boxes.\",\n",
            "          \"content\": {\n",
            "            \"content_properties_type\": \"FeatureProperties\",\n",
            "            \"content_properties\": {\n",
            "            }\n",
            "          },\n",
            "          \"stats\": {\n",
            "          }\n",
            "        },\n",
            "        {\n",
            "          \"name\": \"location\",\n",
            "          \"description\": \"The locations of the detected boxes.\",\n",
            "          \"content\": {\n",
            "            \"content_properties_type\": \"BoundingBoxProperties\",\n",
            "            \"content_properties\": {\n",
            "              \"index\": [\n",
            "                1,\n",
            "                0,\n",
            "                3,\n",
            "                2\n",
            "              ],\n",
            "              \"type\": \"BOUNDARIES\"\n",
            "            },\n",
            "            \"range\": {\n",
            "              \"min\": 2,\n",
            "              \"max\": 2\n",
            "            }\n",
            "          },\n",
            "          \"stats\": {\n",
            "          }\n",
            "        },\n",
            "        {\n",
            "          \"name\": \"score\",\n",
            "          \"description\": \"The scores of the detected boxes.\",\n",
            "          \"content\": {\n",
            "            \"content_properties_type\": \"FeatureProperties\",\n",
            "            \"content_properties\": {\n",
            "            },\n",
            "            \"range\": {\n",
            "              \"min\": 2,\n",
            "              \"max\": 2\n",
            "            }\n",
            "          },\n",
            "          \"stats\": {\n",
            "          }\n",
            "        },\n",
            "        {\n",
            "          \"name\": \"category\",\n",
            "          \"description\": \"The categories of the detected boxes.\",\n",
            "          \"content\": {\n",
            "            \"content_properties_type\": \"FeatureProperties\",\n",
            "            \"content_properties\": {\n",
            "            },\n",
            "            \"range\": {\n",
            "              \"min\": 2,\n",
            "              \"max\": 2\n",
            "            }\n",
            "          },\n",
            "          \"stats\": {\n",
            "          },\n",
            "          \"associated_files\": [\n",
            "            {\n",
            "              \"name\": \"label.txt\",\n",
            "              \"description\": \"Labels for categories that the model can recognize.\",\n",
            "              \"type\": \"TENSOR_VALUE_LABELS\"\n",
            "            }\n",
            "          ]\n",
            "        }\n",
            "      ],\n",
            "      \"output_tensor_groups\": [\n",
            "        {\n",
            "          \"name\": \"detection_result\",\n",
            "          \"tensor_names\": [\n",
            "            \"location\",\n",
            "            \"category\",\n",
            "            \"score\"\n",
            "          ]\n",
            "        }\n",
            "      ]\n",
            "    }\n",
            "  ]\n",
            "}\n",
            "\n"
          ]
        }
      ]
    },
    {
      "cell_type": "code",
      "source": [],
      "metadata": {
        "id": "ytlDgZwJtfr-"
      },
      "execution_count": null,
      "outputs": []
    }
  ]
}