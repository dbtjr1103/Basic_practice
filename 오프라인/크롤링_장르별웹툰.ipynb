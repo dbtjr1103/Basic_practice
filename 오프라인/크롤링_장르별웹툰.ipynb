{
  "nbformat": 4,
  "nbformat_minor": 0,
  "metadata": {
    "colab": {
      "provenance": [],
      "collapsed_sections": [],
      "authorship_tag": "ABX9TyOtnR67Aj8QQf0zzCjI56Au",
      "include_colab_link": true
    },
    "kernelspec": {
      "name": "python3",
      "display_name": "Python 3"
    },
    "language_info": {
      "name": "python"
    }
  },
  "cells": [
    {
      "cell_type": "markdown",
      "metadata": {
        "id": "view-in-github",
        "colab_type": "text"
      },
      "source": [
        "<a href=\"https://colab.research.google.com/github/dbtjr1103/Basic_practice/blob/main/%ED%81%AC%EB%A1%A4%EB%A7%81_%EC%9E%A5%EB%A5%B4%EB%B3%84%EC%9B%B9%ED%88%B0.ipynb\" target=\"_parent\"><img src=\"https://colab.research.google.com/assets/colab-badge.svg\" alt=\"Open In Colab\"/></a>"
      ]
    },
    {
      "cell_type": "code",
      "execution_count": 1,
      "metadata": {
        "id": "g8Wb758ikfui"
      },
      "outputs": [],
      "source": [
        "import requests\n",
        "from bs4 import BeautifulSoup\n",
        "from tqdm.notebook import tqdm"
      ]
    },
    {
      "cell_type": "code",
      "source": [
        "url = 'https://comic.naver.com/webtoon/genre?genre'\n",
        "\n",
        "resp = requests.get(url)\n",
        "soup = BeautifulSoup(resp.content, 'lxml')\n",
        "spot_tags = soup.select('ul.spot a')[3:]\n",
        "len(spot_tags)"
      ],
      "metadata": {
        "colab": {
          "base_uri": "https://localhost:8080/"
        },
        "id": "aeqJSaLOk4LR",
        "outputId": "d1555573-b657-410c-e96e-3a2f5745b057"
      },
      "execution_count": 7,
      "outputs": [
        {
          "output_type": "execute_result",
          "data": {
            "text/plain": [
              "10"
            ]
          },
          "metadata": {},
          "execution_count": 7
        }
      ]
    },
    {
      "cell_type": "code",
      "source": [
        "genres = {}\n",
        "\n",
        "for spot_tag in spot_tags:\n",
        "    key = spot_tag.text\n",
        "\n",
        "    href = spot_tag['href']\n",
        "    value = (href.split('=')[-1])\n",
        "\n",
        "    genres[key] = value\n",
        "\n",
        "genres"
      ],
      "metadata": {
        "colab": {
          "base_uri": "https://localhost:8080/"
        },
        "id": "qkvpy_ONk7O8",
        "outputId": "02aeb5ec-8325-45fc-9744-e66ac0c52314"
      },
      "execution_count": 15,
      "outputs": [
        {
          "output_type": "execute_result",
          "data": {
            "text/plain": [
              "{'일상': 'daily',\n",
              " '개그': 'comic',\n",
              " '판타지': 'fantasy',\n",
              " '액션': 'action',\n",
              " '드라마': 'drama',\n",
              " '순정': 'pure',\n",
              " '감성': 'sensibility',\n",
              " '스릴러': 'thrill',\n",
              " '무협/사극': 'historical',\n",
              " '스포츠': 'sports'}"
            ]
          },
          "metadata": {},
          "execution_count": 15
        }
      ]
    },
    {
      "cell_type": "code",
      "source": [
        "tits, auts, rats, cats = [], [], [], []\n",
        "\n",
        "for key, value in zip(genres.keys(), genres.values()): \n",
        "    base_url = 'https://comic.naver.com/webtoon/genre?genre='\n",
        "    url = base_url + value  #value = daily -> comic ...\n",
        "\n",
        "    resp = requests.get(url)\n",
        "\n",
        "    soup = BeautifulSoup(resp.content, 'lxml')\n",
        "    tit_tags = soup.select('ul.img_list li dl dt a')\n",
        "    aut_tags = soup.select('ul.img_list dd.desc a')\n",
        "    rat_tags = soup.select('ul.img_list div.rating_type strong')\n",
        "    # len(tit_tags), len(aut_tags), len(rat_tags)\n",
        "\n",
        "    for tit_tag, aut_tag, rat_tag in zip(tit_tags, aut_tags, rat_tags):\n",
        "        tits.append(tit_tag['title'])\n",
        "        auts.append(aut_tag.text)\n",
        "        rats.append(rat_tag.text)\n",
        "        cats.append(key)"
      ],
      "metadata": {
        "id": "rgLF69BMlVeS"
      },
      "execution_count": 22,
      "outputs": []
    },
    {
      "cell_type": "code",
      "source": [
        "len(tits), len(auts), len(rats)"
      ],
      "metadata": {
        "colab": {
          "base_uri": "https://localhost:8080/"
        },
        "id": "3WnE1aNumAel",
        "outputId": "e8ec4a30-a429-4b9d-e9f2-fbea1a8664b9"
      },
      "execution_count": 23,
      "outputs": [
        {
          "output_type": "execute_result",
          "data": {
            "text/plain": [
              "(2021, 2021, 2021)"
            ]
          },
          "metadata": {},
          "execution_count": 23
        }
      ]
    },
    {
      "cell_type": "code",
      "source": [
        "dic_toons = {\n",
        "    '제목' : tits,\n",
        "    '작가' : auts,\n",
        "    '평점' : rats,\n",
        "    '장르' : cats\n",
        "}"
      ],
      "metadata": {
        "id": "fdslkXg1oVYF"
      },
      "execution_count": 25,
      "outputs": []
    },
    {
      "cell_type": "code",
      "source": [
        "import pandas as pd\n",
        "\n",
        "df_toons = pd.DataFrame(dic_toons)\n",
        "df_toons"
      ],
      "metadata": {
        "colab": {
          "base_uri": "https://localhost:8080/",
          "height": 424
        },
        "id": "Ysh6YcKopkJN",
        "outputId": "a78d62bb-b838-417f-cc8a-2e365d09343f"
      },
      "execution_count": 27,
      "outputs": [
        {
          "output_type": "execute_result",
          "data": {
            "text/plain": [
              "             제목    작가    평점   장르\n",
              "0      대학원 탈출일지    요다  9.97   일상\n",
              "1         먹는 인생    홍끼  9.96   일상\n",
              "2          독립일기    자까  9.97   일상\n",
              "3     안녕, 나의 수집    하린  9.95   일상\n",
              "4         윌유메리미  마인드C  9.92   일상\n",
              "...         ...   ...   ...  ...\n",
              "2016         군주   박산하  8.50  스포츠\n",
              "2017   미드나잇 체이서   석재윤  9.60  스포츠\n",
              "2018     불릿 6미리   김도근  9.89  스포츠\n",
              "2019         리턴   송래현  9.85  스포츠\n",
              "2020       번데기스   김경호  7.97  스포츠\n",
              "\n",
              "[2021 rows x 4 columns]"
            ],
            "text/html": [
              "\n",
              "  <div id=\"df-5282aea1-0fba-4527-b0c5-2b0d4ce2a81d\">\n",
              "    <div class=\"colab-df-container\">\n",
              "      <div>\n",
              "<style scoped>\n",
              "    .dataframe tbody tr th:only-of-type {\n",
              "        vertical-align: middle;\n",
              "    }\n",
              "\n",
              "    .dataframe tbody tr th {\n",
              "        vertical-align: top;\n",
              "    }\n",
              "\n",
              "    .dataframe thead th {\n",
              "        text-align: right;\n",
              "    }\n",
              "</style>\n",
              "<table border=\"1\" class=\"dataframe\">\n",
              "  <thead>\n",
              "    <tr style=\"text-align: right;\">\n",
              "      <th></th>\n",
              "      <th>제목</th>\n",
              "      <th>작가</th>\n",
              "      <th>평점</th>\n",
              "      <th>장르</th>\n",
              "    </tr>\n",
              "  </thead>\n",
              "  <tbody>\n",
              "    <tr>\n",
              "      <th>0</th>\n",
              "      <td>대학원 탈출일지</td>\n",
              "      <td>요다</td>\n",
              "      <td>9.97</td>\n",
              "      <td>일상</td>\n",
              "    </tr>\n",
              "    <tr>\n",
              "      <th>1</th>\n",
              "      <td>먹는 인생</td>\n",
              "      <td>홍끼</td>\n",
              "      <td>9.96</td>\n",
              "      <td>일상</td>\n",
              "    </tr>\n",
              "    <tr>\n",
              "      <th>2</th>\n",
              "      <td>독립일기</td>\n",
              "      <td>자까</td>\n",
              "      <td>9.97</td>\n",
              "      <td>일상</td>\n",
              "    </tr>\n",
              "    <tr>\n",
              "      <th>3</th>\n",
              "      <td>안녕, 나의 수집</td>\n",
              "      <td>하린</td>\n",
              "      <td>9.95</td>\n",
              "      <td>일상</td>\n",
              "    </tr>\n",
              "    <tr>\n",
              "      <th>4</th>\n",
              "      <td>윌유메리미</td>\n",
              "      <td>마인드C</td>\n",
              "      <td>9.92</td>\n",
              "      <td>일상</td>\n",
              "    </tr>\n",
              "    <tr>\n",
              "      <th>...</th>\n",
              "      <td>...</td>\n",
              "      <td>...</td>\n",
              "      <td>...</td>\n",
              "      <td>...</td>\n",
              "    </tr>\n",
              "    <tr>\n",
              "      <th>2016</th>\n",
              "      <td>군주</td>\n",
              "      <td>박산하</td>\n",
              "      <td>8.50</td>\n",
              "      <td>스포츠</td>\n",
              "    </tr>\n",
              "    <tr>\n",
              "      <th>2017</th>\n",
              "      <td>미드나잇 체이서</td>\n",
              "      <td>석재윤</td>\n",
              "      <td>9.60</td>\n",
              "      <td>스포츠</td>\n",
              "    </tr>\n",
              "    <tr>\n",
              "      <th>2018</th>\n",
              "      <td>불릿 6미리</td>\n",
              "      <td>김도근</td>\n",
              "      <td>9.89</td>\n",
              "      <td>스포츠</td>\n",
              "    </tr>\n",
              "    <tr>\n",
              "      <th>2019</th>\n",
              "      <td>리턴</td>\n",
              "      <td>송래현</td>\n",
              "      <td>9.85</td>\n",
              "      <td>스포츠</td>\n",
              "    </tr>\n",
              "    <tr>\n",
              "      <th>2020</th>\n",
              "      <td>번데기스</td>\n",
              "      <td>김경호</td>\n",
              "      <td>7.97</td>\n",
              "      <td>스포츠</td>\n",
              "    </tr>\n",
              "  </tbody>\n",
              "</table>\n",
              "<p>2021 rows × 4 columns</p>\n",
              "</div>\n",
              "      <button class=\"colab-df-convert\" onclick=\"convertToInteractive('df-5282aea1-0fba-4527-b0c5-2b0d4ce2a81d')\"\n",
              "              title=\"Convert this dataframe to an interactive table.\"\n",
              "              style=\"display:none;\">\n",
              "        \n",
              "  <svg xmlns=\"http://www.w3.org/2000/svg\" height=\"24px\"viewBox=\"0 0 24 24\"\n",
              "       width=\"24px\">\n",
              "    <path d=\"M0 0h24v24H0V0z\" fill=\"none\"/>\n",
              "    <path d=\"M18.56 5.44l.94 2.06.94-2.06 2.06-.94-2.06-.94-.94-2.06-.94 2.06-2.06.94zm-11 1L8.5 8.5l.94-2.06 2.06-.94-2.06-.94L8.5 2.5l-.94 2.06-2.06.94zm10 10l.94 2.06.94-2.06 2.06-.94-2.06-.94-.94-2.06-.94 2.06-2.06.94z\"/><path d=\"M17.41 7.96l-1.37-1.37c-.4-.4-.92-.59-1.43-.59-.52 0-1.04.2-1.43.59L10.3 9.45l-7.72 7.72c-.78.78-.78 2.05 0 2.83L4 21.41c.39.39.9.59 1.41.59.51 0 1.02-.2 1.41-.59l7.78-7.78 2.81-2.81c.8-.78.8-2.07 0-2.86zM5.41 20L4 18.59l7.72-7.72 1.47 1.35L5.41 20z\"/>\n",
              "  </svg>\n",
              "      </button>\n",
              "      \n",
              "  <style>\n",
              "    .colab-df-container {\n",
              "      display:flex;\n",
              "      flex-wrap:wrap;\n",
              "      gap: 12px;\n",
              "    }\n",
              "\n",
              "    .colab-df-convert {\n",
              "      background-color: #E8F0FE;\n",
              "      border: none;\n",
              "      border-radius: 50%;\n",
              "      cursor: pointer;\n",
              "      display: none;\n",
              "      fill: #1967D2;\n",
              "      height: 32px;\n",
              "      padding: 0 0 0 0;\n",
              "      width: 32px;\n",
              "    }\n",
              "\n",
              "    .colab-df-convert:hover {\n",
              "      background-color: #E2EBFA;\n",
              "      box-shadow: 0px 1px 2px rgba(60, 64, 67, 0.3), 0px 1px 3px 1px rgba(60, 64, 67, 0.15);\n",
              "      fill: #174EA6;\n",
              "    }\n",
              "\n",
              "    [theme=dark] .colab-df-convert {\n",
              "      background-color: #3B4455;\n",
              "      fill: #D2E3FC;\n",
              "    }\n",
              "\n",
              "    [theme=dark] .colab-df-convert:hover {\n",
              "      background-color: #434B5C;\n",
              "      box-shadow: 0px 1px 3px 1px rgba(0, 0, 0, 0.15);\n",
              "      filter: drop-shadow(0px 1px 2px rgba(0, 0, 0, 0.3));\n",
              "      fill: #FFFFFF;\n",
              "    }\n",
              "  </style>\n",
              "\n",
              "      <script>\n",
              "        const buttonEl =\n",
              "          document.querySelector('#df-5282aea1-0fba-4527-b0c5-2b0d4ce2a81d button.colab-df-convert');\n",
              "        buttonEl.style.display =\n",
              "          google.colab.kernel.accessAllowed ? 'block' : 'none';\n",
              "\n",
              "        async function convertToInteractive(key) {\n",
              "          const element = document.querySelector('#df-5282aea1-0fba-4527-b0c5-2b0d4ce2a81d');\n",
              "          const dataTable =\n",
              "            await google.colab.kernel.invokeFunction('convertToInteractive',\n",
              "                                                     [key], {});\n",
              "          if (!dataTable) return;\n",
              "\n",
              "          const docLinkHtml = 'Like what you see? Visit the ' +\n",
              "            '<a target=\"_blank\" href=https://colab.research.google.com/notebooks/data_table.ipynb>data table notebook</a>'\n",
              "            + ' to learn more about interactive tables.';\n",
              "          element.innerHTML = '';\n",
              "          dataTable['output_type'] = 'display_data';\n",
              "          await google.colab.output.renderOutput(dataTable, element);\n",
              "          const docLink = document.createElement('div');\n",
              "          docLink.innerHTML = docLinkHtml;\n",
              "          element.appendChild(docLink);\n",
              "        }\n",
              "      </script>\n",
              "    </div>\n",
              "  </div>\n",
              "  "
            ]
          },
          "metadata": {},
          "execution_count": 27
        }
      ]
    },
    {
      "cell_type": "code",
      "source": [
        "df_toons.to_csv('장르별웹툰.csv', encoding='utf-8-sig', index=False)"
      ],
      "metadata": {
        "id": "bq-RPckSpnmX"
      },
      "execution_count": 28,
      "outputs": []
    },
    {
      "cell_type": "code",
      "source": [],
      "metadata": {
        "id": "o4O4HJWcqAF6"
      },
      "execution_count": null,
      "outputs": []
    }
  ]
}