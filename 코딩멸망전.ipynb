{
  "nbformat": 4,
  "nbformat_minor": 0,
  "metadata": {
    "colab": {
      "provenance": [],
      "authorship_tag": "ABX9TyP+jb+xGJreHYZKoE+ENUAM",
      "include_colab_link": true
    },
    "kernelspec": {
      "name": "python3",
      "display_name": "Python 3"
    },
    "language_info": {
      "name": "python"
    }
  },
  "cells": [
    {
      "cell_type": "markdown",
      "metadata": {
        "id": "view-in-github",
        "colab_type": "text"
      },
      "source": [
        "<a href=\"https://colab.research.google.com/github/dbtjr1103/Basic_practice/blob/main/%EC%BD%94%EB%94%A9%EB%A9%B8%EB%A7%9D%EC%A0%84.ipynb\" target=\"_parent\"><img src=\"https://colab.research.google.com/assets/colab-badge.svg\" alt=\"Open In Colab\"/></a>"
      ]
    },
    {
      "cell_type": "code",
      "execution_count": null,
      "metadata": {
        "id": "p9GtTByOvJWp"
      },
      "outputs": [],
      "source": [
        "# A로 B 만들기\n",
        "실패"
      ]
    },
    {
      "cell_type": "code",
      "source": [
        "def solution(num_list, n):\n",
        "    answer = []\n",
        "    for i in range(int(len(num_list)/n)):\n",
        "        arr = []\n",
        "        for j in range(n):\n",
        "            arr.append(num_list[j+(i*n)])\n",
        "        answer.append(arr)\n",
        "        print(answer)    \n",
        "        # arr = []\n",
        "    # return answer"
      ],
      "metadata": {
        "id": "iYxjKRxSwJQK"
      },
      "execution_count": 35,
      "outputs": []
    },
    {
      "cell_type": "code",
      "source": [
        "def solution(num_list, n):\n",
        "    return [num_list[ix-n:ix] for ix in range(n, len(num_list)+1, n)]\n"
      ],
      "metadata": {
        "colab": {
          "base_uri": "https://localhost:8080/"
        },
        "id": "pzSq75NhvPsT",
        "outputId": "4096c6b3-a4e7-4f33-a17c-7ddf44702180"
      },
      "execution_count": 36,
      "outputs": [
        {
          "output_type": "stream",
          "name": "stdout",
          "text": [
            "[[1, 2]]\n",
            "[[1, 2], [3, 4]]\n",
            "[[1, 2], [3, 4], [5, 6]]\n",
            "[[1, 2], [3, 4], [5, 6], [7, 8]]\n"
          ]
        }
      ]
    },
    {
      "cell_type": "code",
      "source": [
        "# k의 개수\n",
        "def solution(i, j, k):\n",
        "    answer = 0\n",
        "    for i in range(i,j+1):\n",
        "        tmp = list(str(i))\n",
        "        for j in tmp:\n",
        "            if str(k) in j:\n",
        "                answer+=1\n",
        "    return answer"
      ],
      "metadata": {
        "id": "VNAfMlxw13xk"
      },
      "execution_count": 49,
      "outputs": []
    },
    {
      "cell_type": "code",
      "source": [
        "# 나중에 다시count"
      ],
      "metadata": {
        "id": "ApIi5r0z4Aun"
      },
      "execution_count": null,
      "outputs": []
    },
    {
      "cell_type": "code",
      "source": [
        "solution(1,13,1)"
      ],
      "metadata": {
        "colab": {
          "base_uri": "https://localhost:8080/"
        },
        "id": "KeCDXxYfzIZ1",
        "outputId": "386867c7-1b86-45b5-c3b0-eeac69a34e77"
      },
      "execution_count": 50,
      "outputs": [
        {
          "output_type": "execute_result",
          "data": {
            "text/plain": [
              "6"
            ]
          },
          "metadata": {},
          "execution_count": 50
        }
      ]
    },
    {
      "cell_type": "code",
      "source": [
        "# 가까운 수\n",
        "def solution(array, n):\n",
        "    answer = 100\n",
        "    min = 0\n",
        "    for i in array:\n",
        "        if answer > abs(i-n):\n",
        "            answer = abs(i-n)\n",
        "            min = i\n",
        "        elif answer == abs(i-n):\n",
        "            if min > i:\n",
        "                min = i\n",
        "        print(answer)\n",
        "    return min"
      ],
      "metadata": {
        "id": "5A7CaQhQ2o-p"
      },
      "execution_count": 75,
      "outputs": []
    },
    {
      "cell_type": "code",
      "source": [
        "solution([3, 10, 28],20)"
      ],
      "metadata": {
        "colab": {
          "base_uri": "https://localhost:8080/"
        },
        "id": "CtPpufMl4yPl",
        "outputId": "a6b845fa-523b-44d2-bfd2-de4bdd8c2712"
      },
      "execution_count": 76,
      "outputs": [
        {
          "output_type": "stream",
          "name": "stdout",
          "text": [
            "17\n",
            "10\n",
            "8\n"
          ]
        },
        {
          "output_type": "execute_result",
          "data": {
            "text/plain": [
              "28"
            ]
          },
          "metadata": {},
          "execution_count": 76
        }
      ]
    },
    {
      "cell_type": "code",
      "source": [
        "def solution(array, n):\n",
        "    array.sort(key = lambda x : (abs(x-n), x-n))\n",
        "    answer = array[0]\n",
        "    return answer"
      ],
      "metadata": {
        "id": "oZzHhvvZ44mb"
      },
      "execution_count": null,
      "outputs": []
    },
    {
      "cell_type": "code",
      "source": [
        "# 한 번만 등장한 문자\n",
        "def solution(s):\n",
        "    answer = []\n",
        "    for i in list(s):\n",
        "        if list(s).count(i) == 1:\n",
        "            answer.append(i)\n",
        "    answer = sorted(answer)\n",
        "    return ''.join(answer)"
      ],
      "metadata": {
        "id": "r5zQctnn9zOe"
      },
      "execution_count": 113,
      "outputs": []
    },
    {
      "cell_type": "code",
      "source": [
        "solution('abcdab')"
      ],
      "metadata": {
        "colab": {
          "base_uri": "https://localhost:8080/"
        },
        "id": "cA38ycNE-f9V",
        "outputId": "7ecf903f-18b7-46e4-b18d-63d2bf387d32"
      },
      "execution_count": 114,
      "outputs": [
        {
          "output_type": "stream",
          "name": "stdout",
          "text": [
            "['c', 'd']\n"
          ]
        }
      ]
    },
    {
      "cell_type": "code",
      "source": [
        "def solution(s):\n",
        "    answer = ''\n",
        "    for c in 'abcdefghijklmnopqrstuvwxyz':\n",
        "        if s.count(c) == 1:\n",
        "            answer += c\n",
        "    return answer"
      ],
      "metadata": {
        "id": "53Zk8gcR-h5s"
      },
      "execution_count": null,
      "outputs": []
    }
  ]
}