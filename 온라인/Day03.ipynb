{
  "metadata": {
    "language_info": {
      "codemirror_mode": {
        "name": "python",
        "version": 3
      },
      "file_extension": ".py",
      "mimetype": "text/x-python",
      "name": "python",
      "nbconvert_exporter": "python",
      "pygments_lexer": "ipython3",
      "version": "3.8"
    },
    "kernelspec": {
      "name": "python",
      "display_name": "Python (Pyodide)",
      "language": "python"
    }
  },
  "nbformat_minor": 4,
  "nbformat": 4,
  "cells": [
    {
      "cell_type": "markdown",
      "source": "### 13장 함수\n- 어떤일을 수행한 다음에 그 결과를 내어놓는 것",
      "metadata": {
        "tags": []
      }
    },
    {
      "cell_type": "raw",
      "source": "def 함수명(매개변수):\n    <수행할 문장1>\n    <수행할 문장2>\n    ...\n    retun 결과값",
      "metadata": {}
    },
    {
      "cell_type": "raw",
      "source": "- 입력 값이 없는 함수\ndef say():\n    retun 'Hi'\n    \n- 반환 값이 없는 함수\ndef add(a,b):\n    print(\"%d, %d의 합은 %d입니다.\" %(a, b, a+b))\n    \n- 입력 값도 반환 값도 없는 함수\ndef say():\n    print('Hi')\n\n- 입력 값이 몇 개가 될지 모를 때\ndef 함수이름(*매개변수):\n    <수행할 문장>\n\ndef 함수이름(매개변수1, *매개변수):\n    <수행할 문장>\n    \n- 입력 값을 딕셔너리로 받을 때\ndef 함수이름(**매개변수):\n    <수행할 문장>",
      "metadata": {}
    },
    {
      "cell_type": "code",
      "source": "# 특별한 상황일 때 함수를 빠져나가고 싶다면\ndef say_nick(nick):\n    if nick == \"바보\":\n        return\n    print(\"나의 별명은 {} 입니다.\".format(nick))",
      "metadata": {
        "trusted": true
      },
      "execution_count": 1,
      "outputs": []
    },
    {
      "cell_type": "code",
      "source": "# 기본값 설정 (True가 기본값)\ndef say_myself(name, old, man=True):\n    print(\"나의 이름은 {} 입니다.\".format(name))\n    print(\"나이는 {}살 입니다.\".format(old))\n    if man == Ture:\n        print(\"남자입니다.\")\n    else:\n        print(\"여자입니다.\")",
      "metadata": {
        "trusted": true
      },
      "execution_count": 2,
      "outputs": []
    },
    {
      "cell_type": "code",
      "source": "# 함수 안에서 사용되는 변수는 함수 안에서만 사용이 된다.\na = 1 #전역변수\ndef vartest(a):\n    a = a + 1 #지역변수\n\nvartest(a)    \nprint(a)",
      "metadata": {
        "trusted": true
      },
      "execution_count": 3,
      "outputs": [
        {
          "name": "stdout",
          "text": "1\n",
          "output_type": "stream"
        }
      ]
    },
    {
      "cell_type": "code",
      "source": "# 함수 안에서 사용되는 변수는 함수 안에서만 사용이 된다.\na = 1 #전역변수\ndef vartest():\n    global a # 전역변수 a 명시\n    a = a + 1 # 전역변수 a\n\nvartest()    \nprint(a)",
      "metadata": {
        "trusted": true
      },
      "execution_count": 4,
      "outputs": [
        {
          "name": "stdout",
          "text": "2\n",
          "output_type": "stream"
        }
      ]
    },
    {
      "cell_type": "code",
      "source": "# lambda : 아주 간단한 함수 만들때 사용\nadd = lambda a, b : a+b",
      "metadata": {
        "trusted": true
      },
      "execution_count": 5,
      "outputs": []
    },
    {
      "cell_type": "code",
      "source": "# 예시\ndef add(num1, num2):\n    return num1 + num2\n\na = add(3,4)\nprint(a)",
      "metadata": {
        "trusted": true
      },
      "execution_count": 6,
      "outputs": [
        {
          "name": "stdout",
          "text": "7\n",
          "output_type": "stream"
        }
      ]
    },
    {
      "cell_type": "code",
      "source": "# 예시\ndef say():\n    return 'hello'\n\na = say()\nprint(a)",
      "metadata": {
        "trusted": true
      },
      "execution_count": 7,
      "outputs": [
        {
          "name": "stdout",
          "text": "hello\n",
          "output_type": "stream"
        }
      ]
    },
    {
      "cell_type": "code",
      "source": "# 예시\ndef add(num1, num2):\n    print(num1 + num2)\n\na = add(4,5)\nprint(a) ",
      "metadata": {
        "trusted": true
      },
      "execution_count": 8,
      "outputs": [
        {
          "name": "stdout",
          "text": "9\nNone\n",
          "output_type": "stream"
        }
      ]
    },
    {
      "cell_type": "code",
      "source": "# 예시 : 기본값 설정\ndef intro(name, age, sex=5):\n    print(\"나의 이름은 {}이고, {}살입니다.\".format(name, age))\n    if sex == 5:\n        print(\"나는 남자입니다.\")\n    else:\n        print(\"나는 여자입니다.\")\nintro(\"홍길동\", 30)\nintro(\"아이유\", 20, 3)",
      "metadata": {
        "trusted": true
      },
      "execution_count": 9,
      "outputs": [
        {
          "name": "stdout",
          "text": "나의 이름은 홍길동이고, 30살입니다.\n나는 남자입니다.\n나의 이름은 아이유이고, 20살입니다.\n나는 여자입니다.\n",
          "output_type": "stream"
        }
      ]
    },
    {
      "cell_type": "code",
      "source": "# 예시 : 전역변수/지역변수\ndef test():\n    a = 5 # 지역변수\n    \na = 0 # 전역변수\ntest()\nprint(a)",
      "metadata": {
        "trusted": true
      },
      "execution_count": 10,
      "outputs": [
        {
          "name": "stdout",
          "text": "0\n",
          "output_type": "stream"
        }
      ]
    },
    {
      "cell_type": "code",
      "source": "# 예시 : 전역변수/지역변수\ndef test():\n    global a # 전역변수 설정\n    a = 5\n    \na = 0\ntest()\nprint(a)",
      "metadata": {
        "trusted": true
      },
      "execution_count": 11,
      "outputs": [
        {
          "name": "stdout",
          "text": "5\n",
          "output_type": "stream"
        }
      ]
    },
    {
      "cell_type": "code",
      "source": "# 재귀함수 : 내가 나를 부르는 함수\n\ndef fac(n):\n    a = 1\n    for i in range(1, n+1):\n        a = a * i\n    return a\n\nprint(fac(5))",
      "metadata": {
        "trusted": true
      },
      "execution_count": 12,
      "outputs": [
        {
          "name": "stdout",
          "text": "120\n",
          "output_type": "stream"
        }
      ]
    },
    {
      "cell_type": "code",
      "source": "# 재귀함수 : 내가 나를 부르는 함수\n\ndef fac(n):\n    if n == 1:\n        return 1\n    else:\n        return n * fac(n-1)\n\nprint(fac(5))",
      "metadata": {
        "trusted": true
      },
      "execution_count": 13,
      "outputs": [
        {
          "name": "stdout",
          "text": "120\n",
          "output_type": "stream"
        }
      ]
    },
    {
      "cell_type": "code",
      "source": "# 실습문제\n'''피보나치 수열에서 위치에 해당하는 값을 반환해주는 함수를 완성해보세요. \n예) fibo함수에 5를 전달하면 5번째 피보나치 수열의 값을 반환하면 됩니다.\n\n피보나치 수열 : 0, 1, 1, 2, 3, 5, 8, 13, 21 ...  '''\n\ndef fibo(n):\n    if n == 1:\n        return 0\n    elif n == 2:\n        return 1\n    else : \n        return fibo(n-1) + fibo(n-2)\n    \nprint(fibo(5))\nprint(fibo(10))",
      "metadata": {
        "trusted": true
      },
      "execution_count": 14,
      "outputs": [
        {
          "name": "stdout",
          "text": "3\n34\n",
          "output_type": "stream"
        }
      ]
    },
    {
      "cell_type": "markdown",
      "source": "### 14장 클래스\n- 여러 개의 객체를 만들어내는 기능",
      "metadata": {
        "tags": []
      }
    },
    {
      "cell_type": "raw",
      "source": "# C언어는 클래스가 없어서, 이해가 안가면 넘어가도좋다...!\n\n1. 비유하면 붕어빵을 만들어낼 수 있는 틀\n2. 함수와 변수들을 모아 놓는 주머니",
      "metadata": {}
    },
    {
      "cell_type": "raw",
      "source": "class 클래스명:\n    def 함수명1(self, 매개변수..):\n    ..\n    def 함수명2(self, 매개변수..):\n    ..",
      "metadata": {}
    },
    {
      "cell_type": "raw",
      "source": "객체 = 클래스()\n객체.함수명(매개변수)\n\n- Bank 클래스에 입금, 출금 함수 등이 있을때\n손님이 회원가입을 하면, Bank에서 사용하는 모든 함수를 사용 가능",
      "metadata": {}
    },
    {
      "cell_type": "raw",
      "source": "- 클래스 초기화 함수\n\nclass 클래스명:\n    def 함수명(self, 매개변수 ..):\n      ..\n    객체가 생성될때, 자동으로 한번 실행되는 함수\n    def __init__(self):\n      ..",
      "metadata": {}
    },
    {
      "cell_type": "raw",
      "source": "- 상속\n\nclass 클래스명1:\n    def 함수명(self, 매개변수 ..):\n      ..\n\n클래스명2는 클래스명2에서 제공하는 모든 함수와 변수들을 사용할 수 있음\nclass 클래스명2(클래스명1):\n    ..",
      "metadata": {}
    },
    {
      "cell_type": "code",
      "source": "# 예시\nclass Bank:\n    \n    # 권한을 줄 때 자동으로 실행되는 함수\n    def __init__(self):\n        print(\"가입을 축하합니다!\")\n        self.money = 0\n        \n    def deposit(self, a):\n        self.money += a\n        \nperson1 = Bank()\nperson1.deposit(50000)\n\nperson2 = Bank()\nperson2.deposit(30000)\n\nperson3 = Bank()\n\nprint(person1.money)\nprint(person2.money)\nprint(person3.money)",
      "metadata": {
        "trusted": true
      },
      "execution_count": 15,
      "outputs": [
        {
          "name": "stdout",
          "text": "가입을 축하합니다!\n가입을 축하합니다!\n가입을 축하합니다!\n50000\n30000\n0\n",
          "output_type": "stream"
        }
      ]
    },
    {
      "cell_type": "code",
      "source": "# 예시\nclass Bank:\n    \n    # 권한을 줄 때 자동으로 실행되는 함수\n    def __init__(self):\n        print(\"가입을 축하합니다!\")\n        self.money = 0\n        \n    def deposit(self, a):\n        self.money += a\n        \nclass Bank2(Bank): #Bank에서 제공하는 함수들을 상속받는다.\n    pass\n\nperson4 = Bank2()\nperson4.money = 10000\nprint(person4.money)",
      "metadata": {
        "trusted": true
      },
      "execution_count": 16,
      "outputs": [
        {
          "name": "stdout",
          "text": "가입을 축하합니다!\n10000\n",
          "output_type": "stream"
        }
      ]
    },
    {
      "cell_type": "code",
      "source": "# 실습문제\n'''수업때 진행했던 Bank( ) 클래스에서 금액을 출금하는 기능도 추가해서 사용해보세요. '''\nclass Bank:\n    \n    def __init__(self):\n        print(\"가입을 축하합니다!\")\n        self.money = 0\n        \n    def deposit(self, a):\n        self.money += a\n        \n    def withdraw(self, a):\n        self.money -= a\n\nperson = Bank()\nperson.deposit(50000)\nperson.withdraw(30000)\nprint(person.money)",
      "metadata": {
        "trusted": true
      },
      "execution_count": 17,
      "outputs": [
        {
          "name": "stdout",
          "text": "가입을 축하합니다!\n20000\n",
          "output_type": "stream"
        }
      ]
    },
    {
      "cell_type": "markdown",
      "source": "### 15장 예외처리\n- 에러가 발생했을 때, 에러를 무시하는 기술",
      "metadata": {
        "tags": []
      }
    },
    {
      "cell_type": "raw",
      "source": "- 예외처리를 해야하는 경우\n    1. 내 코드에 아무런 문제가 없을 때\n        ex) 블로그 크롤링 시 문제있을때\n    2. 어디론가 이동할 때\n        ex) 반복문",
      "metadata": {}
    },
    {
      "cell_type": "raw",
      "source": "- 예외처리 기본 구조\n    try:\n        수행할 코드 (ex. 맛집 블로그 크롤링)\n    except:\n        수행할 코드 (ex. 다른 맛집 블로그로 이동)\n    finally:\n        수행할 코드 - try 코드가 문제와 상관없이 끝나면 무조건 finally 실행",
      "metadata": {}
    },
    {
      "cell_type": "raw",
      "source": "- 에러 일부러 발생시키기\n    raise 에러이름 \n    ex) 여러개 While문에서 빠져나올때\n    \n- except 여러개 작성 가능\n    except FileNotFound:\n    ~~~\n    except Zero~~ :\n    ~~~",
      "metadata": {}
    },
    {
      "cell_type": "code",
      "source": "# 예시\ntry:\n    print(\"Hello\")\n    print(me)\n    print(\"Bye\")\nexcept ZeroDivisionError:\n    print(\"0으로 나눈 에러 처리 완료\")\nexcept NameError:\n    print(\"변수 이름 에러 처리 완료!\")\nfinally:\n    print(\"Bye\")",
      "metadata": {
        "trusted": true
      },
      "execution_count": 18,
      "outputs": [
        {
          "name": "stdout",
          "text": "Hello\n변수 이름 에러 처리 완료!\nBye\n",
          "output_type": "stream"
        }
      ]
    },
    {
      "cell_type": "code",
      "source": "# 예시 raise NameError\ntry :\n    if 뭔가 == True:\n        raise NameError\nexcept:\n    pass",
      "metadata": {
        "trusted": true
      },
      "execution_count": 19,
      "outputs": []
    },
    {
      "cell_type": "code",
      "source": "# 실습문제 : 아래 코드에서 찾았습니다! 가 출력되었을때, 모든 반복문을 강제로 나가는 코드로 수정해보세요. \n\ntry:\n    for n1 in range(1000): \n      for n2 in range(1000): \n          for n3 in range(1000): \n              for n4 in range(1000): \n                  for n5 in range(1000): \n                      if (n1+n2+n3+n4+n5) == 1000:\n                        print(\"찾았습니다!\")\n                        raise FoundError\n                        \nexcept:\n    pass",
      "metadata": {
        "trusted": true
      },
      "execution_count": 20,
      "outputs": [
        {
          "name": "stdout",
          "text": "찾았습니다!\n",
          "output_type": "stream"
        }
      ]
    },
    {
      "cell_type": "markdown",
      "source": "### 16장 내장함수\n- 파이썬에서 기본적으로 제공하는 함수",
      "metadata": {
        "tags": []
      }
    },
    {
      "cell_type": "code",
      "source": "# 출력 : print\nprint(\"life\",\"is\",\"too\",\"short\")\nprint(\"life\"+\"is\"+\"too\"+\"short\")\n\nfor i in range(10):\n    print(i, end='') # 기본값은 end = '\\n' 맞나요...? 엔터안되는데...",
      "metadata": {
        "tags": [],
        "trusted": true
      },
      "execution_count": 21,
      "outputs": [
        {
          "name": "stdout",
          "text": "life is too short\nlifeistooshort\n0123456789",
          "output_type": "stream"
        }
      ]
    },
    {
      "cell_type": "code",
      "source": "# 파일 쓰기/읽기 : open 함수(클래스) 안에 write, close 함수 있음\nf = open(\"새파일.txt\",'wt') #wt(write text)\nf.write(\"hello\") # hello 작성\nf.close() # 저장하고 끄는 기능\n\nf = open(\"새파일.txt\",'rt') #rt(read text) , 이어쓸때는 at(attach text)\ndata = f.read() # hello 작성\nprint(data)",
      "metadata": {
        "tags": [],
        "trusted": true
      },
      "execution_count": 22,
      "outputs": [
        {
          "name": "stdout",
          "text": "hello\n",
          "output_type": "stream"
        }
      ]
    },
    {
      "cell_type": "code",
      "source": "# 절대값 : abs\nprint('''abs(3)\nabs(-3)\nabs(-1.2)''')",
      "metadata": {
        "tags": [],
        "trusted": true
      },
      "execution_count": 23,
      "outputs": [
        {
          "name": "stdout",
          "text": "abs(3)\nabs(-3)\nabs(-1.2)\n",
          "output_type": "stream"
        }
      ]
    },
    {
      "cell_type": "code",
      "source": "# 모두 참이어야 참 : all\nprint(all([1,2,3]))\nprint(all([1,2,3,0]))",
      "metadata": {
        "tags": [],
        "trusted": true
      },
      "execution_count": 24,
      "outputs": [
        {
          "name": "stdout",
          "text": "True\nFalse\n",
          "output_type": "stream"
        }
      ]
    },
    {
      "cell_type": "code",
      "source": "# 하나라도 참이면 참 : any\nprint(any([1,2,3]))\nprint(any([1,2,3,0]))",
      "metadata": {
        "tags": [],
        "trusted": true
      },
      "execution_count": 25,
      "outputs": [
        {
          "name": "stdout",
          "text": "True\nTrue\n",
          "output_type": "stream"
        }
      ]
    },
    {
      "cell_type": "code",
      "source": "# 몫과 나머지 : divmod\ndivmod(7,3)",
      "metadata": {
        "tags": [],
        "trusted": true
      },
      "execution_count": 26,
      "outputs": [
        {
          "execution_count": 26,
          "output_type": "execute_result",
          "data": {
            "text/plain": "(2, 1)"
          },
          "metadata": {}
        }
      ]
    },
    {
      "cell_type": "code",
      "source": "# 리스트, 튜플, 문자열의 위치와 값 반환 : enumerate\nenumerate(['body', 'foo', 'bar']) #실습 확인",
      "metadata": {
        "tags": [],
        "trusted": true
      },
      "execution_count": 27,
      "outputs": [
        {
          "execution_count": 27,
          "output_type": "execute_result",
          "data": {
            "text/plain": "<enumerate at 0x3150a80>"
          },
          "metadata": {}
        }
      ]
    },
    {
      "cell_type": "code",
      "source": "# 실행 가능한 문자열을 실행한 결과값을 반환 : eval\nprint(eval('1+2')) \nprint(eval(\"'hi' + 'a'\"))\nprint(eval('divmod(4,3)'))",
      "metadata": {
        "tags": [],
        "trusted": true
      },
      "execution_count": 28,
      "outputs": [
        {
          "name": "stdout",
          "text": "3\nhia\n(1, 1)\n",
          "output_type": "stream"
        }
      ]
    },
    {
      "cell_type": "code",
      "source": "# filter\ndef positive(x):\n    return x > 0\nprint(list(filter(positive, [1,-3,2,0,-5,6])))",
      "metadata": {
        "trusted": true
      },
      "execution_count": 29,
      "outputs": [
        {
          "name": "stdout",
          "text": "[1, 2, 6]\n",
          "output_type": "stream"
        }
      ]
    },
    {
      "cell_type": "code",
      "source": "# 주소값 반환 : id\na = 3\nprint(id(3))\nprint(id(a))",
      "metadata": {
        "trusted": true
      },
      "execution_count": 30,
      "outputs": [
        {
          "name": "stdout",
          "text": "8538928\n8538928\n",
          "output_type": "stream"
        }
      ]
    },
    {
      "cell_type": "code",
      "source": "# 정수 반환 : int\nprint(int('3'))\nprint(int(3.4))\nprint(int('11', 2)) #'11'이 2진법이라고 표시",
      "metadata": {
        "trusted": true
      },
      "execution_count": 31,
      "outputs": [
        {
          "name": "stdout",
          "text": "3\n3\n3\n",
          "output_type": "stream"
        }
      ]
    },
    {
      "cell_type": "code",
      "source": "# 길이 반환 : len\nprint(len('python'))\nprint(len([1,2,3]))\nprint(len((1, 'a')))",
      "metadata": {
        "trusted": true
      },
      "execution_count": 32,
      "outputs": [
        {
          "name": "stdout",
          "text": "6\n3\n2\n",
          "output_type": "stream"
        }
      ]
    },
    {
      "cell_type": "code",
      "source": "# 리스트 변환 : list\nprint(list(\"python\"))\nprint(list((1,2,3)))",
      "metadata": {
        "trusted": true
      },
      "execution_count": 33,
      "outputs": [
        {
          "name": "stdout",
          "text": "['p', 'y', 't', 'h', 'o', 'n']\n[1, 2, 3]\n",
          "output_type": "stream"
        }
      ]
    },
    {
      "cell_type": "code",
      "source": "# map : 모든 요소에 함수값을 적용한다.\ndef two_times(x):\n    return x*2\nlist(map(two_times, [1,2,3,4]))",
      "metadata": {
        "trusted": true
      },
      "execution_count": 34,
      "outputs": [
        {
          "execution_count": 34,
          "output_type": "execute_result",
          "data": {
            "text/plain": "[2, 4, 6, 8]"
          },
          "metadata": {}
        }
      ]
    },
    {
      "cell_type": "code",
      "source": "# 최대,최소 : max,min\nprint(max([1,2,3]))\nprint(max(\"python\"))\nprint(min([1,2,3]))\nprint(min(\"python\"))     ",
      "metadata": {
        "trusted": true
      },
      "execution_count": 35,
      "outputs": [
        {
          "name": "stdout",
          "text": "3\ny\n1\nh\n",
          "output_type": "stream"
        }
      ]
    },
    {
      "cell_type": "code",
      "source": "# x의 y 제곱 : pow(x, y)\nprint(pow(2,4))\nprint(2**4)",
      "metadata": {
        "trusted": true
      },
      "execution_count": 36,
      "outputs": [
        {
          "name": "stdout",
          "text": "16\n16\n",
          "output_type": "stream"
        }
      ]
    },
    {
      "cell_type": "code",
      "source": "# 범위 함수 : range\nprint(list(range(1, 10, 2)))\nprint(list(range(0, -10, -1)))",
      "metadata": {
        "trusted": true
      },
      "execution_count": 37,
      "outputs": [
        {
          "name": "stdout",
          "text": "[1, 3, 5, 7, 9]\n[0, -1, -2, -3, -4, -5, -6, -7, -8, -9]\n",
          "output_type": "stream"
        }
      ]
    },
    {
      "cell_type": "code",
      "source": "# 반올림 : round\nprint(round(4.6))\nprint(round(5.678, 2))",
      "metadata": {
        "trusted": true
      },
      "execution_count": 38,
      "outputs": [
        {
          "name": "stdout",
          "text": "5\n5.68\n",
          "output_type": "stream"
        }
      ]
    },
    {
      "cell_type": "code",
      "source": "# 정렬 : sorted\nprint(sorted([3,1,2]))\nprint(sorted(['a', 'd', 'c', 'b']))\nprint(sorted(\"zero\"))",
      "metadata": {
        "trusted": true
      },
      "execution_count": 39,
      "outputs": [
        {
          "name": "stdout",
          "text": "[1, 2, 3]\n['a', 'b', 'c', 'd']\n['e', 'o', 'r', 'z']\n",
          "output_type": "stream"
        }
      ]
    },
    {
      "cell_type": "code",
      "source": "# 문자열 변환 : str\nstr(3)",
      "metadata": {
        "trusted": true
      },
      "execution_count": 40,
      "outputs": [
        {
          "execution_count": 40,
          "output_type": "execute_result",
          "data": {
            "text/plain": "'3'"
          },
          "metadata": {}
        }
      ]
    },
    {
      "cell_type": "code",
      "source": "# 합 : sum\nsum([1,2],3)",
      "metadata": {
        "trusted": true
      },
      "execution_count": 41,
      "outputs": [
        {
          "execution_count": 41,
          "output_type": "execute_result",
          "data": {
            "text/plain": "6"
          },
          "metadata": {}
        }
      ]
    },
    {
      "cell_type": "code",
      "source": "# 튜플 변환 : tuple\nprint(tuple(\"abcd\"))\nprint(tuple([1,3,5]))",
      "metadata": {
        "trusted": true
      },
      "execution_count": 42,
      "outputs": [
        {
          "name": "stdout",
          "text": "('a', 'b', 'c', 'd')\n(1, 3, 5)\n",
          "output_type": "stream"
        }
      ]
    },
    {
      "cell_type": "code",
      "source": "# 자료형 확인 : typle\nprint(type(\"abc\"))\nprint(type(1))\nprint(type([1,3,5]))\nprint(type(True))",
      "metadata": {
        "trusted": true
      },
      "execution_count": 43,
      "outputs": [
        {
          "name": "stdout",
          "text": "<class 'str'>\n<class 'int'>\n<class 'list'>\n<class 'bool'>\n",
          "output_type": "stream"
        }
      ]
    },
    {
      "cell_type": "code",
      "source": "# 동일한 개수로 묶어주는 함수 : zip\nlist(zip([1,2,3],[4,5,6],[7,8,9]))",
      "metadata": {
        "trusted": true
      },
      "execution_count": 44,
      "outputs": [
        {
          "execution_count": 44,
          "output_type": "execute_result",
          "data": {
            "text/plain": "[(1, 4, 7), (2, 5, 8), (3, 6, 9)]"
          },
          "metadata": {}
        }
      ]
    },
    {
      "cell_type": "code",
      "source": "# 예제\nbox1 = ['이순신', '홍길동', '아이유']\nbox2 = [1,3,5,4,2,-3,-4,-5]\n\nfor i,j in enumerate(box1):\n    print(i,j)",
      "metadata": {
        "trusted": true
      },
      "execution_count": 45,
      "outputs": [
        {
          "name": "stdout",
          "text": "0 이순신\n1 홍길동\n2 아이유\n",
          "output_type": "stream"
        }
      ]
    },
    {
      "cell_type": "code",
      "source": "# 예제\nbox1 = ['이순신', '홍길동', '아이유']\nbox2 = [1,3,5,4,2,-3,-4,-5]\n    \ndef test(x):\n    return x > 0\n\nprint(list(filter(test, box2)))",
      "metadata": {
        "trusted": true
      },
      "execution_count": 46,
      "outputs": [
        {
          "name": "stdout",
          "text": "[1, 3, 5, 4, 2]\n",
          "output_type": "stream"
        }
      ]
    },
    {
      "cell_type": "code",
      "source": "# 예제\nbox1 = ['이순신', '홍길동', '아이유']\nbox2 = [1,3,5,4,2,-3,-4,-5]\n    \ndef test(x):\n    return x * 10\n\nprint(list(map(test, box2)))",
      "metadata": {
        "trusted": true
      },
      "execution_count": 47,
      "outputs": [
        {
          "name": "stdout",
          "text": "[10, 30, 50, 40, 20, -30, -40, -50]\n",
          "output_type": "stream"
        }
      ]
    },
    {
      "cell_type": "code",
      "source": "# 실습\n'''1. 내장함수 abs() 함수를 사용하여 abs(-3) + abs(5)의 값을 변수 a에 할당하세요. \n\n2. 내장함수 round()함수를 사용하여 round(4.7)+round(2.2)의 값을 변수 b에 할당하세요. \n\n3. 내장함수 max(), min()함수를 사용하여 max([1,3,5,4,2]) + min([1,3,5,4,2])의 값을 변수 c에 할당하세요.\n\n4. 내장함수 sum() 함수를 사용하여 sum([2,4,3,1,5])의 값을 변수d에 할당하세요. \n\n5. 마지막으로 변수 a,b,c,d를 모두 더한 값을 화면에 출력하세요 '''\n\na = abs(-3) + abs(5)\nb = round(4.7) + round(2.2)\nc = max([1,3,5,4,2]) + min([1,3,5,4,2])\nd = sum([2,4,3,1,5])\nprint(a+b+c+d)",
      "metadata": {
        "trusted": true
      },
      "execution_count": 48,
      "outputs": [
        {
          "name": "stdout",
          "text": "36\n",
          "output_type": "stream"
        }
      ]
    },
    {
      "cell_type": "markdown",
      "source": "### 17장 내장함수\n- 다른 사람이 만들어 놓은 프로그램을 가져오는 기능",
      "metadata": {
        "tags": []
      }
    },
    {
      "cell_type": "raw",
      "source": "import 라이브러리 [as 변경이름]\nfrom 라이브러리 impot (함수, 클래스)이름 [as 변경이름]\n* Pandas(data분석), numpy(수치계산), tensorflow(인공지능)",
      "metadata": {}
    },
    {
      "cell_type": "code",
      "source": "# 시간 : time\nimport time\nprint(time.time())\nprint(time.ctime())",
      "metadata": {
        "trusted": true
      },
      "execution_count": 49,
      "outputs": [
        {
          "name": "stdout",
          "text": "1665544616.867\nWed Oct 12 12:16:56 2022\n",
          "output_type": "stream"
        }
      ]
    },
    {
      "cell_type": "code",
      "source": "# 달력 : calendar\nimport calendar\nprint(calendar.calendar(2023))\nprint(calendar.weekday(2023, 12, 3))",
      "metadata": {
        "trusted": true
      },
      "execution_count": 50,
      "outputs": [
        {
          "name": "stdout",
          "text": "                                  2023\n\n      January                   February                   March\nMo Tu We Th Fr Sa Su      Mo Tu We Th Fr Sa Su      Mo Tu We Th Fr Sa Su\n                   1             1  2  3  4  5             1  2  3  4  5\n 2  3  4  5  6  7  8       6  7  8  9 10 11 12       6  7  8  9 10 11 12\n 9 10 11 12 13 14 15      13 14 15 16 17 18 19      13 14 15 16 17 18 19\n16 17 18 19 20 21 22      20 21 22 23 24 25 26      20 21 22 23 24 25 26\n23 24 25 26 27 28 29      27 28                     27 28 29 30 31\n30 31\n\n       April                      May                       June\nMo Tu We Th Fr Sa Su      Mo Tu We Th Fr Sa Su      Mo Tu We Th Fr Sa Su\n                1  2       1  2  3  4  5  6  7                1  2  3  4\n 3  4  5  6  7  8  9       8  9 10 11 12 13 14       5  6  7  8  9 10 11\n10 11 12 13 14 15 16      15 16 17 18 19 20 21      12 13 14 15 16 17 18\n17 18 19 20 21 22 23      22 23 24 25 26 27 28      19 20 21 22 23 24 25\n24 25 26 27 28 29 30      29 30 31                  26 27 28 29 30\n\n        July                     August                  September\nMo Tu We Th Fr Sa Su      Mo Tu We Th Fr Sa Su      Mo Tu We Th Fr Sa Su\n                1  2          1  2  3  4  5  6                   1  2  3\n 3  4  5  6  7  8  9       7  8  9 10 11 12 13       4  5  6  7  8  9 10\n10 11 12 13 14 15 16      14 15 16 17 18 19 20      11 12 13 14 15 16 17\n17 18 19 20 21 22 23      21 22 23 24 25 26 27      18 19 20 21 22 23 24\n24 25 26 27 28 29 30      28 29 30 31               25 26 27 28 29 30\n31\n\n      October                   November                  December\nMo Tu We Th Fr Sa Su      Mo Tu We Th Fr Sa Su      Mo Tu We Th Fr Sa Su\n                   1             1  2  3  4  5                   1  2  3\n 2  3  4  5  6  7  8       6  7  8  9 10 11 12       4  5  6  7  8  9 10\n 9 10 11 12 13 14 15      13 14 15 16 17 18 19      11 12 13 14 15 16 17\n16 17 18 19 20 21 22      20 21 22 23 24 25 26      18 19 20 21 22 23 24\n23 24 25 26 27 28 29      27 28 29 30               25 26 27 28 29 30 31\n30 31\n\n6\n",
          "output_type": "stream"
        }
      ]
    },
    {
      "cell_type": "code",
      "source": "# 랜덤 : random\nimport random\nprint(random.random())\nprint(random.randint(1,10))\n\ndata = [1,2,3,4,5]\nrandom.shuffle(data)\nprint(data)",
      "metadata": {
        "trusted": true
      },
      "execution_count": 51,
      "outputs": [
        {
          "name": "stdout",
          "text": "0.2601724059655126\n8\n[5, 3, 4, 2, 1]\n",
          "output_type": "stream"
        }
      ]
    },
    {
      "cell_type": "code",
      "source": "# 랜덤 : random \nimport random\ndata = [1,2,3,4,5]\nrandom.sample(data, 3)\ndata",
      "metadata": {
        "trusted": true
      },
      "execution_count": 52,
      "outputs": [
        {
          "execution_count": 52,
          "output_type": "execute_result",
          "data": {
            "text/plain": "[1, 2, 3, 4, 5]"
          },
          "metadata": {}
        }
      ]
    },
    {
      "cell_type": "code",
      "source": "# 예시 \nimport calendar\nprint(calendar.weekday(2015,12,31))\nfrom calendar import weekday as wd\nprint(wd(2015,12,31))",
      "metadata": {
        "trusted": true
      },
      "execution_count": 53,
      "outputs": [
        {
          "name": "stdout",
          "text": "3\n3\n",
          "output_type": "stream"
        }
      ]
    },
    {
      "cell_type": "code",
      "source": "'''1. time 라이브러리를 가져와서 tm이라는 이름으로 사용하세요. \n2. random 라이브러리로부터 randint함수만 가져오세요. \n3. time 라이브러리를 사용해서 오늘이 무슨 요일인지 화면에 출력해보세요. \n4. random 라이브러리의 randint()함수를 사용하여 1부터 10까지 컴퓨터가 랜덤으로 번호를 갖게하고, \n컴퓨터의 번호를 맞추는 게임을 만들어보세요. (번호를 맞추면 \"맞췄습니다!\"를 출력하고, 틀리면 \"틀렸습니다\"가 출력되면 됩니다)'''\n\nimport time as tm\nfrom random import randint\n\nprint(tm.ctime().split()[0])\n\ncom = randint(1,10)\nme = int(input(\"값을 입력해주세요 : \"))\n\nif com == me:\n    print(\"맞췃습니다!\")\nelse:\n    print(\"틀렸습니다!\")",
      "metadata": {
        "trusted": true
      },
      "execution_count": 54,
      "outputs": [
        {
          "name": "stdout",
          "text": "Wed\n",
          "output_type": "stream"
        },
        {
          "ename": "<class 'TypeError'>",
          "evalue": "int() argument must be a string, a bytes-like object or a real number, not 'Future'",
          "traceback": [
            "\u001b[0;31m---------------------------------------------------------------------------\u001b[0m",
            "\u001b[0;31mTypeError\u001b[0m                                 Traceback (most recent call last)",
            "Cell \u001b[0;32mIn [54], line 13\u001b[0m\n\u001b[1;32m     10\u001b[0m \u001b[38;5;28mprint\u001b[39m(tm\u001b[38;5;241m.\u001b[39mctime()\u001b[38;5;241m.\u001b[39msplit()[\u001b[38;5;241m0\u001b[39m])\n\u001b[1;32m     12\u001b[0m com \u001b[38;5;241m=\u001b[39m randint(\u001b[38;5;241m1\u001b[39m,\u001b[38;5;241m10\u001b[39m)\n\u001b[0;32m---> 13\u001b[0m me \u001b[38;5;241m=\u001b[39m \u001b[38;5;28;43mint\u001b[39;49m\u001b[43m(\u001b[49m\u001b[38;5;28;43minput\u001b[39;49m\u001b[43m(\u001b[49m\u001b[38;5;124;43m\"\u001b[39;49m\u001b[38;5;124;43m값을 입력해주세요 : \u001b[39;49m\u001b[38;5;124;43m\"\u001b[39;49m\u001b[43m)\u001b[49m\u001b[43m)\u001b[49m\n\u001b[1;32m     15\u001b[0m \u001b[38;5;28;01mif\u001b[39;00m com \u001b[38;5;241m==\u001b[39m me:\n\u001b[1;32m     16\u001b[0m     \u001b[38;5;28mprint\u001b[39m(\u001b[38;5;124m\"\u001b[39m\u001b[38;5;124m맞췃습니다!\u001b[39m\u001b[38;5;124m\"\u001b[39m)\n",
            "\u001b[0;31mTypeError\u001b[0m: int() argument must be a string, a bytes-like object or a real number, not 'Future'"
          ],
          "output_type": "error"
        }
      ]
    }
  ]
}