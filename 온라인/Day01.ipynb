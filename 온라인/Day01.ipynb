{
  "metadata": {
    "language_info": {
      "codemirror_mode": {
        "name": "python",
        "version": 3
      },
      "file_extension": ".py",
      "mimetype": "text/x-python",
      "name": "python",
      "nbconvert_exporter": "python",
      "pygments_lexer": "ipython3",
      "version": "3.8"
    },
    "kernelspec": {
      "name": "python",
      "display_name": "Python (Pyodide)",
      "language": "python"
    }
  },
  "nbformat_minor": 4,
  "nbformat": 4,
  "cells": [
    {
      "cell_type": "markdown",
      "source": "### 1강 파이썬 알아보기",
      "metadata": {}
    },
    {
      "cell_type": "markdown",
      "source": "+ 파이썬\n+ 아나콘다 파이썬\n+ Jupyter Notebook\n+ Google Colab\n+ Pycharm (community)",
      "metadata": {}
    },
    {
      "cell_type": "markdown",
      "source": "### 2강 숫자형 자료형",
      "metadata": {}
    },
    {
      "cell_type": "markdown",
      "source": "+ 정수형\n+ 실수형\n+ 지수표현 E\n+ 덧셈, 뺄셈, 곱셈, 나눗셈\n+ 몫(//), 나머지(%)",
      "metadata": {}
    },
    {
      "cell_type": "markdown",
      "source": "### 3강 문자열 자료형",
      "metadata": {
        "tags": []
      }
    },
    {
      "cell_type": "markdown",
      "source": "+ 문자, 단어 등으로 구성된 문자들의 집합",
      "metadata": {
        "tags": []
      }
    },
    {
      "cell_type": "code",
      "source": "text = 'Hello World!'\ntext = \"Hello World!\"\ntext = '''Hello World!'''\ntext = \"\"\"Hello World!\"\"\"\nprint(text)",
      "metadata": {
        "trusted": true
      },
      "execution_count": 175,
      "outputs": [
        {
          "name": "stdout",
          "text": "Hello World!\n",
          "output_type": "stream"
        }
      ]
    },
    {
      "cell_type": "code",
      "source": "text = 'He said \"Hi\" to me.'\nprint(text)",
      "metadata": {
        "trusted": true
      },
      "execution_count": 176,
      "outputs": [
        {
          "name": "stdout",
          "text": "He said \"Hi\" to me.\n",
          "output_type": "stream"
        }
      ]
    },
    {
      "cell_type": "code",
      "source": "text = \"He said \\\"Hi\\\" to me.\"\nprint(text)",
      "metadata": {
        "trusted": true
      },
      "execution_count": 177,
      "outputs": [
        {
          "name": "stdout",
          "text": "He said \"Hi\" to me.\n",
          "output_type": "stream"
        }
      ]
    },
    {
      "cell_type": "markdown",
      "source": "+ 이스케이프 코드 : 미리 정의 둔 문자조합\n+ \\n : 줄 바꿈,  \\t : 탭,  \\' : 작은 따옴표 사용,  \\\" : 큰 따옴표 사용",
      "metadata": {}
    },
    {
      "cell_type": "code",
      "source": "# 줄 바꿈 코드 (\\n)\ntext = \"Life is too short \\nYou need Python.\"\nprint(text)",
      "metadata": {
        "trusted": true
      },
      "execution_count": 178,
      "outputs": [
        {
          "name": "stdout",
          "text": "Life is too short \nYou need Python.\n",
          "output_type": "stream"
        }
      ]
    },
    {
      "cell_type": "code",
      "source": "# ''', \"\"\"\ntext = \"\"\"Life is too short\nYou need Python.\"\"\"\nprint(text)",
      "metadata": {
        "trusted": true
      },
      "execution_count": 179,
      "outputs": [
        {
          "name": "stdout",
          "text": "Life is too short\nYou need Python.\n",
          "output_type": "stream"
        }
      ]
    },
    {
      "cell_type": "code",
      "source": "# 문자열 덧셈, 곱셈\na = 'Python'\nb = ' is too fun!'\nprint(a + b)\n# 뺄셈은 불가",
      "metadata": {
        "trusted": true
      },
      "execution_count": 181,
      "outputs": [
        {
          "name": "stdout",
          "text": "Python is too fun!\n",
          "output_type": "stream"
        }
      ]
    },
    {
      "cell_type": "code",
      "source": "a = 'Python '\nprint(a * 3)",
      "metadata": {
        "trusted": true
      },
      "execution_count": 182,
      "outputs": [
        {
          "name": "stdout",
          "text": "Python Python Python \n",
          "output_type": "stream"
        }
      ]
    },
    {
      "cell_type": "code",
      "source": "a = 'Python'\nprint(len(a))",
      "metadata": {
        "trusted": true
      },
      "execution_count": 183,
      "outputs": [
        {
          "name": "stdout",
          "text": "6\n",
          "output_type": "stream"
        }
      ]
    },
    {
      "cell_type": "code",
      "source": "a = 'Python'\nprint(a[0])\nprint(a[-1])",
      "metadata": {
        "trusted": true
      },
      "execution_count": 184,
      "outputs": [
        {
          "name": "stdout",
          "text": "P\nn\n",
          "output_type": "stream"
        }
      ]
    },
    {
      "cell_type": "code",
      "source": "a = 'Python is too fun!'\nprint(a[2:9])\nprint(a[:9])\nprint(a[7:])",
      "metadata": {
        "trusted": true
      },
      "execution_count": 185,
      "outputs": [
        {
          "name": "stdout",
          "text": "thon is\nPython is\nis too fun!\n",
          "output_type": "stream"
        }
      ]
    },
    {
      "cell_type": "markdown",
      "source": "- 문자열 전용 함수 : format",
      "metadata": {}
    },
    {
      "cell_type": "code",
      "source": "text = \"I eat {} apples\".format(3)\nprint(text)",
      "metadata": {
        "trusted": true
      },
      "execution_count": 186,
      "outputs": [
        {
          "name": "stdout",
          "text": "I eat 3 apples\n",
          "output_type": "stream"
        }
      ]
    },
    {
      "cell_type": "code",
      "source": "text = \"I eat {} apples and {} oranges\".format(3, 5)\nprint(text)",
      "metadata": {
        "trusted": true
      },
      "execution_count": 187,
      "outputs": [
        {
          "name": "stdout",
          "text": "I eat 3 apples and 5 oranges\n",
          "output_type": "stream"
        }
      ]
    },
    {
      "cell_type": "code",
      "source": "# 10개의 공간 할당\ntext = \"{:<10}\".format(\"Hi\")\nprint(text)",
      "metadata": {
        "trusted": true
      },
      "execution_count": 188,
      "outputs": [
        {
          "name": "stdout",
          "text": "Hi        \n",
          "output_type": "stream"
        }
      ]
    },
    {
      "cell_type": "code",
      "source": "# 가운데 정렬\ntext = \"{:^10}\".format(\"Hi\")\nprint(text)",
      "metadata": {
        "trusted": true
      },
      "execution_count": 189,
      "outputs": [
        {
          "name": "stdout",
          "text": "    Hi    \n",
          "output_type": "stream"
        }
      ]
    },
    {
      "cell_type": "code",
      "source": "# 문자로 채움, 가운데 정렬\ntext = \"{:=^10}\".format(\"Hi\")\nprint(text)",
      "metadata": {
        "trusted": true
      },
      "execution_count": 190,
      "outputs": [
        {
          "name": "stdout",
          "text": "====Hi====\n",
          "output_type": "stream"
        }
      ]
    },
    {
      "cell_type": "code",
      "source": "# float, 2자리까지만 표현\ntext = \"{:.2f}\".format(3.141592)\nprint(text)",
      "metadata": {
        "trusted": true
      },
      "execution_count": 191,
      "outputs": [
        {
          "name": "stdout",
          "text": "3.14\n",
          "output_type": "stream"
        }
      ]
    },
    {
      "cell_type": "markdown",
      "source": "- 문자열 전용 함수 : count, find, join, upper, lower",
      "metadata": {}
    },
    {
      "cell_type": "code",
      "source": "text = \"Python:is:too:fun!\"\nprint(text.count('o'))",
      "metadata": {
        "trusted": true
      },
      "execution_count": 192,
      "outputs": [
        {
          "name": "stdout",
          "text": "3\n",
          "output_type": "stream"
        }
      ]
    },
    {
      "cell_type": "code",
      "source": "text = \"Python:is:too:fun!\"\nprint(text.find('o'))\nprint(text.find(\"d\"))\n# 없으면 -1 출력",
      "metadata": {
        "trusted": true
      },
      "execution_count": 193,
      "outputs": [
        {
          "name": "stdout",
          "text": "4\n-1\n",
          "output_type": "stream"
        }
      ]
    },
    {
      "cell_type": "code",
      "source": "# join 함수\ntext = \",\".join(\"abcde\")\nprint(text)",
      "metadata": {
        "trusted": true
      },
      "execution_count": 194,
      "outputs": [
        {
          "name": "stdout",
          "text": "a,b,c,d,e\n",
          "output_type": "stream"
        }
      ]
    },
    {
      "cell_type": "code",
      "source": "# upper, lower\ntext = \"Python is too fun!\"\nprint(text.upper())\nprint(text.lower())",
      "metadata": {
        "trusted": true
      },
      "execution_count": 195,
      "outputs": [
        {
          "name": "stdout",
          "text": "PYTHON IS TOO FUN!\npython is too fun!\n",
          "output_type": "stream"
        }
      ]
    },
    {
      "cell_type": "code",
      "source": "# 공백제거\n# lstrip\ntext = \"     Python     \"\nprint(text.lstrip())\n# rstrip\ntext = \"     Python     \"\nprint(text.rstrip())\n# strip\ntext = \"     Python     \"\nprint(text.strip())",
      "metadata": {
        "trusted": true
      },
      "execution_count": 196,
      "outputs": [
        {
          "name": "stdout",
          "text": "Python     \n     Python\nPython\n",
          "output_type": "stream"
        }
      ]
    },
    {
      "cell_type": "code",
      "source": "# replace\ntext = \"Python is too fun!\"\nprint(text.replace(\"Python\",\"Java\"))",
      "metadata": {
        "trusted": true
      },
      "execution_count": 197,
      "outputs": [
        {
          "name": "stdout",
          "text": "Java is too fun!\n",
          "output_type": "stream"
        }
      ]
    },
    {
      "cell_type": "code",
      "source": "# split : 빈공간 기준으로 잘라서 리스트로 전환\ntext = \"Python is too fun!\"\nprint(text.split())\n# 기준 설정 가능\ntext = \"Python:is:too:fun!\"\nprint(text.split(':'))",
      "metadata": {
        "trusted": true
      },
      "execution_count": 198,
      "outputs": [
        {
          "name": "stdout",
          "text": "['Python', 'is', 'too', 'fun!']\n['Python', 'is', 'too', 'fun!']\n",
          "output_type": "stream"
        }
      ]
    },
    {
      "cell_type": "code",
      "source": "# startswith : 해당 문자로 시작을 하는지 물어보는 함수\ntext = \"Python is too fun!\"\nprint(text.startswith(\"Python\"))\n# startswith : 해당 문자로 끝나는지 물어보는 함수\ntext = \"Python:is:too:fun!\"\nprint(text.endswith('fun!'))",
      "metadata": {
        "trusted": true
      },
      "execution_count": 199,
      "outputs": [
        {
          "name": "stdout",
          "text": "True\nTrue\n",
          "output_type": "stream"
        }
      ]
    },
    {
      "cell_type": "code",
      "source": "# isalpha : 글자들로만 구성되어있는지 \ntext = \"Python is too fun!\"\nprint(text.isalpha())\ntext = \"Python\"\nprint(text.isalpha())\n# isdigit : 숫자로만 구성되어있는지\n# isalnum : 글자, 숫자로 구성되어있는지\n# isspace : 공백으로만 구성되어있는지\ntext = '   '\nprint(text.isspace())",
      "metadata": {
        "trusted": true
      },
      "execution_count": 200,
      "outputs": [
        {
          "name": "stdout",
          "text": "False\nTrue\nTrue\n",
          "output_type": "stream"
        }
      ]
    },
    {
      "cell_type": "markdown",
      "source": "### 실습문제\n- \"변수 n에 할당된 값 만큼 \"수박\" 출력하는 코드 작성",
      "metadata": {}
    },
    {
      "cell_type": "code",
      "source": "n = 5\na = \"수박\" * n\nprint(a[:n])",
      "metadata": {
        "trusted": true
      },
      "execution_count": 53,
      "outputs": [
        {
          "name": "stdout",
          "text": "수박수박수\n",
          "output_type": "stream"
        }
      ]
    },
    {
      "cell_type": "markdown",
      "source": "### 4강 리스트 자료형",
      "metadata": {}
    },
    {
      "cell_type": "markdown",
      "source": "- 여러가지 자료를 저장할 수 있는 자료형",
      "metadata": {}
    },
    {
      "cell_type": "code",
      "source": "a = []\nb = [1,2,3]\nc = ['Life','is','too','short']\nd = [1, 2, 'Life', 'is']\ne = [1, 2, ['Life', 'is']]\n\n# 2차원 리스트 \nf = [[1,2],[3,4],[5,6]]",
      "metadata": {
        "trusted": true
      },
      "execution_count": 201,
      "outputs": []
    },
    {
      "cell_type": "code",
      "source": "# 리스트 인덱싱\na = [1,2,3]\nprint(a[0])\nprint(a[-1])",
      "metadata": {
        "trusted": true
      },
      "execution_count": 202,
      "outputs": [
        {
          "name": "stdout",
          "text": "1\n3\n",
          "output_type": "stream"
        }
      ]
    },
    {
      "cell_type": "code",
      "source": "# 리스트 슬라이싱 [시작점 : 끝점 : 증감값]\na = [1,2,3,4,5]\nprint(a[0:2])\nprint(a[2:])\nprint(a[0:4:2])",
      "metadata": {
        "trusted": true
      },
      "execution_count": 203,
      "outputs": [
        {
          "name": "stdout",
          "text": "[1, 2]\n[3, 4, 5]\n[1, 3]\n",
          "output_type": "stream"
        }
      ]
    },
    {
      "cell_type": "code",
      "source": "# 리스트 덧셈 , 뺼셈 불가\na = [1,2,3]\nb = [4,5,6]\na + b",
      "metadata": {
        "trusted": true
      },
      "execution_count": 204,
      "outputs": [
        {
          "execution_count": 204,
          "output_type": "execute_result",
          "data": {
            "text/plain": "[1, 2, 3, 4, 5, 6]"
          },
          "metadata": {}
        }
      ]
    },
    {
      "cell_type": "code",
      "source": "# 리스트 곱셈\na = [1,2,3]\na * 3",
      "metadata": {
        "trusted": true
      },
      "execution_count": 205,
      "outputs": [
        {
          "execution_count": 205,
          "output_type": "execute_result",
          "data": {
            "text/plain": "[1, 2, 3, 1, 2, 3, 1, 2, 3]"
          },
          "metadata": {}
        }
      ]
    },
    {
      "cell_type": "code",
      "source": "# 리스트 길이 구하기\na = [1,2,3]\nlen(a)",
      "metadata": {
        "trusted": true
      },
      "execution_count": 206,
      "outputs": [
        {
          "execution_count": 206,
          "output_type": "execute_result",
          "data": {
            "text/plain": "3"
          },
          "metadata": {}
        }
      ]
    },
    {
      "cell_type": "code",
      "source": "# 리스트 값 수정하기\na = [1,2,3]\na[2]=4\na",
      "metadata": {
        "trusted": true
      },
      "execution_count": 207,
      "outputs": [
        {
          "execution_count": 207,
          "output_type": "execute_result",
          "data": {
            "text/plain": "[1, 2, 4]"
          },
          "metadata": {}
        }
      ]
    },
    {
      "cell_type": "code",
      "source": "# 리스트 값 삭제하기\na = [1,2,3]\ndel a[1]\na",
      "metadata": {
        "trusted": true
      },
      "execution_count": 208,
      "outputs": [
        {
          "execution_count": 208,
          "output_type": "execute_result",
          "data": {
            "text/plain": "[1, 3]"
          },
          "metadata": {}
        }
      ]
    },
    {
      "cell_type": "code",
      "source": "# 리스트 값 삭제하기\na = [1,2,3,4,5]\ndel a[3:]\na",
      "metadata": {
        "trusted": true
      },
      "execution_count": 209,
      "outputs": [
        {
          "execution_count": 209,
          "output_type": "execute_result",
          "data": {
            "text/plain": "[1, 2, 3]"
          },
          "metadata": {}
        }
      ]
    },
    {
      "cell_type": "code",
      "source": "# 리스트 내장함수\na = \"python\"\nlist(a)",
      "metadata": {
        "trusted": true
      },
      "execution_count": 210,
      "outputs": [
        {
          "execution_count": 210,
          "output_type": "execute_result",
          "data": {
            "text/plain": "['p', 'y', 't', 'h', 'o', 'n']"
          },
          "metadata": {}
        }
      ]
    },
    {
      "cell_type": "code",
      "source": "# 리스트 전용함수 : append\na = [1, 2, 3]\na.append(4)\na.append([5,6])\na",
      "metadata": {
        "trusted": true
      },
      "execution_count": 211,
      "outputs": [
        {
          "execution_count": 211,
          "output_type": "execute_result",
          "data": {
            "text/plain": "[1, 2, 3, 4, [5, 6]]"
          },
          "metadata": {}
        }
      ]
    },
    {
      "cell_type": "code",
      "source": "# 리스트 전용함수 : sort\na = [1, 4, 2, 3]\na.sort()\nprint(a)\na.sort(reverse=True)\nprint(a)\nb = ['a','c','b']\nb.sort()\nprint(b)\nb.reverse()\nprint(b)\n\n# 슬라이싱으로 거꾸로 표현 가능\nprint(a[::-1])",
      "metadata": {
        "trusted": true
      },
      "execution_count": 212,
      "outputs": [
        {
          "name": "stdout",
          "text": "[1, 2, 3, 4]\n[4, 3, 2, 1]\n['a', 'b', 'c']\n['c', 'b', 'a']\n[1, 2, 3, 4]\n",
          "output_type": "stream"
        }
      ]
    },
    {
      "cell_type": "code",
      "source": "# 리스트 전용함수 : index\na = [1, 4, 2, 3]\na.index(4)\n# print(a.index(5)) -- 없으면 error발생",
      "metadata": {
        "trusted": true
      },
      "execution_count": 213,
      "outputs": [
        {
          "execution_count": 213,
          "output_type": "execute_result",
          "data": {
            "text/plain": "1"
          },
          "metadata": {}
        }
      ]
    },
    {
      "cell_type": "code",
      "source": "# 리스트 전용함수 : insert\na = [1, 2, 3, 4]\na.insert(0,4)\na",
      "metadata": {
        "trusted": true
      },
      "execution_count": 214,
      "outputs": [
        {
          "execution_count": 214,
          "output_type": "execute_result",
          "data": {
            "text/plain": "[4, 1, 2, 3, 4]"
          },
          "metadata": {}
        }
      ]
    },
    {
      "cell_type": "code",
      "source": "# 리스트 전용함수 : remove\n# 첫번째로 찾은 값만 지워줌\na = [1, 2, 3, 1, 2, 3]\na.remove(3)\na",
      "metadata": {
        "trusted": true
      },
      "execution_count": 215,
      "outputs": [
        {
          "execution_count": 215,
          "output_type": "execute_result",
          "data": {
            "text/plain": "[1, 2, 1, 2, 3]"
          },
          "metadata": {}
        }
      ]
    },
    {
      "cell_type": "code",
      "source": "# 리스트 전용함수 : pop (마지막 값을 뽑음)\na = [1, 2, 3]\na.pop()\na\n# 뽑은 값을 저장해둘수있음(?)",
      "metadata": {
        "trusted": true
      },
      "execution_count": 216,
      "outputs": [
        {
          "execution_count": 216,
          "output_type": "execute_result",
          "data": {
            "text/plain": "[1, 2]"
          },
          "metadata": {}
        }
      ]
    },
    {
      "cell_type": "code",
      "source": "# 리스트 전용함수 : count\na = [1, 2, 3, 1]\na.count(1)",
      "metadata": {
        "trusted": true
      },
      "execution_count": 217,
      "outputs": [
        {
          "execution_count": 217,
          "output_type": "execute_result",
          "data": {
            "text/plain": "2"
          },
          "metadata": {}
        }
      ]
    },
    {
      "cell_type": "code",
      "source": "# 리스트 전용함수 : extend (완전히 합쳐준 후 저장)\na = [1, 2, 3]\na.extend([4,5])\na\n# a = a + [4,5] 와 같음",
      "metadata": {
        "trusted": true
      },
      "execution_count": 218,
      "outputs": [
        {
          "execution_count": 218,
          "output_type": "execute_result",
          "data": {
            "text/plain": "[1, 2, 3, 4, 5]"
          },
          "metadata": {}
        }
      ]
    },
    {
      "cell_type": "markdown",
      "source": "#### 실습문제 \n\n리스트 값이 저장된 a의 최대값을 변수 c에 할당하고, 최소값을 변수 d에 할당\n변수 b에서 인덱싱을 사용해서 5만 추출해서 변수 e에 할당\n변수 c, d, e를 곱한 값을 출력\n\n- a = [1, 3, 5, 4, 2]\n- b = [1, 2, 3, [4, 5]]",
      "metadata": {}
    },
    {
      "cell_type": "code",
      "source": "a = [1,3,5,4,2]\na.sort()\nc = a[-1]\nd = a[0]\n\nb = [1,2,3,[4,5]] \ne = b[3][1]\n\nprint(c * d * e)",
      "metadata": {
        "trusted": true
      },
      "execution_count": 219,
      "outputs": [
        {
          "name": "stdout",
          "text": "25\n",
          "output_type": "stream"
        }
      ]
    },
    {
      "cell_type": "code",
      "source": "# 내장함수\na = [1,3,5,4,2]\nprint(max(a))\nprint(min(a))",
      "metadata": {
        "trusted": true
      },
      "execution_count": 220,
      "outputs": [
        {
          "name": "stdout",
          "text": "5\n1\n",
          "output_type": "stream"
        }
      ]
    },
    {
      "cell_type": "markdown",
      "source": "### 5강 튜플 자료형",
      "metadata": {}
    },
    {
      "cell_type": "markdown",
      "source": "- 데이터들이 연속적으로 저장되는 형태의 자료형",
      "metadata": {}
    },
    {
      "cell_type": "code",
      "source": "tuple1 = (1,2,3)\ntuple2 = (1,2,3,[4,5])\nprint(tuple1)\ntuple2",
      "metadata": {
        "trusted": true
      },
      "execution_count": 142,
      "outputs": [
        {
          "name": "stdout",
          "text": "(1, 2, 3)\n",
          "output_type": "stream"
        },
        {
          "execution_count": 142,
          "output_type": "execute_result",
          "data": {
            "text/plain": "(1, 2, 3, [4, 5])"
          },
          "metadata": {}
        }
      ]
    },
    {
      "cell_type": "markdown",
      "source": "+ 튜플은 한번 정하면 절대 수정하거나 삭제할 수가 없다.\n+ 하나의 변수에 여러 개의 값을 할당하면, 자동으로 튜플로 묶어서 저장해준다.\n+ 기본적으로는 하나의 값은 취급하지 않는다.",
      "metadata": {
        "jp-MarkdownHeadingCollapsed": true,
        "tags": []
      }
    },
    {
      "cell_type": "code",
      "source": "# 튜플 인덱싱\ntuple1 = (1,3,5,4,2)\nprint(tuple1[0])\nprint(tuple1[-1])",
      "metadata": {
        "trusted": true
      },
      "execution_count": 221,
      "outputs": [
        {
          "name": "stdout",
          "text": "1\n2\n",
          "output_type": "stream"
        }
      ]
    },
    {
      "cell_type": "code",
      "source": "# 튜플 슬라이싱\ntuple1 = (1,3,5,4,2,0,7)\nprint(tuple1[2:5])\nprint(tuple1[3:])\nprint(tuple1[:5])",
      "metadata": {
        "trusted": true
      },
      "execution_count": 222,
      "outputs": [
        {
          "name": "stdout",
          "text": "(5, 4, 2)\n(4, 2, 0, 7)\n(1, 3, 5, 4, 2)\n",
          "output_type": "stream"
        }
      ]
    },
    {
      "cell_type": "code",
      "source": "# 튜플 덧셈 \na = (1,2,3) \nb = (4,5,6)\nprint(a+b)",
      "metadata": {
        "trusted": true
      },
      "execution_count": 223,
      "outputs": [
        {
          "name": "stdout",
          "text": "(1, 2, 3, 4, 5, 6)\n",
          "output_type": "stream"
        }
      ]
    },
    {
      "cell_type": "code",
      "source": "# 튜플 곱셈\na = (1,2,3)\nprint(a * 3)",
      "metadata": {
        "trusted": true
      },
      "execution_count": 224,
      "outputs": [
        {
          "name": "stdout",
          "text": "(1, 2, 3, 1, 2, 3, 1, 2, 3)\n",
          "output_type": "stream"
        }
      ]
    },
    {
      "cell_type": "code",
      "source": "# 튜플 길이 구하기 : len\na = (1,2,3)\nprint(len(a))",
      "metadata": {
        "trusted": true
      },
      "execution_count": 225,
      "outputs": [
        {
          "name": "stdout",
          "text": "3\n",
          "output_type": "stream"
        }
      ]
    },
    {
      "cell_type": "code",
      "source": "# 튜플 리스트로 변환: list()\na = (1,3,5,4,2)\na = list(a)\nprint(a)",
      "metadata": {
        "trusted": true
      },
      "execution_count": 226,
      "outputs": [
        {
          "name": "stdout",
          "text": "[1, 3, 5, 4, 2]\n",
          "output_type": "stream"
        }
      ]
    },
    {
      "cell_type": "code",
      "source": "# 리스트를 튜플로 변환 : tuple()\na = [1,3,5,4,2]\na = tuple(a)\nprint(a)",
      "metadata": {
        "trusted": true
      },
      "execution_count": 227,
      "outputs": [
        {
          "name": "stdout",
          "text": "(1, 3, 5, 4, 2)\n",
          "output_type": "stream"
        }
      ]
    },
    {
      "cell_type": "code",
      "source": "# 예시 - 슬라이싱\na = (1,2,3,4,5,6,7,8,9,10)\nprint(a[2:6])\nprint(a[:6])\nprint(a[3:])\nprint(a[::2])",
      "metadata": {
        "trusted": true
      },
      "execution_count": 231,
      "outputs": [
        {
          "name": "stdout",
          "text": "(3, 4, 5, 6)\n(1, 2, 3, 4, 5, 6)\n(4, 5, 6, 7, 8, 9, 10)\n(1, 3, 5, 7, 9)\n",
          "output_type": "stream"
        }
      ]
    },
    {
      "cell_type": "code",
      "source": "# 예시 - 리스트 변환 후 삭제/수정\na = (1,2,3)\na = list(a)\na[1] = 10\nprint(a)\na = tuple(a)\nprint(a)",
      "metadata": {
        "trusted": true
      },
      "execution_count": 235,
      "outputs": [
        {
          "name": "stdout",
          "text": "[1, 10, 3]\n(1, 10, 3)\n",
          "output_type": "stream"
        }
      ]
    },
    {
      "cell_type": "code",
      "source": "# 실습문제\n# 튜플이 저장된 변수 a에 정수 5를 추가하시고, 내림차순으로 정렬된 튜플을 화면에 출력해보세요.\n\na = (2, 3, 1, 4)\na = list(a)\na.append(5)\na.sort(reverse = True)\na = tuple(a)\nprint(a)",
      "metadata": {
        "tags": [],
        "trusted": true
      },
      "execution_count": 238,
      "outputs": [
        {
          "name": "stdout",
          "text": "(5, 4, 3, 2, 1)\n",
          "output_type": "stream"
        }
      ]
    },
    {
      "cell_type": "markdown",
      "source": "### 6강 딕셔너리 자료형",
      "metadata": {
        "tags": []
      }
    },
    {
      "cell_type": "markdown",
      "source": "+ 대응 관계를 나타낼 수 있는 자료형",
      "metadata": {}
    },
    {
      "cell_type": "code",
      "source": "# 데이터를 한쌍씩 넣어주어야 함\ndic = {\"이름\" : \"홍길동\", \"성별\" : \"남자\", \"나이\" : 30}\nprint(dic)",
      "metadata": {
        "trusted": true
      },
      "execution_count": 239,
      "outputs": [
        {
          "name": "stdout",
          "text": "{'이름': '홍길동', '성별': '남자', '나이': 30}\n",
          "output_type": "stream"
        }
      ]
    },
    {
      "cell_type": "markdown",
      "source": "- 딕셔너리는 무조건 Key값 기준으로 판단하고, 수행한다.\n- 딕셔너리는 집합 형태로 구성되어 있어, 순서가 없다.\n- Key 값으로 리스트를 쓸 수 없다. \n- 중복된 Key값은 존재할 수 없다.\n- Key값으로 튜플은 가능하다.",
      "metadata": {}
    },
    {
      "cell_type": "code",
      "source": "# 딕셔너리에 값 추가하기\ndic = {\"이름\" : \"홍길동\", \"성별\" : \"남자\", \"나이\" : 30}\ndic['사는곳'] = '수원'\nprint(dic)",
      "metadata": {
        "trusted": true
      },
      "execution_count": 240,
      "outputs": [
        {
          "name": "stdout",
          "text": "{'이름': '홍길동', '성별': '남자', '나이': 30, '사는곳': '수원'}\n",
          "output_type": "stream"
        }
      ]
    },
    {
      "cell_type": "code",
      "source": "# 딕셔너리에 값이 있는지 확인하기\ndic = {\"이름\" : \"홍길동\", \"성별\" : \"남자\", \"나이\" : 30}\n\nprint('이름' in dic)\nprint('홍길동' in dic)",
      "metadata": {
        "trusted": true
      },
      "execution_count": 241,
      "outputs": [
        {
          "name": "stdout",
          "text": "True\nFalse\n",
          "output_type": "stream"
        }
      ]
    },
    {
      "cell_type": "code",
      "source": "# 딕셔너리에서 값 삭제하기\ndic = {\"이름\" : \"홍길동\", \"성별\" : \"남자\", \"나이\" : 30}\ndel dic['나이']\nprint(dic)",
      "metadata": {
        "trusted": true
      },
      "execution_count": 242,
      "outputs": [
        {
          "name": "stdout",
          "text": "{'이름': '홍길동', '성별': '남자'}\n",
          "output_type": "stream"
        }
      ]
    },
    {
      "cell_type": "code",
      "source": "# 딕셔너리 key값에 접근하기\ndic = {\"이름\" : \"홍길동\", \"성별\" : \"남자\", \"나이\" : 30}\nprint(dic['성별'])\n# key값이 없는경우 에러발생!",
      "metadata": {
        "trusted": true
      },
      "execution_count": 243,
      "outputs": [
        {
          "name": "stdout",
          "text": "남자\n",
          "output_type": "stream"
        }
      ]
    },
    {
      "cell_type": "code",
      "source": "# 딕셔너리 값 변경 (덮어씌움)\ndic = {\"이름\" : \"홍길동\", \"성별\" : \"남자\", \"나이\" : 30}\ndic['이름'] = '강동원'\nprint(dic)",
      "metadata": {
        "trusted": true
      },
      "execution_count": 244,
      "outputs": [
        {
          "name": "stdout",
          "text": "{'이름': '강동원', '성별': '남자', '나이': 30}\n",
          "output_type": "stream"
        }
      ]
    },
    {
      "cell_type": "code",
      "source": "# 딕셔너리는 중복된 key값을 가질 수 없다\ndic = {\"이름\" : \"홍길동\", \"이름\" : \"남자\"}\nprint(dic)\n# 가장 마지막에 넣은 Key값을 가짐",
      "metadata": {
        "trusted": true
      },
      "execution_count": 245,
      "outputs": [
        {
          "name": "stdout",
          "text": "{'이름': '남자'}\n",
          "output_type": "stream"
        }
      ]
    },
    {
      "cell_type": "code",
      "source": "# 딕셔너리 전용함수 : keys()\ndic = {\"이름\" : \"홍길동\", \"성별\" : \"남자\", \"나이\" : 30}\nprint(dic.keys())\n# Key값들만 출력\nprint(list(dic.keys()))\n# 리스트로 표현 가능",
      "metadata": {
        "trusted": true
      },
      "execution_count": 246,
      "outputs": [
        {
          "name": "stdout",
          "text": "dict_keys(['이름', '성별', '나이'])\n['이름', '성별', '나이']\n",
          "output_type": "stream"
        }
      ]
    },
    {
      "cell_type": "code",
      "source": "# 딕셔너리 전용함수 : values()\ndic = {\"이름\" : \"홍길동\", \"성별\" : \"남자\", \"나이\" : 30}\nprint(dic.values())\n# Value값들만 출력\nprint(list(dic.values()))\n# 리스트로 표현 가능",
      "metadata": {
        "trusted": true
      },
      "execution_count": 247,
      "outputs": [
        {
          "name": "stdout",
          "text": "dict_values(['홍길동', '남자', 30])\n['홍길동', '남자', 30]\n",
          "output_type": "stream"
        }
      ]
    },
    {
      "cell_type": "code",
      "source": "# 딕셔너리 전용함수 : items()\ndic = {\"이름\" : \"홍길동\", \"성별\" : \"남자\", \"나이\" : 30}\nprint(dic.items())\n# Key, value 동시 출력\nprint(list(dic.items()))\n# 리스트로 표현 가능",
      "metadata": {
        "trusted": true
      },
      "execution_count": 248,
      "outputs": [
        {
          "name": "stdout",
          "text": "dict_items([('이름', '홍길동'), ('성별', '남자'), ('나이', 30)])\n[('이름', '홍길동'), ('성별', '남자'), ('나이', 30)]\n",
          "output_type": "stream"
        }
      ]
    },
    {
      "cell_type": "markdown",
      "source": "# 실습문제\n\n죠스바 1200원, 메로나 1500원, 월드컵 1800원\n\n1. 위의 아이스크림 정보를 아이스크림 이름은 Key값, 가격은 Value으로 하는 딕셔너리를 만드신 후, 변수 dic에 할당해보세요.\n2. 1에서 만든 변수 dic에 붕어싸만코 2000원에 대한 정보를 추가해보세요. (이름은 Key, 가격은 Value)\n3. 변수 dic에서 메로나에 대한 정보를 삭제해주세요.\n4. 변수 dic에서 죠스바의 가격을 1500원으로 변경해주세요.\n5. 변수 dic을 화면에 출력해보세요.\n6. 변수 dic의 Key값들만 모두 출력해주세요.\n7. 변수 dic의 Value값을만 모두 출력해주세요.",
      "metadata": {}
    },
    {
      "cell_type": "code",
      "source": "dic = {\"죠스바\" : 1200, \"메로나\" : 1500, \"월드컵\" : 1800}\ndic['붕어싸만코']=2000\ndel dic['메로나']\ndic['죠스바']=1500\n\nprint(dic)\nprint(dic.keys())\nprint(dic.values())",
      "metadata": {
        "trusted": true
      },
      "execution_count": 249,
      "outputs": [
        {
          "name": "stdout",
          "text": "{'죠스바': 1500, '월드컵': 1800, '붕어싸만코': 2000}\ndict_keys(['죠스바', '월드컵', '붕어싸만코'])\ndict_values([1500, 1800, 2000])\n",
          "output_type": "stream"
        }
      ]
    }
  ]
}
