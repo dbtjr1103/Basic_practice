{
  "nbformat": 4,
  "nbformat_minor": 0,
  "metadata": {
    "colab": {
      "provenance": [],
      "authorship_tag": "ABX9TyOvNrmxVBnasnHPhhu8kUZg",
      "include_colab_link": true
    },
    "kernelspec": {
      "name": "python3",
      "display_name": "Python 3"
    },
    "language_info": {
      "name": "python"
    }
  },
  "cells": [
    {
      "cell_type": "markdown",
      "metadata": {
        "id": "view-in-github",
        "colab_type": "text"
      },
      "source": [
        "<a href=\"https://colab.research.google.com/github/dbtjr1103/Basic_practice/blob/main/38_%EC%9D%B8%ED%84%B0%EB%84%B7_%EB%89%B4%EC%8A%A4%EA%B8%B0%EC%82%AC_%EA%B0%80%EC%A0%B8%EC%98%A4%EB%8A%94_%EB%B0%A9%EB%B2%95.ipynb\" target=\"_parent\"><img src=\"https://colab.research.google.com/assets/colab-badge.svg\" alt=\"Open In Colab\"/></a>"
      ]
    },
    {
      "cell_type": "markdown",
      "source": [
        "# 38장 인터넷 뉴스기사 가져오는 방법"
      ],
      "metadata": {
        "id": "klDQv2Z16-QS"
      }
    },
    {
      "cell_type": "markdown",
      "source": [
        "- 크롤링은 항상 같은것을 가져와야 한다.\n",
        "    - 가져오고자 하는 정보가 뉴스 기사마다 다를 경우 뉴스 정보를 가져오는 것은 매우 힘들다.\n",
        "    - 따라서 크롤링 하기 전 가져오고자 하는 정보들의 태그와 구조가 같은지 확인해야한다."
      ],
      "metadata": {
        "id": "-FGEERy6Frg7"
      }
    },
    {
      "cell_type": "code",
      "source": [
        "import requests\n",
        "from bs4 import BeautifulSoup\n",
        "import time\n",
        "import pandas as pd"
      ],
      "metadata": {
        "id": "OC3N8Xtp1x3y"
      },
      "execution_count": 1,
      "outputs": []
    },
    {
      "cell_type": "code",
      "source": [
        "# 제목과 요약뉴스 , 한페이지 10개, 400페이지, 뉴스기사+내용 = 총 8000개\n",
        "total = []\n",
        "\n",
        "url = requests.get(\"https://search.naver.com/search.naver?where=news&sm=tab_pge&query=%ED%95%9C%EA%B5%AD&sort=0&photo=0&field=0&pd=0&ds=&de=&cluster_rank=98&mynews=0&office_type=0&office_section_code=0&news_office_checked=&nso=so:r,p:all,a:all&start=1\")\n",
        "html = BeautifulSoup(url.text)\n",
        "\n",
        "news = html.find(\"ul\", class_='list_news').find_all('li', class_='bx')\n",
        "\n",
        "for i in news:\n",
        "    title = i.find('a', class_='news_tit').text\n",
        "    content = i.find('a', class_='api_txt_lines dsc_txt_wrap').text\n",
        "               \n",
        "    total.append([title, content])\n",
        "\n",
        "len(total)"
      ],
      "metadata": {
        "colab": {
          "base_uri": "https://localhost:8080/"
        },
        "id": "NXX-4_hAD-_Y",
        "outputId": "b1e4068d-73a2-46cf-dd5a-fc4019e023ab"
      },
      "execution_count": 10,
      "outputs": [
        {
          "output_type": "execute_result",
          "data": {
            "text/plain": [
              "10"
            ]
          },
          "metadata": {},
          "execution_count": 10
        }
      ]
    },
    {
      "cell_type": "code",
      "source": [
        "df = pd.DataFrame(total, columns = ['제목', '요약'])\n",
        "df"
      ],
      "metadata": {
        "colab": {
          "base_uri": "https://localhost:8080/",
          "height": 363
        },
        "id": "4Pe8DuijEy6P",
        "outputId": "1c0d6cd0-937c-44f6-c110-e5f202c401c3"
      },
      "execution_count": 12,
      "outputs": [
        {
          "output_type": "execute_result",
          "data": {
            "text/plain": [
              "                                      제목  \\\n",
              "0      옐런 美재무 \"한국측 전기차 우려 고려하겠지만 법대로 시행\"   \n",
              "1    IMF \"한국 경제 기초여건 좋은 상태이나 정부 부채 관리해야\"   \n",
              "2     한국노총 \"김문수, 계속 분란시 경사노위 탈퇴할 수도\"(종합)   \n",
              "3      일본 해상자위대 \"한국, 내달 관함식 참가 여부 회신 없어\"   \n",
              "4   IMF아태 국장 \"한국경제 복원력 있다...가계부채 리스크 적어\"   \n",
              "5     세부서 '발 동동' 승객들 한국 돌아온다…대체항공편 인천 출발   \n",
              "6          미술책 걸작들 96점 한국 상륙..합스부르크 600년   \n",
              "7   한국노총 \"김문수 비상식적 발언 계속되면 사회적대화 탈퇴\"(종합)   \n",
              "8  필리핀 세부서 대체편 출발…사고기 승객 14명 한국 입국(종합2보)   \n",
              "9        쪼개진 한국정치… 野 보이콧에 사상 첫 ‘반쪽' 시정연설   \n",
              "\n",
              "                                                  요약  \n",
              "0  \"뭐가 가능한지 검토하겠다\"…외신 \"수정 기대에 찬물 끼얹는 발언\" 평가 한국산 전...  \n",
              "1  국제통화기금(IMF)은 25일 한국의 경제 펀더멘털(기초여건)이 좋은 상태지만, 최...  \n",
              "2  김동명 한국노동조합총연맹(한국노총) 위원장은 25일 김문수 경제사회노동위원회(경사노...  \n",
              "3  일본 해상자위대 사카이 료 해상막료장은 한국이 다음 달 6일 가나가와현 '사가미'만...  \n",
              "4  최근 50조원 이상 유동성 공급 지원 정책과 한국은행의 선제적인 금리인상 정책에 대...  \n",
              "5  다행히 인명 피해는 없었지만 사고로 세부 공항이 폐쇄되면서 한국을 향할 승객들의 일...  \n",
              "6  600년간 유럽 역사의 주도자 역할을 했던 합스부르크의 소장 예술품들이 한국에 상륙...  \n",
              "7  김동명 위원장 기자간담회…\"노란봉투법 입법성과 못 내면 민주당과 단절 고려\" \"장시...  \n",
              "8  9명은 한국 국적이며 나머지는 환승객\"이라고 설명했다. 국토부가 필리핀 항공당국으로...  \n",
              "9  한국 정치의 안타까운 단면이 고스란히 드러난 상징적 장면이었다. 여야의 극한 대립으...  "
            ],
            "text/html": [
              "\n",
              "  <div id=\"df-c5e9fb82-f308-460d-beac-cd37fa1762f9\">\n",
              "    <div class=\"colab-df-container\">\n",
              "      <div>\n",
              "<style scoped>\n",
              "    .dataframe tbody tr th:only-of-type {\n",
              "        vertical-align: middle;\n",
              "    }\n",
              "\n",
              "    .dataframe tbody tr th {\n",
              "        vertical-align: top;\n",
              "    }\n",
              "\n",
              "    .dataframe thead th {\n",
              "        text-align: right;\n",
              "    }\n",
              "</style>\n",
              "<table border=\"1\" class=\"dataframe\">\n",
              "  <thead>\n",
              "    <tr style=\"text-align: right;\">\n",
              "      <th></th>\n",
              "      <th>제목</th>\n",
              "      <th>요약</th>\n",
              "    </tr>\n",
              "  </thead>\n",
              "  <tbody>\n",
              "    <tr>\n",
              "      <th>0</th>\n",
              "      <td>옐런 美재무 \"한국측 전기차 우려 고려하겠지만 법대로 시행\"</td>\n",
              "      <td>\"뭐가 가능한지 검토하겠다\"…외신 \"수정 기대에 찬물 끼얹는 발언\" 평가 한국산 전...</td>\n",
              "    </tr>\n",
              "    <tr>\n",
              "      <th>1</th>\n",
              "      <td>IMF \"한국 경제 기초여건 좋은 상태이나 정부 부채 관리해야\"</td>\n",
              "      <td>국제통화기금(IMF)은 25일 한국의 경제 펀더멘털(기초여건)이 좋은 상태지만, 최...</td>\n",
              "    </tr>\n",
              "    <tr>\n",
              "      <th>2</th>\n",
              "      <td>한국노총 \"김문수, 계속 분란시 경사노위 탈퇴할 수도\"(종합)</td>\n",
              "      <td>김동명 한국노동조합총연맹(한국노총) 위원장은 25일 김문수 경제사회노동위원회(경사노...</td>\n",
              "    </tr>\n",
              "    <tr>\n",
              "      <th>3</th>\n",
              "      <td>일본 해상자위대 \"한국, 내달 관함식 참가 여부 회신 없어\"</td>\n",
              "      <td>일본 해상자위대 사카이 료 해상막료장은 한국이 다음 달 6일 가나가와현 '사가미'만...</td>\n",
              "    </tr>\n",
              "    <tr>\n",
              "      <th>4</th>\n",
              "      <td>IMF아태 국장 \"한국경제 복원력 있다...가계부채 리스크 적어\"</td>\n",
              "      <td>최근 50조원 이상 유동성 공급 지원 정책과 한국은행의 선제적인 금리인상 정책에 대...</td>\n",
              "    </tr>\n",
              "    <tr>\n",
              "      <th>5</th>\n",
              "      <td>세부서 '발 동동' 승객들 한국 돌아온다…대체항공편 인천 출발</td>\n",
              "      <td>다행히 인명 피해는 없었지만 사고로 세부 공항이 폐쇄되면서 한국을 향할 승객들의 일...</td>\n",
              "    </tr>\n",
              "    <tr>\n",
              "      <th>6</th>\n",
              "      <td>미술책 걸작들 96점 한국 상륙..합스부르크 600년</td>\n",
              "      <td>600년간 유럽 역사의 주도자 역할을 했던 합스부르크의 소장 예술품들이 한국에 상륙...</td>\n",
              "    </tr>\n",
              "    <tr>\n",
              "      <th>7</th>\n",
              "      <td>한국노총 \"김문수 비상식적 발언 계속되면 사회적대화 탈퇴\"(종합)</td>\n",
              "      <td>김동명 위원장 기자간담회…\"노란봉투법 입법성과 못 내면 민주당과 단절 고려\" \"장시...</td>\n",
              "    </tr>\n",
              "    <tr>\n",
              "      <th>8</th>\n",
              "      <td>필리핀 세부서 대체편 출발…사고기 승객 14명 한국 입국(종합2보)</td>\n",
              "      <td>9명은 한국 국적이며 나머지는 환승객\"이라고 설명했다. 국토부가 필리핀 항공당국으로...</td>\n",
              "    </tr>\n",
              "    <tr>\n",
              "      <th>9</th>\n",
              "      <td>쪼개진 한국정치… 野 보이콧에 사상 첫 ‘반쪽' 시정연설</td>\n",
              "      <td>한국 정치의 안타까운 단면이 고스란히 드러난 상징적 장면이었다. 여야의 극한 대립으...</td>\n",
              "    </tr>\n",
              "  </tbody>\n",
              "</table>\n",
              "</div>\n",
              "      <button class=\"colab-df-convert\" onclick=\"convertToInteractive('df-c5e9fb82-f308-460d-beac-cd37fa1762f9')\"\n",
              "              title=\"Convert this dataframe to an interactive table.\"\n",
              "              style=\"display:none;\">\n",
              "        \n",
              "  <svg xmlns=\"http://www.w3.org/2000/svg\" height=\"24px\"viewBox=\"0 0 24 24\"\n",
              "       width=\"24px\">\n",
              "    <path d=\"M0 0h24v24H0V0z\" fill=\"none\"/>\n",
              "    <path d=\"M18.56 5.44l.94 2.06.94-2.06 2.06-.94-2.06-.94-.94-2.06-.94 2.06-2.06.94zm-11 1L8.5 8.5l.94-2.06 2.06-.94-2.06-.94L8.5 2.5l-.94 2.06-2.06.94zm10 10l.94 2.06.94-2.06 2.06-.94-2.06-.94-.94-2.06-.94 2.06-2.06.94z\"/><path d=\"M17.41 7.96l-1.37-1.37c-.4-.4-.92-.59-1.43-.59-.52 0-1.04.2-1.43.59L10.3 9.45l-7.72 7.72c-.78.78-.78 2.05 0 2.83L4 21.41c.39.39.9.59 1.41.59.51 0 1.02-.2 1.41-.59l7.78-7.78 2.81-2.81c.8-.78.8-2.07 0-2.86zM5.41 20L4 18.59l7.72-7.72 1.47 1.35L5.41 20z\"/>\n",
              "  </svg>\n",
              "      </button>\n",
              "      \n",
              "  <style>\n",
              "    .colab-df-container {\n",
              "      display:flex;\n",
              "      flex-wrap:wrap;\n",
              "      gap: 12px;\n",
              "    }\n",
              "\n",
              "    .colab-df-convert {\n",
              "      background-color: #E8F0FE;\n",
              "      border: none;\n",
              "      border-radius: 50%;\n",
              "      cursor: pointer;\n",
              "      display: none;\n",
              "      fill: #1967D2;\n",
              "      height: 32px;\n",
              "      padding: 0 0 0 0;\n",
              "      width: 32px;\n",
              "    }\n",
              "\n",
              "    .colab-df-convert:hover {\n",
              "      background-color: #E2EBFA;\n",
              "      box-shadow: 0px 1px 2px rgba(60, 64, 67, 0.3), 0px 1px 3px 1px rgba(60, 64, 67, 0.15);\n",
              "      fill: #174EA6;\n",
              "    }\n",
              "\n",
              "    [theme=dark] .colab-df-convert {\n",
              "      background-color: #3B4455;\n",
              "      fill: #D2E3FC;\n",
              "    }\n",
              "\n",
              "    [theme=dark] .colab-df-convert:hover {\n",
              "      background-color: #434B5C;\n",
              "      box-shadow: 0px 1px 3px 1px rgba(0, 0, 0, 0.15);\n",
              "      filter: drop-shadow(0px 1px 2px rgba(0, 0, 0, 0.3));\n",
              "      fill: #FFFFFF;\n",
              "    }\n",
              "  </style>\n",
              "\n",
              "      <script>\n",
              "        const buttonEl =\n",
              "          document.querySelector('#df-c5e9fb82-f308-460d-beac-cd37fa1762f9 button.colab-df-convert');\n",
              "        buttonEl.style.display =\n",
              "          google.colab.kernel.accessAllowed ? 'block' : 'none';\n",
              "\n",
              "        async function convertToInteractive(key) {\n",
              "          const element = document.querySelector('#df-c5e9fb82-f308-460d-beac-cd37fa1762f9');\n",
              "          const dataTable =\n",
              "            await google.colab.kernel.invokeFunction('convertToInteractive',\n",
              "                                                     [key], {});\n",
              "          if (!dataTable) return;\n",
              "\n",
              "          const docLinkHtml = 'Like what you see? Visit the ' +\n",
              "            '<a target=\"_blank\" href=https://colab.research.google.com/notebooks/data_table.ipynb>data table notebook</a>'\n",
              "            + ' to learn more about interactive tables.';\n",
              "          element.innerHTML = '';\n",
              "          dataTable['output_type'] = 'display_data';\n",
              "          await google.colab.output.renderOutput(dataTable, element);\n",
              "          const docLink = document.createElement('div');\n",
              "          docLink.innerHTML = docLinkHtml;\n",
              "          element.appendChild(docLink);\n",
              "        }\n",
              "      </script>\n",
              "    </div>\n",
              "  </div>\n",
              "  "
            ]
          },
          "metadata": {},
          "execution_count": 12
        }
      ]
    },
    {
      "cell_type": "code",
      "source": [
        "     "
      ],
      "metadata": {
        "id": "ad9k35mXF89M"
      },
      "execution_count": null,
      "outputs": []
    }
  ]
}