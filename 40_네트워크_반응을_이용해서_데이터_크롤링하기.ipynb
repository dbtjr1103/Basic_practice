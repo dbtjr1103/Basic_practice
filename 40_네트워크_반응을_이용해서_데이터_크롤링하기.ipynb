{
  "nbformat": 4,
  "nbformat_minor": 0,
  "metadata": {
    "colab": {
      "provenance": [],
      "authorship_tag": "ABX9TyNXeBQOrqTWq1SJJFaMu2Zq",
      "include_colab_link": true
    },
    "kernelspec": {
      "name": "python3",
      "display_name": "Python 3"
    },
    "language_info": {
      "name": "python"
    }
  },
  "cells": [
    {
      "cell_type": "markdown",
      "metadata": {
        "id": "view-in-github",
        "colab_type": "text"
      },
      "source": [
        "<a href=\"https://colab.research.google.com/github/dbtjr1103/Basic_practice/blob/main/40_%EB%84%A4%ED%8A%B8%EC%9B%8C%ED%81%AC_%EB%B0%98%EC%9D%91%EC%9D%84_%EC%9D%B4%EC%9A%A9%ED%95%B4%EC%84%9C_%EB%8D%B0%EC%9D%B4%ED%84%B0_%ED%81%AC%EB%A1%A4%EB%A7%81%ED%95%98%EA%B8%B0.ipynb\" target=\"_parent\"><img src=\"https://colab.research.google.com/assets/colab-badge.svg\" alt=\"Open In Colab\"/></a>"
      ]
    },
    {
      "cell_type": "markdown",
      "source": [
        "# 40장 네트워크 반응을 이용해서 데이터 크롤링하기\n"
      ],
      "metadata": {
        "id": "tmfqPMLq70VJ"
      }
    },
    {
      "cell_type": "markdown",
      "source": [
        "- 네트워크 반응\n",
        "    1. request 사용이 안될때\n",
        "    2. selenium\n",
        "    3. 네트워크 반응 \n",
        "        - Ctrl + Shift + i\n",
        "- json\n",
        "        JavaScript Object Notation 이라는 의미의 축약어\n",
        "        데이터를 저장하거나 전송할 때 많이 사용되는 경량의 Data 교환 형식\n",
        "        형태는 Python의 딕셔너리와 유사\n",
        "- 라이브러리\n",
        "        import json\n",
        "        json.loads(str(json))"
      ],
      "metadata": {
        "id": "-FGEERy6Frg7"
      }
    },
    {
      "cell_type": "code",
      "source": [
        "import json\n",
        "import requests\n",
        "import pandas as pd\n",
        "from bs4 import BeautifulSoup"
      ],
      "metadata": {
        "id": "OC3N8Xtp1x3y"
      },
      "execution_count": 2,
      "outputs": []
    },
    {
      "cell_type": "code",
      "source": [
        "url = requests.get(\"https://upbit.com/service_center/disclosure\")\n",
        "html = BeautifulSoup(url.text) # 다 못가져와서, 네트워크반응 이용\n",
        "html"
      ],
      "metadata": {
        "colab": {
          "base_uri": "https://localhost:8080/",
          "height": 754
        },
        "id": "RMLSgMdKLnO-",
        "outputId": "9af6f5df-273e-43bb-a0f5-444253c7a49b"
      },
      "execution_count": 7,
      "outputs": [
        {
          "output_type": "execute_result",
          "data": {
            "text/plain": [
              "'{\"data\":{\"more\":true,\"offset\":574,\"posts\":[{\"id\":595,\"assets\":\"PI\",\"start_date\":\"2021-03-30T21:00:00+09:00\",\"end_date\":\"2021-04-01T19:28:40+09:00\",\"text\":\"[기공개] 리브랜딩 : 피체인(PCHAIN)이 플리안(Plian)으로 바뀝니다\",\"text_i10n\":\"[기공개] 리브랜딩 : 피체인(PCHAIN)이 플리안(Plian)으로 바뀝니다\",\"url\":\"http://s3.ap-northeast-2.amazonaws.com/dunamuplatform-druid-disclosure-coolprod/4e2fc7d6-6dfd-4c22-93b0-5cb23a66efb4-811c18a4-dd8c-4429-8484-404072bc086d.pdf\"},{\"id\":594,\"assets\":\"AHT\",\"start_date\":\"2021-03-29T16:06:55+09:00\",\"end_date\":\"2021-03-31T16:07:01+09:00\",\"text\":\"어뷰징 물량 회수 및 소각 공시\",\"text_i10n\":\"어뷰징 물량 회수 및 소각 공시\",\"url\":\"http://s3.ap-northeast-2.amazonaws.com/dunamuplatform-druid-disclosure-coolprod/60c85e90-e952-452a-8050-ad4a75b58a30-cae886d7-8131-4097-bf65-2be2a2c4ee17.pdf\"},{\"id\":593,\"assets\":\"RINGX\",\"start_date\":\"2021-03-25T17:36:49+09:00\",\"end_date\":\"2021-03-31T17:36:52+09:00\",\"text\":\"RINGX 재단, 롯데슈퍼와 업무 제휴 협약 체결\",\"text_i10n\":\"RINGX 재단, 롯데슈퍼와 업무 제휴 협약 체결\",\"url\":\"http://s3.ap-northeast-2.amazonaws.com/dunamuplatform-druid-disclosure-coolprod/30c2088a-6c8c-412f-8f03-78660bbd1c04-2f4063c0-2ecc-4450-a995-bec063583f81.pdf\"},{\"id\":592,\"assets\":\"MVL\",\"start_date\":\"2021-03-24T14:37:42+09:00\",\"end_date\":\"2021-03-31T14:37:47+09:00\",\"text\":\"베트남 기업 \\'마켓 사이공\\'에 블록체인 모빌리티 플랫폼 수출(SaaS)\",\"text_i10n\":\"베트남 기업 \\'마켓 사이공\\'에 블록체인 모빌리티 플랫폼 수출(SaaS)\",\"url\":\"http://s3.ap-northeast-2.amazonaws.com/dunamuplatform-druid-disclosure-coolprod/b71ef23a-a6e3-47d6-8d92-9c6d4efba915-9b37f4c2-f82d-43eb-b711-e0013c0019ba.pdf\"},{\"id\":591,\"assets\":\"CTSI\",\"start_date\":\"2021-03-24T14:36:45+09:00\",\"end_date\":\"2021-03-31T14:36:52+09:00\",\"text\":\"[기공개] 카르테시 x Travala 파트너십 체결\",\"text_i10n\":\"[기공개] 카르테시 x Travala 파트너십 체결\",\"url\":\"http://s3.ap-northeast-2.amazonaws.com/dunamuplatform-druid-disclosure-coolprod/24b58ba6-85cb-4a31-8418-2dd775ae2dfb-25f13c74-f0e4-4162-8c45-5f9f9a023376.pdf\"},{\"id\":590,\"assets\":\"ENJ\",\"start_date\":\"2021-03-24T13:16:29+09:00\",\"end_date\":\"2021-03-31T13:16:32+09:00\",\"text\":\"[기공개] 엔진, 한국 최대 소셜 게이밍 플랫폼(겜톡톡)과 파트너십... 친환경 NFT 도입 예정\",\"text_i10n\":\"[기공개] 엔진, 한국 최대 소셜 게이밍 플랫폼(겜톡톡)과 파트너십... 친환경 NFT 도입 예정\",\"url\":\"http://s3.ap-northeast-2.amazonaws.com/dunamuplatform-druid-disclosure-coolprod/cee953f5-7bde-403a-9d9d-982840046cda-4f36d864-6519-4561-b2e2-eddab42d2887.pdf\"},{\"id\":589,\"assets\":\"PLA\",\"start_date\":\"2021-03-24T13:15:06+09:00\",\"end_date\":\"2021-03-31T13:15:14+09:00\",\"text\":\"[기공개] 플레이댑, 루데나 프로토콜 NFT아이템 거래 지원 계약\",\"text_i10n\":\"[기공개] 플레이댑, 루데나 프로토콜 NFT아이템 거래 지원 계약\",\"url\":\"http://s3.ap-northeast-2.amazonaws.com/dunamuplatform-druid-disclosure-coolprod/f5c6eae0-f006-4ce8-9a54-3426b52a1d42-b4af6d4d-95eb-4d10-87e4-6931f4b79657.pdf\"},{\"id\":588,\"assets\":\"BFC\",\"start_date\":\"2021-03-24T13:30:00+09:00\",\"end_date\":\"2021-03-30T18:33:41+09:00\",\"text\":\"[기공개] Bifrost PAID Network와 업무 협력 파트너쉽 체결\",\"text_i10n\":\"[기공개] Bifrost PAID Network와 업무 협력 파트너쉽 체결\",\"url\":\"http://s3.ap-northeast-2.amazonaws.com/dunamuplatform-druid-disclosure-coolprod/aa8a522d-e513-420e-b176-72743891c109-056c5c35-53b2-422a-bd65-a3d770b6f3ae.pdf\"},{\"id\":587,\"assets\":\"CHZ\",\"start_date\":\"2021-03-19T21:30:46+09:00\",\"end_date\":\"2021-03-26T18:59:47+09:00\",\"text\":\"[기공개] 칠리즈, 맨체스터 시티 FC 파트너십 발표\",\"text_i10n\":\"[기공개] 칠리즈, 맨체스터 시티 FC 파트너십 발표\",\"url\":\"http://s3.ap-northeast-2.amazonaws.com/dunamuplatform-druid-disclosure-coolprod/4539502d-1c3b-440a-8352-8c2bdfb2bde2-12dbde8f-d357-4736-bf05-68701dc7ae3f.pdf\"},{\"id\":586,\"assets\":\"NPXS\",\"start_date\":\"2021-03-19T21:05:42+09:00\",\"end_date\":\"2021-03-26T18:56:39+09:00\",\"text\":\"[기공개] 토큰 액면 병합: NPXS가 PUNDIX로 바뀝니다.\",\"text_i10n\":\"[기공개] 토큰 액면 병합: NPXS가 PUNDIX로 바뀝니다.\",\"url\":\"http://s3.ap-northeast-2.amazonaws.com/dunamuplatform-druid-disclosure-coolprod/5ded331b-1645-40c6-b812-1f9ca792e76a-7fc05253-ae9d-4af1-ab6d-66e2c56fc813.pdf\"},{\"id\":585,\"assets\":\"CRO\",\"start_date\":\"2021-03-19T21:00:00+09:00\",\"end_date\":\"2021-03-26T18:33:41+09:00\",\"text\":\"[기공개] 크립토닷컴, 비자와 글로벌 파트너쉽 체결 및 주요 회원사로 선정\",\"text_i10n\":\"[기공개] 크립토닷컴, 비자와 글로벌 파트너쉽 체결 및 주요 회원사로 선정\",\"url\":\"http://s3.ap-northeast-2.amazonaws.com/dunamuplatform-druid-disclosure-coolprod/803bebf3-2dc9-474d-9fdd-f716470d90ef-451a5c27-e92d-4c01-a60c-eb7726de254c.pdf\"},{\"id\":582,\"assets\":\"MED\",\"start_date\":\"2021-03-18T00:00:00+09:00\",\"end_date\":\"2021-03-18T00:00:00+09:00\",\"text\":\"[기공개] 메디블록, 블록체인 기반의 DID 백신패스 출시 예정\",\"text_i10n\":\"[기공개] 메디블록, 블록체인 기반의 DID 백신패스 출시 예정\",\"url\":\"http://s3.ap-northeast-2.amazonaws.com/dunamuplatform-druid-disclosure-coolprod/8659515be2c6e41051870953352f760a-MED_01.pdf\"},{\"id\":581,\"assets\":\"OGN\",\"start_date\":\"2021-03-17T00:00:00+09:00\",\"end_date\":\"2021-03-17T00:00:00+09:00\",\"text\":\"[기공개] P2P 마켓플레이스 오리진 프로토콜 , NFT 및 OUSD 라이트페이퍼 출시\",\"text_i10n\":\"[기공개] P2P 마켓플레이스 오리진 프로토콜 , NFT 및 OUSD 라이트페이퍼 출시\",\"url\":\"http://s3.ap-northeast-2.amazonaws.com/dunamuplatform-druid-disclosure-coolprod/f98c82cb7434f6ac5d511dcb18168259-OGN_01.pdf\"},{\"id\":580,\"assets\":\"GOM2\",\"start_date\":\"2021-03-16T00:00:00+09:00\",\"end_date\":\"2021-03-16T00:00:00+09:00\",\"text\":\"5조원 규모 초대형 북미 펀드인 Celsius Network에서 GOM2에 투자\",\"text_i10n\":\"5조원 규모 초대형 북미 펀드인 Celsius Network에서 GOM2에 투자\",\"url\":\"http://s3.ap-northeast-2.amazonaws.com/dunamuplatform-druid-disclosure-coolprod/b8530b3f63cf24e5719fc566a2db7adc-GOM2_01.pdf\"},{\"id\":579,\"assets\":\"MVL\",\"start_date\":\"2021-03-16T00:00:00+09:00\",\"end_date\":\"2021-03-16T00:00:00+09:00\",\"text\":\"인도네시아 기업 \\'퀵스\\'에 MVL 프로토콜 기반 모빌리티 서비스 플랫폼 수출(SaaS)\",\"text_i10n\":\"인도네시아 기업 \\'퀵스\\'에 MVL 프로토콜 기반 모빌리티 서비스 플랫폼 수출(SaaS)\",\"url\":\"http://s3.ap-northeast-2.amazonaws.com/dunamuplatform-druid-disclosure-coolprod/2c4b995b7f381b3df68bf7a6a40d0c8e-MVL_01.pdf\"},{\"id\":578,\"assets\":\"ORBS\",\"start_date\":\"2021-03-16T00:00:00+09:00\",\"end_date\":\"2021-03-16T00:00:00+09:00\",\"text\":\"오브스(Orbs), 블록체인 기업 MOONSTAKE와 협업\",\"text_i10n\":\"오브스(Orbs), 블록체인 기업 MOONSTAKE와 협업\",\"url\":\"http://s3.ap-northeast-2.amazonaws.com/dunamuplatform-druid-disclosure-coolprod/165c4753ff80945b5fb4a6c8a46ea370-ORBS_01.pdf\"},{\"id\":577,\"assets\":\"THETA\",\"start_date\":\"2021-03-16T00:00:00+09:00\",\"end_date\":\"2021-03-16T00:00:00+09:00\",\"text\":\"쎄타랩스, 분산형 비디오 및 데이터 전송을 지원하기 위한 초고 트랜잭션 처리량 소액 결제에 대한 두번째 미국특허취득\",\"text_i10n\":\"쎄타랩스, 분산형 비디오 및 데이터 전송을 지원하기 위한 초고 트랜잭션 처리량 소액 결제에 대한 두번째 미국특허취득\",\"url\":\"http://s3.ap-northeast-2.amazonaws.com/dunamuplatform-druid-disclosure-coolprod/0edaa25b824c5af73c30b668f0a22ddd-THETA_01.pdf\"},{\"id\":576,\"assets\":\"PXL\",\"start_date\":\"2021-03-15T00:00:00+09:00\",\"end_date\":\"2021-03-15T00:00:00+09:00\",\"text\":\"픽션 네트워크, 신임 대표이사 선출\",\"text_i10n\":\"픽션 네트워크, 신임 대표이사 선출\",\"url\":\"http://s3.ap-northeast-2.amazonaws.com/dunamuplatform-druid-disclosure-coolprod/e563fc75afef55fdddd66a4f08fe0950-PXL_01.pdf\"},{\"id\":575,\"assets\":\"RINGX\",\"start_date\":\"2021-03-15T00:00:00+09:00\",\"end_date\":\"2021-03-15T00:00:00+09:00\",\"text\":\"RINGX 재단, OK캐쉬백((주)위페이)과 ‘마이비(Mivy)’ 플랫폼 전환 협업 진행\",\"text_i10n\":\"RINGX 재단, OK캐쉬백((주)위페이)과 ‘마이비(Mivy)’ 플랫폼 전환 협업 진행\",\"url\":\"http://s3.ap-northeast-2.amazonaws.com/dunamuplatform-druid-disclosure-coolprod/3fd9268cb198a8de343471fe0defb6a0-RINGX_01.pdf\"},{\"id\":574,\"assets\":\"TON\",\"start_date\":\"2021-03-15T00:00:00+09:00\",\"end_date\":\"2021-03-15T00:00:00+09:00\",\"text\":\"토카막 다오 베타 출시\",\"text_i10n\":\"토카막 다오 베타 출시\",\"url\":\"http://s3.ap-northeast-2.amazonaws.com/dunamuplatform-druid-disclosure-coolprod/fada2305703b74ca758c08691cbce5b5-TON_01.pdf\"}]},\"success\":true,\"time\":\"2022-10-26T02:31:37.312356\"}'"
            ],
            "application/vnd.google.colaboratory.intrinsic+json": {
              "type": "string"
            }
          },
          "metadata": {},
          "execution_count": 7
        }
      ]
    },
    {
      "cell_type": "code",
      "source": [
        "import json\n",
        "\n",
        "url = requests.get(\"https://project-team.upbit.com/api/v1/disclosure?region=kr&per_page=20\")\n",
        "data = json.loads(url.text)\n",
        "\n",
        "for i in data['data']['posts']:\n",
        "    print(i['text'])"
      ],
      "metadata": {
        "colab": {
          "base_uri": "https://localhost:8080/"
        },
        "id": "dFSfCgPBM2I7",
        "outputId": "b3f89c9a-f20e-46ef-e7c6-c8fb319da250"
      },
      "execution_count": 11,
      "outputs": [
        {
          "output_type": "stream",
          "name": "stdout",
          "text": [
            "[기공개] 리브랜딩 : 피체인(PCHAIN)이 플리안(Plian)으로 바뀝니다\n",
            "어뷰징 물량 회수 및 소각 공시\n",
            "RINGX 재단, 롯데슈퍼와 업무 제휴 협약 체결\n",
            "베트남 기업 '마켓 사이공'에 블록체인 모빌리티 플랫폼 수출(SaaS)\n",
            "[기공개] 카르테시 x Travala 파트너십 체결\n",
            "[기공개] 엔진, 한국 최대 소셜 게이밍 플랫폼(겜톡톡)과 파트너십... 친환경 NFT 도입 예정\n",
            "[기공개] 플레이댑, 루데나 프로토콜 NFT아이템 거래 지원 계약\n",
            "[기공개] Bifrost PAID Network와 업무 협력 파트너쉽 체결\n",
            "[기공개] 칠리즈, 맨체스터 시티 FC 파트너십 발표\n",
            "[기공개] 토큰 액면 병합: NPXS가 PUNDIX로 바뀝니다.\n",
            "[기공개] 크립토닷컴, 비자와 글로벌 파트너쉽 체결 및 주요 회원사로 선정\n",
            "[기공개] 메디블록, 블록체인 기반의 DID 백신패스 출시 예정\n",
            "[기공개] P2P 마켓플레이스 오리진 프로토콜 , NFT 및 OUSD 라이트페이퍼 출시\n",
            "5조원 규모 초대형 북미 펀드인 Celsius Network에서 GOM2에 투자\n",
            "인도네시아 기업 '퀵스'에 MVL 프로토콜 기반 모빌리티 서비스 플랫폼 수출(SaaS)\n",
            "오브스(Orbs), 블록체인 기업 MOONSTAKE와 협업\n",
            "쎄타랩스, 분산형 비디오 및 데이터 전송을 지원하기 위한 초고 트랜잭션 처리량 소액 결제에 대한 두번째 미국특허취득\n",
            "픽션 네트워크, 신임 대표이사 선출\n",
            "RINGX 재단, OK캐쉬백((주)위페이)과 ‘마이비(Mivy)’ 플랫폼 전환 협업 진행\n",
            "토카막 다오 베타 출시\n"
          ]
        }
      ]
    },
    {
      "cell_type": "code",
      "source": [],
      "metadata": {
        "id": "EmPC8JM7L7tM"
      },
      "execution_count": null,
      "outputs": []
    }
  ]
}