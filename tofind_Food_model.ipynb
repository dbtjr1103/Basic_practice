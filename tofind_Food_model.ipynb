{
  "nbformat": 4,
  "nbformat_minor": 0,
  "metadata": {
    "colab": {
      "provenance": [],
      "machine_shape": "hm",
      "authorship_tag": "ABX9TyN7HPe/4o299shqY+0Kixe8",
      "include_colab_link": true
    },
    "kernelspec": {
      "name": "python3",
      "display_name": "Python 3"
    },
    "language_info": {
      "name": "python"
    },
    "accelerator": "GPU",
    "gpuClass": "standard",
    "widgets": {
      "application/vnd.jupyter.widget-state+json": {
        "f166ceeb073e4fb08ff28a6a3c8ac96c": {
          "model_module": "@jupyter-widgets/controls",
          "model_name": "HBoxModel",
          "model_module_version": "1.5.0",
          "state": {
            "_dom_classes": [],
            "_model_module": "@jupyter-widgets/controls",
            "_model_module_version": "1.5.0",
            "_model_name": "HBoxModel",
            "_view_count": null,
            "_view_module": "@jupyter-widgets/controls",
            "_view_module_version": "1.5.0",
            "_view_name": "HBoxView",
            "box_style": "",
            "children": [
              "IPY_MODEL_cef4d30f029b4bb1a8e1f5de88da3ffa",
              "IPY_MODEL_7170aac3c0cc4a0ab9ce3047c16f5033",
              "IPY_MODEL_dada86cf632e43bb9a80b1fa0ee111f0"
            ],
            "layout": "IPY_MODEL_0a316714cec34c7481fa17aac83e7e77"
          }
        },
        "cef4d30f029b4bb1a8e1f5de88da3ffa": {
          "model_module": "@jupyter-widgets/controls",
          "model_name": "HTMLModel",
          "model_module_version": "1.5.0",
          "state": {
            "_dom_classes": [],
            "_model_module": "@jupyter-widgets/controls",
            "_model_module_version": "1.5.0",
            "_model_name": "HTMLModel",
            "_view_count": null,
            "_view_module": "@jupyter-widgets/controls",
            "_view_module_version": "1.5.0",
            "_view_name": "HTMLView",
            "description": "",
            "description_tooltip": null,
            "layout": "IPY_MODEL_bcd87639de824b479073f4b080e5a045",
            "placeholder": "​",
            "style": "IPY_MODEL_5d2fc463e208417d9ce38950c2d75fca",
            "value": "100%"
          }
        },
        "7170aac3c0cc4a0ab9ce3047c16f5033": {
          "model_module": "@jupyter-widgets/controls",
          "model_name": "FloatProgressModel",
          "model_module_version": "1.5.0",
          "state": {
            "_dom_classes": [],
            "_model_module": "@jupyter-widgets/controls",
            "_model_module_version": "1.5.0",
            "_model_name": "FloatProgressModel",
            "_view_count": null,
            "_view_module": "@jupyter-widgets/controls",
            "_view_module_version": "1.5.0",
            "_view_name": "ProgressView",
            "bar_style": "success",
            "description": "",
            "description_tooltip": null,
            "layout": "IPY_MODEL_6a3e9096e50344d4bb3f1bfa92a1675f",
            "max": 101,
            "min": 0,
            "orientation": "horizontal",
            "style": "IPY_MODEL_4411a7c404954e87a04a91c6d81265d9",
            "value": 101
          }
        },
        "dada86cf632e43bb9a80b1fa0ee111f0": {
          "model_module": "@jupyter-widgets/controls",
          "model_name": "HTMLModel",
          "model_module_version": "1.5.0",
          "state": {
            "_dom_classes": [],
            "_model_module": "@jupyter-widgets/controls",
            "_model_module_version": "1.5.0",
            "_model_name": "HTMLModel",
            "_view_count": null,
            "_view_module": "@jupyter-widgets/controls",
            "_view_module_version": "1.5.0",
            "_view_name": "HTMLView",
            "description": "",
            "description_tooltip": null,
            "layout": "IPY_MODEL_6a9f16e87cc64042bca71d34e2626279",
            "placeholder": "​",
            "style": "IPY_MODEL_f479c1fc951740ff9988049ae255fd5c",
            "value": " 101/101 [01:30&lt;00:00,  1.13it/s]"
          }
        },
        "0a316714cec34c7481fa17aac83e7e77": {
          "model_module": "@jupyter-widgets/base",
          "model_name": "LayoutModel",
          "model_module_version": "1.2.0",
          "state": {
            "_model_module": "@jupyter-widgets/base",
            "_model_module_version": "1.2.0",
            "_model_name": "LayoutModel",
            "_view_count": null,
            "_view_module": "@jupyter-widgets/base",
            "_view_module_version": "1.2.0",
            "_view_name": "LayoutView",
            "align_content": null,
            "align_items": null,
            "align_self": null,
            "border": null,
            "bottom": null,
            "display": null,
            "flex": null,
            "flex_flow": null,
            "grid_area": null,
            "grid_auto_columns": null,
            "grid_auto_flow": null,
            "grid_auto_rows": null,
            "grid_column": null,
            "grid_gap": null,
            "grid_row": null,
            "grid_template_areas": null,
            "grid_template_columns": null,
            "grid_template_rows": null,
            "height": null,
            "justify_content": null,
            "justify_items": null,
            "left": null,
            "margin": null,
            "max_height": null,
            "max_width": null,
            "min_height": null,
            "min_width": null,
            "object_fit": null,
            "object_position": null,
            "order": null,
            "overflow": null,
            "overflow_x": null,
            "overflow_y": null,
            "padding": null,
            "right": null,
            "top": null,
            "visibility": null,
            "width": null
          }
        },
        "bcd87639de824b479073f4b080e5a045": {
          "model_module": "@jupyter-widgets/base",
          "model_name": "LayoutModel",
          "model_module_version": "1.2.0",
          "state": {
            "_model_module": "@jupyter-widgets/base",
            "_model_module_version": "1.2.0",
            "_model_name": "LayoutModel",
            "_view_count": null,
            "_view_module": "@jupyter-widgets/base",
            "_view_module_version": "1.2.0",
            "_view_name": "LayoutView",
            "align_content": null,
            "align_items": null,
            "align_self": null,
            "border": null,
            "bottom": null,
            "display": null,
            "flex": null,
            "flex_flow": null,
            "grid_area": null,
            "grid_auto_columns": null,
            "grid_auto_flow": null,
            "grid_auto_rows": null,
            "grid_column": null,
            "grid_gap": null,
            "grid_row": null,
            "grid_template_areas": null,
            "grid_template_columns": null,
            "grid_template_rows": null,
            "height": null,
            "justify_content": null,
            "justify_items": null,
            "left": null,
            "margin": null,
            "max_height": null,
            "max_width": null,
            "min_height": null,
            "min_width": null,
            "object_fit": null,
            "object_position": null,
            "order": null,
            "overflow": null,
            "overflow_x": null,
            "overflow_y": null,
            "padding": null,
            "right": null,
            "top": null,
            "visibility": null,
            "width": null
          }
        },
        "5d2fc463e208417d9ce38950c2d75fca": {
          "model_module": "@jupyter-widgets/controls",
          "model_name": "DescriptionStyleModel",
          "model_module_version": "1.5.0",
          "state": {
            "_model_module": "@jupyter-widgets/controls",
            "_model_module_version": "1.5.0",
            "_model_name": "DescriptionStyleModel",
            "_view_count": null,
            "_view_module": "@jupyter-widgets/base",
            "_view_module_version": "1.2.0",
            "_view_name": "StyleView",
            "description_width": ""
          }
        },
        "6a3e9096e50344d4bb3f1bfa92a1675f": {
          "model_module": "@jupyter-widgets/base",
          "model_name": "LayoutModel",
          "model_module_version": "1.2.0",
          "state": {
            "_model_module": "@jupyter-widgets/base",
            "_model_module_version": "1.2.0",
            "_model_name": "LayoutModel",
            "_view_count": null,
            "_view_module": "@jupyter-widgets/base",
            "_view_module_version": "1.2.0",
            "_view_name": "LayoutView",
            "align_content": null,
            "align_items": null,
            "align_self": null,
            "border": null,
            "bottom": null,
            "display": null,
            "flex": null,
            "flex_flow": null,
            "grid_area": null,
            "grid_auto_columns": null,
            "grid_auto_flow": null,
            "grid_auto_rows": null,
            "grid_column": null,
            "grid_gap": null,
            "grid_row": null,
            "grid_template_areas": null,
            "grid_template_columns": null,
            "grid_template_rows": null,
            "height": null,
            "justify_content": null,
            "justify_items": null,
            "left": null,
            "margin": null,
            "max_height": null,
            "max_width": null,
            "min_height": null,
            "min_width": null,
            "object_fit": null,
            "object_position": null,
            "order": null,
            "overflow": null,
            "overflow_x": null,
            "overflow_y": null,
            "padding": null,
            "right": null,
            "top": null,
            "visibility": null,
            "width": null
          }
        },
        "4411a7c404954e87a04a91c6d81265d9": {
          "model_module": "@jupyter-widgets/controls",
          "model_name": "ProgressStyleModel",
          "model_module_version": "1.5.0",
          "state": {
            "_model_module": "@jupyter-widgets/controls",
            "_model_module_version": "1.5.0",
            "_model_name": "ProgressStyleModel",
            "_view_count": null,
            "_view_module": "@jupyter-widgets/base",
            "_view_module_version": "1.2.0",
            "_view_name": "StyleView",
            "bar_color": null,
            "description_width": ""
          }
        },
        "6a9f16e87cc64042bca71d34e2626279": {
          "model_module": "@jupyter-widgets/base",
          "model_name": "LayoutModel",
          "model_module_version": "1.2.0",
          "state": {
            "_model_module": "@jupyter-widgets/base",
            "_model_module_version": "1.2.0",
            "_model_name": "LayoutModel",
            "_view_count": null,
            "_view_module": "@jupyter-widgets/base",
            "_view_module_version": "1.2.0",
            "_view_name": "LayoutView",
            "align_content": null,
            "align_items": null,
            "align_self": null,
            "border": null,
            "bottom": null,
            "display": null,
            "flex": null,
            "flex_flow": null,
            "grid_area": null,
            "grid_auto_columns": null,
            "grid_auto_flow": null,
            "grid_auto_rows": null,
            "grid_column": null,
            "grid_gap": null,
            "grid_row": null,
            "grid_template_areas": null,
            "grid_template_columns": null,
            "grid_template_rows": null,
            "height": null,
            "justify_content": null,
            "justify_items": null,
            "left": null,
            "margin": null,
            "max_height": null,
            "max_width": null,
            "min_height": null,
            "min_width": null,
            "object_fit": null,
            "object_position": null,
            "order": null,
            "overflow": null,
            "overflow_x": null,
            "overflow_y": null,
            "padding": null,
            "right": null,
            "top": null,
            "visibility": null,
            "width": null
          }
        },
        "f479c1fc951740ff9988049ae255fd5c": {
          "model_module": "@jupyter-widgets/controls",
          "model_name": "DescriptionStyleModel",
          "model_module_version": "1.5.0",
          "state": {
            "_model_module": "@jupyter-widgets/controls",
            "_model_module_version": "1.5.0",
            "_model_name": "DescriptionStyleModel",
            "_view_count": null,
            "_view_module": "@jupyter-widgets/base",
            "_view_module_version": "1.2.0",
            "_view_name": "StyleView",
            "description_width": ""
          }
        },
        "936a7f6d61164580921b45547c5e2fd8": {
          "model_module": "@jupyter-widgets/controls",
          "model_name": "HBoxModel",
          "model_module_version": "1.5.0",
          "state": {
            "_dom_classes": [],
            "_model_module": "@jupyter-widgets/controls",
            "_model_module_version": "1.5.0",
            "_model_name": "HBoxModel",
            "_view_count": null,
            "_view_module": "@jupyter-widgets/controls",
            "_view_module_version": "1.5.0",
            "_view_name": "HBoxView",
            "box_style": "",
            "children": [
              "IPY_MODEL_923b74c18cc84622a6a89aec976e6aa2",
              "IPY_MODEL_913767b74b7c41fcbb815db9eeb6b47b",
              "IPY_MODEL_ad2af47dca7e4feb893f1b7c4cd616a1"
            ],
            "layout": "IPY_MODEL_c170656853da4dc28f8d0367a13a9fcc"
          }
        },
        "923b74c18cc84622a6a89aec976e6aa2": {
          "model_module": "@jupyter-widgets/controls",
          "model_name": "HTMLModel",
          "model_module_version": "1.5.0",
          "state": {
            "_dom_classes": [],
            "_model_module": "@jupyter-widgets/controls",
            "_model_module_version": "1.5.0",
            "_model_name": "HTMLModel",
            "_view_count": null,
            "_view_module": "@jupyter-widgets/controls",
            "_view_module_version": "1.5.0",
            "_view_name": "HTMLView",
            "description": "",
            "description_tooltip": null,
            "layout": "IPY_MODEL_802132f122ac484d9ae12350d5a8c343",
            "placeholder": "​",
            "style": "IPY_MODEL_560c32761ef9457797413bcaad8b3ad3",
            "value": "100%"
          }
        },
        "913767b74b7c41fcbb815db9eeb6b47b": {
          "model_module": "@jupyter-widgets/controls",
          "model_name": "FloatProgressModel",
          "model_module_version": "1.5.0",
          "state": {
            "_dom_classes": [],
            "_model_module": "@jupyter-widgets/controls",
            "_model_module_version": "1.5.0",
            "_model_name": "FloatProgressModel",
            "_view_count": null,
            "_view_module": "@jupyter-widgets/controls",
            "_view_module_version": "1.5.0",
            "_view_name": "ProgressView",
            "bar_style": "success",
            "description": "",
            "description_tooltip": null,
            "layout": "IPY_MODEL_3f6ce49bf4af4ae7af9073c017333549",
            "max": 101,
            "min": 0,
            "orientation": "horizontal",
            "style": "IPY_MODEL_303e9bd3cfcd4be0ab8e92273b144a71",
            "value": 101
          }
        },
        "ad2af47dca7e4feb893f1b7c4cd616a1": {
          "model_module": "@jupyter-widgets/controls",
          "model_name": "HTMLModel",
          "model_module_version": "1.5.0",
          "state": {
            "_dom_classes": [],
            "_model_module": "@jupyter-widgets/controls",
            "_model_module_version": "1.5.0",
            "_model_name": "HTMLModel",
            "_view_count": null,
            "_view_module": "@jupyter-widgets/controls",
            "_view_module_version": "1.5.0",
            "_view_name": "HTMLView",
            "description": "",
            "description_tooltip": null,
            "layout": "IPY_MODEL_d4736576690f47bb99aa0db4f4b9b12b",
            "placeholder": "​",
            "style": "IPY_MODEL_68681fc44bc74976b0fa969ebff5d891",
            "value": " 101/101 [25:01&lt;00:00, 14.66s/it]"
          }
        },
        "c170656853da4dc28f8d0367a13a9fcc": {
          "model_module": "@jupyter-widgets/base",
          "model_name": "LayoutModel",
          "model_module_version": "1.2.0",
          "state": {
            "_model_module": "@jupyter-widgets/base",
            "_model_module_version": "1.2.0",
            "_model_name": "LayoutModel",
            "_view_count": null,
            "_view_module": "@jupyter-widgets/base",
            "_view_module_version": "1.2.0",
            "_view_name": "LayoutView",
            "align_content": null,
            "align_items": null,
            "align_self": null,
            "border": null,
            "bottom": null,
            "display": null,
            "flex": null,
            "flex_flow": null,
            "grid_area": null,
            "grid_auto_columns": null,
            "grid_auto_flow": null,
            "grid_auto_rows": null,
            "grid_column": null,
            "grid_gap": null,
            "grid_row": null,
            "grid_template_areas": null,
            "grid_template_columns": null,
            "grid_template_rows": null,
            "height": null,
            "justify_content": null,
            "justify_items": null,
            "left": null,
            "margin": null,
            "max_height": null,
            "max_width": null,
            "min_height": null,
            "min_width": null,
            "object_fit": null,
            "object_position": null,
            "order": null,
            "overflow": null,
            "overflow_x": null,
            "overflow_y": null,
            "padding": null,
            "right": null,
            "top": null,
            "visibility": null,
            "width": null
          }
        },
        "802132f122ac484d9ae12350d5a8c343": {
          "model_module": "@jupyter-widgets/base",
          "model_name": "LayoutModel",
          "model_module_version": "1.2.0",
          "state": {
            "_model_module": "@jupyter-widgets/base",
            "_model_module_version": "1.2.0",
            "_model_name": "LayoutModel",
            "_view_count": null,
            "_view_module": "@jupyter-widgets/base",
            "_view_module_version": "1.2.0",
            "_view_name": "LayoutView",
            "align_content": null,
            "align_items": null,
            "align_self": null,
            "border": null,
            "bottom": null,
            "display": null,
            "flex": null,
            "flex_flow": null,
            "grid_area": null,
            "grid_auto_columns": null,
            "grid_auto_flow": null,
            "grid_auto_rows": null,
            "grid_column": null,
            "grid_gap": null,
            "grid_row": null,
            "grid_template_areas": null,
            "grid_template_columns": null,
            "grid_template_rows": null,
            "height": null,
            "justify_content": null,
            "justify_items": null,
            "left": null,
            "margin": null,
            "max_height": null,
            "max_width": null,
            "min_height": null,
            "min_width": null,
            "object_fit": null,
            "object_position": null,
            "order": null,
            "overflow": null,
            "overflow_x": null,
            "overflow_y": null,
            "padding": null,
            "right": null,
            "top": null,
            "visibility": null,
            "width": null
          }
        },
        "560c32761ef9457797413bcaad8b3ad3": {
          "model_module": "@jupyter-widgets/controls",
          "model_name": "DescriptionStyleModel",
          "model_module_version": "1.5.0",
          "state": {
            "_model_module": "@jupyter-widgets/controls",
            "_model_module_version": "1.5.0",
            "_model_name": "DescriptionStyleModel",
            "_view_count": null,
            "_view_module": "@jupyter-widgets/base",
            "_view_module_version": "1.2.0",
            "_view_name": "StyleView",
            "description_width": ""
          }
        },
        "3f6ce49bf4af4ae7af9073c017333549": {
          "model_module": "@jupyter-widgets/base",
          "model_name": "LayoutModel",
          "model_module_version": "1.2.0",
          "state": {
            "_model_module": "@jupyter-widgets/base",
            "_model_module_version": "1.2.0",
            "_model_name": "LayoutModel",
            "_view_count": null,
            "_view_module": "@jupyter-widgets/base",
            "_view_module_version": "1.2.0",
            "_view_name": "LayoutView",
            "align_content": null,
            "align_items": null,
            "align_self": null,
            "border": null,
            "bottom": null,
            "display": null,
            "flex": null,
            "flex_flow": null,
            "grid_area": null,
            "grid_auto_columns": null,
            "grid_auto_flow": null,
            "grid_auto_rows": null,
            "grid_column": null,
            "grid_gap": null,
            "grid_row": null,
            "grid_template_areas": null,
            "grid_template_columns": null,
            "grid_template_rows": null,
            "height": null,
            "justify_content": null,
            "justify_items": null,
            "left": null,
            "margin": null,
            "max_height": null,
            "max_width": null,
            "min_height": null,
            "min_width": null,
            "object_fit": null,
            "object_position": null,
            "order": null,
            "overflow": null,
            "overflow_x": null,
            "overflow_y": null,
            "padding": null,
            "right": null,
            "top": null,
            "visibility": null,
            "width": null
          }
        },
        "303e9bd3cfcd4be0ab8e92273b144a71": {
          "model_module": "@jupyter-widgets/controls",
          "model_name": "ProgressStyleModel",
          "model_module_version": "1.5.0",
          "state": {
            "_model_module": "@jupyter-widgets/controls",
            "_model_module_version": "1.5.0",
            "_model_name": "ProgressStyleModel",
            "_view_count": null,
            "_view_module": "@jupyter-widgets/base",
            "_view_module_version": "1.2.0",
            "_view_name": "StyleView",
            "bar_color": null,
            "description_width": ""
          }
        },
        "d4736576690f47bb99aa0db4f4b9b12b": {
          "model_module": "@jupyter-widgets/base",
          "model_name": "LayoutModel",
          "model_module_version": "1.2.0",
          "state": {
            "_model_module": "@jupyter-widgets/base",
            "_model_module_version": "1.2.0",
            "_model_name": "LayoutModel",
            "_view_count": null,
            "_view_module": "@jupyter-widgets/base",
            "_view_module_version": "1.2.0",
            "_view_name": "LayoutView",
            "align_content": null,
            "align_items": null,
            "align_self": null,
            "border": null,
            "bottom": null,
            "display": null,
            "flex": null,
            "flex_flow": null,
            "grid_area": null,
            "grid_auto_columns": null,
            "grid_auto_flow": null,
            "grid_auto_rows": null,
            "grid_column": null,
            "grid_gap": null,
            "grid_row": null,
            "grid_template_areas": null,
            "grid_template_columns": null,
            "grid_template_rows": null,
            "height": null,
            "justify_content": null,
            "justify_items": null,
            "left": null,
            "margin": null,
            "max_height": null,
            "max_width": null,
            "min_height": null,
            "min_width": null,
            "object_fit": null,
            "object_position": null,
            "order": null,
            "overflow": null,
            "overflow_x": null,
            "overflow_y": null,
            "padding": null,
            "right": null,
            "top": null,
            "visibility": null,
            "width": null
          }
        },
        "68681fc44bc74976b0fa969ebff5d891": {
          "model_module": "@jupyter-widgets/controls",
          "model_name": "DescriptionStyleModel",
          "model_module_version": "1.5.0",
          "state": {
            "_model_module": "@jupyter-widgets/controls",
            "_model_module_version": "1.5.0",
            "_model_name": "DescriptionStyleModel",
            "_view_count": null,
            "_view_module": "@jupyter-widgets/base",
            "_view_module_version": "1.2.0",
            "_view_name": "StyleView",
            "description_width": ""
          }
        },
        "c9a9d8b523f2463d8ec4daf652184087": {
          "model_module": "@jupyter-widgets/controls",
          "model_name": "HBoxModel",
          "model_module_version": "1.5.0",
          "state": {
            "_dom_classes": [],
            "_model_module": "@jupyter-widgets/controls",
            "_model_module_version": "1.5.0",
            "_model_name": "HBoxModel",
            "_view_count": null,
            "_view_module": "@jupyter-widgets/controls",
            "_view_module_version": "1.5.0",
            "_view_name": "HBoxView",
            "box_style": "",
            "children": [
              "IPY_MODEL_ae631e83fdfd4f82a876488a4c7f41ac",
              "IPY_MODEL_6d8b5cec4d2e4b919952667a7463d4a2",
              "IPY_MODEL_7c1fb88963174a138ed01e75b5b2589d"
            ],
            "layout": "IPY_MODEL_1c31ab9ef91242a0a241bf11a179594b"
          }
        },
        "ae631e83fdfd4f82a876488a4c7f41ac": {
          "model_module": "@jupyter-widgets/controls",
          "model_name": "HTMLModel",
          "model_module_version": "1.5.0",
          "state": {
            "_dom_classes": [],
            "_model_module": "@jupyter-widgets/controls",
            "_model_module_version": "1.5.0",
            "_model_name": "HTMLModel",
            "_view_count": null,
            "_view_module": "@jupyter-widgets/controls",
            "_view_module_version": "1.5.0",
            "_view_name": "HTMLView",
            "description": "",
            "description_tooltip": null,
            "layout": "IPY_MODEL_13c223b9cd824e268ef2eb3b6fc33af6",
            "placeholder": "​",
            "style": "IPY_MODEL_e59bcc0e347b42018c8b9f52577c3ecc",
            "value": " 25%"
          }
        },
        "6d8b5cec4d2e4b919952667a7463d4a2": {
          "model_module": "@jupyter-widgets/controls",
          "model_name": "FloatProgressModel",
          "model_module_version": "1.5.0",
          "state": {
            "_dom_classes": [],
            "_model_module": "@jupyter-widgets/controls",
            "_model_module_version": "1.5.0",
            "_model_name": "FloatProgressModel",
            "_view_count": null,
            "_view_module": "@jupyter-widgets/controls",
            "_view_module_version": "1.5.0",
            "_view_name": "ProgressView",
            "bar_style": "",
            "description": "",
            "description_tooltip": null,
            "layout": "IPY_MODEL_9b19e0c553a941cb89cb25dc28d91168",
            "max": 101,
            "min": 0,
            "orientation": "horizontal",
            "style": "IPY_MODEL_6420ca6c7b2d4a96b14b866bdcf1fe03",
            "value": 25
          }
        },
        "7c1fb88963174a138ed01e75b5b2589d": {
          "model_module": "@jupyter-widgets/controls",
          "model_name": "HTMLModel",
          "model_module_version": "1.5.0",
          "state": {
            "_dom_classes": [],
            "_model_module": "@jupyter-widgets/controls",
            "_model_module_version": "1.5.0",
            "_model_name": "HTMLModel",
            "_view_count": null,
            "_view_module": "@jupyter-widgets/controls",
            "_view_module_version": "1.5.0",
            "_view_name": "HTMLView",
            "description": "",
            "description_tooltip": null,
            "layout": "IPY_MODEL_9fc8e80707f54ea894c466fe22581b8f",
            "placeholder": "​",
            "style": "IPY_MODEL_9f478f3bc8764fecae8fd3fb07d38c73",
            "value": " 25/101 [01:14&lt;07:39,  6.05s/it]"
          }
        },
        "1c31ab9ef91242a0a241bf11a179594b": {
          "model_module": "@jupyter-widgets/base",
          "model_name": "LayoutModel",
          "model_module_version": "1.2.0",
          "state": {
            "_model_module": "@jupyter-widgets/base",
            "_model_module_version": "1.2.0",
            "_model_name": "LayoutModel",
            "_view_count": null,
            "_view_module": "@jupyter-widgets/base",
            "_view_module_version": "1.2.0",
            "_view_name": "LayoutView",
            "align_content": null,
            "align_items": null,
            "align_self": null,
            "border": null,
            "bottom": null,
            "display": null,
            "flex": null,
            "flex_flow": null,
            "grid_area": null,
            "grid_auto_columns": null,
            "grid_auto_flow": null,
            "grid_auto_rows": null,
            "grid_column": null,
            "grid_gap": null,
            "grid_row": null,
            "grid_template_areas": null,
            "grid_template_columns": null,
            "grid_template_rows": null,
            "height": null,
            "justify_content": null,
            "justify_items": null,
            "left": null,
            "margin": null,
            "max_height": null,
            "max_width": null,
            "min_height": null,
            "min_width": null,
            "object_fit": null,
            "object_position": null,
            "order": null,
            "overflow": null,
            "overflow_x": null,
            "overflow_y": null,
            "padding": null,
            "right": null,
            "top": null,
            "visibility": null,
            "width": null
          }
        },
        "13c223b9cd824e268ef2eb3b6fc33af6": {
          "model_module": "@jupyter-widgets/base",
          "model_name": "LayoutModel",
          "model_module_version": "1.2.0",
          "state": {
            "_model_module": "@jupyter-widgets/base",
            "_model_module_version": "1.2.0",
            "_model_name": "LayoutModel",
            "_view_count": null,
            "_view_module": "@jupyter-widgets/base",
            "_view_module_version": "1.2.0",
            "_view_name": "LayoutView",
            "align_content": null,
            "align_items": null,
            "align_self": null,
            "border": null,
            "bottom": null,
            "display": null,
            "flex": null,
            "flex_flow": null,
            "grid_area": null,
            "grid_auto_columns": null,
            "grid_auto_flow": null,
            "grid_auto_rows": null,
            "grid_column": null,
            "grid_gap": null,
            "grid_row": null,
            "grid_template_areas": null,
            "grid_template_columns": null,
            "grid_template_rows": null,
            "height": null,
            "justify_content": null,
            "justify_items": null,
            "left": null,
            "margin": null,
            "max_height": null,
            "max_width": null,
            "min_height": null,
            "min_width": null,
            "object_fit": null,
            "object_position": null,
            "order": null,
            "overflow": null,
            "overflow_x": null,
            "overflow_y": null,
            "padding": null,
            "right": null,
            "top": null,
            "visibility": null,
            "width": null
          }
        },
        "e59bcc0e347b42018c8b9f52577c3ecc": {
          "model_module": "@jupyter-widgets/controls",
          "model_name": "DescriptionStyleModel",
          "model_module_version": "1.5.0",
          "state": {
            "_model_module": "@jupyter-widgets/controls",
            "_model_module_version": "1.5.0",
            "_model_name": "DescriptionStyleModel",
            "_view_count": null,
            "_view_module": "@jupyter-widgets/base",
            "_view_module_version": "1.2.0",
            "_view_name": "StyleView",
            "description_width": ""
          }
        },
        "9b19e0c553a941cb89cb25dc28d91168": {
          "model_module": "@jupyter-widgets/base",
          "model_name": "LayoutModel",
          "model_module_version": "1.2.0",
          "state": {
            "_model_module": "@jupyter-widgets/base",
            "_model_module_version": "1.2.0",
            "_model_name": "LayoutModel",
            "_view_count": null,
            "_view_module": "@jupyter-widgets/base",
            "_view_module_version": "1.2.0",
            "_view_name": "LayoutView",
            "align_content": null,
            "align_items": null,
            "align_self": null,
            "border": null,
            "bottom": null,
            "display": null,
            "flex": null,
            "flex_flow": null,
            "grid_area": null,
            "grid_auto_columns": null,
            "grid_auto_flow": null,
            "grid_auto_rows": null,
            "grid_column": null,
            "grid_gap": null,
            "grid_row": null,
            "grid_template_areas": null,
            "grid_template_columns": null,
            "grid_template_rows": null,
            "height": null,
            "justify_content": null,
            "justify_items": null,
            "left": null,
            "margin": null,
            "max_height": null,
            "max_width": null,
            "min_height": null,
            "min_width": null,
            "object_fit": null,
            "object_position": null,
            "order": null,
            "overflow": null,
            "overflow_x": null,
            "overflow_y": null,
            "padding": null,
            "right": null,
            "top": null,
            "visibility": null,
            "width": null
          }
        },
        "6420ca6c7b2d4a96b14b866bdcf1fe03": {
          "model_module": "@jupyter-widgets/controls",
          "model_name": "ProgressStyleModel",
          "model_module_version": "1.5.0",
          "state": {
            "_model_module": "@jupyter-widgets/controls",
            "_model_module_version": "1.5.0",
            "_model_name": "ProgressStyleModel",
            "_view_count": null,
            "_view_module": "@jupyter-widgets/base",
            "_view_module_version": "1.2.0",
            "_view_name": "StyleView",
            "bar_color": null,
            "description_width": ""
          }
        },
        "9fc8e80707f54ea894c466fe22581b8f": {
          "model_module": "@jupyter-widgets/base",
          "model_name": "LayoutModel",
          "model_module_version": "1.2.0",
          "state": {
            "_model_module": "@jupyter-widgets/base",
            "_model_module_version": "1.2.0",
            "_model_name": "LayoutModel",
            "_view_count": null,
            "_view_module": "@jupyter-widgets/base",
            "_view_module_version": "1.2.0",
            "_view_name": "LayoutView",
            "align_content": null,
            "align_items": null,
            "align_self": null,
            "border": null,
            "bottom": null,
            "display": null,
            "flex": null,
            "flex_flow": null,
            "grid_area": null,
            "grid_auto_columns": null,
            "grid_auto_flow": null,
            "grid_auto_rows": null,
            "grid_column": null,
            "grid_gap": null,
            "grid_row": null,
            "grid_template_areas": null,
            "grid_template_columns": null,
            "grid_template_rows": null,
            "height": null,
            "justify_content": null,
            "justify_items": null,
            "left": null,
            "margin": null,
            "max_height": null,
            "max_width": null,
            "min_height": null,
            "min_width": null,
            "object_fit": null,
            "object_position": null,
            "order": null,
            "overflow": null,
            "overflow_x": null,
            "overflow_y": null,
            "padding": null,
            "right": null,
            "top": null,
            "visibility": null,
            "width": null
          }
        },
        "9f478f3bc8764fecae8fd3fb07d38c73": {
          "model_module": "@jupyter-widgets/controls",
          "model_name": "DescriptionStyleModel",
          "model_module_version": "1.5.0",
          "state": {
            "_model_module": "@jupyter-widgets/controls",
            "_model_module_version": "1.5.0",
            "_model_name": "DescriptionStyleModel",
            "_view_count": null,
            "_view_module": "@jupyter-widgets/base",
            "_view_module_version": "1.2.0",
            "_view_name": "StyleView",
            "description_width": ""
          }
        }
      }
    }
  },
  "cells": [
    {
      "cell_type": "markdown",
      "metadata": {
        "id": "view-in-github",
        "colab_type": "text"
      },
      "source": [
        "<a href=\"https://colab.research.google.com/github/dbtjr1103/Basic_practice/blob/main/tofind_Food_model.ipynb\" target=\"_parent\"><img src=\"https://colab.research.google.com/assets/colab-badge.svg\" alt=\"Open In Colab\"/></a>"
      ]
    },
    {
      "cell_type": "markdown",
      "source": [
        "# Food img Downloads"
      ],
      "metadata": {
        "id": "itPgP9LBld1b"
      }
    },
    {
      "cell_type": "code",
      "execution_count": 1,
      "metadata": {
        "colab": {
          "base_uri": "https://localhost:8080/"
        },
        "id": "C3AvFQZDfxcr",
        "outputId": "01041150-b36d-4f6f-e958-4ae3b94cc9fd"
      },
      "outputs": [
        {
          "output_type": "stream",
          "name": "stdout",
          "text": [
            "Looking in indexes: https://pypi.org/simple, https://us-python.pkg.dev/colab-wheels/public/simple/\n",
            "Requirement already satisfied: split-folders in /usr/local/lib/python3.7/dist-packages (0.5.1)\n"
          ]
        }
      ],
      "source": [
        "pip install split-folders"
      ]
    },
    {
      "cell_type": "code",
      "source": [
        "# 캐글 설치\n",
        "!pip install -q kaggle"
      ],
      "metadata": {
        "id": "JDwal5KQjecr"
      },
      "execution_count": 2,
      "outputs": []
    },
    {
      "cell_type": "code",
      "source": [
        "# .kaggle 폴더 생성\n",
        "!mkdir -p ~/.kaggle/\n",
        "# kaggle.josn .kaggle로 복사\n",
        "!cp kaggle.json ~/.kaggle/\n",
        "# 해당 폴더 목록 확인(복사 잘 되었는지 확인)\n",
        "!ls ~/.kaggle"
      ],
      "metadata": {
        "colab": {
          "base_uri": "https://localhost:8080/"
        },
        "id": "jDpMcznPjkiR",
        "outputId": "1d09f140-4590-415e-f00c-c88e4921d2b2"
      },
      "execution_count": 3,
      "outputs": [
        {
          "output_type": "stream",
          "name": "stdout",
          "text": [
            "kaggle.json\n"
          ]
        }
      ]
    },
    {
      "cell_type": "code",
      "source": [
        "cd ~"
      ],
      "metadata": {
        "colab": {
          "base_uri": "https://localhost:8080/"
        },
        "id": "9ajDheRdlsei",
        "outputId": "f0058045-bb20-47b2-a923-31fb688a7a9b"
      },
      "execution_count": 4,
      "outputs": [
        {
          "output_type": "stream",
          "name": "stdout",
          "text": [
            "/root\n"
          ]
        }
      ]
    },
    {
      "cell_type": "code",
      "source": [
        "!ls -a"
      ],
      "metadata": {
        "colab": {
          "base_uri": "https://localhost:8080/"
        },
        "outputId": "304982ff-f356-4631-d5b5-051d8c6aadda",
        "id": "bHKRgF17pdgy"
      },
      "execution_count": 5,
      "outputs": [
        {
          "output_type": "stream",
          "name": "stdout",
          "text": [
            ".   .bashrc  .config   .jupyter  .keras  .npm\t   .tmux.conf\n",
            "..  .cache   .ipython  .kaggle\t .local  .profile  .wget-hsts\n"
          ]
        }
      ]
    },
    {
      "cell_type": "code",
      "source": [
        "!ls .kaggle -al"
      ],
      "metadata": {
        "colab": {
          "base_uri": "https://localhost:8080/"
        },
        "outputId": "feafa626-f41d-4bc8-82b0-dba847fc70ed",
        "id": "vv2pl8mDpdgy"
      },
      "execution_count": 6,
      "outputs": [
        {
          "output_type": "stream",
          "name": "stdout",
          "text": [
            "total 16\n",
            "drwxr-xr-x 2 root root 4096 Nov 26 06:39 .\n",
            "drwx------ 1 root root 4096 Nov 26 06:39 ..\n",
            "-rw-r--r-- 1 root root   66 Nov 26 06:39 kaggle.json\n"
          ]
        }
      ]
    },
    {
      "cell_type": "code",
      "source": [
        "!chmod 600 ~/.kaggle/kaggle.json"
      ],
      "metadata": {
        "id": "ufYj9QCMpdgz"
      },
      "execution_count": 7,
      "outputs": []
    },
    {
      "cell_type": "code",
      "source": [
        "!ls .kaggle -al"
      ],
      "metadata": {
        "colab": {
          "base_uri": "https://localhost:8080/"
        },
        "outputId": "0903c36e-2b1c-4aa4-9fae-6bc85dd1847d",
        "id": "kl4v1V_hpdgz"
      },
      "execution_count": 8,
      "outputs": [
        {
          "output_type": "stream",
          "name": "stdout",
          "text": [
            "total 16\n",
            "drwxr-xr-x 2 root root 4096 Nov 26 06:39 .\n",
            "drwx------ 1 root root 4096 Nov 26 06:39 ..\n",
            "-rw------- 1 root root   66 Nov 26 06:39 kaggle.json\n"
          ]
        }
      ]
    },
    {
      "cell_type": "code",
      "source": [
        "cd /content"
      ],
      "metadata": {
        "colab": {
          "base_uri": "https://localhost:8080/"
        },
        "outputId": "8c8f30b9-5635-474a-cfef-731065603f97",
        "id": "SJ3f5CjMpdgz"
      },
      "execution_count": 9,
      "outputs": [
        {
          "output_type": "stream",
          "name": "stdout",
          "text": [
            "/content\n"
          ]
        }
      ]
    },
    {
      "cell_type": "code",
      "source": [
        "!kaggle datasets download -d kmader/food41"
      ],
      "metadata": {
        "colab": {
          "base_uri": "https://localhost:8080/"
        },
        "outputId": "997adbf8-8ad7-4dca-b0a8-ed4999ffa20b",
        "id": "EDGaru_0pdgz"
      },
      "execution_count": 10,
      "outputs": [
        {
          "output_type": "stream",
          "name": "stdout",
          "text": [
            "Downloading food41.zip to /content\n",
            "100% 5.30G/5.30G [04:15<00:00, 25.2MB/s]\n",
            "100% 5.30G/5.30G [04:15<00:00, 22.3MB/s]\n"
          ]
        }
      ]
    },
    {
      "cell_type": "code",
      "source": [
        "!unzip -q food41.zip"
      ],
      "metadata": {
        "id": "JQ0vLGl6pdgz"
      },
      "execution_count": 11,
      "outputs": []
    },
    {
      "cell_type": "code",
      "source": [
        "import splitfolders\n",
        "\n",
        "import os\n",
        "\n",
        "import cv2\n",
        "import numpy as np\n",
        "from tqdm.notebook import tqdm\n",
        "\n",
        "from matplotlib import pyplot as plt\n",
        "import matplotlib.cm as cm\n",
        "\n",
        "import tensorflow as tf\n",
        "\n",
        "import pickle\n",
        "\n",
        "from tensorflow.keras.preprocessing.image import ImageDataGenerator, array_to_img, img_to_array, load_img\n",
        "\n",
        "from tensorflow.keras import datasets, layers, models\n",
        "\n",
        "from tensorflow.keras.layers import Dense, Flatten, MaxPooling2D\n",
        "from tensorflow.keras import Input\n",
        "from tensorflow.keras.layers import Dropout, BatchNormalization\n",
        "\n",
        "import matplotlib.pyplot as plt\n",
        "\n",
        "from sklearn.model_selection import train_test_split"
      ],
      "metadata": {
        "id": "DBtBwGa9l6-S"
      },
      "execution_count": 2,
      "outputs": []
    },
    {
      "cell_type": "code",
      "source": [
        "folder_path = '/content/images'\n",
        "label_names = os.listdir(folder_path)\n",
        "print(len(label_names))\n",
        "print(label_names[:5])"
      ],
      "metadata": {
        "colab": {
          "base_uri": "https://localhost:8080/"
        },
        "id": "JdSTMk1oGSGM",
        "outputId": "0ae3fb2a-a77e-457b-fa7d-361da3fc1999"
      },
      "execution_count": 3,
      "outputs": [
        {
          "output_type": "stream",
          "name": "stdout",
          "text": [
            "101\n",
            "['steak', 'lasagna', 'pad_thai', 'baklava', 'huevos_rancheros']\n"
          ]
        }
      ]
    },
    {
      "cell_type": "code",
      "source": [
        "dataset = {}\n",
        "\n",
        "# 이미지와 라벨 리스트에 담기\n",
        "for label in label_names:\n",
        "    sub_path = folder_path+'/'+label+'/'\n",
        "    dataset[label] = []\n",
        "    for filename in os.listdir(sub_path):\n",
        "        dataset[label].append(sub_path+filename)\n",
        "\n",
        "len(dataset)"
      ],
      "metadata": {
        "colab": {
          "base_uri": "https://localhost:8080/"
        },
        "id": "l76KY2ZgGp-k",
        "outputId": "91d5b49b-502f-4bdf-a756-d05e04071f64"
      },
      "execution_count": 4,
      "outputs": [
        {
          "output_type": "execute_result",
          "data": {
            "text/plain": [
              "101"
            ]
          },
          "metadata": {},
          "execution_count": 4
        }
      ]
    },
    {
      "cell_type": "code",
      "source": [
        "# resize 덮어씌우기\n",
        "for label, filenames in tqdm(dataset.items()):\n",
        "    for filename in filenames:\n",
        "        img = cv2.imread(filename)\n",
        "\n",
        "        # 이미지의 x, y가 128이 넘을 경우 작게해주기\n",
        "        percent = 1\n",
        "        if(img.shape[1] > img.shape[0]) :       # 이미지의 가로가 세보다 크면 가로를 128으로 맞추고 세로를 비율에 맞춰서\n",
        "            percent = 112/img.shape[1]\n",
        "        else :\n",
        "            percent = 112/img.shape[0]\n",
        "\n",
        "        img = cv2.resize(img, dsize=(0, 0), fx=percent, fy=percent, interpolation=cv2.INTER_LINEAR)\n",
        "                # 이미지 범위 지정\n",
        "        y,x,h,w = (0,0,img.shape[0], img.shape[1])\n",
        "\n",
        "        # 그림 주변에 검은색으로 칠하기\n",
        "        w_x = (112-(w-x))/2  # w_x = (128 - 그림)을 뺀 나머지 영역 크기 [ 그림나머지/2 [그림] 그림나머지/2 ]\n",
        "        h_y = (112-(h-y))/2\n",
        "\n",
        "        if(w_x < 0):         # 크기가 -면 0으로 지정.\n",
        "            w_x = 0\n",
        "        elif(h_y < 0):\n",
        "            h_y = 0\n",
        "\n",
        "        M = np.float32([[1,0,w_x], [0,1,h_y]])  #(2*3 이차원 행렬)\n",
        "        img_re = cv2.warpAffine(img, M, (112, 112)) #이동변환  \n",
        "       \n",
        "        cv2.imwrite('/content/images/{0}/{1}'.format(label, filename.split(\"/\")[-1]) , img_re)"
      ],
      "metadata": {
        "colab": {
          "base_uri": "https://localhost:8080/",
          "height": 49,
          "referenced_widgets": [
            "f166ceeb073e4fb08ff28a6a3c8ac96c",
            "cef4d30f029b4bb1a8e1f5de88da3ffa",
            "7170aac3c0cc4a0ab9ce3047c16f5033",
            "dada86cf632e43bb9a80b1fa0ee111f0",
            "0a316714cec34c7481fa17aac83e7e77",
            "bcd87639de824b479073f4b080e5a045",
            "5d2fc463e208417d9ce38950c2d75fca",
            "6a3e9096e50344d4bb3f1bfa92a1675f",
            "4411a7c404954e87a04a91c6d81265d9",
            "6a9f16e87cc64042bca71d34e2626279",
            "f479c1fc951740ff9988049ae255fd5c"
          ]
        },
        "id": "fa1RiP7qGLK0",
        "outputId": "b1d196af-4ea0-4a52-e938-f8b825e04346"
      },
      "execution_count": 5,
      "outputs": [
        {
          "output_type": "display_data",
          "data": {
            "text/plain": [
              "  0%|          | 0/101 [00:00<?, ?it/s]"
            ],
            "application/vnd.jupyter.widget-view+json": {
              "version_major": 2,
              "version_minor": 0,
              "model_id": "f166ceeb073e4fb08ff28a6a3c8ac96c"
            }
          },
          "metadata": {}
        }
      ]
    },
    {
      "cell_type": "code",
      "source": [
        "splitfolders.ratio('/content/images', output='/content/dataset', seed=77, ratio=(0.6, 0.2, 0.2))"
      ],
      "metadata": {
        "colab": {
          "base_uri": "https://localhost:8080/"
        },
        "id": "MoxzBg6-I9zX",
        "outputId": "950fcd6a-3eff-411d-da07-0fe88a3b74f7"
      },
      "execution_count": 6,
      "outputs": [
        {
          "output_type": "stream",
          "name": "stderr",
          "text": [
            "Copying files: 101000 files [00:16, 6135.88 files/s]\n"
          ]
        }
      ]
    },
    {
      "cell_type": "code",
      "source": [
        "label2index = {}\n",
        "for idx, label in enumerate(label_names):\n",
        "    label2index[label] = idx\n",
        "label2index"
      ],
      "metadata": {
        "colab": {
          "base_uri": "https://localhost:8080/"
        },
        "id": "p35ubGrwSHmB",
        "outputId": "6a7d253f-3a03-4988-df02-a2953291b091"
      },
      "execution_count": 7,
      "outputs": [
        {
          "output_type": "execute_result",
          "data": {
            "text/plain": [
              "{'steak': 0,\n",
              " 'lasagna': 1,\n",
              " 'pad_thai': 2,\n",
              " 'baklava': 3,\n",
              " 'huevos_rancheros': 4,\n",
              " 'carrot_cake': 5,\n",
              " 'spaghetti_carbonara': 6,\n",
              " 'french_toast': 7,\n",
              " 'fish_and_chips': 8,\n",
              " 'nachos': 9,\n",
              " 'onion_rings': 10,\n",
              " 'shrimp_and_grits': 11,\n",
              " 'waffles': 12,\n",
              " 'gyoza': 13,\n",
              " 'chicken_wings': 14,\n",
              " 'beef_tartare': 15,\n",
              " 'chocolate_mousse': 16,\n",
              " 'foie_gras': 17,\n",
              " 'samosa': 18,\n",
              " 'lobster_bisque': 19,\n",
              " 'beet_salad': 20,\n",
              " 'red_velvet_cake': 21,\n",
              " 'bruschetta': 22,\n",
              " 'caesar_salad': 23,\n",
              " 'hot_and_sour_soup': 24,\n",
              " 'escargots': 25,\n",
              " 'mussels': 26,\n",
              " 'strawberry_shortcake': 27,\n",
              " 'crab_cakes': 28,\n",
              " 'pulled_pork_sandwich': 29,\n",
              " 'deviled_eggs': 30,\n",
              " 'dumplings': 31,\n",
              " 'poutine': 32,\n",
              " 'ice_cream': 33,\n",
              " 'french_onion_soup': 34,\n",
              " 'spring_rolls': 35,\n",
              " 'grilled_cheese_sandwich': 36,\n",
              " 'pho': 37,\n",
              " 'cup_cakes': 38,\n",
              " 'seaweed_salad': 39,\n",
              " 'filet_mignon': 40,\n",
              " 'ceviche': 41,\n",
              " 'peking_duck': 42,\n",
              " 'grilled_salmon': 43,\n",
              " 'tacos': 44,\n",
              " 'cheesecake': 45,\n",
              " 'paella': 46,\n",
              " 'macarons': 47,\n",
              " 'chicken_quesadilla': 48,\n",
              " 'pizza': 49,\n",
              " 'tuna_tartare': 50,\n",
              " 'clam_chowder': 51,\n",
              " 'bread_pudding': 52,\n",
              " 'french_fries': 53,\n",
              " 'guacamole': 54,\n",
              " 'macaroni_and_cheese': 55,\n",
              " 'apple_pie': 56,\n",
              " 'bibimbap': 57,\n",
              " 'donuts': 58,\n",
              " 'sashimi': 59,\n",
              " 'caprese_salad': 60,\n",
              " 'sushi': 61,\n",
              " 'hamburger': 62,\n",
              " 'risotto': 63,\n",
              " 'baby_back_ribs': 64,\n",
              " 'takoyaki': 65,\n",
              " 'croque_madame': 66,\n",
              " 'breakfast_burrito': 67,\n",
              " 'spaghetti_bolognese': 68,\n",
              " 'hot_dog': 69,\n",
              " 'gnocchi': 70,\n",
              " 'pork_chop': 71,\n",
              " 'falafel': 72,\n",
              " 'pancakes': 73,\n",
              " 'garlic_bread': 74,\n",
              " 'omelette': 75,\n",
              " 'miso_soup': 76,\n",
              " 'club_sandwich': 77,\n",
              " 'prime_rib': 78,\n",
              " 'greek_salad': 79,\n",
              " 'creme_brulee': 80,\n",
              " 'ravioli': 81,\n",
              " 'cannoli': 82,\n",
              " 'eggs_benedict': 83,\n",
              " 'edamame': 84,\n",
              " 'oysters': 85,\n",
              " 'hummus': 86,\n",
              " 'chicken_curry': 87,\n",
              " 'tiramisu': 88,\n",
              " 'lobster_roll_sandwich': 89,\n",
              " 'ramen': 90,\n",
              " 'fried_rice': 91,\n",
              " 'frozen_yogurt': 92,\n",
              " 'beignets': 93,\n",
              " 'beef_carpaccio': 94,\n",
              " 'scallops': 95,\n",
              " 'fried_calamari': 96,\n",
              " 'cheese_plate': 97,\n",
              " 'panna_cotta': 98,\n",
              " 'chocolate_cake': 99,\n",
              " 'churros': 100}"
            ]
          },
          "metadata": {},
          "execution_count": 7
        }
      ]
    },
    {
      "cell_type": "code",
      "source": [
        "datagen = ImageDataGenerator(\n",
        "    rotation_range=40,\n",
        "    width_shift_range=0.2,\n",
        "    height_shift_range=0.2,\n",
        "    shear_range=0.2,\n",
        "    zoom_range=0.2,\n",
        "    horizontal_flip=True,\n",
        "    vertical_flip=True,\n",
        ")"
      ],
      "metadata": {
        "id": "AudWZW9pSLF3"
      },
      "execution_count": 8,
      "outputs": []
    },
    {
      "cell_type": "code",
      "source": [
        "folder_path = '/content/dataset/train'\n",
        "\n",
        "for label in  tqdm(os.listdir(folder_path)):\n",
        "    label_path = folder_path + '/' + label + '/'\n",
        "    for filename in os.listdir(label_path): \n",
        "        filepath = label_path + filename\n",
        "\n",
        "        img = load_img(filepath)\n",
        "        # img 출력\n",
        "        # plt.imshow(img)\n",
        "        # break\n",
        "        x = img_to_array(img)\n",
        "        # x.shape 출력\n",
        "        # print(x.shape)\n",
        "        # break\n",
        "        x = x.reshape((1,) + x.shape)\n",
        "\n",
        "        i = 0\n",
        "        # flow : augmentation 함수\n",
        "        for batch in datagen.flow(x, batch_size=1,\n",
        "                                save_to_dir=label_path, save_prefix=label, save_format='jpg'):\n",
        "            i += 1\n",
        "            if i > 1:\n",
        "                break  "
      ],
      "metadata": {
        "colab": {
          "base_uri": "https://localhost:8080/",
          "height": 49,
          "referenced_widgets": [
            "936a7f6d61164580921b45547c5e2fd8",
            "923b74c18cc84622a6a89aec976e6aa2",
            "913767b74b7c41fcbb815db9eeb6b47b",
            "ad2af47dca7e4feb893f1b7c4cd616a1",
            "c170656853da4dc28f8d0367a13a9fcc",
            "802132f122ac484d9ae12350d5a8c343",
            "560c32761ef9457797413bcaad8b3ad3",
            "3f6ce49bf4af4ae7af9073c017333549",
            "303e9bd3cfcd4be0ab8e92273b144a71",
            "d4736576690f47bb99aa0db4f4b9b12b",
            "68681fc44bc74976b0fa969ebff5d891"
          ]
        },
        "id": "NZC2Bdx0STSL",
        "outputId": "d185fcf6-177f-4322-cfb2-ee59fb1698f9"
      },
      "execution_count": 9,
      "outputs": [
        {
          "output_type": "display_data",
          "data": {
            "text/plain": [
              "  0%|          | 0/101 [00:00<?, ?it/s]"
            ],
            "application/vnd.jupyter.widget-view+json": {
              "version_major": 2,
              "version_minor": 0,
              "model_id": "936a7f6d61164580921b45547c5e2fd8"
            }
          },
          "metadata": {}
        }
      ]
    },
    {
      "cell_type": "code",
      "source": [
        "folder_path = '/content/dataset/train'\n",
        "dataset = {}\n",
        "\n",
        "# 이미지와 라벨 리스트에 담기\n",
        "for label in os.listdir(folder_path):\n",
        "    sub_path = folder_path+'/'+label+'/'\n",
        "    dataset[label] = []\n",
        "    for filename in os.listdir(sub_path):\n",
        "        dataset[label].append(sub_path+filename)"
      ],
      "metadata": {
        "id": "BqirqNGLSsdQ"
      },
      "execution_count": 10,
      "outputs": []
    },
    {
      "cell_type": "code",
      "source": [
        "x_train, y_train = [], []\n",
        "\n",
        "for label, filenames in tqdm(dataset.items()):\n",
        "    for filename in filenames:\n",
        "        image = cv2.imread(filename) # img를 array 형태로 변경\n",
        "\n",
        "        x_train.append(image)\n",
        "        y_train.append(label2index[label]) # label을 index로 변경"
      ],
      "metadata": {
        "colab": {
          "base_uri": "https://localhost:8080/",
          "height": 49,
          "referenced_widgets": [
            "c9a9d8b523f2463d8ec4daf652184087",
            "ae631e83fdfd4f82a876488a4c7f41ac",
            "6d8b5cec4d2e4b919952667a7463d4a2",
            "7c1fb88963174a138ed01e75b5b2589d",
            "1c31ab9ef91242a0a241bf11a179594b",
            "13c223b9cd824e268ef2eb3b6fc33af6",
            "e59bcc0e347b42018c8b9f52577c3ecc",
            "9b19e0c553a941cb89cb25dc28d91168",
            "6420ca6c7b2d4a96b14b866bdcf1fe03",
            "9fc8e80707f54ea894c466fe22581b8f",
            "9f478f3bc8764fecae8fd3fb07d38c73"
          ]
        },
        "id": "dtvPMmYQTsty",
        "outputId": "d96d3c5d-2382-41ee-8161-bbb313a8efd7"
      },
      "execution_count": null,
      "outputs": [
        {
          "output_type": "display_data",
          "data": {
            "text/plain": [
              "  0%|          | 0/101 [00:00<?, ?it/s]"
            ],
            "application/vnd.jupyter.widget-view+json": {
              "version_major": 2,
              "version_minor": 0,
              "model_id": "c9a9d8b523f2463d8ec4daf652184087"
            }
          },
          "metadata": {}
        }
      ]
    },
    {
      "cell_type": "code",
      "source": [
        "x_train, y_train = np.array(x_train), np.array(y_train)"
      ],
      "metadata": {
        "id": "7wDwm__cTvxG"
      },
      "execution_count": 15,
      "outputs": []
    },
    {
      "cell_type": "code",
      "source": [
        "x_train.dtype"
      ],
      "metadata": {
        "colab": {
          "base_uri": "https://localhost:8080/"
        },
        "id": "deIJF-dH3cTX",
        "outputId": "7f6a20a7-2469-4c17-e6ea-5da985073ca7"
      },
      "execution_count": 20,
      "outputs": [
        {
          "output_type": "execute_result",
          "data": {
            "text/plain": [
              "dtype('O')"
            ]
          },
          "metadata": {},
          "execution_count": 20
        }
      ]
    },
    {
      "cell_type": "code",
      "source": [
        "x_train = x_train.astype('int8')"
      ],
      "metadata": {
        "colab": {
          "base_uri": "https://localhost:8080/",
          "height": 262
        },
        "id": "hrWAhZd5Tv02",
        "outputId": "a677d805-4622-4736-c4cb-86eaed0cb729"
      },
      "execution_count": 18,
      "outputs": [
        {
          "output_type": "error",
          "ename": "ValueError",
          "evalue": "ignored",
          "traceback": [
            "\u001b[0;31m---------------------------------------------------------------------------\u001b[0m",
            "\u001b[0;31mTypeError\u001b[0m                                 Traceback (most recent call last)",
            "\u001b[0;31mTypeError\u001b[0m: only size-1 arrays can be converted to Python scalars",
            "\nThe above exception was the direct cause of the following exception:\n",
            "\u001b[0;31mValueError\u001b[0m                                Traceback (most recent call last)",
            "\u001b[0;32m<ipython-input-18-2ae297b47e6e>\u001b[0m in \u001b[0;36m<module>\u001b[0;34m\u001b[0m\n\u001b[0;32m----> 1\u001b[0;31m \u001b[0mx_train\u001b[0m \u001b[0;34m=\u001b[0m \u001b[0mx_train\u001b[0m\u001b[0;34m.\u001b[0m\u001b[0mastype\u001b[0m\u001b[0;34m(\u001b[0m\u001b[0;34m'int8'\u001b[0m\u001b[0;34m)\u001b[0m\u001b[0;34m\u001b[0m\u001b[0;34m\u001b[0m\u001b[0m\n\u001b[0m",
            "\u001b[0;31mValueError\u001b[0m: setting an array element with a sequence."
          ]
        }
      ]
    },
    {
      "cell_type": "code",
      "source": [
        "x_train.shape, y_train.shape"
      ],
      "metadata": {
        "id": "bBkb5mucWctq"
      },
      "execution_count": null,
      "outputs": []
    },
    {
      "cell_type": "code",
      "source": [
        "folder_path = '/content/dataset/val'\n",
        "dataset = {}\n",
        "\n",
        "# 이미지와 라벨 리스트에 담기\n",
        "for label in os.listdir(folder_path):\n",
        "    sub_path = folder_path+'/'+label+'/'\n",
        "    dataset[label] = []\n",
        "    for filename in os.listdir(sub_path):\n",
        "        dataset[label].append(sub_path+filename)"
      ],
      "metadata": {
        "id": "LOcEH5HaTv24"
      },
      "execution_count": null,
      "outputs": []
    },
    {
      "cell_type": "code",
      "source": [
        "x_val, y_val = [], []\n",
        "\n",
        "for label, filenames in dataset.items():\n",
        "    for filename in filenames:\n",
        "        image = cv2.imread(filename) # img를 array 형태로 변경\n",
        "\n",
        "        x_val.append(image)\n",
        "        y_val.append(label2index[label]) # label을 index로 변경"
      ],
      "metadata": {
        "id": "6PWolXbmTv5J"
      },
      "execution_count": null,
      "outputs": []
    },
    {
      "cell_type": "code",
      "source": [
        "x_val, y_val= np.array(x_val), np.array(y_val)"
      ],
      "metadata": {
        "id": "Zs3rUH2ATv7y"
      },
      "execution_count": null,
      "outputs": []
    },
    {
      "cell_type": "code",
      "source": [
        "x_val = x_val.astype('int8')"
      ],
      "metadata": {
        "id": "DQ-uxNw0Tv-f"
      },
      "execution_count": null,
      "outputs": []
    },
    {
      "cell_type": "code",
      "source": [
        "x_val.shape, y_val.shape"
      ],
      "metadata": {
        "id": "SNFQgHheWnf5"
      },
      "execution_count": null,
      "outputs": []
    },
    {
      "cell_type": "code",
      "source": [
        "folder_path = '/content/dataset/test'\n",
        "dataset = {}\n",
        "\n",
        "# 이미지와 라벨 리스트에 담기\n",
        "for label in os.listdir(folder_path):\n",
        "    sub_path = folder_path+'/'+label+'/'\n",
        "    dataset[label] = []\n",
        "    for filename in os.listdir(sub_path):\n",
        "        dataset[label].append(sub_path+filename)"
      ],
      "metadata": {
        "id": "PoINZz12TwA_"
      },
      "execution_count": null,
      "outputs": []
    },
    {
      "cell_type": "code",
      "source": [
        "x_test, y_test = [], []\n",
        "\n",
        "for label, filenames in dataset.items():\n",
        "    for filename in filenames:\n",
        "        image = cv2.imread(filename) # img를 array 형태로 변경\n",
        "\n",
        "        x_test.append(image)\n",
        "        y_test.append(label2index[label]) # label을 index로 변경"
      ],
      "metadata": {
        "id": "qWUdwdBKTwDt"
      },
      "execution_count": null,
      "outputs": []
    },
    {
      "cell_type": "code",
      "source": [
        "x_test, y_test = np.array(x_test), np.array(y_test)"
      ],
      "metadata": {
        "id": "nhIpJyfeTwGR"
      },
      "execution_count": null,
      "outputs": []
    },
    {
      "cell_type": "code",
      "source": [
        "x_test = x_test.astype('int8')"
      ],
      "metadata": {
        "id": "crktUk4vTwI9"
      },
      "execution_count": null,
      "outputs": []
    },
    {
      "cell_type": "code",
      "source": [
        "x_test.shape, y_test.shape"
      ],
      "metadata": {
        "id": "VwmaedfRWoe3"
      },
      "execution_count": null,
      "outputs": []
    },
    {
      "cell_type": "code",
      "source": [
        "def zero_mean(image):\n",
        "    # zero-centering\n",
        "    return np.mean(image, axis=0)"
      ],
      "metadata": {
        "id": "HzE5eQBATwLu"
      },
      "execution_count": null,
      "outputs": []
    },
    {
      "cell_type": "code",
      "source": [
        "zero_mean_img = zero_mean(x_train).astype('int8')"
      ],
      "metadata": {
        "id": "nCClBtmyTwOt"
      },
      "execution_count": null,
      "outputs": []
    },
    {
      "cell_type": "code",
      "source": [
        "x_train -= zero_mean_img\n",
        "x_val -= zero_mean_img\n",
        "x_test -= zero_mean_img"
      ],
      "metadata": {
        "id": "dIikrOfETwRf"
      },
      "execution_count": null,
      "outputs": []
    },
    {
      "cell_type": "code",
      "source": [
        "x_train, x_val, x_test = x_train / 255.0, x_val / 255.0, x_test / 255.0"
      ],
      "metadata": {
        "id": "ANJRZ33a2zgb"
      },
      "execution_count": null,
      "outputs": []
    },
    {
      "cell_type": "markdown",
      "source": [
        "# model handling"
      ],
      "metadata": {
        "id": "M036zekrUcTi"
      }
    },
    {
      "cell_type": "code",
      "source": [
        "import tensorflow as tf\n",
        "\n",
        "from tensorflow.keras.preprocessing.image import ImageDataGenerator, array_to_img, img_to_array, load_img\n",
        "\n",
        "from tensorflow.keras import datasets, layers, models, Input\n",
        "from tensorflow.keras.layers import Dense, Flatten, MaxPooling2D\n",
        "from tensorflow.keras.layers import Dropout, BatchNormalization\n",
        "\n",
        "import matplotlib.pyplot as plt\n",
        "import matplotlib.cm as cm\n",
        "\n",
        "from sklearn.model_selection import train_test_split"
      ],
      "metadata": {
        "id": "NVVFqvq9TwT4"
      },
      "execution_count": 45,
      "outputs": []
    },
    {
      "cell_type": "code",
      "source": [
        "plt.figure()\n",
        "plt.imshow(x_train[28234])\n",
        "plt.show()"
      ],
      "metadata": {
        "colab": {
          "base_uri": "https://localhost:8080/",
          "height": 306
        },
        "id": "69A9yYeRTwWu",
        "outputId": "84ff76a2-c596-45d0-b75c-5153e05dd24a"
      },
      "execution_count": 51,
      "outputs": [
        {
          "output_type": "stream",
          "name": "stderr",
          "text": [
            "WARNING:matplotlib.image:Clipping input data to the valid range for imshow with RGB data ([0..1] for floats or [0..255] for integers).\n"
          ]
        },
        {
          "output_type": "display_data",
          "data": {
            "text/plain": [
              "<Figure size 432x288 with 1 Axes>"
            ],
            "image/png": "[encoded data removed]"
          },
          "metadata": {
            "needs_background": "light"
          }
        }
      ]
    },
    {
      "cell_type": "code",
      "source": [
        "x_train.shape, y_train.shape, x_val.shape, y_val.shape, x_test.shape, y_test.shape"
      ],
      "metadata": {
        "colab": {
          "base_uri": "https://localhost:8080/"
        },
        "id": "VZMlJnCKTwZY",
        "outputId": "1051ee84-ffab-4e9d-c492-4f51cd8070da"
      },
      "execution_count": 53,
      "outputs": [
        {
          "output_type": "execute_result",
          "data": {
            "text/plain": [
              "((226950, 128, 128, 3),\n",
              " (226950,),\n",
              " (20200, 128, 128, 3),\n",
              " (20200,),\n",
              " (20200, 128, 128, 3),\n",
              " (20200,))"
            ]
          },
          "metadata": {},
          "execution_count": 53
        }
      ]
    },
    {
      "cell_type": "code",
      "source": [
        "y_train = y_train.reshape((226950,1))\n",
        "y_val = y_val.reshape((20200,1))\n",
        "y_test = y_test.reshape((20200,1))"
      ],
      "metadata": {
        "id": "mCLo7-myZ0oO"
      },
      "execution_count": 70,
      "outputs": []
    },
    {
      "cell_type": "code",
      "source": [
        "from tensorflow.keras.applications.resnet50 import ResNet50"
      ],
      "metadata": {
        "id": "q31vVBw8Zc9Z"
      },
      "execution_count": 110,
      "outputs": []
    },
    {
      "cell_type": "code",
      "source": [
        "model = ResNet50(include_top=False, input_shape = (128, 128 ,3), weights = 'imagenet')\n",
        "print(len(model.layers))"
      ],
      "metadata": {
        "colab": {
          "base_uri": "https://localhost:8080/"
        },
        "id": "qDWE7fzKZo55",
        "outputId": "86e3ab95-00e5-4021-be09-3c443427d6cb"
      },
      "execution_count": 111,
      "outputs": [
        {
          "output_type": "stream",
          "name": "stdout",
          "text": [
            "175\n"
          ]
        }
      ]
    },
    {
      "cell_type": "code",
      "source": [
        "model.trainable = True\n",
        "for layer in model.layers[:-20]: \n",
        "  layer.trainable = False\t\t\t\t\n",
        "\n",
        "inputs = tf.keras.Input(shape=(128, 128, 3))\n",
        "\n",
        "x = model(inputs, training=False)\n",
        "\n",
        "x = tf.keras.layers.Flatten(input_shape=model.output_shape[1:])(x)\n",
        "x = tf.keras.layers.Dense(256, activation='relu')(x)\n",
        "x= tf.keras.layers.Dropout(0.5)(x)\n",
        "outputs = tf.keras.layers.Dense(6, activation='softmax')(x)\n",
        "\n",
        "model = tf.keras.Model(inputs, outputs)\n",
        "\n",
        "model.compile(optimizer = tf.keras.optimizers.Adam(learning_rate= 0.001),\n",
        "                  loss = 'sparse_categorical_crossentropy',\n",
        "                  metrics=['accuracy'])\n",
        "model.summary()"
      ],
      "metadata": {
        "colab": {
          "base_uri": "https://localhost:8080/"
        },
        "id": "OUrl2MoIgaGI",
        "outputId": "35808a92-940e-4187-b066-83fe1c98ba67"
      },
      "execution_count": 115,
      "outputs": [
        {
          "output_type": "stream",
          "name": "stdout",
          "text": [
            "Model: \"model\"\n",
            "_________________________________________________________________\n",
            " Layer (type)                Output Shape              Param #   \n",
            "=================================================================\n",
            " input_7 (InputLayer)        [(None, 128, 128, 3)]     0         \n",
            "                                                                 \n",
            " resnet50 (Functional)       (None, 4, 4, 2048)        23587712  \n",
            "                                                                 \n",
            " flatten (Flatten)           (None, 32768)             0         \n",
            "                                                                 \n",
            " dense (Dense)               (None, 256)               8388864   \n",
            "                                                                 \n",
            " dropout (Dropout)           (None, 256)               0         \n",
            "                                                                 \n",
            " dense_1 (Dense)             (None, 6)                 1542      \n",
            "                                                                 \n",
            "=================================================================\n",
            "Total params: 31,978,118\n",
            "Trainable params: 17,321,734\n",
            "Non-trainable params: 14,656,384\n",
            "_________________________________________________________________\n"
          ]
        }
      ]
    }
  ]
}