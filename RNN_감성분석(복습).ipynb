{
  "cells": [
    {
      "cell_type": "markdown",
      "metadata": {
        "id": "view-in-github",
        "colab_type": "text"
      },
      "source": [
        "<a href=\"https://colab.research.google.com/github/dbtjr1103/Basic_practice/blob/main/RNN_%E1%84%80%E1%85%A1%E1%86%B7%E1%84%89%E1%85%A5%E1%86%BC%E1%84%87%E1%85%AE%E1%86%AB%E1%84%89%E1%85%A5%E1%86%A8(%EB%B3%B5%EC%8A%B5).ipynb\" target=\"_parent\"><img src=\"https://colab.research.google.com/assets/colab-badge.svg\" alt=\"Open In Colab\"/></a>"
      ]
    },
    {
      "cell_type": "markdown",
      "source": [
        "# 복습\n",
        "\n",
        "토큰화, 어간추출, 불용어 -> 문장길이\n",
        "\n",
        "토큰화, 어간추출을 같이 할 수 있는 okt 사용\n",
        "\n",
        "불용어 제거\n",
        "\n",
        "Indexing, text -> sequences \n",
        ": 인덱스 리턴\n",
        "\n",
        "Padding -> 문장길이 맞춰주기\n",
        "\n",
        "    [[1,0,0,0,0,0],[2,3,4,5,6,7],[8,9,0,0,0,0],[10,11,0,0,0,0]]\n",
        "\n",
        "모델링\n",
        "\n",
        "    Embedding(단어개수(vocab_size), 단어벡터의크기)    => (단어)숫자를 (단어)벡터로 \n",
        "    RNN LAYER(units=128, input_shape = (sequence_length(=6, 패딩할때 정함), 단어벡터의 크기)\n",
        "    Dense(1, activation='sigmoid')\n",
        "\n",
        "결과\n",
        "\n",
        "    [[0.9],[0.7],[0.1],[0.2]]\n",
        "    정답 [[1],[1],[0],[0]] 과 비교하며 w 계산"
      ],
      "metadata": {
        "id": "CNOOUoyIESOm"
      }
    },
    {
      "cell_type": "code",
      "execution_count": null,
      "metadata": {
        "id": "ahBLwH7pVsE-"
      },
      "outputs": [],
      "source": [
        "import pandas as pd\n",
        "import numpy as np\n",
        "import matplotlib.pyplot as plt\n",
        "import seaborn as sns\n",
        "import warnings\n",
        "import os\n",
        "import tensorflow as tf "
      ]
    },
    {
      "cell_type": "code",
      "source": [
        "train_sen = [    \n",
        "    \"재미있다!!!!\", \n",
        "    \"추천! 꼭 다시 보고 싶은 영화\",\n",
        "    \"별로다ㅜㅜakdfj1259\", \n",
        "    \"노잼\"]"
      ],
      "metadata": {
        "id": "f_hK9H7xI6C_"
      },
      "execution_count": 44,
      "outputs": []
    },
    {
      "cell_type": "code",
      "source": [
        "train_y = np.array([1,1,0,0])"
      ],
      "metadata": {
        "id": "oICLpPH0JG6u"
      },
      "execution_count": null,
      "outputs": []
    },
    {
      "cell_type": "code",
      "source": [
        "# cleaning\n",
        "import re\n",
        "\n",
        "temp = []\n",
        "for sen in train_sen :\n",
        "    sen = re.sub(\"[^가-힣ㄱ-ㅎㅏ-ㅣ\\s]\", \"\", sen)\n",
        "    temp.append(sen)\n",
        "\n",
        "temp"
      ],
      "metadata": {
        "colab": {
          "base_uri": "https://localhost:8080/"
        },
        "id": "R8ut0raWJKAv",
        "outputId": "0def9a6b-3e6c-45a1-bffc-8f633b470192"
      },
      "execution_count": null,
      "outputs": [
        {
          "output_type": "execute_result",
          "data": {
            "text/plain": [
              "['재미있다', '추천 꼭 다시 보고 싶은 영화', '별로다ㅜㅜ', '노잼']"
            ]
          },
          "metadata": {},
          "execution_count": 9
        }
      ]
    },
    {
      "cell_type": "code",
      "source": [
        "!pip install konlpy"
      ],
      "metadata": {
        "colab": {
          "base_uri": "https://localhost:8080/"
        },
        "id": "JHkTckXdJdOF",
        "outputId": "cc3060f3-bc3a-490a-a9e5-85c880b5f393"
      },
      "execution_count": null,
      "outputs": [
        {
          "output_type": "stream",
          "name": "stdout",
          "text": [
            "Looking in indexes: https://pypi.org/simple, https://us-python.pkg.dev/colab-wheels/public/simple/\n",
            "Collecting konlpy\n",
            "  Downloading konlpy-0.6.0-py2.py3-none-any.whl (19.4 MB)\n",
            "\u001b[K     |████████████████████████████████| 19.4 MB 3.4 MB/s \n",
            "\u001b[?25hRequirement already satisfied: lxml>=4.1.0 in /usr/local/lib/python3.8/dist-packages (from konlpy) (4.9.2)\n",
            "Requirement already satisfied: numpy>=1.6 in /usr/local/lib/python3.8/dist-packages (from konlpy) (1.21.6)\n",
            "Collecting JPype1>=0.7.0\n",
            "  Downloading JPype1-1.4.1-cp38-cp38-manylinux_2_12_x86_64.manylinux2010_x86_64.whl (465 kB)\n",
            "\u001b[K     |████████████████████████████████| 465 kB 88.6 MB/s \n",
            "\u001b[?25hRequirement already satisfied: packaging in /usr/local/lib/python3.8/dist-packages (from JPype1>=0.7.0->konlpy) (21.3)\n",
            "Requirement already satisfied: pyparsing!=3.0.5,>=2.0.2 in /usr/local/lib/python3.8/dist-packages (from packaging->JPype1>=0.7.0->konlpy) (3.0.9)\n",
            "Installing collected packages: JPype1, konlpy\n",
            "Successfully installed JPype1-1.4.1 konlpy-0.6.0\n"
          ]
        }
      ]
    },
    {
      "cell_type": "code",
      "source": [
        "# 토큰화\n",
        "from konlpy.tag import Okt\n",
        "okt = Okt()\n",
        "\n",
        "for sen in temp:\n",
        "    print(okt.morphs(sen))"
      ],
      "metadata": {
        "colab": {
          "base_uri": "https://localhost:8080/"
        },
        "id": "3RXGmrX4Jkg4",
        "outputId": "ea840676-49e8-41ad-dd91-1619d954a8d4"
      },
      "execution_count": null,
      "outputs": [
        {
          "output_type": "stream",
          "name": "stdout",
          "text": [
            "['재미있다']\n",
            "['추천', '꼭', '다시', '보고', '싶은', '영화']\n",
            "['별로', '다', 'ㅜㅜ']\n",
            "['노잼']\n"
          ]
        }
      ]
    },
    {
      "cell_type": "code",
      "source": [
        "# 토큰화 비교\n",
        "okt = Okt()\n",
        "\n",
        "clean_x = []\n",
        "for sen in temp:\n",
        "    clean_x.append(okt.morphs(sen, stem=True))\n",
        "\n",
        "clean_x"
      ],
      "metadata": {
        "colab": {
          "base_uri": "https://localhost:8080/"
        },
        "id": "lNqv6dqrJ15F",
        "outputId": "1f9a1b15-1488-42eb-ca6d-891b653e0f38"
      },
      "execution_count": null,
      "outputs": [
        {
          "output_type": "execute_result",
          "data": {
            "text/plain": [
              "[['재미있다'], ['추천', '꼭', '다시', '보고', '싶다', '영화'], ['별로', '다', 'ㅜㅜ'], ['노잼']]"
            ]
          },
          "metadata": {},
          "execution_count": 13
        }
      ]
    },
    {
      "cell_type": "code",
      "source": [
        "# 토큰 -> 숫자\n",
        "from tensorflow.keras.preprocessing.text import Tokenizer\n",
        "\n",
        "tokenizer = Tokenizer()\n",
        "tokenizer.fit_on_texts(clean_x)"
      ],
      "metadata": {
        "id": "u3NJx_29J-kZ"
      },
      "execution_count": null,
      "outputs": []
    },
    {
      "cell_type": "code",
      "source": [
        "tokenizer.word_index"
      ],
      "metadata": {
        "colab": {
          "base_uri": "https://localhost:8080/"
        },
        "id": "3x10VaqJOFtL",
        "outputId": "44333cef-cfc2-4d2d-f45f-77d0d9a44955"
      },
      "execution_count": null,
      "outputs": [
        {
          "output_type": "execute_result",
          "data": {
            "text/plain": [
              "{'재미있다': 1,\n",
              " '추천': 2,\n",
              " '꼭': 3,\n",
              " '다시': 4,\n",
              " '보고': 5,\n",
              " '싶다': 6,\n",
              " '영화': 7,\n",
              " '별로': 8,\n",
              " '다': 9,\n",
              " 'ㅜㅜ': 10,\n",
              " '노잼': 11}"
            ]
          },
          "metadata": {},
          "execution_count": 15
        }
      ]
    },
    {
      "cell_type": "code",
      "source": [
        "word_encoding = tokenizer.texts_to_sequences(clean_x)\n",
        "word_encoding"
      ],
      "metadata": {
        "colab": {
          "base_uri": "https://localhost:8080/"
        },
        "id": "fIuY0nUdOG2w",
        "outputId": "7e9e36c0-1aa6-4957-e643-87718dcbfe58"
      },
      "execution_count": null,
      "outputs": [
        {
          "output_type": "execute_result",
          "data": {
            "text/plain": [
              "[[1], [2, 3, 4, 5, 6, 7], [8, 9, 10], [11]]"
            ]
          },
          "metadata": {},
          "execution_count": 16
        }
      ]
    },
    {
      "cell_type": "code",
      "source": [
        "# 문장 길이 맞추기 -> padding\n",
        "from tensorflow.keras.preprocessing.sequence import pad_sequences\n",
        "\n",
        "MAX_LENGTH = 10\n",
        "\n",
        "padded = pad_sequences(word_encoding, maxlen = MAX_LENGTH, padding = 'post') # post면 패딩이 뒤로 생김\n",
        "padded"
      ],
      "metadata": {
        "colab": {
          "base_uri": "https://localhost:8080/"
        },
        "id": "V0qRniFJOMMW",
        "outputId": "28f469eb-a749-4845-aba2-809b0c3afbd9"
      },
      "execution_count": null,
      "outputs": [
        {
          "output_type": "execute_result",
          "data": {
            "text/plain": [
              "array([[ 1,  0,  0,  0,  0,  0,  0,  0,  0,  0],\n",
              "       [ 2,  3,  4,  5,  6,  7,  0,  0,  0,  0],\n",
              "       [ 8,  9, 10,  0,  0,  0,  0,  0,  0,  0],\n",
              "       [11,  0,  0,  0,  0,  0,  0,  0,  0,  0]], dtype=int32)"
            ]
          },
          "metadata": {},
          "execution_count": 20
        }
      ]
    },
    {
      "cell_type": "markdown",
      "source": [
        "TEST DATA\n"
      ],
      "metadata": {
        "id": "jHeto3KqOYf4"
      }
    },
    {
      "cell_type": "code",
      "source": [
        "test_sen = [    \n",
        "    \"별로\", \"재미있는 영화!!!!\", \"추천 꿀잼\"]\n",
        "\n",
        "test_y = [0,1,1]"
      ],
      "metadata": {
        "id": "gYfpOHaZOt0v"
      },
      "execution_count": 46,
      "outputs": []
    },
    {
      "cell_type": "code",
      "source": [
        "clean_test = []\n",
        "for sen in test_sen :  \n",
        "    sen = re.sub(\"[^가-힣ㄱ-ㅎㅏ-ㅣ\\s]\", \"\", sen)\n",
        "    clean_test.append(okt.morphs(sen, stem=True))\n",
        "\n",
        "clean_test"
      ],
      "metadata": {
        "colab": {
          "base_uri": "https://localhost:8080/"
        },
        "id": "14Rpce86PJRr",
        "outputId": "6fc5a647-cfa0-41a4-ee0f-2daed7e54d93"
      },
      "execution_count": null,
      "outputs": [
        {
          "output_type": "execute_result",
          "data": {
            "text/plain": [
              "[['별로'], ['재미있다', '영화'], ['추천', '꿀잼']]"
            ]
          },
          "metadata": {},
          "execution_count": 29
        }
      ]
    },
    {
      "cell_type": "code",
      "source": [
        "word_encoding_test = tokenizer.texts_to_sequences(clean_test)\n",
        "word_encoding_test"
      ],
      "metadata": {
        "colab": {
          "base_uri": "https://localhost:8080/"
        },
        "outputId": "cf513e82-2690-4c8e-de40-8818418c8a5a",
        "id": "fr2nVl-TPip_"
      },
      "execution_count": null,
      "outputs": [
        {
          "output_type": "execute_result",
          "data": {
            "text/plain": [
              "[[8], [1, 7], [2]]"
            ]
          },
          "metadata": {},
          "execution_count": 30
        }
      ]
    },
    {
      "cell_type": "code",
      "source": [
        "MAX_LENGTH = 10 \n",
        "\n",
        "padded_test = pad_sequences(word_encoding_test, maxlen = MAX_LENGTH, padding = 'post')\n",
        "padded_test"
      ],
      "metadata": {
        "colab": {
          "base_uri": "https://localhost:8080/"
        },
        "id": "jMmJ-cKKPXdN",
        "outputId": "43e00674-6009-41ce-8999-8a7590c2b8b4"
      },
      "execution_count": 31,
      "outputs": [
        {
          "output_type": "execute_result",
          "data": {
            "text/plain": [
              "array([[8, 0, 0, 0, 0, 0, 0, 0, 0, 0],\n",
              "       [1, 7, 0, 0, 0, 0, 0, 0, 0, 0],\n",
              "       [2, 0, 0, 0, 0, 0, 0, 0, 0, 0]], dtype=int32)"
            ]
          },
          "metadata": {},
          "execution_count": 31
        }
      ]
    },
    {
      "cell_type": "markdown",
      "source": [
        "### 모델링"
      ],
      "metadata": {
        "id": "DXeyRoz_Pq6M"
      }
    },
    {
      "cell_type": "code",
      "source": [
        "vocab_size = len(tokenizer.word_index)+1 # 0은 padding으로 약속, 패딩까지 추가\n",
        "vocab_size"
      ],
      "metadata": {
        "colab": {
          "base_uri": "https://localhost:8080/"
        },
        "id": "GS13pQ7kP_RC",
        "outputId": "29c1fb85-ff20-4eb1-80c5-bcad880b2dcd"
      },
      "execution_count": 34,
      "outputs": [
        {
          "output_type": "execute_result",
          "data": {
            "text/plain": [
              "12"
            ]
          },
          "metadata": {},
          "execution_count": 34
        }
      ]
    },
    {
      "cell_type": "code",
      "source": [
        "from tensorflow.keras.models import Sequential\n",
        "from tensorflow.keras.layers import Dense, LSTM, Embedding \n",
        "\n",
        "model = Sequential()\n",
        "model.add(Embedding(vocab_size, 3))\n",
        "model.add(LSTM(3))\n",
        "model.add(Dense(1, activation = 'sigmoid'))\n",
        "# model.add(Dense(1))\n",
        "\n",
        "print(model.summary())"
      ],
      "metadata": {
        "colab": {
          "base_uri": "https://localhost:8080/"
        },
        "id": "6yCyaVQdP17V",
        "outputId": "6603072d-7875-4128-a070-5cdc46759606"
      },
      "execution_count": 36,
      "outputs": [
        {
          "output_type": "stream",
          "name": "stdout",
          "text": [
            "Model: \"sequential\"\n",
            "_________________________________________________________________\n",
            " Layer (type)                Output Shape              Param #   \n",
            "=================================================================\n",
            " embedding_1 (Embedding)     (None, None, 3)           36        \n",
            "                                                                 \n",
            " lstm_1 (LSTM)               (None, 3)                 84        \n",
            "                                                                 \n",
            " dense_1 (Dense)             (None, 1)                 4         \n",
            "                                                                 \n",
            "=================================================================\n",
            "Total params: 124\n",
            "Trainable params: 124\n",
            "Non-trainable params: 0\n",
            "_________________________________________________________________\n",
            "None\n"
          ]
        }
      ]
    },
    {
      "cell_type": "code",
      "source": [
        "from tensorflow.keras.utils import plot_model \n",
        "\n",
        "plot_model(model, show_shapes = True)"
      ],
      "metadata": {
        "colab": {
          "base_uri": "https://localhost:8080/",
          "height": 422
        },
        "id": "oX5n3SLgQZy1",
        "outputId": "5db0cd52-91c5-4f9d-9a62-15c2ae17ec8a"
      },
      "execution_count": 37,
      "outputs": [
        {
          "output_type": "execute_result",
          "data": {
            "image/png": "[encoded data removed]",
            "text/plain": [
              "<IPython.core.display.Image object>"
            ]
          },
          "metadata": {},
          "execution_count": 37
        }
      ]
    },
    {
      "cell_type": "code",
      "source": [
        "model.compile(\n",
        "    optimizer = 'adam',\n",
        "    loss = tf.keras.losses.BinaryCrossentropy(from_logits = True), # dense층에 activation = 'sigmoid'를 안했을 경우\n",
        "    metrics = ['acc']\n",
        ")\n",
        "\n",
        "padded, train_y"
      ],
      "metadata": {
        "id": "e2OUvSucSjN-"
      },
      "execution_count": null,
      "outputs": []
    },
    {
      "cell_type": "code",
      "source": [
        "model.compile(\n",
        "    optimizer = 'adam',\n",
        "    loss = tf.keras.losses.BinaryCrossentropy(),\n",
        "    metrics = ['acc']\n",
        ")\n",
        "\n",
        "padded, train_y"
      ],
      "metadata": {
        "colab": {
          "base_uri": "https://localhost:8080/"
        },
        "id": "ikB2n8imRVOi",
        "outputId": "acc01a3b-48f7-4c9a-ab22-1c771bbd984e"
      },
      "execution_count": 38,
      "outputs": [
        {
          "output_type": "execute_result",
          "data": {
            "text/plain": [
              "(array([[ 1,  0,  0,  0,  0,  0,  0,  0,  0,  0],\n",
              "        [ 2,  3,  4,  5,  6,  7,  0,  0,  0,  0],\n",
              "        [ 8,  9, 10,  0,  0,  0,  0,  0,  0,  0],\n",
              "        [11,  0,  0,  0,  0,  0,  0,  0,  0,  0]], dtype=int32),\n",
              " array([1, 1, 0, 0]))"
            ]
          },
          "metadata": {},
          "execution_count": 38
        }
      ]
    },
    {
      "cell_type": "code",
      "source": [
        "model.fit(padded, train_y, epochs=300)"
      ],
      "metadata": {
        "colab": {
          "base_uri": "https://localhost:8080/"
        },
        "id": "HfQ_SfpzRfZx",
        "outputId": "cd473e94-b01f-4d82-ca1b-d1ff38563604"
      },
      "execution_count": 39,
      "outputs": [
        {
          "output_type": "stream",
          "name": "stdout",
          "text": [
            "Epoch 1/300\n",
            "1/1 [==============================] - 8s 8s/step - loss: 0.6932 - acc: 0.5000\n",
            "Epoch 2/300\n",
            "1/1 [==============================] - 0s 8ms/step - loss: 0.6932 - acc: 0.5000\n",
            "Epoch 3/300\n",
            "1/1 [==============================] - 0s 8ms/step - loss: 0.6931 - acc: 0.5000\n",
            "Epoch 4/300\n",
            "1/1 [==============================] - 0s 8ms/step - loss: 0.6931 - acc: 0.5000\n",
            "Epoch 5/300\n",
            "1/1 [==============================] - 0s 8ms/step - loss: 0.6930 - acc: 0.5000\n",
            "Epoch 6/300\n",
            "1/1 [==============================] - 0s 8ms/step - loss: 0.6929 - acc: 0.5000\n",
            "Epoch 7/300\n",
            "1/1 [==============================] - 0s 7ms/step - loss: 0.6929 - acc: 0.5000\n",
            "Epoch 8/300\n",
            "1/1 [==============================] - 0s 9ms/step - loss: 0.6928 - acc: 0.5000\n",
            "Epoch 9/300\n",
            "1/1 [==============================] - 0s 8ms/step - loss: 0.6928 - acc: 0.5000\n",
            "Epoch 10/300\n",
            "1/1 [==============================] - 0s 9ms/step - loss: 0.6927 - acc: 0.5000\n",
            "Epoch 11/300\n",
            "1/1 [==============================] - 0s 7ms/step - loss: 0.6927 - acc: 0.7500\n",
            "Epoch 12/300\n",
            "1/1 [==============================] - 0s 7ms/step - loss: 0.6926 - acc: 0.7500\n",
            "Epoch 13/300\n",
            "1/1 [==============================] - 0s 8ms/step - loss: 0.6925 - acc: 0.7500\n",
            "Epoch 14/300\n",
            "1/1 [==============================] - 0s 10ms/step - loss: 0.6925 - acc: 0.7500\n",
            "Epoch 15/300\n",
            "1/1 [==============================] - 0s 7ms/step - loss: 0.6924 - acc: 0.7500\n",
            "Epoch 16/300\n",
            "1/1 [==============================] - 0s 8ms/step - loss: 0.6923 - acc: 0.7500\n",
            "Epoch 17/300\n",
            "1/1 [==============================] - 0s 8ms/step - loss: 0.6922 - acc: 0.7500\n",
            "Epoch 18/300\n",
            "1/1 [==============================] - 0s 8ms/step - loss: 0.6922 - acc: 0.7500\n",
            "Epoch 19/300\n",
            "1/1 [==============================] - 0s 7ms/step - loss: 0.6921 - acc: 0.7500\n",
            "Epoch 20/300\n",
            "1/1 [==============================] - 0s 9ms/step - loss: 0.6920 - acc: 0.7500\n",
            "Epoch 21/300\n",
            "1/1 [==============================] - 0s 8ms/step - loss: 0.6919 - acc: 0.7500\n",
            "Epoch 22/300\n",
            "1/1 [==============================] - 0s 9ms/step - loss: 0.6918 - acc: 0.7500\n",
            "Epoch 23/300\n",
            "1/1 [==============================] - 0s 8ms/step - loss: 0.6917 - acc: 0.7500\n",
            "Epoch 24/300\n",
            "1/1 [==============================] - 0s 8ms/step - loss: 0.6916 - acc: 0.7500\n",
            "Epoch 25/300\n",
            "1/1 [==============================] - 0s 7ms/step - loss: 0.6915 - acc: 0.7500\n",
            "Epoch 26/300\n",
            "1/1 [==============================] - 0s 7ms/step - loss: 0.6914 - acc: 0.7500\n",
            "Epoch 27/300\n",
            "1/1 [==============================] - 0s 8ms/step - loss: 0.6913 - acc: 0.7500\n",
            "Epoch 28/300\n",
            "1/1 [==============================] - 0s 8ms/step - loss: 0.6912 - acc: 0.7500\n",
            "Epoch 29/300\n",
            "1/1 [==============================] - 0s 8ms/step - loss: 0.6911 - acc: 0.7500\n",
            "Epoch 30/300\n",
            "1/1 [==============================] - 0s 8ms/step - loss: 0.6909 - acc: 0.7500\n",
            "Epoch 31/300\n",
            "1/1 [==============================] - 0s 8ms/step - loss: 0.6908 - acc: 0.7500\n",
            "Epoch 32/300\n",
            "1/1 [==============================] - 0s 7ms/step - loss: 0.6906 - acc: 0.7500\n",
            "Epoch 33/300\n",
            "1/1 [==============================] - 0s 7ms/step - loss: 0.6905 - acc: 0.7500\n",
            "Epoch 34/300\n",
            "1/1 [==============================] - 0s 8ms/step - loss: 0.6904 - acc: 0.7500\n",
            "Epoch 35/300\n",
            "1/1 [==============================] - 0s 8ms/step - loss: 0.6902 - acc: 0.7500\n",
            "Epoch 36/300\n",
            "1/1 [==============================] - 0s 8ms/step - loss: 0.6900 - acc: 0.7500\n",
            "Epoch 37/300\n",
            "1/1 [==============================] - 0s 7ms/step - loss: 0.6899 - acc: 0.7500\n",
            "Epoch 38/300\n",
            "1/1 [==============================] - 0s 7ms/step - loss: 0.6897 - acc: 0.7500\n",
            "Epoch 39/300\n",
            "1/1 [==============================] - 0s 8ms/step - loss: 0.6895 - acc: 0.7500\n",
            "Epoch 40/300\n",
            "1/1 [==============================] - 0s 7ms/step - loss: 0.6893 - acc: 0.7500\n",
            "Epoch 41/300\n",
            "1/1 [==============================] - 0s 8ms/step - loss: 0.6891 - acc: 0.7500\n",
            "Epoch 42/300\n",
            "1/1 [==============================] - 0s 7ms/step - loss: 0.6889 - acc: 0.7500\n",
            "Epoch 43/300\n",
            "1/1 [==============================] - 0s 8ms/step - loss: 0.6886 - acc: 0.7500\n",
            "Epoch 44/300\n",
            "1/1 [==============================] - 0s 8ms/step - loss: 0.6884 - acc: 0.7500\n",
            "Epoch 45/300\n",
            "1/1 [==============================] - 0s 9ms/step - loss: 0.6882 - acc: 0.7500\n",
            "Epoch 46/300\n",
            "1/1 [==============================] - 0s 8ms/step - loss: 0.6879 - acc: 0.7500\n",
            "Epoch 47/300\n",
            "1/1 [==============================] - 0s 9ms/step - loss: 0.6876 - acc: 0.7500\n",
            "Epoch 48/300\n",
            "1/1 [==============================] - 0s 8ms/step - loss: 0.6873 - acc: 0.7500\n",
            "Epoch 49/300\n",
            "1/1 [==============================] - 0s 8ms/step - loss: 0.6871 - acc: 0.7500\n",
            "Epoch 50/300\n",
            "1/1 [==============================] - 0s 8ms/step - loss: 0.6867 - acc: 0.7500\n",
            "Epoch 51/300\n",
            "1/1 [==============================] - 0s 7ms/step - loss: 0.6864 - acc: 0.7500\n",
            "Epoch 52/300\n",
            "1/1 [==============================] - 0s 8ms/step - loss: 0.6861 - acc: 0.7500\n",
            "Epoch 53/300\n",
            "1/1 [==============================] - 0s 8ms/step - loss: 0.6857 - acc: 0.7500\n",
            "Epoch 54/300\n",
            "1/1 [==============================] - 0s 7ms/step - loss: 0.6854 - acc: 0.7500\n",
            "Epoch 55/300\n",
            "1/1 [==============================] - 0s 8ms/step - loss: 0.6850 - acc: 0.7500\n",
            "Epoch 56/300\n",
            "1/1 [==============================] - 0s 249ms/step - loss: 0.6846 - acc: 0.7500\n",
            "Epoch 57/300\n",
            "1/1 [==============================] - 0s 8ms/step - loss: 0.6842 - acc: 0.7500\n",
            "Epoch 58/300\n",
            "1/1 [==============================] - 0s 8ms/step - loss: 0.6838 - acc: 0.7500\n",
            "Epoch 59/300\n",
            "1/1 [==============================] - 0s 9ms/step - loss: 0.6833 - acc: 0.7500\n",
            "Epoch 60/300\n",
            "1/1 [==============================] - 0s 8ms/step - loss: 0.6828 - acc: 0.7500\n",
            "Epoch 61/300\n",
            "1/1 [==============================] - 0s 8ms/step - loss: 0.6824 - acc: 0.7500\n",
            "Epoch 62/300\n",
            "1/1 [==============================] - 0s 7ms/step - loss: 0.6818 - acc: 0.7500\n",
            "Epoch 63/300\n",
            "1/1 [==============================] - 0s 8ms/step - loss: 0.6813 - acc: 0.7500\n",
            "Epoch 64/300\n",
            "1/1 [==============================] - 0s 7ms/step - loss: 0.6808 - acc: 0.7500\n",
            "Epoch 65/300\n",
            "1/1 [==============================] - 0s 7ms/step - loss: 0.6802 - acc: 0.7500\n",
            "Epoch 66/300\n",
            "1/1 [==============================] - 0s 7ms/step - loss: 0.6796 - acc: 0.7500\n",
            "Epoch 67/300\n",
            "1/1 [==============================] - 0s 7ms/step - loss: 0.6790 - acc: 0.7500\n",
            "Epoch 68/300\n",
            "1/1 [==============================] - 0s 7ms/step - loss: 0.6783 - acc: 0.7500\n",
            "Epoch 69/300\n",
            "1/1 [==============================] - 0s 7ms/step - loss: 0.6776 - acc: 0.7500\n",
            "Epoch 70/300\n",
            "1/1 [==============================] - 0s 8ms/step - loss: 0.6769 - acc: 0.7500\n",
            "Epoch 71/300\n",
            "1/1 [==============================] - 0s 7ms/step - loss: 0.6762 - acc: 0.7500\n",
            "Epoch 72/300\n",
            "1/1 [==============================] - 0s 8ms/step - loss: 0.6755 - acc: 0.7500\n",
            "Epoch 73/300\n",
            "1/1 [==============================] - 0s 7ms/step - loss: 0.6747 - acc: 0.7500\n",
            "Epoch 74/300\n",
            "1/1 [==============================] - 0s 7ms/step - loss: 0.6738 - acc: 0.7500\n",
            "Epoch 75/300\n",
            "1/1 [==============================] - 0s 9ms/step - loss: 0.6730 - acc: 0.7500\n",
            "Epoch 76/300\n",
            "1/1 [==============================] - 0s 8ms/step - loss: 0.6721 - acc: 0.7500\n",
            "Epoch 77/300\n",
            "1/1 [==============================] - 0s 7ms/step - loss: 0.6712 - acc: 0.7500\n",
            "Epoch 78/300\n",
            "1/1 [==============================] - 0s 7ms/step - loss: 0.6702 - acc: 0.7500\n",
            "Epoch 79/300\n",
            "1/1 [==============================] - 0s 8ms/step - loss: 0.6692 - acc: 0.7500\n",
            "Epoch 80/300\n",
            "1/1 [==============================] - 0s 7ms/step - loss: 0.6682 - acc: 0.7500\n",
            "Epoch 81/300\n",
            "1/1 [==============================] - 0s 7ms/step - loss: 0.6672 - acc: 0.7500\n",
            "Epoch 82/300\n",
            "1/1 [==============================] - 0s 8ms/step - loss: 0.6661 - acc: 0.7500\n",
            "Epoch 83/300\n",
            "1/1 [==============================] - 0s 8ms/step - loss: 0.6649 - acc: 0.7500\n",
            "Epoch 84/300\n",
            "1/1 [==============================] - 0s 8ms/step - loss: 0.6637 - acc: 0.7500\n",
            "Epoch 85/300\n",
            "1/1 [==============================] - 0s 8ms/step - loss: 0.6625 - acc: 0.7500\n",
            "Epoch 86/300\n",
            "1/1 [==============================] - 0s 7ms/step - loss: 0.6612 - acc: 0.7500\n",
            "Epoch 87/300\n",
            "1/1 [==============================] - 0s 8ms/step - loss: 0.6599 - acc: 0.7500\n",
            "Epoch 88/300\n",
            "1/1 [==============================] - 0s 7ms/step - loss: 0.6586 - acc: 0.7500\n",
            "Epoch 89/300\n",
            "1/1 [==============================] - 0s 8ms/step - loss: 0.6572 - acc: 0.7500\n",
            "Epoch 90/300\n",
            "1/1 [==============================] - 0s 7ms/step - loss: 0.6557 - acc: 0.7500\n",
            "Epoch 91/300\n",
            "1/1 [==============================] - 0s 7ms/step - loss: 0.6542 - acc: 0.7500\n",
            "Epoch 92/300\n",
            "1/1 [==============================] - 0s 9ms/step - loss: 0.6527 - acc: 0.7500\n",
            "Epoch 93/300\n",
            "1/1 [==============================] - 0s 7ms/step - loss: 0.6511 - acc: 0.7500\n",
            "Epoch 94/300\n",
            "1/1 [==============================] - 0s 7ms/step - loss: 0.6495 - acc: 0.7500\n",
            "Epoch 95/300\n",
            "1/1 [==============================] - 0s 8ms/step - loss: 0.6478 - acc: 0.7500\n",
            "Epoch 96/300\n",
            "1/1 [==============================] - 0s 8ms/step - loss: 0.6460 - acc: 0.7500\n",
            "Epoch 97/300\n",
            "1/1 [==============================] - 0s 7ms/step - loss: 0.6443 - acc: 0.7500\n",
            "Epoch 98/300\n",
            "1/1 [==============================] - 0s 8ms/step - loss: 0.6424 - acc: 0.7500\n",
            "Epoch 99/300\n",
            "1/1 [==============================] - 0s 7ms/step - loss: 0.6405 - acc: 0.7500\n",
            "Epoch 100/300\n",
            "1/1 [==============================] - 0s 8ms/step - loss: 0.6385 - acc: 0.7500\n",
            "Epoch 101/300\n",
            "1/1 [==============================] - 0s 7ms/step - loss: 0.6365 - acc: 0.7500\n",
            "Epoch 102/300\n",
            "1/1 [==============================] - 0s 8ms/step - loss: 0.6345 - acc: 0.7500\n",
            "Epoch 103/300\n",
            "1/1 [==============================] - 0s 8ms/step - loss: 0.6323 - acc: 0.7500\n",
            "Epoch 104/300\n",
            "1/1 [==============================] - 0s 7ms/step - loss: 0.6301 - acc: 0.7500\n",
            "Epoch 105/300\n",
            "1/1 [==============================] - 0s 7ms/step - loss: 0.6279 - acc: 0.7500\n",
            "Epoch 106/300\n",
            "1/1 [==============================] - 0s 8ms/step - loss: 0.6256 - acc: 0.7500\n",
            "Epoch 107/300\n",
            "1/1 [==============================] - 0s 7ms/step - loss: 0.6232 - acc: 0.7500\n",
            "Epoch 108/300\n",
            "1/1 [==============================] - 0s 8ms/step - loss: 0.6207 - acc: 0.7500\n",
            "Epoch 109/300\n",
            "1/1 [==============================] - 0s 8ms/step - loss: 0.6182 - acc: 0.7500\n",
            "Epoch 110/300\n",
            "1/1 [==============================] - 0s 8ms/step - loss: 0.6156 - acc: 0.7500\n",
            "Epoch 111/300\n",
            "1/1 [==============================] - 0s 8ms/step - loss: 0.6130 - acc: 0.7500\n",
            "Epoch 112/300\n",
            "1/1 [==============================] - 0s 8ms/step - loss: 0.6103 - acc: 0.7500\n",
            "Epoch 113/300\n",
            "1/1 [==============================] - 0s 7ms/step - loss: 0.6075 - acc: 0.7500\n",
            "Epoch 114/300\n",
            "1/1 [==============================] - 0s 8ms/step - loss: 0.6046 - acc: 0.7500\n",
            "Epoch 115/300\n",
            "1/1 [==============================] - 0s 9ms/step - loss: 0.6016 - acc: 0.7500\n",
            "Epoch 116/300\n",
            "1/1 [==============================] - 0s 9ms/step - loss: 0.5986 - acc: 0.7500\n",
            "Epoch 117/300\n",
            "1/1 [==============================] - 0s 7ms/step - loss: 0.5955 - acc: 0.7500\n",
            "Epoch 118/300\n",
            "1/1 [==============================] - 0s 7ms/step - loss: 0.5923 - acc: 0.7500\n",
            "Epoch 119/300\n",
            "1/1 [==============================] - 0s 7ms/step - loss: 0.5890 - acc: 0.7500\n",
            "Epoch 120/300\n",
            "1/1 [==============================] - 0s 7ms/step - loss: 0.5856 - acc: 0.7500\n",
            "Epoch 121/300\n",
            "1/1 [==============================] - 0s 7ms/step - loss: 0.5822 - acc: 0.7500\n",
            "Epoch 122/300\n",
            "1/1 [==============================] - 0s 8ms/step - loss: 0.5786 - acc: 0.7500\n",
            "Epoch 123/300\n",
            "1/1 [==============================] - 0s 7ms/step - loss: 0.5750 - acc: 0.7500\n",
            "Epoch 124/300\n",
            "1/1 [==============================] - 0s 9ms/step - loss: 0.5712 - acc: 0.7500\n",
            "Epoch 125/300\n",
            "1/1 [==============================] - 0s 8ms/step - loss: 0.5674 - acc: 0.7500\n",
            "Epoch 126/300\n",
            "1/1 [==============================] - 0s 10ms/step - loss: 0.5635 - acc: 0.7500\n",
            "Epoch 127/300\n",
            "1/1 [==============================] - 0s 7ms/step - loss: 0.5595 - acc: 0.7500\n",
            "Epoch 128/300\n",
            "1/1 [==============================] - 0s 8ms/step - loss: 0.5554 - acc: 0.7500\n",
            "Epoch 129/300\n",
            "1/1 [==============================] - 0s 7ms/step - loss: 0.5512 - acc: 0.7500\n",
            "Epoch 130/300\n",
            "1/1 [==============================] - 0s 7ms/step - loss: 0.5469 - acc: 0.7500\n",
            "Epoch 131/300\n",
            "1/1 [==============================] - 0s 8ms/step - loss: 0.5426 - acc: 0.7500\n",
            "Epoch 132/300\n",
            "1/1 [==============================] - 0s 9ms/step - loss: 0.5381 - acc: 0.7500\n",
            "Epoch 133/300\n",
            "1/1 [==============================] - 0s 9ms/step - loss: 0.5336 - acc: 0.7500\n",
            "Epoch 134/300\n",
            "1/1 [==============================] - 0s 7ms/step - loss: 0.5290 - acc: 0.7500\n",
            "Epoch 135/300\n",
            "1/1 [==============================] - 0s 7ms/step - loss: 0.5243 - acc: 0.7500\n",
            "Epoch 136/300\n",
            "1/1 [==============================] - 0s 7ms/step - loss: 0.5196 - acc: 0.7500\n",
            "Epoch 137/300\n",
            "1/1 [==============================] - 0s 8ms/step - loss: 0.5148 - acc: 0.7500\n",
            "Epoch 138/300\n",
            "1/1 [==============================] - 0s 8ms/step - loss: 0.5099 - acc: 0.7500\n",
            "Epoch 139/300\n",
            "1/1 [==============================] - 0s 8ms/step - loss: 0.5050 - acc: 0.7500\n",
            "Epoch 140/300\n",
            "1/1 [==============================] - 0s 8ms/step - loss: 0.5000 - acc: 0.7500\n",
            "Epoch 141/300\n",
            "1/1 [==============================] - 0s 8ms/step - loss: 0.4950 - acc: 0.7500\n",
            "Epoch 142/300\n",
            "1/1 [==============================] - 0s 8ms/step - loss: 0.4900 - acc: 0.7500\n",
            "Epoch 143/300\n",
            "1/1 [==============================] - 0s 7ms/step - loss: 0.4849 - acc: 0.7500\n",
            "Epoch 144/300\n",
            "1/1 [==============================] - 0s 8ms/step - loss: 0.4797 - acc: 0.7500\n",
            "Epoch 145/300\n",
            "1/1 [==============================] - 0s 8ms/step - loss: 0.4746 - acc: 1.0000\n",
            "Epoch 146/300\n",
            "1/1 [==============================] - 0s 8ms/step - loss: 0.4694 - acc: 1.0000\n",
            "Epoch 147/300\n",
            "1/1 [==============================] - 0s 8ms/step - loss: 0.4643 - acc: 1.0000\n",
            "Epoch 148/300\n",
            "1/1 [==============================] - 0s 8ms/step - loss: 0.4591 - acc: 1.0000\n",
            "Epoch 149/300\n",
            "1/1 [==============================] - 0s 8ms/step - loss: 0.4539 - acc: 1.0000\n",
            "Epoch 150/300\n",
            "1/1 [==============================] - 0s 7ms/step - loss: 0.4487 - acc: 1.0000\n",
            "Epoch 151/300\n",
            "1/1 [==============================] - 0s 8ms/step - loss: 0.4435 - acc: 1.0000\n",
            "Epoch 152/300\n",
            "1/1 [==============================] - 0s 10ms/step - loss: 0.4383 - acc: 1.0000\n",
            "Epoch 153/300\n",
            "1/1 [==============================] - 0s 8ms/step - loss: 0.4331 - acc: 1.0000\n",
            "Epoch 154/300\n",
            "1/1 [==============================] - 0s 8ms/step - loss: 0.4279 - acc: 1.0000\n",
            "Epoch 155/300\n",
            "1/1 [==============================] - 0s 7ms/step - loss: 0.4228 - acc: 1.0000\n",
            "Epoch 156/300\n",
            "1/1 [==============================] - 0s 7ms/step - loss: 0.4176 - acc: 1.0000\n",
            "Epoch 157/300\n",
            "1/1 [==============================] - 0s 8ms/step - loss: 0.4125 - acc: 1.0000\n",
            "Epoch 158/300\n",
            "1/1 [==============================] - 0s 7ms/step - loss: 0.4074 - acc: 1.0000\n",
            "Epoch 159/300\n",
            "1/1 [==============================] - 0s 7ms/step - loss: 0.4023 - acc: 1.0000\n",
            "Epoch 160/300\n",
            "1/1 [==============================] - 0s 8ms/step - loss: 0.3973 - acc: 1.0000\n",
            "Epoch 161/300\n",
            "1/1 [==============================] - 0s 8ms/step - loss: 0.3923 - acc: 1.0000\n",
            "Epoch 162/300\n",
            "1/1 [==============================] - 0s 8ms/step - loss: 0.3874 - acc: 1.0000\n",
            "Epoch 163/300\n",
            "1/1 [==============================] - 0s 8ms/step - loss: 0.3825 - acc: 1.0000\n",
            "Epoch 164/300\n",
            "1/1 [==============================] - 0s 8ms/step - loss: 0.3776 - acc: 1.0000\n",
            "Epoch 165/300\n",
            "1/1 [==============================] - 0s 7ms/step - loss: 0.3729 - acc: 1.0000\n",
            "Epoch 166/300\n",
            "1/1 [==============================] - 0s 7ms/step - loss: 0.3681 - acc: 1.0000\n",
            "Epoch 167/300\n",
            "1/1 [==============================] - 0s 7ms/step - loss: 0.3634 - acc: 1.0000\n",
            "Epoch 168/300\n",
            "1/1 [==============================] - 0s 9ms/step - loss: 0.3588 - acc: 1.0000\n",
            "Epoch 169/300\n",
            "1/1 [==============================] - 0s 7ms/step - loss: 0.3543 - acc: 1.0000\n",
            "Epoch 170/300\n",
            "1/1 [==============================] - 0s 9ms/step - loss: 0.3498 - acc: 1.0000\n",
            "Epoch 171/300\n",
            "1/1 [==============================] - 0s 7ms/step - loss: 0.3454 - acc: 1.0000\n",
            "Epoch 172/300\n",
            "1/1 [==============================] - 0s 8ms/step - loss: 0.3411 - acc: 1.0000\n",
            "Epoch 173/300\n",
            "1/1 [==============================] - 0s 8ms/step - loss: 0.3368 - acc: 1.0000\n",
            "Epoch 174/300\n",
            "1/1 [==============================] - 0s 9ms/step - loss: 0.3327 - acc: 1.0000\n",
            "Epoch 175/300\n",
            "1/1 [==============================] - 0s 10ms/step - loss: 0.3286 - acc: 1.0000\n",
            "Epoch 176/300\n",
            "1/1 [==============================] - 0s 8ms/step - loss: 0.3246 - acc: 1.0000\n",
            "Epoch 177/300\n",
            "1/1 [==============================] - 0s 8ms/step - loss: 0.3207 - acc: 1.0000\n",
            "Epoch 178/300\n",
            "1/1 [==============================] - 0s 8ms/step - loss: 0.3168 - acc: 1.0000\n",
            "Epoch 179/300\n",
            "1/1 [==============================] - 0s 8ms/step - loss: 0.3131 - acc: 1.0000\n",
            "Epoch 180/300\n",
            "1/1 [==============================] - 0s 9ms/step - loss: 0.3094 - acc: 1.0000\n",
            "Epoch 181/300\n",
            "1/1 [==============================] - 0s 9ms/step - loss: 0.3058 - acc: 1.0000\n",
            "Epoch 182/300\n",
            "1/1 [==============================] - 0s 9ms/step - loss: 0.3023 - acc: 1.0000\n",
            "Epoch 183/300\n",
            "1/1 [==============================] - 0s 8ms/step - loss: 0.2989 - acc: 1.0000\n",
            "Epoch 184/300\n",
            "1/1 [==============================] - 0s 9ms/step - loss: 0.2955 - acc: 1.0000\n",
            "Epoch 185/300\n",
            "1/1 [==============================] - 0s 7ms/step - loss: 0.2923 - acc: 1.0000\n",
            "Epoch 186/300\n",
            "1/1 [==============================] - 0s 8ms/step - loss: 0.2891 - acc: 1.0000\n",
            "Epoch 187/300\n",
            "1/1 [==============================] - 0s 7ms/step - loss: 0.2860 - acc: 1.0000\n",
            "Epoch 188/300\n",
            "1/1 [==============================] - 0s 10ms/step - loss: 0.2830 - acc: 1.0000\n",
            "Epoch 189/300\n",
            "1/1 [==============================] - 0s 10ms/step - loss: 0.2800 - acc: 1.0000\n",
            "Epoch 190/300\n",
            "1/1 [==============================] - 0s 8ms/step - loss: 0.2772 - acc: 1.0000\n",
            "Epoch 191/300\n",
            "1/1 [==============================] - 0s 8ms/step - loss: 0.2744 - acc: 1.0000\n",
            "Epoch 192/300\n",
            "1/1 [==============================] - 0s 9ms/step - loss: 0.2716 - acc: 1.0000\n",
            "Epoch 193/300\n",
            "1/1 [==============================] - 0s 8ms/step - loss: 0.2690 - acc: 1.0000\n",
            "Epoch 194/300\n",
            "1/1 [==============================] - 0s 8ms/step - loss: 0.2664 - acc: 1.0000\n",
            "Epoch 195/300\n",
            "1/1 [==============================] - 0s 8ms/step - loss: 0.2638 - acc: 1.0000\n",
            "Epoch 196/300\n",
            "1/1 [==============================] - 0s 9ms/step - loss: 0.2614 - acc: 1.0000\n",
            "Epoch 197/300\n",
            "1/1 [==============================] - 0s 7ms/step - loss: 0.2589 - acc: 1.0000\n",
            "Epoch 198/300\n",
            "1/1 [==============================] - 0s 7ms/step - loss: 0.2566 - acc: 1.0000\n",
            "Epoch 199/300\n",
            "1/1 [==============================] - 0s 9ms/step - loss: 0.2543 - acc: 1.0000\n",
            "Epoch 200/300\n",
            "1/1 [==============================] - 0s 8ms/step - loss: 0.2521 - acc: 1.0000\n",
            "Epoch 201/300\n",
            "1/1 [==============================] - 0s 7ms/step - loss: 0.2499 - acc: 1.0000\n",
            "Epoch 202/300\n",
            "1/1 [==============================] - 0s 8ms/step - loss: 0.2477 - acc: 1.0000\n",
            "Epoch 203/300\n",
            "1/1 [==============================] - 0s 8ms/step - loss: 0.2456 - acc: 1.0000\n",
            "Epoch 204/300\n",
            "1/1 [==============================] - 0s 8ms/step - loss: 0.2436 - acc: 1.0000\n",
            "Epoch 205/300\n",
            "1/1 [==============================] - 0s 9ms/step - loss: 0.2416 - acc: 1.0000\n",
            "Epoch 206/300\n",
            "1/1 [==============================] - 0s 8ms/step - loss: 0.2396 - acc: 1.0000\n",
            "Epoch 207/300\n",
            "1/1 [==============================] - 0s 10ms/step - loss: 0.2377 - acc: 1.0000\n",
            "Epoch 208/300\n",
            "1/1 [==============================] - 0s 8ms/step - loss: 0.2359 - acc: 1.0000\n",
            "Epoch 209/300\n",
            "1/1 [==============================] - 0s 8ms/step - loss: 0.2340 - acc: 1.0000\n",
            "Epoch 210/300\n",
            "1/1 [==============================] - 0s 9ms/step - loss: 0.2322 - acc: 1.0000\n",
            "Epoch 211/300\n",
            "1/1 [==============================] - 0s 9ms/step - loss: 0.2305 - acc: 1.0000\n",
            "Epoch 212/300\n",
            "1/1 [==============================] - 0s 7ms/step - loss: 0.2287 - acc: 1.0000\n",
            "Epoch 213/300\n",
            "1/1 [==============================] - 0s 10ms/step - loss: 0.2271 - acc: 1.0000\n",
            "Epoch 214/300\n",
            "1/1 [==============================] - 0s 8ms/step - loss: 0.2254 - acc: 1.0000\n",
            "Epoch 215/300\n",
            "1/1 [==============================] - 0s 8ms/step - loss: 0.2238 - acc: 1.0000\n",
            "Epoch 216/300\n",
            "1/1 [==============================] - 0s 8ms/step - loss: 0.2222 - acc: 1.0000\n",
            "Epoch 217/300\n",
            "1/1 [==============================] - 0s 8ms/step - loss: 0.2206 - acc: 1.0000\n",
            "Epoch 218/300\n",
            "1/1 [==============================] - 0s 8ms/step - loss: 0.2191 - acc: 1.0000\n",
            "Epoch 219/300\n",
            "1/1 [==============================] - 0s 8ms/step - loss: 0.2176 - acc: 1.0000\n",
            "Epoch 220/300\n",
            "1/1 [==============================] - 0s 8ms/step - loss: 0.2161 - acc: 1.0000\n",
            "Epoch 221/300\n",
            "1/1 [==============================] - 0s 8ms/step - loss: 0.2146 - acc: 1.0000\n",
            "Epoch 222/300\n",
            "1/1 [==============================] - 0s 7ms/step - loss: 0.2132 - acc: 1.0000\n",
            "Epoch 223/300\n",
            "1/1 [==============================] - 0s 8ms/step - loss: 0.2118 - acc: 1.0000\n",
            "Epoch 224/300\n",
            "1/1 [==============================] - 0s 7ms/step - loss: 0.2104 - acc: 1.0000\n",
            "Epoch 225/300\n",
            "1/1 [==============================] - 0s 10ms/step - loss: 0.2090 - acc: 1.0000\n",
            "Epoch 226/300\n",
            "1/1 [==============================] - 0s 7ms/step - loss: 0.2077 - acc: 1.0000\n",
            "Epoch 227/300\n",
            "1/1 [==============================] - 0s 8ms/step - loss: 0.2063 - acc: 1.0000\n",
            "Epoch 228/300\n",
            "1/1 [==============================] - 0s 9ms/step - loss: 0.2050 - acc: 1.0000\n",
            "Epoch 229/300\n",
            "1/1 [==============================] - 0s 7ms/step - loss: 0.2037 - acc: 1.0000\n",
            "Epoch 230/300\n",
            "1/1 [==============================] - 0s 8ms/step - loss: 0.2025 - acc: 1.0000\n",
            "Epoch 231/300\n",
            "1/1 [==============================] - 0s 8ms/step - loss: 0.2012 - acc: 1.0000\n",
            "Epoch 232/300\n",
            "1/1 [==============================] - 0s 9ms/step - loss: 0.2000 - acc: 1.0000\n",
            "Epoch 233/300\n",
            "1/1 [==============================] - 0s 7ms/step - loss: 0.1988 - acc: 1.0000\n",
            "Epoch 234/300\n",
            "1/1 [==============================] - 0s 8ms/step - loss: 0.1976 - acc: 1.0000\n",
            "Epoch 235/300\n",
            "1/1 [==============================] - 0s 8ms/step - loss: 0.1964 - acc: 1.0000\n",
            "Epoch 236/300\n",
            "1/1 [==============================] - 0s 8ms/step - loss: 0.1952 - acc: 1.0000\n",
            "Epoch 237/300\n",
            "1/1 [==============================] - 0s 9ms/step - loss: 0.1941 - acc: 1.0000\n",
            "Epoch 238/300\n",
            "1/1 [==============================] - 0s 8ms/step - loss: 0.1929 - acc: 1.0000\n",
            "Epoch 239/300\n",
            "1/1 [==============================] - 0s 8ms/step - loss: 0.1918 - acc: 1.0000\n",
            "Epoch 240/300\n",
            "1/1 [==============================] - 0s 7ms/step - loss: 0.1907 - acc: 1.0000\n",
            "Epoch 241/300\n",
            "1/1 [==============================] - 0s 8ms/step - loss: 0.1896 - acc: 1.0000\n",
            "Epoch 242/300\n",
            "1/1 [==============================] - 0s 7ms/step - loss: 0.1885 - acc: 1.0000\n",
            "Epoch 243/300\n",
            "1/1 [==============================] - 0s 9ms/step - loss: 0.1874 - acc: 1.0000\n",
            "Epoch 244/300\n",
            "1/1 [==============================] - 0s 8ms/step - loss: 0.1864 - acc: 1.0000\n",
            "Epoch 245/300\n",
            "1/1 [==============================] - 0s 8ms/step - loss: 0.1853 - acc: 1.0000\n",
            "Epoch 246/300\n",
            "1/1 [==============================] - 0s 8ms/step - loss: 0.1843 - acc: 1.0000\n",
            "Epoch 247/300\n",
            "1/1 [==============================] - 0s 8ms/step - loss: 0.1833 - acc: 1.0000\n",
            "Epoch 248/300\n",
            "1/1 [==============================] - 0s 8ms/step - loss: 0.1822 - acc: 1.0000\n",
            "Epoch 249/300\n",
            "1/1 [==============================] - 0s 8ms/step - loss: 0.1812 - acc: 1.0000\n",
            "Epoch 250/300\n",
            "1/1 [==============================] - 0s 8ms/step - loss: 0.1802 - acc: 1.0000\n",
            "Epoch 251/300\n",
            "1/1 [==============================] - 0s 7ms/step - loss: 0.1793 - acc: 1.0000\n",
            "Epoch 252/300\n",
            "1/1 [==============================] - 0s 10ms/step - loss: 0.1783 - acc: 1.0000\n",
            "Epoch 253/300\n",
            "1/1 [==============================] - 0s 8ms/step - loss: 0.1773 - acc: 1.0000\n",
            "Epoch 254/300\n",
            "1/1 [==============================] - 0s 8ms/step - loss: 0.1764 - acc: 1.0000\n",
            "Epoch 255/300\n",
            "1/1 [==============================] - 0s 8ms/step - loss: 0.1754 - acc: 1.0000\n",
            "Epoch 256/300\n",
            "1/1 [==============================] - 0s 10ms/step - loss: 0.1745 - acc: 1.0000\n",
            "Epoch 257/300\n",
            "1/1 [==============================] - 0s 8ms/step - loss: 0.1736 - acc: 1.0000\n",
            "Epoch 258/300\n",
            "1/1 [==============================] - 0s 8ms/step - loss: 0.1726 - acc: 1.0000\n",
            "Epoch 259/300\n",
            "1/1 [==============================] - 0s 8ms/step - loss: 0.1717 - acc: 1.0000\n",
            "Epoch 260/300\n",
            "1/1 [==============================] - 0s 9ms/step - loss: 0.1708 - acc: 1.0000\n",
            "Epoch 261/300\n",
            "1/1 [==============================] - 0s 10ms/step - loss: 0.1699 - acc: 1.0000\n",
            "Epoch 262/300\n",
            "1/1 [==============================] - 0s 8ms/step - loss: 0.1691 - acc: 1.0000\n",
            "Epoch 263/300\n",
            "1/1 [==============================] - 0s 8ms/step - loss: 0.1682 - acc: 1.0000\n",
            "Epoch 264/300\n",
            "1/1 [==============================] - 0s 8ms/step - loss: 0.1673 - acc: 1.0000\n",
            "Epoch 265/300\n",
            "1/1 [==============================] - 0s 8ms/step - loss: 0.1664 - acc: 1.0000\n",
            "Epoch 266/300\n",
            "1/1 [==============================] - 0s 8ms/step - loss: 0.1656 - acc: 1.0000\n",
            "Epoch 267/300\n",
            "1/1 [==============================] - 0s 8ms/step - loss: 0.1647 - acc: 1.0000\n",
            "Epoch 268/300\n",
            "1/1 [==============================] - 0s 8ms/step - loss: 0.1639 - acc: 1.0000\n",
            "Epoch 269/300\n",
            "1/1 [==============================] - 0s 8ms/step - loss: 0.1631 - acc: 1.0000\n",
            "Epoch 270/300\n",
            "1/1 [==============================] - 0s 8ms/step - loss: 0.1622 - acc: 1.0000\n",
            "Epoch 271/300\n",
            "1/1 [==============================] - 0s 8ms/step - loss: 0.1614 - acc: 1.0000\n",
            "Epoch 272/300\n",
            "1/1 [==============================] - 0s 8ms/step - loss: 0.1606 - acc: 1.0000\n",
            "Epoch 273/300\n",
            "1/1 [==============================] - 0s 8ms/step - loss: 0.1598 - acc: 1.0000\n",
            "Epoch 274/300\n",
            "1/1 [==============================] - 0s 8ms/step - loss: 0.1590 - acc: 1.0000\n",
            "Epoch 275/300\n",
            "1/1 [==============================] - 0s 8ms/step - loss: 0.1582 - acc: 1.0000\n",
            "Epoch 276/300\n",
            "1/1 [==============================] - 0s 9ms/step - loss: 0.1574 - acc: 1.0000\n",
            "Epoch 277/300\n",
            "1/1 [==============================] - 0s 7ms/step - loss: 0.1566 - acc: 1.0000\n",
            "Epoch 278/300\n",
            "1/1 [==============================] - 0s 8ms/step - loss: 0.1559 - acc: 1.0000\n",
            "Epoch 279/300\n",
            "1/1 [==============================] - 0s 8ms/step - loss: 0.1551 - acc: 1.0000\n",
            "Epoch 280/300\n",
            "1/1 [==============================] - 0s 8ms/step - loss: 0.1543 - acc: 1.0000\n",
            "Epoch 281/300\n",
            "1/1 [==============================] - 0s 8ms/step - loss: 0.1536 - acc: 1.0000\n",
            "Epoch 282/300\n",
            "1/1 [==============================] - 0s 8ms/step - loss: 0.1528 - acc: 1.0000\n",
            "Epoch 283/300\n",
            "1/1 [==============================] - 0s 8ms/step - loss: 0.1521 - acc: 1.0000\n",
            "Epoch 284/300\n",
            "1/1 [==============================] - 0s 8ms/step - loss: 0.1513 - acc: 1.0000\n",
            "Epoch 285/300\n",
            "1/1 [==============================] - 0s 8ms/step - loss: 0.1506 - acc: 1.0000\n",
            "Epoch 286/300\n",
            "1/1 [==============================] - 0s 7ms/step - loss: 0.1498 - acc: 1.0000\n",
            "Epoch 287/300\n",
            "1/1 [==============================] - 0s 8ms/step - loss: 0.1491 - acc: 1.0000\n",
            "Epoch 288/300\n",
            "1/1 [==============================] - 0s 7ms/step - loss: 0.1484 - acc: 1.0000\n",
            "Epoch 289/300\n",
            "1/1 [==============================] - 0s 8ms/step - loss: 0.1477 - acc: 1.0000\n",
            "Epoch 290/300\n",
            "1/1 [==============================] - 0s 8ms/step - loss: 0.1470 - acc: 1.0000\n",
            "Epoch 291/300\n",
            "1/1 [==============================] - 0s 8ms/step - loss: 0.1463 - acc: 1.0000\n",
            "Epoch 292/300\n",
            "1/1 [==============================] - 0s 8ms/step - loss: 0.1455 - acc: 1.0000\n",
            "Epoch 293/300\n",
            "1/1 [==============================] - 0s 8ms/step - loss: 0.1448 - acc: 1.0000\n",
            "Epoch 294/300\n",
            "1/1 [==============================] - 0s 10ms/step - loss: 0.1442 - acc: 1.0000\n",
            "Epoch 295/300\n",
            "1/1 [==============================] - 0s 8ms/step - loss: 0.1435 - acc: 1.0000\n",
            "Epoch 296/300\n",
            "1/1 [==============================] - 0s 8ms/step - loss: 0.1428 - acc: 1.0000\n",
            "Epoch 297/300\n",
            "1/1 [==============================] - 0s 8ms/step - loss: 0.1421 - acc: 1.0000\n",
            "Epoch 298/300\n",
            "1/1 [==============================] - 0s 8ms/step - loss: 0.1414 - acc: 1.0000\n",
            "Epoch 299/300\n",
            "1/1 [==============================] - 0s 7ms/step - loss: 0.1407 - acc: 1.0000\n",
            "Epoch 300/300\n",
            "1/1 [==============================] - 0s 8ms/step - loss: 0.1401 - acc: 1.0000\n"
          ]
        },
        {
          "output_type": "execute_result",
          "data": {
            "text/plain": [
              "<keras.callbacks.History at 0x7ff1eef2aa60>"
            ]
          },
          "metadata": {},
          "execution_count": 39
        }
      ]
    },
    {
      "cell_type": "code",
      "source": [
        "# 모델 성능 확인\n",
        "model.evaluate(padded_test, np.array(test_y))"
      ],
      "metadata": {
        "colab": {
          "base_uri": "https://localhost:8080/"
        },
        "id": "kFCy7p9rRjUV",
        "outputId": "8af09dd2-83c4-441d-de1a-c70faa0a6d2f"
      },
      "execution_count": 47,
      "outputs": [
        {
          "output_type": "stream",
          "name": "stdout",
          "text": [
            "1/1 [==============================] - 0s 18ms/step - loss: 0.1584 - acc: 1.0000\n"
          ]
        },
        {
          "output_type": "execute_result",
          "data": {
            "text/plain": [
              "[0.1583881378173828, 1.0]"
            ]
          },
          "metadata": {},
          "execution_count": 47
        }
      ]
    },
    {
      "cell_type": "code",
      "source": [
        "model.predict(padded_test)"
      ],
      "metadata": {
        "colab": {
          "base_uri": "https://localhost:8080/"
        },
        "id": "OAxlwF5bR90d",
        "outputId": "3660743c-5e29-46ef-bcc2-1dc1c58eeec1"
      },
      "execution_count": 48,
      "outputs": [
        {
          "output_type": "stream",
          "name": "stdout",
          "text": [
            "1/1 [==============================] - 0s 16ms/step\n"
          ]
        },
        {
          "output_type": "execute_result",
          "data": {
            "text/plain": [
              "array([[0.11537157],\n",
              "       [0.84081686],\n",
              "       [0.8359425 ]], dtype=float32)"
            ]
          },
          "metadata": {},
          "execution_count": 48
        }
      ]
    },
    {
      "cell_type": "code",
      "source": [
        "# activation sigmoid 안줬을경우\n",
        "import tensorflow as tf \n",
        "tf.keras.activations.sigmoid(model.predict(padded_test))"
      ],
      "metadata": {
        "id": "LovBk-_iSw4D"
      },
      "execution_count": null,
      "outputs": []
    },
    {
      "cell_type": "code",
      "source": [],
      "metadata": {
        "id": "aG00DyHPSGit"
      },
      "execution_count": null,
      "outputs": []
    }
  ],
  "metadata": {
    "accelerator": "GPU",
    "colab": {
      "collapsed_sections": [
        "CPTWWvWI7NGD",
        "a8j2CwxQ7kC8"
      ],
      "provenance": [],
      "machine_shape": "hm",
      "include_colab_link": true
    },
    "kernelspec": {
      "display_name": "Python 3 (ipykernel)",
      "language": "python",
      "name": "python3"
    },
    "language_info": {
      "codemirror_mode": {
        "name": "ipython",
        "version": 3
      },
      "file_extension": ".py",
      "mimetype": "text/x-python",
      "name": "python",
      "nbconvert_exporter": "python",
      "pygments_lexer": "ipython3",
      "version": "3.8.14"
    },
    "toc": {
      "base_numbering": 1,
      "nav_menu": {},
      "number_sections": true,
      "sideBar": true,
      "skip_h1_title": false,
      "title_cell": "Table of Contents",
      "title_sidebar": "Contents",
      "toc_cell": false,
      "toc_position": {},
      "toc_section_display": true,
      "toc_window_display": false
    },
    "gpuClass": "standard"
  },
  "nbformat": 4,
  "nbformat_minor": 0
}