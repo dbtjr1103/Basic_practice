{
  "cells": [
    {
      "cell_type": "markdown",
      "metadata": {
        "id": "view-in-github",
        "colab_type": "text"
      },
      "source": [
        "<a href=\"https://colab.research.google.com/github/dbtjr1103/Basic_practice/blob/main/%EC%A0%95%EC%9C%A0%EC%84%9D_3%EC%B0%A8_%EA%B3%BC%EC%A0%9C_%EB%A8%B8%EC%8B%A0%EB%9F%AC%EB%8B%9D_%EB%AC%B8%EC%A0%9C.ipynb\" target=\"_parent\"><img src=\"https://colab.research.google.com/assets/colab-badge.svg\" alt=\"Open In Colab\"/></a>"
      ]
    },
    {
      "cell_type": "markdown",
      "id": "2f0ec26c",
      "metadata": {
        "id": "2f0ec26c"
      },
      "source": [
        "### 머신러닝 문제\n",
        "1. bike.csv 파일을 불러오세요.\n",
        "\n",
        "* datetime : 기록 일시(1시간 간격)\n",
        "* season : 계절(봄 : 1, 여름 : 2, 가을 : 3, 겨울 : 4)\n",
        "* holiday : 공휴일 여부(0 : 공휴일 아님, 1 : 공휴일)\n",
        "* workingday : 근무일 여부(0 : 근무일 아님, 1 : 근무일)\n",
        "* weather : 날씨(1 : 맑음, 2 : 옅은 안개, 3 : 약한 눈 or 약한 번개 or 흐림, 4 : 폭우 or 짙은 안개)\n",
        "* temp : 실제 온도\n",
        "* atemp : 체감 온도\n",
        "* humidity : 상대 습도\n",
        "* windspeed : 풍속\n",
        "* casual : 등록되지 않은 사용자(비회원 수)\n",
        "* registered : 등록된 사용자(회원) 수\n",
        "* count : 자전거 대여 수량"
      ]
    },
    {
      "cell_type": "code",
      "source": [
        "import pandas as pd\n",
        "bike=pd.read_csv('bike.csv')"
      ],
      "metadata": {
        "id": "Yr1B9vzcHsJ0"
      },
      "id": "Yr1B9vzcHsJ0",
      "execution_count": null,
      "outputs": []
    },
    {
      "cell_type": "markdown",
      "id": "c96e486e",
      "metadata": {
        "id": "c96e486e"
      },
      "source": [
        "2. 자전거 대여 수요 예측을 해주는 프로그램을 만들어보세요. 다양한 모델을 활용해서 가장 높은 정확도를 이끌어보세요.  \n",
        "(count열이 자전거의 수요값입니다. 다양한 특성을 활용해서 자전거의 수요를 예측해보세요.)"
      ]
    },
    {
      "cell_type": "code",
      "execution_count": null,
      "id": "444ddfb2",
      "metadata": {
        "id": "444ddfb2",
        "colab": {
          "base_uri": "https://localhost:8080/"
        },
        "outputId": "8b1b7b9f-53a4-41d9-d2fd-066a72be438d"
      },
      "outputs": [
        {
          "output_type": "stream",
          "name": "stdout",
          "text": [
            "<class 'pandas.core.frame.DataFrame'>\n",
            "RangeIndex: 10886 entries, 0 to 10885\n",
            "Data columns (total 12 columns):\n",
            " #   Column      Non-Null Count  Dtype  \n",
            "---  ------      --------------  -----  \n",
            " 0   datetime    10886 non-null  object \n",
            " 1   season      10886 non-null  int64  \n",
            " 2   holiday     10886 non-null  int64  \n",
            " 3   workingday  10886 non-null  int64  \n",
            " 4   weather     10886 non-null  int64  \n",
            " 5   temp        10886 non-null  float64\n",
            " 6   atemp       10886 non-null  float64\n",
            " 7   humidity    10886 non-null  int64  \n",
            " 8   windspeed   10886 non-null  float64\n",
            " 9   casual      10886 non-null  int64  \n",
            " 10  registered  10886 non-null  int64  \n",
            " 11  count       10886 non-null  int64  \n",
            "dtypes: float64(3), int64(8), object(1)\n",
            "memory usage: 1020.7+ KB\n"
          ]
        }
      ],
      "source": [
        "bike.info()\n",
        "# 조회결과 : 특이사항 datetime 타입 object, 결측치 없음 "
      ]
    },
    {
      "cell_type": "code",
      "source": [
        "bike['datetime']=pd.to_datetime(bike['datetime'])\n",
        "# bike 타입 변경 \n",
        "bike.info()"
      ],
      "metadata": {
        "colab": {
          "base_uri": "https://localhost:8080/"
        },
        "id": "fwHL6ETKYQbC",
        "outputId": "20e40086-418f-4766-808f-91c78f569bf2"
      },
      "id": "fwHL6ETKYQbC",
      "execution_count": null,
      "outputs": [
        {
          "output_type": "stream",
          "name": "stdout",
          "text": [
            "<class 'pandas.core.frame.DataFrame'>\n",
            "RangeIndex: 10886 entries, 0 to 10885\n",
            "Data columns (total 12 columns):\n",
            " #   Column      Non-Null Count  Dtype         \n",
            "---  ------      --------------  -----         \n",
            " 0   datetime    10886 non-null  datetime64[ns]\n",
            " 1   season      10886 non-null  int64         \n",
            " 2   holiday     10886 non-null  int64         \n",
            " 3   workingday  10886 non-null  int64         \n",
            " 4   weather     10886 non-null  int64         \n",
            " 5   temp        10886 non-null  float64       \n",
            " 6   atemp       10886 non-null  float64       \n",
            " 7   humidity    10886 non-null  int64         \n",
            " 8   windspeed   10886 non-null  float64       \n",
            " 9   casual      10886 non-null  int64         \n",
            " 10  registered  10886 non-null  int64         \n",
            " 11  count       10886 non-null  int64         \n",
            "dtypes: datetime64[ns](1), float64(3), int64(8)\n",
            "memory usage: 1020.7 KB\n"
          ]
        }
      ]
    },
    {
      "cell_type": "code",
      "source": [
        "# datetime을 활용할 특성을 추가하기위해 연도/월/일/시/요일 로 구분해서 컬럼에 추가\n",
        "bike['year'] = bike['datetime'].dt.year\n",
        "bike['month'] = bike['datetime'].dt.month\n",
        "bike['day'] = bike['datetime'].dt.day\n",
        "bike['hour'] = bike['datetime'].dt.hour\n",
        "bike['dayofweek'] = bike['datetime'].dt.dayofweek\n",
        "# bike"
      ],
      "metadata": {
        "id": "h5mFdp0uY_yH"
      },
      "id": "h5mFdp0uY_yH",
      "execution_count": null,
      "outputs": []
    },
    {
      "cell_type": "code",
      "source": [
        "# data, target 지정\n",
        "\n",
        "# 불필요한 datetime, casual, registered, count 제외하고 data 지정\n",
        "# casual + registered = count, 과적합 예방차원에서 제외\n",
        "data = bike.drop(['datetime', 'casual', 'registered', 'count'], axis=1) \n",
        "target = bike['count']\n",
        "\n",
        "data.info()"
      ],
      "metadata": {
        "colab": {
          "base_uri": "https://localhost:8080/"
        },
        "id": "M_sP-SpG-P5h",
        "outputId": "684fddca-f2ab-487b-9b0f-be35874a72cd"
      },
      "id": "M_sP-SpG-P5h",
      "execution_count": null,
      "outputs": [
        {
          "output_type": "stream",
          "name": "stdout",
          "text": [
            "<class 'pandas.core.frame.DataFrame'>\n",
            "RangeIndex: 10886 entries, 0 to 10885\n",
            "Data columns (total 13 columns):\n",
            " #   Column      Non-Null Count  Dtype  \n",
            "---  ------      --------------  -----  \n",
            " 0   season      10886 non-null  int64  \n",
            " 1   holiday     10886 non-null  int64  \n",
            " 2   workingday  10886 non-null  int64  \n",
            " 3   weather     10886 non-null  int64  \n",
            " 4   temp        10886 non-null  float64\n",
            " 5   atemp       10886 non-null  float64\n",
            " 6   humidity    10886 non-null  int64  \n",
            " 7   windspeed   10886 non-null  float64\n",
            " 8   year        10886 non-null  int64  \n",
            " 9   month       10886 non-null  int64  \n",
            " 10  day         10886 non-null  int64  \n",
            " 11  hour        10886 non-null  int64  \n",
            " 12  dayofweek   10886 non-null  int64  \n",
            "dtypes: float64(3), int64(10)\n",
            "memory usage: 1.1 MB\n"
          ]
        }
      ]
    },
    {
      "cell_type": "code",
      "source": [
        "# 데이터 분할\n",
        "from sklearn.model_selection import train_test_split\n",
        "train_input, test_input, train_target, test_target = train_test_split(data, target) \n",
        "\n",
        "# 데이터 스케일링 (StandardScaler)\n",
        "from sklearn.preprocessing import StandardScaler\n",
        "ss = StandardScaler()\n",
        "train_scaled = ss.fit_transform(train_input)\n",
        "test_scaled = ss.transform(test_input)\n",
        "\n",
        "# 선형 회귀모델\n",
        "from sklearn.linear_model import LinearRegression\n",
        "lr = LinearRegression()\n",
        "lr.fit(train_scaled, train_target)\n",
        "score = lr.score(test_scaled, test_target)\n",
        "\n",
        "# 교차검증\n",
        "from sklearn.model_selection import cross_val_score\n",
        "cross_val = cross_val_score(lr, test_scaled, test_target, cv=5)\n",
        "\n",
        "print('점수:', score)\n",
        "print('교차검증:', cross_val)\n",
        "print('교차검증 평균:', cross_val.mean())"
      ],
      "metadata": {
        "colab": {
          "base_uri": "https://localhost:8080/"
        },
        "id": "n5rTPK6q-RTZ",
        "outputId": "dc981594-9827-40bb-d128-369982ee7df7"
      },
      "id": "n5rTPK6q-RTZ",
      "execution_count": null,
      "outputs": [
        {
          "output_type": "stream",
          "name": "stdout",
          "text": [
            "점수: 0.38030108831476694\n",
            "교차검증: [0.36940575 0.3899351  0.36767881 0.3367369  0.40290757]\n",
            "교차검증 평균: 0.3733328272625068\n"
          ]
        }
      ]
    },
    {
      "cell_type": "code",
      "source": [
        "# 다른 데이터 표준화 방식 (MinMaxScaler)\n",
        "bike=pd.read_csv('bike.csv')\n",
        "\n",
        "bike['datetime']=pd.to_datetime(bike['datetime'])\n",
        "bike[\"year\"] = bike[\"datetime\"].dt.year\n",
        "bike[\"month\"] = bike[\"datetime\"].dt.month\n",
        "bike[\"day\"] = bike[\"datetime\"].dt.day\n",
        "bike[\"hour\"] = bike[\"datetime\"].dt.hour\n",
        "bike['dayofweek'] = bike['datetime'].dt.dayofweek\n",
        "\n",
        "data = bike.drop(['datetime', 'casual', 'registered', 'count'], axis=1) \n",
        "target = bike['count']\n",
        "\n",
        "from sklearn.model_selection import train_test_split\n",
        "train_input, test_input, train_target, test_target = train_test_split(data, target) \n",
        "\n",
        "from sklearn.preprocessing import MinMaxScaler\n",
        "ms = MinMaxScaler()\n",
        "train_scaled = ms.fit_transform(train_input)\n",
        "test_scaled = ms.transform(test_input)\n",
        "\n",
        "from sklearn.linear_model import LinearRegression\n",
        "lr = LinearRegression()\n",
        "lr.fit(train_scaled, train_target)\n",
        "score = lr.score(test_scaled, test_target)\n",
        "\n",
        "from sklearn.model_selection import cross_val_score\n",
        "cross_val = cross_val_score(lr, test_scaled, test_target, cv=5)\n",
        "\n",
        "print('점수:', score)\n",
        "print('교차검증:', cross_val)\n",
        "print('교차검증 평균:', cross_val.mean())"
      ],
      "metadata": {
        "colab": {
          "base_uri": "https://localhost:8080/"
        },
        "id": "45GXlKqv-nt3",
        "outputId": "051300fe-2f2d-485f-e59b-a1d4c6b29f20"
      },
      "id": "45GXlKqv-nt3",
      "execution_count": null,
      "outputs": [
        {
          "output_type": "stream",
          "name": "stdout",
          "text": [
            "점수: 0.39945712791843035\n",
            "교차검증: [0.39038048 0.38015398 0.39390128 0.4139903  0.41025848]\n",
            "교차검증 평균: 0.39773690206932494\n"
          ]
        }
      ]
    },
    {
      "cell_type": "code",
      "source": [
        "# 다른 데이터 표준화 방식 (RobustScaler)\n",
        "bike=pd.read_csv('bike.csv')\n",
        "\n",
        "bike['datetime']=pd.to_datetime(bike['datetime'])\n",
        "bike[\"year\"] = bike[\"datetime\"].dt.year\n",
        "bike[\"month\"] = bike[\"datetime\"].dt.month\n",
        "bike[\"day\"] = bike[\"datetime\"].dt.day\n",
        "bike[\"hour\"] = bike[\"datetime\"].dt.hour\n",
        "bike['dayofweek'] = bike['datetime'].dt.dayofweek\n",
        "\n",
        "data = bike.drop(['datetime', 'casual', 'registered', 'count'], axis=1) \n",
        "target = bike['count']\n",
        "\n",
        "from sklearn.model_selection import train_test_split\n",
        "train_input, test_input, train_target, test_target = train_test_split(data, target) \n",
        "\n",
        "from sklearn.preprocessing import RobustScaler\n",
        "rs = RobustScaler()\n",
        "train_scaled = rs.fit_transform(train_input)\n",
        "test_scaled = rs.transform(test_input)\n",
        "\n",
        "from sklearn.linear_model import LinearRegression\n",
        "lr = LinearRegression()\n",
        "lr.fit(train_scaled, train_target)\n",
        "score = lr.score(test_scaled, test_target)\n",
        "\n",
        "from sklearn.model_selection import cross_val_score\n",
        "cross_val = cross_val_score(lr, test_scaled, test_target, cv=5)\n",
        "\n",
        "print('점수:', score)\n",
        "print('교차검증:', cross_val)\n",
        "print('교차검증 평균:', cross_val.mean())"
      ],
      "metadata": {
        "colab": {
          "base_uri": "https://localhost:8080/"
        },
        "id": "GDvrknGaisA4",
        "outputId": "e59affc2-583c-419a-e5a3-b04376262c2d"
      },
      "id": "GDvrknGaisA4",
      "execution_count": null,
      "outputs": [
        {
          "output_type": "stream",
          "name": "stdout",
          "text": [
            "점수: 0.39599115424088527\n",
            "교차검증: [0.34853359 0.3882989  0.41672374 0.39039427 0.4228603 ]\n",
            "교차검증 평균: 0.3933621603844336\n"
          ]
        }
      ]
    },
    {
      "cell_type": "markdown",
      "source": [
        "        데이터 표준화 종류에 따른 큰 차이 없음"
      ],
      "metadata": {
        "id": "QpVjwyWf-rtD"
      },
      "id": "QpVjwyWf-rtD"
    },
    {
      "cell_type": "code",
      "source": [
        "# 특성공학 추가\n",
        "bike=pd.read_csv('bike.csv')\n",
        "\n",
        "bike['datetime']=pd.to_datetime(bike['datetime'])\n",
        "bike[\"year\"] = bike[\"datetime\"].dt.year\n",
        "bike[\"month\"] = bike[\"datetime\"].dt.month\n",
        "bike[\"day\"] = bike[\"datetime\"].dt.day\n",
        "bike[\"hour\"] = bike[\"datetime\"].dt.hour\n",
        "bike['dayofweek'] = bike['datetime'].dt.dayofweek\n",
        "\n",
        "data = bike.drop(['datetime', 'casual', 'registered', 'count'], axis=1) \n",
        "target = bike['count']\n",
        "\n",
        "# 특성공학\n",
        "from sklearn.preprocessing import PolynomialFeatures\n",
        "poly = PolynomialFeatures(include_bias = False) \n",
        "data_poly = poly.fit_transform(data)\n",
        "\n",
        "from sklearn.model_selection import train_test_split\n",
        "train_input, test_input, train_target, test_target = train_test_split(data, target) \n",
        "\n",
        "from sklearn.preprocessing import StandardScaler\n",
        "ss = StandardScaler()\n",
        "train_scaled = ss.fit_transform(train_input)\n",
        "test_scaled = ss.transform(test_input)\n",
        "\n",
        "from sklearn.linear_model import LinearRegression\n",
        "lr = LinearRegression()\n",
        "lr.fit(train_scaled, train_target)\n",
        "score = lr.score(test_scaled, test_target)\n",
        "\n",
        "from sklearn.model_selection import cross_val_score\n",
        "cross_val = cross_val_score(lr, test_scaled, test_target, cv=5)\n",
        "\n",
        "print('점수:', score)\n",
        "print('교차검증:', cross_val)\n",
        "print('교차검증 평균:', cross_val.mean())"
      ],
      "metadata": {
        "colab": {
          "base_uri": "https://localhost:8080/"
        },
        "id": "bEwo8sVN-3JN",
        "outputId": "df4696e9-efe3-4a35-d44c-40e32d7bb000"
      },
      "id": "bEwo8sVN-3JN",
      "execution_count": null,
      "outputs": [
        {
          "output_type": "stream",
          "name": "stdout",
          "text": [
            "점수: 0.3824538062700562\n",
            "교차검증: [0.34241775 0.36234389 0.41287202 0.38671395 0.3915136 ]\n",
            "교차검증 평균: 0.37917224286404594\n"
          ]
        }
      ]
    },
    {
      "cell_type": "code",
      "source": [
        "# 랜덤포레스트 회귀 모델 사용\n",
        "bike=pd.read_csv('bike.csv')\n",
        "\n",
        "bike['datetime']=pd.to_datetime(bike['datetime'])\n",
        "bike[\"year\"] = bike[\"datetime\"].dt.year\n",
        "bike[\"month\"] = bike[\"datetime\"].dt.month\n",
        "bike[\"day\"] = bike[\"datetime\"].dt.day\n",
        "bike[\"hour\"] = bike[\"datetime\"].dt.hour\n",
        "bike['dayofweek'] = bike['datetime'].dt.dayofweek\n",
        "\n",
        "data = bike.drop(['datetime', 'casual', 'registered', 'count'], axis=1) \n",
        "target = bike['count']\n",
        "\n",
        "from sklearn.model_selection import train_test_split\n",
        "train_input, test_input, train_target, test_target = train_test_split(data, target) \n",
        "\n",
        "from sklearn.ensemble import RandomForestRegressor\n",
        "rf = RandomForestRegressor()\n",
        "rf.fit(train_input, train_target)\n",
        "score=rf.score(test_input, test_target)\n",
        "\n",
        "from sklearn.model_selection import cross_val_score\n",
        "cross_val=cross_val_score(rf, test_input, test_target,cv=5)\n",
        "\n",
        "print('점수:', score)\n",
        "print('교차검증:', cross_val)\n",
        "print('교차검증 평균:', cross_val.mean())"
      ],
      "metadata": {
        "colab": {
          "base_uri": "https://localhost:8080/"
        },
        "id": "cbwm7ZLM-6G9",
        "outputId": "562adb19-ff21-488e-fa6a-ee0a2e89e336"
      },
      "id": "cbwm7ZLM-6G9",
      "execution_count": null,
      "outputs": [
        {
          "output_type": "stream",
          "name": "stdout",
          "text": [
            "점수: 0.9476759425630589\n",
            "교차검증: [0.88383225 0.90005006 0.88587766 0.90365445 0.89786439]\n",
            "교차검증 평균: 0.8942557617156076\n"
          ]
        }
      ]
    },
    {
      "cell_type": "code",
      "source": [
        "bike=pd.read_csv('bike.csv')\n",
        "\n",
        "bike['datetime']=pd.to_datetime(bike['datetime'])\n",
        "bike[\"year\"] = bike[\"datetime\"].dt.year\n",
        "bike[\"month\"] = bike[\"datetime\"].dt.month\n",
        "bike[\"day\"] = bike[\"datetime\"].dt.day\n",
        "bike[\"hour\"] = bike[\"datetime\"].dt.hour\n",
        "bike['dayofweek'] = bike['datetime'].dt.dayofweek\n",
        "\n",
        "data = bike.drop(['datetime', 'casual', 'registered', 'count'], axis=1) \n",
        "target = bike['count']\n",
        "\n",
        "# 특성공학 큰 차이 없음\n",
        "from sklearn.preprocessing import PolynomialFeatures\n",
        "poly = PolynomialFeatures(include_bias = False) \n",
        "data_poly = poly.fit_transform(data)\n",
        "\n",
        "from sklearn.model_selection import train_test_split\n",
        "train_input, test_input, train_target, test_target = train_test_split(data, target) \n",
        "\n",
        "from sklearn.ensemble import RandomForestRegressor\n",
        "rf = RandomForestRegressor()\n",
        "rf.fit(train_input, train_target)\n",
        "score=rf.score(test_input, test_target)\n",
        "\n",
        "from sklearn.model_selection import cross_val_score\n",
        "cross_val=cross_val_score(rf, test_input, test_target,cv=5)\n",
        "\n",
        "print('점수:', score)\n",
        "print('교차검증:', cross_val)\n",
        "print('교차검증 평균:', cross_val.mean())"
      ],
      "metadata": {
        "colab": {
          "base_uri": "https://localhost:8080/"
        },
        "id": "H5V4Mw_tmHwj",
        "outputId": "143976e0-d770-40d3-9dab-18a246f5da8b"
      },
      "id": "H5V4Mw_tmHwj",
      "execution_count": null,
      "outputs": [
        {
          "output_type": "stream",
          "name": "stdout",
          "text": [
            "점수: 0.9482350366410247\n",
            "교차검증: [0.88859265 0.89719838 0.91130336 0.90013545 0.91595608]\n",
            "교차검증 평균: 0.9026371818720731\n"
          ]
        }
      ]
    },
    {
      "cell_type": "code",
      "source": [
        "# 시뮬레이션\n",
        "bike=pd.read_csv('bike.csv')\n",
        "\n",
        "bike['datetime']=pd.to_datetime(bike['datetime'])\n",
        "bike[\"year\"] = bike[\"datetime\"].dt.year\n",
        "bike[\"month\"] = bike[\"datetime\"].dt.month\n",
        "bike[\"day\"] = bike[\"datetime\"].dt.day\n",
        "bike[\"hour\"] = bike[\"datetime\"].dt.hour\n",
        "bike['dayofweek'] = bike['datetime'].dt.dayofweek\n",
        "\n",
        "data = bike.drop(['datetime', 'casual', 'registered', 'count'], axis=1) \n",
        "target = bike['count']\n",
        "\n",
        "from sklearn.model_selection import train_test_split\n",
        "train_input, test_input, train_target, test_target = train_test_split(data, target) \n",
        "\n",
        "from sklearn.ensemble import RandomForestRegressor\n",
        "rf = RandomForestRegressor()\n",
        "rf.fit(train_input, train_target)\n",
        "score=rf.score(test_input, test_target)\n",
        "\n",
        "from sklearn.model_selection import GridSearchCV\n",
        "dic = {'max_depth' : range(5,16)}\n",
        "gs = GridSearchCV(estimator=rf, param_grid = dic, cv=5)\n",
        "gs.fit(train_input, train_target)\n",
        "best_para = gs.best_params_\n",
        "gs_result = gs.cv_results_\n",
        "best_est = gs.best_estimator_\n",
        "\n",
        "print(score)\n",
        "print(best_para)\n",
        "print(best_est)\n",
        "best_est.score(test_input, test_target)"
      ],
      "metadata": {
        "colab": {
          "base_uri": "https://localhost:8080/"
        },
        "id": "fqPRs3Fu--wN",
        "outputId": "3e35d5c4-5131-4f31-cc88-19fbd63db200"
      },
      "id": "fqPRs3Fu--wN",
      "execution_count": null,
      "outputs": [
        {
          "output_type": "stream",
          "name": "stdout",
          "text": [
            "0.9466836378439378\n",
            "{'max_depth': 15}\n",
            "RandomForestRegressor(max_depth=15)\n"
          ]
        },
        {
          "output_type": "execute_result",
          "data": {
            "text/plain": [
              "0.946424811889871"
            ]
          },
          "metadata": {},
          "execution_count": 34
        }
      ]
    },
    {
      "cell_type": "markdown",
      "source": [
        "결론 : 랜덤포레스트 회귀 모델의 성능점수가 가장 높았다."
      ],
      "metadata": {
        "id": "Tf8idlVB_Gjl"
      },
      "id": "Tf8idlVB_Gjl"
    },
    {
      "cell_type": "markdown",
      "source": [
        "# 기타 그래프 분석\n"
      ],
      "metadata": {
        "id": "nrx6G8BKF2IE"
      },
      "id": "nrx6G8BKF2IE"
    },
    {
      "cell_type": "code",
      "source": [
        "# 라이브러리 추가 및 파일 불러오기\n",
        "import pandas as pd\n",
        "import seaborn as sns\n",
        "bike = pd.read_csv(\"bike.csv\")"
      ],
      "metadata": {
        "id": "WmO2kyYdGH3m"
      },
      "id": "WmO2kyYdGH3m",
      "execution_count": 6,
      "outputs": []
    },
    {
      "cell_type": "code",
      "source": [
        "# 데이터 분석\n",
        "bike.info()\n",
        "# 특이사항 : datetime 타입 object, 결측치 없음 "
      ],
      "metadata": {
        "colab": {
          "base_uri": "https://localhost:8080/"
        },
        "id": "DXEmHbKmGRWj",
        "outputId": "e35cc064-a6bc-4cd9-e1ce-54439d72b94e"
      },
      "id": "DXEmHbKmGRWj",
      "execution_count": 8,
      "outputs": [
        {
          "output_type": "stream",
          "name": "stdout",
          "text": [
            "<class 'pandas.core.frame.DataFrame'>\n",
            "RangeIndex: 10886 entries, 0 to 10885\n",
            "Data columns (total 12 columns):\n",
            " #   Column      Non-Null Count  Dtype  \n",
            "---  ------      --------------  -----  \n",
            " 0   datetime    10886 non-null  object \n",
            " 1   season      10886 non-null  int64  \n",
            " 2   holiday     10886 non-null  int64  \n",
            " 3   workingday  10886 non-null  int64  \n",
            " 4   weather     10886 non-null  int64  \n",
            " 5   temp        10886 non-null  float64\n",
            " 6   atemp       10886 non-null  float64\n",
            " 7   humidity    10886 non-null  int64  \n",
            " 8   windspeed   10886 non-null  float64\n",
            " 9   casual      10886 non-null  int64  \n",
            " 10  registered  10886 non-null  int64  \n",
            " 11  count       10886 non-null  int64  \n",
            "dtypes: float64(3), int64(8), object(1)\n",
            "memory usage: 1020.7+ KB\n"
          ]
        }
      ]
    },
    {
      "cell_type": "code",
      "source": [
        "# datetime 형태 변경\n",
        "bike['datetime'] = pd.to_datetime(bike['datetime'])\n",
        "bike.info()"
      ],
      "metadata": {
        "colab": {
          "base_uri": "https://localhost:8080/"
        },
        "id": "_2ztrRCsGTgq",
        "outputId": "9447d519-d4db-4c0f-f2cb-474ac7fba8e3"
      },
      "id": "_2ztrRCsGTgq",
      "execution_count": 9,
      "outputs": [
        {
          "output_type": "stream",
          "name": "stdout",
          "text": [
            "<class 'pandas.core.frame.DataFrame'>\n",
            "RangeIndex: 10886 entries, 0 to 10885\n",
            "Data columns (total 12 columns):\n",
            " #   Column      Non-Null Count  Dtype         \n",
            "---  ------      --------------  -----         \n",
            " 0   datetime    10886 non-null  datetime64[ns]\n",
            " 1   season      10886 non-null  int64         \n",
            " 2   holiday     10886 non-null  int64         \n",
            " 3   workingday  10886 non-null  int64         \n",
            " 4   weather     10886 non-null  int64         \n",
            " 5   temp        10886 non-null  float64       \n",
            " 6   atemp       10886 non-null  float64       \n",
            " 7   humidity    10886 non-null  int64         \n",
            " 8   windspeed   10886 non-null  float64       \n",
            " 9   casual      10886 non-null  int64         \n",
            " 10  registered  10886 non-null  int64         \n",
            " 11  count       10886 non-null  int64         \n",
            "dtypes: datetime64[ns](1), float64(3), int64(8)\n",
            "memory usage: 1020.7 KB\n"
          ]
        }
      ]
    },
    {
      "cell_type": "code",
      "source": [
        "# datetime을 활용하기위해 연도/월/일/시/요일 로 구분해서 컬럼에 추가\n",
        "bike['year'] = bike['datetime'].dt.year\n",
        "bike['month'] = bike['datetime'].dt.month\n",
        "bike['day'] = bike['datetime'].dt.day\n",
        "bike['hour'] = bike['datetime'].dt.hour\n",
        "bike['dayofweek'] = bike['datetime'].dt.dayofweek\n",
        "bike"
      ],
      "metadata": {
        "colab": {
          "base_uri": "https://localhost:8080/",
          "height": 424
        },
        "id": "o0dqkmQNGUeN",
        "outputId": "25958765-ee86-4728-cd7b-097287d430dc"
      },
      "id": "o0dqkmQNGUeN",
      "execution_count": 10,
      "outputs": [
        {
          "output_type": "execute_result",
          "data": {
            "text/plain": [
              "                 datetime  season  holiday  workingday  weather   temp  \\\n",
              "0     2011-01-01 00:00:00       1        0           0        1   9.84   \n",
              "1     2011-01-01 01:00:00       1        0           0        1   9.02   \n",
              "2     2011-01-01 02:00:00       1        0           0        1   9.02   \n",
              "3     2011-01-01 03:00:00       1        0           0        1   9.84   \n",
              "4     2011-01-01 04:00:00       1        0           0        1   9.84   \n",
              "...                   ...     ...      ...         ...      ...    ...   \n",
              "10881 2012-12-19 19:00:00       4        0           1        1  15.58   \n",
              "10882 2012-12-19 20:00:00       4        0           1        1  14.76   \n",
              "10883 2012-12-19 21:00:00       4        0           1        1  13.94   \n",
              "10884 2012-12-19 22:00:00       4        0           1        1  13.94   \n",
              "10885 2012-12-19 23:00:00       4        0           1        1  13.12   \n",
              "\n",
              "        atemp  humidity  windspeed  casual  registered  count  year  month  \\\n",
              "0      14.395        81     0.0000       3          13     16  2011      1   \n",
              "1      13.635        80     0.0000       8          32     40  2011      1   \n",
              "2      13.635        80     0.0000       5          27     32  2011      1   \n",
              "3      14.395        75     0.0000       3          10     13  2011      1   \n",
              "4      14.395        75     0.0000       0           1      1  2011      1   \n",
              "...       ...       ...        ...     ...         ...    ...   ...    ...   \n",
              "10881  19.695        50    26.0027       7         329    336  2012     12   \n",
              "10882  17.425        57    15.0013      10         231    241  2012     12   \n",
              "10883  15.910        61    15.0013       4         164    168  2012     12   \n",
              "10884  17.425        61     6.0032      12         117    129  2012     12   \n",
              "10885  16.665        66     8.9981       4          84     88  2012     12   \n",
              "\n",
              "       day  hour  dayofweek  \n",
              "0        1     0          5  \n",
              "1        1     1          5  \n",
              "2        1     2          5  \n",
              "3        1     3          5  \n",
              "4        1     4          5  \n",
              "...    ...   ...        ...  \n",
              "10881   19    19          2  \n",
              "10882   19    20          2  \n",
              "10883   19    21          2  \n",
              "10884   19    22          2  \n",
              "10885   19    23          2  \n",
              "\n",
              "[10886 rows x 17 columns]"
            ],
            "text/html": [
              "\n",
              "  <div id=\"df-56a1181f-ad46-474b-a6ea-d7502ccc4681\">\n",
              "    <div class=\"colab-df-container\">\n",
              "      <div>\n",
              "<style scoped>\n",
              "    .dataframe tbody tr th:only-of-type {\n",
              "        vertical-align: middle;\n",
              "    }\n",
              "\n",
              "    .dataframe tbody tr th {\n",
              "        vertical-align: top;\n",
              "    }\n",
              "\n",
              "    .dataframe thead th {\n",
              "        text-align: right;\n",
              "    }\n",
              "</style>\n",
              "<table border=\"1\" class=\"dataframe\">\n",
              "  <thead>\n",
              "    <tr style=\"text-align: right;\">\n",
              "      <th></th>\n",
              "      <th>datetime</th>\n",
              "      <th>season</th>\n",
              "      <th>holiday</th>\n",
              "      <th>workingday</th>\n",
              "      <th>weather</th>\n",
              "      <th>temp</th>\n",
              "      <th>atemp</th>\n",
              "      <th>humidity</th>\n",
              "      <th>windspeed</th>\n",
              "      <th>casual</th>\n",
              "      <th>registered</th>\n",
              "      <th>count</th>\n",
              "      <th>year</th>\n",
              "      <th>month</th>\n",
              "      <th>day</th>\n",
              "      <th>hour</th>\n",
              "      <th>dayofweek</th>\n",
              "    </tr>\n",
              "  </thead>\n",
              "  <tbody>\n",
              "    <tr>\n",
              "      <th>0</th>\n",
              "      <td>2011-01-01 00:00:00</td>\n",
              "      <td>1</td>\n",
              "      <td>0</td>\n",
              "      <td>0</td>\n",
              "      <td>1</td>\n",
              "      <td>9.84</td>\n",
              "      <td>14.395</td>\n",
              "      <td>81</td>\n",
              "      <td>0.0000</td>\n",
              "      <td>3</td>\n",
              "      <td>13</td>\n",
              "      <td>16</td>\n",
              "      <td>2011</td>\n",
              "      <td>1</td>\n",
              "      <td>1</td>\n",
              "      <td>0</td>\n",
              "      <td>5</td>\n",
              "    </tr>\n",
              "    <tr>\n",
              "      <th>1</th>\n",
              "      <td>2011-01-01 01:00:00</td>\n",
              "      <td>1</td>\n",
              "      <td>0</td>\n",
              "      <td>0</td>\n",
              "      <td>1</td>\n",
              "      <td>9.02</td>\n",
              "      <td>13.635</td>\n",
              "      <td>80</td>\n",
              "      <td>0.0000</td>\n",
              "      <td>8</td>\n",
              "      <td>32</td>\n",
              "      <td>40</td>\n",
              "      <td>2011</td>\n",
              "      <td>1</td>\n",
              "      <td>1</td>\n",
              "      <td>1</td>\n",
              "      <td>5</td>\n",
              "    </tr>\n",
              "    <tr>\n",
              "      <th>2</th>\n",
              "      <td>2011-01-01 02:00:00</td>\n",
              "      <td>1</td>\n",
              "      <td>0</td>\n",
              "      <td>0</td>\n",
              "      <td>1</td>\n",
              "      <td>9.02</td>\n",
              "      <td>13.635</td>\n",
              "      <td>80</td>\n",
              "      <td>0.0000</td>\n",
              "      <td>5</td>\n",
              "      <td>27</td>\n",
              "      <td>32</td>\n",
              "      <td>2011</td>\n",
              "      <td>1</td>\n",
              "      <td>1</td>\n",
              "      <td>2</td>\n",
              "      <td>5</td>\n",
              "    </tr>\n",
              "    <tr>\n",
              "      <th>3</th>\n",
              "      <td>2011-01-01 03:00:00</td>\n",
              "      <td>1</td>\n",
              "      <td>0</td>\n",
              "      <td>0</td>\n",
              "      <td>1</td>\n",
              "      <td>9.84</td>\n",
              "      <td>14.395</td>\n",
              "      <td>75</td>\n",
              "      <td>0.0000</td>\n",
              "      <td>3</td>\n",
              "      <td>10</td>\n",
              "      <td>13</td>\n",
              "      <td>2011</td>\n",
              "      <td>1</td>\n",
              "      <td>1</td>\n",
              "      <td>3</td>\n",
              "      <td>5</td>\n",
              "    </tr>\n",
              "    <tr>\n",
              "      <th>4</th>\n",
              "      <td>2011-01-01 04:00:00</td>\n",
              "      <td>1</td>\n",
              "      <td>0</td>\n",
              "      <td>0</td>\n",
              "      <td>1</td>\n",
              "      <td>9.84</td>\n",
              "      <td>14.395</td>\n",
              "      <td>75</td>\n",
              "      <td>0.0000</td>\n",
              "      <td>0</td>\n",
              "      <td>1</td>\n",
              "      <td>1</td>\n",
              "      <td>2011</td>\n",
              "      <td>1</td>\n",
              "      <td>1</td>\n",
              "      <td>4</td>\n",
              "      <td>5</td>\n",
              "    </tr>\n",
              "    <tr>\n",
              "      <th>...</th>\n",
              "      <td>...</td>\n",
              "      <td>...</td>\n",
              "      <td>...</td>\n",
              "      <td>...</td>\n",
              "      <td>...</td>\n",
              "      <td>...</td>\n",
              "      <td>...</td>\n",
              "      <td>...</td>\n",
              "      <td>...</td>\n",
              "      <td>...</td>\n",
              "      <td>...</td>\n",
              "      <td>...</td>\n",
              "      <td>...</td>\n",
              "      <td>...</td>\n",
              "      <td>...</td>\n",
              "      <td>...</td>\n",
              "      <td>...</td>\n",
              "    </tr>\n",
              "    <tr>\n",
              "      <th>10881</th>\n",
              "      <td>2012-12-19 19:00:00</td>\n",
              "      <td>4</td>\n",
              "      <td>0</td>\n",
              "      <td>1</td>\n",
              "      <td>1</td>\n",
              "      <td>15.58</td>\n",
              "      <td>19.695</td>\n",
              "      <td>50</td>\n",
              "      <td>26.0027</td>\n",
              "      <td>7</td>\n",
              "      <td>329</td>\n",
              "      <td>336</td>\n",
              "      <td>2012</td>\n",
              "      <td>12</td>\n",
              "      <td>19</td>\n",
              "      <td>19</td>\n",
              "      <td>2</td>\n",
              "    </tr>\n",
              "    <tr>\n",
              "      <th>10882</th>\n",
              "      <td>2012-12-19 20:00:00</td>\n",
              "      <td>4</td>\n",
              "      <td>0</td>\n",
              "      <td>1</td>\n",
              "      <td>1</td>\n",
              "      <td>14.76</td>\n",
              "      <td>17.425</td>\n",
              "      <td>57</td>\n",
              "      <td>15.0013</td>\n",
              "      <td>10</td>\n",
              "      <td>231</td>\n",
              "      <td>241</td>\n",
              "      <td>2012</td>\n",
              "      <td>12</td>\n",
              "      <td>19</td>\n",
              "      <td>20</td>\n",
              "      <td>2</td>\n",
              "    </tr>\n",
              "    <tr>\n",
              "      <th>10883</th>\n",
              "      <td>2012-12-19 21:00:00</td>\n",
              "      <td>4</td>\n",
              "      <td>0</td>\n",
              "      <td>1</td>\n",
              "      <td>1</td>\n",
              "      <td>13.94</td>\n",
              "      <td>15.910</td>\n",
              "      <td>61</td>\n",
              "      <td>15.0013</td>\n",
              "      <td>4</td>\n",
              "      <td>164</td>\n",
              "      <td>168</td>\n",
              "      <td>2012</td>\n",
              "      <td>12</td>\n",
              "      <td>19</td>\n",
              "      <td>21</td>\n",
              "      <td>2</td>\n",
              "    </tr>\n",
              "    <tr>\n",
              "      <th>10884</th>\n",
              "      <td>2012-12-19 22:00:00</td>\n",
              "      <td>4</td>\n",
              "      <td>0</td>\n",
              "      <td>1</td>\n",
              "      <td>1</td>\n",
              "      <td>13.94</td>\n",
              "      <td>17.425</td>\n",
              "      <td>61</td>\n",
              "      <td>6.0032</td>\n",
              "      <td>12</td>\n",
              "      <td>117</td>\n",
              "      <td>129</td>\n",
              "      <td>2012</td>\n",
              "      <td>12</td>\n",
              "      <td>19</td>\n",
              "      <td>22</td>\n",
              "      <td>2</td>\n",
              "    </tr>\n",
              "    <tr>\n",
              "      <th>10885</th>\n",
              "      <td>2012-12-19 23:00:00</td>\n",
              "      <td>4</td>\n",
              "      <td>0</td>\n",
              "      <td>1</td>\n",
              "      <td>1</td>\n",
              "      <td>13.12</td>\n",
              "      <td>16.665</td>\n",
              "      <td>66</td>\n",
              "      <td>8.9981</td>\n",
              "      <td>4</td>\n",
              "      <td>84</td>\n",
              "      <td>88</td>\n",
              "      <td>2012</td>\n",
              "      <td>12</td>\n",
              "      <td>19</td>\n",
              "      <td>23</td>\n",
              "      <td>2</td>\n",
              "    </tr>\n",
              "  </tbody>\n",
              "</table>\n",
              "<p>10886 rows × 17 columns</p>\n",
              "</div>\n",
              "      <button class=\"colab-df-convert\" onclick=\"convertToInteractive('df-56a1181f-ad46-474b-a6ea-d7502ccc4681')\"\n",
              "              title=\"Convert this dataframe to an interactive table.\"\n",
              "              style=\"display:none;\">\n",
              "        \n",
              "  <svg xmlns=\"http://www.w3.org/2000/svg\" height=\"24px\"viewBox=\"0 0 24 24\"\n",
              "       width=\"24px\">\n",
              "    <path d=\"M0 0h24v24H0V0z\" fill=\"none\"/>\n",
              "    <path d=\"M18.56 5.44l.94 2.06.94-2.06 2.06-.94-2.06-.94-.94-2.06-.94 2.06-2.06.94zm-11 1L8.5 8.5l.94-2.06 2.06-.94-2.06-.94L8.5 2.5l-.94 2.06-2.06.94zm10 10l.94 2.06.94-2.06 2.06-.94-2.06-.94-.94-2.06-.94 2.06-2.06.94z\"/><path d=\"M17.41 7.96l-1.37-1.37c-.4-.4-.92-.59-1.43-.59-.52 0-1.04.2-1.43.59L10.3 9.45l-7.72 7.72c-.78.78-.78 2.05 0 2.83L4 21.41c.39.39.9.59 1.41.59.51 0 1.02-.2 1.41-.59l7.78-7.78 2.81-2.81c.8-.78.8-2.07 0-2.86zM5.41 20L4 18.59l7.72-7.72 1.47 1.35L5.41 20z\"/>\n",
              "  </svg>\n",
              "      </button>\n",
              "      \n",
              "  <style>\n",
              "    .colab-df-container {\n",
              "      display:flex;\n",
              "      flex-wrap:wrap;\n",
              "      gap: 12px;\n",
              "    }\n",
              "\n",
              "    .colab-df-convert {\n",
              "      background-color: #E8F0FE;\n",
              "      border: none;\n",
              "      border-radius: 50%;\n",
              "      cursor: pointer;\n",
              "      display: none;\n",
              "      fill: #1967D2;\n",
              "      height: 32px;\n",
              "      padding: 0 0 0 0;\n",
              "      width: 32px;\n",
              "    }\n",
              "\n",
              "    .colab-df-convert:hover {\n",
              "      background-color: #E2EBFA;\n",
              "      box-shadow: 0px 1px 2px rgba(60, 64, 67, 0.3), 0px 1px 3px 1px rgba(60, 64, 67, 0.15);\n",
              "      fill: #174EA6;\n",
              "    }\n",
              "\n",
              "    [theme=dark] .colab-df-convert {\n",
              "      background-color: #3B4455;\n",
              "      fill: #D2E3FC;\n",
              "    }\n",
              "\n",
              "    [theme=dark] .colab-df-convert:hover {\n",
              "      background-color: #434B5C;\n",
              "      box-shadow: 0px 1px 3px 1px rgba(0, 0, 0, 0.15);\n",
              "      filter: drop-shadow(0px 1px 2px rgba(0, 0, 0, 0.3));\n",
              "      fill: #FFFFFF;\n",
              "    }\n",
              "  </style>\n",
              "\n",
              "      <script>\n",
              "        const buttonEl =\n",
              "          document.querySelector('#df-56a1181f-ad46-474b-a6ea-d7502ccc4681 button.colab-df-convert');\n",
              "        buttonEl.style.display =\n",
              "          google.colab.kernel.accessAllowed ? 'block' : 'none';\n",
              "\n",
              "        async function convertToInteractive(key) {\n",
              "          const element = document.querySelector('#df-56a1181f-ad46-474b-a6ea-d7502ccc4681');\n",
              "          const dataTable =\n",
              "            await google.colab.kernel.invokeFunction('convertToInteractive',\n",
              "                                                     [key], {});\n",
              "          if (!dataTable) return;\n",
              "\n",
              "          const docLinkHtml = 'Like what you see? Visit the ' +\n",
              "            '<a target=\"_blank\" href=https://colab.research.google.com/notebooks/data_table.ipynb>data table notebook</a>'\n",
              "            + ' to learn more about interactive tables.';\n",
              "          element.innerHTML = '';\n",
              "          dataTable['output_type'] = 'display_data';\n",
              "          await google.colab.output.renderOutput(dataTable, element);\n",
              "          const docLink = document.createElement('div');\n",
              "          docLink.innerHTML = docLinkHtml;\n",
              "          element.appendChild(docLink);\n",
              "        }\n",
              "      </script>\n",
              "    </div>\n",
              "  </div>\n",
              "  "
            ]
          },
          "metadata": {},
          "execution_count": 10
        }
      ]
    },
    {
      "cell_type": "code",
      "source": [
        "# 연도별 대여 수량\n",
        "sns.barplot(x = 'year', y='count', data = bike)"
      ],
      "metadata": {
        "colab": {
          "base_uri": "https://localhost:8080/",
          "height": 297
        },
        "id": "p2PdlnUNGVbh",
        "outputId": "3caef5f8-32ed-4f5d-9499-f5de531e578a"
      },
      "id": "p2PdlnUNGVbh",
      "execution_count": 11,
      "outputs": [
        {
          "output_type": "execute_result",
          "data": {
            "text/plain": [
              "<matplotlib.axes._subplots.AxesSubplot at 0x7f4e03523790>"
            ]
          },
          "metadata": {},
          "execution_count": 11
        },
        {
          "output_type": "display_data",
          "data": {
            "text/plain": [
              "<Figure size 432x288 with 1 Axes>"
            ],
            "image/png": "[encoded data removed]"
          },
          "metadata": {
            "needs_background": "light"
          }
        }
      ]
    },
    {
      "cell_type": "code",
      "source": [
        "# 월별 대여 수량\n",
        "sns.barplot(x = 'month', y='count', data = bike)\n",
        "# 겨울보다 여름에 대여수량이 많음"
      ],
      "metadata": {
        "colab": {
          "base_uri": "https://localhost:8080/",
          "height": 297
        },
        "id": "OQseN3_PGWbK",
        "outputId": "88f118e8-3525-4349-d3d7-36e6daef1088"
      },
      "id": "OQseN3_PGWbK",
      "execution_count": 12,
      "outputs": [
        {
          "output_type": "execute_result",
          "data": {
            "text/plain": [
              "<matplotlib.axes._subplots.AxesSubplot at 0x7f4e0349d9d0>"
            ]
          },
          "metadata": {},
          "execution_count": 12
        },
        {
          "output_type": "display_data",
          "data": {
            "text/plain": [
              "<Figure size 432x288 with 1 Axes>"
            ],
            "image/png": "[encoded data removed]"
          },
          "metadata": {
            "needs_background": "light"
          }
        }
      ]
    },
    {
      "cell_type": "code",
      "source": [
        "# 기존 계절과 비교\n",
        "sns.barplot(x = 'season', y='count', data = bike)\n",
        "# 봄이 가장 적음"
      ],
      "metadata": {
        "colab": {
          "base_uri": "https://localhost:8080/",
          "height": 298
        },
        "id": "xHdwHY8ZHAOS",
        "outputId": "75a0b337-bcf8-428d-b026-fc29d33873d3"
      },
      "id": "xHdwHY8ZHAOS",
      "execution_count": 13,
      "outputs": [
        {
          "output_type": "execute_result",
          "data": {
            "text/plain": [
              "<matplotlib.axes._subplots.AxesSubplot at 0x7f4e02e98310>"
            ]
          },
          "metadata": {},
          "execution_count": 13
        },
        {
          "output_type": "display_data",
          "data": {
            "text/plain": [
              "<Figure size 432x288 with 1 Axes>"
            ],
            "image/png": "[encoded data removed]"
          },
          "metadata": {
            "needs_background": "light"
          }
        }
      ]
    },
    {
      "cell_type": "code",
      "source": [
        "# (봄 : 1, 여름 : 2, 가을 : 3, 겨울 : 4) -> 1: 1,2,3월 , 2: 4,5,6월 , 3: 7,8,9월 , 4 : 10,11,12 월인것같아 season과 월 비교\n",
        "pd.crosstab(bike['season'], bike['month'])"
      ],
      "metadata": {
        "colab": {
          "base_uri": "https://localhost:8080/",
          "height": 206
        },
        "id": "v-a-YxdHHBFR",
        "outputId": "d0ba5296-3ced-4be9-c4a0-d1c146d377f4"
      },
      "id": "v-a-YxdHHBFR",
      "execution_count": 14,
      "outputs": [
        {
          "output_type": "execute_result",
          "data": {
            "text/plain": [
              "month    1    2    3    4    5    6    7    8    9    10   11   12\n",
              "season                                                            \n",
              "1       884  901  901    0    0    0    0    0    0    0    0    0\n",
              "2         0    0    0  909  912  912    0    0    0    0    0    0\n",
              "3         0    0    0    0    0    0  912  912  909    0    0    0\n",
              "4         0    0    0    0    0    0    0    0    0  911  911  912"
            ],
            "text/html": [
              "\n",
              "  <div id=\"df-569d7b0c-211c-45be-8bdb-18827286b1aa\">\n",
              "    <div class=\"colab-df-container\">\n",
              "      <div>\n",
              "<style scoped>\n",
              "    .dataframe tbody tr th:only-of-type {\n",
              "        vertical-align: middle;\n",
              "    }\n",
              "\n",
              "    .dataframe tbody tr th {\n",
              "        vertical-align: top;\n",
              "    }\n",
              "\n",
              "    .dataframe thead th {\n",
              "        text-align: right;\n",
              "    }\n",
              "</style>\n",
              "<table border=\"1\" class=\"dataframe\">\n",
              "  <thead>\n",
              "    <tr style=\"text-align: right;\">\n",
              "      <th>month</th>\n",
              "      <th>1</th>\n",
              "      <th>2</th>\n",
              "      <th>3</th>\n",
              "      <th>4</th>\n",
              "      <th>5</th>\n",
              "      <th>6</th>\n",
              "      <th>7</th>\n",
              "      <th>8</th>\n",
              "      <th>9</th>\n",
              "      <th>10</th>\n",
              "      <th>11</th>\n",
              "      <th>12</th>\n",
              "    </tr>\n",
              "    <tr>\n",
              "      <th>season</th>\n",
              "      <th></th>\n",
              "      <th></th>\n",
              "      <th></th>\n",
              "      <th></th>\n",
              "      <th></th>\n",
              "      <th></th>\n",
              "      <th></th>\n",
              "      <th></th>\n",
              "      <th></th>\n",
              "      <th></th>\n",
              "      <th></th>\n",
              "      <th></th>\n",
              "    </tr>\n",
              "  </thead>\n",
              "  <tbody>\n",
              "    <tr>\n",
              "      <th>1</th>\n",
              "      <td>884</td>\n",
              "      <td>901</td>\n",
              "      <td>901</td>\n",
              "      <td>0</td>\n",
              "      <td>0</td>\n",
              "      <td>0</td>\n",
              "      <td>0</td>\n",
              "      <td>0</td>\n",
              "      <td>0</td>\n",
              "      <td>0</td>\n",
              "      <td>0</td>\n",
              "      <td>0</td>\n",
              "    </tr>\n",
              "    <tr>\n",
              "      <th>2</th>\n",
              "      <td>0</td>\n",
              "      <td>0</td>\n",
              "      <td>0</td>\n",
              "      <td>909</td>\n",
              "      <td>912</td>\n",
              "      <td>912</td>\n",
              "      <td>0</td>\n",
              "      <td>0</td>\n",
              "      <td>0</td>\n",
              "      <td>0</td>\n",
              "      <td>0</td>\n",
              "      <td>0</td>\n",
              "    </tr>\n",
              "    <tr>\n",
              "      <th>3</th>\n",
              "      <td>0</td>\n",
              "      <td>0</td>\n",
              "      <td>0</td>\n",
              "      <td>0</td>\n",
              "      <td>0</td>\n",
              "      <td>0</td>\n",
              "      <td>912</td>\n",
              "      <td>912</td>\n",
              "      <td>909</td>\n",
              "      <td>0</td>\n",
              "      <td>0</td>\n",
              "      <td>0</td>\n",
              "    </tr>\n",
              "    <tr>\n",
              "      <th>4</th>\n",
              "      <td>0</td>\n",
              "      <td>0</td>\n",
              "      <td>0</td>\n",
              "      <td>0</td>\n",
              "      <td>0</td>\n",
              "      <td>0</td>\n",
              "      <td>0</td>\n",
              "      <td>0</td>\n",
              "      <td>0</td>\n",
              "      <td>911</td>\n",
              "      <td>911</td>\n",
              "      <td>912</td>\n",
              "    </tr>\n",
              "  </tbody>\n",
              "</table>\n",
              "</div>\n",
              "      <button class=\"colab-df-convert\" onclick=\"convertToInteractive('df-569d7b0c-211c-45be-8bdb-18827286b1aa')\"\n",
              "              title=\"Convert this dataframe to an interactive table.\"\n",
              "              style=\"display:none;\">\n",
              "        \n",
              "  <svg xmlns=\"http://www.w3.org/2000/svg\" height=\"24px\"viewBox=\"0 0 24 24\"\n",
              "       width=\"24px\">\n",
              "    <path d=\"M0 0h24v24H0V0z\" fill=\"none\"/>\n",
              "    <path d=\"M18.56 5.44l.94 2.06.94-2.06 2.06-.94-2.06-.94-.94-2.06-.94 2.06-2.06.94zm-11 1L8.5 8.5l.94-2.06 2.06-.94-2.06-.94L8.5 2.5l-.94 2.06-2.06.94zm10 10l.94 2.06.94-2.06 2.06-.94-2.06-.94-.94-2.06-.94 2.06-2.06.94z\"/><path d=\"M17.41 7.96l-1.37-1.37c-.4-.4-.92-.59-1.43-.59-.52 0-1.04.2-1.43.59L10.3 9.45l-7.72 7.72c-.78.78-.78 2.05 0 2.83L4 21.41c.39.39.9.59 1.41.59.51 0 1.02-.2 1.41-.59l7.78-7.78 2.81-2.81c.8-.78.8-2.07 0-2.86zM5.41 20L4 18.59l7.72-7.72 1.47 1.35L5.41 20z\"/>\n",
              "  </svg>\n",
              "      </button>\n",
              "      \n",
              "  <style>\n",
              "    .colab-df-container {\n",
              "      display:flex;\n",
              "      flex-wrap:wrap;\n",
              "      gap: 12px;\n",
              "    }\n",
              "\n",
              "    .colab-df-convert {\n",
              "      background-color: #E8F0FE;\n",
              "      border: none;\n",
              "      border-radius: 50%;\n",
              "      cursor: pointer;\n",
              "      display: none;\n",
              "      fill: #1967D2;\n",
              "      height: 32px;\n",
              "      padding: 0 0 0 0;\n",
              "      width: 32px;\n",
              "    }\n",
              "\n",
              "    .colab-df-convert:hover {\n",
              "      background-color: #E2EBFA;\n",
              "      box-shadow: 0px 1px 2px rgba(60, 64, 67, 0.3), 0px 1px 3px 1px rgba(60, 64, 67, 0.15);\n",
              "      fill: #174EA6;\n",
              "    }\n",
              "\n",
              "    [theme=dark] .colab-df-convert {\n",
              "      background-color: #3B4455;\n",
              "      fill: #D2E3FC;\n",
              "    }\n",
              "\n",
              "    [theme=dark] .colab-df-convert:hover {\n",
              "      background-color: #434B5C;\n",
              "      box-shadow: 0px 1px 3px 1px rgba(0, 0, 0, 0.15);\n",
              "      filter: drop-shadow(0px 1px 2px rgba(0, 0, 0, 0.3));\n",
              "      fill: #FFFFFF;\n",
              "    }\n",
              "  </style>\n",
              "\n",
              "      <script>\n",
              "        const buttonEl =\n",
              "          document.querySelector('#df-569d7b0c-211c-45be-8bdb-18827286b1aa button.colab-df-convert');\n",
              "        buttonEl.style.display =\n",
              "          google.colab.kernel.accessAllowed ? 'block' : 'none';\n",
              "\n",
              "        async function convertToInteractive(key) {\n",
              "          const element = document.querySelector('#df-569d7b0c-211c-45be-8bdb-18827286b1aa');\n",
              "          const dataTable =\n",
              "            await google.colab.kernel.invokeFunction('convertToInteractive',\n",
              "                                                     [key], {});\n",
              "          if (!dataTable) return;\n",
              "\n",
              "          const docLinkHtml = 'Like what you see? Visit the ' +\n",
              "            '<a target=\"_blank\" href=https://colab.research.google.com/notebooks/data_table.ipynb>data table notebook</a>'\n",
              "            + ' to learn more about interactive tables.';\n",
              "          element.innerHTML = '';\n",
              "          dataTable['output_type'] = 'display_data';\n",
              "          await google.colab.output.renderOutput(dataTable, element);\n",
              "          const docLink = document.createElement('div');\n",
              "          docLink.innerHTML = docLinkHtml;\n",
              "          element.appendChild(docLink);\n",
              "        }\n",
              "      </script>\n",
              "    </div>\n",
              "  </div>\n",
              "  "
            ]
          },
          "metadata": {},
          "execution_count": 14
        }
      ]
    },
    {
      "cell_type": "code",
      "source": [
        "# 일별 대여 수량\n",
        "sns.barplot(x = 'day', y='count', data = bike)\n",
        "# 1~19일까지만 있음, 일별로 큰 차이는 없어보임"
      ],
      "metadata": {
        "colab": {
          "base_uri": "https://localhost:8080/",
          "height": 297
        },
        "id": "ne_FGq_jHB8S",
        "outputId": "503b8d27-a14d-4341-fde4-4afa35cd6f3f"
      },
      "id": "ne_FGq_jHB8S",
      "execution_count": 15,
      "outputs": [
        {
          "output_type": "execute_result",
          "data": {
            "text/plain": [
              "<matplotlib.axes._subplots.AxesSubplot at 0x7f4e0349d590>"
            ]
          },
          "metadata": {},
          "execution_count": 15
        },
        {
          "output_type": "display_data",
          "data": {
            "text/plain": [
              "<Figure size 432x288 with 1 Axes>"
            ],
            "image/png": "[encoded data removed]"
          },
          "metadata": {
            "needs_background": "light"
          }
        }
      ]
    },
    {
      "cell_type": "code",
      "source": [
        "# 시간별 대여 수량\n",
        "sns.barplot(x = 'hour', y='count', data = bike)\n",
        "# 새벽엔 없고, 출퇴근시간에 많음 (오전 8시, 17~18시)"
      ],
      "metadata": {
        "colab": {
          "base_uri": "https://localhost:8080/",
          "height": 297
        },
        "id": "gU3hzhgwHC_e",
        "outputId": "b22140a0-6928-458b-d9a9-47d2b4728436"
      },
      "id": "gU3hzhgwHC_e",
      "execution_count": 16,
      "outputs": [
        {
          "output_type": "execute_result",
          "data": {
            "text/plain": [
              "<matplotlib.axes._subplots.AxesSubplot at 0x7f4e02cc7490>"
            ]
          },
          "metadata": {},
          "execution_count": 16
        },
        {
          "output_type": "display_data",
          "data": {
            "text/plain": [
              "<Figure size 432x288 with 1 Axes>"
            ],
            "image/png": "[encoded data removed]"
          },
          "metadata": {
            "needs_background": "light"
          }
        }
      ]
    },
    {
      "cell_type": "code",
      "source": [
        "# 요일별 대여 수량\n",
        "sns.barplot(x = 'dayofweek', y='count', data = bike)\n",
        "# 0 : 월요일 ~ 6 : 일요일, 일요일이 가장 적지만 큰 차이는 없어보임"
      ],
      "metadata": {
        "colab": {
          "base_uri": "https://localhost:8080/",
          "height": 297
        },
        "id": "10zy2HeKHD0u",
        "outputId": "b603c4b9-628e-44f2-e61a-c77984b1b6e1"
      },
      "id": "10zy2HeKHD0u",
      "execution_count": 17,
      "outputs": [
        {
          "output_type": "execute_result",
          "data": {
            "text/plain": [
              "<matplotlib.axes._subplots.AxesSubplot at 0x7f4e0341b9d0>"
            ]
          },
          "metadata": {},
          "execution_count": 17
        },
        {
          "output_type": "display_data",
          "data": {
            "text/plain": [
              "<Figure size 432x288 with 1 Axes>"
            ],
            "image/png": "[encoded data removed]"
          },
          "metadata": {
            "needs_background": "light"
          }
        }
      ]
    },
    {
      "cell_type": "code",
      "source": [
        "# 공휴일 여부에 따른 대여 수량\n",
        "sns.barplot(x = 'holiday', y='count', data = bike)"
      ],
      "metadata": {
        "colab": {
          "base_uri": "https://localhost:8080/",
          "height": 297
        },
        "id": "c3B4WHgWHE10",
        "outputId": "b0509001-16aa-498f-8b54-b50cb243baf2"
      },
      "id": "c3B4WHgWHE10",
      "execution_count": 18,
      "outputs": [
        {
          "output_type": "execute_result",
          "data": {
            "text/plain": [
              "<matplotlib.axes._subplots.AxesSubplot at 0x7f4e02afdd10>"
            ]
          },
          "metadata": {},
          "execution_count": 18
        },
        {
          "output_type": "display_data",
          "data": {
            "text/plain": [
              "<Figure size 432x288 with 1 Axes>"
            ],
            "image/png": "[encoded data removed]"
          },
          "metadata": {
            "needs_background": "light"
          }
        }
      ]
    },
    {
      "cell_type": "code",
      "source": [
        "# 근무일 여부에 따른 대여 수량\n",
        "sns.barplot(x = 'workingday', y='count', data = bike)\n",
        "# 둘다 큰 차이 없어보임"
      ],
      "metadata": {
        "colab": {
          "base_uri": "https://localhost:8080/",
          "height": 297
        },
        "id": "LKoTj-DnHFpU",
        "outputId": "ff37655c-c357-47f4-bdd3-c1da2be7a070"
      },
      "id": "LKoTj-DnHFpU",
      "execution_count": 19,
      "outputs": [
        {
          "output_type": "execute_result",
          "data": {
            "text/plain": [
              "<matplotlib.axes._subplots.AxesSubplot at 0x7f4e02aebb50>"
            ]
          },
          "metadata": {},
          "execution_count": 19
        },
        {
          "output_type": "display_data",
          "data": {
            "text/plain": [
              "<Figure size 432x288 with 1 Axes>"
            ],
            "image/png": "[encoded data removed]"
          },
          "metadata": {
            "needs_background": "light"
          }
        }
      ]
    },
    {
      "cell_type": "code",
      "source": [
        "# 시간과 근무 여부에 따른 차이 비교\n",
        "import matplotlib.pyplot as plt\n",
        "plt.figure(figsize=(15,5))\n",
        "sns.pointplot(x = 'hour', y='count', hue='workingday', data = bike) # 근무여부와 비교\n",
        "# 근무일과 아닐때 시간대가 다름"
      ],
      "metadata": {
        "colab": {
          "base_uri": "https://localhost:8080/",
          "height": 352
        },
        "id": "neLTSBmKHGbD",
        "outputId": "05ec1e2d-26bb-465d-fdfd-6c2ad312ae55"
      },
      "id": "neLTSBmKHGbD",
      "execution_count": 21,
      "outputs": [
        {
          "output_type": "execute_result",
          "data": {
            "text/plain": [
              "<matplotlib.axes._subplots.AxesSubplot at 0x7f4e02cbd1d0>"
            ]
          },
          "metadata": {},
          "execution_count": 21
        },
        {
          "output_type": "display_data",
          "data": {
            "text/plain": [
              "<Figure size 1080x360 with 1 Axes>"
            ],
            "image/png": "[encoded data removed]"
          },
          "metadata": {
            "needs_background": "light"
          }
        }
      ]
    },
    {
      "cell_type": "code",
      "source": [
        "# 날씨별 대여 수량\n",
        "sns.countplot(x = 'weather', data = bike)"
      ],
      "metadata": {
        "colab": {
          "base_uri": "https://localhost:8080/",
          "height": 297
        },
        "id": "benLJnl8HIP0",
        "outputId": "fe1f378a-bb82-4ce2-a650-a5896a44c465"
      },
      "id": "benLJnl8HIP0",
      "execution_count": 22,
      "outputs": [
        {
          "output_type": "execute_result",
          "data": {
            "text/plain": [
              "<matplotlib.axes._subplots.AxesSubplot at 0x7f4e02a6b4d0>"
            ]
          },
          "metadata": {},
          "execution_count": 22
        },
        {
          "output_type": "display_data",
          "data": {
            "text/plain": [
              "<Figure size 432x288 with 1 Axes>"
            ],
            "image/png": "[encoded data removed]"
          },
          "metadata": {
            "needs_background": "light"
          }
        }
      ]
    },
    {
      "cell_type": "code",
      "source": [
        "# 풍속 컬럼\n",
        "plt.figure(figsize=(17, 5))\n",
        "sns.countplot(data = bike, x='windspeed')"
      ],
      "metadata": {
        "colab": {
          "base_uri": "https://localhost:8080/",
          "height": 352
        },
        "id": "VjHGMeJ-HNiF",
        "outputId": "359c6a53-1ed7-4938-a59e-71626636393a"
      },
      "id": "VjHGMeJ-HNiF",
      "execution_count": 23,
      "outputs": [
        {
          "output_type": "execute_result",
          "data": {
            "text/plain": [
              "<matplotlib.axes._subplots.AxesSubplot at 0x7f4e02cd8090>"
            ]
          },
          "metadata": {},
          "execution_count": 23
        },
        {
          "output_type": "display_data",
          "data": {
            "text/plain": [
              "<Figure size 1224x360 with 1 Axes>"
            ],
            "image/png": "[encoded data removed]"
          },
          "metadata": {
            "needs_background": "light"
          }
        }
      ]
    },
    {
      "cell_type": "code",
      "source": [
        "corr_bike = bike[['temp', 'atemp', 'humidity', 'windspeed','casual','registered', 'count']].corr()\n",
        "corr_bike"
      ],
      "metadata": {
        "colab": {
          "base_uri": "https://localhost:8080/",
          "height": 269
        },
        "id": "FIp2M_LhHQE5",
        "outputId": "84deeba2-dceb-4813-e99f-6d57eac0d467"
      },
      "id": "FIp2M_LhHQE5",
      "execution_count": 24,
      "outputs": [
        {
          "output_type": "execute_result",
          "data": {
            "text/plain": [
              "                temp     atemp  humidity  windspeed    casual  registered  \\\n",
              "temp        1.000000  0.984948 -0.064949  -0.017852  0.467097    0.318571   \n",
              "atemp       0.984948  1.000000 -0.043536  -0.057473  0.462067    0.314635   \n",
              "humidity   -0.064949 -0.043536  1.000000  -0.318607 -0.348187   -0.265458   \n",
              "windspeed  -0.017852 -0.057473 -0.318607   1.000000  0.092276    0.091052   \n",
              "casual      0.467097  0.462067 -0.348187   0.092276  1.000000    0.497250   \n",
              "registered  0.318571  0.314635 -0.265458   0.091052  0.497250    1.000000   \n",
              "count       0.394454  0.389784 -0.317371   0.101369  0.690414    0.970948   \n",
              "\n",
              "               count  \n",
              "temp        0.394454  \n",
              "atemp       0.389784  \n",
              "humidity   -0.317371  \n",
              "windspeed   0.101369  \n",
              "casual      0.690414  \n",
              "registered  0.970948  \n",
              "count       1.000000  "
            ],
            "text/html": [
              "\n",
              "  <div id=\"df-f371a233-d5b8-414e-a286-40c5e07bdc7b\">\n",
              "    <div class=\"colab-df-container\">\n",
              "      <div>\n",
              "<style scoped>\n",
              "    .dataframe tbody tr th:only-of-type {\n",
              "        vertical-align: middle;\n",
              "    }\n",
              "\n",
              "    .dataframe tbody tr th {\n",
              "        vertical-align: top;\n",
              "    }\n",
              "\n",
              "    .dataframe thead th {\n",
              "        text-align: right;\n",
              "    }\n",
              "</style>\n",
              "<table border=\"1\" class=\"dataframe\">\n",
              "  <thead>\n",
              "    <tr style=\"text-align: right;\">\n",
              "      <th></th>\n",
              "      <th>temp</th>\n",
              "      <th>atemp</th>\n",
              "      <th>humidity</th>\n",
              "      <th>windspeed</th>\n",
              "      <th>casual</th>\n",
              "      <th>registered</th>\n",
              "      <th>count</th>\n",
              "    </tr>\n",
              "  </thead>\n",
              "  <tbody>\n",
              "    <tr>\n",
              "      <th>temp</th>\n",
              "      <td>1.000000</td>\n",
              "      <td>0.984948</td>\n",
              "      <td>-0.064949</td>\n",
              "      <td>-0.017852</td>\n",
              "      <td>0.467097</td>\n",
              "      <td>0.318571</td>\n",
              "      <td>0.394454</td>\n",
              "    </tr>\n",
              "    <tr>\n",
              "      <th>atemp</th>\n",
              "      <td>0.984948</td>\n",
              "      <td>1.000000</td>\n",
              "      <td>-0.043536</td>\n",
              "      <td>-0.057473</td>\n",
              "      <td>0.462067</td>\n",
              "      <td>0.314635</td>\n",
              "      <td>0.389784</td>\n",
              "    </tr>\n",
              "    <tr>\n",
              "      <th>humidity</th>\n",
              "      <td>-0.064949</td>\n",
              "      <td>-0.043536</td>\n",
              "      <td>1.000000</td>\n",
              "      <td>-0.318607</td>\n",
              "      <td>-0.348187</td>\n",
              "      <td>-0.265458</td>\n",
              "      <td>-0.317371</td>\n",
              "    </tr>\n",
              "    <tr>\n",
              "      <th>windspeed</th>\n",
              "      <td>-0.017852</td>\n",
              "      <td>-0.057473</td>\n",
              "      <td>-0.318607</td>\n",
              "      <td>1.000000</td>\n",
              "      <td>0.092276</td>\n",
              "      <td>0.091052</td>\n",
              "      <td>0.101369</td>\n",
              "    </tr>\n",
              "    <tr>\n",
              "      <th>casual</th>\n",
              "      <td>0.467097</td>\n",
              "      <td>0.462067</td>\n",
              "      <td>-0.348187</td>\n",
              "      <td>0.092276</td>\n",
              "      <td>1.000000</td>\n",
              "      <td>0.497250</td>\n",
              "      <td>0.690414</td>\n",
              "    </tr>\n",
              "    <tr>\n",
              "      <th>registered</th>\n",
              "      <td>0.318571</td>\n",
              "      <td>0.314635</td>\n",
              "      <td>-0.265458</td>\n",
              "      <td>0.091052</td>\n",
              "      <td>0.497250</td>\n",
              "      <td>1.000000</td>\n",
              "      <td>0.970948</td>\n",
              "    </tr>\n",
              "    <tr>\n",
              "      <th>count</th>\n",
              "      <td>0.394454</td>\n",
              "      <td>0.389784</td>\n",
              "      <td>-0.317371</td>\n",
              "      <td>0.101369</td>\n",
              "      <td>0.690414</td>\n",
              "      <td>0.970948</td>\n",
              "      <td>1.000000</td>\n",
              "    </tr>\n",
              "  </tbody>\n",
              "</table>\n",
              "</div>\n",
              "      <button class=\"colab-df-convert\" onclick=\"convertToInteractive('df-f371a233-d5b8-414e-a286-40c5e07bdc7b')\"\n",
              "              title=\"Convert this dataframe to an interactive table.\"\n",
              "              style=\"display:none;\">\n",
              "        \n",
              "  <svg xmlns=\"http://www.w3.org/2000/svg\" height=\"24px\"viewBox=\"0 0 24 24\"\n",
              "       width=\"24px\">\n",
              "    <path d=\"M0 0h24v24H0V0z\" fill=\"none\"/>\n",
              "    <path d=\"M18.56 5.44l.94 2.06.94-2.06 2.06-.94-2.06-.94-.94-2.06-.94 2.06-2.06.94zm-11 1L8.5 8.5l.94-2.06 2.06-.94-2.06-.94L8.5 2.5l-.94 2.06-2.06.94zm10 10l.94 2.06.94-2.06 2.06-.94-2.06-.94-.94-2.06-.94 2.06-2.06.94z\"/><path d=\"M17.41 7.96l-1.37-1.37c-.4-.4-.92-.59-1.43-.59-.52 0-1.04.2-1.43.59L10.3 9.45l-7.72 7.72c-.78.78-.78 2.05 0 2.83L4 21.41c.39.39.9.59 1.41.59.51 0 1.02-.2 1.41-.59l7.78-7.78 2.81-2.81c.8-.78.8-2.07 0-2.86zM5.41 20L4 18.59l7.72-7.72 1.47 1.35L5.41 20z\"/>\n",
              "  </svg>\n",
              "      </button>\n",
              "      \n",
              "  <style>\n",
              "    .colab-df-container {\n",
              "      display:flex;\n",
              "      flex-wrap:wrap;\n",
              "      gap: 12px;\n",
              "    }\n",
              "\n",
              "    .colab-df-convert {\n",
              "      background-color: #E8F0FE;\n",
              "      border: none;\n",
              "      border-radius: 50%;\n",
              "      cursor: pointer;\n",
              "      display: none;\n",
              "      fill: #1967D2;\n",
              "      height: 32px;\n",
              "      padding: 0 0 0 0;\n",
              "      width: 32px;\n",
              "    }\n",
              "\n",
              "    .colab-df-convert:hover {\n",
              "      background-color: #E2EBFA;\n",
              "      box-shadow: 0px 1px 2px rgba(60, 64, 67, 0.3), 0px 1px 3px 1px rgba(60, 64, 67, 0.15);\n",
              "      fill: #174EA6;\n",
              "    }\n",
              "\n",
              "    [theme=dark] .colab-df-convert {\n",
              "      background-color: #3B4455;\n",
              "      fill: #D2E3FC;\n",
              "    }\n",
              "\n",
              "    [theme=dark] .colab-df-convert:hover {\n",
              "      background-color: #434B5C;\n",
              "      box-shadow: 0px 1px 3px 1px rgba(0, 0, 0, 0.15);\n",
              "      filter: drop-shadow(0px 1px 2px rgba(0, 0, 0, 0.3));\n",
              "      fill: #FFFFFF;\n",
              "    }\n",
              "  </style>\n",
              "\n",
              "      <script>\n",
              "        const buttonEl =\n",
              "          document.querySelector('#df-f371a233-d5b8-414e-a286-40c5e07bdc7b button.colab-df-convert');\n",
              "        buttonEl.style.display =\n",
              "          google.colab.kernel.accessAllowed ? 'block' : 'none';\n",
              "\n",
              "        async function convertToInteractive(key) {\n",
              "          const element = document.querySelector('#df-f371a233-d5b8-414e-a286-40c5e07bdc7b');\n",
              "          const dataTable =\n",
              "            await google.colab.kernel.invokeFunction('convertToInteractive',\n",
              "                                                     [key], {});\n",
              "          if (!dataTable) return;\n",
              "\n",
              "          const docLinkHtml = 'Like what you see? Visit the ' +\n",
              "            '<a target=\"_blank\" href=https://colab.research.google.com/notebooks/data_table.ipynb>data table notebook</a>'\n",
              "            + ' to learn more about interactive tables.';\n",
              "          element.innerHTML = '';\n",
              "          dataTable['output_type'] = 'display_data';\n",
              "          await google.colab.output.renderOutput(dataTable, element);\n",
              "          const docLink = document.createElement('div');\n",
              "          docLink.innerHTML = docLinkHtml;\n",
              "          element.appendChild(docLink);\n",
              "        }\n",
              "      </script>\n",
              "    </div>\n",
              "  </div>\n",
              "  "
            ]
          },
          "metadata": {},
          "execution_count": 24
        }
      ]
    },
    {
      "cell_type": "code",
      "source": [
        "sns.heatmap(corr_bike, annot=True)\n",
        "# temp와 atemp 의 상관계수가 0.98로, 거의 같으므로 temp만 사용"
      ],
      "metadata": {
        "colab": {
          "base_uri": "https://localhost:8080/",
          "height": 331
        },
        "id": "_scyrMZgHQ6C",
        "outputId": "a2918466-39a2-4e05-a9f6-850c22d0b272"
      },
      "id": "_scyrMZgHQ6C",
      "execution_count": 25,
      "outputs": [
        {
          "output_type": "execute_result",
          "data": {
            "text/plain": [
              "<matplotlib.axes._subplots.AxesSubplot at 0x7f4e02b12610>"
            ]
          },
          "metadata": {},
          "execution_count": 25
        },
        {
          "output_type": "display_data",
          "data": {
            "text/plain": [
              "<Figure size 432x288 with 2 Axes>"
            ],
            "image/png": "[encoded data removed]"
          },
          "metadata": {
            "needs_background": "light"
          }
        }
      ]
    }
  ],
  "metadata": {
    "kernelspec": {
      "display_name": "Python 3 (ipykernel)",
      "language": "python",
      "name": "python3"
    },
    "language_info": {
      "codemirror_mode": {
        "name": "ipython",
        "version": 3
      },
      "file_extension": ".py",
      "mimetype": "text/x-python",
      "name": "python",
      "nbconvert_exporter": "python",
      "pygments_lexer": "ipython3",
      "version": "3.9.7"
    },
    "colab": {
      "provenance": [],
      "collapsed_sections": [],
      "include_colab_link": true
    }
  },
  "nbformat": 4,
  "nbformat_minor": 5
}