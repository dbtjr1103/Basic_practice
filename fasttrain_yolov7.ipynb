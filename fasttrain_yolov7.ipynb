{
  "cells": [
    {
      "cell_type": "markdown",
      "metadata": {
        "id": "view-in-github",
        "colab_type": "text"
      },
      "source": [
        "<a href=\"https://colab.research.google.com/github/dbtjr1103/Basic_practice/blob/main/fasttrain_yolov7.ipynb\" target=\"_parent\"><img src=\"https://colab.research.google.com/assets/colab-badge.svg\" alt=\"Open In Colab\"/></a>"
      ]
    },
    {
      "cell_type": "code",
      "source": [
        "pip install roboflow"
      ],
      "metadata": {
        "id": "CwGlWXkAvcGy",
        "colab": {
          "base_uri": "https://localhost:8080/",
          "height": 1000
        },
        "outputId": "f7c6c859-22e1-46c1-b3a9-8c42e519befd"
      },
      "execution_count": 1,
      "outputs": [
        {
          "output_type": "stream",
          "name": "stdout",
          "text": [
            "Looking in indexes: https://pypi.org/simple, https://us-python.pkg.dev/colab-wheels/public/simple/\n",
            "Collecting roboflow\n",
            "  Downloading roboflow-0.2.29-py3-none-any.whl (49 kB)\n",
            "\u001b[2K     \u001b[90m━━━━━━━━━━━━━━━━━━━━━━━━━━━━━━━━━━━━━━━━\u001b[0m \u001b[32m49.0/49.0 KB\u001b[0m \u001b[31m2.4 MB/s\u001b[0m eta \u001b[36m0:00:00\u001b[0m\n",
            "\u001b[?25hRequirement already satisfied: certifi==2022.12.7 in /usr/local/lib/python3.8/dist-packages (from roboflow) (2022.12.7)\n",
            "Requirement already satisfied: requests in /usr/local/lib/python3.8/dist-packages (from roboflow) (2.25.1)\n",
            "Collecting urllib3>=1.26.6\n",
            "  Downloading urllib3-1.26.14-py2.py3-none-any.whl (140 kB)\n",
            "\u001b[2K     \u001b[90m━━━━━━━━━━━━━━━━━━━━━━━━━━━━━━━━━━━━━━━\u001b[0m \u001b[32m140.6/140.6 KB\u001b[0m \u001b[31m7.2 MB/s\u001b[0m eta \u001b[36m0:00:00\u001b[0m\n",
            "\u001b[?25hCollecting requests-toolbelt\n",
            "  Downloading requests_toolbelt-0.10.1-py2.py3-none-any.whl (54 kB)\n",
            "\u001b[2K     \u001b[90m━━━━━━━━━━━━━━━━━━━━━━━━━━━━━━━━━━━━━━━━\u001b[0m \u001b[32m54.5/54.5 KB\u001b[0m \u001b[31m7.3 MB/s\u001b[0m eta \u001b[36m0:00:00\u001b[0m\n",
            "\u001b[?25hCollecting pyparsing==2.4.7\n",
            "  Downloading pyparsing-2.4.7-py2.py3-none-any.whl (67 kB)\n",
            "\u001b[2K     \u001b[90m━━━━━━━━━━━━━━━━━━━━━━━━━━━━━━━━━━━━━━━━\u001b[0m \u001b[32m67.8/67.8 KB\u001b[0m \u001b[31m5.1 MB/s\u001b[0m eta \u001b[36m0:00:00\u001b[0m\n",
            "\u001b[?25hRequirement already satisfied: kiwisolver>=1.3.1 in /usr/local/lib/python3.8/dist-packages (from roboflow) (1.4.4)\n",
            "Requirement already satisfied: chardet==4.0.0 in /usr/local/lib/python3.8/dist-packages (from roboflow) (4.0.0)\n",
            "Requirement already satisfied: idna==2.10 in /usr/local/lib/python3.8/dist-packages (from roboflow) (2.10)\n",
            "Collecting wget\n",
            "  Downloading wget-3.2.zip (10 kB)\n",
            "  Preparing metadata (setup.py) ... \u001b[?25l\u001b[?25hdone\n",
            "Requirement already satisfied: tqdm>=4.41.0 in /usr/local/lib/python3.8/dist-packages (from roboflow) (4.64.1)\n",
            "Requirement already satisfied: Pillow>=7.1.2 in /usr/local/lib/python3.8/dist-packages (from roboflow) (7.1.2)\n",
            "Requirement already satisfied: python-dateutil in /usr/local/lib/python3.8/dist-packages (from roboflow) (2.8.2)\n",
            "Requirement already satisfied: PyYAML>=5.3.1 in /usr/local/lib/python3.8/dist-packages (from roboflow) (6.0)\n",
            "Requirement already satisfied: six in /usr/local/lib/python3.8/dist-packages (from roboflow) (1.15.0)\n",
            "Requirement already satisfied: opencv-python>=4.1.2 in /usr/local/lib/python3.8/dist-packages (from roboflow) (4.6.0.66)\n",
            "Requirement already satisfied: matplotlib in /usr/local/lib/python3.8/dist-packages (from roboflow) (3.2.2)\n",
            "Collecting python-dotenv\n",
            "  Downloading python_dotenv-0.21.1-py3-none-any.whl (19 kB)\n",
            "Collecting cycler==0.10.0\n",
            "  Downloading cycler-0.10.0-py2.py3-none-any.whl (6.5 kB)\n",
            "Requirement already satisfied: numpy>=1.18.5 in /usr/local/lib/python3.8/dist-packages (from roboflow) (1.21.6)\n",
            "Building wheels for collected packages: wget\n",
            "  Building wheel for wget (setup.py) ... \u001b[?25l\u001b[?25hdone\n",
            "  Created wheel for wget: filename=wget-3.2-py3-none-any.whl size=9674 sha256=85497548b1a258dc3b75b0d387cfeb868db8c14002d5e1151f646ada0a7c6457\n",
            "  Stored in directory: /root/.cache/pip/wheels/bd/a8/c3/3cf2c14a1837a4e04bd98631724e81f33f462d86a1d895fae0\n",
            "Successfully built wget\n",
            "Installing collected packages: wget, urllib3, python-dotenv, pyparsing, cycler, requests-toolbelt, roboflow\n",
            "  Attempting uninstall: urllib3\n",
            "    Found existing installation: urllib3 1.24.3\n",
            "    Uninstalling urllib3-1.24.3:\n",
            "      Successfully uninstalled urllib3-1.24.3\n",
            "  Attempting uninstall: pyparsing\n",
            "    Found existing installation: pyparsing 3.0.9\n",
            "    Uninstalling pyparsing-3.0.9:\n",
            "      Successfully uninstalled pyparsing-3.0.9\n",
            "  Attempting uninstall: cycler\n",
            "    Found existing installation: cycler 0.11.0\n",
            "    Uninstalling cycler-0.11.0:\n",
            "      Successfully uninstalled cycler-0.11.0\n",
            "Successfully installed cycler-0.10.0 pyparsing-2.4.7 python-dotenv-0.21.1 requests-toolbelt-0.10.1 roboflow-0.2.29 urllib3-1.26.14 wget-3.2\n"
          ]
        },
        {
          "output_type": "display_data",
          "data": {
            "application/vnd.colab-display-data+json": {
              "pip_warning": {
                "packages": [
                  "cycler",
                  "pyparsing"
                ]
              }
            }
          },
          "metadata": {}
        }
      ]
    },
    {
      "cell_type": "code",
      "source": [
        "# Download YOLOv7 repository and install requirements\n",
        "!git clone https://github.com/WongKinYiu/yolov7"
      ],
      "metadata": {
        "colab": {
          "base_uri": "https://localhost:8080/"
        },
        "id": "v0eSjKFJSrZJ",
        "outputId": "8c565c32-e6b8-4e41-f67f-ca51e7258dc1"
      },
      "execution_count": 2,
      "outputs": [
        {
          "output_type": "stream",
          "name": "stdout",
          "text": [
            "Cloning into 'yolov7'...\n",
            "remote: Enumerating objects: 1127, done.\u001b[K\n",
            "remote: Total 1127 (delta 0), reused 0 (delta 0), pack-reused 1127\u001b[K\n",
            "Receiving objects: 100% (1127/1127), 69.94 MiB | 42.91 MiB/s, done.\n",
            "Resolving deltas: 100% (521/521), done.\n"
          ]
        }
      ]
    },
    {
      "cell_type": "code",
      "source": [
        "%cd yolov7\n",
        "!pip install -r requirements.txt"
      ],
      "metadata": {
        "colab": {
          "base_uri": "https://localhost:8080/"
        },
        "id": "mDZGkUSLStFh",
        "outputId": "10ac90b2-9b3b-4678-c7c7-cacac33bd63b"
      },
      "execution_count": 3,
      "outputs": [
        {
          "output_type": "stream",
          "name": "stdout",
          "text": [
            "/content/yolov7\n",
            "Looking in indexes: https://pypi.org/simple, https://us-python.pkg.dev/colab-wheels/public/simple/\n",
            "Requirement already satisfied: matplotlib>=3.2.2 in /usr/local/lib/python3.8/dist-packages (from -r requirements.txt (line 4)) (3.2.2)\n",
            "Requirement already satisfied: numpy<1.24.0,>=1.18.5 in /usr/local/lib/python3.8/dist-packages (from -r requirements.txt (line 5)) (1.21.6)\n",
            "Requirement already satisfied: opencv-python>=4.1.1 in /usr/local/lib/python3.8/dist-packages (from -r requirements.txt (line 6)) (4.6.0.66)\n",
            "Requirement already satisfied: Pillow>=7.1.2 in /usr/local/lib/python3.8/dist-packages (from -r requirements.txt (line 7)) (7.1.2)\n",
            "Requirement already satisfied: PyYAML>=5.3.1 in /usr/local/lib/python3.8/dist-packages (from -r requirements.txt (line 8)) (6.0)\n",
            "Requirement already satisfied: requests>=2.23.0 in /usr/local/lib/python3.8/dist-packages (from -r requirements.txt (line 9)) (2.25.1)\n",
            "Requirement already satisfied: scipy>=1.4.1 in /usr/local/lib/python3.8/dist-packages (from -r requirements.txt (line 10)) (1.7.3)\n",
            "Requirement already satisfied: torch!=1.12.0,>=1.7.0 in /usr/local/lib/python3.8/dist-packages (from -r requirements.txt (line 11)) (1.13.1+cu116)\n",
            "Requirement already satisfied: torchvision!=0.13.0,>=0.8.1 in /usr/local/lib/python3.8/dist-packages (from -r requirements.txt (line 12)) (0.14.1+cu116)\n",
            "Requirement already satisfied: tqdm>=4.41.0 in /usr/local/lib/python3.8/dist-packages (from -r requirements.txt (line 13)) (4.64.1)\n",
            "Requirement already satisfied: protobuf<4.21.3 in /usr/local/lib/python3.8/dist-packages (from -r requirements.txt (line 14)) (3.19.6)\n",
            "Requirement already satisfied: tensorboard>=2.4.1 in /usr/local/lib/python3.8/dist-packages (from -r requirements.txt (line 17)) (2.11.2)\n",
            "Requirement already satisfied: pandas>=1.1.4 in /usr/local/lib/python3.8/dist-packages (from -r requirements.txt (line 21)) (1.3.5)\n",
            "Requirement already satisfied: seaborn>=0.11.0 in /usr/local/lib/python3.8/dist-packages (from -r requirements.txt (line 22)) (0.11.2)\n",
            "Requirement already satisfied: ipython in /usr/local/lib/python3.8/dist-packages (from -r requirements.txt (line 34)) (7.9.0)\n",
            "Requirement already satisfied: psutil in /usr/local/lib/python3.8/dist-packages (from -r requirements.txt (line 35)) (5.4.8)\n",
            "Collecting thop\n",
            "  Downloading thop-0.1.1.post2209072238-py3-none-any.whl (15 kB)\n",
            "Requirement already satisfied: pyparsing!=2.0.4,!=2.1.2,!=2.1.6,>=2.0.1 in /usr/local/lib/python3.8/dist-packages (from matplotlib>=3.2.2->-r requirements.txt (line 4)) (2.4.7)\n",
            "Requirement already satisfied: python-dateutil>=2.1 in /usr/local/lib/python3.8/dist-packages (from matplotlib>=3.2.2->-r requirements.txt (line 4)) (2.8.2)\n",
            "Requirement already satisfied: kiwisolver>=1.0.1 in /usr/local/lib/python3.8/dist-packages (from matplotlib>=3.2.2->-r requirements.txt (line 4)) (1.4.4)\n",
            "Requirement already satisfied: cycler>=0.10 in /usr/local/lib/python3.8/dist-packages (from matplotlib>=3.2.2->-r requirements.txt (line 4)) (0.10.0)\n",
            "Requirement already satisfied: certifi>=2017.4.17 in /usr/local/lib/python3.8/dist-packages (from requests>=2.23.0->-r requirements.txt (line 9)) (2022.12.7)\n",
            "Requirement already satisfied: chardet<5,>=3.0.2 in /usr/local/lib/python3.8/dist-packages (from requests>=2.23.0->-r requirements.txt (line 9)) (4.0.0)\n",
            "Requirement already satisfied: urllib3<1.27,>=1.21.1 in /usr/local/lib/python3.8/dist-packages (from requests>=2.23.0->-r requirements.txt (line 9)) (1.26.14)\n",
            "Requirement already satisfied: idna<3,>=2.5 in /usr/local/lib/python3.8/dist-packages (from requests>=2.23.0->-r requirements.txt (line 9)) (2.10)\n",
            "Requirement already satisfied: typing-extensions in /usr/local/lib/python3.8/dist-packages (from torch!=1.12.0,>=1.7.0->-r requirements.txt (line 11)) (4.4.0)\n",
            "Requirement already satisfied: wheel>=0.26 in /usr/local/lib/python3.8/dist-packages (from tensorboard>=2.4.1->-r requirements.txt (line 17)) (0.38.4)\n",
            "Requirement already satisfied: absl-py>=0.4 in /usr/local/lib/python3.8/dist-packages (from tensorboard>=2.4.1->-r requirements.txt (line 17)) (1.4.0)\n",
            "Requirement already satisfied: werkzeug>=1.0.1 in /usr/local/lib/python3.8/dist-packages (from tensorboard>=2.4.1->-r requirements.txt (line 17)) (1.0.1)\n",
            "Requirement already satisfied: google-auth-oauthlib<0.5,>=0.4.1 in /usr/local/lib/python3.8/dist-packages (from tensorboard>=2.4.1->-r requirements.txt (line 17)) (0.4.6)\n",
            "Requirement already satisfied: tensorboard-plugin-wit>=1.6.0 in /usr/local/lib/python3.8/dist-packages (from tensorboard>=2.4.1->-r requirements.txt (line 17)) (1.8.1)\n",
            "Requirement already satisfied: google-auth<3,>=1.6.3 in /usr/local/lib/python3.8/dist-packages (from tensorboard>=2.4.1->-r requirements.txt (line 17)) (2.16.0)\n",
            "Requirement already satisfied: grpcio>=1.24.3 in /usr/local/lib/python3.8/dist-packages (from tensorboard>=2.4.1->-r requirements.txt (line 17)) (1.51.1)\n",
            "Requirement already satisfied: markdown>=2.6.8 in /usr/local/lib/python3.8/dist-packages (from tensorboard>=2.4.1->-r requirements.txt (line 17)) (3.4.1)\n",
            "Requirement already satisfied: tensorboard-data-server<0.7.0,>=0.6.0 in /usr/local/lib/python3.8/dist-packages (from tensorboard>=2.4.1->-r requirements.txt (line 17)) (0.6.1)\n",
            "Requirement already satisfied: setuptools>=41.0.0 in /usr/local/lib/python3.8/dist-packages (from tensorboard>=2.4.1->-r requirements.txt (line 17)) (57.4.0)\n",
            "Requirement already satisfied: pytz>=2017.3 in /usr/local/lib/python3.8/dist-packages (from pandas>=1.1.4->-r requirements.txt (line 21)) (2022.7.1)\n",
            "Requirement already satisfied: pygments in /usr/local/lib/python3.8/dist-packages (from ipython->-r requirements.txt (line 34)) (2.6.1)\n",
            "Requirement already satisfied: pickleshare in /usr/local/lib/python3.8/dist-packages (from ipython->-r requirements.txt (line 34)) (0.7.5)\n",
            "Requirement already satisfied: pexpect in /usr/local/lib/python3.8/dist-packages (from ipython->-r requirements.txt (line 34)) (4.8.0)\n",
            "Requirement already satisfied: backcall in /usr/local/lib/python3.8/dist-packages (from ipython->-r requirements.txt (line 34)) (0.2.0)\n",
            "Requirement already satisfied: traitlets>=4.2 in /usr/local/lib/python3.8/dist-packages (from ipython->-r requirements.txt (line 34)) (5.7.1)\n",
            "Requirement already satisfied: decorator in /usr/local/lib/python3.8/dist-packages (from ipython->-r requirements.txt (line 34)) (4.4.2)\n",
            "Requirement already satisfied: prompt-toolkit<2.1.0,>=2.0.0 in /usr/local/lib/python3.8/dist-packages (from ipython->-r requirements.txt (line 34)) (2.0.10)\n",
            "Collecting jedi>=0.10\n",
            "  Downloading jedi-0.18.2-py2.py3-none-any.whl (1.6 MB)\n",
            "\u001b[2K     \u001b[90m━━━━━━━━━━━━━━━━━━━━━━━━━━━━━━━━━━━━━━━━\u001b[0m \u001b[32m1.6/1.6 MB\u001b[0m \u001b[31m20.7 MB/s\u001b[0m eta \u001b[36m0:00:00\u001b[0m\n",
            "\u001b[?25hRequirement already satisfied: six in /usr/local/lib/python3.8/dist-packages (from cycler>=0.10->matplotlib>=3.2.2->-r requirements.txt (line 4)) (1.15.0)\n",
            "Requirement already satisfied: cachetools<6.0,>=2.0.0 in /usr/local/lib/python3.8/dist-packages (from google-auth<3,>=1.6.3->tensorboard>=2.4.1->-r requirements.txt (line 17)) (5.3.0)\n",
            "Requirement already satisfied: rsa<5,>=3.1.4 in /usr/local/lib/python3.8/dist-packages (from google-auth<3,>=1.6.3->tensorboard>=2.4.1->-r requirements.txt (line 17)) (4.9)\n",
            "Requirement already satisfied: pyasn1-modules>=0.2.1 in /usr/local/lib/python3.8/dist-packages (from google-auth<3,>=1.6.3->tensorboard>=2.4.1->-r requirements.txt (line 17)) (0.2.8)\n",
            "Requirement already satisfied: requests-oauthlib>=0.7.0 in /usr/local/lib/python3.8/dist-packages (from google-auth-oauthlib<0.5,>=0.4.1->tensorboard>=2.4.1->-r requirements.txt (line 17)) (1.3.1)\n",
            "Requirement already satisfied: parso<0.9.0,>=0.8.0 in /usr/local/lib/python3.8/dist-packages (from jedi>=0.10->ipython->-r requirements.txt (line 34)) (0.8.3)\n",
            "Requirement already satisfied: importlib-metadata>=4.4 in /usr/local/lib/python3.8/dist-packages (from markdown>=2.6.8->tensorboard>=2.4.1->-r requirements.txt (line 17)) (6.0.0)\n",
            "Requirement already satisfied: wcwidth in /usr/local/lib/python3.8/dist-packages (from prompt-toolkit<2.1.0,>=2.0.0->ipython->-r requirements.txt (line 34)) (0.2.6)\n",
            "Requirement already satisfied: ptyprocess>=0.5 in /usr/local/lib/python3.8/dist-packages (from pexpect->ipython->-r requirements.txt (line 34)) (0.7.0)\n",
            "Requirement already satisfied: zipp>=0.5 in /usr/local/lib/python3.8/dist-packages (from importlib-metadata>=4.4->markdown>=2.6.8->tensorboard>=2.4.1->-r requirements.txt (line 17)) (3.12.1)\n",
            "Requirement already satisfied: pyasn1<0.5.0,>=0.4.6 in /usr/local/lib/python3.8/dist-packages (from pyasn1-modules>=0.2.1->google-auth<3,>=1.6.3->tensorboard>=2.4.1->-r requirements.txt (line 17)) (0.4.8)\n",
            "Requirement already satisfied: oauthlib>=3.0.0 in /usr/local/lib/python3.8/dist-packages (from requests-oauthlib>=0.7.0->google-auth-oauthlib<0.5,>=0.4.1->tensorboard>=2.4.1->-r requirements.txt (line 17)) (3.2.2)\n",
            "Installing collected packages: jedi, thop\n",
            "Successfully installed jedi-0.18.2 thop-0.1.1.post2209072238\n"
          ]
        }
      ]
    },
    {
      "cell_type": "code",
      "source": [
        "# restart runtime\n",
        "%cd yolov7"
      ],
      "metadata": {
        "colab": {
          "base_uri": "https://localhost:8080/"
        },
        "id": "zkjOihIvSvg5",
        "outputId": "44b4cc75-e35c-4d6d-edff-cbcaaad06dab"
      },
      "execution_count": 1,
      "outputs": [
        {
          "output_type": "stream",
          "name": "stdout",
          "text": [
            "/content/yolov7\n"
          ]
        }
      ]
    },
    {
      "cell_type": "code",
      "source": [
        "from roboflow import Roboflow\n",
        "rf = Roboflow(api_key=\"SseYdmaNMk2zCfN7zILH\")\n",
        "project = rf.workspace(\"mainproject\").project(\"final-ndspw\")\n",
        "dataset = project.version(12).download(\"yolov7\")"
      ],
      "metadata": {
        "colab": {
          "base_uri": "https://localhost:8080/"
        },
        "id": "6EhFf5ndS0Fh",
        "outputId": "d182afa3-e4b7-4247-f962-5b9b041d99d1"
      },
      "execution_count": 2,
      "outputs": [
        {
          "output_type": "stream",
          "name": "stdout",
          "text": [
            "loading Roboflow workspace...\n",
            "loading Roboflow project...\n",
            "Downloading Dataset Version Zip in final-12 to yolov7pytorch: 100% [157559742 / 157559742] bytes\n"
          ]
        },
        {
          "output_type": "stream",
          "name": "stderr",
          "text": [
            "Extracting Dataset Version Zip to final-12 in yolov7pytorch:: 100%|██████████| 7583/7583 [00:01<00:00, 7575.64it/s]\n"
          ]
        }
      ]
    },
    {
      "cell_type": "code",
      "source": [
        "import os\n",
        "\n",
        "def count_empty_txt_files(path):\n",
        "  # 비어있는 .txt 파일 개수 찾기\n",
        "\n",
        "  count = 0\n",
        "  for filename in os.listdir(path):\n",
        "      if filename.endswith(\".txt\"):\n",
        "          file_path = os.path.join(path, filename)\n",
        "          if os.path.getsize(file_path) == 0:\n",
        "              count += 1\n",
        "  return count\n",
        "\n",
        "def count_files_in_folder(folder_path):\n",
        "    # 폴더 내 총 파일 개수\n",
        "    return len([f for f in os.listdir(folder_path) if os.path.isfile(os.path.join(folder_path, f))])\n",
        "\n",
        "def delete_empty_txt_files_and_images(txt_path, img_path):\n",
        "    #해당 .txt 와 .jpg 삭제\n",
        "    empty_files = []\n",
        "    for dirpath, dirnames, filenames in os.walk(txt_path):\n",
        "        for filename in filenames:\n",
        "            if filename.endswith(\".txt\"):\n",
        "                txt_file_path = os.path.join(dirpath, filename)\n",
        "                if os.path.getsize(txt_file_path) == 0:\n",
        "                    empty_files.append(txt_file_path)\n",
        "                    os.remove(txt_file_path)\n",
        "                    img_file_path = os.path.join(img_path, filename.replace(\".txt\", \".jpg\"))\n",
        "                    if os.path.exists(img_file_path):\n",
        "                        os.remove(img_file_path)\n",
        "    return empty_files"
      ],
      "metadata": {
        "id": "xQX_WGSYTC1B"
      },
      "execution_count": 3,
      "outputs": []
    },
    {
      "cell_type": "code",
      "source": [
        "count_empty_txt_files('final-12/valid/labels')"
      ],
      "metadata": {
        "colab": {
          "base_uri": "https://localhost:8080/"
        },
        "id": "tr94vnPqTPuK",
        "outputId": "4d8c3512-c9f4-4663-dbc1-faa729c2d2f9"
      },
      "execution_count": 4,
      "outputs": [
        {
          "output_type": "execute_result",
          "data": {
            "text/plain": [
              "36"
            ]
          },
          "metadata": {},
          "execution_count": 4
        }
      ]
    },
    {
      "cell_type": "code",
      "source": [
        "delete_empty_txt_files_and_images('final-12/valid/labels','final-12/valid/images')"
      ],
      "metadata": {
        "colab": {
          "base_uri": "https://localhost:8080/"
        },
        "id": "idFRcjASTKlp",
        "outputId": "3e19bf3c-eb26-4c6a-ff0d-e68035ece5f4"
      },
      "execution_count": 5,
      "outputs": [
        {
          "output_type": "execute_result",
          "data": {
            "text/plain": [
              "['final-12/valid/labels/80037_00_m_10_jpg.rf.2fac27f573c7c5be80125f00d1c41e74.txt',\n",
              " 'final-12/valid/labels/30021_0_m_10_jpg.rf.2e7e9e9e583623d32734f1899af7170c.txt',\n",
              " 'final-12/valid/labels/70033_60_s_6_jpg.rf.99b1ab12a2cb0fdda24db5a7babd6509.txt',\n",
              " 'final-12/valid/labels/40028_30_s_23_jpg.rf.a1cdff26fccebc2018bd67e04249b1d0.txt',\n",
              " 'final-12/valid/labels/2023-02-08-17-30-47_png.rf.a97abcef1a3a06b11152e54e6a06cd6b.txt',\n",
              " 'final-12/valid/labels/40028_60_s_21_jpg.rf.44c295400bf6f3cc52cffb60ef91b32c.txt',\n",
              " 'final-12/valid/labels/10129_30_m_3_jpg.rf.5e8ca5332e314665dc59d7d6bda5201c.txt',\n",
              " 'final-12/valid/labels/30021_60_m_17_jpg.rf.51781cd99da538a6452a98d33a4b03a9.txt',\n",
              " 'final-12/valid/labels/70033_30_s_4_jpg.rf.86f47402db916345cb78b7b37a543c1d.txt',\n",
              " 'final-12/valid/labels/30014_60_m_4_jpg.rf.c1fb33eb5464588148011747cff6d206.txt',\n",
              " 'final-12/valid/labels/80037_00_m_9_jpg.rf.7028f9cd00580f5e61abb60c5ffde9d2.txt',\n",
              " 'final-12/valid/labels/2023-02-08-02-36-30_png.rf.39c1f3bda6af1df96f592e6baed5af17.txt',\n",
              " 'final-12/valid/labels/10129_00_m_23_jpg.rf.1366368d50bf433a4e8f1f82420bc5f8.txt',\n",
              " 'final-12/valid/labels/70033_30_m_17_jpg.rf.9fb1ab9a0ccb6f9d7104a7ca67c0ae04.txt',\n",
              " 'final-12/valid/labels/40028_0_m_2_jpg.rf.3f8e3364628aef6b35885e6e3baa2860.txt',\n",
              " 'final-12/valid/labels/30021_30_m_24_jpg.rf.a85f6f510d7e3d6c1d9035dff2d55e3d.txt',\n",
              " 'final-12/valid/labels/30021_30_m_17_jpg.rf.ff7122091611bc546aeddcc7c9b54c4f.txt',\n",
              " 'final-12/valid/labels/30021_30_s_17_jpg.rf.5fb05bc476a2fe6205ce56152e802203.txt',\n",
              " 'final-12/valid/labels/10129_60_s_3_jpg.rf.9f51002d78794191d238b00af9205a34.txt',\n",
              " 'final-12/valid/labels/30014_60_s_12_jpg.rf.4bbf0f8031a86b21836a33be204640f4.txt',\n",
              " 'final-12/valid/labels/30021_30_m_3_jpg.rf.e36fdb93bf2d2f944a7361f8859fb6ea.txt',\n",
              " 'final-12/valid/labels/10005_60_m_22_jpg.rf.d38775920ba7469b5237f008c348032e.txt',\n",
              " 'final-12/valid/labels/30014_30_m_12_jpg.rf.0f80bbed22219abed00cfa1a0f9e1b51.txt',\n",
              " 'final-12/valid/labels/30021_0_m_17_jpg.rf.f10c824ab57e99ab678fdffa72c0b5d2.txt',\n",
              " 'final-12/valid/labels/30014_30_s_12_jpg.rf.1825ed289f0a0b086996903bb5405587.txt',\n",
              " 'final-12/valid/labels/40028_30_s_14_jpg.rf.ba1a01e1d00d3a01aa6cbe33e73859cb.txt',\n",
              " 'final-12/valid/labels/70033_30_s_11_jpg.rf.01e710062a824be4590a89a78a3aafc1.txt',\n",
              " 'final-12/valid/labels/80037_60_m_10_jpg.rf.1030be8d8700e3d755a69af4b9a6f7d3.txt',\n",
              " 'final-12/valid/labels/10129_00_m_9_jpg.rf.5a054114d51385da53d192ca4a0ad05f.txt',\n",
              " 'final-12/valid/labels/80037_00_m_4_jpg.rf.47c27a82bc09ca22c415fbda83edf11d.txt',\n",
              " 'final-12/valid/labels/70033_0_m_10_jpg.rf.98b00eb32c85578733c39d53e2ac1ca7.txt',\n",
              " 'final-12/valid/labels/30014_0_s_2_jpg.rf.c220fc03685627b68b1929048a095162.txt',\n",
              " 'final-12/valid/labels/70033_0_s_22_jpg.rf.3bea2ba0cb174b4742759b53408d7311.txt',\n",
              " 'final-12/valid/labels/30014_60_m_16_jpg.rf.5c767e793d4dc086c8a1fc027dc5fffb.txt',\n",
              " 'final-12/valid/labels/10129_60_s_14_jpg.rf.71dbfbe787885f97a3b74cb2f228a6a8.txt',\n",
              " 'final-12/valid/labels/40028_60_s_17_jpg.rf.93e959418cca8e76c16da1e311297972.txt']"
            ]
          },
          "metadata": {},
          "execution_count": 5
        }
      ]
    },
    {
      "cell_type": "code",
      "source": [
        "delete_empty_txt_files_and_images('final-12/train/labels','final-12/train/images')"
      ],
      "metadata": {
        "colab": {
          "base_uri": "https://localhost:8080/"
        },
        "id": "KnepCwQ2TZX5",
        "outputId": "8c578d8e-c0e8-438a-aa75-107506b04878"
      },
      "execution_count": 6,
      "outputs": [
        {
          "output_type": "execute_result",
          "data": {
            "text/plain": [
              "['final-12/train/labels/80037_0_s_2_jpg.rf.074c23e21d351ba55f17bddec4aff75b.txt',\n",
              " 'final-12/train/labels/40028_60_m_23_jpg.rf.176abd2a537bc5f27f2aa6418f04195e.txt',\n",
              " 'final-12/train/labels/10005_0_m_21_jpg.rf.9224aa277e1a9f4982dc398ee32b4bb7.txt',\n",
              " 'final-12/train/labels/2023-02-08-16-19-31_png.rf.a2b9c69f58e87e7448a17cad3dab2c7e.txt',\n",
              " 'final-12/train/labels/40028_30_m_7_jpg.rf.dcb34b57eca0185190c549baab8e5c8b.txt',\n",
              " 'final-12/train/labels/30014_60_m_9_jpg.rf.81ed61b36881514e19462d0ccfc27a5e.txt',\n",
              " 'final-12/train/labels/10005_30_m_6_jpg.rf.d2648611d5b995d53988c528b155c1af.txt',\n",
              " 'final-12/train/labels/80037_00_m_16_jpg.rf.eaefe411b3ffe209047a66c8c6795380.txt',\n",
              " 'final-12/train/labels/10005_30_m_8_jpg.rf.d6c1fad72ccbc21bd393d3f39483f912.txt',\n",
              " 'final-12/train/labels/30014_0_m_4_jpg.rf.76e0c9e8d2c5796e3e30133074c17964.txt',\n",
              " 'final-12/train/labels/80037_60_m_17_jpg.rf.3b0bb16f478de293f2df538f6c798d44.txt',\n",
              " 'final-12/train/labels/40028_60_s_23_jpg.rf.686522c1268eaa9bf23abf962d18211f.txt',\n",
              " 'final-12/train/labels/2023-02-08-02-36-05_png.rf.44fad673936cc8f4295c0ca33e3fccfa.txt',\n",
              " 'final-12/train/labels/70033_0_s_4_jpg.rf.bd5d86447512456e706ecb4634858d84.txt',\n",
              " 'final-12/train/labels/2023-02-08-02-48-56_png.rf.ae7e0cb4f29f56630e7e0074620aa6fb.txt',\n",
              " 'final-12/train/labels/70033_30_s_12_jpg.rf.ca1c4180f245929c35ad99c9feaa71e4.txt',\n",
              " 'final-12/train/labels/10129_60_m_19_jpg.rf.58997902a149cc0c99c2f09806f8b043.txt',\n",
              " 'final-12/train/labels/2023-02-08-02-49-43_png.rf.2eda1908298fb69243025f93b41dcac4.txt',\n",
              " 'final-12/train/labels/30014_0_s_15_jpg.rf.558ce802895166fa275ceffd7528c148.txt',\n",
              " 'final-12/train/labels/10129_00_s_1_jpg.rf.1715ad1f72c1626a8a262e956e5a89b6.txt',\n",
              " 'final-12/train/labels/2023-02-08-02-57-15_png.rf.ed6023caf44476bd9a1d367057a9497d.txt',\n",
              " 'final-12/train/labels/40028_30_s_5_jpg.rf.a4e01de97f8071e50de9281949caf4bc.txt',\n",
              " 'final-12/train/labels/30014_30_s_16_jpg.rf.b955ebf888d93269d2842c63fdfd8ee6.txt',\n",
              " 'final-12/train/labels/80037_60_m_24_jpg.rf.2d7572034509145f218357babfa15618.txt',\n",
              " 'final-12/train/labels/80037_30_m_8_jpg.rf.7bc68560b00c4eb1fed358663f5ee2d7.txt',\n",
              " 'final-12/train/labels/80037_00_m_15_jpg.rf.31696daeca0fa7a6b05c2180d9309c3a.txt',\n",
              " 'final-12/train/labels/70033_30_s_24_jpg.rf.9ff51293127597ab483bcaa06f48c054.txt',\n",
              " 'final-12/train/labels/10005_60_m_24_jpg.rf.921208718a86aeb363c901e82a2d13df.txt',\n",
              " 'final-12/train/labels/30021_60_s_4_jpg.rf.f0f69ffc18a536976613590ca6073069.txt',\n",
              " 'final-12/train/labels/10005_60_m_2_jpg.rf.d5c070b84e9c4b61ebedfc4ad1c30c33.txt',\n",
              " 'final-12/train/labels/80037_00_m_12_jpg.rf.0cac78c6bea11286768ec80aab8e5063.txt',\n",
              " 'final-12/train/labels/70033_60_m_23_jpg.rf.27a125a1421e2fbec1def93ac8ff04df.txt',\n",
              " 'final-12/train/labels/10129_00_s_23_jpg.rf.8c5198d376691d125302a4a88790ad07.txt',\n",
              " 'final-12/train/labels/2023-02-08-02-49-26_png.rf.fd910fdff9fb42f3d164a10fb37aadeb.txt',\n",
              " 'final-12/train/labels/80037_0_s_10_jpg.rf.0e02fdbb5c6fda479cf3d38e8d6a963c.txt',\n",
              " 'final-12/train/labels/2023-02-08-16-11-31_png.rf.0eeeafaf39a7468e9a00b985e65c6dbb.txt',\n",
              " 'final-12/train/labels/40028_0_s_14_jpg.rf.6c92ab48dab0d8795435dc82bd7b0117.txt',\n",
              " 'final-12/train/labels/80037_0_s_23_jpg.rf.f9ed77c4eda6b9d87c99126009d00328.txt',\n",
              " 'final-12/train/labels/30014_30_m_19_jpg.rf.091f296437b3bd445ee2dadfa506e556.txt',\n",
              " 'final-12/train/labels/30021_30_m_1_jpg.rf.d442b1f6816df135909f9675db5043c2.txt',\n",
              " 'final-12/train/labels/30014_60_m_2_jpg.rf.0de0ada757c445f764044728a78a469d.txt',\n",
              " 'final-12/train/labels/70033_0_m_16_jpg.rf.b7525a56de7bfc60ba64bc0830fbf7d1.txt',\n",
              " 'final-12/train/labels/10129_00_s_22_jpg.rf.129d24fe717524f581e0cbe1a465df7d.txt',\n",
              " 'final-12/train/labels/10005_60_m_12_jpg.rf.3ab9984a250585b9792e42bdd0323ffb.txt',\n",
              " 'final-12/train/labels/30021_0_m_8_jpg.rf.74bc145f08f80bf4782f4d3d63ada3bf.txt',\n",
              " 'final-12/train/labels/2023-02-08-16-10-00_png.rf.9e2f79038221a6437fa6f26f3959a61c.txt',\n",
              " 'final-12/train/labels/30014_30_s_24_jpg.rf.b51066447a4bf448b74f69462a84a32d.txt',\n",
              " 'final-12/train/labels/10005_0_m_12_jpg.rf.e505e81639358373f80362d80b90e146.txt',\n",
              " 'final-12/train/labels/2023-02-08-02-35-27_png.rf.493be50d5219da1bfe7c29c48d4316ea.txt',\n",
              " 'final-12/train/labels/10005_60_m_9_jpg.rf.99ec527b87c7f715e4667f6bdc0c9ecc.txt',\n",
              " 'final-12/train/labels/10005_0_m_15_jpg.rf.db1378b6460f7c7918b0eb7d67fa2311.txt',\n",
              " 'final-12/train/labels/10129_30_m_17_jpg.rf.271fd7edd26959701248691f56d8f5b9.txt',\n",
              " 'final-12/train/labels/30021_60_s_20_jpg.rf.a78af1a4b68ce437157b424440b307be.txt',\n",
              " 'final-12/train/labels/70033_0_m_12_jpg.rf.fe904cff48d1a44a86b6a4e119ec7bbe.txt',\n",
              " 'final-12/train/labels/2023-02-08-16-21-02_png.rf.801d5edcf7ad0d408ae66f0ec999c7ca.txt',\n",
              " 'final-12/train/labels/10005_30_m_19_jpg.rf.507556be559c9aa1184961e125609927.txt',\n",
              " 'final-12/train/labels/10129_60_s_1_jpg.rf.ce74f752d66c9d8425a447f0cbcc40e4.txt',\n",
              " 'final-12/train/labels/2023-02-08-02-58-13_png.rf.d9e53fdce4428cb8d0b4ea29207b04a1.txt',\n",
              " 'final-12/train/labels/30014_30_m_16_jpg.rf.b66ca0a55aaf3a9234c652897cfb797d.txt',\n",
              " 'final-12/train/labels/70033_0_s_14_jpg.rf.c9616e0a9601f74cd0d4a513c18b6f4f.txt',\n",
              " 'final-12/train/labels/30021_60_m_19_jpg.rf.89673ac1d79201a7b58324bf070c1fa3.txt',\n",
              " 'final-12/train/labels/10129_30_s_19_jpg.rf.be04aebb6f8df513d5f0348f9894dea3.txt',\n",
              " 'final-12/train/labels/30021_0_s_19_jpg.rf.a069da9adb13fb8cd02058dfa88ac416.txt',\n",
              " 'final-12/train/labels/10005_0_s_4_jpg.rf.bc5c1df4d66da51ddc957bba74cfa5de.txt',\n",
              " 'final-12/train/labels/2023-02-08-02-35-12_png.rf.2574f0e8da8ef99918aa63a46fe73fb4.txt',\n",
              " 'final-12/train/labels/10005_0_s_2_jpg.rf.37f89354ce1c7c3405a52bdbd10d63dc.txt',\n",
              " 'final-12/train/labels/70033_60_m_17_jpg.rf.be342a534565f43f8353b0e6e4b8a117.txt',\n",
              " 'final-12/train/labels/70033_30_s_20_jpg.rf.80a56a2c258a69c55aee3d667a3ccfe9.txt',\n",
              " 'final-12/train/labels/2023-02-08-02-35-52_png.rf.535fa4ab0249bea9dacf58476ba58c0e.txt',\n",
              " 'final-12/train/labels/10005_0_m_20_jpg.rf.27da8b1a7d7fc52b380fad9f00bb60ff.txt',\n",
              " 'final-12/train/labels/2023-02-08-02-59-46_png.rf.ab76df605139c6528e050ded2aa91e84.txt',\n",
              " 'final-12/train/labels/80037_60_m_12_jpg.rf.f7765cfa301d8f85954c326cda8185ac.txt',\n",
              " 'final-12/train/labels/40028_0_s_10_jpg.rf.11953ef917ea7a6c35032d213c3d347b.txt',\n",
              " 'final-12/train/labels/40028_30_s_17_jpg.rf.e632f8d9aff28bb6742ad5824a48d909.txt',\n",
              " 'final-12/train/labels/2023-02-08-17-34-02_png.rf.feacd1dd13545bb4015e5d692c1f21a3.txt',\n",
              " 'final-12/train/labels/40028_30_s_13_jpg.rf.d0e32a7a8c298643b5a2b1a5c07126f4.txt',\n",
              " 'final-12/train/labels/40028_0_s_21_jpg.rf.93faf1e759f5ab35055bae116e5ee798.txt',\n",
              " 'final-12/train/labels/30021_30_s_23_jpg.rf.7745347a72c7ee3c3f0b24b175a3cf3f.txt',\n",
              " 'final-12/train/labels/30021_60_s_2_jpg.rf.5b7fb0de20a9b80c3f97f2ed36beffd9.txt',\n",
              " 'final-12/train/labels/10129_60_s_19_jpg.rf.3fe8878eae59044a8ed203e661d12388.txt',\n",
              " 'final-12/train/labels/10005_30_m_3_jpg.rf.63b19b29508a3e50f930ffc7b96dd985.txt',\n",
              " 'final-12/train/labels/40028_30_m_11_jpg.rf.c2f10781e9ba4cef1cd1c4d494197049.txt',\n",
              " 'final-12/train/labels/30014_60_s_21_jpg.rf.4eef7b3f607582c705d5df86044bae80.txt',\n",
              " 'final-12/train/labels/10129_30_m_16_jpg.rf.5429b33b42edf22947e73b0a31c94802.txt',\n",
              " 'final-12/train/labels/10129_60_m_5_jpg.rf.e8ce697482355fca79d21d42715ac22b.txt',\n",
              " 'final-12/train/labels/80037_30_m_17_jpg.rf.f42b92c2739e5df5161a3ae50bf0629d.txt']"
            ]
          },
          "metadata": {},
          "execution_count": 6
        }
      ]
    },
    {
      "cell_type": "code",
      "source": [
        "count_files_in_folder('final-12/train/images')"
      ],
      "metadata": {
        "colab": {
          "base_uri": "https://localhost:8080/"
        },
        "id": "qW4uZpGqTcdS",
        "outputId": "0edb94e9-9e79-45bb-c5ce-0033cea07bcf"
      },
      "execution_count": 7,
      "outputs": [
        {
          "output_type": "execute_result",
          "data": {
            "text/plain": [
              "2622"
            ]
          },
          "metadata": {},
          "execution_count": 7
        }
      ]
    },
    {
      "cell_type": "code",
      "source": [
        "!python train.py --batch 64 --epochs 100 --data /content/yolov7/final-12/data.yaml --weights 'yolov7-tiny.pt' --device 0 "
      ],
      "metadata": {
        "colab": {
          "base_uri": "https://localhost:8080/"
        },
        "id": "V3_Eo4z6TfEx",
        "outputId": "37caf595-bfe6-4392-aaf4-ada344fcd64c"
      },
      "execution_count": null,
      "outputs": [
        {
          "output_type": "stream",
          "name": "stdout",
          "text": [
            "YOLOR 🚀 v0.1-121-g2fdc7f1 torch 1.13.1+cu116 CUDA:0 (NVIDIA A100-SXM4-40GB, 40536.125MB)\n",
            "\n",
            "Namespace(adam=False, artifact_alias='latest', batch_size=64, bbox_interval=-1, bucket='', cache_images=False, cfg='', data='/content/yolov7/final-12/data.yaml', device='0', entity=None, epochs=100, evolve=False, exist_ok=False, freeze=[0], global_rank=-1, hyp='data/hyp.scratch.p5.yaml', image_weights=False, img_size=[640, 640], label_smoothing=0.0, linear_lr=False, local_rank=-1, multi_scale=False, name='exp', noautoanchor=False, nosave=False, notest=False, project='runs/train', quad=False, rect=False, resume=False, save_dir='runs/train/exp', save_period=-1, single_cls=False, sync_bn=False, total_batch_size=64, upload_dataset=False, v5_metric=False, weights='yolov7-tiny.pt', workers=8, world_size=1)\n",
            "\u001b[34m\u001b[1mtensorboard: \u001b[0mStart with 'tensorboard --logdir runs/train', view at http://localhost:6006/\n",
            "2023-02-15 13:41:28.116515: I tensorflow/core/platform/cpu_feature_guard.cc:193] This TensorFlow binary is optimized with oneAPI Deep Neural Network Library (oneDNN) to use the following CPU instructions in performance-critical operations:  AVX2 AVX512F AVX512_VNNI FMA\n",
            "To enable them in other operations, rebuild TensorFlow with the appropriate compiler flags.\n",
            "2023-02-15 13:41:28.287608: I tensorflow/core/util/port.cc:104] oneDNN custom operations are on. You may see slightly different numerical results due to floating-point round-off errors from different computation orders. To turn them off, set the environment variable `TF_ENABLE_ONEDNN_OPTS=0`.\n",
            "2023-02-15 13:41:29.172950: W tensorflow/compiler/xla/stream_executor/platform/default/dso_loader.cc:64] Could not load dynamic library 'libnvinfer.so.7'; dlerror: libnvinfer.so.7: cannot open shared object file: No such file or directory; LD_LIBRARY_PATH: /usr/local/lib/python3.8/dist-packages/cv2/../../lib64:/usr/local/lib/python3.8/dist-packages/cv2/../../lib64:/usr/lib64-nvidia\n",
            "2023-02-15 13:41:29.173068: W tensorflow/compiler/xla/stream_executor/platform/default/dso_loader.cc:64] Could not load dynamic library 'libnvinfer_plugin.so.7'; dlerror: libnvinfer_plugin.so.7: cannot open shared object file: No such file or directory; LD_LIBRARY_PATH: /usr/local/lib/python3.8/dist-packages/cv2/../../lib64:/usr/local/lib/python3.8/dist-packages/cv2/../../lib64:/usr/lib64-nvidia\n",
            "2023-02-15 13:41:29.173087: W tensorflow/compiler/tf2tensorrt/utils/py_utils.cc:38] TF-TRT Warning: Cannot dlopen some TensorRT libraries. If you would like to use Nvidia GPU with TensorRT, please make sure the missing libraries mentioned above are installed properly.\n",
            "\u001b[34m\u001b[1mhyperparameters: \u001b[0mlr0=0.01, lrf=0.1, momentum=0.937, weight_decay=0.0005, warmup_epochs=3.0, warmup_momentum=0.8, warmup_bias_lr=0.1, box=0.05, cls=0.3, cls_pw=1.0, obj=0.7, obj_pw=1.0, iou_t=0.2, anchor_t=4.0, fl_gamma=0.0, hsv_h=0.015, hsv_s=0.7, hsv_v=0.4, degrees=0.0, translate=0.2, scale=0.9, shear=0.0, perspective=0.0, flipud=0.0, fliplr=0.5, mosaic=1.0, mixup=0.15, copy_paste=0.0, paste_in=0.15, loss_ota=1\n",
            "\u001b[34m\u001b[1mwandb: \u001b[0mInstall Weights & Biases for YOLOR logging with 'pip install wandb' (recommended)\n",
            "Downloading https://github.com/WongKinYiu/yolov7/releases/download/v0.1/yolov7-tiny.pt to yolov7-tiny.pt...\n",
            "100% 12.1M/12.1M [00:00<00:00, 69.8MB/s]\n",
            "\n",
            "Overriding model.yaml nc=80 with nc=300\n",
            "\n",
            "                 from  n    params  module                                  arguments                     \n",
            "  0                -1  1       928  models.common.Conv                      [3, 32, 3, 2, None, 1, LeakyReLU(negative_slope=0.1)]\n",
            "  1                -1  1     18560  models.common.Conv                      [32, 64, 3, 2, None, 1, LeakyReLU(negative_slope=0.1)]\n",
            "  2                -1  1      2112  models.common.Conv                      [64, 32, 1, 1, None, 1, LeakyReLU(negative_slope=0.1)]\n",
            "  3                -2  1      2112  models.common.Conv                      [64, 32, 1, 1, None, 1, LeakyReLU(negative_slope=0.1)]\n",
            "  4                -1  1      9280  models.common.Conv                      [32, 32, 3, 1, None, 1, LeakyReLU(negative_slope=0.1)]\n",
            "  5                -1  1      9280  models.common.Conv                      [32, 32, 3, 1, None, 1, LeakyReLU(negative_slope=0.1)]\n",
            "  6  [-1, -2, -3, -4]  1         0  models.common.Concat                    [1]                           \n",
            "  7                -1  1      8320  models.common.Conv                      [128, 64, 1, 1, None, 1, LeakyReLU(negative_slope=0.1)]\n",
            "  8                -1  1         0  models.common.MP                        []                            \n",
            "  9                -1  1      4224  models.common.Conv                      [64, 64, 1, 1, None, 1, LeakyReLU(negative_slope=0.1)]\n",
            " 10                -2  1      4224  models.common.Conv                      [64, 64, 1, 1, None, 1, LeakyReLU(negative_slope=0.1)]\n",
            " 11                -1  1     36992  models.common.Conv                      [64, 64, 3, 1, None, 1, LeakyReLU(negative_slope=0.1)]\n",
            " 12                -1  1     36992  models.common.Conv                      [64, 64, 3, 1, None, 1, LeakyReLU(negative_slope=0.1)]\n",
            " 13  [-1, -2, -3, -4]  1         0  models.common.Concat                    [1]                           \n",
            " 14                -1  1     33024  models.common.Conv                      [256, 128, 1, 1, None, 1, LeakyReLU(negative_slope=0.1)]\n",
            " 15                -1  1         0  models.common.MP                        []                            \n",
            " 16                -1  1     16640  models.common.Conv                      [128, 128, 1, 1, None, 1, LeakyReLU(negative_slope=0.1)]\n",
            " 17                -2  1     16640  models.common.Conv                      [128, 128, 1, 1, None, 1, LeakyReLU(negative_slope=0.1)]\n",
            " 18                -1  1    147712  models.common.Conv                      [128, 128, 3, 1, None, 1, LeakyReLU(negative_slope=0.1)]\n",
            " 19                -1  1    147712  models.common.Conv                      [128, 128, 3, 1, None, 1, LeakyReLU(negative_slope=0.1)]\n",
            " 20  [-1, -2, -3, -4]  1         0  models.common.Concat                    [1]                           \n",
            " 21                -1  1    131584  models.common.Conv                      [512, 256, 1, 1, None, 1, LeakyReLU(negative_slope=0.1)]\n",
            " 22                -1  1         0  models.common.MP                        []                            \n",
            " 23                -1  1     66048  models.common.Conv                      [256, 256, 1, 1, None, 1, LeakyReLU(negative_slope=0.1)]\n",
            " 24                -2  1     66048  models.common.Conv                      [256, 256, 1, 1, None, 1, LeakyReLU(negative_slope=0.1)]\n",
            " 25                -1  1    590336  models.common.Conv                      [256, 256, 3, 1, None, 1, LeakyReLU(negative_slope=0.1)]\n",
            " 26                -1  1    590336  models.common.Conv                      [256, 256, 3, 1, None, 1, LeakyReLU(negative_slope=0.1)]\n",
            " 27  [-1, -2, -3, -4]  1         0  models.common.Concat                    [1]                           \n",
            " 28                -1  1    525312  models.common.Conv                      [1024, 512, 1, 1, None, 1, LeakyReLU(negative_slope=0.1)]\n",
            " 29                -1  1    131584  models.common.Conv                      [512, 256, 1, 1, None, 1, LeakyReLU(negative_slope=0.1)]\n",
            " 30                -2  1    131584  models.common.Conv                      [512, 256, 1, 1, None, 1, LeakyReLU(negative_slope=0.1)]\n",
            " 31                -1  1         0  models.common.SP                        [5]                           \n",
            " 32                -2  1         0  models.common.SP                        [9]                           \n",
            " 33                -3  1         0  models.common.SP                        [13]                          \n",
            " 34  [-1, -2, -3, -4]  1         0  models.common.Concat                    [1]                           \n",
            " 35                -1  1    262656  models.common.Conv                      [1024, 256, 1, 1, None, 1, LeakyReLU(negative_slope=0.1)]\n",
            " 36          [-1, -7]  1         0  models.common.Concat                    [1]                           \n",
            " 37                -1  1    131584  models.common.Conv                      [512, 256, 1, 1, None, 1, LeakyReLU(negative_slope=0.1)]\n",
            " 38                -1  1     33024  models.common.Conv                      [256, 128, 1, 1, None, 1, LeakyReLU(negative_slope=0.1)]\n",
            " 39                -1  1         0  torch.nn.modules.upsampling.Upsample    [None, 2, 'nearest']          \n",
            " 40                21  1     33024  models.common.Conv                      [256, 128, 1, 1, None, 1, LeakyReLU(negative_slope=0.1)]\n",
            " 41          [-1, -2]  1         0  models.common.Concat                    [1]                           \n",
            " 42                -1  1     16512  models.common.Conv                      [256, 64, 1, 1, None, 1, LeakyReLU(negative_slope=0.1)]\n",
            " 43                -2  1     16512  models.common.Conv                      [256, 64, 1, 1, None, 1, LeakyReLU(negative_slope=0.1)]\n",
            " 44                -1  1     36992  models.common.Conv                      [64, 64, 3, 1, None, 1, LeakyReLU(negative_slope=0.1)]\n",
            " 45                -1  1     36992  models.common.Conv                      [64, 64, 3, 1, None, 1, LeakyReLU(negative_slope=0.1)]\n",
            " 46  [-1, -2, -3, -4]  1         0  models.common.Concat                    [1]                           \n",
            " 47                -1  1     33024  models.common.Conv                      [256, 128, 1, 1, None, 1, LeakyReLU(negative_slope=0.1)]\n",
            " 48                -1  1      8320  models.common.Conv                      [128, 64, 1, 1, None, 1, LeakyReLU(negative_slope=0.1)]\n",
            " 49                -1  1         0  torch.nn.modules.upsampling.Upsample    [None, 2, 'nearest']          \n",
            " 50                14  1      8320  models.common.Conv                      [128, 64, 1, 1, None, 1, LeakyReLU(negative_slope=0.1)]\n",
            " 51          [-1, -2]  1         0  models.common.Concat                    [1]                           \n",
            " 52                -1  1      4160  models.common.Conv                      [128, 32, 1, 1, None, 1, LeakyReLU(negative_slope=0.1)]\n",
            " 53                -2  1      4160  models.common.Conv                      [128, 32, 1, 1, None, 1, LeakyReLU(negative_slope=0.1)]\n",
            " 54                -1  1      9280  models.common.Conv                      [32, 32, 3, 1, None, 1, LeakyReLU(negative_slope=0.1)]\n",
            " 55                -1  1      9280  models.common.Conv                      [32, 32, 3, 1, None, 1, LeakyReLU(negative_slope=0.1)]\n",
            " 56  [-1, -2, -3, -4]  1         0  models.common.Concat                    [1]                           \n",
            " 57                -1  1      8320  models.common.Conv                      [128, 64, 1, 1, None, 1, LeakyReLU(negative_slope=0.1)]\n",
            " 58                -1  1     73984  models.common.Conv                      [64, 128, 3, 2, None, 1, LeakyReLU(negative_slope=0.1)]\n",
            " 59          [-1, 47]  1         0  models.common.Concat                    [1]                           \n",
            " 60                -1  1     16512  models.common.Conv                      [256, 64, 1, 1, None, 1, LeakyReLU(negative_slope=0.1)]\n",
            " 61                -2  1     16512  models.common.Conv                      [256, 64, 1, 1, None, 1, LeakyReLU(negative_slope=0.1)]\n",
            " 62                -1  1     36992  models.common.Conv                      [64, 64, 3, 1, None, 1, LeakyReLU(negative_slope=0.1)]\n",
            " 63                -1  1     36992  models.common.Conv                      [64, 64, 3, 1, None, 1, LeakyReLU(negative_slope=0.1)]\n",
            " 64  [-1, -2, -3, -4]  1         0  models.common.Concat                    [1]                           \n",
            " 65                -1  1     33024  models.common.Conv                      [256, 128, 1, 1, None, 1, LeakyReLU(negative_slope=0.1)]\n",
            " 66                -1  1    295424  models.common.Conv                      [128, 256, 3, 2, None, 1, LeakyReLU(negative_slope=0.1)]\n",
            " 67          [-1, 37]  1         0  models.common.Concat                    [1]                           \n",
            " 68                -1  1     65792  models.common.Conv                      [512, 128, 1, 1, None, 1, LeakyReLU(negative_slope=0.1)]\n",
            " 69                -2  1     65792  models.common.Conv                      [512, 128, 1, 1, None, 1, LeakyReLU(negative_slope=0.1)]\n",
            " 70                -1  1    147712  models.common.Conv                      [128, 128, 3, 1, None, 1, LeakyReLU(negative_slope=0.1)]\n",
            " 71                -1  1    147712  models.common.Conv                      [128, 128, 3, 1, None, 1, LeakyReLU(negative_slope=0.1)]\n",
            " 72  [-1, -2, -3, -4]  1         0  models.common.Concat                    [1]                           \n",
            " 73                -1  1    131584  models.common.Conv                      [512, 256, 1, 1, None, 1, LeakyReLU(negative_slope=0.1)]\n",
            " 74                57  1     73984  models.common.Conv                      [64, 128, 3, 1, None, 1, LeakyReLU(negative_slope=0.1)]\n",
            " 75                65  1    295424  models.common.Conv                      [128, 256, 3, 1, None, 1, LeakyReLU(negative_slope=0.1)]\n",
            " 76                73  1   1180672  models.common.Conv                      [256, 512, 3, 1, None, 1, LeakyReLU(negative_slope=0.1)]\n",
            " 77      [74, 75, 76]  1    822585  models.yolo.Detect                      [300, [[10, 13, 16, 30, 33, 23], [30, 61, 62, 45, 59, 119], [116, 90, 156, 198, 373, 326]], [128, 256, 512]]\n",
            "/usr/local/lib/python3.8/dist-packages/torch/functional.py:504: UserWarning: torch.meshgrid: in an upcoming release, it will be required to pass the indexing argument. (Triggered internally at ../aten/src/ATen/native/TensorShape.cpp:3190.)\n",
            "  return _VF.meshgrid(tensors, **kwargs)  # type: ignore[attr-defined]\n",
            "Model Summary: 255 layers, 6820441 parameters, 6820441 gradients, 15.8 GFLOPS\n",
            "\n",
            "Transferred 332/338 items from yolov7-tiny.pt\n",
            "Scaled weight_decay = 0.0005\n",
            "Optimizer groups: 58 .bias, 58 conv.weight, 55 other\n",
            "\u001b[34m\u001b[1mtrain: \u001b[0mScanning 'final-12/train/labels' images and labels... 2622 found, 0 missing, 0 empty, 0 corrupted: 100% 2622/2622 [00:00<00:00, 3675.12it/s]\n",
            "\u001b[34m\u001b[1mtrain: \u001b[0mNew cache created: final-12/train/labels.cache\n",
            "\u001b[34m\u001b[1mval: \u001b[0mScanning 'final-12/valid/labels' images and labels... 1041 found, 0 missing, 0 empty, 0 corrupted: 100% 1041/1041 [00:00<00:00, 3608.03it/s]\n",
            "\u001b[34m\u001b[1mval: \u001b[0mNew cache created: final-12/valid/labels.cache\n",
            "\n",
            "\u001b[34m\u001b[1mautoanchor: \u001b[0mAnalyzing anchors... anchors/target = 3.99, Best Possible Recall (BPR) = 0.9998\n",
            "Image sizes 640 train, 640 test\n",
            "Using 8 dataloader workers\n",
            "Logging results to runs/train/exp\n",
            "Starting training for 100 epochs...\n",
            "\n",
            "     Epoch   gpu_mem       box       obj       cls     total    labels  img_size\n",
            "      0/99     25.8G   0.07185   0.01636   0.08181      0.17       394       640: 100% 41/41 [00:54<00:00,  1.32s/it]\n",
            "               Class      Images      Labels           P           R      mAP@.5  mAP@.5:.95: 100% 9/9 [00:05<00:00,  1.58it/s]\n",
            "                 all        1041        2772    3.86e-05     0.00114    7.27e-06     1.8e-06\n",
            "\n",
            "     Epoch   gpu_mem       box       obj       cls     total    labels  img_size\n",
            "      1/99     25.5G   0.05293   0.01993   0.07643    0.1493       386       640: 100% 41/41 [00:28<00:00,  1.46it/s]\n",
            "               Class      Images      Labels           P           R      mAP@.5  mAP@.5:.95: 100% 9/9 [00:04<00:00,  2.22it/s]\n",
            "                 all        1041        2772     0.00193      0.0765     0.00119    0.000469\n",
            "\n",
            "     Epoch   gpu_mem       box       obj       cls     total    labels  img_size\n",
            "      2/99     25.5G   0.04196   0.02095    0.0765    0.1394       413       640: 100% 41/41 [00:28<00:00,  1.46it/s]\n",
            "               Class      Images      Labels           P           R      mAP@.5  mAP@.5:.95: 100% 9/9 [00:04<00:00,  2.14it/s]\n",
            "                 all        1041        2772     0.00242       0.189     0.00251     0.00126\n",
            "\n",
            "     Epoch   gpu_mem       box       obj       cls     total    labels  img_size\n",
            "      3/99     25.5G   0.03878   0.01908   0.07658    0.1344       487       640: 100% 41/41 [00:27<00:00,  1.47it/s]\n",
            "               Class      Images      Labels           P           R      mAP@.5  mAP@.5:.95: 100% 9/9 [00:04<00:00,  2.14it/s]\n",
            "                 all        1041        2772     0.00246       0.146     0.00264     0.00135\n",
            "\n",
            "     Epoch   gpu_mem       box       obj       cls     total    labels  img_size\n",
            "      4/99     25.5G   0.03799    0.0174   0.07625    0.1316       392       640: 100% 41/41 [00:28<00:00,  1.46it/s]\n",
            "               Class      Images      Labels           P           R      mAP@.5  mAP@.5:.95: 100% 9/9 [00:04<00:00,  2.24it/s]\n",
            "                 all        1041        2772     0.00242       0.111     0.00176     0.00124\n",
            "\n",
            "     Epoch   gpu_mem       box       obj       cls     total    labels  img_size\n",
            "      5/99     25.5G   0.03519   0.01913   0.07617    0.1305       442       640: 100% 41/41 [00:27<00:00,  1.47it/s]\n",
            "               Class      Images      Labels           P           R      mAP@.5  mAP@.5:.95: 100% 9/9 [00:04<00:00,  2.18it/s]\n",
            "                 all        1041        2772     0.00315       0.153     0.00355     0.00245\n",
            "\n",
            "     Epoch   gpu_mem       box       obj       cls     total    labels  img_size\n",
            "      6/99     25.5G   0.03304   0.01762   0.07607    0.1267       393       640: 100% 41/41 [00:27<00:00,  1.47it/s]\n",
            "               Class      Images      Labels           P           R      mAP@.5  mAP@.5:.95: 100% 9/9 [00:04<00:00,  2.04it/s]\n",
            "                 all        1041        2772     0.00296       0.213     0.00323     0.00238\n",
            "\n",
            "     Epoch   gpu_mem       box       obj       cls     total    labels  img_size\n",
            "      7/99     25.5G   0.03221   0.01785   0.07604    0.1261       301       640:  27% 11/41 [00:07<00:21,  1.43it/s]"
          ]
        }
      ]
    }
  ],
  "metadata": {
    "colab": {
      "provenance": [],
      "include_colab_link": true
    },
    "kernelspec": {
      "display_name": "Python 3",
      "name": "python3"
    },
    "accelerator": "GPU",
    "gpuClass": "premium"
  },
  "nbformat": 4,
  "nbformat_minor": 0
}