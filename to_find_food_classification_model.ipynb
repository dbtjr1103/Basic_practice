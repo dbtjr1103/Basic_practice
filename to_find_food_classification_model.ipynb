{
  "nbformat": 4,
  "nbformat_minor": 0,
  "metadata": {
    "colab": {
      "provenance": [],
      "machine_shape": "hm",
      "authorship_tag": "ABX9TyNW+UfnpQlYVbhxkP5FkaW3",
      "include_colab_link": true
    },
    "kernelspec": {
      "name": "python3",
      "display_name": "Python 3"
    },
    "language_info": {
      "name": "python"
    },
    "accelerator": "GPU",
    "gpuClass": "standard",
    "widgets": {
      "application/vnd.jupyter.widget-state+json": {
        "c1dec6d64dc54cb8b4daf3bbdd2b66c8": {
          "model_module": "@jupyter-widgets/controls",
          "model_name": "HBoxModel",
          "model_module_version": "1.5.0",
          "state": {
            "_dom_classes": [],
            "_model_module": "@jupyter-widgets/controls",
            "_model_module_version": "1.5.0",
            "_model_name": "HBoxModel",
            "_view_count": null,
            "_view_module": "@jupyter-widgets/controls",
            "_view_module_version": "1.5.0",
            "_view_name": "HBoxView",
            "box_style": "",
            "children": [
              "IPY_MODEL_262d33df95ef46c896700fdf26a05ac6",
              "IPY_MODEL_413d6ff87a5746a2b9035eb653b40329",
              "IPY_MODEL_4eac3caacee743c28a69dd3d90353e81"
            ],
            "layout": "IPY_MODEL_f9837a705c474f8d869ffc02de106444"
          }
        },
        "262d33df95ef46c896700fdf26a05ac6": {
          "model_module": "@jupyter-widgets/controls",
          "model_name": "HTMLModel",
          "model_module_version": "1.5.0",
          "state": {
            "_dom_classes": [],
            "_model_module": "@jupyter-widgets/controls",
            "_model_module_version": "1.5.0",
            "_model_name": "HTMLModel",
            "_view_count": null,
            "_view_module": "@jupyter-widgets/controls",
            "_view_module_version": "1.5.0",
            "_view_name": "HTMLView",
            "description": "",
            "description_tooltip": null,
            "layout": "IPY_MODEL_c277fbbcbf5f4baca8f378841b805131",
            "placeholder": "​",
            "style": "IPY_MODEL_5821f10f2ba243d882f0f898a4bc054f",
            "value": "100%"
          }
        },
        "413d6ff87a5746a2b9035eb653b40329": {
          "model_module": "@jupyter-widgets/controls",
          "model_name": "FloatProgressModel",
          "model_module_version": "1.5.0",
          "state": {
            "_dom_classes": [],
            "_model_module": "@jupyter-widgets/controls",
            "_model_module_version": "1.5.0",
            "_model_name": "FloatProgressModel",
            "_view_count": null,
            "_view_module": "@jupyter-widgets/controls",
            "_view_module_version": "1.5.0",
            "_view_name": "ProgressView",
            "bar_style": "success",
            "description": "",
            "description_tooltip": null,
            "layout": "IPY_MODEL_96086d9f4a5348e080570b03ca9122ef",
            "max": 60,
            "min": 0,
            "orientation": "horizontal",
            "style": "IPY_MODEL_6f1323c4ae2a410e9178bb1b113a5556",
            "value": 60
          }
        },
        "4eac3caacee743c28a69dd3d90353e81": {
          "model_module": "@jupyter-widgets/controls",
          "model_name": "HTMLModel",
          "model_module_version": "1.5.0",
          "state": {
            "_dom_classes": [],
            "_model_module": "@jupyter-widgets/controls",
            "_model_module_version": "1.5.0",
            "_model_name": "HTMLModel",
            "_view_count": null,
            "_view_module": "@jupyter-widgets/controls",
            "_view_module_version": "1.5.0",
            "_view_name": "HTMLView",
            "description": "",
            "description_tooltip": null,
            "layout": "IPY_MODEL_61a9f29789694b959a2aeb11a16061de",
            "placeholder": "​",
            "style": "IPY_MODEL_c1b6adeba5f341e9911d5029361da38f",
            "value": " 60/60 [09:51&lt;00:00,  9.89s/it]"
          }
        },
        "f9837a705c474f8d869ffc02de106444": {
          "model_module": "@jupyter-widgets/base",
          "model_name": "LayoutModel",
          "model_module_version": "1.2.0",
          "state": {
            "_model_module": "@jupyter-widgets/base",
            "_model_module_version": "1.2.0",
            "_model_name": "LayoutModel",
            "_view_count": null,
            "_view_module": "@jupyter-widgets/base",
            "_view_module_version": "1.2.0",
            "_view_name": "LayoutView",
            "align_content": null,
            "align_items": null,
            "align_self": null,
            "border": null,
            "bottom": null,
            "display": null,
            "flex": null,
            "flex_flow": null,
            "grid_area": null,
            "grid_auto_columns": null,
            "grid_auto_flow": null,
            "grid_auto_rows": null,
            "grid_column": null,
            "grid_gap": null,
            "grid_row": null,
            "grid_template_areas": null,
            "grid_template_columns": null,
            "grid_template_rows": null,
            "height": null,
            "justify_content": null,
            "justify_items": null,
            "left": null,
            "margin": null,
            "max_height": null,
            "max_width": null,
            "min_height": null,
            "min_width": null,
            "object_fit": null,
            "object_position": null,
            "order": null,
            "overflow": null,
            "overflow_x": null,
            "overflow_y": null,
            "padding": null,
            "right": null,
            "top": null,
            "visibility": null,
            "width": null
          }
        },
        "c277fbbcbf5f4baca8f378841b805131": {
          "model_module": "@jupyter-widgets/base",
          "model_name": "LayoutModel",
          "model_module_version": "1.2.0",
          "state": {
            "_model_module": "@jupyter-widgets/base",
            "_model_module_version": "1.2.0",
            "_model_name": "LayoutModel",
            "_view_count": null,
            "_view_module": "@jupyter-widgets/base",
            "_view_module_version": "1.2.0",
            "_view_name": "LayoutView",
            "align_content": null,
            "align_items": null,
            "align_self": null,
            "border": null,
            "bottom": null,
            "display": null,
            "flex": null,
            "flex_flow": null,
            "grid_area": null,
            "grid_auto_columns": null,
            "grid_auto_flow": null,
            "grid_auto_rows": null,
            "grid_column": null,
            "grid_gap": null,
            "grid_row": null,
            "grid_template_areas": null,
            "grid_template_columns": null,
            "grid_template_rows": null,
            "height": null,
            "justify_content": null,
            "justify_items": null,
            "left": null,
            "margin": null,
            "max_height": null,
            "max_width": null,
            "min_height": null,
            "min_width": null,
            "object_fit": null,
            "object_position": null,
            "order": null,
            "overflow": null,
            "overflow_x": null,
            "overflow_y": null,
            "padding": null,
            "right": null,
            "top": null,
            "visibility": null,
            "width": null
          }
        },
        "5821f10f2ba243d882f0f898a4bc054f": {
          "model_module": "@jupyter-widgets/controls",
          "model_name": "DescriptionStyleModel",
          "model_module_version": "1.5.0",
          "state": {
            "_model_module": "@jupyter-widgets/controls",
            "_model_module_version": "1.5.0",
            "_model_name": "DescriptionStyleModel",
            "_view_count": null,
            "_view_module": "@jupyter-widgets/base",
            "_view_module_version": "1.2.0",
            "_view_name": "StyleView",
            "description_width": ""
          }
        },
        "96086d9f4a5348e080570b03ca9122ef": {
          "model_module": "@jupyter-widgets/base",
          "model_name": "LayoutModel",
          "model_module_version": "1.2.0",
          "state": {
            "_model_module": "@jupyter-widgets/base",
            "_model_module_version": "1.2.0",
            "_model_name": "LayoutModel",
            "_view_count": null,
            "_view_module": "@jupyter-widgets/base",
            "_view_module_version": "1.2.0",
            "_view_name": "LayoutView",
            "align_content": null,
            "align_items": null,
            "align_self": null,
            "border": null,
            "bottom": null,
            "display": null,
            "flex": null,
            "flex_flow": null,
            "grid_area": null,
            "grid_auto_columns": null,
            "grid_auto_flow": null,
            "grid_auto_rows": null,
            "grid_column": null,
            "grid_gap": null,
            "grid_row": null,
            "grid_template_areas": null,
            "grid_template_columns": null,
            "grid_template_rows": null,
            "height": null,
            "justify_content": null,
            "justify_items": null,
            "left": null,
            "margin": null,
            "max_height": null,
            "max_width": null,
            "min_height": null,
            "min_width": null,
            "object_fit": null,
            "object_position": null,
            "order": null,
            "overflow": null,
            "overflow_x": null,
            "overflow_y": null,
            "padding": null,
            "right": null,
            "top": null,
            "visibility": null,
            "width": null
          }
        },
        "6f1323c4ae2a410e9178bb1b113a5556": {
          "model_module": "@jupyter-widgets/controls",
          "model_name": "ProgressStyleModel",
          "model_module_version": "1.5.0",
          "state": {
            "_model_module": "@jupyter-widgets/controls",
            "_model_module_version": "1.5.0",
            "_model_name": "ProgressStyleModel",
            "_view_count": null,
            "_view_module": "@jupyter-widgets/base",
            "_view_module_version": "1.2.0",
            "_view_name": "StyleView",
            "bar_color": null,
            "description_width": ""
          }
        },
        "61a9f29789694b959a2aeb11a16061de": {
          "model_module": "@jupyter-widgets/base",
          "model_name": "LayoutModel",
          "model_module_version": "1.2.0",
          "state": {
            "_model_module": "@jupyter-widgets/base",
            "_model_module_version": "1.2.0",
            "_model_name": "LayoutModel",
            "_view_count": null,
            "_view_module": "@jupyter-widgets/base",
            "_view_module_version": "1.2.0",
            "_view_name": "LayoutView",
            "align_content": null,
            "align_items": null,
            "align_self": null,
            "border": null,
            "bottom": null,
            "display": null,
            "flex": null,
            "flex_flow": null,
            "grid_area": null,
            "grid_auto_columns": null,
            "grid_auto_flow": null,
            "grid_auto_rows": null,
            "grid_column": null,
            "grid_gap": null,
            "grid_row": null,
            "grid_template_areas": null,
            "grid_template_columns": null,
            "grid_template_rows": null,
            "height": null,
            "justify_content": null,
            "justify_items": null,
            "left": null,
            "margin": null,
            "max_height": null,
            "max_width": null,
            "min_height": null,
            "min_width": null,
            "object_fit": null,
            "object_position": null,
            "order": null,
            "overflow": null,
            "overflow_x": null,
            "overflow_y": null,
            "padding": null,
            "right": null,
            "top": null,
            "visibility": null,
            "width": null
          }
        },
        "c1b6adeba5f341e9911d5029361da38f": {
          "model_module": "@jupyter-widgets/controls",
          "model_name": "DescriptionStyleModel",
          "model_module_version": "1.5.0",
          "state": {
            "_model_module": "@jupyter-widgets/controls",
            "_model_module_version": "1.5.0",
            "_model_name": "DescriptionStyleModel",
            "_view_count": null,
            "_view_module": "@jupyter-widgets/base",
            "_view_module_version": "1.2.0",
            "_view_name": "StyleView",
            "description_width": ""
          }
        },
        "7bcfb8593e0943faafd1d218e1534ae6": {
          "model_module": "@jupyter-widgets/controls",
          "model_name": "HBoxModel",
          "model_module_version": "1.5.0",
          "state": {
            "_dom_classes": [],
            "_model_module": "@jupyter-widgets/controls",
            "_model_module_version": "1.5.0",
            "_model_name": "HBoxModel",
            "_view_count": null,
            "_view_module": "@jupyter-widgets/controls",
            "_view_module_version": "1.5.0",
            "_view_name": "HBoxView",
            "box_style": "",
            "children": [
              "IPY_MODEL_0c3e002e1ea14685857e90afd67da42a",
              "IPY_MODEL_7843f718860d47b5be94f4cc67be7621",
              "IPY_MODEL_354bdf70fb264900aa48d6e90824ad68"
            ],
            "layout": "IPY_MODEL_9d27ef474ff04ac39a3fb2ca68edc958"
          }
        },
        "0c3e002e1ea14685857e90afd67da42a": {
          "model_module": "@jupyter-widgets/controls",
          "model_name": "HTMLModel",
          "model_module_version": "1.5.0",
          "state": {
            "_dom_classes": [],
            "_model_module": "@jupyter-widgets/controls",
            "_model_module_version": "1.5.0",
            "_model_name": "HTMLModel",
            "_view_count": null,
            "_view_module": "@jupyter-widgets/controls",
            "_view_module_version": "1.5.0",
            "_view_name": "HTMLView",
            "description": "",
            "description_tooltip": null,
            "layout": "IPY_MODEL_b8d0ad8bb2ca4693833759949b6bfa00",
            "placeholder": "​",
            "style": "IPY_MODEL_62295f4252224583a268f94599c56fb5",
            "value": "100%"
          }
        },
        "7843f718860d47b5be94f4cc67be7621": {
          "model_module": "@jupyter-widgets/controls",
          "model_name": "FloatProgressModel",
          "model_module_version": "1.5.0",
          "state": {
            "_dom_classes": [],
            "_model_module": "@jupyter-widgets/controls",
            "_model_module_version": "1.5.0",
            "_model_name": "FloatProgressModel",
            "_view_count": null,
            "_view_module": "@jupyter-widgets/controls",
            "_view_module_version": "1.5.0",
            "_view_name": "ProgressView",
            "bar_style": "success",
            "description": "",
            "description_tooltip": null,
            "layout": "IPY_MODEL_ccf229ead6e3438b86b55e3aac92fac0",
            "max": 60,
            "min": 0,
            "orientation": "horizontal",
            "style": "IPY_MODEL_288ac87012084488aaeaf32d3d80e4d9",
            "value": 60
          }
        },
        "354bdf70fb264900aa48d6e90824ad68": {
          "model_module": "@jupyter-widgets/controls",
          "model_name": "HTMLModel",
          "model_module_version": "1.5.0",
          "state": {
            "_dom_classes": [],
            "_model_module": "@jupyter-widgets/controls",
            "_model_module_version": "1.5.0",
            "_model_name": "HTMLModel",
            "_view_count": null,
            "_view_module": "@jupyter-widgets/controls",
            "_view_module_version": "1.5.0",
            "_view_name": "HTMLView",
            "description": "",
            "description_tooltip": null,
            "layout": "IPY_MODEL_82ce66a9c30748898c205f3d81f88f06",
            "placeholder": "​",
            "style": "IPY_MODEL_88bf14e6dd6c4d90abb70583166766bd",
            "value": " 60/60 [03:52&lt;00:00,  3.89s/it]"
          }
        },
        "9d27ef474ff04ac39a3fb2ca68edc958": {
          "model_module": "@jupyter-widgets/base",
          "model_name": "LayoutModel",
          "model_module_version": "1.2.0",
          "state": {
            "_model_module": "@jupyter-widgets/base",
            "_model_module_version": "1.2.0",
            "_model_name": "LayoutModel",
            "_view_count": null,
            "_view_module": "@jupyter-widgets/base",
            "_view_module_version": "1.2.0",
            "_view_name": "LayoutView",
            "align_content": null,
            "align_items": null,
            "align_self": null,
            "border": null,
            "bottom": null,
            "display": null,
            "flex": null,
            "flex_flow": null,
            "grid_area": null,
            "grid_auto_columns": null,
            "grid_auto_flow": null,
            "grid_auto_rows": null,
            "grid_column": null,
            "grid_gap": null,
            "grid_row": null,
            "grid_template_areas": null,
            "grid_template_columns": null,
            "grid_template_rows": null,
            "height": null,
            "justify_content": null,
            "justify_items": null,
            "left": null,
            "margin": null,
            "max_height": null,
            "max_width": null,
            "min_height": null,
            "min_width": null,
            "object_fit": null,
            "object_position": null,
            "order": null,
            "overflow": null,
            "overflow_x": null,
            "overflow_y": null,
            "padding": null,
            "right": null,
            "top": null,
            "visibility": null,
            "width": null
          }
        },
        "b8d0ad8bb2ca4693833759949b6bfa00": {
          "model_module": "@jupyter-widgets/base",
          "model_name": "LayoutModel",
          "model_module_version": "1.2.0",
          "state": {
            "_model_module": "@jupyter-widgets/base",
            "_model_module_version": "1.2.0",
            "_model_name": "LayoutModel",
            "_view_count": null,
            "_view_module": "@jupyter-widgets/base",
            "_view_module_version": "1.2.0",
            "_view_name": "LayoutView",
            "align_content": null,
            "align_items": null,
            "align_self": null,
            "border": null,
            "bottom": null,
            "display": null,
            "flex": null,
            "flex_flow": null,
            "grid_area": null,
            "grid_auto_columns": null,
            "grid_auto_flow": null,
            "grid_auto_rows": null,
            "grid_column": null,
            "grid_gap": null,
            "grid_row": null,
            "grid_template_areas": null,
            "grid_template_columns": null,
            "grid_template_rows": null,
            "height": null,
            "justify_content": null,
            "justify_items": null,
            "left": null,
            "margin": null,
            "max_height": null,
            "max_width": null,
            "min_height": null,
            "min_width": null,
            "object_fit": null,
            "object_position": null,
            "order": null,
            "overflow": null,
            "overflow_x": null,
            "overflow_y": null,
            "padding": null,
            "right": null,
            "top": null,
            "visibility": null,
            "width": null
          }
        },
        "62295f4252224583a268f94599c56fb5": {
          "model_module": "@jupyter-widgets/controls",
          "model_name": "DescriptionStyleModel",
          "model_module_version": "1.5.0",
          "state": {
            "_model_module": "@jupyter-widgets/controls",
            "_model_module_version": "1.5.0",
            "_model_name": "DescriptionStyleModel",
            "_view_count": null,
            "_view_module": "@jupyter-widgets/base",
            "_view_module_version": "1.2.0",
            "_view_name": "StyleView",
            "description_width": ""
          }
        },
        "ccf229ead6e3438b86b55e3aac92fac0": {
          "model_module": "@jupyter-widgets/base",
          "model_name": "LayoutModel",
          "model_module_version": "1.2.0",
          "state": {
            "_model_module": "@jupyter-widgets/base",
            "_model_module_version": "1.2.0",
            "_model_name": "LayoutModel",
            "_view_count": null,
            "_view_module": "@jupyter-widgets/base",
            "_view_module_version": "1.2.0",
            "_view_name": "LayoutView",
            "align_content": null,
            "align_items": null,
            "align_self": null,
            "border": null,
            "bottom": null,
            "display": null,
            "flex": null,
            "flex_flow": null,
            "grid_area": null,
            "grid_auto_columns": null,
            "grid_auto_flow": null,
            "grid_auto_rows": null,
            "grid_column": null,
            "grid_gap": null,
            "grid_row": null,
            "grid_template_areas": null,
            "grid_template_columns": null,
            "grid_template_rows": null,
            "height": null,
            "justify_content": null,
            "justify_items": null,
            "left": null,
            "margin": null,
            "max_height": null,
            "max_width": null,
            "min_height": null,
            "min_width": null,
            "object_fit": null,
            "object_position": null,
            "order": null,
            "overflow": null,
            "overflow_x": null,
            "overflow_y": null,
            "padding": null,
            "right": null,
            "top": null,
            "visibility": null,
            "width": null
          }
        },
        "288ac87012084488aaeaf32d3d80e4d9": {
          "model_module": "@jupyter-widgets/controls",
          "model_name": "ProgressStyleModel",
          "model_module_version": "1.5.0",
          "state": {
            "_model_module": "@jupyter-widgets/controls",
            "_model_module_version": "1.5.0",
            "_model_name": "ProgressStyleModel",
            "_view_count": null,
            "_view_module": "@jupyter-widgets/base",
            "_view_module_version": "1.2.0",
            "_view_name": "StyleView",
            "bar_color": null,
            "description_width": ""
          }
        },
        "82ce66a9c30748898c205f3d81f88f06": {
          "model_module": "@jupyter-widgets/base",
          "model_name": "LayoutModel",
          "model_module_version": "1.2.0",
          "state": {
            "_model_module": "@jupyter-widgets/base",
            "_model_module_version": "1.2.0",
            "_model_name": "LayoutModel",
            "_view_count": null,
            "_view_module": "@jupyter-widgets/base",
            "_view_module_version": "1.2.0",
            "_view_name": "LayoutView",
            "align_content": null,
            "align_items": null,
            "align_self": null,
            "border": null,
            "bottom": null,
            "display": null,
            "flex": null,
            "flex_flow": null,
            "grid_area": null,
            "grid_auto_columns": null,
            "grid_auto_flow": null,
            "grid_auto_rows": null,
            "grid_column": null,
            "grid_gap": null,
            "grid_row": null,
            "grid_template_areas": null,
            "grid_template_columns": null,
            "grid_template_rows": null,
            "height": null,
            "justify_content": null,
            "justify_items": null,
            "left": null,
            "margin": null,
            "max_height": null,
            "max_width": null,
            "min_height": null,
            "min_width": null,
            "object_fit": null,
            "object_position": null,
            "order": null,
            "overflow": null,
            "overflow_x": null,
            "overflow_y": null,
            "padding": null,
            "right": null,
            "top": null,
            "visibility": null,
            "width": null
          }
        },
        "88bf14e6dd6c4d90abb70583166766bd": {
          "model_module": "@jupyter-widgets/controls",
          "model_name": "DescriptionStyleModel",
          "model_module_version": "1.5.0",
          "state": {
            "_model_module": "@jupyter-widgets/controls",
            "_model_module_version": "1.5.0",
            "_model_name": "DescriptionStyleModel",
            "_view_count": null,
            "_view_module": "@jupyter-widgets/base",
            "_view_module_version": "1.2.0",
            "_view_name": "StyleView",
            "description_width": ""
          }
        },
        "874175cada77436c9fb8873b78ff83db": {
          "model_module": "@jupyter-widgets/controls",
          "model_name": "HBoxModel",
          "model_module_version": "1.5.0",
          "state": {
            "_dom_classes": [],
            "_model_module": "@jupyter-widgets/controls",
            "_model_module_version": "1.5.0",
            "_model_name": "HBoxModel",
            "_view_count": null,
            "_view_module": "@jupyter-widgets/controls",
            "_view_module_version": "1.5.0",
            "_view_name": "HBoxView",
            "box_style": "",
            "children": [
              "IPY_MODEL_2f3bc12e631749b7a924092fc570a07e",
              "IPY_MODEL_12796405fe7c4fdf8a82f8646bdf993b",
              "IPY_MODEL_0199bd3d702d417792a998167b2dad50"
            ],
            "layout": "IPY_MODEL_5741a22500c64505b3950982b401fad8"
          }
        },
        "2f3bc12e631749b7a924092fc570a07e": {
          "model_module": "@jupyter-widgets/controls",
          "model_name": "HTMLModel",
          "model_module_version": "1.5.0",
          "state": {
            "_dom_classes": [],
            "_model_module": "@jupyter-widgets/controls",
            "_model_module_version": "1.5.0",
            "_model_name": "HTMLModel",
            "_view_count": null,
            "_view_module": "@jupyter-widgets/controls",
            "_view_module_version": "1.5.0",
            "_view_name": "HTMLView",
            "description": "",
            "description_tooltip": null,
            "layout": "IPY_MODEL_6a3e9686fa4d4ec596a538519add76f3",
            "placeholder": "​",
            "style": "IPY_MODEL_2258a633313242cdb7c73c797f5c87b0",
            "value": "100%"
          }
        },
        "12796405fe7c4fdf8a82f8646bdf993b": {
          "model_module": "@jupyter-widgets/controls",
          "model_name": "FloatProgressModel",
          "model_module_version": "1.5.0",
          "state": {
            "_dom_classes": [],
            "_model_module": "@jupyter-widgets/controls",
            "_model_module_version": "1.5.0",
            "_model_name": "FloatProgressModel",
            "_view_count": null,
            "_view_module": "@jupyter-widgets/controls",
            "_view_module_version": "1.5.0",
            "_view_name": "ProgressView",
            "bar_style": "success",
            "description": "",
            "description_tooltip": null,
            "layout": "IPY_MODEL_66a4e158b9b9413fb01be4045c6eafd8",
            "max": 60,
            "min": 0,
            "orientation": "horizontal",
            "style": "IPY_MODEL_1815d27779c046c69e0726ef2c36897e",
            "value": 60
          }
        },
        "0199bd3d702d417792a998167b2dad50": {
          "model_module": "@jupyter-widgets/controls",
          "model_name": "HTMLModel",
          "model_module_version": "1.5.0",
          "state": {
            "_dom_classes": [],
            "_model_module": "@jupyter-widgets/controls",
            "_model_module_version": "1.5.0",
            "_model_name": "HTMLModel",
            "_view_count": null,
            "_view_module": "@jupyter-widgets/controls",
            "_view_module_version": "1.5.0",
            "_view_name": "HTMLView",
            "description": "",
            "description_tooltip": null,
            "layout": "IPY_MODEL_319411962c1e41639be0788e7a0e96f9",
            "placeholder": "​",
            "style": "IPY_MODEL_6c8310e79ac74bf797fe49099fe44789",
            "value": " 60/60 [00:43&lt;00:00,  1.38it/s]"
          }
        },
        "5741a22500c64505b3950982b401fad8": {
          "model_module": "@jupyter-widgets/base",
          "model_name": "LayoutModel",
          "model_module_version": "1.2.0",
          "state": {
            "_model_module": "@jupyter-widgets/base",
            "_model_module_version": "1.2.0",
            "_model_name": "LayoutModel",
            "_view_count": null,
            "_view_module": "@jupyter-widgets/base",
            "_view_module_version": "1.2.0",
            "_view_name": "LayoutView",
            "align_content": null,
            "align_items": null,
            "align_self": null,
            "border": null,
            "bottom": null,
            "display": null,
            "flex": null,
            "flex_flow": null,
            "grid_area": null,
            "grid_auto_columns": null,
            "grid_auto_flow": null,
            "grid_auto_rows": null,
            "grid_column": null,
            "grid_gap": null,
            "grid_row": null,
            "grid_template_areas": null,
            "grid_template_columns": null,
            "grid_template_rows": null,
            "height": null,
            "justify_content": null,
            "justify_items": null,
            "left": null,
            "margin": null,
            "max_height": null,
            "max_width": null,
            "min_height": null,
            "min_width": null,
            "object_fit": null,
            "object_position": null,
            "order": null,
            "overflow": null,
            "overflow_x": null,
            "overflow_y": null,
            "padding": null,
            "right": null,
            "top": null,
            "visibility": null,
            "width": null
          }
        },
        "6a3e9686fa4d4ec596a538519add76f3": {
          "model_module": "@jupyter-widgets/base",
          "model_name": "LayoutModel",
          "model_module_version": "1.2.0",
          "state": {
            "_model_module": "@jupyter-widgets/base",
            "_model_module_version": "1.2.0",
            "_model_name": "LayoutModel",
            "_view_count": null,
            "_view_module": "@jupyter-widgets/base",
            "_view_module_version": "1.2.0",
            "_view_name": "LayoutView",
            "align_content": null,
            "align_items": null,
            "align_self": null,
            "border": null,
            "bottom": null,
            "display": null,
            "flex": null,
            "flex_flow": null,
            "grid_area": null,
            "grid_auto_columns": null,
            "grid_auto_flow": null,
            "grid_auto_rows": null,
            "grid_column": null,
            "grid_gap": null,
            "grid_row": null,
            "grid_template_areas": null,
            "grid_template_columns": null,
            "grid_template_rows": null,
            "height": null,
            "justify_content": null,
            "justify_items": null,
            "left": null,
            "margin": null,
            "max_height": null,
            "max_width": null,
            "min_height": null,
            "min_width": null,
            "object_fit": null,
            "object_position": null,
            "order": null,
            "overflow": null,
            "overflow_x": null,
            "overflow_y": null,
            "padding": null,
            "right": null,
            "top": null,
            "visibility": null,
            "width": null
          }
        },
        "2258a633313242cdb7c73c797f5c87b0": {
          "model_module": "@jupyter-widgets/controls",
          "model_name": "DescriptionStyleModel",
          "model_module_version": "1.5.0",
          "state": {
            "_model_module": "@jupyter-widgets/controls",
            "_model_module_version": "1.5.0",
            "_model_name": "DescriptionStyleModel",
            "_view_count": null,
            "_view_module": "@jupyter-widgets/base",
            "_view_module_version": "1.2.0",
            "_view_name": "StyleView",
            "description_width": ""
          }
        },
        "66a4e158b9b9413fb01be4045c6eafd8": {
          "model_module": "@jupyter-widgets/base",
          "model_name": "LayoutModel",
          "model_module_version": "1.2.0",
          "state": {
            "_model_module": "@jupyter-widgets/base",
            "_model_module_version": "1.2.0",
            "_model_name": "LayoutModel",
            "_view_count": null,
            "_view_module": "@jupyter-widgets/base",
            "_view_module_version": "1.2.0",
            "_view_name": "LayoutView",
            "align_content": null,
            "align_items": null,
            "align_self": null,
            "border": null,
            "bottom": null,
            "display": null,
            "flex": null,
            "flex_flow": null,
            "grid_area": null,
            "grid_auto_columns": null,
            "grid_auto_flow": null,
            "grid_auto_rows": null,
            "grid_column": null,
            "grid_gap": null,
            "grid_row": null,
            "grid_template_areas": null,
            "grid_template_columns": null,
            "grid_template_rows": null,
            "height": null,
            "justify_content": null,
            "justify_items": null,
            "left": null,
            "margin": null,
            "max_height": null,
            "max_width": null,
            "min_height": null,
            "min_width": null,
            "object_fit": null,
            "object_position": null,
            "order": null,
            "overflow": null,
            "overflow_x": null,
            "overflow_y": null,
            "padding": null,
            "right": null,
            "top": null,
            "visibility": null,
            "width": null
          }
        },
        "1815d27779c046c69e0726ef2c36897e": {
          "model_module": "@jupyter-widgets/controls",
          "model_name": "ProgressStyleModel",
          "model_module_version": "1.5.0",
          "state": {
            "_model_module": "@jupyter-widgets/controls",
            "_model_module_version": "1.5.0",
            "_model_name": "ProgressStyleModel",
            "_view_count": null,
            "_view_module": "@jupyter-widgets/base",
            "_view_module_version": "1.2.0",
            "_view_name": "StyleView",
            "bar_color": null,
            "description_width": ""
          }
        },
        "319411962c1e41639be0788e7a0e96f9": {
          "model_module": "@jupyter-widgets/base",
          "model_name": "LayoutModel",
          "model_module_version": "1.2.0",
          "state": {
            "_model_module": "@jupyter-widgets/base",
            "_model_module_version": "1.2.0",
            "_model_name": "LayoutModel",
            "_view_count": null,
            "_view_module": "@jupyter-widgets/base",
            "_view_module_version": "1.2.0",
            "_view_name": "LayoutView",
            "align_content": null,
            "align_items": null,
            "align_self": null,
            "border": null,
            "bottom": null,
            "display": null,
            "flex": null,
            "flex_flow": null,
            "grid_area": null,
            "grid_auto_columns": null,
            "grid_auto_flow": null,
            "grid_auto_rows": null,
            "grid_column": null,
            "grid_gap": null,
            "grid_row": null,
            "grid_template_areas": null,
            "grid_template_columns": null,
            "grid_template_rows": null,
            "height": null,
            "justify_content": null,
            "justify_items": null,
            "left": null,
            "margin": null,
            "max_height": null,
            "max_width": null,
            "min_height": null,
            "min_width": null,
            "object_fit": null,
            "object_position": null,
            "order": null,
            "overflow": null,
            "overflow_x": null,
            "overflow_y": null,
            "padding": null,
            "right": null,
            "top": null,
            "visibility": null,
            "width": null
          }
        },
        "6c8310e79ac74bf797fe49099fe44789": {
          "model_module": "@jupyter-widgets/controls",
          "model_name": "DescriptionStyleModel",
          "model_module_version": "1.5.0",
          "state": {
            "_model_module": "@jupyter-widgets/controls",
            "_model_module_version": "1.5.0",
            "_model_name": "DescriptionStyleModel",
            "_view_count": null,
            "_view_module": "@jupyter-widgets/base",
            "_view_module_version": "1.2.0",
            "_view_name": "StyleView",
            "description_width": ""
          }
        }
      }
    }
  },
  "cells": [
    {
      "cell_type": "markdown",
      "metadata": {
        "id": "view-in-github",
        "colab_type": "text"
      },
      "source": [
        "<a href=\"https://colab.research.google.com/github/dbtjr1103/Basic_practice/blob/main/to_find_food_classification_model.ipynb\" target=\"_parent\"><img src=\"https://colab.research.google.com/assets/colab-badge.svg\" alt=\"Open In Colab\"/></a>"
      ]
    },
    {
      "cell_type": "markdown",
      "source": [
        "# data download"
      ],
      "metadata": {
        "id": "_wW8saf3Enda"
      }
    },
    {
      "cell_type": "code",
      "execution_count": 1,
      "metadata": {
        "colab": {
          "base_uri": "https://localhost:8080/"
        },
        "id": "Zg_JgtmkEZ1t",
        "outputId": "4cdd019e-e868-40f7-bc29-ed36b1fb45eb"
      },
      "outputs": [
        {
          "output_type": "stream",
          "name": "stdout",
          "text": [
            "Looking in indexes: https://pypi.org/simple, https://us-python.pkg.dev/colab-wheels/public/simple/\n",
            "Collecting split-folders\n",
            "  Downloading split_folders-0.5.1-py3-none-any.whl (8.4 kB)\n",
            "Installing collected packages: split-folders\n",
            "Successfully installed split-folders-0.5.1\n"
          ]
        }
      ],
      "source": [
        "!pip install split-folders\n",
        "!pip install -q kaggle"
      ]
    },
    {
      "cell_type": "code",
      "source": [
        "# .kaggle 폴더 생성\n",
        "!mkdir -p ~/.kaggle/\n",
        "# kaggle.josn .kaggle로 복사\n",
        "!cp kaggle.json ~/.kaggle/\n",
        "# 해당 폴더 목록 확인(복사 잘 되었는지 확인)\n",
        "!ls ~/.kaggle"
      ],
      "metadata": {
        "colab": {
          "base_uri": "https://localhost:8080/"
        },
        "id": "o5-BtNwXE232",
        "outputId": "c9f7a1d7-75dd-49c2-a6ba-34a37817f180"
      },
      "execution_count": 3,
      "outputs": [
        {
          "output_type": "stream",
          "name": "stdout",
          "text": [
            "kaggle.json\n"
          ]
        }
      ]
    },
    {
      "cell_type": "code",
      "source": [
        "cd ~"
      ],
      "metadata": {
        "colab": {
          "base_uri": "https://localhost:8080/"
        },
        "id": "QwmNPCtPE4UT",
        "outputId": "c3940183-d4b5-4543-d3c2-d2fd671ccfb0"
      },
      "execution_count": 5,
      "outputs": [
        {
          "output_type": "stream",
          "name": "stdout",
          "text": [
            "/root\n"
          ]
        }
      ]
    },
    {
      "cell_type": "code",
      "source": [
        "!chmod 600 ~/.kaggle/kaggle.json"
      ],
      "metadata": {
        "id": "PiatOcaRE6Cf"
      },
      "execution_count": 6,
      "outputs": []
    },
    {
      "cell_type": "code",
      "source": [
        "cd /content"
      ],
      "metadata": {
        "colab": {
          "base_uri": "https://localhost:8080/"
        },
        "id": "0fDcJrr-GXo6",
        "outputId": "3651ce83-ab8a-4b6d-9abc-8d7db02a33dd"
      },
      "execution_count": 7,
      "outputs": [
        {
          "output_type": "stream",
          "name": "stdout",
          "text": [
            "/content\n"
          ]
        }
      ]
    },
    {
      "cell_type": "code",
      "source": [
        "!kaggle datasets download -d kmader/food41"
      ],
      "metadata": {
        "colab": {
          "base_uri": "https://localhost:8080/"
        },
        "id": "Fw-uQL2NFAKR",
        "outputId": "6bb6bf85-dcb6-4808-9537-51bdb55e65dc"
      },
      "execution_count": 8,
      "outputs": [
        {
          "output_type": "stream",
          "name": "stdout",
          "text": [
            "Downloading food41.zip to /content\n",
            "100% 5.30G/5.30G [00:30<00:00, 193MB/s]\n",
            "100% 5.30G/5.30G [00:30<00:00, 188MB/s]\n"
          ]
        }
      ]
    },
    {
      "cell_type": "code",
      "source": [
        "!unzip -q food41.zip"
      ],
      "metadata": {
        "id": "l3zXtb4KFDQV"
      },
      "execution_count": 9,
      "outputs": []
    },
    {
      "cell_type": "code",
      "source": [
        "import splitfolders\n",
        "\n",
        "import os\n",
        "\n",
        "import cv2\n",
        "import numpy as np\n",
        "from tqdm.notebook import tqdm\n",
        "\n",
        "from matplotlib import pyplot as plt\n",
        "import matplotlib.cm as cm\n",
        "\n",
        "import tensorflow as tf\n",
        "\n",
        "import pickle\n",
        "\n",
        "from tensorflow.keras.preprocessing.image import ImageDataGenerator, array_to_img, img_to_array, load_img\n",
        "\n",
        "from tensorflow.keras import datasets, layers, models\n",
        "\n",
        "from tensorflow.keras.layers import Dense, Flatten, MaxPooling2D\n",
        "from tensorflow.keras import Input\n",
        "from tensorflow.keras.layers import Dropout, BatchNormalization\n",
        "\n",
        "import matplotlib.pyplot as plt\n",
        "\n",
        "from sklearn.model_selection import train_test_split"
      ],
      "metadata": {
        "id": "-4nFhgnFFEIN"
      },
      "execution_count": 2,
      "outputs": []
    },
    {
      "cell_type": "code",
      "source": [
        "# label 101 -> 60\n",
        "import shutil\n",
        "\n",
        "food_list = ['baby_back_ribs', 'baklava', 'beignets', 'bruschetta', 'ceviche', 'crab_cakes', 'croque_madame', 'deviled_eggs',\n",
        "             'escargots', 'falafel', 'french_onion_soup', 'frozen_yogurt', 'hot_and_sour_soup', 'huevos_rancheros',\n",
        "             'hummus', 'lobster_bisque', 'poutine', 'samosa', 'shrimp_and_grits', 'clam_chowder',\n",
        "             'seaweed_salad', 'paella', 'apple_pie', 'beef_tartare', 'beet_salad', 'bread_pudding', 'breakfast_burrito',\n",
        "             'cannoli', 'caprese_salad', 'carrot_cake', 'chocolate_mousse', 'creme_brulee', 'fish_and_chips', 'fried_calamari',\n",
        "             'gnocchi', 'greek_salad', 'panna_cotta', 'ravioli', 'spaghetti_carbonara', 'spring_rolls',\n",
        "             'tuna_tartare']\n",
        "\n",
        "for food in food_list:\n",
        "\n",
        "  shutil.rmtree('/content/images/' + food)"
      ],
      "metadata": {
        "id": "-y_-mp5ZFjWR"
      },
      "execution_count": 11,
      "outputs": []
    },
    {
      "cell_type": "code",
      "source": [
        "folder_path = '/content/images'\n",
        "label_names = os.listdir(folder_path)\n",
        "print(len(label_names))"
      ],
      "metadata": {
        "colab": {
          "base_uri": "https://localhost:8080/"
        },
        "id": "5lXKOtpqFnAI",
        "outputId": "637f6ca6-89cc-4048-eca9-49283f682c0a"
      },
      "execution_count": 3,
      "outputs": [
        {
          "output_type": "stream",
          "name": "stdout",
          "text": [
            "60\n"
          ]
        }
      ]
    },
    {
      "cell_type": "code",
      "source": [
        "dataset = {}\n",
        "\n",
        "# 이미지와 라벨 리스트에 담기\n",
        "for label in label_names:\n",
        "    sub_path = folder_path+'/'+label+'/'\n",
        "    dataset[label] = []\n",
        "    for filename in os.listdir(sub_path):\n",
        "        dataset[label].append(sub_path+filename)\n",
        "\n",
        "len(dataset)"
      ],
      "metadata": {
        "colab": {
          "base_uri": "https://localhost:8080/"
        },
        "id": "SJpDTUyuFtHI",
        "outputId": "2b8a3fcc-6ae6-481d-ad4e-c21b76856912"
      },
      "execution_count": 13,
      "outputs": [
        {
          "output_type": "execute_result",
          "data": {
            "text/plain": [
              "60"
            ]
          },
          "metadata": {},
          "execution_count": 13
        }
      ]
    },
    {
      "cell_type": "code",
      "source": [
        "# resize 덮어씌우기\n",
        "for label, filenames in tqdm(dataset.items()):\n",
        "    for filename in filenames:\n",
        "        img = cv2.imread(filename)\n",
        "\n",
        "        # 이미지의 x, y가 128이 넘을 경우 작게해주기\n",
        "        percent = 1\n",
        "        if(img.shape[1] > img.shape[0]) :       # 이미지의 가로가 세보다 크면 가로를 128으로 맞추고 세로를 비율에 맞춰서\n",
        "            percent = 160/img.shape[1]\n",
        "        else :\n",
        "            percent = 160/img.shape[0]\n",
        "\n",
        "        img = cv2.resize(img, dsize=(0, 0), fx=percent, fy=percent, interpolation=cv2.INTER_LINEAR)\n",
        "                # 이미지 범위 지정\n",
        "        y,x,h,w = (0,0,img.shape[0], img.shape[1])\n",
        "\n",
        "        # 그림 주변에 검은색으로 칠하기\n",
        "        w_x = (160-(w-x))/2  # w_x = (128 - 그림)을 뺀 나머지 영역 크기 [ 그림나머지/2 [그림] 그림나머지/2 ]\n",
        "        h_y = (160-(h-y))/2\n",
        "\n",
        "        if(w_x < 0):         # 크기가 -면 0으로 지정.\n",
        "            w_x = 0\n",
        "        elif(h_y < 0):\n",
        "            h_y = 0\n",
        "\n",
        "        M = np.float32([[1,0,w_x], [0,1,h_y]])  #(2*3 이차원 행렬)\n",
        "        img_re = cv2.warpAffine(img, M, (160, 160)) #이동변환  \n",
        "       \n",
        "        cv2.imwrite('/content/images/{0}/{1}'.format(label, filename.split(\"/\")[-1]) , img_re)"
      ],
      "metadata": {
        "colab": {
          "base_uri": "https://localhost:8080/",
          "height": 49,
          "referenced_widgets": [
            "7bcfb8593e0943faafd1d218e1534ae6",
            "0c3e002e1ea14685857e90afd67da42a",
            "7843f718860d47b5be94f4cc67be7621",
            "354bdf70fb264900aa48d6e90824ad68",
            "9d27ef474ff04ac39a3fb2ca68edc958",
            "b8d0ad8bb2ca4693833759949b6bfa00",
            "62295f4252224583a268f94599c56fb5",
            "ccf229ead6e3438b86b55e3aac92fac0",
            "288ac87012084488aaeaf32d3d80e4d9",
            "82ce66a9c30748898c205f3d81f88f06",
            "88bf14e6dd6c4d90abb70583166766bd"
          ]
        },
        "id": "gRU2rciyFud3",
        "outputId": "e0862895-7e8e-4d44-9c42-69a8cbee1a8c"
      },
      "execution_count": 14,
      "outputs": [
        {
          "output_type": "display_data",
          "data": {
            "text/plain": [
              "  0%|          | 0/60 [00:00<?, ?it/s]"
            ],
            "application/vnd.jupyter.widget-view+json": {
              "version_major": 2,
              "version_minor": 0,
              "model_id": "7bcfb8593e0943faafd1d218e1534ae6"
            }
          },
          "metadata": {}
        }
      ]
    },
    {
      "cell_type": "code",
      "source": [
        "splitfolders.ratio('/content/images', output='/content/dataset', seed=77, ratio=(0.8, 0.2))"
      ],
      "metadata": {
        "colab": {
          "base_uri": "https://localhost:8080/"
        },
        "id": "9DqYUrwlFyfW",
        "outputId": "13ec25c3-f823-4f77-b12f-96597245c102"
      },
      "execution_count": 15,
      "outputs": [
        {
          "output_type": "stream",
          "name": "stderr",
          "text": [
            "Copying files: 60000 files [00:07, 7941.11 files/s]\n"
          ]
        }
      ]
    },
    {
      "cell_type": "code",
      "source": [
        "label2index = {}\n",
        "for idx, label in enumerate(label_names):\n",
        "    label2index[label] = idx\n",
        "label2index"
      ],
      "metadata": {
        "colab": {
          "base_uri": "https://localhost:8080/"
        },
        "id": "spzBYTM7IiCI",
        "outputId": "8a548e5b-9db7-4b65-9cfa-b842a976ea64"
      },
      "execution_count": 4,
      "outputs": [
        {
          "output_type": "execute_result",
          "data": {
            "text/plain": [
              "{'steak': 0,\n",
              " 'lasagna': 1,\n",
              " 'pad_thai': 2,\n",
              " 'french_toast': 3,\n",
              " 'nachos': 4,\n",
              " 'onion_rings': 5,\n",
              " 'waffles': 6,\n",
              " 'gyoza': 7,\n",
              " 'chicken_wings': 8,\n",
              " 'foie_gras': 9,\n",
              " 'red_velvet_cake': 10,\n",
              " 'caesar_salad': 11,\n",
              " 'mussels': 12,\n",
              " 'strawberry_shortcake': 13,\n",
              " 'pulled_pork_sandwich': 14,\n",
              " 'dumplings': 15,\n",
              " 'ice_cream': 16,\n",
              " 'grilled_cheese_sandwich': 17,\n",
              " 'pho': 18,\n",
              " 'cup_cakes': 19,\n",
              " 'filet_mignon': 20,\n",
              " 'peking_duck': 21,\n",
              " 'grilled_salmon': 22,\n",
              " 'tacos': 23,\n",
              " 'cheesecake': 24,\n",
              " 'macarons': 25,\n",
              " 'chicken_quesadilla': 26,\n",
              " 'pizza': 27,\n",
              " 'french_fries': 28,\n",
              " 'guacamole': 29,\n",
              " 'macaroni_and_cheese': 30,\n",
              " 'bibimbap': 31,\n",
              " 'donuts': 32,\n",
              " 'sashimi': 33,\n",
              " 'sushi': 34,\n",
              " 'hamburger': 35,\n",
              " 'risotto': 36,\n",
              " 'takoyaki': 37,\n",
              " 'spaghetti_bolognese': 38,\n",
              " 'hot_dog': 39,\n",
              " 'pork_chop': 40,\n",
              " 'pancakes': 41,\n",
              " 'garlic_bread': 42,\n",
              " 'omelette': 43,\n",
              " 'miso_soup': 44,\n",
              " 'club_sandwich': 45,\n",
              " 'prime_rib': 46,\n",
              " 'eggs_benedict': 47,\n",
              " 'edamame': 48,\n",
              " 'oysters': 49,\n",
              " 'chicken_curry': 50,\n",
              " 'tiramisu': 51,\n",
              " 'lobster_roll_sandwich': 52,\n",
              " 'ramen': 53,\n",
              " 'fried_rice': 54,\n",
              " 'beef_carpaccio': 55,\n",
              " 'scallops': 56,\n",
              " 'cheese_plate': 57,\n",
              " 'chocolate_cake': 58,\n",
              " 'churros': 59}"
            ]
          },
          "metadata": {},
          "execution_count": 4
        }
      ]
    },
    {
      "cell_type": "code",
      "source": [
        "# datagen = ImageDataGenerator(\n",
        "#     rotation_range=90,\n",
        "#     width_shift_range=0.2,\n",
        "#     height_shift_range=0.2,\n",
        "#     shear_range=0.2,\n",
        "#     zoom_range=0.2,\n",
        "#     horizontal_flip=True,\n",
        "#     vertical_flip=True,\n",
        "# )"
      ],
      "metadata": {
        "id": "_Gr1lPjmWYfb"
      },
      "execution_count": null,
      "outputs": []
    },
    {
      "cell_type": "code",
      "source": [
        "# folder_path = '/content/dataset/train'\n",
        "\n",
        "# for label in  tqdm(os.listdir(folder_path)):\n",
        "#     label_path = folder_path + '/' + label + '/'\n",
        "#     for filename in os.listdir(label_path): \n",
        "#         filepath = label_path + filename\n",
        "\n",
        "#         img = load_img(filepath)\n",
        "#         # img 출력\n",
        "#         # plt.imshow(img)\n",
        "#         # break\n",
        "#         x = img_to_array(img)\n",
        "#         # x.shape 출력\n",
        "#         # print(x.shape)\n",
        "#         # break\n",
        "#         x = x.reshape((1,) + x.shape)\n",
        "\n",
        "#         i = 0\n",
        "#         # flow : augmentation 함수\n",
        "#         for batch in datagen.flow(x, batch_size=1,\n",
        "#                                 save_to_dir=label_path, save_prefix=label, save_format='jpg'):\n",
        "#             i += 1\n",
        "#             if i > 1:\n",
        "#                 break  "
      ],
      "metadata": {
        "colab": {
          "base_uri": "https://localhost:8080/",
          "height": 49,
          "referenced_widgets": [
            "c1dec6d64dc54cb8b4daf3bbdd2b66c8",
            "262d33df95ef46c896700fdf26a05ac6",
            "413d6ff87a5746a2b9035eb653b40329",
            "4eac3caacee743c28a69dd3d90353e81",
            "f9837a705c474f8d869ffc02de106444",
            "c277fbbcbf5f4baca8f378841b805131",
            "5821f10f2ba243d882f0f898a4bc054f",
            "96086d9f4a5348e080570b03ca9122ef",
            "6f1323c4ae2a410e9178bb1b113a5556",
            "61a9f29789694b959a2aeb11a16061de",
            "c1b6adeba5f341e9911d5029361da38f"
          ]
        },
        "id": "VQEWPVUnUjGH",
        "outputId": "6b419ff0-829c-46e8-f7ff-24b49f7ebfe0"
      },
      "execution_count": null,
      "outputs": [
        {
          "output_type": "display_data",
          "data": {
            "text/plain": [
              "  0%|          | 0/60 [00:00<?, ?it/s]"
            ],
            "application/vnd.jupyter.widget-view+json": {
              "version_major": 2,
              "version_minor": 0,
              "model_id": "c1dec6d64dc54cb8b4daf3bbdd2b66c8"
            }
          },
          "metadata": {}
        }
      ]
    },
    {
      "cell_type": "code",
      "source": [
        "folder_path = '/content/dataset/train'\n",
        "dataset = {}\n",
        "\n",
        "# 이미지와 라벨 리스트에 담기\n",
        "for label in os.listdir(folder_path):\n",
        "    sub_path = folder_path+'/'+label+'/'\n",
        "    dataset[label] = []\n",
        "    for filename in os.listdir(sub_path):\n",
        "        dataset[label].append(sub_path+filename)"
      ],
      "metadata": {
        "id": "UjeJhDzNIlMw"
      },
      "execution_count": 5,
      "outputs": []
    },
    {
      "cell_type": "code",
      "source": [
        "x_train, y_train = [], []\n",
        "\n",
        "for label, filenames in tqdm(dataset.items()):\n",
        "    for filename in filenames:\n",
        "        image = cv2.imread(filename) # img를 array 형태로 변경\n",
        "\n",
        "        x_train.append(image)\n",
        "        y_train.append(label2index[label]) # label을 index로 변경"
      ],
      "metadata": {
        "colab": {
          "base_uri": "https://localhost:8080/",
          "height": 49,
          "referenced_widgets": [
            "874175cada77436c9fb8873b78ff83db",
            "2f3bc12e631749b7a924092fc570a07e",
            "12796405fe7c4fdf8a82f8646bdf993b",
            "0199bd3d702d417792a998167b2dad50",
            "5741a22500c64505b3950982b401fad8",
            "6a3e9686fa4d4ec596a538519add76f3",
            "2258a633313242cdb7c73c797f5c87b0",
            "66a4e158b9b9413fb01be4045c6eafd8",
            "1815d27779c046c69e0726ef2c36897e",
            "319411962c1e41639be0788e7a0e96f9",
            "6c8310e79ac74bf797fe49099fe44789"
          ]
        },
        "id": "FDTFHkX-IwGT",
        "outputId": "b2154807-8720-485c-8acc-ab73f7d3aef7"
      },
      "execution_count": 6,
      "outputs": [
        {
          "output_type": "display_data",
          "data": {
            "text/plain": [
              "  0%|          | 0/60 [00:00<?, ?it/s]"
            ],
            "application/vnd.jupyter.widget-view+json": {
              "version_major": 2,
              "version_minor": 0,
              "model_id": "874175cada77436c9fb8873b78ff83db"
            }
          },
          "metadata": {}
        }
      ]
    },
    {
      "cell_type": "code",
      "source": [
        "x_train, y_train = np.array(x_train), np.array(y_train)"
      ],
      "metadata": {
        "id": "xX5_hc2VIx0_"
      },
      "execution_count": 7,
      "outputs": []
    },
    {
      "cell_type": "code",
      "source": [
        "x_train[0]"
      ],
      "metadata": {
        "colab": {
          "base_uri": "https://localhost:8080/"
        },
        "id": "FZcKrrHaSvRx",
        "outputId": "a154b002-bb73-4bac-a9b0-ec7d5e8673ed"
      },
      "execution_count": 8,
      "outputs": [
        {
          "output_type": "execute_result",
          "data": {
            "text/plain": [
              "array([[[252, 230, 218],\n",
              "        [252, 230, 218],\n",
              "        [251, 231, 220],\n",
              "        ...,\n",
              "        [239, 216, 190],\n",
              "        [238, 216, 188],\n",
              "        [237, 215, 187]],\n",
              "\n",
              "       [[251, 232, 219],\n",
              "        [252, 233, 220],\n",
              "        [252, 232, 221],\n",
              "        ...,\n",
              "        [242, 219, 193],\n",
              "        [241, 219, 191],\n",
              "        [240, 218, 190]],\n",
              "\n",
              "       [[251, 233, 222],\n",
              "        [251, 233, 222],\n",
              "        [251, 233, 222],\n",
              "        ...,\n",
              "        [244, 221, 195],\n",
              "        [243, 220, 194],\n",
              "        [242, 219, 193]],\n",
              "\n",
              "       ...,\n",
              "\n",
              "       [[141, 144, 148],\n",
              "        [141, 144, 148],\n",
              "        [141, 144, 149],\n",
              "        ...,\n",
              "        [229, 220, 207],\n",
              "        [225, 213, 201],\n",
              "        [235, 222, 208]],\n",
              "\n",
              "       [[141, 142, 146],\n",
              "        [141, 142, 146],\n",
              "        [141, 141, 147],\n",
              "        ...,\n",
              "        [237, 224, 208],\n",
              "        [240, 225, 209],\n",
              "        [235, 220, 204]],\n",
              "\n",
              "       [[141, 142, 146],\n",
              "        [140, 141, 145],\n",
              "        [139, 139, 145],\n",
              "        ...,\n",
              "        [229, 216, 200],\n",
              "        [233, 217, 200],\n",
              "        [235, 219, 202]]], dtype=uint8)"
            ]
          },
          "metadata": {},
          "execution_count": 8
        }
      ]
    },
    {
      "cell_type": "code",
      "source": [
        "x_train = x_train.astype('int8')\n",
        "# x_train = x_train / 255 ()"
      ],
      "metadata": {
        "id": "F1eisrwIIx5X"
      },
      "execution_count": 13,
      "outputs": []
    },
    {
      "cell_type": "code",
      "source": [
        "x_train.shape, y_train.shape"
      ],
      "metadata": {
        "colab": {
          "base_uri": "https://localhost:8080/"
        },
        "id": "PdEEtLOhIx8n",
        "outputId": "84fdb6ed-eb9a-4dc7-a01a-d526fe41c7f2"
      },
      "execution_count": 9,
      "outputs": [
        {
          "output_type": "execute_result",
          "data": {
            "text/plain": [
              "((48000, 160, 160, 3), (48000,))"
            ]
          },
          "metadata": {},
          "execution_count": 9
        }
      ]
    },
    {
      "cell_type": "code",
      "source": [
        "folder_path = '/content/dataset/val'\n",
        "dataset = {}\n",
        "\n",
        "# 이미지와 라벨 리스트에 담기\n",
        "for label in os.listdir(folder_path):\n",
        "    sub_path = folder_path+'/'+label+'/'\n",
        "    dataset[label] = []\n",
        "    for filename in os.listdir(sub_path):\n",
        "        dataset[label].append(sub_path+filename)"
      ],
      "metadata": {
        "id": "JiIe59zYIx_D"
      },
      "execution_count": 10,
      "outputs": []
    },
    {
      "cell_type": "code",
      "source": [
        "x_val, y_val = [], []\n",
        "\n",
        "for label, filenames in dataset.items():\n",
        "    for filename in filenames:\n",
        "        image = cv2.imread(filename) # img를 array 형태로 변경\n",
        "\n",
        "        x_val.append(image)\n",
        "        y_val.append(label2index[label]) # label을 index로 변경"
      ],
      "metadata": {
        "id": "DQdlF7y8IyB-"
      },
      "execution_count": 11,
      "outputs": []
    },
    {
      "cell_type": "code",
      "source": [
        "x_val, y_val= np.array(x_val), np.array(y_val)"
      ],
      "metadata": {
        "id": "tIZUtTFKIyEQ"
      },
      "execution_count": 12,
      "outputs": []
    },
    {
      "cell_type": "code",
      "source": [
        "x_val = x_val.astype('int8')"
      ],
      "metadata": {
        "id": "EWdgfN3YIyHL"
      },
      "execution_count": 14,
      "outputs": []
    },
    {
      "cell_type": "code",
      "source": [
        "x_val.shape, y_val.shape"
      ],
      "metadata": {
        "colab": {
          "base_uri": "https://localhost:8080/"
        },
        "id": "lbez1VZNIyJ-",
        "outputId": "c41e2c6d-e4f1-48a5-81e2-652550a16002"
      },
      "execution_count": 15,
      "outputs": [
        {
          "output_type": "execute_result",
          "data": {
            "text/plain": [
              "((12000, 160, 160, 3), (12000,))"
            ]
          },
          "metadata": {},
          "execution_count": 15
        }
      ]
    },
    {
      "cell_type": "code",
      "source": [
        "def zero_mean(image):\n",
        "    # zero-centering\n",
        "    return np.mean(image, axis=0)"
      ],
      "metadata": {
        "id": "HzE5eQBATwLu"
      },
      "execution_count": 16,
      "outputs": []
    },
    {
      "cell_type": "code",
      "source": [
        "zero_mean_img = zero_mean(x_train).astype('int8')"
      ],
      "metadata": {
        "id": "nCClBtmyTwOt"
      },
      "execution_count": 17,
      "outputs": []
    },
    {
      "cell_type": "code",
      "source": [
        "x_train -= zero_mean_img\n",
        "x_val -= zero_mean_img"
      ],
      "metadata": {
        "id": "dIikrOfETwRf"
      },
      "execution_count": 18,
      "outputs": []
    },
    {
      "cell_type": "code",
      "source": [
        "x_train[0]"
      ],
      "metadata": {
        "colab": {
          "base_uri": "https://localhost:8080/"
        },
        "id": "0tBb34oqZ7N2",
        "outputId": "f3ff53dd-50ca-467e-a878-7e0bb394cf34"
      },
      "execution_count": 19,
      "outputs": [
        {
          "output_type": "execute_result",
          "data": {
            "text/plain": [
              "array([[[  -9,  -30,  -39],\n",
              "        [  -9,  -30,  -39],\n",
              "        [ -10,  -29,  -37],\n",
              "        ...,\n",
              "        [ -23,  -44,  -67],\n",
              "        [ -24,  -44,  -69],\n",
              "        [ -25,  -45,  -70]],\n",
              "\n",
              "       [[ -10,  -28,  -38],\n",
              "        [  -9,  -26,  -37],\n",
              "        [  -9,  -28,  -36],\n",
              "        ...,\n",
              "        [ -20,  -41,  -64],\n",
              "        [ -21,  -41,  -66],\n",
              "        [ -22,  -42,  -67]],\n",
              "\n",
              "       [[ -10,  -27,  -35],\n",
              "        [ -10,  -27,  -35],\n",
              "        [ -10,  -26,  -35],\n",
              "        ...,\n",
              "        [ -18,  -39,  -62],\n",
              "        [ -19,  -40,  -63],\n",
              "        [ -20,  -41,  -64]],\n",
              "\n",
              "       ...,\n",
              "\n",
              "       [[-116, -111, -103],\n",
              "        [-116, -111, -103],\n",
              "        [-116, -111, -102],\n",
              "        ...,\n",
              "        [ -29,  -35,  -44],\n",
              "        [ -33,  -42,  -50],\n",
              "        [ -23,  -33,  -44]],\n",
              "\n",
              "       [[-116, -113, -105],\n",
              "        [-116, -113, -105],\n",
              "        [-116, -114, -104],\n",
              "        ...,\n",
              "        [ -21,  -31,  -44],\n",
              "        [ -18,  -30,  -43],\n",
              "        [ -23,  -35,  -48]],\n",
              "\n",
              "       [[-117, -113, -106],\n",
              "        [-118, -114, -106],\n",
              "        [-118, -116, -106],\n",
              "        ...,\n",
              "        [ -29,  -39,  -52],\n",
              "        [ -25,  -38,  -52],\n",
              "        [ -23,  -36,  -50]]], dtype=int8)"
            ]
          },
          "metadata": {},
          "execution_count": 19
        }
      ]
    },
    {
      "cell_type": "markdown",
      "source": [
        "# model handling"
      ],
      "metadata": {
        "id": "M036zekrUcTi"
      }
    },
    {
      "cell_type": "code",
      "source": [
        "import tensorflow as tf\n",
        "import numpy as np\n",
        "import pandas as pd\n",
        "from pathlib import Path\n",
        "import os.path\n",
        "\n",
        "from tensorflow.keras.preprocessing.image import ImageDataGenerator, array_to_img, img_to_array, load_img\n",
        "\n",
        "from tensorflow.keras import datasets, layers, models, Input\n",
        "from tensorflow.keras.layers import Dense, Flatten, MaxPooling2D\n",
        "from tensorflow.keras.layers import Dropout, BatchNormalization\n",
        "\n",
        "import matplotlib.pyplot as plt\n",
        "import matplotlib.cm as cm\n",
        "import seaborn as sns\n",
        "\n",
        "from sklearn.model_selection import train_test_split\n",
        "from sklearn.metrics import confusion_matrix, classification_report"
      ],
      "metadata": {
        "id": "NVVFqvq9TwT4"
      },
      "execution_count": 20,
      "outputs": []
    },
    {
      "cell_type": "code",
      "source": [
        "plt.figure()\n",
        "plt.imshow(x_train[1])\n",
        "plt.show()"
      ],
      "metadata": {
        "colab": {
          "base_uri": "https://localhost:8080/",
          "height": 288
        },
        "id": "0PDAVhWTI-1X",
        "outputId": "f624c073-fd40-4b01-e431-ddbe5ad98dec"
      },
      "execution_count": 21,
      "outputs": [
        {
          "output_type": "stream",
          "name": "stderr",
          "text": [
            "WARNING:matplotlib.image:Clipping input data to the valid range for imshow with RGB data ([0..1] for floats or [0..255] for integers).\n"
          ]
        },
        {
          "output_type": "display_data",
          "data": {
            "text/plain": [
              "<Figure size 432x288 with 1 Axes>"
            ],
            "image/png": "[encoded data removed]"
          },
          "metadata": {
            "needs_background": "light"
          }
        }
      ]
    },
    {
      "cell_type": "code",
      "source": [
        "x_train.shape, y_train.shape, x_val.shape, y_val.shape"
      ],
      "metadata": {
        "colab": {
          "base_uri": "https://localhost:8080/"
        },
        "id": "fon0GgAEJA9U",
        "outputId": "f83b62e8-7226-43f5-a81c-cfb47c64dfc2"
      },
      "execution_count": 22,
      "outputs": [
        {
          "output_type": "execute_result",
          "data": {
            "text/plain": [
              "((48000, 160, 160, 3), (48000,), (12000, 160, 160, 3), (12000,))"
            ]
          },
          "metadata": {},
          "execution_count": 22
        }
      ]
    },
    {
      "cell_type": "code",
      "source": [
        "y_train = y_train.reshape((48000,1))\n",
        "y_val = y_val.reshape((12000,1))"
      ],
      "metadata": {
        "id": "X7ePHRVUJBu-"
      },
      "execution_count": 23,
      "outputs": []
    },
    {
      "cell_type": "markdown",
      "source": [
        "## Resnet50"
      ],
      "metadata": {
        "id": "_hLACuzZJIch"
      }
    },
    {
      "cell_type": "code",
      "source": [
        "from tensorflow.keras.applications.resnet50 import ResNet50"
      ],
      "metadata": {
        "id": "Oq-c5w9WJOV1"
      },
      "execution_count": null,
      "outputs": []
    },
    {
      "cell_type": "code",
      "source": [
        "model = ResNet50(\n",
        "    input_shape=(160, 160, 3),\n",
        "    include_top=False,\n",
        "    weights='imagenet',\n",
        "    pooling='avg')\n",
        "print(len(model.layers))"
      ],
      "metadata": {
        "colab": {
          "base_uri": "https://localhost:8080/"
        },
        "id": "-Cc8xJ5PJSCn",
        "outputId": "09881660-b5a7-4538-d6a8-afa3a67c8f51"
      },
      "execution_count": null,
      "outputs": [
        {
          "output_type": "stream",
          "name": "stdout",
          "text": [
            "176\n"
          ]
        }
      ]
    },
    {
      "cell_type": "code",
      "source": [
        "model.trainable = False\n",
        "\n",
        "inputs = tf.keras.Input(shape=(160, 160, 3))\n",
        "\n",
        "x = model(inputs, training=False)\n",
        "\n",
        "x = tf.keras.layers.Flatten(input_shape=model.output_shape[1:])(x)\n",
        "x = tf.keras.layers.Dense(128, activation='relu')(x)\n",
        "x = tf.keras.layers.Dropout(0.5)(x)\n",
        "x = tf.keras.layers.Dense(128, activation='relu')(x)\n",
        "x = tf.keras.layers.Dropout(0.5)(x)\n",
        "outputs = tf.keras.layers.Dense(60, activation='softmax')(x)\n",
        "\n",
        "model = tf.keras.Model(inputs, outputs)\n",
        "\n",
        "model.compile(optimizer = 'adam',\n",
        "                  loss = 'sparse_categorical_crossentropy',\n",
        "                  metrics=['accuracy'])\n",
        "\n",
        "print(model.summary())"
      ],
      "metadata": {
        "colab": {
          "base_uri": "https://localhost:8080/"
        },
        "id": "NXC_dIdBJh4Q",
        "outputId": "395677cd-a70f-4dab-d3e7-00c7915462a8"
      },
      "execution_count": null,
      "outputs": [
        {
          "output_type": "stream",
          "name": "stdout",
          "text": [
            "Model: \"model_1\"\n",
            "_________________________________________________________________\n",
            " Layer (type)                Output Shape              Param #   \n",
            "=================================================================\n",
            " input_4 (InputLayer)        [(None, 160, 160, 3)]     0         \n",
            "                                                                 \n",
            " resnet50 (Functional)       (None, 2048)              23587712  \n",
            "                                                                 \n",
            " flatten_1 (Flatten)         (None, 2048)              0         \n",
            "                                                                 \n",
            " dense_3 (Dense)             (None, 128)               262272    \n",
            "                                                                 \n",
            " dropout_1 (Dropout)         (None, 128)               0         \n",
            "                                                                 \n",
            " dense_4 (Dense)             (None, 128)               16512     \n",
            "                                                                 \n",
            " dropout_2 (Dropout)         (None, 128)               0         \n",
            "                                                                 \n",
            " dense_5 (Dense)             (None, 60)                7740      \n",
            "                                                                 \n",
            "=================================================================\n",
            "Total params: 23,874,236\n",
            "Trainable params: 286,524\n",
            "Non-trainable params: 23,587,712\n",
            "_________________________________________________________________\n",
            "None\n"
          ]
        }
      ]
    },
    {
      "cell_type": "code",
      "source": [
        "early = tf.keras.callbacks.EarlyStopping(monitor='val_loss', patience=3)\n",
        "\n",
        "model.fit(x_train, y_train, epochs = 30, validation_data=(x_val,y_val), batch_size=320, callbacks=[early])"
      ],
      "metadata": {
        "colab": {
          "base_uri": "https://localhost:8080/",
          "height": 540
        },
        "id": "QlyjSeAgKBqF",
        "outputId": "f58604a5-f5f2-484c-9dce-a74bb09ad9c6"
      },
      "execution_count": null,
      "outputs": [
        {
          "output_type": "stream",
          "name": "stdout",
          "text": [
            "Epoch 1/30\n",
            "428/428 [==============================] - 225s 518ms/step - loss: 4.0850 - accuracy: 0.0205 - val_loss: 3.9857 - val_accuracy: 0.0458\n",
            "Epoch 2/30\n",
            "428/428 [==============================] - 234s 547ms/step - loss: 4.0205 - accuracy: 0.0292 - val_loss: 3.9367 - val_accuracy: 0.0518\n",
            "Epoch 3/30\n",
            "428/428 [==============================] - 234s 547ms/step - loss: 3.9940 - accuracy: 0.0318 - val_loss: 3.9187 - val_accuracy: 0.0512\n",
            "Epoch 4/30\n",
            "428/428 [==============================] - 235s 549ms/step - loss: 3.9825 - accuracy: 0.0321 - val_loss: 3.9129 - val_accuracy: 0.0551\n",
            "Epoch 5/30\n",
            "420/428 [============================>.] - ETA: 4s - loss: 3.9769 - accuracy: 0.0330"
          ]
        },
        {
          "output_type": "error",
          "ename": "KeyboardInterrupt",
          "evalue": "ignored",
          "traceback": [
            "\u001b[0;31m---------------------------------------------------------------------------\u001b[0m",
            "\u001b[0;31mKeyboardInterrupt\u001b[0m                         Traceback (most recent call last)",
            "\u001b[0;32m<ipython-input-35-9e7127728e44>\u001b[0m in \u001b[0;36m<module>\u001b[0;34m\u001b[0m\n\u001b[1;32m      1\u001b[0m \u001b[0mearly\u001b[0m \u001b[0;34m=\u001b[0m \u001b[0mtf\u001b[0m\u001b[0;34m.\u001b[0m\u001b[0mkeras\u001b[0m\u001b[0;34m.\u001b[0m\u001b[0mcallbacks\u001b[0m\u001b[0;34m.\u001b[0m\u001b[0mEarlyStopping\u001b[0m\u001b[0;34m(\u001b[0m\u001b[0mmonitor\u001b[0m\u001b[0;34m=\u001b[0m\u001b[0;34m'val_loss'\u001b[0m\u001b[0;34m,\u001b[0m \u001b[0mpatience\u001b[0m\u001b[0;34m=\u001b[0m\u001b[0;36m3\u001b[0m\u001b[0;34m)\u001b[0m\u001b[0;34m\u001b[0m\u001b[0;34m\u001b[0m\u001b[0m\n\u001b[1;32m      2\u001b[0m \u001b[0;34m\u001b[0m\u001b[0m\n\u001b[0;32m----> 3\u001b[0;31m \u001b[0mmodel\u001b[0m\u001b[0;34m.\u001b[0m\u001b[0mfit\u001b[0m\u001b[0;34m(\u001b[0m\u001b[0mx_train\u001b[0m\u001b[0;34m,\u001b[0m \u001b[0my_train\u001b[0m\u001b[0;34m,\u001b[0m \u001b[0mepochs\u001b[0m \u001b[0;34m=\u001b[0m \u001b[0;36m30\u001b[0m\u001b[0;34m,\u001b[0m \u001b[0mvalidation_data\u001b[0m\u001b[0;34m=\u001b[0m\u001b[0;34m(\u001b[0m\u001b[0mx_val\u001b[0m\u001b[0;34m,\u001b[0m\u001b[0my_val\u001b[0m\u001b[0;34m)\u001b[0m\u001b[0;34m,\u001b[0m \u001b[0mbatch_size\u001b[0m\u001b[0;34m=\u001b[0m\u001b[0;36m320\u001b[0m\u001b[0;34m,\u001b[0m \u001b[0mcallbacks\u001b[0m\u001b[0;34m=\u001b[0m\u001b[0;34m[\u001b[0m\u001b[0mearly\u001b[0m\u001b[0;34m]\u001b[0m\u001b[0;34m)\u001b[0m\u001b[0;34m\u001b[0m\u001b[0;34m\u001b[0m\u001b[0m\n\u001b[0m",
            "\u001b[0;32m/usr/local/lib/python3.7/dist-packages/keras/utils/traceback_utils.py\u001b[0m in \u001b[0;36merror_handler\u001b[0;34m(*args, **kwargs)\u001b[0m\n\u001b[1;32m     62\u001b[0m     \u001b[0mfiltered_tb\u001b[0m \u001b[0;34m=\u001b[0m \u001b[0;32mNone\u001b[0m\u001b[0;34m\u001b[0m\u001b[0;34m\u001b[0m\u001b[0m\n\u001b[1;32m     63\u001b[0m     \u001b[0;32mtry\u001b[0m\u001b[0;34m:\u001b[0m\u001b[0;34m\u001b[0m\u001b[0;34m\u001b[0m\u001b[0m\n\u001b[0;32m---> 64\u001b[0;31m       \u001b[0;32mreturn\u001b[0m \u001b[0mfn\u001b[0m\u001b[0;34m(\u001b[0m\u001b[0;34m*\u001b[0m\u001b[0margs\u001b[0m\u001b[0;34m,\u001b[0m \u001b[0;34m**\u001b[0m\u001b[0mkwargs\u001b[0m\u001b[0;34m)\u001b[0m\u001b[0;34m\u001b[0m\u001b[0;34m\u001b[0m\u001b[0m\n\u001b[0m\u001b[1;32m     65\u001b[0m     \u001b[0;32mexcept\u001b[0m \u001b[0mException\u001b[0m \u001b[0;32mas\u001b[0m \u001b[0me\u001b[0m\u001b[0;34m:\u001b[0m  \u001b[0;31m# pylint: disable=broad-except\u001b[0m\u001b[0;34m\u001b[0m\u001b[0;34m\u001b[0m\u001b[0m\n\u001b[1;32m     66\u001b[0m       \u001b[0mfiltered_tb\u001b[0m \u001b[0;34m=\u001b[0m \u001b[0m_process_traceback_frames\u001b[0m\u001b[0;34m(\u001b[0m\u001b[0me\u001b[0m\u001b[0;34m.\u001b[0m\u001b[0m__traceback__\u001b[0m\u001b[0;34m)\u001b[0m\u001b[0;34m\u001b[0m\u001b[0;34m\u001b[0m\u001b[0m\n",
            "\u001b[0;32m/usr/local/lib/python3.7/dist-packages/keras/engine/training.py\u001b[0m in \u001b[0;36mfit\u001b[0;34m(self, x, y, batch_size, epochs, verbose, callbacks, validation_split, validation_data, shuffle, class_weight, sample_weight, initial_epoch, steps_per_epoch, validation_steps, validation_batch_size, validation_freq, max_queue_size, workers, use_multiprocessing)\u001b[0m\n\u001b[1;32m   1407\u001b[0m                 _r=1):\n\u001b[1;32m   1408\u001b[0m               \u001b[0mcallbacks\u001b[0m\u001b[0;34m.\u001b[0m\u001b[0mon_train_batch_begin\u001b[0m\u001b[0;34m(\u001b[0m\u001b[0mstep\u001b[0m\u001b[0;34m)\u001b[0m\u001b[0;34m\u001b[0m\u001b[0;34m\u001b[0m\u001b[0m\n\u001b[0;32m-> 1409\u001b[0;31m               \u001b[0mtmp_logs\u001b[0m \u001b[0;34m=\u001b[0m \u001b[0mself\u001b[0m\u001b[0;34m.\u001b[0m\u001b[0mtrain_function\u001b[0m\u001b[0;34m(\u001b[0m\u001b[0miterator\u001b[0m\u001b[0;34m)\u001b[0m\u001b[0;34m\u001b[0m\u001b[0;34m\u001b[0m\u001b[0m\n\u001b[0m\u001b[1;32m   1410\u001b[0m               \u001b[0;32mif\u001b[0m \u001b[0mdata_handler\u001b[0m\u001b[0;34m.\u001b[0m\u001b[0mshould_sync\u001b[0m\u001b[0;34m:\u001b[0m\u001b[0;34m\u001b[0m\u001b[0;34m\u001b[0m\u001b[0m\n\u001b[1;32m   1411\u001b[0m                 \u001b[0mcontext\u001b[0m\u001b[0;34m.\u001b[0m\u001b[0masync_wait\u001b[0m\u001b[0;34m(\u001b[0m\u001b[0;34m)\u001b[0m\u001b[0;34m\u001b[0m\u001b[0;34m\u001b[0m\u001b[0m\n",
            "\u001b[0;32m/usr/local/lib/python3.7/dist-packages/tensorflow/python/util/traceback_utils.py\u001b[0m in \u001b[0;36merror_handler\u001b[0;34m(*args, **kwargs)\u001b[0m\n\u001b[1;32m    148\u001b[0m     \u001b[0mfiltered_tb\u001b[0m \u001b[0;34m=\u001b[0m \u001b[0;32mNone\u001b[0m\u001b[0;34m\u001b[0m\u001b[0;34m\u001b[0m\u001b[0m\n\u001b[1;32m    149\u001b[0m     \u001b[0;32mtry\u001b[0m\u001b[0;34m:\u001b[0m\u001b[0;34m\u001b[0m\u001b[0;34m\u001b[0m\u001b[0m\n\u001b[0;32m--> 150\u001b[0;31m       \u001b[0;32mreturn\u001b[0m \u001b[0mfn\u001b[0m\u001b[0;34m(\u001b[0m\u001b[0;34m*\u001b[0m\u001b[0margs\u001b[0m\u001b[0;34m,\u001b[0m \u001b[0;34m**\u001b[0m\u001b[0mkwargs\u001b[0m\u001b[0;34m)\u001b[0m\u001b[0;34m\u001b[0m\u001b[0;34m\u001b[0m\u001b[0m\n\u001b[0m\u001b[1;32m    151\u001b[0m     \u001b[0;32mexcept\u001b[0m \u001b[0mException\u001b[0m \u001b[0;32mas\u001b[0m \u001b[0me\u001b[0m\u001b[0;34m:\u001b[0m\u001b[0;34m\u001b[0m\u001b[0;34m\u001b[0m\u001b[0m\n\u001b[1;32m    152\u001b[0m       \u001b[0mfiltered_tb\u001b[0m \u001b[0;34m=\u001b[0m \u001b[0m_process_traceback_frames\u001b[0m\u001b[0;34m(\u001b[0m\u001b[0me\u001b[0m\u001b[0;34m.\u001b[0m\u001b[0m__traceback__\u001b[0m\u001b[0;34m)\u001b[0m\u001b[0;34m\u001b[0m\u001b[0;34m\u001b[0m\u001b[0m\n",
            "\u001b[0;32m/usr/local/lib/python3.7/dist-packages/tensorflow/python/eager/def_function.py\u001b[0m in \u001b[0;36m__call__\u001b[0;34m(self, *args, **kwds)\u001b[0m\n\u001b[1;32m    913\u001b[0m \u001b[0;34m\u001b[0m\u001b[0m\n\u001b[1;32m    914\u001b[0m       \u001b[0;32mwith\u001b[0m \u001b[0mOptionalXlaContext\u001b[0m\u001b[0;34m(\u001b[0m\u001b[0mself\u001b[0m\u001b[0;34m.\u001b[0m\u001b[0m_jit_compile\u001b[0m\u001b[0;34m)\u001b[0m\u001b[0;34m:\u001b[0m\u001b[0;34m\u001b[0m\u001b[0;34m\u001b[0m\u001b[0m\n\u001b[0;32m--> 915\u001b[0;31m         \u001b[0mresult\u001b[0m \u001b[0;34m=\u001b[0m \u001b[0mself\u001b[0m\u001b[0;34m.\u001b[0m\u001b[0m_call\u001b[0m\u001b[0;34m(\u001b[0m\u001b[0;34m*\u001b[0m\u001b[0margs\u001b[0m\u001b[0;34m,\u001b[0m \u001b[0;34m**\u001b[0m\u001b[0mkwds\u001b[0m\u001b[0;34m)\u001b[0m\u001b[0;34m\u001b[0m\u001b[0;34m\u001b[0m\u001b[0m\n\u001b[0m\u001b[1;32m    916\u001b[0m \u001b[0;34m\u001b[0m\u001b[0m\n\u001b[1;32m    917\u001b[0m       \u001b[0mnew_tracing_count\u001b[0m \u001b[0;34m=\u001b[0m \u001b[0mself\u001b[0m\u001b[0;34m.\u001b[0m\u001b[0mexperimental_get_tracing_count\u001b[0m\u001b[0;34m(\u001b[0m\u001b[0;34m)\u001b[0m\u001b[0;34m\u001b[0m\u001b[0;34m\u001b[0m\u001b[0m\n",
            "\u001b[0;32m/usr/local/lib/python3.7/dist-packages/tensorflow/python/eager/def_function.py\u001b[0m in \u001b[0;36m_call\u001b[0;34m(self, *args, **kwds)\u001b[0m\n\u001b[1;32m    945\u001b[0m       \u001b[0;31m# In this case we have created variables on the first call, so we run the\u001b[0m\u001b[0;34m\u001b[0m\u001b[0;34m\u001b[0m\u001b[0;34m\u001b[0m\u001b[0m\n\u001b[1;32m    946\u001b[0m       \u001b[0;31m# defunned version which is guaranteed to never create variables.\u001b[0m\u001b[0;34m\u001b[0m\u001b[0;34m\u001b[0m\u001b[0;34m\u001b[0m\u001b[0m\n\u001b[0;32m--> 947\u001b[0;31m       \u001b[0;32mreturn\u001b[0m \u001b[0mself\u001b[0m\u001b[0;34m.\u001b[0m\u001b[0m_stateless_fn\u001b[0m\u001b[0;34m(\u001b[0m\u001b[0;34m*\u001b[0m\u001b[0margs\u001b[0m\u001b[0;34m,\u001b[0m \u001b[0;34m**\u001b[0m\u001b[0mkwds\u001b[0m\u001b[0;34m)\u001b[0m  \u001b[0;31m# pylint: disable=not-callable\u001b[0m\u001b[0;34m\u001b[0m\u001b[0;34m\u001b[0m\u001b[0m\n\u001b[0m\u001b[1;32m    948\u001b[0m     \u001b[0;32melif\u001b[0m \u001b[0mself\u001b[0m\u001b[0;34m.\u001b[0m\u001b[0m_stateful_fn\u001b[0m \u001b[0;32mis\u001b[0m \u001b[0;32mnot\u001b[0m \u001b[0;32mNone\u001b[0m\u001b[0;34m:\u001b[0m\u001b[0;34m\u001b[0m\u001b[0;34m\u001b[0m\u001b[0m\n\u001b[1;32m    949\u001b[0m       \u001b[0;31m# Release the lock early so that multiple threads can perform the call\u001b[0m\u001b[0;34m\u001b[0m\u001b[0;34m\u001b[0m\u001b[0;34m\u001b[0m\u001b[0m\n",
            "\u001b[0;32m/usr/local/lib/python3.7/dist-packages/tensorflow/python/eager/function.py\u001b[0m in \u001b[0;36m__call__\u001b[0;34m(self, *args, **kwargs)\u001b[0m\n\u001b[1;32m   2452\u001b[0m        filtered_flat_args) = self._maybe_define_function(args, kwargs)\n\u001b[1;32m   2453\u001b[0m     return graph_function._call_flat(\n\u001b[0;32m-> 2454\u001b[0;31m         filtered_flat_args, captured_inputs=graph_function.captured_inputs)  # pylint: disable=protected-access\n\u001b[0m\u001b[1;32m   2455\u001b[0m \u001b[0;34m\u001b[0m\u001b[0m\n\u001b[1;32m   2456\u001b[0m   \u001b[0;34m@\u001b[0m\u001b[0mproperty\u001b[0m\u001b[0;34m\u001b[0m\u001b[0;34m\u001b[0m\u001b[0m\n",
            "\u001b[0;32m/usr/local/lib/python3.7/dist-packages/tensorflow/python/eager/function.py\u001b[0m in \u001b[0;36m_call_flat\u001b[0;34m(self, args, captured_inputs, cancellation_manager)\u001b[0m\n\u001b[1;32m   1859\u001b[0m       \u001b[0;31m# No tape is watching; skip to running the function.\u001b[0m\u001b[0;34m\u001b[0m\u001b[0;34m\u001b[0m\u001b[0;34m\u001b[0m\u001b[0m\n\u001b[1;32m   1860\u001b[0m       return self._build_call_outputs(self._inference_function.call(\n\u001b[0;32m-> 1861\u001b[0;31m           ctx, args, cancellation_manager=cancellation_manager))\n\u001b[0m\u001b[1;32m   1862\u001b[0m     forward_backward = self._select_forward_and_backward_functions(\n\u001b[1;32m   1863\u001b[0m         \u001b[0margs\u001b[0m\u001b[0;34m,\u001b[0m\u001b[0;34m\u001b[0m\u001b[0;34m\u001b[0m\u001b[0m\n",
            "\u001b[0;32m/usr/local/lib/python3.7/dist-packages/tensorflow/python/eager/function.py\u001b[0m in \u001b[0;36mcall\u001b[0;34m(self, ctx, args, cancellation_manager)\u001b[0m\n\u001b[1;32m    500\u001b[0m               \u001b[0minputs\u001b[0m\u001b[0;34m=\u001b[0m\u001b[0margs\u001b[0m\u001b[0;34m,\u001b[0m\u001b[0;34m\u001b[0m\u001b[0;34m\u001b[0m\u001b[0m\n\u001b[1;32m    501\u001b[0m               \u001b[0mattrs\u001b[0m\u001b[0;34m=\u001b[0m\u001b[0mattrs\u001b[0m\u001b[0;34m,\u001b[0m\u001b[0;34m\u001b[0m\u001b[0;34m\u001b[0m\u001b[0m\n\u001b[0;32m--> 502\u001b[0;31m               ctx=ctx)\n\u001b[0m\u001b[1;32m    503\u001b[0m         \u001b[0;32melse\u001b[0m\u001b[0;34m:\u001b[0m\u001b[0;34m\u001b[0m\u001b[0;34m\u001b[0m\u001b[0m\n\u001b[1;32m    504\u001b[0m           outputs = execute.execute_with_cancellation(\n",
            "\u001b[0;32m/usr/local/lib/python3.7/dist-packages/tensorflow/python/eager/execute.py\u001b[0m in \u001b[0;36mquick_execute\u001b[0;34m(op_name, num_outputs, inputs, attrs, ctx, name)\u001b[0m\n\u001b[1;32m     53\u001b[0m     \u001b[0mctx\u001b[0m\u001b[0;34m.\u001b[0m\u001b[0mensure_initialized\u001b[0m\u001b[0;34m(\u001b[0m\u001b[0;34m)\u001b[0m\u001b[0;34m\u001b[0m\u001b[0;34m\u001b[0m\u001b[0m\n\u001b[1;32m     54\u001b[0m     tensors = pywrap_tfe.TFE_Py_Execute(ctx._handle, device_name, op_name,\n\u001b[0;32m---> 55\u001b[0;31m                                         inputs, attrs, num_outputs)\n\u001b[0m\u001b[1;32m     56\u001b[0m   \u001b[0;32mexcept\u001b[0m \u001b[0mcore\u001b[0m\u001b[0;34m.\u001b[0m\u001b[0m_NotOkStatusException\u001b[0m \u001b[0;32mas\u001b[0m \u001b[0me\u001b[0m\u001b[0;34m:\u001b[0m\u001b[0;34m\u001b[0m\u001b[0;34m\u001b[0m\u001b[0m\n\u001b[1;32m     57\u001b[0m     \u001b[0;32mif\u001b[0m \u001b[0mname\u001b[0m \u001b[0;32mis\u001b[0m \u001b[0;32mnot\u001b[0m \u001b[0;32mNone\u001b[0m\u001b[0;34m:\u001b[0m\u001b[0;34m\u001b[0m\u001b[0;34m\u001b[0m\u001b[0m\n",
            "\u001b[0;31mKeyboardInterrupt\u001b[0m: "
          ]
        }
      ]
    },
    {
      "cell_type": "markdown",
      "source": [
        "## MobileNetV2"
      ],
      "metadata": {
        "id": "Er8hxOwAKYu-"
      }
    },
    {
      "cell_type": "code",
      "source": [
        "model = tf.keras.applications.MobileNetV2(\n",
        "    input_shape=(160, 160, 3),\n",
        "    include_top=False,\n",
        "    weights='imagenet',\n",
        "    pooling='avg')\n",
        "print(len(model.layers))"
      ],
      "metadata": {
        "colab": {
          "base_uri": "https://localhost:8080/"
        },
        "id": "ZdIKU6SyKb5X",
        "outputId": "e26c4ddd-2a46-4943-a3c3-3a66eed8c7cf"
      },
      "execution_count": 24,
      "outputs": [
        {
          "output_type": "stream",
          "name": "stdout",
          "text": [
            "Downloading data from https://storage.googleapis.com/tensorflow/keras-applications/mobilenet_v2/mobilenet_v2_weights_tf_dim_ordering_tf_kernels_1.0_160_no_top.h5\n",
            "9406464/9406464 [==============================] - 0s 0us/step\n",
            "155\n"
          ]
        }
      ]
    },
    {
      "cell_type": "code",
      "source": [
        "model.trainable = False\n",
        "\n",
        "inputs = tf.keras.Input(shape=(160, 160, 3))\n",
        "\n",
        "x = model(inputs, training=False)\n",
        "\n",
        "x = tf.keras.layers.Flatten(input_shape=model.output_shape[1:])(x)\n",
        "x = tf.keras.layers.Dense(128, activation='relu')(x)\n",
        "x = tf.keras.layers.Dropout(0.5)(x)\n",
        "\n",
        "outputs = tf.keras.layers.Dense(60, activation='softmax')(x)\n",
        "\n",
        "model = tf.keras.Model(inputs, outputs)\n",
        "\n",
        "model.compile(optimizer = 'adam',\n",
        "                  loss = 'sparse_categorical_crossentropy',\n",
        "                  metrics=['accuracy'])\n",
        "\n",
        "print(model.summary())"
      ],
      "metadata": {
        "colab": {
          "base_uri": "https://localhost:8080/"
        },
        "id": "ItkKrHLSKmgx",
        "outputId": "ab3ef36b-abe2-40d1-a15d-7a45e2725624"
      },
      "execution_count": 25,
      "outputs": [
        {
          "output_type": "stream",
          "name": "stdout",
          "text": [
            "Model: \"model\"\n",
            "_________________________________________________________________\n",
            " Layer (type)                Output Shape              Param #   \n",
            "=================================================================\n",
            " input_2 (InputLayer)        [(None, 160, 160, 3)]     0         \n",
            "                                                                 \n",
            " mobilenetv2_1.00_160 (Funct  (None, 1280)             2257984   \n",
            " ional)                                                          \n",
            "                                                                 \n",
            " flatten (Flatten)           (None, 1280)              0         \n",
            "                                                                 \n",
            " dense (Dense)               (None, 128)               163968    \n",
            "                                                                 \n",
            " dropout (Dropout)           (None, 128)               0         \n",
            "                                                                 \n",
            " dense_1 (Dense)             (None, 60)                7740      \n",
            "                                                                 \n",
            "=================================================================\n",
            "Total params: 2,429,692\n",
            "Trainable params: 171,708\n",
            "Non-trainable params: 2,257,984\n",
            "_________________________________________________________________\n",
            "None\n"
          ]
        }
      ]
    },
    {
      "cell_type": "code",
      "source": [
        "early = tf.keras.callbacks.EarlyStopping(monitor='val_loss', patience=3)\n",
        "\n",
        "model.fit(x_train, y_train, epochs = 30, validation_data=(x_val,y_val), batch_size=128, callbacks=[early])"
      ],
      "metadata": {
        "colab": {
          "base_uri": "https://localhost:8080/"
        },
        "id": "8D2WseQkKpro",
        "outputId": "ed3b3505-9c22-4f8a-fd30-62b2b8a5a287"
      },
      "execution_count": 26,
      "outputs": [
        {
          "output_type": "stream",
          "name": "stdout",
          "text": [
            "Epoch 1/30\n",
            "375/375 [==============================] - 48s 97ms/step - loss: 4.0007 - accuracy: 0.0400 - val_loss: 3.7339 - val_accuracy: 0.1023\n",
            "Epoch 2/30\n",
            "375/375 [==============================] - 35s 92ms/step - loss: 3.7845 - accuracy: 0.0745 - val_loss: 3.5773 - val_accuracy: 0.1262\n",
            "Epoch 3/30\n",
            "375/375 [==============================] - 35s 94ms/step - loss: 3.7044 - accuracy: 0.0859 - val_loss: 3.5230 - val_accuracy: 0.1442\n",
            "Epoch 4/30\n",
            "375/375 [==============================] - 35s 94ms/step - loss: 3.6618 - accuracy: 0.0909 - val_loss: 3.4964 - val_accuracy: 0.1507\n",
            "Epoch 5/30\n",
            "375/375 [==============================] - 35s 93ms/step - loss: 3.6386 - accuracy: 0.0972 - val_loss: 3.4514 - val_accuracy: 0.1618\n",
            "Epoch 6/30\n",
            "375/375 [==============================] - 35s 94ms/step - loss: 3.6276 - accuracy: 0.0987 - val_loss: 3.4343 - val_accuracy: 0.1612\n",
            "Epoch 7/30\n",
            "375/375 [==============================] - 35s 93ms/step - loss: 3.6102 - accuracy: 0.1011 - val_loss: 3.4480 - val_accuracy: 0.1622\n",
            "Epoch 8/30\n",
            "375/375 [==============================] - 35s 93ms/step - loss: 3.5943 - accuracy: 0.1040 - val_loss: 3.4133 - val_accuracy: 0.1674\n",
            "Epoch 9/30\n",
            "375/375 [==============================] - 35s 94ms/step - loss: 3.5830 - accuracy: 0.1065 - val_loss: 3.4085 - val_accuracy: 0.1711\n",
            "Epoch 10/30\n",
            "375/375 [==============================] - 35s 94ms/step - loss: 3.5792 - accuracy: 0.1081 - val_loss: 3.3919 - val_accuracy: 0.1759\n",
            "Epoch 11/30\n",
            "375/375 [==============================] - 35s 94ms/step - loss: 3.5566 - accuracy: 0.1110 - val_loss: 3.3842 - val_accuracy: 0.1691\n",
            "Epoch 12/30\n",
            "375/375 [==============================] - 35s 93ms/step - loss: 3.5431 - accuracy: 0.1164 - val_loss: 3.3641 - val_accuracy: 0.1752\n",
            "Epoch 13/30\n",
            "375/375 [==============================] - 35s 93ms/step - loss: 3.5182 - accuracy: 0.1213 - val_loss: 3.3716 - val_accuracy: 0.1772\n",
            "Epoch 14/30\n",
            "375/375 [==============================] - 35s 94ms/step - loss: 3.5174 - accuracy: 0.1204 - val_loss: 3.3659 - val_accuracy: 0.1775\n",
            "Epoch 15/30\n",
            "375/375 [==============================] - 35s 93ms/step - loss: 3.5056 - accuracy: 0.1225 - val_loss: 3.3576 - val_accuracy: 0.1822\n",
            "Epoch 16/30\n",
            "375/375 [==============================] - 35s 94ms/step - loss: 3.4906 - accuracy: 0.1250 - val_loss: 3.3398 - val_accuracy: 0.1777\n",
            "Epoch 17/30\n",
            "375/375 [==============================] - 35s 93ms/step - loss: 3.4811 - accuracy: 0.1251 - val_loss: 3.3370 - val_accuracy: 0.1852\n",
            "Epoch 18/30\n",
            "375/375 [==============================] - 35s 93ms/step - loss: 3.4761 - accuracy: 0.1292 - val_loss: 3.3304 - val_accuracy: 0.1838\n",
            "Epoch 19/30\n",
            "375/375 [==============================] - 35s 93ms/step - loss: 3.4737 - accuracy: 0.1295 - val_loss: 3.3559 - val_accuracy: 0.1802\n",
            "Epoch 20/30\n",
            "375/375 [==============================] - 35s 93ms/step - loss: 3.4621 - accuracy: 0.1293 - val_loss: 3.3289 - val_accuracy: 0.1863\n",
            "Epoch 21/30\n",
            "375/375 [==============================] - 35s 93ms/step - loss: 3.4508 - accuracy: 0.1315 - val_loss: 3.3195 - val_accuracy: 0.1902\n",
            "Epoch 22/30\n",
            "375/375 [==============================] - 35s 93ms/step - loss: 3.4513 - accuracy: 0.1296 - val_loss: 3.3215 - val_accuracy: 0.1852\n",
            "Epoch 23/30\n",
            "375/375 [==============================] - 35s 93ms/step - loss: 3.4424 - accuracy: 0.1349 - val_loss: 3.3081 - val_accuracy: 0.1887\n",
            "Epoch 24/30\n",
            "375/375 [==============================] - 35s 93ms/step - loss: 3.4455 - accuracy: 0.1334 - val_loss: 3.3117 - val_accuracy: 0.1881\n",
            "Epoch 25/30\n",
            "375/375 [==============================] - 35s 93ms/step - loss: 3.4369 - accuracy: 0.1330 - val_loss: 3.2989 - val_accuracy: 0.1871\n",
            "Epoch 26/30\n",
            "375/375 [==============================] - 35s 93ms/step - loss: 3.4274 - accuracy: 0.1370 - val_loss: 3.3081 - val_accuracy: 0.1909\n",
            "Epoch 27/30\n",
            "375/375 [==============================] - 35s 93ms/step - loss: 3.4275 - accuracy: 0.1326 - val_loss: 3.3073 - val_accuracy: 0.1930\n",
            "Epoch 28/30\n",
            "375/375 [==============================] - 35s 93ms/step - loss: 3.4264 - accuracy: 0.1353 - val_loss: 3.3217 - val_accuracy: 0.1877\n"
          ]
        },
        {
          "output_type": "execute_result",
          "data": {
            "text/plain": [
              "<keras.callbacks.History at 0x7fc649474850>"
            ]
          },
          "metadata": {},
          "execution_count": 26
        }
      ]
    }
  ]
}