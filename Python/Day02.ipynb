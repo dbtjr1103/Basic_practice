{
  "metadata": {
    "language_info": {
      "codemirror_mode": {
        "name": "python",
        "version": 3
      },
      "file_extension": ".py",
      "mimetype": "text/x-python",
      "name": "python",
      "nbconvert_exporter": "python",
      "pygments_lexer": "ipython3",
      "version": "3.8"
    },
    "kernelspec": {
      "name": "python",
      "display_name": "Python (Pyodide)",
      "language": "python"
    }
  },
  "nbformat_minor": 4,
  "nbformat": 4,
  "cells": [
    {
      "cell_type": "markdown",
      "source": "### 7장 집합 자료형\n\n+ 집합에 관련된 것을 처리하는 자료형",
      "metadata": {
        "tags": [],
        "jp-MarkdownHeadingCollapsed": true
      }
    },
    {
      "cell_type": "code",
      "source": "# 리스트 1,2,3을 집합화 해라\n>>> s1 = set([1,2,3])\n>>> s1",
      "metadata": {
        "trusted": true
      },
      "execution_count": 1,
      "outputs": [
        {
          "execution_count": 1,
          "output_type": "execute_result",
          "data": {
            "text/plain": "{1, 2, 3}"
          },
          "metadata": {}
        }
      ]
    },
    {
      "cell_type": "markdown",
      "source": "+ 집합 자료형\n1. 순서가 없다.\n2. 중복을 허용하지 않는다.",
      "metadata": {}
    },
    {
      "cell_type": "code",
      "source": "# 중복 허용 안함\n>>> s2 = set(\"Hello\")\n>>> s2",
      "metadata": {
        "trusted": true
      },
      "execution_count": 2,
      "outputs": [
        {
          "execution_count": 2,
          "output_type": "execute_result",
          "data": {
            "text/plain": "{'H', 'e', 'l', 'o'}"
          },
          "metadata": {}
        }
      ]
    },
    {
      "cell_type": "code",
      "source": "# 교집합 &\n>>> s1 = set([1,2,3,4,5,6])\n>>> s2 = set([4,5,6,7,8,9])\n>>> s1 & s2",
      "metadata": {
        "trusted": true
      },
      "execution_count": 3,
      "outputs": [
        {
          "execution_count": 3,
          "output_type": "execute_result",
          "data": {
            "text/plain": "{4, 5, 6}"
          },
          "metadata": {}
        }
      ]
    },
    {
      "cell_type": "code",
      "source": "# 합집합 |\n>>> s1 = set([1,2,3,4,5,6])\n>>> s2 = set([4,5,6,7,8,9])\n>>> s1 | s2",
      "metadata": {
        "trusted": true
      },
      "execution_count": 4,
      "outputs": [
        {
          "execution_count": 4,
          "output_type": "execute_result",
          "data": {
            "text/plain": "{1, 2, 3, 4, 5, 6, 7, 8, 9}"
          },
          "metadata": {}
        }
      ]
    },
    {
      "cell_type": "code",
      "source": "# 차집합 -\n>>> s1 = set([1,2,3,4,5,6])\n>>> s2 = set([4,5,6,7,8,9])\n>>> s1 - s2\n# {1, 2, 3}\n>>> s2 - s1",
      "metadata": {
        "trusted": true
      },
      "execution_count": 5,
      "outputs": [
        {
          "execution_count": 5,
          "output_type": "execute_result",
          "data": {
            "text/plain": "{7, 8, 9}"
          },
          "metadata": {}
        }
      ]
    },
    {
      "cell_type": "code",
      "source": "# add 하나의 값 추가\n>>> s1 = set([1,2,3])\n>>> s1.add(4) \n>>> s1",
      "metadata": {
        "trusted": true
      },
      "execution_count": 6,
      "outputs": [
        {
          "execution_count": 6,
          "output_type": "execute_result",
          "data": {
            "text/plain": "{1, 2, 3, 4}"
          },
          "metadata": {}
        }
      ]
    },
    {
      "cell_type": "code",
      "source": "# update 여러개 값 추가\n>>> s1 = set([1,2,3])\n>>> s1.update([4,5,6]) \n>>> s1",
      "metadata": {
        "trusted": true
      },
      "execution_count": 7,
      "outputs": [
        {
          "execution_count": 7,
          "output_type": "execute_result",
          "data": {
            "text/plain": "{1, 2, 3, 4, 5, 6}"
          },
          "metadata": {}
        }
      ]
    },
    {
      "cell_type": "code",
      "source": "# remove 하나의 값 삭제\n>>> s1 = set([1,2,3])\n>>> s1.remove(2) \n>>> s1",
      "metadata": {
        "trusted": true
      },
      "execution_count": 8,
      "outputs": [
        {
          "execution_count": 8,
          "output_type": "execute_result",
          "data": {
            "text/plain": "{1, 3}"
          },
          "metadata": {}
        }
      ]
    },
    {
      "cell_type": "code",
      "source": "# 퀴즈\na = [1,1,1,2,2,2,3,3,3,4,4,4,5,5,5]\na = set(a)\na = list(a)\na.sort(reverse=True)\na",
      "metadata": {
        "trusted": true
      },
      "execution_count": 9,
      "outputs": [
        {
          "execution_count": 9,
          "output_type": "execute_result",
          "data": {
            "text/plain": "[5, 4, 3, 2, 1]"
          },
          "metadata": {}
        }
      ]
    },
    {
      "cell_type": "markdown",
      "source": "list1 = [1,1,1,1,2,2,2,2,4,4,4,4,5,5,5,5,5,3,3,3,3]\n\n리스트 값이 들어있는 변수 list1을 (5,4,3,2,1) 로 변환한 후, \n\nset1 = set([3,4,5,6,7])\n\n변수 set1과의 교집합, 합집합을 화면에 출력해보세요",
      "metadata": {}
    },
    {
      "cell_type": "code",
      "source": "list1 = [1,1,1,1,2,2,2,2,4,4,4,4,5,5,5,5,5,3,3,3,3]\nset1 = set([3,4,5,6,7])\n\nlist1 = set(list1)\nlist1 = list(list1)\nlist1.sort(reverse=True)\nlist1 = tuple(list1)\n\nprint(\"교집합\", set(list1) & set1)    \nprint(\"합집합\", set(list1) | set1) ",
      "metadata": {
        "trusted": true
      },
      "execution_count": 10,
      "outputs": [
        {
          "name": "stdout",
          "text": "교집합 {3, 4, 5}\n합집합 {1, 2, 3, 4, 5, 6, 7}\n",
          "output_type": "stream"
        }
      ]
    },
    {
      "cell_type": "code",
      "source": "# union 합집합, intersection 교집합\na = set([1,2,3,4,5,6])\nb = set([4,5,6,7,8,9])\nprint(a.union(b))\nprint(a.intersection(b))",
      "metadata": {
        "tags": [],
        "trusted": true
      },
      "execution_count": 11,
      "outputs": [
        {
          "name": "stdout",
          "text": "{1, 2, 3, 4, 5, 6, 7, 8, 9}\n{4, 5, 6}\n",
          "output_type": "stream"
        }
      ]
    },
    {
      "cell_type": "code",
      "source": "# in 멤버연산자\na = set([1,2,3,4,5,6])\nb = set([4,5,6,7,8,9])\nprint(5 in a)",
      "metadata": {
        "tags": [],
        "trusted": true
      },
      "execution_count": 12,
      "outputs": [
        {
          "name": "stdout",
          "text": "True\n",
          "output_type": "stream"
        }
      ]
    },
    {
      "cell_type": "markdown",
      "source": "### 8장 불 자료형\n\n+ 참과 거짓을 나타내는 자료형",
      "metadata": {
        "tags": [],
        "jp-MarkdownHeadingCollapsed": true
      }
    },
    {
      "cell_type": "code",
      "source": "# True, False 첫글자 대문자로 적어야함\na = True\nb = False\nprint(a, b)\n# 모든 값을 참과 거짓으로 나눌 수 있음",
      "metadata": {
        "tags": [],
        "trusted": true
      },
      "execution_count": 13,
      "outputs": [
        {
          "name": "stdout",
          "text": "True False\n",
          "output_type": "stream"
        }
      ]
    },
    {
      "cell_type": "code",
      "source": "# 타입 : bool\nprint(type(True))\nprint(type(False))",
      "metadata": {
        "tags": [],
        "trusted": true
      },
      "execution_count": 14,
      "outputs": [
        {
          "name": "stdout",
          "text": "<class 'bool'>\n<class 'bool'>\n",
          "output_type": "stream"
        }
      ]
    },
    {
      "cell_type": "code",
      "source": "# 비어있으면 거짓, 비어있지 않으면 참\nprint(bool(5))\nprint(bool(0))\nprint(bool([]))\nprint(bool([1,2,3]))\nprint(bool(\"\"))\nprint(bool('python'))\nprint(bool())\nprint(bool((1,3,5)))\n# 딕셔너리, 집합도 마찬가지",
      "metadata": {
        "tags": [],
        "trusted": true
      },
      "execution_count": 15,
      "outputs": [
        {
          "name": "stdout",
          "text": "True\nFalse\nFalse\nTrue\nFalse\nTrue\nFalse\nTrue\n",
          "output_type": "stream"
        }
      ]
    },
    {
      "cell_type": "markdown",
      "source": "+ 사용 예시\n    - while 조건문 (조건이 참일때 반복)\n    - if 조건 :    -- 조건이 참일때 실행\n    - else :     -- 조건이 거짓일때 실행 ",
      "metadata": {
        "tags": []
      }
    },
    {
      "cell_type": "markdown",
      "source": "#### 실습문제\n1. 5 > 3의 값을 변수 box에 추가해주세요.\n2. 3 > 5의 값을 변수 box에 추가해주세요.\n3. 5 == 5의 값을 변수 box에 추가해주세요.\n4. 5 != 4의 값을 변수 box에 추가해주세요.\n5. bool(5)의 값을 변수 box에 추가해주세요.\n6. bool(0)의 값을 변수 box에 추가해주세요.\n7. bool([1,3,5,4,2])의 값을 변수 box에 추가해주세요.\n8. bool([])의 값을 변수 box에 추가해주세요.\n9. bool({\"이름\" : \"강동원\"})의 값을 변수 box에 추가해주세요.\n10. bool({\"이름\" : \"강동원\"})의 값을 변수 box에 추가해주세요.\n11. 변수 box 안에 있는 True의 개수를 화면에 출력해주세요.\nbox = []",
      "metadata": {}
    },
    {
      "cell_type": "code",
      "source": "box = []\nbox.append(5 > 3)\nbox.append(3 > 5)\nbox.append(5 == 5)\nbox.append(5 != 4)\nbox.append(bool(5))\nbox.append(bool(0))\nbox.append(bool([1,3,5,4,2]))\nbox.append(bool([]))\nbox.append(bool({\"이름\" : \"강동원\"}))\nbox.append(bool({\"이름\" : \"강동원\"}))\nprint(box.count(True))",
      "metadata": {
        "trusted": true
      },
      "execution_count": 16,
      "outputs": [
        {
          "name": "stdout",
          "text": "7\n",
          "output_type": "stream"
        }
      ]
    },
    {
      "cell_type": "markdown",
      "source": "### 9장 변수 다루기\n\n+ 변수를 다루는 다양한 방법",
      "metadata": {
        "tags": [],
        "jp-MarkdownHeadingCollapsed": true
      }
    },
    {
      "cell_type": "code",
      "source": "# 변수를 할당하는 다양한 방법\na = 3\na,b = 3,5\na,b = (3,5)\na,b = [3,5]\n(a,b) = 3,5\nprint(a,b)",
      "metadata": {
        "tags": [],
        "trusted": true
      },
      "execution_count": 17,
      "outputs": [
        {
          "name": "stdout",
          "text": "3 5\n",
          "output_type": "stream"
        }
      ]
    },
    {
      "cell_type": "code",
      "source": "# 변수를 할당하는 다양한 방법\na = b = 'python'\nprint(a,b)",
      "metadata": {
        "tags": [],
        "trusted": true
      },
      "execution_count": 18,
      "outputs": [
        {
          "name": "stdout",
          "text": "python python\n",
          "output_type": "stream"
        }
      ]
    },
    {
      "cell_type": "code",
      "source": "# 변수를 할당하는 다양한 방법 : *나머지가 리스트에 묶여서 들어감\na, b, *c = [1,3,5,4,2]\nprint(a,b,c)\na, *b, c = [1,3,5,4,2]\nprint(a,b,c)",
      "metadata": {
        "tags": [],
        "trusted": true
      },
      "execution_count": 19,
      "outputs": [
        {
          "name": "stdout",
          "text": "1 3 [5, 4, 2]\n1 [3, 5, 4] 2\n",
          "output_type": "stream"
        }
      ]
    },
    {
      "cell_type": "code",
      "source": "# 변수를 복사하는 방법\na = 5\nb = a\nb = 3\nprint(b)\nprint(a)",
      "metadata": {
        "tags": [],
        "trusted": true
      },
      "execution_count": 20,
      "outputs": [
        {
          "name": "stdout",
          "text": "3\n5\n",
          "output_type": "stream"
        }
      ]
    },
    {
      "cell_type": "code",
      "source": "# 변수를 복사하는 방법 - list\na = [1,3,5,4,2]\nb = a\nb[1] = 10\nprint(b)\nprint(a)\n# 메모리의 효율성 때문에 리스트에서는 복사가 아님\na = [1,3,5,4,2]\nb = a[:]\nb[1] = 10\nprint(b)\nprint(a)",
      "metadata": {
        "tags": [],
        "trusted": true
      },
      "execution_count": 21,
      "outputs": [
        {
          "name": "stdout",
          "text": "[1, 10, 5, 4, 2]\n[1, 10, 5, 4, 2]\n[1, 10, 5, 4, 2]\n[1, 3, 5, 4, 2]\n",
          "output_type": "stream"
        }
      ]
    },
    {
      "cell_type": "code",
      "source": "# 동일한 변수인지 확인하는 방법 : is\na = [1,3,5,4,2]\nb = a\nprint(a is b)\na = [1,3,5,4,2]\nb = [1,3,5,4,2]\nprint(a is b)",
      "metadata": {
        "tags": [],
        "trusted": true
      },
      "execution_count": 22,
      "outputs": [
        {
          "name": "stdout",
          "text": "True\nFalse\n",
          "output_type": "stream"
        }
      ]
    },
    {
      "cell_type": "code",
      "source": "# 변수를 복사하는 방법 : 라이브러리\nfrom copy import copy\n\na = [1,3,5,4,2]\nb = copy(a)\nb[1] = 10\nprint(b)\nprint(a)",
      "metadata": {
        "tags": [],
        "trusted": true
      },
      "execution_count": 23,
      "outputs": [
        {
          "name": "stdout",
          "text": "[1, 10, 5, 4, 2]\n[1, 3, 5, 4, 2]\n",
          "output_type": "stream"
        }
      ]
    },
    {
      "cell_type": "code",
      "source": "# 변수 교환 - 새로운 변수 생성 (C언어)\na = 3\nb = 5\n\nc = a\na = b\nb = c\n\nprint(a,b)",
      "metadata": {
        "tags": [],
        "trusted": true
      },
      "execution_count": 24,
      "outputs": [
        {
          "name": "stdout",
          "text": "5 3\n",
          "output_type": "stream"
        }
      ]
    },
    {
      "cell_type": "code",
      "source": "# 변수 교환 - 새로운 변수 생성 (C언어)\na,b = 3,5\na,b = b,a\n\nprint(a,b)",
      "metadata": {
        "tags": [],
        "trusted": true
      },
      "execution_count": 25,
      "outputs": [
        {
          "name": "stdout",
          "text": "5 3\n",
          "output_type": "stream"
        }
      ]
    },
    {
      "cell_type": "markdown",
      "source": "+ 실습문제\n1. 코드 a, b = [1,3,5,4,2] 에서 에러가 발생하지 않도록 변수 a에는 1이, 변수 b에는 [3,5,4,2]가 할당되도록 코드를 수정해보세요.\n2. 변수 a와 b의 값을 서로 교환후, 화면에 변수 a와 b를 출력해보세요.\n3. 변수a에 있는 모든 값에 b의 값을 더한 후, 변수a를 화면에 출력해보세요. ",
      "metadata": {
        "tags": []
      }
    },
    {
      "cell_type": "code",
      "source": "a, *b = [1,3,5,4,2]\na,b = b,a\n\nprint(a)\nprint(b)\n\na[0] = a[0] + b\na[1] += b\na[2] += b\na[3] += b\n\nprint(a)",
      "metadata": {
        "tags": [],
        "trusted": true
      },
      "execution_count": 26,
      "outputs": [
        {
          "name": "stdout",
          "text": "[3, 5, 4, 2]\n1\n[4, 6, 5, 3]\n",
          "output_type": "stream"
        }
      ]
    },
    {
      "cell_type": "markdown",
      "source": "### 10장 조건문 IF문\n+ 조건을 판단하여 조건에 맞는 상황을 수행",
      "metadata": {
        "tags": []
      }
    },
    {
      "cell_type": "markdown",
      "source": "+ if 조건문1 : \n     - 수행할 문장 1\n     - 수행할 문장 2\n+ elif 조건문2 : (여러개 사용 가능)\n     - 수행할 문장 3\n     - 수행할 문장 4\n+ else : \n    - 수행할 문장 A\n    - 수행할 문장 B",
      "metadata": {}
    },
    {
      "cell_type": "markdown",
      "source": "+ 비교 연산자\n     - x < y\n     - x > y\n     - x == y\n     - x != y\n     - x >= y\n     - x <= y         \n+ 논리 연산자\n    - x or y (x,y 둘중 하나만 참이여도 참)\n    - x and y (x,y 모두 참이여야 참)\n    - not x (x가 거짓이면 참이다)\n+ 멤버 연산자\n    - in\n    - not in\n    - 리스트, 튜플, 문자열 등",
      "metadata": {}
    },
    {
      "cell_type": "code",
      "source": "score = 70\nmessage = \"success\" if score >= 60 else \"failure\"\nprint(message)\n# 남이 보기 쉽게 쓰는것이 좋음\nif score >= 60 :\n    message = \"success\"\nelse :\n    message = \"failure\"\nprint(message)",
      "metadata": {
        "trusted": true
      },
      "execution_count": 27,
      "outputs": [
        {
          "name": "stdout",
          "text": "success\nsuccess\n",
          "output_type": "stream"
        }
      ]
    },
    {
      "cell_type": "code",
      "source": "#예시 1\nmoney = 2000\ncard = True\n\nif money >= 3000 or card == True:\n    print('taxi')\nelse:\n    print('walk')",
      "metadata": {
        "trusted": true
      },
      "execution_count": 28,
      "outputs": [
        {
          "name": "stdout",
          "text": "taxi\n",
          "output_type": "stream"
        }
      ]
    },
    {
      "cell_type": "code",
      "source": "#예시 2\npocket = ['paper', 'cellphone', 'money']\ncard = True\n\nif 'money' in pocket:\n    print('taxi')\nelif card == True:\n    print('taxi')\nelse:\n    print('walk')",
      "metadata": {
        "trusted": true
      },
      "execution_count": 29,
      "outputs": [
        {
          "name": "stdout",
          "text": "taxi\n",
          "output_type": "stream"
        }
      ]
    },
    {
      "cell_type": "code",
      "source": "# 실습문제\n'''변수 score 값이 90점 이상이면 'A', 80점 이상이면 'B', 70점 이상이면 'C', 60점 이상이면 'D', \n그 이하 나머지는  'F'를 출력하는 코드를 작성해보세요'''\n\nscore = 100\n\nif score >= 90:\n    print('A')\nelif score >= 80:\n    print('B')\nelif score >= 70:\n    print('C')\nelif score >= 60:\n    print('D')\nelse:\n    print('F')",
      "metadata": {
        "trusted": true
      },
      "execution_count": 30,
      "outputs": [
        {
          "name": "stdout",
          "text": "A\n",
          "output_type": "stream"
        }
      ]
    },
    {
      "cell_type": "markdown",
      "source": "### 11장 반복문 While문\n+ 조건을 판단하여 조건에 맞는 상황을 수행",
      "metadata": {
        "tags": [],
        "jp-MarkdownHeadingCollapsed": true
      }
    },
    {
      "cell_type": "markdown",
      "source": "+ While <조건문>: \n     - <수행할 문장1> \n     - <수행할 문장2> \n     - <수행할 문장3>\n- 조건문이 False가 될때가지 반복됨 \n- 반복문 강제로 빠져나가기 : break\n- 반복문의 맨 처음으로 돌아가기 : continue",
      "metadata": {}
    },
    {
      "cell_type": "code",
      "source": "# 예시\nhit = 0\nwhile hit < 10:\n    hit = hit + 1\n    print(\"나무를 {}번 찍었습니다.\".format(hit))\n    if hit == 10:\n        print(\"나무가 쓰러졌습니다.\")",
      "metadata": {
        "trusted": true
      },
      "execution_count": 31,
      "outputs": [
        {
          "name": "stdout",
          "text": "나무를 1번 찍었습니다.\n나무를 2번 찍었습니다.\n나무를 3번 찍었습니다.\n나무를 4번 찍었습니다.\n나무를 5번 찍었습니다.\n나무를 6번 찍었습니다.\n나무를 7번 찍었습니다.\n나무를 8번 찍었습니다.\n나무를 9번 찍었습니다.\n나무를 10번 찍었습니다.\n나무가 쓰러졌습니다.\n",
          "output_type": "stream"
        }
      ]
    },
    {
      "cell_type": "code",
      "source": "# 예시\ncoffee = 10\n\nwhile True:\n    coffee = coffee - 1\n    print(\"커피를 팔고, {}잔 남았습니다.\".format(coffee))\n    if coffee == 0:\n        print(\"매진되었습니다.\")\n        break",
      "metadata": {
        "tags": [],
        "trusted": true
      },
      "execution_count": 33,
      "outputs": [
        {
          "name": "stdout",
          "text": "커피를 팔고, 9잔 남았습니다.\n커피를 팔고, 8잔 남았습니다.\n커피를 팔고, 7잔 남았습니다.\n커피를 팔고, 6잔 남았습니다.\n커피를 팔고, 5잔 남았습니다.\n커피를 팔고, 4잔 남았습니다.\n커피를 팔고, 3잔 남았습니다.\n커피를 팔고, 2잔 남았습니다.\n커피를 팔고, 1잔 남았습니다.\n커피를 팔고, 0잔 남았습니다.\n매진되었습니다.\n",
          "output_type": "stream"
        }
      ]
    },
    {
      "cell_type": "code",
      "source": "# 예시\na = 0\nwhile a < 10:\n    a += 1\n    if a % 2 == 0:\n        continue\n    print(a)",
      "metadata": {
        "tags": [],
        "trusted": true
      },
      "execution_count": 34,
      "outputs": [
        {
          "name": "stdout",
          "text": "1\n3\n5\n7\n9\n",
          "output_type": "stream"
        }
      ]
    },
    {
      "cell_type": "code",
      "source": "# 예시\na = 0\nwhile a < 10:\n    a += 1\n    if a % 2 == 0:\n        continue\n    print(a)",
      "metadata": {
        "tags": [],
        "trusted": true
      },
      "execution_count": 34,
      "outputs": [
        {
          "name": "stdout",
          "text": "1\n3\n5\n7\n9\n",
          "output_type": "stream"
        }
      ]
    },
    {
      "cell_type": "code",
      "source": "# 실습예시\n'''1. while문을 사용해서 1부터 1000까지 3의 배수의 합을 구해보세요.\n\n2. while문을 사용해서 1부터 100까지 더하는 코드를 작성 후, 결과값을 화면에 출력해보세요. '''\n\n\n#1\na = b = 0\n\nwhile a < 1000:\n    a += 1\n    if a % 3 == 0:\n        b = b + a\nprint(b)\n\n#2\na = b = 0\n\nwhile a < 100:\n    a += 1\n    b += a\nprint(b)",
      "metadata": {
        "trusted": true
      },
      "execution_count": 35,
      "outputs": [
        {
          "name": "stdout",
          "text": "166833\n5050\n",
          "output_type": "stream"
        }
      ]
    },
    {
      "cell_type": "markdown",
      "source": "### 12장 반복문 FOR문\n+ 요청한만큼 순서대로 반복하는 반복문",
      "metadata": {
        "tags": []
      }
    },
    {
      "cell_type": "markdown",
      "source": "+ for문의 기본 구조\n  - for 변수이름(i) in 반복하고싶은것(리스트, 튜플, 딕셔너리, 문자열 등):\n    - 수행할 코드 1\n     - 수행할 코드 2",
      "metadata": {
        "tags": []
      }
    },
    {
      "cell_type": "code",
      "source": "# 예시 : 문자열\nfor i in \"Hello\":\n    print(i)",
      "metadata": {
        "trusted": true
      },
      "execution_count": 36,
      "outputs": [
        {
          "name": "stdout",
          "text": "H\ne\nl\nl\no\n",
          "output_type": "stream"
        }
      ]
    },
    {
      "cell_type": "code",
      "source": "# 예시 : 리스트\nfor i in [\"홍길동\",\"이순신\",\"아이유\"]:\n    print(i)",
      "metadata": {
        "trusted": true
      },
      "execution_count": 37,
      "outputs": [
        {
          "name": "stdout",
          "text": "홍길동\n이순신\n아이유\n",
          "output_type": "stream"
        }
      ]
    },
    {
      "cell_type": "code",
      "source": "# 예시 : 딕셔너리 \ndic = {\"이름\" : \"홍길동\",\"성별\" : \"남자\", \"나이\" : 30}\nfor i in dic:\n    print(i)\nfor i in dic.values():\n    print(i)",
      "metadata": {
        "trusted": true
      },
      "execution_count": 47,
      "outputs": [
        {
          "name": "stdout",
          "text": "이름\n성별\n나이\n홍길동\n남자\n30\n",
          "output_type": "stream"
        }
      ]
    },
    {
      "cell_type": "code",
      "source": "# for문 범위 반복\nfor i in range(10):\n    print(i)",
      "metadata": {
        "collapsed": true,
        "jupyter": {
          "outputs_hidden": true
        },
        "tags": [],
        "trusted": true
      },
      "execution_count": 48,
      "outputs": [
        {
          "name": "stdout",
          "text": "0\n1\n2\n3\n4\n5\n6\n7\n8\n9\n",
          "output_type": "stream"
        }
      ]
    },
    {
      "cell_type": "code",
      "source": "# for문 범위 반복\nfor i in range(3,10):\n    print(i)",
      "metadata": {
        "collapsed": true,
        "jupyter": {
          "outputs_hidden": true
        },
        "tags": [],
        "trusted": true
      },
      "execution_count": 49,
      "outputs": [
        {
          "name": "stdout",
          "text": "3\n4\n5\n6\n7\n8\n9\n",
          "output_type": "stream"
        }
      ]
    },
    {
      "cell_type": "code",
      "source": "# for문 범위 반복\nfor i in range(1,10,2):\n    print(i)",
      "metadata": {
        "collapsed": true,
        "jupyter": {
          "outputs_hidden": true
        },
        "tags": [],
        "trusted": true
      },
      "execution_count": 50,
      "outputs": [
        {
          "name": "stdout",
          "text": "1\n3\n5\n7\n9\n",
          "output_type": "stream"
        }
      ]
    },
    {
      "cell_type": "code",
      "source": "# 2중 for문  ex)구구단\nfor i in range(2,10):\n    for j in range(1, 10):\n        print('{} X {} = {}'.format(i, j, i*j))",
      "metadata": {
        "jupyter": {
          "outputs_hidden": true
        },
        "tags": [],
        "collapsed": true,
        "trusted": true
      },
      "execution_count": 52,
      "outputs": [
        {
          "name": "stdout",
          "text": "2 X 1 = 2\n2 X 2 = 4\n2 X 3 = 6\n2 X 4 = 8\n2 X 5 = 10\n2 X 6 = 12\n2 X 7 = 14\n2 X 8 = 16\n2 X 9 = 18\n3 X 1 = 3\n3 X 2 = 6\n3 X 3 = 9\n3 X 4 = 12\n3 X 5 = 15\n3 X 6 = 18\n3 X 7 = 21\n3 X 8 = 24\n3 X 9 = 27\n4 X 1 = 4\n4 X 2 = 8\n4 X 3 = 12\n4 X 4 = 16\n4 X 5 = 20\n4 X 6 = 24\n4 X 7 = 28\n4 X 8 = 32\n4 X 9 = 36\n5 X 1 = 5\n5 X 2 = 10\n5 X 3 = 15\n5 X 4 = 20\n5 X 5 = 25\n5 X 6 = 30\n5 X 7 = 35\n5 X 8 = 40\n5 X 9 = 45\n6 X 1 = 6\n6 X 2 = 12\n6 X 3 = 18\n6 X 4 = 24\n6 X 5 = 30\n6 X 6 = 36\n6 X 7 = 42\n6 X 8 = 48\n6 X 9 = 54\n7 X 1 = 7\n7 X 2 = 14\n7 X 3 = 21\n7 X 4 = 28\n7 X 5 = 35\n7 X 6 = 42\n7 X 7 = 49\n7 X 8 = 56\n7 X 9 = 63\n8 X 1 = 8\n8 X 2 = 16\n8 X 3 = 24\n8 X 4 = 32\n8 X 5 = 40\n8 X 6 = 48\n8 X 7 = 56\n8 X 8 = 64\n8 X 9 = 72\n9 X 1 = 9\n9 X 2 = 18\n9 X 3 = 27\n9 X 4 = 36\n9 X 5 = 45\n9 X 6 = 54\n9 X 7 = 63\n9 X 8 = 72\n9 X 9 = 81\n",
          "output_type": "stream"
        }
      ]
    },
    {
      "cell_type": "code",
      "source": "# 리스트 내포\nbox = [i for i in range(1, 6)]\nprint(box)\nbox = [i for i in range(1,6) if i % 2 == 0]\nprint(box)",
      "metadata": {
        "tags": [],
        "trusted": true
      },
      "execution_count": 55,
      "outputs": [
        {
          "name": "stdout",
          "text": "[1, 2, 3, 4, 5]\n[2, 4]\n",
          "output_type": "stream"
        }
      ]
    },
    {
      "cell_type": "code",
      "source": "# 예시\nbox = [[1,2], [3,4], [5,6]]\n\nfor i,j in box : \n    print(i + j)",
      "metadata": {
        "tags": [],
        "trusted": true
      },
      "execution_count": 58,
      "outputs": [
        {
          "name": "stdout",
          "text": "3\n7\n11\n",
          "output_type": "stream"
        }
      ]
    },
    {
      "cell_type": "code",
      "source": "# 예시\nfor i in range(2, 10, 3):\n    print(i)\nfor i in range(10, 5, -2):\n    print(i)",
      "metadata": {
        "tags": [],
        "trusted": true
      },
      "execution_count": 65,
      "outputs": [
        {
          "name": "stdout",
          "text": "2\n5\n8\n10\n8\n6\n4\n2\n",
          "output_type": "stream"
        }
      ]
    },
    {
      "cell_type": "code",
      "source": "# 예시\nbox = [] #[1,2,3,4,5]\n\nfor i in range(1, 6):\n    box.append(i)\nprint(box)\n# 리스트 내포\nbox = [i*3 for i in range(1,11)]\nprint(box)\n# if 문\nbox = [i for i in range(1,11) if i % 2 == 0]\nprint(box)",
      "metadata": {
        "tags": [],
        "trusted": true
      },
      "execution_count": 75,
      "outputs": [
        {
          "name": "stdout",
          "text": "[1, 2, 3, 4, 5]\n[3, 6, 9, 12, 15, 18, 21, 24, 27, 30]\n[2, 4, 6, 8, 10]\n",
          "output_type": "stream"
        }
      ]
    },
    {
      "cell_type": "code",
      "source": "# 예시, 2중if\nbox = [i*j for i in range(2,10) for j in range(1,10)]\nprint(box)",
      "metadata": {
        "tags": [],
        "trusted": true
      },
      "execution_count": 76,
      "outputs": [
        {
          "name": "stdout",
          "text": "[2, 4, 6, 8, 10, 12, 14, 16, 18, 3, 6, 9, 12, 15, 18, 21, 24, 27, 4, 8, 12, 16, 20, 24, 28, 32, 36, 5, 10, 15, 20, 25, 30, 35, 40, 45, 6, 12, 18, 24, 30, 36, 42, 48, 54, 7, 14, 21, 28, 35, 42, 49, 56, 63, 8, 16, 24, 32, 40, 48, 56, 64, 72, 9, 18, 27, 36, 45, 54, 63, 72, 81]\n",
          "output_type": "stream"
        }
      ]
    },
    {
      "cell_type": "code",
      "source": "# 예시\na = 0\nfor i in range(1,1001):\n    a += i\nprint(a)",
      "metadata": {
        "tags": [],
        "trusted": true
      },
      "execution_count": 77,
      "outputs": [
        {
          "name": "stdout",
          "text": "500500\n",
          "output_type": "stream"
        }
      ]
    },
    {
      "cell_type": "code",
      "source": "# 실습문제\n'''로또 번호는 1번부터 45번까지 존재하고, 중복되지 않은 6개의 조합으로 당첨번호를 추첨합니다. \n로또 당첨 번호가 총 몇 개의 조합이 있는 지 for문을 사용해서 로또 당첨 번호의 총 개수를 구해보세요'''\n\ncount = 0\nfor n1 in range(1,46):\n    for n2 in range(n1+1, 46):\n        for n3 in range(n2+1, 46):\n            for n4 in range(n3+1, 46):\n                for n5 in range(n4+1, 46):\n                    for n6 in range(n5+1, 46):\n                        count += 1\nprint(count)",
      "metadata": {
        "tags": [],
        "trusted": true
      },
      "execution_count": 78,
      "outputs": [
        {
          "name": "stdout",
          "text": "8145060\n",
          "output_type": "stream"
        }
      ]
    }
  ]
}