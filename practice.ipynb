{
  "nbformat": 4,
  "nbformat_minor": 0,
  "metadata": {
    "colab": {
      "provenance": [],
      "authorship_tag": "ABX9TyNTYg35iVE/lovSwzdRVGBu",
      "include_colab_link": true
    },
    "kernelspec": {
      "name": "python3",
      "display_name": "Python 3"
    },
    "language_info": {
      "name": "python"
    }
  },
  "cells": [
    {
      "cell_type": "markdown",
      "metadata": {
        "id": "view-in-github",
        "colab_type": "text"
      },
      "source": [
        "<a href=\"https://colab.research.google.com/github/dbtjr1103/Basic_practice/blob/main/practice.ipynb\" target=\"_parent\"><img src=\"https://colab.research.google.com/assets/colab-badge.svg\" alt=\"Open In Colab\"/></a>"
      ]
    },
    {
      "cell_type": "markdown",
      "source": [
        "# 프로그래머스 코딩테스트 입문\n",
        "\n",
        "신기한 풀이 정리"
      ],
      "metadata": {
        "id": "fMB34kQ4wP92"
      }
    },
    {
      "cell_type": "code",
      "source": [
        "# 분수의 덧셈 내풀이\n",
        "def solution(denum1, num1, denum2, num2):\n",
        "    answer = []\n",
        "    \n",
        "    denum = denum1*num2 + denum2*num1\n",
        "    num = num1*num2\n",
        "\n",
        "    max= 1\n",
        "    for i in range(2,denum+1):\n",
        "        if denum % i == 0 and num % i == 0:\n",
        "            max = i\n",
        "                \n",
        "    answer.append(denum/max)\n",
        "    answer.append(num/max)\n",
        "    \n",
        "    return answer"
      ],
      "metadata": {
        "id": "dNzjpKSGw9FL"
      },
      "execution_count": null,
      "outputs": []
    },
    {
      "cell_type": "code",
      "source": [
        " # math모듈, 최대공약수gcd 함수 사용\n",
        "import math\n",
        "def solution(denum1, num1, denum2, num2):\n",
        "    denum = denum1 * num2 + denum2 * num1\n",
        "    num = num1 * num2\n",
        "    gcd = math.gcd(denum, num)\n",
        "    return [denum//gcd, num//gcd]"
      ],
      "metadata": {
        "id": "HSxPAxOH2o_0"
      },
      "execution_count": null,
      "outputs": []
    },
    {
      "cell_type": "code",
      "source": [
        "# 중앙값 구하기\n",
        "def solution(array):\n",
        "    return sorted(array)[len(array)//2]"
      ],
      "metadata": {
        "id": "WeJkpfnb2y2B"
      },
      "execution_count": 1,
      "outputs": []
    },
    {
      "cell_type": "code",
      "source": [
        "# 짝수의 합\n",
        "def solution(n):\n",
        "    return sum([i for i in range(2, n + 1, 2)])"
      ],
      "metadata": {
        "id": "gFkagT2n2xs9"
      },
      "execution_count": 2,
      "outputs": []
    },
    {
      "cell_type": "code",
      "source": [
        "# 짝수의 합 내풀이\n",
        "def solution(n):\n",
        "    answer = 0\n",
        "    for i in range(2,n+1,2):\n",
        "        answer += i\n",
        "    return answer"
      ],
      "metadata": {
        "id": "YgZqk3r8uwV2"
      },
      "execution_count": 3,
      "outputs": []
    },
    {
      "cell_type": "code",
      "source": [
        "# 양꼬치\n",
        "def solution(n, k):\n",
        "    s =  n // 10\n",
        "    answer = 12000*n + 2000*(k-s)\n",
        "    return answer"
      ],
      "metadata": {
        "id": "Bt-5XX3fv0cR"
      },
      "execution_count": 1,
      "outputs": []
    },
    {
      "cell_type": "code",
      "source": [
        "def solution(numbers):\n",
        "    answer = sum(numbers)/len(numbers)\n",
        "    return answer"
      ],
      "metadata": {
        "id": "CpxqZELEQnPK"
      },
      "execution_count": 2,
      "outputs": []
    },
    {
      "cell_type": "code",
      "source": [
        "# 키큰 사람\n",
        "def solution(array, height):\n",
        "    count = 0\n",
        "    for i in array:\n",
        "        if i > height:\n",
        "            count += 1\n",
        "    return count"
      ],
      "metadata": {
        "id": "piXcHl2bR5Fy"
      },
      "execution_count": null,
      "outputs": []
    },
    {
      "cell_type": "code",
      "source": [
        "# 키큰사람 다른풀이\n",
        "def solution(array, height):\n",
        "    array.append(height)\n",
        "    array.sort(reverse=True)\n",
        "    return array.index(height)"
      ],
      "metadata": {
        "id": "VAxZwPqLSKce"
      },
      "execution_count": 3,
      "outputs": []
    },
    {
      "cell_type": "code",
      "source": [
        "# 중복된 숫자개수\n",
        "def solution(array, n):\n",
        "    answer = 0\n",
        "    \n",
        "    for i in array:\n",
        "        if i == n:\n",
        "            answer += 1\n",
        "    return answer"
      ],
      "metadata": {
        "id": "vr3pQ_1ASMg1"
      },
      "execution_count": null,
      "outputs": []
    },
    {
      "cell_type": "code",
      "source": [
        "def solution(array, n):\n",
        "    return array.count(n)"
      ],
      "metadata": {
        "id": "nwD5z3aXS-n6"
      },
      "execution_count": 4,
      "outputs": []
    },
    {
      "cell_type": "code",
      "source": [
        "# 몫과 나머지\n",
        "def solution(slice, n):\n",
        "    a, b = divmod(n, slice)\n",
        "    if b == 0:\n",
        "        answer = a\n",
        "    else :\n",
        "        answer = a+1\n",
        "    return answer"
      ],
      "metadata": {
        "id": "xc9YtHlNS_Wg"
      },
      "execution_count": null,
      "outputs": []
    },
    {
      "cell_type": "code",
      "source": [
        "# 피자 나눠먹기3... 와..\n",
        "def solution(slice, n):\n",
        "    return ((n - 1) // slice) + 1"
      ],
      "metadata": {
        "id": "0VX_eWEGU90J"
      },
      "execution_count": 5,
      "outputs": []
    },
    {
      "cell_type": "code",
      "source": [
        "# 피자1\n",
        "def solution(n):\n",
        "    return (n - 1) // 7 + 1"
      ],
      "metadata": {
        "id": "nu8c3YRkVXWr"
      },
      "execution_count": null,
      "outputs": []
    },
    {
      "cell_type": "code",
      "source": [
        "# 배열뒤집기\n",
        "def solution(num_list):\n",
        "    answer = []\n",
        "    for i in range(1,len(num_list)+1):\n",
        "        answer.append(num_list[-i])\n",
        "    return answer"
      ],
      "metadata": {
        "id": "Do2xtqSkVzTK"
      },
      "execution_count": 12,
      "outputs": []
    },
    {
      "cell_type": "code",
      "source": [
        "def solution(num_list):\n",
        "    return num_list[::-1]"
      ],
      "metadata": {
        "id": "xA9qrqzwWVzh"
      },
      "execution_count": 13,
      "outputs": []
    },
    {
      "cell_type": "code",
      "source": [
        "def solution(my_string):\n",
        "    return my_string[::-1]"
      ],
      "metadata": {
        "id": "PTgspIafB_Fo"
      },
      "execution_count": null,
      "outputs": []
    },
    {
      "cell_type": "code",
      "source": [
        "# 짝수홀수개수 내풀이\n",
        "def solution(num_list):\n",
        "    odd, even = 0,0\n",
        "    for i in num_list:\n",
        "        if i % 2 == 1:\n",
        "            odd += 1\n",
        "        else:\n",
        "            even += 1\n",
        "    return [even,odd]"
      ],
      "metadata": {
        "id": "-PYAgpGLi5qw"
      },
      "execution_count": null,
      "outputs": []
    },
    {
      "cell_type": "code",
      "source": [
        "# 짝수 홀수 개수\n",
        "def solution(num_list):\n",
        "    answer = [0,0]\n",
        "    for n in num_list:\n",
        "        answer[n%2]+=1\n",
        "    return answer"
      ],
      "metadata": {
        "id": "XFX-NTBEkxca"
      },
      "execution_count": null,
      "outputs": []
    },
    {
      "cell_type": "code",
      "source": [
        "# 점의 위치 구하기\n",
        "def solution(dot):\n",
        "    if dot[0] > 0:\n",
        "        if dot[1] > 0:\n",
        "            answer = 1\n",
        "        else:\n",
        "            answer = 4\n",
        "    else:\n",
        "        if dot[1] > 0:\n",
        "            answer = 2\n",
        "        else:\n",
        "            answer = 3\n",
        "    return answer"
      ],
      "metadata": {
        "id": "KxIQAJlcCrtZ"
      },
      "execution_count": null,
      "outputs": []
    },
    {
      "cell_type": "code",
      "source": [
        "# 대박\n",
        "def solution(dot):\n",
        "    if dot[0] > 0:\n",
        "        if dot[1] > 0:\n",
        "            answer = 1\n",
        "        else:\n",
        "            answer = 4\n",
        "    else:\n",
        "        if dot[1] > 0:\n",
        "            answer = 2\n",
        "        else:\n",
        "            answer = 3\n",
        "    return answer"
      ],
      "metadata": {
        "id": "eYji1oesCuri"
      },
      "execution_count": null,
      "outputs": []
    }
  ]
}