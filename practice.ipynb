{
  "nbformat": 4,
  "nbformat_minor": 0,
  "metadata": {
    "colab": {
      "provenance": [],
      "authorship_tag": "ABX9TyPVFCBuXjl6OkBbm69jP8m+",
      "include_colab_link": true
    },
    "kernelspec": {
      "name": "python3",
      "display_name": "Python 3"
    },
    "language_info": {
      "name": "python"
    }
  },
  "cells": [
    {
      "cell_type": "markdown",
      "metadata": {
        "id": "view-in-github",
        "colab_type": "text"
      },
      "source": [
        "<a href=\"https://colab.research.google.com/github/dbtjr1103/Basic_practice/blob/main/practice.ipynb\" target=\"_parent\"><img src=\"https://colab.research.google.com/assets/colab-badge.svg\" alt=\"Open In Colab\"/></a>"
      ]
    },
    {
      "cell_type": "markdown",
      "source": [
        "# 프로그래머스 코딩테스트 입문\n",
        "\n",
        "신기한 풀이 정리"
      ],
      "metadata": {
        "id": "fMB34kQ4wP92"
      }
    },
    {
      "cell_type": "code",
      "source": [
        "# 분수의 덧셈 내풀이\n",
        "def solution(denum1, num1, denum2, num2):\n",
        "    answer = []\n",
        "    \n",
        "    denum = denum1*num2 + denum2*num1\n",
        "    num = num1*num2\n",
        "\n",
        "    max= 1\n",
        "    for i in range(2,denum+1):\n",
        "        if denum % i == 0 and num % i == 0:\n",
        "            max = i\n",
        "                \n",
        "    answer.append(denum/max)\n",
        "    answer.append(num/max)\n",
        "    \n",
        "    return answer"
      ],
      "metadata": {
        "id": "dNzjpKSGw9FL"
      },
      "execution_count": null,
      "outputs": []
    },
    {
      "cell_type": "code",
      "source": [
        " # math모듈, 최대공약수gcd 함수 사용\n",
        "import math\n",
        "def solution(denum1, num1, denum2, num2):\n",
        "    denum = denum1 * num2 + denum2 * num1\n",
        "    num = num1 * num2\n",
        "    gcd = math.gcd(denum, num)\n",
        "    return [denum//gcd, num//gcd]"
      ],
      "metadata": {
        "id": "HSxPAxOH2o_0"
      },
      "execution_count": null,
      "outputs": []
    },
    {
      "cell_type": "code",
      "source": [
        "# 중앙값 구하기\n",
        "def solution(array):\n",
        "    return sorted(array)[len(array)//2]"
      ],
      "metadata": {
        "id": "WeJkpfnb2y2B",
        "colab": {
          "base_uri": "https://localhost:8080/"
        },
        "outputId": "84e3297d-8577-4f4f-af8b-672464df6af9"
      },
      "execution_count": null,
      "outputs": [
        {
          "output_type": "execute_result",
          "data": {
            "text/plain": [
              "7"
            ]
          },
          "metadata": {},
          "execution_count": 14
        }
      ]
    },
    {
      "cell_type": "code",
      "source": [],
      "metadata": {
        "id": "gFkagT2n2xs9"
      },
      "execution_count": null,
      "outputs": []
    }
  ]
}