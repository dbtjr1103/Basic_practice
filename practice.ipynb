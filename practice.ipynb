{
  "nbformat": 4,
  "nbformat_minor": 0,
  "metadata": {
    "colab": {
      "provenance": [],
      "authorship_tag": "ABX9TyMlVuBMciSD+oscCZLzRmdv",
      "include_colab_link": true
    },
    "kernelspec": {
      "name": "python3",
      "display_name": "Python 3"
    },
    "language_info": {
      "name": "python"
    }
  },
  "cells": [
    {
      "cell_type": "markdown",
      "metadata": {
        "id": "view-in-github",
        "colab_type": "text"
      },
      "source": [
        "<a href=\"https://colab.research.google.com/github/dbtjr1103/Basic_practice/blob/main/practice.ipynb\" target=\"_parent\"><img src=\"https://colab.research.google.com/assets/colab-badge.svg\" alt=\"Open In Colab\"/></a>"
      ]
    },
    {
      "cell_type": "markdown",
      "source": [
        "# 프로그래머스 코딩테스트 입문\n",
        "\n",
        "신기한 풀이 정리"
      ],
      "metadata": {
        "id": "fMB34kQ4wP92"
      }
    },
    {
      "cell_type": "code",
      "source": [
        "# 분수의 덧셈 내풀이\n",
        "def solution(denum1, num1, denum2, num2):\n",
        "    answer = []\n",
        "    \n",
        "    denum = denum1*num2 + denum2*num1\n",
        "    num = num1*num2\n",
        "\n",
        "    max= 1\n",
        "    for i in range(2,denum+1):\n",
        "        if denum % i == 0 and num % i == 0:\n",
        "            max = i\n",
        "                \n",
        "    answer.append(denum/max)\n",
        "    answer.append(num/max)\n",
        "    \n",
        "    return answer"
      ],
      "metadata": {
        "id": "dNzjpKSGw9FL"
      },
      "execution_count": null,
      "outputs": []
    },
    {
      "cell_type": "code",
      "source": [
        " # math모듈, 최대공약수gcd 함수 사용\n",
        "import math\n",
        "def solution(denum1, num1, denum2, num2):\n",
        "    denum = denum1 * num2 + denum2 * num1\n",
        "    num = num1 * num2\n",
        "    gcd = math.gcd(denum, num)\n",
        "    return [denum//gcd, num//gcd]"
      ],
      "metadata": {
        "id": "HSxPAxOH2o_0"
      },
      "execution_count": null,
      "outputs": []
    },
    {
      "cell_type": "code",
      "source": [
        "# 중앙값 구하기\n",
        "def solution(array):\n",
        "    return sorted(array)[len(array)//2]"
      ],
      "metadata": {
        "id": "WeJkpfnb2y2B"
      },
      "execution_count": null,
      "outputs": []
    },
    {
      "cell_type": "code",
      "source": [
        "# 짝수의 합\n",
        "def solution(n):\n",
        "    return sum([i for i in range(2, n + 1, 2)])"
      ],
      "metadata": {
        "id": "gFkagT2n2xs9"
      },
      "execution_count": null,
      "outputs": []
    },
    {
      "cell_type": "code",
      "source": [
        "# 짝수의 합 내풀이\n",
        "def solution(n):\n",
        "    answer = 0\n",
        "    for i in range(2,n+1,2):\n",
        "        answer += i\n",
        "    return answer"
      ],
      "metadata": {
        "id": "YgZqk3r8uwV2"
      },
      "execution_count": null,
      "outputs": []
    },
    {
      "cell_type": "code",
      "source": [
        "# 양꼬치\n",
        "def solution(n, k):\n",
        "    s =  n // 10\n",
        "    answer = 12000*n + 2000*(k-s)\n",
        "    return answer"
      ],
      "metadata": {
        "id": "Bt-5XX3fv0cR"
      },
      "execution_count": null,
      "outputs": []
    },
    {
      "cell_type": "code",
      "source": [
        "def solution(numbers):\n",
        "    answer = sum(numbers)/len(numbers)\n",
        "    return answer"
      ],
      "metadata": {
        "id": "CpxqZELEQnPK"
      },
      "execution_count": null,
      "outputs": []
    },
    {
      "cell_type": "code",
      "source": [
        "# 키큰 사람\n",
        "def solution(array, height):\n",
        "    count = 0\n",
        "    for i in array:\n",
        "        if i > height:\n",
        "            count += 1\n",
        "    return count"
      ],
      "metadata": {
        "id": "piXcHl2bR5Fy"
      },
      "execution_count": null,
      "outputs": []
    },
    {
      "cell_type": "code",
      "source": [
        "# 키큰사람 다른풀이\n",
        "def solution(array, height):\n",
        "    array.append(height)\n",
        "    array.sort(reverse=True)\n",
        "    return array.index(height)"
      ],
      "metadata": {
        "id": "VAxZwPqLSKce"
      },
      "execution_count": null,
      "outputs": []
    },
    {
      "cell_type": "code",
      "source": [
        "# 중복된 숫자개수\n",
        "def solution(array, n):\n",
        "    answer = 0\n",
        "    \n",
        "    for i in array:\n",
        "        if i == n:\n",
        "            answer += 1\n",
        "    return answer"
      ],
      "metadata": {
        "id": "vr3pQ_1ASMg1"
      },
      "execution_count": null,
      "outputs": []
    },
    {
      "cell_type": "code",
      "source": [
        "def solution(array, n):\n",
        "    return array.count(n)"
      ],
      "metadata": {
        "id": "nwD5z3aXS-n6"
      },
      "execution_count": null,
      "outputs": []
    },
    {
      "cell_type": "code",
      "source": [
        "# 몫과 나머지\n",
        "def solution(slice, n):\n",
        "    a, b = divmod(n, slice)\n",
        "    if b == 0:\n",
        "        answer = a\n",
        "    else :\n",
        "        answer = a+1\n",
        "    return answer"
      ],
      "metadata": {
        "id": "xc9YtHlNS_Wg"
      },
      "execution_count": null,
      "outputs": []
    },
    {
      "cell_type": "code",
      "source": [
        "# 피자 나눠먹기3... 와..\n",
        "def solution(slice, n):\n",
        "    return ((n - 1) // slice) + 1"
      ],
      "metadata": {
        "id": "0VX_eWEGU90J"
      },
      "execution_count": null,
      "outputs": []
    },
    {
      "cell_type": "code",
      "source": [
        "# 피자1\n",
        "def solution(n):\n",
        "    return (n - 1) // 7 + 1"
      ],
      "metadata": {
        "id": "nu8c3YRkVXWr"
      },
      "execution_count": null,
      "outputs": []
    },
    {
      "cell_type": "code",
      "source": [
        "# 배열뒤집기\n",
        "def solution(num_list):\n",
        "    answer = []\n",
        "    for i in range(1,len(num_list)+1):\n",
        "        answer.append(num_list[-i])\n",
        "    return answer"
      ],
      "metadata": {
        "id": "Do2xtqSkVzTK"
      },
      "execution_count": null,
      "outputs": []
    },
    {
      "cell_type": "code",
      "source": [
        "def solution(num_list):\n",
        "    return num_list[::-1]"
      ],
      "metadata": {
        "id": "xA9qrqzwWVzh"
      },
      "execution_count": null,
      "outputs": []
    },
    {
      "cell_type": "code",
      "source": [
        "def solution(my_string):\n",
        "    return my_string[::-1]"
      ],
      "metadata": {
        "id": "PTgspIafB_Fo"
      },
      "execution_count": null,
      "outputs": []
    },
    {
      "cell_type": "code",
      "source": [
        "# 짝수홀수개수 내풀이\n",
        "def solution(num_list):\n",
        "    odd, even = 0,0\n",
        "    for i in num_list:\n",
        "        if i % 2 == 1:\n",
        "            odd += 1\n",
        "        else:\n",
        "            even += 1\n",
        "    return [even,odd]"
      ],
      "metadata": {
        "id": "-PYAgpGLi5qw"
      },
      "execution_count": null,
      "outputs": []
    },
    {
      "cell_type": "code",
      "source": [
        "# 짝수 홀수 개수\n",
        "def solution(num_list):\n",
        "    answer = [0,0]\n",
        "    for n in num_list:\n",
        "        answer[n%2]+=1\n",
        "    return answer"
      ],
      "metadata": {
        "id": "XFX-NTBEkxca"
      },
      "execution_count": null,
      "outputs": []
    },
    {
      "cell_type": "code",
      "source": [
        "# 점의 위치 구하기\n",
        "def solution(dot):\n",
        "    if dot[0] > 0:\n",
        "        if dot[1] > 0:\n",
        "            answer = 1\n",
        "        else:\n",
        "            answer = 4\n",
        "    else:\n",
        "        if dot[1] > 0:\n",
        "            answer = 2\n",
        "        else:\n",
        "            answer = 3\n",
        "    return answer"
      ],
      "metadata": {
        "id": "KxIQAJlcCrtZ"
      },
      "execution_count": null,
      "outputs": []
    },
    {
      "cell_type": "code",
      "source": [
        "# 대박\n",
        "def solution(dot):\n",
        "    if dot[0] > 0:\n",
        "        if dot[1] > 0:\n",
        "            answer = 1\n",
        "        else:\n",
        "            answer = 4\n",
        "    else:\n",
        "        if dot[1] > 0:\n",
        "            answer = 2\n",
        "        else:\n",
        "            answer = 3\n",
        "    return answer"
      ],
      "metadata": {
        "id": "eYji1oesCuri"
      },
      "execution_count": null,
      "outputs": []
    },
    {
      "cell_type": "code",
      "source": [
        "# 문자반복출력\n",
        "def solution(my_string, n):\n",
        "    answer = ''\n",
        "    for i in my_string:\n",
        "        answer += i*n\n",
        "    return answer"
      ],
      "metadata": {
        "id": "Ce4woG8fuhxs"
      },
      "execution_count": null,
      "outputs": []
    },
    {
      "cell_type": "code",
      "source": [
        "# join 함수\n",
        "def solution(my_string, n):\n",
        "    return ''.join(i*n for i in my_string)"
      ],
      "metadata": {
        "id": "SFaxLmMKukvV"
      },
      "execution_count": null,
      "outputs": []
    },
    {
      "cell_type": "code",
      "source": [
        "# 배열원소의길이\n",
        "def solution(strlist):\n",
        "    answer = []\n",
        "    for i in strlist:\n",
        "        answer.append(len(i))\n",
        "    return answer"
      ],
      "metadata": {
        "id": "OtTYSE9e5c6g"
      },
      "execution_count": null,
      "outputs": []
    },
    {
      "cell_type": "code",
      "source": [
        "# 특정 문자 제거\n",
        "def solution(my_string, letter):\n",
        "    return my_string.replace(letter, '')"
      ],
      "metadata": {
        "id": "nrjMk_jM6h5Q"
      },
      "execution_count": null,
      "outputs": []
    },
    {
      "cell_type": "code",
      "source": [
        "# 몫과 나머지\n",
        "def solution(money):\n",
        "    return list(divmod(money, 5500))"
      ],
      "metadata": {
        "id": "tebHoDtU6lFf"
      },
      "execution_count": null,
      "outputs": []
    },
    {
      "cell_type": "code",
      "source": [
        "# n이하 홀수 배열\n",
        "def solution(n):\n",
        "    answer = []\n",
        "    for i in range(n+1):\n",
        "        if i%2 == 1:\n",
        "            answer.append(i)\n",
        "    return answer"
      ],
      "metadata": {
        "id": "Fn0PAO96Vejy"
      },
      "execution_count": null,
      "outputs": []
    },
    {
      "cell_type": "code",
      "source": [
        "def solution(n):\n",
        "    return [i for i in range(1, n+1, 2)]"
      ],
      "metadata": {
        "id": "uqCkhmM3XAoc"
      },
      "execution_count": null,
      "outputs": []
    },
    {
      "cell_type": "code",
      "source": [
        "# 배열 유사도\n",
        "def solution(s1, s2):\n",
        "    answer = 0\n",
        "    for i in s1:\n",
        "        for j in s2:\n",
        "            if i == j:\n",
        "                answer += 1\n",
        "    return answer"
      ],
      "metadata": {
        "id": "hSeYQ_N-zeSE"
      },
      "execution_count": null,
      "outputs": []
    },
    {
      "cell_type": "code",
      "source": [
        "def solution(s1, s2):\n",
        "    return len(set(s1)&set(s2));"
      ],
      "metadata": {
        "id": "oKbAUAqDzzQm"
      },
      "execution_count": null,
      "outputs": []
    },
    {
      "cell_type": "code",
      "source": [
        "# 제곱수 판별\n",
        "def solution(n):\n",
        "    num =  []\n",
        "    for i in range(1, n) :\n",
        "        if n % i == 0 :\n",
        "            num.append(i)\n",
        "\n",
        "    if len(num) % 2 == 0 : #제곱수라면\n",
        "        return 1\n",
        "    else:\n",
        "        return 2"
      ],
      "metadata": {
        "id": "WD_FV0yw0CYe"
      },
      "execution_count": null,
      "outputs": []
    },
    {
      "cell_type": "code",
      "source": [
        "def solution(n):\n",
        "    return 1 if (n ** 0.5).is_integer() else 2"
      ],
      "metadata": {
        "id": "Ph5YNYjRaYfU"
      },
      "execution_count": null,
      "outputs": []
    },
    {
      "cell_type": "code",
      "source": [
        "def solution(n):\n",
        "    return 1 if (n ** 0.5) % 1 == 0 else 2"
      ],
      "metadata": {
        "id": "0fG6NcvhaurC"
      },
      "execution_count": null,
      "outputs": []
    },
    {
      "cell_type": "code",
      "source": [
        "# 순서쌍의 개수\n",
        "def solution(n):\n",
        "    answer = []\n",
        "    for i in range(1,n+1):\n",
        "        if n % i == 0:\n",
        "            answer.append(i)\n",
        "    return len(answer)    "
      ],
      "metadata": {
        "id": "QSEH52Qqau6k"
      },
      "execution_count": null,
      "outputs": []
    },
    {
      "cell_type": "code",
      "source": [
        "# 자릿수 더하기\n",
        "def solution(n):\n",
        "    num = str(n)\n",
        "    answer = 0\n",
        "    for i in range(len(num)):\n",
        "        answer += int(num[i])\n",
        "    return answer"
      ],
      "metadata": {
        "id": "yHfz9OWsazHO"
      },
      "execution_count": null,
      "outputs": []
    },
    {
      "cell_type": "code",
      "source": [
        "def solution(n):\n",
        "    num = str(n)\n",
        "    answer = 0\n",
        "    for i in range(len(num)):\n",
        "        answer += int(num[i])\n",
        "    return answer"
      ],
      "metadata": {
        "id": "CTD1J_kfgD4H"
      },
      "execution_count": null,
      "outputs": []
    },
    {
      "cell_type": "code",
      "source": [
        "def solution(str1, str2):\n",
        "    return 1 if str2 in str1 else 2"
      ],
      "metadata": {
        "id": "1YhRd-A4bF_m"
      },
      "execution_count": null,
      "outputs": []
    },
    {
      "cell_type": "code",
      "source": [
        "def solution(my_string):\n",
        "    vowels = ['a','e','i','o','u']\n",
        "    for vowel in vowels:\n",
        "        my_string = my_string.replace(vowel, '')\n",
        "    return my_string"
      ],
      "metadata": {
        "id": "nFTXD-sojP_C"
      },
      "execution_count": null,
      "outputs": []
    },
    {
      "cell_type": "code",
      "source": [
        "# 옷가게 할인받기\n",
        "def solution(price):\n",
        "    if price>=500000:\n",
        "        price = price *0.8\n",
        "    elif price>=300000:\n",
        "        price = price *0.9\n",
        "    elif price>=100000:\n",
        "        price = price * 0.95\n",
        "    return int(price)"
      ],
      "metadata": {
        "id": "ngbqmLfvkpCz"
      },
      "execution_count": null,
      "outputs": []
    },
    {
      "cell_type": "code",
      "source": [
        "def solution(price):\n",
        "    discount_rates = {500000: 0.8, 300000: 0.9, 100000: 0.95, 0: 1}\n",
        "    for discount_price, discount_rate in discount_rates.items():\n",
        "        if price >= discount_price:\n",
        "            return int(price * discount_rate)"
      ],
      "metadata": {
        "id": "bx7F99BscK78"
      },
      "execution_count": null,
      "outputs": []
    },
    {
      "cell_type": "code",
      "source": [
        "# 숨어있는 숫자의 덧셈\n",
        "def solution(my_string):\n",
        "    answer = 0\n",
        "    for i in my_string:\n",
        "        if i.isdigit():\n",
        "            answer += int(i)\n",
        "    return answer"
      ],
      "metadata": {
        "id": "Q16IqMvEcMFr"
      },
      "execution_count": null,
      "outputs": []
    },
    {
      "cell_type": "code",
      "source": [
        "# 개미군단\n",
        "def solution(hp):\n",
        "    a = hp // 5 \n",
        "    b = hp % 5 // 3\n",
        "    c = hp % 5 % 3\n",
        "    return a+b+c"
      ],
      "metadata": {
        "id": "Z0dB_zqIc_lR"
      },
      "execution_count": null,
      "outputs": []
    },
    {
      "cell_type": "code",
      "source": [
        "# 문자열 정렬하기 (1)\n",
        "def solution(my_string):\n",
        "    answer = []\n",
        "    for i in my_string:\n",
        "        if i.isdigit():\n",
        "            answer.append(int(i))\n",
        "    answer = sorted(answer)\n",
        "    return answer"
      ],
      "metadata": {
        "id": "3axx5ngnqCCx"
      },
      "execution_count": null,
      "outputs": []
    },
    {
      "cell_type": "code",
      "source": [
        "def solution(my_string):\n",
        "    return sorted([int(c) for c in my_string if c.isdigit()])"
      ],
      "metadata": {
        "id": "xbjGtrnC8LPJ"
      },
      "execution_count": null,
      "outputs": []
    },
    {
      "cell_type": "code",
      "source": [
        "# 최빈값 구하기\n",
        "def solution(array):\n",
        "    keys = set(array)\n",
        "    dict = {}\n",
        "    max_freq = []\n",
        "    \n",
        "    for key in keys:\n",
        "        dict[key] = array.count(key)\n",
        "        \n",
        "    for key in keys:\n",
        "        if dict[key] == max(dict.values()):\n",
        "            max_freq.append(key)\n",
        "            \n",
        "    if len(max_freq) > 1:\n",
        "        answer = -1\n",
        "    else:\n",
        "        answer = max_freq[0]\n",
        "        \n",
        "    return answer"
      ],
      "metadata": {
        "id": "oco_oizW8CBm"
      },
      "execution_count": null,
      "outputs": []
    },
    {
      "cell_type": "code",
      "source": [
        "def solution(array):\n",
        "    while len(array) != 0:\n",
        "        for i, a in enumerate(set(array)):\n",
        "            array.remove(a)\n",
        "        if i == 0: return a\n",
        "    return -1"
      ],
      "metadata": {
        "id": "YI7bNUJF_CfS"
      },
      "execution_count": null,
      "outputs": []
    },
    {
      "cell_type": "code",
      "source": [
        "# 피자 나눠먹기(2)\n",
        "def solution(n):\n",
        "    answer = 1\n",
        "    while answer*6 % n:\n",
        "        answer += 1\n",
        "    return answer"
      ],
      "metadata": {
        "id": "FLsqOZN4_Fe5"
      },
      "execution_count": null,
      "outputs": []
    },
    {
      "cell_type": "code",
      "source": [
        "# 세균 증식\n",
        "def solution(n, t):\n",
        "    return n * (2**t)"
      ],
      "metadata": {
        "id": "NDg_BYV2D3sz"
      },
      "execution_count": null,
      "outputs": []
    },
    {
      "cell_type": "code",
      "source": [
        "def solution(n, t):\n",
        "    return n << t # 비트연산"
      ],
      "metadata": {
        "id": "QIaosgS0EPnH"
      },
      "execution_count": null,
      "outputs": []
    },
    {
      "cell_type": "code",
      "source": [
        "# 직각삼각형 출력\n",
        "n = int(input())\n",
        "\n",
        "for i in range(n):\n",
        "    print('*' * (i+1))"
      ],
      "metadata": {
        "id": "lPeDgJiWEVYi"
      },
      "execution_count": null,
      "outputs": []
    },
    {
      "cell_type": "code",
      "source": [
        "# 외계행성의 나이\n",
        "def solution(age):\n",
        "    alpha = 'abcdefghij'\n",
        "    answer = ''\n",
        "    for i in str(age):\n",
        "        answer += alpha[int(i)]\n",
        "    return answer\n",
        "\n",
        "solution(12)"
      ],
      "metadata": {
        "colab": {
          "base_uri": "https://localhost:8080/",
          "height": 35
        },
        "id": "EiTA7IljAFTZ",
        "outputId": "569ffbe3-92cf-4c3a-d5bc-0b95a6058b27"
      },
      "execution_count": null,
      "outputs": [
        {
          "output_type": "execute_result",
          "data": {
            "text/plain": [
              "'bc'"
            ],
            "application/vnd.google.colaboratory.intrinsic+json": {
              "type": "string"
            }
          },
          "metadata": {},
          "execution_count": 27
        }
      ]
    },
    {
      "cell_type": "code",
      "source": [
        "def solution(age):\n",
        "\n",
        "    return ''.join([chr(int(i)+97) for i in str(age)])"
      ],
      "metadata": {
        "id": "J4IruHHICWny"
      },
      "execution_count": null,
      "outputs": []
    },
    {
      "cell_type": "code",
      "source": [
        "solution(123)"
      ],
      "metadata": {
        "colab": {
          "base_uri": "https://localhost:8080/",
          "height": 35
        },
        "id": "1tL0sXAdCX4X",
        "outputId": "0e41d5ec-1245-4cf9-a9bd-f77cead5bb29"
      },
      "execution_count": null,
      "outputs": [
        {
          "output_type": "execute_result",
          "data": {
            "text/plain": [
              "'bcd'"
            ],
            "application/vnd.google.colaboratory.intrinsic+json": {
              "type": "string"
            }
          },
          "metadata": {},
          "execution_count": 30
        }
      ]
    },
    {
      "cell_type": "code",
      "source": [
        "chr(100)"
      ],
      "metadata": {
        "colab": {
          "base_uri": "https://localhost:8080/",
          "height": 35
        },
        "id": "f4sSdY4nCh0z",
        "outputId": "fb5c0841-a63d-478f-ca40-0235a0c9c3a6"
      },
      "execution_count": null,
      "outputs": [
        {
          "output_type": "execute_result",
          "data": {
            "text/plain": [
              "'d'"
            ],
            "application/vnd.google.colaboratory.intrinsic+json": {
              "type": "string"
            }
          },
          "metadata": {},
          "execution_count": 36
        }
      ]
    },
    {
      "cell_type": "code",
      "source": [
        "# 진료순서 정하기\n",
        "def solution(emergency):\n",
        "    answer = []\n",
        "    emergencyset=sorted(emergency)\n",
        "    emergencyset.reverse()\n",
        "    for i in emergency:\n",
        "        answer.append(emergencyset.index(i)+1)\n",
        "\n",
        "    return answer"
      ],
      "metadata": {
        "id": "nTARs2BEGfhj"
      },
      "execution_count": null,
      "outputs": []
    },
    {
      "cell_type": "code",
      "source": [
        "emergency = [3,75,24]\n",
        "\n",
        "answer = []\n",
        "sets = sorted(emergency)\n",
        "sets.reverse()\n",
        "for i in emergency:\n",
        "    answer.append(sets.index(i)+1)\n",
        "\n",
        "answer"
      ],
      "metadata": {
        "colab": {
          "base_uri": "https://localhost:8080/"
        },
        "id": "nC_OUXT7H5Gr",
        "outputId": "43c68732-26b6-4658-acbd-cf8ed6954d33"
      },
      "execution_count": null,
      "outputs": [
        {
          "output_type": "execute_result",
          "data": {
            "text/plain": [
              "[3, 1, 2]"
            ]
          },
          "metadata": {},
          "execution_count": 48
        }
      ]
    },
    {
      "cell_type": "code",
      "source": [
        "my_string = 'CCCccc'\n",
        "answer = ''\n",
        "for i in my_string:\n",
        "    if i.isupper():\n",
        "        answer.join(i.lower)\n",
        "    else:\n",
        "        answer.join(i.upper)\n",
        "return answer"
      ],
      "metadata": {
        "id": "Cmsi0RzBFhwL"
      },
      "execution_count": null,
      "outputs": []
    },
    {
      "cell_type": "code",
      "source": [
        "morse = { \n",
        "    '.-':'a','-...':'b','-.-.':'c','-..':'d','.':'e','..-.':'f',\n",
        "    '--.':'g','....':'h','..':'i','.---':'j','-.-':'k','.-..':'l',\n",
        "    '--':'m','-.':'n','---':'o','.--.':'p','--.-':'q','.-.':'r',\n",
        "    '...':'s','-':'t','..-':'u','...-':'v','.--':'w','-..-':'x',\n",
        "    '-.--':'y','--..':'z'\n",
        "}"
      ],
      "metadata": {
        "id": "fnozPAbCWnz5"
      },
      "execution_count": null,
      "outputs": []
    },
    {
      "cell_type": "code",
      "source": [
        "morse.get('-.--')"
      ],
      "metadata": {
        "colab": {
          "base_uri": "https://localhost:8080/",
          "height": 35
        },
        "id": "92k0I6kFWuFf",
        "outputId": "b3228bf3-aa73-4f80-cab1-eb5c9d8ccd55"
      },
      "execution_count": null,
      "outputs": [
        {
          "output_type": "execute_result",
          "data": {
            "text/plain": [
              "'y'"
            ],
            "application/vnd.google.colaboratory.intrinsic+json": {
              "type": "string"
            }
          },
          "metadata": {},
          "execution_count": 20
        }
      ]
    },
    {
      "cell_type": "code",
      "source": [
        "letter = \".... . .-.. .-.. ---\""
      ],
      "metadata": {
        "id": "Cnbl9w_AX7ns"
      },
      "execution_count": null,
      "outputs": []
    },
    {
      "cell_type": "code",
      "source": [
        "words = letter.split()\n",
        "words"
      ],
      "metadata": {
        "colab": {
          "base_uri": "https://localhost:8080/"
        },
        "id": "-iKoeHhPYAWS",
        "outputId": "557a0717-ec45-4a86-af67-dc02d7f1b1e1"
      },
      "execution_count": null,
      "outputs": [
        {
          "output_type": "execute_result",
          "data": {
            "text/plain": [
              "['....', '.', '.-..', '.-..', '---']"
            ]
          },
          "metadata": {},
          "execution_count": 26
        }
      ]
    },
    {
      "cell_type": "code",
      "source": [
        "answer = ''"
      ],
      "metadata": {
        "id": "VXglZb24Yw39"
      },
      "execution_count": null,
      "outputs": []
    },
    {
      "cell_type": "code",
      "source": [
        "for i in words:\n",
        "    answer += morse.get(i)\n"
      ],
      "metadata": {
        "id": "jdnIUCC7WxQV"
      },
      "execution_count": null,
      "outputs": []
    },
    {
      "cell_type": "code",
      "source": [
        "answer"
      ],
      "metadata": {
        "colab": {
          "base_uri": "https://localhost:8080/",
          "height": 35
        },
        "id": "azyW4BfDX6sz",
        "outputId": "8cd0ab90-6b22-46e7-ebe0-162ffcccd5c9"
      },
      "execution_count": null,
      "outputs": [
        {
          "output_type": "execute_result",
          "data": {
            "text/plain": [
              "'hello'"
            ],
            "application/vnd.google.colaboratory.intrinsic+json": {
              "type": "string"
            }
          },
          "metadata": {},
          "execution_count": 35
        }
      ]
    },
    {
      "cell_type": "code",
      "source": [
        "def solution(rsp):\n",
        "    d = {'0':'5','2':'0','5':'2'}\n",
        "    return ''.join(d[i] for i in rsp)"
      ],
      "metadata": {
        "id": "HQIVueRfY4BZ"
      },
      "execution_count": null,
      "outputs": []
    },
    {
      "cell_type": "code",
      "source": [
        "def solution(rsp):\n",
        "    rsp =rsp.replace('2','s')\n",
        "    rsp =rsp.replace('5','p')\n",
        "    rsp =rsp.replace('0','r')\n",
        "    rsp =rsp.replace('r','5')\n",
        "    rsp =rsp.replace('s','0')\n",
        "    rsp =rsp.replace('p','2')\n",
        "    return rsp"
      ],
      "metadata": {
        "id": "2IhnF0D5fxlr"
      },
      "execution_count": null,
      "outputs": []
    },
    {
      "cell_type": "code",
      "source": [
        "def solution(balls, share):\n",
        "    n = 1\n",
        "    a = 1\n",
        "    \n",
        "    for i in range(share):\n",
        "        n *= balls-i\n",
        "        a *= share-i\n",
        "        \n",
        "    return n/a"
      ],
      "metadata": {
        "id": "FVfc6KMMuQS4"
      },
      "execution_count": null,
      "outputs": []
    },
    {
      "cell_type": "code",
      "source": [
        "balls = 5\n",
        "share = 3\n",
        "\n",
        "n = 1\n",
        "a = 1\n",
        "\n",
        "for i in range(share):\n",
        "    n *= balls-i\n",
        "    a *= share-i\n",
        "\n",
        "print(n)\n",
        "print(a)"
      ],
      "metadata": {
        "colab": {
          "base_uri": "https://localhost:8080/"
        },
        "id": "K-ejAAqTuRvz",
        "outputId": "80d3d38f-39b1-4cc6-9132-241ef9dd503e"
      },
      "execution_count": null,
      "outputs": [
        {
          "output_type": "stream",
          "name": "stdout",
          "text": [
            "60\n",
            "6\n"
          ]
        }
      ]
    },
    {
      "cell_type": "code",
      "source": [
        "num_list = [1, 2, 3, 4, 5, 6, 7, 8]\n",
        "num_list.pop()"
      ],
      "metadata": {
        "colab": {
          "base_uri": "https://localhost:8080/"
        },
        "id": "HeF0T77JugEq",
        "outputId": "8b354d8d-53b7-4a3c-8f78-e8f58da04fde"
      },
      "execution_count": null,
      "outputs": [
        {
          "output_type": "execute_result",
          "data": {
            "text/plain": [
              "2"
            ]
          },
          "metadata": {},
          "execution_count": 7
        }
      ]
    },
    {
      "cell_type": "code",
      "source": [
        "num_list"
      ],
      "metadata": {
        "colab": {
          "base_uri": "https://localhost:8080/"
        },
        "id": "WkcUbLuA8RQ_",
        "outputId": "9156025d-5068-44e5-db48-816b1103eb08"
      },
      "execution_count": null,
      "outputs": [
        {
          "output_type": "execute_result",
          "data": {
            "text/plain": [
              "[1, 3, 4, 5, 6, 7, 8]"
            ]
          },
          "metadata": {},
          "execution_count": 8
        }
      ]
    },
    {
      "cell_type": "code",
      "source": [
        "answer = []\n",
        "na = []\n",
        "for i i \n",
        "    for j in range(n):\n",
        "        na.append(j)\n"
      ],
      "metadata": {
        "id": "VoRvaSLh8Y63"
      },
      "execution_count": null,
      "outputs": []
    },
    {
      "cell_type": "code",
      "source": [
        "num_list = [1, 2, 3, 4, 5, 6, 7, 8]\n",
        "n=2\n",
        "\n",
        "answer = []\n",
        "\n",
        "for i in range(len(num_list)/n) :\n",
        "    na = []\n",
        "    for i in range(3):\n",
        "        na.append(num_list.pop())\n",
        "print(na)"
      ],
      "metadata": {
        "colab": {
          "base_uri": "https://localhost:8080/",
          "height": 245
        },
        "id": "TRTcXzZEMVLq",
        "outputId": "6aaf5617-237d-497c-8548-cefdefb3d64c"
      },
      "execution_count": null,
      "outputs": [
        {
          "output_type": "error",
          "ename": "TypeError",
          "evalue": "ignored",
          "traceback": [
            "\u001b[0;31m---------------------------------------------------------------------------\u001b[0m",
            "\u001b[0;31mTypeError\u001b[0m                                 Traceback (most recent call last)",
            "\u001b[0;32m<ipython-input-11-8b1bda4210bd>\u001b[0m in \u001b[0;36m<module>\u001b[0;34m\u001b[0m\n\u001b[1;32m      4\u001b[0m \u001b[0manswer\u001b[0m \u001b[0;34m=\u001b[0m \u001b[0;34m[\u001b[0m\u001b[0;34m]\u001b[0m\u001b[0;34m\u001b[0m\u001b[0;34m\u001b[0m\u001b[0m\n\u001b[1;32m      5\u001b[0m \u001b[0;34m\u001b[0m\u001b[0m\n\u001b[0;32m----> 6\u001b[0;31m \u001b[0;32mfor\u001b[0m \u001b[0mi\u001b[0m \u001b[0;32min\u001b[0m \u001b[0mrange\u001b[0m\u001b[0;34m(\u001b[0m\u001b[0mlen\u001b[0m\u001b[0;34m(\u001b[0m\u001b[0mnum_list\u001b[0m\u001b[0;34m)\u001b[0m\u001b[0;34m/\u001b[0m\u001b[0mn\u001b[0m\u001b[0;34m)\u001b[0m \u001b[0;34m:\u001b[0m\u001b[0;34m\u001b[0m\u001b[0;34m\u001b[0m\u001b[0m\n\u001b[0m\u001b[1;32m      7\u001b[0m     \u001b[0mna\u001b[0m \u001b[0;34m=\u001b[0m \u001b[0;34m[\u001b[0m\u001b[0;34m]\u001b[0m\u001b[0;34m\u001b[0m\u001b[0;34m\u001b[0m\u001b[0m\n\u001b[1;32m      8\u001b[0m     \u001b[0;32mfor\u001b[0m \u001b[0mi\u001b[0m \u001b[0;32min\u001b[0m \u001b[0mrange\u001b[0m\u001b[0;34m(\u001b[0m\u001b[0;36m3\u001b[0m\u001b[0;34m)\u001b[0m\u001b[0;34m:\u001b[0m\u001b[0;34m\u001b[0m\u001b[0;34m\u001b[0m\u001b[0m\n",
            "\u001b[0;31mTypeError\u001b[0m: 'float' object cannot be interpreted as an integer"
          ]
        }
      ]
    },
    {
      "cell_type": "code",
      "source": [
        "# 대문자와 소문자\n",
        "def solution(my_string):\n",
        "    answer=''\n",
        "    for i in my_string:\n",
        "        if i.isupper():\n",
        "            answer+=i.lower()\n",
        "        else:\n",
        "            answer+=i.upper()\n",
        "    return answer"
      ],
      "metadata": {
        "id": "nNybSePPZsWf"
      },
      "execution_count": null,
      "outputs": []
    },
    {
      "cell_type": "code",
      "source": [
        "#신기한 풀이 \n",
        "def solution(my_string):\n",
        "    return my_string.swapcase()"
      ],
      "metadata": {
        "id": "P8A9pWHENbGa"
      },
      "execution_count": null,
      "outputs": []
    },
    {
      "cell_type": "code",
      "source": [
        "# 상\n",
        "def soltion(box, n):\n",
        "    answer = 1\n",
        "    for i in box:\n",
        "            answer *= i//n\n",
        "    return answer"
      ],
      "metadata": {
        "id": "Nex4XTMGPXvQ"
      },
      "execution_count": null,
      "outputs": []
    },
    {
      "cell_type": "code",
      "source": [
        "# 가장 큰 수 찾기\n",
        "def solution(array):\n",
        "    answer = [0,0]\n",
        "    for i,j in enumerate(array):\n",
        "        if j > answer[0]:\n",
        "            answer[0] = j\n",
        "            answer[1] = i\n",
        "    return answer"
      ],
      "metadata": {
        "id": "bQFrcDqXY6Eb"
      },
      "execution_count": null,
      "outputs": []
    },
    {
      "cell_type": "code",
      "source": [
        "def solution(array):\n",
        "    return [max(array), array.index(max(array))]"
      ],
      "metadata": {
        "id": "iKmTSWUUY_4f"
      },
      "execution_count": null,
      "outputs": []
    },
    {
      "cell_type": "code",
      "source": [
        "n=13\n",
        "n//2"
      ],
      "metadata": {
        "colab": {
          "base_uri": "https://localhost:8080/"
        },
        "id": "hE2P6HqkZAIP",
        "outputId": "61dbdb95-1ee7-494e-8978-2dc5bee8fc75"
      },
      "execution_count": null,
      "outputs": [
        {
          "output_type": "execute_result",
          "data": {
            "text/plain": [
              "6"
            ]
          },
          "metadata": {},
          "execution_count": 2
        }
      ]
    },
    {
      "cell_type": "code",
      "source": [
        "n%1"
      ],
      "metadata": {
        "colab": {
          "base_uri": "https://localhost:8080/"
        },
        "id": "Ori0YGLlarw1",
        "outputId": "29749fc1-c431-4b33-f373-ea3f60cdff9e"
      },
      "execution_count": null,
      "outputs": [
        {
          "output_type": "execute_result",
          "data": {
            "text/plain": [
              "0"
            ]
          },
          "metadata": {},
          "execution_count": 3
        }
      ]
    },
    {
      "cell_type": "code",
      "source": [
        "# 약수 구하기\n",
        "def solution(n):\n",
        "    answer = []\n",
        "    for i in range(n//2):\n",
        "        if n % (i+1) == 0:\n",
        "            answer.append(i+1)  \n",
        "    answer.append(n)\n",
        "    return answer"
      ],
      "metadata": {
        "id": "QjserMZGaznf"
      },
      "execution_count": null,
      "outputs": []
    },
    {
      "cell_type": "code",
      "source": [
        "def solution(n):\n",
        "    answer = [i for i in range(1,n+1) if n%i == 0]\n",
        "    return answer"
      ],
      "metadata": {
        "id": "657SK3HzeTo2"
      },
      "execution_count": null,
      "outputs": []
    },
    {
      "cell_type": "code",
      "source": [
        "# 배열회전\n",
        "def solution(numbers, direction):\n",
        "    answer = []\n",
        "    if direction == 'right':\n",
        "        answer.append(numbers.pop())\n",
        "        for i in range(len(numbers)):\n",
        "            answer.append(numbers[i])\n",
        "    else:\n",
        "        for i in range(len(numbers)-1):\n",
        "            answer.append(numbers[i+1])\n",
        "        answer.append(numbers[0])\n",
        "    return answer"
      ],
      "metadata": {
        "id": "4aOV48DueUU6"
      },
      "execution_count": null,
      "outputs": []
    },
    {
      "cell_type": "code",
      "source": [
        "def solution(numbers, direction):\n",
        "    return [numbers[-1]] + numbers[:-1] if direction == 'right' else numbers[1:] + [numbers[0]]"
      ],
      "metadata": {
        "id": "c60zeMmyvL-H"
      },
      "execution_count": null,
      "outputs": []
    },
    {
      "cell_type": "code",
      "source": [
        "# 최댓값 만들기 2\n",
        "def solution(numbers):\n",
        "    numbers.sort()\n",
        "    if numbers[0]*numbers[1] > numbers[-1]*numbers[-2]:\n",
        "        return numbers[0]*numbers[1]\n",
        "    else:\n",
        "        return numbers[-1]*numbers[-2]"
      ],
      "metadata": {
        "id": "rewzhl-TwGyR"
      },
      "execution_count": null,
      "outputs": []
    },
    {
      "cell_type": "code",
      "source": [
        "def solution(numbers):\n",
        "    numbers = sorted(numbers)\n",
        "    return max(numbers[0] * numbers[1], numbers[-1]*numbers[-2]) \n",
        "    # max를 쓰면 된다!"
      ],
      "metadata": {
        "id": "FAD3z-_aIus6"
      },
      "execution_count": null,
      "outputs": []
    },
    {
      "cell_type": "code",
      "source": [
        "test = 'TEST'"
      ],
      "metadata": {
        "id": "1_eMr7IlI7B0"
      },
      "execution_count": null,
      "outputs": []
    },
    {
      "cell_type": "code",
      "source": [
        "sorted(list(test.lower()))"
      ],
      "metadata": {
        "colab": {
          "base_uri": "https://localhost:8080/"
        },
        "id": "C7IUePtLOgS-",
        "outputId": "bf85b51e-2a5a-456f-ecf6-8f3ecc62ea29"
      },
      "execution_count": null,
      "outputs": [
        {
          "output_type": "execute_result",
          "data": {
            "text/plain": [
              "['e', 's', 't', 't']"
            ]
          },
          "metadata": {},
          "execution_count": 22
        }
      ]
    },
    {
      "cell_type": "markdown",
      "source": [],
      "metadata": {
        "id": "wAFqC_ysTLlc"
      }
    },
    {
      "cell_type": "code",
      "source": [
        "# 인덱스 바꾸기\n",
        "def solution(my_string, num1, num2):\n",
        "    my_string = list(my_string)\n",
        "    my_string[num1], my_string[num2] = my_string[num2],my_string[num1]\n",
        "    return \"\".join(my_string)"
      ],
      "metadata": {
        "id": "JxuJP4f7J7FK"
      },
      "execution_count": null,
      "outputs": []
    },
    {
      "cell_type": "code",
      "source": [
        "# 369게임\n",
        "def solution(order):\n",
        "    answer = 0\n",
        "    for i in str(order):\n",
        "        if i == '3' or i == '6' or i =='9':\n",
        "            answer+=1\n",
        "    return answer"
      ],
      "metadata": {
        "id": "y9crGyEYLTSV"
      },
      "execution_count": null,
      "outputs": []
    },
    {
      "cell_type": "code",
      "source": [
        "# map인데 너무 어려운거같음\n",
        "def solution(order):\n",
        "    return sum(map(lambda x: str(order).count(str(x)), [3, 6, 9]))"
      ],
      "metadata": {
        "id": "tWoYnkwjOMtg"
      },
      "execution_count": null,
      "outputs": []
    },
    {
      "cell_type": "code",
      "source": [
        "# 차라리 count\n",
        "def solution(order):\n",
        "    answer = 0\n",
        "    order = str(order)\n",
        "    return order.count('3') + order.count('6') + order.count('9')"
      ],
      "metadata": {
        "id": "3LYW1DIYOQrQ"
      },
      "execution_count": null,
      "outputs": []
    },
    {
      "cell_type": "code",
      "source": [
        "# 문자열 정렬하기(2)\n",
        "def solution(my_string):\n",
        "    return ''.join(sorted(my_string.lower()))"
      ],
      "metadata": {
        "id": "UaV4npdwPivV"
      },
      "execution_count": null,
      "outputs": []
    },
    {
      "cell_type": "code",
      "source": [
        "# 합성수 찾기\n",
        "def solution(n):\n",
        "    answer = 0\n",
        "    for i in range(4,n+1):\n",
        "        for j in range(2,int(i/2)+1):\n",
        "            if i % j ==0:\n",
        "                answer += 1\n",
        "                break\n",
        "    return answer"
      ],
      "metadata": {
        "id": "7pVj1Z2oPr_W"
      },
      "execution_count": null,
      "outputs": []
    },
    {
      "cell_type": "code",
      "source": [
        "# 영어가 싫어요\n",
        "def solution(numbers):\n",
        "    num_list = [\"zero\", \"one\", \"two\", \"three\", \"four\", \"five\", \"six\", \"seven\", \"eight\", \"nine\"]\n",
        "    for i in range(10):\n",
        "        numbers = numbers.replace(num_list[i],'{}'.format(i))\n",
        "    return int(numbers)"
      ],
      "metadata": {
        "id": "gabhHGTEk1_4"
      },
      "execution_count": 9,
      "outputs": []
    },
    {
      "cell_type": "code",
      "source": [
        "def solution(numbers):\n",
        "    for num, eng in enumerate([\"zero\", \"one\", \"two\", \"three\", \"four\", \"five\", \"six\", \"seven\", \"eight\", \"nine\"]):\n",
        "        numbers = numbers.replace(eng, str(num))\n",
        "    return int(numbers)"
      ],
      "metadata": {
        "id": "n1tlYxJfY0aH"
      },
      "execution_count": 10,
      "outputs": []
    },
    {
      "cell_type": "code",
      "source": [
        "# 중복된 문자 제거"
      ],
      "metadata": {
        "id": "WzncMnYXb9E3"
      },
      "execution_count": null,
      "outputs": []
    },
    {
      "cell_type": "code",
      "source": [
        "def solution(my_string):\n",
        "    answer = []\n",
        "    for i in range(len(my_string)):\n",
        "        if my_string[i] not in answer :\n",
        "            answer.append(my_string[i]) \n",
        "    return \"\".join(answer)"
      ],
      "metadata": {
        "colab": {
          "base_uri": "https://localhost:8080/",
          "height": 35
        },
        "id": "beVunif6c09M",
        "outputId": "4cbfa594-ec70-40e5-c1ae-a6d06eb7ef9e"
      },
      "execution_count": 43,
      "outputs": [
        {
          "output_type": "execute_result",
          "data": {
            "text/plain": [
              "'We arthwold'"
            ],
            "application/vnd.google.colaboratory.intrinsic+json": {
              "type": "string"
            }
          },
          "metadata": {},
          "execution_count": 43
        }
      ]
    },
    {
      "cell_type": "code",
      "source": [
        "# 안되는 경우\n",
        "a = \"We are the world\"\n",
        "b = []\n",
        "b = [a[i] for i in range(len(a)) if a[i] not in b]\n",
        "\"\".join(b)"
      ],
      "metadata": {
        "colab": {
          "base_uri": "https://localhost:8080/",
          "height": 35
        },
        "id": "MMAdnHfVc3-l",
        "outputId": "5197a6e0-7f97-4522-fb9a-04bb39626b82"
      },
      "execution_count": 40,
      "outputs": [
        {
          "output_type": "execute_result",
          "data": {
            "text/plain": [
              "'We are the world'"
            ],
            "application/vnd.google.colaboratory.intrinsic+json": {
              "type": "string"
            }
          },
          "metadata": {},
          "execution_count": 40
        }
      ]
    },
    {
      "cell_type": "code",
      "source": [
        "# facorial\n",
        "from math import factorial\n",
        "\n",
        "def solution(n):\n",
        "    k = 10\n",
        "    while n < factorial(k):\n",
        "        k -= 1\n",
        "    return k"
      ],
      "metadata": {
        "id": "8mMFHLigsc2N"
      },
      "execution_count": null,
      "outputs": []
    },
    {
      "cell_type": "code",
      "source": [
        "n = 3\n",
        "mul = 1\n",
        "for i in range(1,11):\n",
        "    mul *= i\n",
        "    if n < mul:\n",
        "        print(i-1)\n",
        "        break\n",
        "    else:\n",
        "        pass"
      ],
      "metadata": {
        "colab": {
          "base_uri": "https://localhost:8080/"
        },
        "id": "hQ5PS58wg7I_",
        "outputId": "90bfa460-63e0-4cfc-db65-56bf51a9ee7c"
      },
      "execution_count": 80,
      "outputs": [
        {
          "output_type": "stream",
          "name": "stdout",
          "text": [
            "2\n"
          ]
        }
      ]
    },
    {
      "cell_type": "code",
      "source": [
        "n=7\n",
        "fac = 1\n",
        "for i in range(1,n+1):\n",
        "    fac *= i"
      ],
      "metadata": {
        "id": "EKFCxoOrkwZT"
      },
      "execution_count": 54,
      "outputs": []
    },
    {
      "cell_type": "code",
      "source": [
        "fac"
      ],
      "metadata": {
        "colab": {
          "base_uri": "https://localhost:8080/"
        },
        "id": "G6qYco_FlvMS",
        "outputId": "0c549e4b-8c66-4f9b-fb9b-acd987304b70"
      },
      "execution_count": 55,
      "outputs": [
        {
          "output_type": "execute_result",
          "data": {
            "text/plain": [
              "5040"
            ]
          },
          "metadata": {},
          "execution_count": 55
        }
      ]
    },
    {
      "cell_type": "code",
      "source": [],
      "metadata": {
        "id": "c6Cm3RxMlwhE"
      },
      "execution_count": null,
      "outputs": []
    }
  ]
}