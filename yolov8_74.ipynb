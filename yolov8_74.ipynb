{
  "cells": [
    {
      "cell_type": "markdown",
      "metadata": {
        "id": "view-in-github",
        "colab_type": "text"
      },
      "source": [
        "<a href=\"https://colab.research.google.com/github/dbtjr1103/Basic_practice/blob/main/yolov8_74.ipynb\" target=\"_parent\"><img src=\"https://colab.research.google.com/assets/colab-badge.svg\" alt=\"Open In Colab\"/></a>"
      ]
    },
    {
      "cell_type": "code",
      "execution_count": null,
      "metadata": {
        "id": "LH8RHR2kkSqi"
      },
      "outputs": [],
      "source": [
        "pip install ultralytics"
      ]
    },
    {
      "cell_type": "code",
      "execution_count": null,
      "metadata": {
        "id": "QVMMpX_xlIU4"
      },
      "outputs": [],
      "source": [
        "!pip install roboflow"
      ]
    },
    {
      "cell_type": "code",
      "execution_count": 3,
      "metadata": {
        "colab": {
          "base_uri": "https://localhost:8080/"
        },
        "id": "MhLalS_hkapS",
        "outputId": "ebacb60f-18ca-4e90-f20b-1ed0eb140b6b"
      },
      "outputs": [
        {
          "output_type": "stream",
          "name": "stdout",
          "text": [
            "\u001b[2K\r\u001b[2K\rUltralytics YOLOv8.0.4 🚀 Python-3.8.16 torch-1.13.1+cu116 CUDA:0 (Tesla T4, 15110MiB)\n",
            "Setup complete ✅ (8 CPUs, 51.0 GB RAM, 23.0/166.8 GB disk)\n"
          ]
        }
      ],
      "source": [
        "from IPython import display\n",
        "display.clear_output()\n",
        "!yolo mode=checks"
      ]
    },
    {
      "cell_type": "code",
      "execution_count": 4,
      "metadata": {
        "colab": {
          "base_uri": "https://localhost:8080/"
        },
        "id": "Hl7-J2OckuBB",
        "outputId": "5c593193-ca13-45fe-a41f-7b728ecc3f52"
      },
      "outputs": [
        {
          "output_type": "stream",
          "name": "stdout",
          "text": [
            "/content\n"
          ]
        }
      ],
      "source": [
        "from ultralytics import YOLO\n",
        "from IPython.display import display, Image\n",
        "import os\n",
        "HOME = os.getcwd()\n",
        "print(HOME)"
      ]
    },
    {
      "cell_type": "code",
      "execution_count": 5,
      "metadata": {
        "colab": {
          "base_uri": "https://localhost:8080/"
        },
        "id": "3wi3SzhOkzr8",
        "outputId": "264a4ac8-95b4-44cc-e2e5-5f084eaa1794"
      },
      "outputs": [
        {
          "output_type": "stream",
          "name": "stdout",
          "text": [
            "Cloning into 'ultralytics'...\n",
            "remote: Enumerating objects: 2651, done.\u001b[K\n",
            "remote: Counting objects: 100% (302/302), done.\u001b[K\n",
            "remote: Compressing objects: 100% (184/184), done.\u001b[K\n",
            "remote: Total 2651 (delta 144), reused 218 (delta 97), pack-reused 2349\u001b[K\n",
            "Receiving objects: 100% (2651/2651), 2.27 MiB | 27.69 MiB/s, done.\n",
            "Resolving deltas: 100% (1708/1708), done.\n"
          ]
        }
      ],
      "source": [
        "!git clone https://github.com/ultralytics/ultralytics.git"
      ]
    },
    {
      "cell_type": "code",
      "execution_count": 6,
      "metadata": {
        "colab": {
          "base_uri": "https://localhost:8080/"
        },
        "id": "TyKTlWA6mldw",
        "outputId": "33667ea3-f9b0-4fe0-c3b6-fa434edefb11"
      },
      "outputs": [
        {
          "output_type": "stream",
          "name": "stdout",
          "text": [
            "/content/ultralytics\n"
          ]
        }
      ],
      "source": [
        "cd ultralytics"
      ]
    },
    {
      "cell_type": "code",
      "execution_count": 7,
      "metadata": {
        "id": "TsSVJnJlk37v"
      },
      "outputs": [],
      "source": [
        "!pip install -qr requirements.txt"
      ]
    },
    {
      "cell_type": "code",
      "execution_count": 8,
      "metadata": {
        "colab": {
          "base_uri": "https://localhost:8080/",
          "height": 106,
          "referenced_widgets": [
            "f4847ea7dd3143d39007956048aaac88",
            "00df385c83c94b1e89043cd7c227f08a",
            "277abe53ae3644c39d7926a13ea2992c",
            "bf7bdafbc30f4272935e6e7af132dd39",
            "725eb65159f44842a2e52d7e45ba8f2d",
            "700b18413e024efda6b6d91755fabf3e",
            "30f82debf34a4d85b3faab7a4cac3446",
            "cc35cbc3d8b8468ea8094da4c8472d86",
            "7aae6bcc91d341b8bdd5e2d21804a19d",
            "23000847263649b1ab6f2cf517f9e2b2",
            "17479bc0afe246b8b6d1f8c061fa52e5"
          ]
        },
        "id": "MyCCWqqmk4zD",
        "outputId": "ca82b498-10e7-4b97-aa4f-75874d4ecfdc"
      },
      "outputs": [
        {
          "output_type": "stream",
          "name": "stderr",
          "text": [
            "Downloading https://github.com/ultralytics/assets/releases/download/v0.0.0/yolov8n.pt to /content/yolov8n.pt...\n"
          ]
        },
        {
          "output_type": "display_data",
          "data": {
            "text/plain": [
              "  0%|          | 0.00/6.24M [00:00<?, ?B/s]"
            ],
            "application/vnd.jupyter.widget-view+json": {
              "version_major": 2,
              "version_minor": 0,
              "model_id": "f4847ea7dd3143d39007956048aaac88"
            }
          },
          "metadata": {}
        },
        {
          "output_type": "stream",
          "name": "stderr",
          "text": [
            "\n"
          ]
        }
      ],
      "source": [
        "model = YOLO(f'{HOME}/yolov8n.pt')"
      ]
    },
    {
      "cell_type": "code",
      "execution_count": 9,
      "metadata": {
        "colab": {
          "base_uri": "https://localhost:8080/"
        },
        "id": "nG6wQglik-g7",
        "outputId": "c3e6f8bc-4fba-4603-ae74-4a2dc6a90991"
      },
      "outputs": [
        {
          "output_type": "stream",
          "name": "stdout",
          "text": [
            "loading Roboflow workspace...\n",
            "loading Roboflow project...\n",
            "Downloading Dataset Version Zip in Dairy_New-1 to yolov8: 100% [42142230 / 42142230] bytes\n"
          ]
        },
        {
          "output_type": "stream",
          "name": "stderr",
          "text": [
            "Extracting Dataset Version Zip to Dairy_New-1 in yolov8:: 100%|██████████| 2290/2290 [00:00<00:00, 7973.13it/s]\n"
          ]
        }
      ],
      "source": [
        "from roboflow import Roboflow\n",
        "rf = Roboflow(api_key=\"qGwguWtA0jklwjG4hM6E\")\n",
        "project = rf.workspace(\"dairynew\").project(\"dairy_new\")\n",
        "dataset = project.version(1).download(\"yolov8\")"
      ]
    },
    {
      "cell_type": "code",
      "execution_count": 10,
      "metadata": {
        "colab": {
          "base_uri": "https://localhost:8080/",
          "height": 36
        },
        "id": "d9VcgUt3mIsq",
        "outputId": "3b49e096-d218-4928-e8a8-d962d6fd542c"
      },
      "outputs": [
        {
          "output_type": "execute_result",
          "data": {
            "text/plain": [
              "'/content/ultralytics'"
            ],
            "application/vnd.google.colaboratory.intrinsic+json": {
              "type": "string"
            }
          },
          "metadata": {},
          "execution_count": 10
        }
      ],
      "source": [
        "pwd"
      ]
    },
    {
      "cell_type": "code",
      "source": [
        "!rm -rf /content/ultralytics/runs/detect"
      ],
      "metadata": {
        "id": "zo4xoGA72hBb"
      },
      "execution_count": 14,
      "outputs": []
    },
    {
      "cell_type": "code",
      "execution_count": 17,
      "metadata": {
        "colab": {
          "base_uri": "https://localhost:8080/"
        },
        "id": "eAMvT-9WzgBb",
        "outputId": "ed9adc2b-32bf-45d8-8f15-dff00b6a7705"
      },
      "outputs": [
        {
          "output_type": "stream",
          "name": "stdout",
          "text": [
            "Ultralytics YOLOv8.0.4 🚀 Python-3.8.16 torch-1.13.1+cu116 CUDA:0 (Tesla T4, 15110MiB)\n",
            "\u001b[34m\u001b[1myolo/engine/trainer: \u001b[0mtask=detect, mode=train, model=yolov8n.pt, data=Dairy_New-1/data.yaml, epochs=1, patience=50, batch=16, imgsz=160, save=True, cache=False, device=, workers=8, project=None, name=None, exist_ok=False, pretrained=False, optimizer=SGD, verbose=False, seed=0, deterministic=True, single_cls=False, image_weights=False, rect=False, cos_lr=False, close_mosaic=10, resume=False, overlap_mask=True, mask_ratio=4, dropout=0.0, val=True, save_json=False, save_hybrid=False, conf=None, iou=0.7, max_det=300, half=False, dnn=False, plots=True, source=None, show=False, save_txt=False, save_conf=False, save_crop=False, hide_labels=False, hide_conf=False, vid_stride=1, line_thickness=3, visualize=False, augment=False, agnostic_nms=False, retina_masks=False, format=torchscript, keras=False, optimize=False, int8=False, dynamic=False, simplify=False, opset=17, workspace=4, nms=False, lr0=0.01, lrf=0.01, momentum=0.937, weight_decay=0.0005, warmup_epochs=3.0, warmup_momentum=0.8, warmup_bias_lr=0.1, box=7.5, cls=0.1, dfl=0.1, fl_gamma=0.0, label_smoothing=0.0, nbs=64, hsv_h=0.015, hsv_s=0.7, hsv_v=0.4, degrees=0.0, translate=0.1, scale=0.5, shear=0.0, perspective=0.0, flipud=0.0, fliplr=0.0, mosaic=1.0, mixup=0.0, copy_paste=0.0, cfg=None, hydra={'output_subdir': None, 'run': {'dir': '.'}}, v5loader=False, save_dir=runs/detect/train3\n",
            "Overriding model.yaml nc=80 with nc=10\n",
            "\n",
            "                   from  n    params  module                                       arguments                     \n",
            "  0                  -1  1       464  ultralytics.nn.modules.Conv                  [3, 16, 3, 2]                 \n",
            "  1                  -1  1      4672  ultralytics.nn.modules.Conv                  [16, 32, 3, 2]                \n",
            "  2                  -1  1      7360  ultralytics.nn.modules.C2f                   [32, 32, 1, True]             \n",
            "  3                  -1  1     18560  ultralytics.nn.modules.Conv                  [32, 64, 3, 2]                \n",
            "  4                  -1  2     49664  ultralytics.nn.modules.C2f                   [64, 64, 2, True]             \n",
            "  5                  -1  1     73984  ultralytics.nn.modules.Conv                  [64, 128, 3, 2]               \n",
            "  6                  -1  2    197632  ultralytics.nn.modules.C2f                   [128, 128, 2, True]           \n",
            "  7                  -1  1    295424  ultralytics.nn.modules.Conv                  [128, 256, 3, 2]              \n",
            "  8                  -1  1    460288  ultralytics.nn.modules.C2f                   [256, 256, 1, True]           \n",
            "  9                  -1  1    164608  ultralytics.nn.modules.SPPF                  [256, 256, 5]                 \n",
            " 10                  -1  1         0  torch.nn.modules.upsampling.Upsample         [None, 2, 'nearest']          \n",
            " 11             [-1, 6]  1         0  ultralytics.nn.modules.Concat                [1]                           \n",
            " 12                  -1  1    148224  ultralytics.nn.modules.C2f                   [384, 128, 1]                 \n",
            " 13                  -1  1         0  torch.nn.modules.upsampling.Upsample         [None, 2, 'nearest']          \n",
            " 14             [-1, 4]  1         0  ultralytics.nn.modules.Concat                [1]                           \n",
            " 15                  -1  1     37248  ultralytics.nn.modules.C2f                   [192, 64, 1]                  \n",
            " 16                  -1  1     36992  ultralytics.nn.modules.Conv                  [64, 64, 3, 2]                \n",
            " 17            [-1, 12]  1         0  ultralytics.nn.modules.Concat                [1]                           \n",
            " 18                  -1  1    123648  ultralytics.nn.modules.C2f                   [192, 128, 1]                 \n",
            " 19                  -1  1    147712  ultralytics.nn.modules.Conv                  [128, 128, 3, 2]              \n",
            " 20             [-1, 9]  1         0  ultralytics.nn.modules.Concat                [1]                           \n",
            " 21                  -1  1    493056  ultralytics.nn.modules.C2f                   [384, 256, 1]                 \n",
            " 22        [15, 18, 21]  1    753262  ultralytics.nn.modules.Detect                [10, [64, 128, 256]]          \n",
            "Model summary: 225 layers, 3012798 parameters, 3012782 gradients, 8.2 GFLOPs\n",
            "\n",
            "Transferred 319/355 items from pretrained weights\n",
            "\u001b[34m\u001b[1moptimizer:\u001b[0m SGD(lr=0.01) with parameter groups 57 weight(decay=0.0), 64 weight(decay=0.0005), 63 bias\n",
            "\u001b[34m\u001b[1mtrain: \u001b[0mScanning /content/ultralytics/Dairy_New-1/train/labels.cache... 554 images, 0 backgrounds, 0 corrupt: 100% 554/554 [00:00<?, ?it/s]\n",
            "\u001b[34m\u001b[1malbumentations: \u001b[0mBlur(p=0.01, blur_limit=(3, 7)), MedianBlur(p=0.01, blur_limit=(3, 7)), ToGray(p=0.01), CLAHE(p=0.01, clip_limit=(1, 4.0), tile_grid_size=(8, 8))\n",
            "\u001b[34m\u001b[1mval: \u001b[0mScanning /content/ultralytics/Dairy_New-1/valid/labels.cache... 292 images, 0 backgrounds, 0 corrupt: 100% 292/292 [00:00<?, ?it/s]\n",
            "Image sizes 160 train, 160 val\n",
            "Using 8 dataloader workers\n",
            "Logging results to \u001b[1mruns/detect/train3\u001b[0m\n",
            "Starting training for 1 epochs...\n",
            "\n",
            "      Epoch    GPU_mem   box_loss   cls_loss   dfl_loss  Instances       Size\n",
            "        1/1     0.178G     0.7808    0.04993    0.07467         29        160: 100% 35/35 [00:06<00:00,  5.19it/s]\n",
            "                 Class     Images  Instances      Box(P          R      mAP50  mAP50-95): 100% 10/10 [00:02<00:00,  3.81it/s]\n",
            "                   all        292        743    0.00155     0.0819    0.00167   0.000535\n",
            "\n",
            "1 epochs completed in 0.004 hours.\n",
            "Optimizer stripped from runs/detect/train3/weights/last.pt, 6.2MB\n",
            "Optimizer stripped from runs/detect/train3/weights/best.pt, 6.2MB\n",
            "\n",
            "Validating runs/detect/train3/weights/best.pt...\n",
            "Ultralytics YOLOv8.0.4 🚀 Python-3.8.16 torch-1.13.1+cu116 CUDA:0 (Tesla T4, 15110MiB)\n",
            "Fusing layers... \n",
            "Model summary: 168 layers, 3007598 parameters, 0 gradients, 8.1 GFLOPs\n",
            "                 Class     Images  Instances      Box(P          R      mAP50  mAP50-95): 100% 10/10 [00:03<00:00,  3.26it/s]\n",
            "                   all        292        743    0.00154     0.0819    0.00164   0.000527\n",
            "                     0        292         86    0.00206      0.093    0.00156    0.00071\n",
            "                     1        292        101    0.00128     0.0495   0.000887   0.000289\n",
            "                     2        292         62    0.00102     0.0645   0.000943   0.000285\n",
            "                     3        292         76    0.00103     0.0526    0.00103   0.000236\n",
            "                     4        292         52    0.00103     0.0769    0.00256     0.0007\n",
            "                     5        292         67     0.0018      0.104    0.00158   0.000443\n",
            "                     6        292         84    0.00207     0.0952    0.00147   0.000398\n",
            "                     7        292         80    0.00155      0.075    0.00218   0.000945\n",
            "                     8        292         67     0.0018      0.104    0.00204   0.000599\n",
            "                     9        292         68    0.00181      0.103    0.00211   0.000665\n",
            "Speed: 0.1ms pre-process, 2.2ms inference, 0.0ms loss, 0.9ms post-process per image\n",
            "Saving runs/detect/train3/predictions.json...\n",
            "Results saved to \u001b[1mruns/detect/train3\u001b[0m\n"
          ]
        }
      ],
      "source": [
        "!yolo task=detect mode=train model=yolov8n.pt data=Dairy_New-1/data.yaml epochs=1 imgsz=160  --config-name=default.yaml --config-path=/content/ultralytics/ultralytics/yolo/configs"
      ]
    },
    {
      "cell_type": "code",
      "execution_count": 18,
      "metadata": {
        "colab": {
          "base_uri": "https://localhost:8080/"
        },
        "id": "JFiwuFVTl1uw",
        "outputId": "aeadce00-4f81-4fde-88bb-c8bbe3d7e080"
      },
      "outputs": [
        {
          "output_type": "stream",
          "name": "stdout",
          "text": [
            "usage: yolo\n",
            "       [--help]\n",
            "       [--hydra-help]\n",
            "       [--version]\n",
            "       [--cfg {job,hydra,all}]\n",
            "       [--resolve]\n",
            "       [--package PACKAGE]\n",
            "       [--run]\n",
            "       [--multirun]\n",
            "       [--shell-completion]\n",
            "       [--config-path CONFIG_PATH]\n",
            "       [--config-name CONFIG_NAME]\n",
            "       [--config-dir CONFIG_DIR]\n",
            "       [--experimental-rerun EXPERIMENTAL_RERUN]\n",
            "       [--info [{all,config,defaults,defaults-tree,plugins,searchpath}]]\n",
            "       [overrides [overrides ...]]\n",
            "yolo: error: argument --cfg/-c: invalid choice: 'onfig-name=default.yaml' (choose from 'job', 'hydra', 'all')\n"
          ]
        }
      ],
      "source": [
        "!yolo task=detect mode=train model=yolov8n.pt data=/content/Dairy-Product-5/data.yaml epochs=100 imgsz=640  -config-name=default.yaml --config-path=/content/ultralytics/ultralytics/yolo/configs"
      ]
    },
    {
      "cell_type": "code",
      "execution_count": null,
      "metadata": {
        "colab": {
          "base_uri": "https://localhost:8080/"
        },
        "id": "pyfHeNL3-ptz",
        "outputId": "bf654ce4-a129-419e-fc8b-a2a4b84e8a6c"
      },
      "outputs": [
        {
          "name": "stdout",
          "output_type": "stream",
          "text": [
            "cli is powered by Hydra.\n",
            "\n",
            "== Configuration groups ==\n",
            "Compose your configuration from those groups (group=option)\n",
            "\n",
            "\n",
            "\n",
            "== Config ==\n",
            "Override anything in the config (foo.bar=value)\n",
            "\n",
            "task: detect\n",
            "mode: train\n",
            "model: null\n",
            "data: null\n",
            "epochs: 100\n",
            "patience: 50\n",
            "batch: 16\n",
            "imgsz: 640\n",
            "save: true\n",
            "cache: false\n",
            "device: null\n",
            "workers: 8\n",
            "project: null\n",
            "name: null\n",
            "exist_ok: false\n",
            "pretrained: false\n",
            "optimizer: SGD\n",
            "verbose: false\n",
            "seed: 0\n",
            "deterministic: true\n",
            "single_cls: false\n",
            "image_weights: false\n",
            "rect: false\n",
            "cos_lr: false\n",
            "close_mosaic: 10\n",
            "resume: false\n",
            "overlap_mask: true\n",
            "mask_ratio: 4\n",
            "dropout: 0.0\n",
            "val: true\n",
            "save_json: false\n",
            "save_hybrid: false\n",
            "conf: null\n",
            "iou: 0.7\n",
            "max_det: 300\n",
            "half: false\n",
            "dnn: false\n",
            "plots: true\n",
            "source: null\n",
            "show: false\n",
            "save_txt: false\n",
            "save_conf: false\n",
            "save_crop: false\n",
            "hide_labels: false\n",
            "hide_conf: false\n",
            "vid_stride: 1\n",
            "line_thickness: 3\n",
            "visualize: false\n",
            "augment: false\n",
            "agnostic_nms: false\n",
            "retina_masks: false\n",
            "format: torchscript\n",
            "keras: false\n",
            "optimize: false\n",
            "int8: false\n",
            "dynamic: false\n",
            "simplify: false\n",
            "opset: 17\n",
            "workspace: 4\n",
            "nms: false\n",
            "lr0: 0.01\n",
            "lrf: 0.01\n",
            "momentum: 0.937\n",
            "weight_decay: 0.0005\n",
            "warmup_epochs: 3.0\n",
            "warmup_momentum: 0.8\n",
            "warmup_bias_lr: 0.1\n",
            "box: 7.5\n",
            "cls: 0.5\n",
            "dfl: 1.5\n",
            "fl_gamma: 0.0\n",
            "label_smoothing: 0.0\n",
            "nbs: 64\n",
            "hsv_h: 0.015\n",
            "hsv_s: 0.7\n",
            "hsv_v: 0.4\n",
            "degrees: 0.0\n",
            "translate: 0.1\n",
            "scale: 0.5\n",
            "shear: 0.0\n",
            "perspective: 0.0\n",
            "flipud: 0.0\n",
            "fliplr: 0.5\n",
            "mosaic: 1.0\n",
            "mixup: 0.0\n",
            "copy_paste: 0.0\n",
            "cfg: null\n",
            "v5loader: false\n",
            "\n",
            "\n",
            "Powered by Hydra (https://hydra.cc)\n",
            "Use --hydra-help to view Hydra specific help\n",
            "\n",
            "\n"
          ]
        }
      ],
      "source": [
        "!yolo --help"
      ]
    },
    {
      "cell_type": "code",
      "execution_count": null,
      "metadata": {
        "id": "PI5sDLfT-t9-"
      },
      "outputs": [],
      "source": [
        "from ultralytics.yolo.v8 import DetectionTrainer\n",
        "\n",
        "class CustomTrainer(DetectionTrainer):\n",
        "    def get_model(self, cfg, weights):\n",
        "        ...\n",
        "\n",
        "    def criterion(self, preds, batch):\n",
        "        # get ground truth\n",
        "        imgs = batch[\"imgs\"]\n",
        "        bboxes = batch[\"bboxes\"]\n",
        "        ...\n",
        "        return loss, loss_items # see Reference-> Trainer for details on the expected format\n",
        "\n",
        "# callback to upload model weights\n",
        "def log_model(trainer):\n",
        "    last_weight_path = trainer.last\n",
        "    ...\n",
        "\n",
        "trainer = CustomTrainer(overrides={...})\n",
        "trainer.add_callback(\"on_train_epoch_end\", log_model) # Adds to existing callback\n",
        "trainer.train()"
      ]
    }
  ],
  "metadata": {
    "accelerator": "GPU",
    "colab": {
      "machine_shape": "hm",
      "provenance": [],
      "authorship_tag": "ABX9TyNwSiHRkRLFkHqfujNGPvqA",
      "include_colab_link": true
    },
    "gpuClass": "standard",
    "kernelspec": {
      "display_name": "Python 3",
      "name": "python3"
    },
    "language_info": {
      "name": "python"
    },
    "widgets": {
      "application/vnd.jupyter.widget-state+json": {
        "f4847ea7dd3143d39007956048aaac88": {
          "model_module": "@jupyter-widgets/controls",
          "model_name": "HBoxModel",
          "model_module_version": "1.5.0",
          "state": {
            "_dom_classes": [],
            "_model_module": "@jupyter-widgets/controls",
            "_model_module_version": "1.5.0",
            "_model_name": "HBoxModel",
            "_view_count": null,
            "_view_module": "@jupyter-widgets/controls",
            "_view_module_version": "1.5.0",
            "_view_name": "HBoxView",
            "box_style": "",
            "children": [
              "IPY_MODEL_00df385c83c94b1e89043cd7c227f08a",
              "IPY_MODEL_277abe53ae3644c39d7926a13ea2992c",
              "IPY_MODEL_bf7bdafbc30f4272935e6e7af132dd39"
            ],
            "layout": "IPY_MODEL_725eb65159f44842a2e52d7e45ba8f2d"
          }
        },
        "00df385c83c94b1e89043cd7c227f08a": {
          "model_module": "@jupyter-widgets/controls",
          "model_name": "HTMLModel",
          "model_module_version": "1.5.0",
          "state": {
            "_dom_classes": [],
            "_model_module": "@jupyter-widgets/controls",
            "_model_module_version": "1.5.0",
            "_model_name": "HTMLModel",
            "_view_count": null,
            "_view_module": "@jupyter-widgets/controls",
            "_view_module_version": "1.5.0",
            "_view_name": "HTMLView",
            "description": "",
            "description_tooltip": null,
            "layout": "IPY_MODEL_700b18413e024efda6b6d91755fabf3e",
            "placeholder": "​",
            "style": "IPY_MODEL_30f82debf34a4d85b3faab7a4cac3446",
            "value": "100%"
          }
        },
        "277abe53ae3644c39d7926a13ea2992c": {
          "model_module": "@jupyter-widgets/controls",
          "model_name": "FloatProgressModel",
          "model_module_version": "1.5.0",
          "state": {
            "_dom_classes": [],
            "_model_module": "@jupyter-widgets/controls",
            "_model_module_version": "1.5.0",
            "_model_name": "FloatProgressModel",
            "_view_count": null,
            "_view_module": "@jupyter-widgets/controls",
            "_view_module_version": "1.5.0",
            "_view_name": "ProgressView",
            "bar_style": "success",
            "description": "",
            "description_tooltip": null,
            "layout": "IPY_MODEL_cc35cbc3d8b8468ea8094da4c8472d86",
            "max": 6547763,
            "min": 0,
            "orientation": "horizontal",
            "style": "IPY_MODEL_7aae6bcc91d341b8bdd5e2d21804a19d",
            "value": 6547763
          }
        },
        "bf7bdafbc30f4272935e6e7af132dd39": {
          "model_module": "@jupyter-widgets/controls",
          "model_name": "HTMLModel",
          "model_module_version": "1.5.0",
          "state": {
            "_dom_classes": [],
            "_model_module": "@jupyter-widgets/controls",
            "_model_module_version": "1.5.0",
            "_model_name": "HTMLModel",
            "_view_count": null,
            "_view_module": "@jupyter-widgets/controls",
            "_view_module_version": "1.5.0",
            "_view_name": "HTMLView",
            "description": "",
            "description_tooltip": null,
            "layout": "IPY_MODEL_23000847263649b1ab6f2cf517f9e2b2",
            "placeholder": "​",
            "style": "IPY_MODEL_17479bc0afe246b8b6d1f8c061fa52e5",
            "value": " 6.24M/6.24M [00:00&lt;00:00, 181MB/s]"
          }
        },
        "725eb65159f44842a2e52d7e45ba8f2d": {
          "model_module": "@jupyter-widgets/base",
          "model_name": "LayoutModel",
          "model_module_version": "1.2.0",
          "state": {
            "_model_module": "@jupyter-widgets/base",
            "_model_module_version": "1.2.0",
            "_model_name": "LayoutModel",
            "_view_count": null,
            "_view_module": "@jupyter-widgets/base",
            "_view_module_version": "1.2.0",
            "_view_name": "LayoutView",
            "align_content": null,
            "align_items": null,
            "align_self": null,
            "border": null,
            "bottom": null,
            "display": null,
            "flex": null,
            "flex_flow": null,
            "grid_area": null,
            "grid_auto_columns": null,
            "grid_auto_flow": null,
            "grid_auto_rows": null,
            "grid_column": null,
            "grid_gap": null,
            "grid_row": null,
            "grid_template_areas": null,
            "grid_template_columns": null,
            "grid_template_rows": null,
            "height": null,
            "justify_content": null,
            "justify_items": null,
            "left": null,
            "margin": null,
            "max_height": null,
            "max_width": null,
            "min_height": null,
            "min_width": null,
            "object_fit": null,
            "object_position": null,
            "order": null,
            "overflow": null,
            "overflow_x": null,
            "overflow_y": null,
            "padding": null,
            "right": null,
            "top": null,
            "visibility": null,
            "width": null
          }
        },
        "700b18413e024efda6b6d91755fabf3e": {
          "model_module": "@jupyter-widgets/base",
          "model_name": "LayoutModel",
          "model_module_version": "1.2.0",
          "state": {
            "_model_module": "@jupyter-widgets/base",
            "_model_module_version": "1.2.0",
            "_model_name": "LayoutModel",
            "_view_count": null,
            "_view_module": "@jupyter-widgets/base",
            "_view_module_version": "1.2.0",
            "_view_name": "LayoutView",
            "align_content": null,
            "align_items": null,
            "align_self": null,
            "border": null,
            "bottom": null,
            "display": null,
            "flex": null,
            "flex_flow": null,
            "grid_area": null,
            "grid_auto_columns": null,
            "grid_auto_flow": null,
            "grid_auto_rows": null,
            "grid_column": null,
            "grid_gap": null,
            "grid_row": null,
            "grid_template_areas": null,
            "grid_template_columns": null,
            "grid_template_rows": null,
            "height": null,
            "justify_content": null,
            "justify_items": null,
            "left": null,
            "margin": null,
            "max_height": null,
            "max_width": null,
            "min_height": null,
            "min_width": null,
            "object_fit": null,
            "object_position": null,
            "order": null,
            "overflow": null,
            "overflow_x": null,
            "overflow_y": null,
            "padding": null,
            "right": null,
            "top": null,
            "visibility": null,
            "width": null
          }
        },
        "30f82debf34a4d85b3faab7a4cac3446": {
          "model_module": "@jupyter-widgets/controls",
          "model_name": "DescriptionStyleModel",
          "model_module_version": "1.5.0",
          "state": {
            "_model_module": "@jupyter-widgets/controls",
            "_model_module_version": "1.5.0",
            "_model_name": "DescriptionStyleModel",
            "_view_count": null,
            "_view_module": "@jupyter-widgets/base",
            "_view_module_version": "1.2.0",
            "_view_name": "StyleView",
            "description_width": ""
          }
        },
        "cc35cbc3d8b8468ea8094da4c8472d86": {
          "model_module": "@jupyter-widgets/base",
          "model_name": "LayoutModel",
          "model_module_version": "1.2.0",
          "state": {
            "_model_module": "@jupyter-widgets/base",
            "_model_module_version": "1.2.0",
            "_model_name": "LayoutModel",
            "_view_count": null,
            "_view_module": "@jupyter-widgets/base",
            "_view_module_version": "1.2.0",
            "_view_name": "LayoutView",
            "align_content": null,
            "align_items": null,
            "align_self": null,
            "border": null,
            "bottom": null,
            "display": null,
            "flex": null,
            "flex_flow": null,
            "grid_area": null,
            "grid_auto_columns": null,
            "grid_auto_flow": null,
            "grid_auto_rows": null,
            "grid_column": null,
            "grid_gap": null,
            "grid_row": null,
            "grid_template_areas": null,
            "grid_template_columns": null,
            "grid_template_rows": null,
            "height": null,
            "justify_content": null,
            "justify_items": null,
            "left": null,
            "margin": null,
            "max_height": null,
            "max_width": null,
            "min_height": null,
            "min_width": null,
            "object_fit": null,
            "object_position": null,
            "order": null,
            "overflow": null,
            "overflow_x": null,
            "overflow_y": null,
            "padding": null,
            "right": null,
            "top": null,
            "visibility": null,
            "width": null
          }
        },
        "7aae6bcc91d341b8bdd5e2d21804a19d": {
          "model_module": "@jupyter-widgets/controls",
          "model_name": "ProgressStyleModel",
          "model_module_version": "1.5.0",
          "state": {
            "_model_module": "@jupyter-widgets/controls",
            "_model_module_version": "1.5.0",
            "_model_name": "ProgressStyleModel",
            "_view_count": null,
            "_view_module": "@jupyter-widgets/base",
            "_view_module_version": "1.2.0",
            "_view_name": "StyleView",
            "bar_color": null,
            "description_width": ""
          }
        },
        "23000847263649b1ab6f2cf517f9e2b2": {
          "model_module": "@jupyter-widgets/base",
          "model_name": "LayoutModel",
          "model_module_version": "1.2.0",
          "state": {
            "_model_module": "@jupyter-widgets/base",
            "_model_module_version": "1.2.0",
            "_model_name": "LayoutModel",
            "_view_count": null,
            "_view_module": "@jupyter-widgets/base",
            "_view_module_version": "1.2.0",
            "_view_name": "LayoutView",
            "align_content": null,
            "align_items": null,
            "align_self": null,
            "border": null,
            "bottom": null,
            "display": null,
            "flex": null,
            "flex_flow": null,
            "grid_area": null,
            "grid_auto_columns": null,
            "grid_auto_flow": null,
            "grid_auto_rows": null,
            "grid_column": null,
            "grid_gap": null,
            "grid_row": null,
            "grid_template_areas": null,
            "grid_template_columns": null,
            "grid_template_rows": null,
            "height": null,
            "justify_content": null,
            "justify_items": null,
            "left": null,
            "margin": null,
            "max_height": null,
            "max_width": null,
            "min_height": null,
            "min_width": null,
            "object_fit": null,
            "object_position": null,
            "order": null,
            "overflow": null,
            "overflow_x": null,
            "overflow_y": null,
            "padding": null,
            "right": null,
            "top": null,
            "visibility": null,
            "width": null
          }
        },
        "17479bc0afe246b8b6d1f8c061fa52e5": {
          "model_module": "@jupyter-widgets/controls",
          "model_name": "DescriptionStyleModel",
          "model_module_version": "1.5.0",
          "state": {
            "_model_module": "@jupyter-widgets/controls",
            "_model_module_version": "1.5.0",
            "_model_name": "DescriptionStyleModel",
            "_view_count": null,
            "_view_module": "@jupyter-widgets/base",
            "_view_module_version": "1.2.0",
            "_view_name": "StyleView",
            "description_width": ""
          }
        }
      }
    }
  },
  "nbformat": 4,
  "nbformat_minor": 0
}