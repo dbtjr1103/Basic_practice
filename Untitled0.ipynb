{
  "nbformat": 4,
  "nbformat_minor": 0,
  "metadata": {
    "colab": {
      "provenance": [],
      "authorship_tag": "ABX9TyOTF7FxUT6ePSNMpjk4RjVJ",
      "include_colab_link": true
    },
    "kernelspec": {
      "name": "python3",
      "display_name": "Python 3"
    },
    "language_info": {
      "name": "python"
    }
  },
  "cells": [
    {
      "cell_type": "markdown",
      "metadata": {
        "id": "view-in-github",
        "colab_type": "text"
      },
      "source": [
        "<a href=\"https://colab.research.google.com/github/dbtjr1103/Basic_practice/blob/main/Untitled0.ipynb\" target=\"_parent\"><img src=\"https://colab.research.google.com/assets/colab-badge.svg\" alt=\"Open In Colab\"/></a>"
      ]
    },
    {
      "cell_type": "code",
      "execution_count": 1,
      "metadata": {
        "id": "FEi2Vz8X61IP"
      },
      "outputs": [],
      "source": [
        "import re\n",
        "import requests\n",
        "from bs4 import BeautifulSoup\n",
        "from tqdm.notebook import tqdm\n",
        "import json"
      ]
    },
    {
      "cell_type": "code",
      "source": [
        "# model_comments[model_tags.text] = []\n",
        "\n",
        "reviews = {\n",
        "        '차종' : [],\n",
        "        '공감수' : [],\n",
        "        '비공감수' : [],\n",
        "        '화' : []\n",
        "    }\n",
        "\n",
        "comment_url = 'https://apis.naver.com/commentBox/cbox/web_naver_list_jsonp.json?' # 댓글 url\n",
        "\n",
        "params = {\n",
        "    'ticket' : 'mycar',\n",
        "    'pool' : 'cbox12',\n",
        "    '_cv' : 20221102161904,\n",
        "    '_callback' : '', #'jQuery112402458691153204502_1667374886278'\n",
        "    'lang' : 'ko',\n",
        "    'country' : 'KR',\n",
        "    'objectId' : 2956, \n",
        "    'pageSize' : 100 , # 100개까지 한번에 가지고 올 수 있는거 같음\n",
        "    'indexSize' : 100,\n",
        "    'groupId' : 2956,\n",
        "    'listType' :'group',\n",
        "    'pageType' : 'more',\n",
        "    'page':1, #댓글 페이지 넘버\n",
        "}\n",
        "\n",
        "headers = {\n",
        "    'referer': 'https://search.naver.com/search.naver?where=nexearch&sm=tab_etc&mra=bjg1&pkid=128&os=25885137&qvt=0&query=2022%20%EC%95%84%EB%B0%98%EB%96%BC%20%EC%98%A4%EB%84%88%ED%8F%89%EA%B0%80',\n",
        "    'user-agent' : 'Mozilla/5.0 (Windows NT 10.0; Win64; x64) AppleWebKit/537.36 (KHTML, like Gecko) Chrome/107.0.0.0 Safari/537.36'\n",
        "}\n",
        "    # 페이지수를 알아내기 위해 한번 돌린다\n",
        "resp = requests.get(comment_url, params = params, headers = headers)  \n",
        "jsn = resp.text[10:-2]\n",
        "\n",
        "dic_resp = json.loads(jsn)\n",
        "\n",
        "commentList = dic_resp[\"result\"][\"commentList\"]\n",
        "# # jsn\n",
        "# # \" result\":{\"commentList\":[ \"contents\"\n",
        "# commentList[0]\n",
        "# for comment in commentList:\n",
        "\n",
        "# commentList\n",
        "commentList[2][\"contents\"] # comment\n",
        "commentList[2] # comment\n"
      ],
      "metadata": {
        "colab": {
          "base_uri": "https://localhost:8080/"
        },
        "id": "29EEG8uW63Ru",
        "outputId": "eee90774-f656-42b9-adf4-c2f31c6777a2"
      },
      "execution_count": 3,
      "outputs": [
        {
          "output_type": "execute_result",
          "data": {
            "text/plain": [
              "{'ticket': 'mycar',\n",
              " 'objectId': '20068',\n",
              " 'categoryId': '*',\n",
              " 'templateId': 'api',\n",
              " 'commentNo': '257215',\n",
              " 'parentCommentNo': '257215',\n",
              " 'replyLevel': 1,\n",
              " 'replyCount': 0,\n",
              " 'replyAllCount': 0,\n",
              " 'replyPreviewNo': None,\n",
              " 'replyList': None,\n",
              " 'imageCount': 0,\n",
              " 'imageList': None,\n",
              " 'imagePathList': None,\n",
              " 'imageWidthList': None,\n",
              " 'imageHeightList': None,\n",
              " 'commentType': 'txt',\n",
              " 'stickerId': None,\n",
              " 'sticker': None,\n",
              " 'sortValue': 1667420026916,\n",
              " 'contents': '이가격에 이만한차 잘없긴합니다.\\n쏘렌토가 생긴게 더나은것도 팩트긴하지만 대기기간이 너무길기도했고\\n\\n가솔린인지라 소리나 이런거는 정숙한편이고\\n2.5 인지라 연비는 공도시 매우아쉽긴해요 \\n하브살껄 그랬나 생각도 자주하긴함 ㅋㅋ\\n',\n",
              " 'userIdNo': '5PyRb',\n",
              " 'exposedUserIp': None,\n",
              " 'lang': 'ko',\n",
              " 'country': 'KR',\n",
              " 'idType': 'naver',\n",
              " 'idProvider': 'naver',\n",
              " 'userName': 'soho****',\n",
              " 'userProfileImage': 'https://profile-phinf.pstatic.net/06204/5545d8939bfe071d9d2c4ec5c5c669869a45636230783a1fb382184a2d1cefad.jpg',\n",
              " 'profileType': 'naver',\n",
              " 'modTime': '2022-11-03T05:13:47+0900',\n",
              " 'modTimeGmt': '2022-11-02T20:13:47+0000',\n",
              " 'regTime': '2022-11-03T05:13:47+0900',\n",
              " 'regTimeGmt': '2022-11-02T20:13:47+0000',\n",
              " 'sympathyCount': 1,\n",
              " 'antipathyCount': 0,\n",
              " 'hideReplyButton': False,\n",
              " 'status': 0,\n",
              " 'mine': False,\n",
              " 'best': False,\n",
              " 'mentions': None,\n",
              " 'toUser': None,\n",
              " 'userStatus': 0,\n",
              " 'categoryImage': None,\n",
              " 'open': False,\n",
              " 'levelCode': None,\n",
              " 'grades': None,\n",
              " 'sympathy': False,\n",
              " 'antipathy': False,\n",
              " 'metaInfo': None,\n",
              " 'extension': None,\n",
              " 'translation': None,\n",
              " 'report': None,\n",
              " 'middleBlindReport': False,\n",
              " 'spamInfo': None,\n",
              " 'userHomepageUrl': None,\n",
              " 'defamation': False,\n",
              " 'hiddenByCleanbot': False,\n",
              " 'score': 0.0,\n",
              " 'ratings': [{'key': 'performance', 'value': 10},\n",
              "  {'key': 'price', 'value': 10},\n",
              "  {'key': 'comport', 'value': 10},\n",
              "  {'key': 'quality', 'value': 10},\n",
              "  {'key': 'design', 'value': 6},\n",
              "  {'key': 'fuelEfficiency', 'value': 4}],\n",
              " 'following': False,\n",
              " 'managerLike': False,\n",
              " 'pick': False,\n",
              " 'visible': True,\n",
              " 'maskedUserId': 'soho****',\n",
              " 'maskedUserName': 'so****',\n",
              " 'manager': False,\n",
              " 'deleted': False,\n",
              " 'idNo': '5PyRb',\n",
              " 'expose': True,\n",
              " 'blindReport': False,\n",
              " 'serviceId': None,\n",
              " 'blind': False,\n",
              " 'secret': False,\n",
              " 'userBlocked': False,\n",
              " 'profileUserId': None,\n",
              " 'exposeByCountry': False,\n",
              " 'validateBanWords': False,\n",
              " 'containText': True,\n",
              " 'virtual': False,\n",
              " 'anonymous': False}"
            ]
          },
          "metadata": {},
          "execution_count": 3
        }
      ]
    },
    {
      "cell_type": "code",
      "source": [],
      "metadata": {
        "id": "PrF3UwVc64iG"
      },
      "execution_count": null,
      "outputs": []
    }
  ]
}