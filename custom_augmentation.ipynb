{
  "nbformat": 4,
  "nbformat_minor": 0,
  "metadata": {
    "colab": {
      "provenance": [],
      "collapsed_sections": [
        "Ig9SLjrdLxqq"
      ],
      "machine_shape": "hm",
      "authorship_tag": "ABX9TyMIQxfYskMXHUl2pmU2rMHF",
      "include_colab_link": true
    },
    "kernelspec": {
      "name": "python3",
      "display_name": "Python 3"
    },
    "language_info": {
      "name": "python"
    },
    "accelerator": "GPU",
    "gpuClass": "standard",
    "widgets": {
      "application/vnd.jupyter.widget-state+json": {
        "d9b865cdde6d41f0b4f72c44d3656031": {
          "model_module": "@jupyter-widgets/controls",
          "model_name": "HBoxModel",
          "model_module_version": "1.5.0",
          "state": {
            "_dom_classes": [],
            "_model_module": "@jupyter-widgets/controls",
            "_model_module_version": "1.5.0",
            "_model_name": "HBoxModel",
            "_view_count": null,
            "_view_module": "@jupyter-widgets/controls",
            "_view_module_version": "1.5.0",
            "_view_name": "HBoxView",
            "box_style": "",
            "children": [
              "IPY_MODEL_43efa2ca1f3d4f27842b4324bb402204",
              "IPY_MODEL_79ba7eafd6f1474ba5553f73fc3e6fe7",
              "IPY_MODEL_5e3ec33524ec4034a0f4491ac72971e0"
            ],
            "layout": "IPY_MODEL_51300a4bec3d4cfe96382e0b04a685d3"
          }
        },
        "43efa2ca1f3d4f27842b4324bb402204": {
          "model_module": "@jupyter-widgets/controls",
          "model_name": "HTMLModel",
          "model_module_version": "1.5.0",
          "state": {
            "_dom_classes": [],
            "_model_module": "@jupyter-widgets/controls",
            "_model_module_version": "1.5.0",
            "_model_name": "HTMLModel",
            "_view_count": null,
            "_view_module": "@jupyter-widgets/controls",
            "_view_module_version": "1.5.0",
            "_view_name": "HTMLView",
            "description": "",
            "description_tooltip": null,
            "layout": "IPY_MODEL_60f42c6a80484e4abf87c4985884ecbc",
            "placeholder": "​",
            "style": "IPY_MODEL_264ddc881af94514bb404ae399781c7a",
            "value": "100%"
          }
        },
        "79ba7eafd6f1474ba5553f73fc3e6fe7": {
          "model_module": "@jupyter-widgets/controls",
          "model_name": "FloatProgressModel",
          "model_module_version": "1.5.0",
          "state": {
            "_dom_classes": [],
            "_model_module": "@jupyter-widgets/controls",
            "_model_module_version": "1.5.0",
            "_model_name": "FloatProgressModel",
            "_view_count": null,
            "_view_module": "@jupyter-widgets/controls",
            "_view_module_version": "1.5.0",
            "_view_name": "ProgressView",
            "bar_style": "success",
            "description": "",
            "description_tooltip": null,
            "layout": "IPY_MODEL_dd64e91cac214d26a5de9bde1ba57e26",
            "max": 1,
            "min": 0,
            "orientation": "horizontal",
            "style": "IPY_MODEL_ee1267865ff54b08836b7b551638ecf8",
            "value": 1
          }
        },
        "5e3ec33524ec4034a0f4491ac72971e0": {
          "model_module": "@jupyter-widgets/controls",
          "model_name": "HTMLModel",
          "model_module_version": "1.5.0",
          "state": {
            "_dom_classes": [],
            "_model_module": "@jupyter-widgets/controls",
            "_model_module_version": "1.5.0",
            "_model_name": "HTMLModel",
            "_view_count": null,
            "_view_module": "@jupyter-widgets/controls",
            "_view_module_version": "1.5.0",
            "_view_name": "HTMLView",
            "description": "",
            "description_tooltip": null,
            "layout": "IPY_MODEL_db78fdd1e985497c9f516626101efe63",
            "placeholder": "​",
            "style": "IPY_MODEL_7b12c839e41140e9a362aaa1ead70d67",
            "value": " 1/1 [00:07&lt;00:00,  7.32s/it]"
          }
        },
        "51300a4bec3d4cfe96382e0b04a685d3": {
          "model_module": "@jupyter-widgets/base",
          "model_name": "LayoutModel",
          "model_module_version": "1.2.0",
          "state": {
            "_model_module": "@jupyter-widgets/base",
            "_model_module_version": "1.2.0",
            "_model_name": "LayoutModel",
            "_view_count": null,
            "_view_module": "@jupyter-widgets/base",
            "_view_module_version": "1.2.0",
            "_view_name": "LayoutView",
            "align_content": null,
            "align_items": null,
            "align_self": null,
            "border": null,
            "bottom": null,
            "display": null,
            "flex": null,
            "flex_flow": null,
            "grid_area": null,
            "grid_auto_columns": null,
            "grid_auto_flow": null,
            "grid_auto_rows": null,
            "grid_column": null,
            "grid_gap": null,
            "grid_row": null,
            "grid_template_areas": null,
            "grid_template_columns": null,
            "grid_template_rows": null,
            "height": null,
            "justify_content": null,
            "justify_items": null,
            "left": null,
            "margin": null,
            "max_height": null,
            "max_width": null,
            "min_height": null,
            "min_width": null,
            "object_fit": null,
            "object_position": null,
            "order": null,
            "overflow": null,
            "overflow_x": null,
            "overflow_y": null,
            "padding": null,
            "right": null,
            "top": null,
            "visibility": null,
            "width": null
          }
        },
        "60f42c6a80484e4abf87c4985884ecbc": {
          "model_module": "@jupyter-widgets/base",
          "model_name": "LayoutModel",
          "model_module_version": "1.2.0",
          "state": {
            "_model_module": "@jupyter-widgets/base",
            "_model_module_version": "1.2.0",
            "_model_name": "LayoutModel",
            "_view_count": null,
            "_view_module": "@jupyter-widgets/base",
            "_view_module_version": "1.2.0",
            "_view_name": "LayoutView",
            "align_content": null,
            "align_items": null,
            "align_self": null,
            "border": null,
            "bottom": null,
            "display": null,
            "flex": null,
            "flex_flow": null,
            "grid_area": null,
            "grid_auto_columns": null,
            "grid_auto_flow": null,
            "grid_auto_rows": null,
            "grid_column": null,
            "grid_gap": null,
            "grid_row": null,
            "grid_template_areas": null,
            "grid_template_columns": null,
            "grid_template_rows": null,
            "height": null,
            "justify_content": null,
            "justify_items": null,
            "left": null,
            "margin": null,
            "max_height": null,
            "max_width": null,
            "min_height": null,
            "min_width": null,
            "object_fit": null,
            "object_position": null,
            "order": null,
            "overflow": null,
            "overflow_x": null,
            "overflow_y": null,
            "padding": null,
            "right": null,
            "top": null,
            "visibility": null,
            "width": null
          }
        },
        "264ddc881af94514bb404ae399781c7a": {
          "model_module": "@jupyter-widgets/controls",
          "model_name": "DescriptionStyleModel",
          "model_module_version": "1.5.0",
          "state": {
            "_model_module": "@jupyter-widgets/controls",
            "_model_module_version": "1.5.0",
            "_model_name": "DescriptionStyleModel",
            "_view_count": null,
            "_view_module": "@jupyter-widgets/base",
            "_view_module_version": "1.2.0",
            "_view_name": "StyleView",
            "description_width": ""
          }
        },
        "dd64e91cac214d26a5de9bde1ba57e26": {
          "model_module": "@jupyter-widgets/base",
          "model_name": "LayoutModel",
          "model_module_version": "1.2.0",
          "state": {
            "_model_module": "@jupyter-widgets/base",
            "_model_module_version": "1.2.0",
            "_model_name": "LayoutModel",
            "_view_count": null,
            "_view_module": "@jupyter-widgets/base",
            "_view_module_version": "1.2.0",
            "_view_name": "LayoutView",
            "align_content": null,
            "align_items": null,
            "align_self": null,
            "border": null,
            "bottom": null,
            "display": null,
            "flex": null,
            "flex_flow": null,
            "grid_area": null,
            "grid_auto_columns": null,
            "grid_auto_flow": null,
            "grid_auto_rows": null,
            "grid_column": null,
            "grid_gap": null,
            "grid_row": null,
            "grid_template_areas": null,
            "grid_template_columns": null,
            "grid_template_rows": null,
            "height": null,
            "justify_content": null,
            "justify_items": null,
            "left": null,
            "margin": null,
            "max_height": null,
            "max_width": null,
            "min_height": null,
            "min_width": null,
            "object_fit": null,
            "object_position": null,
            "order": null,
            "overflow": null,
            "overflow_x": null,
            "overflow_y": null,
            "padding": null,
            "right": null,
            "top": null,
            "visibility": null,
            "width": null
          }
        },
        "ee1267865ff54b08836b7b551638ecf8": {
          "model_module": "@jupyter-widgets/controls",
          "model_name": "ProgressStyleModel",
          "model_module_version": "1.5.0",
          "state": {
            "_model_module": "@jupyter-widgets/controls",
            "_model_module_version": "1.5.0",
            "_model_name": "ProgressStyleModel",
            "_view_count": null,
            "_view_module": "@jupyter-widgets/base",
            "_view_module_version": "1.2.0",
            "_view_name": "StyleView",
            "bar_color": null,
            "description_width": ""
          }
        },
        "db78fdd1e985497c9f516626101efe63": {
          "model_module": "@jupyter-widgets/base",
          "model_name": "LayoutModel",
          "model_module_version": "1.2.0",
          "state": {
            "_model_module": "@jupyter-widgets/base",
            "_model_module_version": "1.2.0",
            "_model_name": "LayoutModel",
            "_view_count": null,
            "_view_module": "@jupyter-widgets/base",
            "_view_module_version": "1.2.0",
            "_view_name": "LayoutView",
            "align_content": null,
            "align_items": null,
            "align_self": null,
            "border": null,
            "bottom": null,
            "display": null,
            "flex": null,
            "flex_flow": null,
            "grid_area": null,
            "grid_auto_columns": null,
            "grid_auto_flow": null,
            "grid_auto_rows": null,
            "grid_column": null,
            "grid_gap": null,
            "grid_row": null,
            "grid_template_areas": null,
            "grid_template_columns": null,
            "grid_template_rows": null,
            "height": null,
            "justify_content": null,
            "justify_items": null,
            "left": null,
            "margin": null,
            "max_height": null,
            "max_width": null,
            "min_height": null,
            "min_width": null,
            "object_fit": null,
            "object_position": null,
            "order": null,
            "overflow": null,
            "overflow_x": null,
            "overflow_y": null,
            "padding": null,
            "right": null,
            "top": null,
            "visibility": null,
            "width": null
          }
        },
        "7b12c839e41140e9a362aaa1ead70d67": {
          "model_module": "@jupyter-widgets/controls",
          "model_name": "DescriptionStyleModel",
          "model_module_version": "1.5.0",
          "state": {
            "_model_module": "@jupyter-widgets/controls",
            "_model_module_version": "1.5.0",
            "_model_name": "DescriptionStyleModel",
            "_view_count": null,
            "_view_module": "@jupyter-widgets/base",
            "_view_module_version": "1.2.0",
            "_view_name": "StyleView",
            "description_width": ""
          }
        },
        "8a2e1f6aaa3a4e568cdeff01519ce996": {
          "model_module": "@jupyter-widgets/controls",
          "model_name": "HBoxModel",
          "model_module_version": "1.5.0",
          "state": {
            "_dom_classes": [],
            "_model_module": "@jupyter-widgets/controls",
            "_model_module_version": "1.5.0",
            "_model_name": "HBoxModel",
            "_view_count": null,
            "_view_module": "@jupyter-widgets/controls",
            "_view_module_version": "1.5.0",
            "_view_name": "HBoxView",
            "box_style": "",
            "children": [
              "IPY_MODEL_47e8f285ffd14494a1e832d9b6c8a60a",
              "IPY_MODEL_c75ec0c01527402ca6849a9d67a56556",
              "IPY_MODEL_b4bee2332a4443759a2864e58b5cdf3b"
            ],
            "layout": "IPY_MODEL_158735a41a1a434b8202005f8025ef5d"
          }
        },
        "47e8f285ffd14494a1e832d9b6c8a60a": {
          "model_module": "@jupyter-widgets/controls",
          "model_name": "HTMLModel",
          "model_module_version": "1.5.0",
          "state": {
            "_dom_classes": [],
            "_model_module": "@jupyter-widgets/controls",
            "_model_module_version": "1.5.0",
            "_model_name": "HTMLModel",
            "_view_count": null,
            "_view_module": "@jupyter-widgets/controls",
            "_view_module_version": "1.5.0",
            "_view_name": "HTMLView",
            "description": "",
            "description_tooltip": null,
            "layout": "IPY_MODEL_ff8da242d3e94f15892900b56a2eb306",
            "placeholder": "​",
            "style": "IPY_MODEL_6aec6e0cab644432ba1c300709e302ca",
            "value": "100%"
          }
        },
        "c75ec0c01527402ca6849a9d67a56556": {
          "model_module": "@jupyter-widgets/controls",
          "model_name": "FloatProgressModel",
          "model_module_version": "1.5.0",
          "state": {
            "_dom_classes": [],
            "_model_module": "@jupyter-widgets/controls",
            "_model_module_version": "1.5.0",
            "_model_name": "FloatProgressModel",
            "_view_count": null,
            "_view_module": "@jupyter-widgets/controls",
            "_view_module_version": "1.5.0",
            "_view_name": "ProgressView",
            "bar_style": "success",
            "description": "",
            "description_tooltip": null,
            "layout": "IPY_MODEL_e1a2568021924a12a2e0ca5a325be13d",
            "max": 1,
            "min": 0,
            "orientation": "horizontal",
            "style": "IPY_MODEL_b60f52d7a20c4bea88afb400a9946157",
            "value": 1
          }
        },
        "b4bee2332a4443759a2864e58b5cdf3b": {
          "model_module": "@jupyter-widgets/controls",
          "model_name": "HTMLModel",
          "model_module_version": "1.5.0",
          "state": {
            "_dom_classes": [],
            "_model_module": "@jupyter-widgets/controls",
            "_model_module_version": "1.5.0",
            "_model_name": "HTMLModel",
            "_view_count": null,
            "_view_module": "@jupyter-widgets/controls",
            "_view_module_version": "1.5.0",
            "_view_name": "HTMLView",
            "description": "",
            "description_tooltip": null,
            "layout": "IPY_MODEL_eca383cc01b04b93b0a20adfda12df6b",
            "placeholder": "​",
            "style": "IPY_MODEL_f6da776dcc584e58a0def91995478173",
            "value": " 1/1 [00:03&lt;00:00,  3.63s/it]"
          }
        },
        "158735a41a1a434b8202005f8025ef5d": {
          "model_module": "@jupyter-widgets/base",
          "model_name": "LayoutModel",
          "model_module_version": "1.2.0",
          "state": {
            "_model_module": "@jupyter-widgets/base",
            "_model_module_version": "1.2.0",
            "_model_name": "LayoutModel",
            "_view_count": null,
            "_view_module": "@jupyter-widgets/base",
            "_view_module_version": "1.2.0",
            "_view_name": "LayoutView",
            "align_content": null,
            "align_items": null,
            "align_self": null,
            "border": null,
            "bottom": null,
            "display": null,
            "flex": null,
            "flex_flow": null,
            "grid_area": null,
            "grid_auto_columns": null,
            "grid_auto_flow": null,
            "grid_auto_rows": null,
            "grid_column": null,
            "grid_gap": null,
            "grid_row": null,
            "grid_template_areas": null,
            "grid_template_columns": null,
            "grid_template_rows": null,
            "height": null,
            "justify_content": null,
            "justify_items": null,
            "left": null,
            "margin": null,
            "max_height": null,
            "max_width": null,
            "min_height": null,
            "min_width": null,
            "object_fit": null,
            "object_position": null,
            "order": null,
            "overflow": null,
            "overflow_x": null,
            "overflow_y": null,
            "padding": null,
            "right": null,
            "top": null,
            "visibility": null,
            "width": null
          }
        },
        "ff8da242d3e94f15892900b56a2eb306": {
          "model_module": "@jupyter-widgets/base",
          "model_name": "LayoutModel",
          "model_module_version": "1.2.0",
          "state": {
            "_model_module": "@jupyter-widgets/base",
            "_model_module_version": "1.2.0",
            "_model_name": "LayoutModel",
            "_view_count": null,
            "_view_module": "@jupyter-widgets/base",
            "_view_module_version": "1.2.0",
            "_view_name": "LayoutView",
            "align_content": null,
            "align_items": null,
            "align_self": null,
            "border": null,
            "bottom": null,
            "display": null,
            "flex": null,
            "flex_flow": null,
            "grid_area": null,
            "grid_auto_columns": null,
            "grid_auto_flow": null,
            "grid_auto_rows": null,
            "grid_column": null,
            "grid_gap": null,
            "grid_row": null,
            "grid_template_areas": null,
            "grid_template_columns": null,
            "grid_template_rows": null,
            "height": null,
            "justify_content": null,
            "justify_items": null,
            "left": null,
            "margin": null,
            "max_height": null,
            "max_width": null,
            "min_height": null,
            "min_width": null,
            "object_fit": null,
            "object_position": null,
            "order": null,
            "overflow": null,
            "overflow_x": null,
            "overflow_y": null,
            "padding": null,
            "right": null,
            "top": null,
            "visibility": null,
            "width": null
          }
        },
        "6aec6e0cab644432ba1c300709e302ca": {
          "model_module": "@jupyter-widgets/controls",
          "model_name": "DescriptionStyleModel",
          "model_module_version": "1.5.0",
          "state": {
            "_model_module": "@jupyter-widgets/controls",
            "_model_module_version": "1.5.0",
            "_model_name": "DescriptionStyleModel",
            "_view_count": null,
            "_view_module": "@jupyter-widgets/base",
            "_view_module_version": "1.2.0",
            "_view_name": "StyleView",
            "description_width": ""
          }
        },
        "e1a2568021924a12a2e0ca5a325be13d": {
          "model_module": "@jupyter-widgets/base",
          "model_name": "LayoutModel",
          "model_module_version": "1.2.0",
          "state": {
            "_model_module": "@jupyter-widgets/base",
            "_model_module_version": "1.2.0",
            "_model_name": "LayoutModel",
            "_view_count": null,
            "_view_module": "@jupyter-widgets/base",
            "_view_module_version": "1.2.0",
            "_view_name": "LayoutView",
            "align_content": null,
            "align_items": null,
            "align_self": null,
            "border": null,
            "bottom": null,
            "display": null,
            "flex": null,
            "flex_flow": null,
            "grid_area": null,
            "grid_auto_columns": null,
            "grid_auto_flow": null,
            "grid_auto_rows": null,
            "grid_column": null,
            "grid_gap": null,
            "grid_row": null,
            "grid_template_areas": null,
            "grid_template_columns": null,
            "grid_template_rows": null,
            "height": null,
            "justify_content": null,
            "justify_items": null,
            "left": null,
            "margin": null,
            "max_height": null,
            "max_width": null,
            "min_height": null,
            "min_width": null,
            "object_fit": null,
            "object_position": null,
            "order": null,
            "overflow": null,
            "overflow_x": null,
            "overflow_y": null,
            "padding": null,
            "right": null,
            "top": null,
            "visibility": null,
            "width": null
          }
        },
        "b60f52d7a20c4bea88afb400a9946157": {
          "model_module": "@jupyter-widgets/controls",
          "model_name": "ProgressStyleModel",
          "model_module_version": "1.5.0",
          "state": {
            "_model_module": "@jupyter-widgets/controls",
            "_model_module_version": "1.5.0",
            "_model_name": "ProgressStyleModel",
            "_view_count": null,
            "_view_module": "@jupyter-widgets/base",
            "_view_module_version": "1.2.0",
            "_view_name": "StyleView",
            "bar_color": null,
            "description_width": ""
          }
        },
        "eca383cc01b04b93b0a20adfda12df6b": {
          "model_module": "@jupyter-widgets/base",
          "model_name": "LayoutModel",
          "model_module_version": "1.2.0",
          "state": {
            "_model_module": "@jupyter-widgets/base",
            "_model_module_version": "1.2.0",
            "_model_name": "LayoutModel",
            "_view_count": null,
            "_view_module": "@jupyter-widgets/base",
            "_view_module_version": "1.2.0",
            "_view_name": "LayoutView",
            "align_content": null,
            "align_items": null,
            "align_self": null,
            "border": null,
            "bottom": null,
            "display": null,
            "flex": null,
            "flex_flow": null,
            "grid_area": null,
            "grid_auto_columns": null,
            "grid_auto_flow": null,
            "grid_auto_rows": null,
            "grid_column": null,
            "grid_gap": null,
            "grid_row": null,
            "grid_template_areas": null,
            "grid_template_columns": null,
            "grid_template_rows": null,
            "height": null,
            "justify_content": null,
            "justify_items": null,
            "left": null,
            "margin": null,
            "max_height": null,
            "max_width": null,
            "min_height": null,
            "min_width": null,
            "object_fit": null,
            "object_position": null,
            "order": null,
            "overflow": null,
            "overflow_x": null,
            "overflow_y": null,
            "padding": null,
            "right": null,
            "top": null,
            "visibility": null,
            "width": null
          }
        },
        "f6da776dcc584e58a0def91995478173": {
          "model_module": "@jupyter-widgets/controls",
          "model_name": "DescriptionStyleModel",
          "model_module_version": "1.5.0",
          "state": {
            "_model_module": "@jupyter-widgets/controls",
            "_model_module_version": "1.5.0",
            "_model_name": "DescriptionStyleModel",
            "_view_count": null,
            "_view_module": "@jupyter-widgets/base",
            "_view_module_version": "1.2.0",
            "_view_name": "StyleView",
            "description_width": ""
          }
        },
        "981b78aaaa964a0ab0fcc80419278a37": {
          "model_module": "@jupyter-widgets/controls",
          "model_name": "HBoxModel",
          "model_module_version": "1.5.0",
          "state": {
            "_dom_classes": [],
            "_model_module": "@jupyter-widgets/controls",
            "_model_module_version": "1.5.0",
            "_model_name": "HBoxModel",
            "_view_count": null,
            "_view_module": "@jupyter-widgets/controls",
            "_view_module_version": "1.5.0",
            "_view_name": "HBoxView",
            "box_style": "",
            "children": [
              "IPY_MODEL_daf7f2cc31104550abf11626eb717089",
              "IPY_MODEL_40e43f0a9f0842479c940f5618572951",
              "IPY_MODEL_e763da745d6f42c0824f10596b526902"
            ],
            "layout": "IPY_MODEL_54dfe372999642d19a199cc8796cb160"
          }
        },
        "daf7f2cc31104550abf11626eb717089": {
          "model_module": "@jupyter-widgets/controls",
          "model_name": "HTMLModel",
          "model_module_version": "1.5.0",
          "state": {
            "_dom_classes": [],
            "_model_module": "@jupyter-widgets/controls",
            "_model_module_version": "1.5.0",
            "_model_name": "HTMLModel",
            "_view_count": null,
            "_view_module": "@jupyter-widgets/controls",
            "_view_module_version": "1.5.0",
            "_view_name": "HTMLView",
            "description": "",
            "description_tooltip": null,
            "layout": "IPY_MODEL_834deb007b794b6b81b61fb7235f4fcf",
            "placeholder": "​",
            "style": "IPY_MODEL_f27cc687d34a4d9eb177615759fd809c",
            "value": "100%"
          }
        },
        "40e43f0a9f0842479c940f5618572951": {
          "model_module": "@jupyter-widgets/controls",
          "model_name": "FloatProgressModel",
          "model_module_version": "1.5.0",
          "state": {
            "_dom_classes": [],
            "_model_module": "@jupyter-widgets/controls",
            "_model_module_version": "1.5.0",
            "_model_name": "FloatProgressModel",
            "_view_count": null,
            "_view_module": "@jupyter-widgets/controls",
            "_view_module_version": "1.5.0",
            "_view_name": "ProgressView",
            "bar_style": "success",
            "description": "",
            "description_tooltip": null,
            "layout": "IPY_MODEL_68ec38b2b6244e81b75495366910acb1",
            "max": 100,
            "min": 0,
            "orientation": "horizontal",
            "style": "IPY_MODEL_87e54d23ac574470aca0e81c5c9f6c5e",
            "value": 100
          }
        },
        "e763da745d6f42c0824f10596b526902": {
          "model_module": "@jupyter-widgets/controls",
          "model_name": "HTMLModel",
          "model_module_version": "1.5.0",
          "state": {
            "_dom_classes": [],
            "_model_module": "@jupyter-widgets/controls",
            "_model_module_version": "1.5.0",
            "_model_name": "HTMLModel",
            "_view_count": null,
            "_view_module": "@jupyter-widgets/controls",
            "_view_module_version": "1.5.0",
            "_view_name": "HTMLView",
            "description": "",
            "description_tooltip": null,
            "layout": "IPY_MODEL_2c9ff6cac75b47589142bc10980cde9d",
            "placeholder": "​",
            "style": "IPY_MODEL_aec7cef419fc41ccbfd2394ff1561b22",
            "value": " 100/100 [11:48&lt;00:00,  6.79s/it]"
          }
        },
        "54dfe372999642d19a199cc8796cb160": {
          "model_module": "@jupyter-widgets/base",
          "model_name": "LayoutModel",
          "model_module_version": "1.2.0",
          "state": {
            "_model_module": "@jupyter-widgets/base",
            "_model_module_version": "1.2.0",
            "_model_name": "LayoutModel",
            "_view_count": null,
            "_view_module": "@jupyter-widgets/base",
            "_view_module_version": "1.2.0",
            "_view_name": "LayoutView",
            "align_content": null,
            "align_items": null,
            "align_self": null,
            "border": null,
            "bottom": null,
            "display": null,
            "flex": null,
            "flex_flow": null,
            "grid_area": null,
            "grid_auto_columns": null,
            "grid_auto_flow": null,
            "grid_auto_rows": null,
            "grid_column": null,
            "grid_gap": null,
            "grid_row": null,
            "grid_template_areas": null,
            "grid_template_columns": null,
            "grid_template_rows": null,
            "height": null,
            "justify_content": null,
            "justify_items": null,
            "left": null,
            "margin": null,
            "max_height": null,
            "max_width": null,
            "min_height": null,
            "min_width": null,
            "object_fit": null,
            "object_position": null,
            "order": null,
            "overflow": null,
            "overflow_x": null,
            "overflow_y": null,
            "padding": null,
            "right": null,
            "top": null,
            "visibility": null,
            "width": null
          }
        },
        "834deb007b794b6b81b61fb7235f4fcf": {
          "model_module": "@jupyter-widgets/base",
          "model_name": "LayoutModel",
          "model_module_version": "1.2.0",
          "state": {
            "_model_module": "@jupyter-widgets/base",
            "_model_module_version": "1.2.0",
            "_model_name": "LayoutModel",
            "_view_count": null,
            "_view_module": "@jupyter-widgets/base",
            "_view_module_version": "1.2.0",
            "_view_name": "LayoutView",
            "align_content": null,
            "align_items": null,
            "align_self": null,
            "border": null,
            "bottom": null,
            "display": null,
            "flex": null,
            "flex_flow": null,
            "grid_area": null,
            "grid_auto_columns": null,
            "grid_auto_flow": null,
            "grid_auto_rows": null,
            "grid_column": null,
            "grid_gap": null,
            "grid_row": null,
            "grid_template_areas": null,
            "grid_template_columns": null,
            "grid_template_rows": null,
            "height": null,
            "justify_content": null,
            "justify_items": null,
            "left": null,
            "margin": null,
            "max_height": null,
            "max_width": null,
            "min_height": null,
            "min_width": null,
            "object_fit": null,
            "object_position": null,
            "order": null,
            "overflow": null,
            "overflow_x": null,
            "overflow_y": null,
            "padding": null,
            "right": null,
            "top": null,
            "visibility": null,
            "width": null
          }
        },
        "f27cc687d34a4d9eb177615759fd809c": {
          "model_module": "@jupyter-widgets/controls",
          "model_name": "DescriptionStyleModel",
          "model_module_version": "1.5.0",
          "state": {
            "_model_module": "@jupyter-widgets/controls",
            "_model_module_version": "1.5.0",
            "_model_name": "DescriptionStyleModel",
            "_view_count": null,
            "_view_module": "@jupyter-widgets/base",
            "_view_module_version": "1.2.0",
            "_view_name": "StyleView",
            "description_width": ""
          }
        },
        "68ec38b2b6244e81b75495366910acb1": {
          "model_module": "@jupyter-widgets/base",
          "model_name": "LayoutModel",
          "model_module_version": "1.2.0",
          "state": {
            "_model_module": "@jupyter-widgets/base",
            "_model_module_version": "1.2.0",
            "_model_name": "LayoutModel",
            "_view_count": null,
            "_view_module": "@jupyter-widgets/base",
            "_view_module_version": "1.2.0",
            "_view_name": "LayoutView",
            "align_content": null,
            "align_items": null,
            "align_self": null,
            "border": null,
            "bottom": null,
            "display": null,
            "flex": null,
            "flex_flow": null,
            "grid_area": null,
            "grid_auto_columns": null,
            "grid_auto_flow": null,
            "grid_auto_rows": null,
            "grid_column": null,
            "grid_gap": null,
            "grid_row": null,
            "grid_template_areas": null,
            "grid_template_columns": null,
            "grid_template_rows": null,
            "height": null,
            "justify_content": null,
            "justify_items": null,
            "left": null,
            "margin": null,
            "max_height": null,
            "max_width": null,
            "min_height": null,
            "min_width": null,
            "object_fit": null,
            "object_position": null,
            "order": null,
            "overflow": null,
            "overflow_x": null,
            "overflow_y": null,
            "padding": null,
            "right": null,
            "top": null,
            "visibility": null,
            "width": null
          }
        },
        "87e54d23ac574470aca0e81c5c9f6c5e": {
          "model_module": "@jupyter-widgets/controls",
          "model_name": "ProgressStyleModel",
          "model_module_version": "1.5.0",
          "state": {
            "_model_module": "@jupyter-widgets/controls",
            "_model_module_version": "1.5.0",
            "_model_name": "ProgressStyleModel",
            "_view_count": null,
            "_view_module": "@jupyter-widgets/base",
            "_view_module_version": "1.2.0",
            "_view_name": "StyleView",
            "bar_color": null,
            "description_width": ""
          }
        },
        "2c9ff6cac75b47589142bc10980cde9d": {
          "model_module": "@jupyter-widgets/base",
          "model_name": "LayoutModel",
          "model_module_version": "1.2.0",
          "state": {
            "_model_module": "@jupyter-widgets/base",
            "_model_module_version": "1.2.0",
            "_model_name": "LayoutModel",
            "_view_count": null,
            "_view_module": "@jupyter-widgets/base",
            "_view_module_version": "1.2.0",
            "_view_name": "LayoutView",
            "align_content": null,
            "align_items": null,
            "align_self": null,
            "border": null,
            "bottom": null,
            "display": null,
            "flex": null,
            "flex_flow": null,
            "grid_area": null,
            "grid_auto_columns": null,
            "grid_auto_flow": null,
            "grid_auto_rows": null,
            "grid_column": null,
            "grid_gap": null,
            "grid_row": null,
            "grid_template_areas": null,
            "grid_template_columns": null,
            "grid_template_rows": null,
            "height": null,
            "justify_content": null,
            "justify_items": null,
            "left": null,
            "margin": null,
            "max_height": null,
            "max_width": null,
            "min_height": null,
            "min_width": null,
            "object_fit": null,
            "object_position": null,
            "order": null,
            "overflow": null,
            "overflow_x": null,
            "overflow_y": null,
            "padding": null,
            "right": null,
            "top": null,
            "visibility": null,
            "width": null
          }
        },
        "aec7cef419fc41ccbfd2394ff1561b22": {
          "model_module": "@jupyter-widgets/controls",
          "model_name": "DescriptionStyleModel",
          "model_module_version": "1.5.0",
          "state": {
            "_model_module": "@jupyter-widgets/controls",
            "_model_module_version": "1.5.0",
            "_model_name": "DescriptionStyleModel",
            "_view_count": null,
            "_view_module": "@jupyter-widgets/base",
            "_view_module_version": "1.2.0",
            "_view_name": "StyleView",
            "description_width": ""
          }
        },
        "e66d49e5480a4325b5541dd315773c5b": {
          "model_module": "@jupyter-widgets/controls",
          "model_name": "HBoxModel",
          "model_module_version": "1.5.0",
          "state": {
            "_dom_classes": [],
            "_model_module": "@jupyter-widgets/controls",
            "_model_module_version": "1.5.0",
            "_model_name": "HBoxModel",
            "_view_count": null,
            "_view_module": "@jupyter-widgets/controls",
            "_view_module_version": "1.5.0",
            "_view_name": "HBoxView",
            "box_style": "",
            "children": [
              "IPY_MODEL_44f94d97843f434b987ffc3916f28e20",
              "IPY_MODEL_745ce86dc6334d258df098dbbbc08926",
              "IPY_MODEL_524940032ec24503aed4cca967d9d1e6"
            ],
            "layout": "IPY_MODEL_7c039bd1be1f49f59858acbc25585d73"
          }
        },
        "44f94d97843f434b987ffc3916f28e20": {
          "model_module": "@jupyter-widgets/controls",
          "model_name": "HTMLModel",
          "model_module_version": "1.5.0",
          "state": {
            "_dom_classes": [],
            "_model_module": "@jupyter-widgets/controls",
            "_model_module_version": "1.5.0",
            "_model_name": "HTMLModel",
            "_view_count": null,
            "_view_module": "@jupyter-widgets/controls",
            "_view_module_version": "1.5.0",
            "_view_name": "HTMLView",
            "description": "",
            "description_tooltip": null,
            "layout": "IPY_MODEL_1a54ac9f4ea047aebd64e0039b1ec2ba",
            "placeholder": "​",
            "style": "IPY_MODEL_d0ba15a5326a4f229715d61053dde9ab",
            "value": "100%"
          }
        },
        "745ce86dc6334d258df098dbbbc08926": {
          "model_module": "@jupyter-widgets/controls",
          "model_name": "FloatProgressModel",
          "model_module_version": "1.5.0",
          "state": {
            "_dom_classes": [],
            "_model_module": "@jupyter-widgets/controls",
            "_model_module_version": "1.5.0",
            "_model_name": "FloatProgressModel",
            "_view_count": null,
            "_view_module": "@jupyter-widgets/controls",
            "_view_module_version": "1.5.0",
            "_view_name": "ProgressView",
            "bar_style": "success",
            "description": "",
            "description_tooltip": null,
            "layout": "IPY_MODEL_8cc73887d776479a81297b8bf6fe9b75",
            "max": 100,
            "min": 0,
            "orientation": "horizontal",
            "style": "IPY_MODEL_d571b828a67a429b86254f020f59e894",
            "value": 100
          }
        },
        "524940032ec24503aed4cca967d9d1e6": {
          "model_module": "@jupyter-widgets/controls",
          "model_name": "HTMLModel",
          "model_module_version": "1.5.0",
          "state": {
            "_dom_classes": [],
            "_model_module": "@jupyter-widgets/controls",
            "_model_module_version": "1.5.0",
            "_model_name": "HTMLModel",
            "_view_count": null,
            "_view_module": "@jupyter-widgets/controls",
            "_view_module_version": "1.5.0",
            "_view_name": "HTMLView",
            "description": "",
            "description_tooltip": null,
            "layout": "IPY_MODEL_f6a64084cf354ba78c9abaaba3564adc",
            "placeholder": "​",
            "style": "IPY_MODEL_d4a5a32bfb294054ba33faa9e8dd8c16",
            "value": " 100/100 [02:34&lt;00:00,  1.62s/it]"
          }
        },
        "7c039bd1be1f49f59858acbc25585d73": {
          "model_module": "@jupyter-widgets/base",
          "model_name": "LayoutModel",
          "model_module_version": "1.2.0",
          "state": {
            "_model_module": "@jupyter-widgets/base",
            "_model_module_version": "1.2.0",
            "_model_name": "LayoutModel",
            "_view_count": null,
            "_view_module": "@jupyter-widgets/base",
            "_view_module_version": "1.2.0",
            "_view_name": "LayoutView",
            "align_content": null,
            "align_items": null,
            "align_self": null,
            "border": null,
            "bottom": null,
            "display": null,
            "flex": null,
            "flex_flow": null,
            "grid_area": null,
            "grid_auto_columns": null,
            "grid_auto_flow": null,
            "grid_auto_rows": null,
            "grid_column": null,
            "grid_gap": null,
            "grid_row": null,
            "grid_template_areas": null,
            "grid_template_columns": null,
            "grid_template_rows": null,
            "height": null,
            "justify_content": null,
            "justify_items": null,
            "left": null,
            "margin": null,
            "max_height": null,
            "max_width": null,
            "min_height": null,
            "min_width": null,
            "object_fit": null,
            "object_position": null,
            "order": null,
            "overflow": null,
            "overflow_x": null,
            "overflow_y": null,
            "padding": null,
            "right": null,
            "top": null,
            "visibility": null,
            "width": null
          }
        },
        "1a54ac9f4ea047aebd64e0039b1ec2ba": {
          "model_module": "@jupyter-widgets/base",
          "model_name": "LayoutModel",
          "model_module_version": "1.2.0",
          "state": {
            "_model_module": "@jupyter-widgets/base",
            "_model_module_version": "1.2.0",
            "_model_name": "LayoutModel",
            "_view_count": null,
            "_view_module": "@jupyter-widgets/base",
            "_view_module_version": "1.2.0",
            "_view_name": "LayoutView",
            "align_content": null,
            "align_items": null,
            "align_self": null,
            "border": null,
            "bottom": null,
            "display": null,
            "flex": null,
            "flex_flow": null,
            "grid_area": null,
            "grid_auto_columns": null,
            "grid_auto_flow": null,
            "grid_auto_rows": null,
            "grid_column": null,
            "grid_gap": null,
            "grid_row": null,
            "grid_template_areas": null,
            "grid_template_columns": null,
            "grid_template_rows": null,
            "height": null,
            "justify_content": null,
            "justify_items": null,
            "left": null,
            "margin": null,
            "max_height": null,
            "max_width": null,
            "min_height": null,
            "min_width": null,
            "object_fit": null,
            "object_position": null,
            "order": null,
            "overflow": null,
            "overflow_x": null,
            "overflow_y": null,
            "padding": null,
            "right": null,
            "top": null,
            "visibility": null,
            "width": null
          }
        },
        "d0ba15a5326a4f229715d61053dde9ab": {
          "model_module": "@jupyter-widgets/controls",
          "model_name": "DescriptionStyleModel",
          "model_module_version": "1.5.0",
          "state": {
            "_model_module": "@jupyter-widgets/controls",
            "_model_module_version": "1.5.0",
            "_model_name": "DescriptionStyleModel",
            "_view_count": null,
            "_view_module": "@jupyter-widgets/base",
            "_view_module_version": "1.2.0",
            "_view_name": "StyleView",
            "description_width": ""
          }
        },
        "8cc73887d776479a81297b8bf6fe9b75": {
          "model_module": "@jupyter-widgets/base",
          "model_name": "LayoutModel",
          "model_module_version": "1.2.0",
          "state": {
            "_model_module": "@jupyter-widgets/base",
            "_model_module_version": "1.2.0",
            "_model_name": "LayoutModel",
            "_view_count": null,
            "_view_module": "@jupyter-widgets/base",
            "_view_module_version": "1.2.0",
            "_view_name": "LayoutView",
            "align_content": null,
            "align_items": null,
            "align_self": null,
            "border": null,
            "bottom": null,
            "display": null,
            "flex": null,
            "flex_flow": null,
            "grid_area": null,
            "grid_auto_columns": null,
            "grid_auto_flow": null,
            "grid_auto_rows": null,
            "grid_column": null,
            "grid_gap": null,
            "grid_row": null,
            "grid_template_areas": null,
            "grid_template_columns": null,
            "grid_template_rows": null,
            "height": null,
            "justify_content": null,
            "justify_items": null,
            "left": null,
            "margin": null,
            "max_height": null,
            "max_width": null,
            "min_height": null,
            "min_width": null,
            "object_fit": null,
            "object_position": null,
            "order": null,
            "overflow": null,
            "overflow_x": null,
            "overflow_y": null,
            "padding": null,
            "right": null,
            "top": null,
            "visibility": null,
            "width": null
          }
        },
        "d571b828a67a429b86254f020f59e894": {
          "model_module": "@jupyter-widgets/controls",
          "model_name": "ProgressStyleModel",
          "model_module_version": "1.5.0",
          "state": {
            "_model_module": "@jupyter-widgets/controls",
            "_model_module_version": "1.5.0",
            "_model_name": "ProgressStyleModel",
            "_view_count": null,
            "_view_module": "@jupyter-widgets/base",
            "_view_module_version": "1.2.0",
            "_view_name": "StyleView",
            "bar_color": null,
            "description_width": ""
          }
        },
        "f6a64084cf354ba78c9abaaba3564adc": {
          "model_module": "@jupyter-widgets/base",
          "model_name": "LayoutModel",
          "model_module_version": "1.2.0",
          "state": {
            "_model_module": "@jupyter-widgets/base",
            "_model_module_version": "1.2.0",
            "_model_name": "LayoutModel",
            "_view_count": null,
            "_view_module": "@jupyter-widgets/base",
            "_view_module_version": "1.2.0",
            "_view_name": "LayoutView",
            "align_content": null,
            "align_items": null,
            "align_self": null,
            "border": null,
            "bottom": null,
            "display": null,
            "flex": null,
            "flex_flow": null,
            "grid_area": null,
            "grid_auto_columns": null,
            "grid_auto_flow": null,
            "grid_auto_rows": null,
            "grid_column": null,
            "grid_gap": null,
            "grid_row": null,
            "grid_template_areas": null,
            "grid_template_columns": null,
            "grid_template_rows": null,
            "height": null,
            "justify_content": null,
            "justify_items": null,
            "left": null,
            "margin": null,
            "max_height": null,
            "max_width": null,
            "min_height": null,
            "min_width": null,
            "object_fit": null,
            "object_position": null,
            "order": null,
            "overflow": null,
            "overflow_x": null,
            "overflow_y": null,
            "padding": null,
            "right": null,
            "top": null,
            "visibility": null,
            "width": null
          }
        },
        "d4a5a32bfb294054ba33faa9e8dd8c16": {
          "model_module": "@jupyter-widgets/controls",
          "model_name": "DescriptionStyleModel",
          "model_module_version": "1.5.0",
          "state": {
            "_model_module": "@jupyter-widgets/controls",
            "_model_module_version": "1.5.0",
            "_model_name": "DescriptionStyleModel",
            "_view_count": null,
            "_view_module": "@jupyter-widgets/base",
            "_view_module_version": "1.2.0",
            "_view_name": "StyleView",
            "description_width": ""
          }
        },
        "df3d6419a3da445eb987e78902867419": {
          "model_module": "@jupyter-widgets/controls",
          "model_name": "HBoxModel",
          "model_module_version": "1.5.0",
          "state": {
            "_dom_classes": [],
            "_model_module": "@jupyter-widgets/controls",
            "_model_module_version": "1.5.0",
            "_model_name": "HBoxModel",
            "_view_count": null,
            "_view_module": "@jupyter-widgets/controls",
            "_view_module_version": "1.5.0",
            "_view_name": "HBoxView",
            "box_style": "",
            "children": [
              "IPY_MODEL_6aebae52020d44d7981aade8ab0b3223",
              "IPY_MODEL_793f3375797b4e38ba4cdc4f8b1770e5",
              "IPY_MODEL_731608383bac44c79dce5eea73b84ce5"
            ],
            "layout": "IPY_MODEL_aebc70ac8ea7456f93292af23462dca5"
          }
        },
        "6aebae52020d44d7981aade8ab0b3223": {
          "model_module": "@jupyter-widgets/controls",
          "model_name": "HTMLModel",
          "model_module_version": "1.5.0",
          "state": {
            "_dom_classes": [],
            "_model_module": "@jupyter-widgets/controls",
            "_model_module_version": "1.5.0",
            "_model_name": "HTMLModel",
            "_view_count": null,
            "_view_module": "@jupyter-widgets/controls",
            "_view_module_version": "1.5.0",
            "_view_name": "HTMLView",
            "description": "",
            "description_tooltip": null,
            "layout": "IPY_MODEL_c40aacd92fa54301afad8192412c5ee4",
            "placeholder": "​",
            "style": "IPY_MODEL_fdd2a399759a4ff09580827fe8d517bf",
            "value": "100%"
          }
        },
        "793f3375797b4e38ba4cdc4f8b1770e5": {
          "model_module": "@jupyter-widgets/controls",
          "model_name": "FloatProgressModel",
          "model_module_version": "1.5.0",
          "state": {
            "_dom_classes": [],
            "_model_module": "@jupyter-widgets/controls",
            "_model_module_version": "1.5.0",
            "_model_name": "FloatProgressModel",
            "_view_count": null,
            "_view_module": "@jupyter-widgets/controls",
            "_view_module_version": "1.5.0",
            "_view_name": "ProgressView",
            "bar_style": "success",
            "description": "",
            "description_tooltip": null,
            "layout": "IPY_MODEL_fcf00799e87046ff96738f8d15ad2837",
            "max": 6547763,
            "min": 0,
            "orientation": "horizontal",
            "style": "IPY_MODEL_745c6438f51944fe8af71e975ff6e23f",
            "value": 6547763
          }
        },
        "731608383bac44c79dce5eea73b84ce5": {
          "model_module": "@jupyter-widgets/controls",
          "model_name": "HTMLModel",
          "model_module_version": "1.5.0",
          "state": {
            "_dom_classes": [],
            "_model_module": "@jupyter-widgets/controls",
            "_model_module_version": "1.5.0",
            "_model_name": "HTMLModel",
            "_view_count": null,
            "_view_module": "@jupyter-widgets/controls",
            "_view_module_version": "1.5.0",
            "_view_name": "HTMLView",
            "description": "",
            "description_tooltip": null,
            "layout": "IPY_MODEL_92267bfde6a744a2a5f2bfcb349c1f20",
            "placeholder": "​",
            "style": "IPY_MODEL_1e3166a7301945e58319f5d5a01141a8",
            "value": " 6.24M/6.24M [00:00&lt;00:00, 113MB/s]"
          }
        },
        "aebc70ac8ea7456f93292af23462dca5": {
          "model_module": "@jupyter-widgets/base",
          "model_name": "LayoutModel",
          "model_module_version": "1.2.0",
          "state": {
            "_model_module": "@jupyter-widgets/base",
            "_model_module_version": "1.2.0",
            "_model_name": "LayoutModel",
            "_view_count": null,
            "_view_module": "@jupyter-widgets/base",
            "_view_module_version": "1.2.0",
            "_view_name": "LayoutView",
            "align_content": null,
            "align_items": null,
            "align_self": null,
            "border": null,
            "bottom": null,
            "display": null,
            "flex": null,
            "flex_flow": null,
            "grid_area": null,
            "grid_auto_columns": null,
            "grid_auto_flow": null,
            "grid_auto_rows": null,
            "grid_column": null,
            "grid_gap": null,
            "grid_row": null,
            "grid_template_areas": null,
            "grid_template_columns": null,
            "grid_template_rows": null,
            "height": null,
            "justify_content": null,
            "justify_items": null,
            "left": null,
            "margin": null,
            "max_height": null,
            "max_width": null,
            "min_height": null,
            "min_width": null,
            "object_fit": null,
            "object_position": null,
            "order": null,
            "overflow": null,
            "overflow_x": null,
            "overflow_y": null,
            "padding": null,
            "right": null,
            "top": null,
            "visibility": null,
            "width": null
          }
        },
        "c40aacd92fa54301afad8192412c5ee4": {
          "model_module": "@jupyter-widgets/base",
          "model_name": "LayoutModel",
          "model_module_version": "1.2.0",
          "state": {
            "_model_module": "@jupyter-widgets/base",
            "_model_module_version": "1.2.0",
            "_model_name": "LayoutModel",
            "_view_count": null,
            "_view_module": "@jupyter-widgets/base",
            "_view_module_version": "1.2.0",
            "_view_name": "LayoutView",
            "align_content": null,
            "align_items": null,
            "align_self": null,
            "border": null,
            "bottom": null,
            "display": null,
            "flex": null,
            "flex_flow": null,
            "grid_area": null,
            "grid_auto_columns": null,
            "grid_auto_flow": null,
            "grid_auto_rows": null,
            "grid_column": null,
            "grid_gap": null,
            "grid_row": null,
            "grid_template_areas": null,
            "grid_template_columns": null,
            "grid_template_rows": null,
            "height": null,
            "justify_content": null,
            "justify_items": null,
            "left": null,
            "margin": null,
            "max_height": null,
            "max_width": null,
            "min_height": null,
            "min_width": null,
            "object_fit": null,
            "object_position": null,
            "order": null,
            "overflow": null,
            "overflow_x": null,
            "overflow_y": null,
            "padding": null,
            "right": null,
            "top": null,
            "visibility": null,
            "width": null
          }
        },
        "fdd2a399759a4ff09580827fe8d517bf": {
          "model_module": "@jupyter-widgets/controls",
          "model_name": "DescriptionStyleModel",
          "model_module_version": "1.5.0",
          "state": {
            "_model_module": "@jupyter-widgets/controls",
            "_model_module_version": "1.5.0",
            "_model_name": "DescriptionStyleModel",
            "_view_count": null,
            "_view_module": "@jupyter-widgets/base",
            "_view_module_version": "1.2.0",
            "_view_name": "StyleView",
            "description_width": ""
          }
        },
        "fcf00799e87046ff96738f8d15ad2837": {
          "model_module": "@jupyter-widgets/base",
          "model_name": "LayoutModel",
          "model_module_version": "1.2.0",
          "state": {
            "_model_module": "@jupyter-widgets/base",
            "_model_module_version": "1.2.0",
            "_model_name": "LayoutModel",
            "_view_count": null,
            "_view_module": "@jupyter-widgets/base",
            "_view_module_version": "1.2.0",
            "_view_name": "LayoutView",
            "align_content": null,
            "align_items": null,
            "align_self": null,
            "border": null,
            "bottom": null,
            "display": null,
            "flex": null,
            "flex_flow": null,
            "grid_area": null,
            "grid_auto_columns": null,
            "grid_auto_flow": null,
            "grid_auto_rows": null,
            "grid_column": null,
            "grid_gap": null,
            "grid_row": null,
            "grid_template_areas": null,
            "grid_template_columns": null,
            "grid_template_rows": null,
            "height": null,
            "justify_content": null,
            "justify_items": null,
            "left": null,
            "margin": null,
            "max_height": null,
            "max_width": null,
            "min_height": null,
            "min_width": null,
            "object_fit": null,
            "object_position": null,
            "order": null,
            "overflow": null,
            "overflow_x": null,
            "overflow_y": null,
            "padding": null,
            "right": null,
            "top": null,
            "visibility": null,
            "width": null
          }
        },
        "745c6438f51944fe8af71e975ff6e23f": {
          "model_module": "@jupyter-widgets/controls",
          "model_name": "ProgressStyleModel",
          "model_module_version": "1.5.0",
          "state": {
            "_model_module": "@jupyter-widgets/controls",
            "_model_module_version": "1.5.0",
            "_model_name": "ProgressStyleModel",
            "_view_count": null,
            "_view_module": "@jupyter-widgets/base",
            "_view_module_version": "1.2.0",
            "_view_name": "StyleView",
            "bar_color": null,
            "description_width": ""
          }
        },
        "92267bfde6a744a2a5f2bfcb349c1f20": {
          "model_module": "@jupyter-widgets/base",
          "model_name": "LayoutModel",
          "model_module_version": "1.2.0",
          "state": {
            "_model_module": "@jupyter-widgets/base",
            "_model_module_version": "1.2.0",
            "_model_name": "LayoutModel",
            "_view_count": null,
            "_view_module": "@jupyter-widgets/base",
            "_view_module_version": "1.2.0",
            "_view_name": "LayoutView",
            "align_content": null,
            "align_items": null,
            "align_self": null,
            "border": null,
            "bottom": null,
            "display": null,
            "flex": null,
            "flex_flow": null,
            "grid_area": null,
            "grid_auto_columns": null,
            "grid_auto_flow": null,
            "grid_auto_rows": null,
            "grid_column": null,
            "grid_gap": null,
            "grid_row": null,
            "grid_template_areas": null,
            "grid_template_columns": null,
            "grid_template_rows": null,
            "height": null,
            "justify_content": null,
            "justify_items": null,
            "left": null,
            "margin": null,
            "max_height": null,
            "max_width": null,
            "min_height": null,
            "min_width": null,
            "object_fit": null,
            "object_position": null,
            "order": null,
            "overflow": null,
            "overflow_x": null,
            "overflow_y": null,
            "padding": null,
            "right": null,
            "top": null,
            "visibility": null,
            "width": null
          }
        },
        "1e3166a7301945e58319f5d5a01141a8": {
          "model_module": "@jupyter-widgets/controls",
          "model_name": "DescriptionStyleModel",
          "model_module_version": "1.5.0",
          "state": {
            "_model_module": "@jupyter-widgets/controls",
            "_model_module_version": "1.5.0",
            "_model_name": "DescriptionStyleModel",
            "_view_count": null,
            "_view_module": "@jupyter-widgets/base",
            "_view_module_version": "1.2.0",
            "_view_name": "StyleView",
            "description_width": ""
          }
        },
        "9856cf0a4b02467eb241fa7f07a879c9": {
          "model_module": "@jupyter-widgets/controls",
          "model_name": "HBoxModel",
          "model_module_version": "1.5.0",
          "state": {
            "_dom_classes": [],
            "_model_module": "@jupyter-widgets/controls",
            "_model_module_version": "1.5.0",
            "_model_name": "HBoxModel",
            "_view_count": null,
            "_view_module": "@jupyter-widgets/controls",
            "_view_module_version": "1.5.0",
            "_view_name": "HBoxView",
            "box_style": "",
            "children": [
              "IPY_MODEL_e794f43282b042b9aca767375f835521",
              "IPY_MODEL_ae1b238b23d84ec4bbe10ece74f95f9a",
              "IPY_MODEL_937adb8e4dff4899a51a3f50f09a4c14"
            ],
            "layout": "IPY_MODEL_d0d5a79c1465440cbcc38831124076af"
          }
        },
        "e794f43282b042b9aca767375f835521": {
          "model_module": "@jupyter-widgets/controls",
          "model_name": "HTMLModel",
          "model_module_version": "1.5.0",
          "state": {
            "_dom_classes": [],
            "_model_module": "@jupyter-widgets/controls",
            "_model_module_version": "1.5.0",
            "_model_name": "HTMLModel",
            "_view_count": null,
            "_view_module": "@jupyter-widgets/controls",
            "_view_module_version": "1.5.0",
            "_view_name": "HTMLView",
            "description": "",
            "description_tooltip": null,
            "layout": "IPY_MODEL_c12c489270d54f1ba52df7af7ee72c8e",
            "placeholder": "​",
            "style": "IPY_MODEL_3fec08f9548240359f5945632080567a",
            "value": "100%"
          }
        },
        "ae1b238b23d84ec4bbe10ece74f95f9a": {
          "model_module": "@jupyter-widgets/controls",
          "model_name": "FloatProgressModel",
          "model_module_version": "1.5.0",
          "state": {
            "_dom_classes": [],
            "_model_module": "@jupyter-widgets/controls",
            "_model_module_version": "1.5.0",
            "_model_name": "FloatProgressModel",
            "_view_count": null,
            "_view_module": "@jupyter-widgets/controls",
            "_view_module_version": "1.5.0",
            "_view_name": "ProgressView",
            "bar_style": "success",
            "description": "",
            "description_tooltip": null,
            "layout": "IPY_MODEL_64fe7a83ab3f49df8c0a6b8d4a05179d",
            "max": 1,
            "min": 0,
            "orientation": "horizontal",
            "style": "IPY_MODEL_bee989ff17df40d2af3471dedfba6a67",
            "value": 1
          }
        },
        "937adb8e4dff4899a51a3f50f09a4c14": {
          "model_module": "@jupyter-widgets/controls",
          "model_name": "HTMLModel",
          "model_module_version": "1.5.0",
          "state": {
            "_dom_classes": [],
            "_model_module": "@jupyter-widgets/controls",
            "_model_module_version": "1.5.0",
            "_model_name": "HTMLModel",
            "_view_count": null,
            "_view_module": "@jupyter-widgets/controls",
            "_view_module_version": "1.5.0",
            "_view_name": "HTMLView",
            "description": "",
            "description_tooltip": null,
            "layout": "IPY_MODEL_94ae267f4ab1435b917ab83a0011542d",
            "placeholder": "​",
            "style": "IPY_MODEL_3ecb1289387a44d392c06fe3cdbe23aa",
            "value": " 1/1 [00:08&lt;00:00,  8.01s/it]"
          }
        },
        "d0d5a79c1465440cbcc38831124076af": {
          "model_module": "@jupyter-widgets/base",
          "model_name": "LayoutModel",
          "model_module_version": "1.2.0",
          "state": {
            "_model_module": "@jupyter-widgets/base",
            "_model_module_version": "1.2.0",
            "_model_name": "LayoutModel",
            "_view_count": null,
            "_view_module": "@jupyter-widgets/base",
            "_view_module_version": "1.2.0",
            "_view_name": "LayoutView",
            "align_content": null,
            "align_items": null,
            "align_self": null,
            "border": null,
            "bottom": null,
            "display": null,
            "flex": null,
            "flex_flow": null,
            "grid_area": null,
            "grid_auto_columns": null,
            "grid_auto_flow": null,
            "grid_auto_rows": null,
            "grid_column": null,
            "grid_gap": null,
            "grid_row": null,
            "grid_template_areas": null,
            "grid_template_columns": null,
            "grid_template_rows": null,
            "height": null,
            "justify_content": null,
            "justify_items": null,
            "left": null,
            "margin": null,
            "max_height": null,
            "max_width": null,
            "min_height": null,
            "min_width": null,
            "object_fit": null,
            "object_position": null,
            "order": null,
            "overflow": null,
            "overflow_x": null,
            "overflow_y": null,
            "padding": null,
            "right": null,
            "top": null,
            "visibility": null,
            "width": null
          }
        },
        "c12c489270d54f1ba52df7af7ee72c8e": {
          "model_module": "@jupyter-widgets/base",
          "model_name": "LayoutModel",
          "model_module_version": "1.2.0",
          "state": {
            "_model_module": "@jupyter-widgets/base",
            "_model_module_version": "1.2.0",
            "_model_name": "LayoutModel",
            "_view_count": null,
            "_view_module": "@jupyter-widgets/base",
            "_view_module_version": "1.2.0",
            "_view_name": "LayoutView",
            "align_content": null,
            "align_items": null,
            "align_self": null,
            "border": null,
            "bottom": null,
            "display": null,
            "flex": null,
            "flex_flow": null,
            "grid_area": null,
            "grid_auto_columns": null,
            "grid_auto_flow": null,
            "grid_auto_rows": null,
            "grid_column": null,
            "grid_gap": null,
            "grid_row": null,
            "grid_template_areas": null,
            "grid_template_columns": null,
            "grid_template_rows": null,
            "height": null,
            "justify_content": null,
            "justify_items": null,
            "left": null,
            "margin": null,
            "max_height": null,
            "max_width": null,
            "min_height": null,
            "min_width": null,
            "object_fit": null,
            "object_position": null,
            "order": null,
            "overflow": null,
            "overflow_x": null,
            "overflow_y": null,
            "padding": null,
            "right": null,
            "top": null,
            "visibility": null,
            "width": null
          }
        },
        "3fec08f9548240359f5945632080567a": {
          "model_module": "@jupyter-widgets/controls",
          "model_name": "DescriptionStyleModel",
          "model_module_version": "1.5.0",
          "state": {
            "_model_module": "@jupyter-widgets/controls",
            "_model_module_version": "1.5.0",
            "_model_name": "DescriptionStyleModel",
            "_view_count": null,
            "_view_module": "@jupyter-widgets/base",
            "_view_module_version": "1.2.0",
            "_view_name": "StyleView",
            "description_width": ""
          }
        },
        "64fe7a83ab3f49df8c0a6b8d4a05179d": {
          "model_module": "@jupyter-widgets/base",
          "model_name": "LayoutModel",
          "model_module_version": "1.2.0",
          "state": {
            "_model_module": "@jupyter-widgets/base",
            "_model_module_version": "1.2.0",
            "_model_name": "LayoutModel",
            "_view_count": null,
            "_view_module": "@jupyter-widgets/base",
            "_view_module_version": "1.2.0",
            "_view_name": "LayoutView",
            "align_content": null,
            "align_items": null,
            "align_self": null,
            "border": null,
            "bottom": null,
            "display": null,
            "flex": null,
            "flex_flow": null,
            "grid_area": null,
            "grid_auto_columns": null,
            "grid_auto_flow": null,
            "grid_auto_rows": null,
            "grid_column": null,
            "grid_gap": null,
            "grid_row": null,
            "grid_template_areas": null,
            "grid_template_columns": null,
            "grid_template_rows": null,
            "height": null,
            "justify_content": null,
            "justify_items": null,
            "left": null,
            "margin": null,
            "max_height": null,
            "max_width": null,
            "min_height": null,
            "min_width": null,
            "object_fit": null,
            "object_position": null,
            "order": null,
            "overflow": null,
            "overflow_x": null,
            "overflow_y": null,
            "padding": null,
            "right": null,
            "top": null,
            "visibility": null,
            "width": null
          }
        },
        "bee989ff17df40d2af3471dedfba6a67": {
          "model_module": "@jupyter-widgets/controls",
          "model_name": "ProgressStyleModel",
          "model_module_version": "1.5.0",
          "state": {
            "_model_module": "@jupyter-widgets/controls",
            "_model_module_version": "1.5.0",
            "_model_name": "ProgressStyleModel",
            "_view_count": null,
            "_view_module": "@jupyter-widgets/base",
            "_view_module_version": "1.2.0",
            "_view_name": "StyleView",
            "bar_color": null,
            "description_width": ""
          }
        },
        "94ae267f4ab1435b917ab83a0011542d": {
          "model_module": "@jupyter-widgets/base",
          "model_name": "LayoutModel",
          "model_module_version": "1.2.0",
          "state": {
            "_model_module": "@jupyter-widgets/base",
            "_model_module_version": "1.2.0",
            "_model_name": "LayoutModel",
            "_view_count": null,
            "_view_module": "@jupyter-widgets/base",
            "_view_module_version": "1.2.0",
            "_view_name": "LayoutView",
            "align_content": null,
            "align_items": null,
            "align_self": null,
            "border": null,
            "bottom": null,
            "display": null,
            "flex": null,
            "flex_flow": null,
            "grid_area": null,
            "grid_auto_columns": null,
            "grid_auto_flow": null,
            "grid_auto_rows": null,
            "grid_column": null,
            "grid_gap": null,
            "grid_row": null,
            "grid_template_areas": null,
            "grid_template_columns": null,
            "grid_template_rows": null,
            "height": null,
            "justify_content": null,
            "justify_items": null,
            "left": null,
            "margin": null,
            "max_height": null,
            "max_width": null,
            "min_height": null,
            "min_width": null,
            "object_fit": null,
            "object_position": null,
            "order": null,
            "overflow": null,
            "overflow_x": null,
            "overflow_y": null,
            "padding": null,
            "right": null,
            "top": null,
            "visibility": null,
            "width": null
          }
        },
        "3ecb1289387a44d392c06fe3cdbe23aa": {
          "model_module": "@jupyter-widgets/controls",
          "model_name": "DescriptionStyleModel",
          "model_module_version": "1.5.0",
          "state": {
            "_model_module": "@jupyter-widgets/controls",
            "_model_module_version": "1.5.0",
            "_model_name": "DescriptionStyleModel",
            "_view_count": null,
            "_view_module": "@jupyter-widgets/base",
            "_view_module_version": "1.2.0",
            "_view_name": "StyleView",
            "description_width": ""
          }
        }
      }
    }
  },
  "cells": [
    {
      "cell_type": "markdown",
      "metadata": {
        "id": "view-in-github",
        "colab_type": "text"
      },
      "source": [
        "<a href=\"https://colab.research.google.com/github/dbtjr1103/Basic_practice/blob/main/custom_augmentation.ipynb\" target=\"_parent\"><img src=\"https://colab.research.google.com/assets/colab-badge.svg\" alt=\"Open In Colab\"/></a>"
      ]
    },
    {
      "cell_type": "markdown",
      "source": [
        "### 크롭한 것 12개 합치기"
      ],
      "metadata": {
        "id": "Ig9SLjrdLxqq"
      }
    },
    {
      "cell_type": "code",
      "source": [
        "import cv2\n",
        "import matplotlib.pyplot as plt\n",
        "import numpy as np\n",
        "import glob\n",
        "import random\n",
        "from tqdm.notebook import tqdm\n",
        "\n",
        "def crop_12(path_im,path_lb,iter_num):\n",
        "    all_img = glob.glob(path_im + '/*.jpg') # 이미지 경로\n",
        "    all_lbl = glob.glob(path_lb + '/*.txt') # 라벨 경로\n",
        "    all_img.sort()\n",
        "    all_lbl.sort() \n",
        "    for number in tqdm(range(iter_num)):\n",
        "        data_list = random.sample(range(len(all_img)), 12)# 전체 경로의 파일수 중 12개 랜덤추출\n",
        "        im_paths = [all_img[i] for i in data_list]\n",
        "        lb_paths = [all_lbl[i] for i in data_list]\n",
        "        # 라벨 담아줄 딕셔너리 / minmax는 박스 그리려고 생성\n",
        "        new_label_dic = {'new_label_json': [], 'new_label_txt':[], 'new_label_minmax':[]}\n",
        "        with open(path_lb + f'/concat12_image{number}.txt', \"a\") as f:\n",
        "            f.truncate(0)\n",
        "        for idx,(img_path,label_path) in enumerate(zip(im_paths,lb_paths)):\n",
        "            # Load image\n",
        "            plt.axis(\"off\") # 축 제거\n",
        "            img = cv2.imread(img_path)\n",
        "            with open(label_path, \"r\") as f:\n",
        "                data = f.readline()\n",
        "            list_data = data.strip().split(' ')\n",
        "            # 로보플로로 크롭한 이미지 -> 센터와 너비 높이로 구성\n",
        "            x_center = 640*float(list_data[1])\n",
        "            y_center = 640*float(list_data[2])\n",
        "            width = 640*float(list_data[3])\n",
        "            height = 640*float(list_data[4])\n",
        "            # minmax 형식으로 변환\n",
        "            ogn_x_min = x_center - (width/2)\n",
        "            ogn_x_max = x_center + (width/2)\n",
        "            ogn_y_min = y_center - (height/2)\n",
        "            ogn_y_max = y_center + (height/2)\n",
        "            # 새로운 라벨 사전작업 좌표이동 전\n",
        "            bf_x_min = 0\n",
        "            bf_x_max = ogn_x_max - ogn_x_min\n",
        "            bf_y_min = 0\n",
        "            bf_y_max = ogn_y_min - ogn_y_max\n",
        "            # 라벨 txt 형식 좌표이동 전\n",
        "            bf_ctr_x = (bf_x_max + bf_x_min) / 2\n",
        "            bf_ctr_y = (bf_y_max + bf_y_min) / 2\n",
        "            bf_width = bf_x_max\n",
        "            bf_height = bf_y_max\n",
        "            # 새로운 라벨 \n",
        "            if idx < 6: # 위 이미지\n",
        "                af_y_min = 20 # 패딩 준 만큽 \n",
        "                af_y_max = 20 + 250\n",
        "                af_x_min = idx*105 + 5\n",
        "                af_x_max = idx*105 + 110\n",
        "            else: # 아래 이미지\n",
        "                af_y_min = 320 + 20\n",
        "                af_y_max = 320 + 20 + 250\n",
        "                af_x_min = (idx-6)*105 + 5\n",
        "                af_x_max = (idx-6)*105 + 110\n",
        "            # 새로운 라벨 - json 후\n",
        "            af_ctr_x = (af_x_max + af_x_min) / 2\n",
        "            af_ctr_y = (af_y_max + af_y_min) / 2\n",
        "            af_width = af_x_max - af_x_min\n",
        "            af_height = af_y_max - af_y_min\n",
        "            # 새로운 라벨 비율 - txt 후\n",
        "            ratio_x = af_ctr_x / 640\n",
        "            ratio_y = af_ctr_y / 640\n",
        "            ratio_width = af_width / 640\n",
        "            ratio_height = af_height / 640\n",
        "            # 박스 그리기용 \n",
        "            new_label_minmax = f'{list_data[0]} {af_x_min} {af_x_max} {af_y_min} {af_y_max}'\n",
        "            # json 라벨  x_min y_min x_max y_max\n",
        "            new_label_json = f'{list_data[0]} {af_ctr_x} {af_ctr_y} {af_width} {af_height}' \n",
        "            # txt 라벨  x y width height\n",
        "            new_label_txt = f'{list_data[0]} {ratio_x} {ratio_y} {ratio_width} {ratio_height}'\n",
        "            # 라벨들 저장\n",
        "            new_label_dic['new_label_json'].append(new_label_json)\n",
        "            new_label_dic['new_label_txt'].append(new_label_txt)\n",
        "            new_label_dic['new_label_minmax'].append(new_label_minmax)\n",
        "            with open(path_lb + f'/concat12_image{number}.txt','a') as f:\n",
        "                if idx == 11:\n",
        "                    f.write(new_label_txt)\n",
        "                else:\n",
        "                    f.write(new_label_txt + '\\n')\n",
        "            #Cropped data(이미지 라벨로 크롭 후 자르기)\n",
        "            start = (int(ogn_y_min),int(ogn_x_min))\n",
        "            end = (int(ogn_y_max),int(ogn_x_max))\n",
        "            output = np.zeros((end[0]-start[0], end[1]-start[1], 3), np.uint8)\n",
        "            for y in range(output.shape[1]):\n",
        "                for x in range(output.shape[0]):\n",
        "                    xp, yp = x + start[0], y+start[1]\n",
        "                    output[x,y] = img[xp,yp]\n",
        "            if idx == 0: # 1행 6열 2개를 합치는 방식\n",
        "                concat_img1 = output # 처음 크롭한 것은 concat1에 적절한 이미지 크기로 넣어줌\n",
        "                concat_img1 = cv2.resize(concat_img1,(105,300))\n",
        "            elif idx > 0 and idx < 6: # 2-6번째 이미지는 리사이즈 후 합침\n",
        "                output = cv2.resize(output,(105,300))\n",
        "                concat_img1 = cv2.hconcat([concat_img1,output]) # 가로로 합치는 코드\n",
        "            elif idx == 6:\n",
        "                concat_img1 = cv2.rectangle(concat_img1, (0, 320), (640, 250), (0, 0, 0), -1) # concat1 아래부분 가리기\n",
        "                concat_img1 = cv2.copyMakeBorder(concat_img1,20,0,5,5,cv2.BORDER_CONSTANT) # concat1의 패딩\n",
        "                concat_img2 = output # 2행 1열 이미지\n",
        "                concat_img2 = cv2.resize(concat_img2,(105,300))\n",
        "            elif idx == 11: # 마지막 concat후\n",
        "                output = cv2.resize(output,(105,300))\n",
        "                concat_img2 = cv2.hconcat([concat_img2,output])\n",
        "                concat_img2 = cv2.rectangle(concat_img2, (0, 320), (640, 250), (0, 0, 0), -1) # concat2 아래부분 가리기\n",
        "                concat_img2 = cv2.copyMakeBorder(concat_img2,20,0,5,5,cv2.BORDER_CONSTANT) # concat2의 패딩\n",
        "            else: # 2행 나머지 concat2에 합치기\n",
        "                output = cv2.resize(output,(105,300))\n",
        "                concat_img2 = cv2.hconcat([concat_img2,output])\n",
        "        # 만들어지 1행 6열 2개를 세로로 합침\n",
        "        concat_img = cv2.vconcat([concat_img1,concat_img2])\n",
        "        # print(concat_img.shape) # 크기확인\n",
        "        # box 쳐주기 예시\n",
        "        # for label in new_label_dic['new_label_minmax']:\n",
        "        #     # print(label)\n",
        "        #     label = label.split(' ')\n",
        "        #     concat_img = cv2.rectangle(concat_img, (int(label[1]), int(label[3])),(int(label[2]), int(label[4])), (0, 255, 0), 2)\n",
        "        # plt.imshow(concat_img)\n",
        "        cv2.imwrite(path_im + f'/concat12_image{number}.jpg',concat_img)"
      ],
      "metadata": {
        "id": "WlV56FEwU_aQ"
      },
      "execution_count": null,
      "outputs": []
    },
    {
      "cell_type": "markdown",
      "source": [
        "### 크롭 한 것 48개 합치기 - 랜덤"
      ],
      "metadata": {
        "id": "ZRw-R3Fg5_sF"
      }
    },
    {
      "cell_type": "code",
      "source": [
        "import cv2\n",
        "import matplotlib.pyplot as plt\n",
        "import numpy as np\n",
        "import glob\n",
        "import random\n",
        "from tqdm.notebook import tqdm\n",
        "\n",
        "def crop_48(path_im,path_lb,iter_num):\n",
        "    all_img = glob.glob(path_im + '/*.jpg') # 이미지 경로\n",
        "    all_lbl = glob.glob(path_lb + '/*.txt') # 라벨 경로\n",
        "    all_img.sort()\n",
        "    all_lbl.sort() \n",
        "    for number in tqdm(range(iter_num)):\n",
        "        data_list = random.sample(range(len(all_img)), 48)# 전체 경로의 파일수 중 12개 랜덤추출\n",
        "        im_paths = [all_img[i] for i in data_list]\n",
        "        lb_paths = [all_lbl[i] for i in data_list]\n",
        "        # 라벨 담아줄 딕셔너리 / minmax는 박스 그리려고 생성\n",
        "        new_label_dic = {'new_label_json': [], 'new_label_txt':[], 'new_label_minmax':[]}\n",
        "        with open(path_lb + f'/concat48_image{number}.txt', \"a\") as f:\n",
        "            f.truncate(0)\n",
        "        for idx,(img_path,label_path) in enumerate(zip(im_paths,lb_paths)):\n",
        "            # Load image\n",
        "            plt.axis(\"off\") # 축 제거\n",
        "            img = cv2.imread(img_path)\n",
        "            with open(label_path, \"r\") as f:\n",
        "                data = f.readline()\n",
        "            list_data = data.strip().split(' ')\n",
        "            # minmax 형식으로 변환\n",
        "            ogn_x_min = 640*float(list_data[1]) - (640*float(list_data[3])/2)\n",
        "            ogn_x_max = 640*float(list_data[1]) + (640*float(list_data[3])/2)\n",
        "            ogn_y_min = 640*float(list_data[2]) - (640*float(list_data[4])/2)\n",
        "            ogn_y_max = 640*float(list_data[2]) + (640*float(list_data[4])/2)\n",
        "            # 라벨 txt 형식 좌표이동 전\n",
        "            bf_ctr_x = (ogn_x_max - ogn_x_min + 0) / 2\n",
        "            bf_ctr_y = (ogn_y_min - ogn_y_max + 0) / 2\n",
        "            bf_width = ogn_x_max - ogn_x_min\n",
        "            bf_height = ogn_y_min - ogn_y_max\n",
        "            # 새로운 라벨         \n",
        "            af_y_min = 160*(idx//12) + 10\n",
        "            af_y_max = 160*(idx//12) + 10 + 125\n",
        "            af_x_min = (idx-12*(idx//12))*53 + 2\n",
        "            af_x_max = (idx-12*(idx//12))*53 + 55\n",
        "            # 새로운 라벨 - json 후\n",
        "            af_ctr_x = (af_x_max + af_x_min) / 2\n",
        "            af_ctr_y = (af_y_max + af_y_min) / 2\n",
        "            af_width = af_x_max - af_x_min\n",
        "            af_height = af_y_max - af_y_min\n",
        "            # 새로운 라벨 비율 - txt 후\n",
        "            ratio_x = af_ctr_x / 640\n",
        "            ratio_y = af_ctr_y / 640\n",
        "            ratio_width = af_width / 640\n",
        "            ratio_height = af_height / 640\n",
        "            # 박스 그리기용 \n",
        "            new_label_minmax = f'{list_data[0]} {af_x_min} {af_x_max} {af_y_min} {af_y_max}'\n",
        "            # json 라벨  x_min y_min x_max y_max\n",
        "            new_label_json = f'{list_data[0]} {af_ctr_x} {af_ctr_y} {af_width} {af_height}' \n",
        "            # txt 라벨  x y width height\n",
        "            new_label_txt = f'{list_data[0]} {ratio_x} {ratio_y} {ratio_width} {ratio_height}'\n",
        "            # 라벨들 저장\n",
        "            new_label_dic['new_label_json'].append(new_label_json)\n",
        "            new_label_dic['new_label_txt'].append(new_label_txt)\n",
        "            new_label_dic['new_label_minmax'].append(new_label_minmax)\n",
        "            with open(path_lb + f'/concat48_image{number}.txt','a') as f:\n",
        "            # with open('/content/Dairy-Product-5/train2/labels' + f'/concat48_image{number}.txt','a') as f:\n",
        "                if idx == 47:\n",
        "                    f.write(new_label_txt)\n",
        "                else:\n",
        "                    f.write(new_label_txt + '\\n')\n",
        "            #Cropped data(이미지 라벨로 크롭 후 자르기)\n",
        "            start = (int(ogn_y_min),int(ogn_x_min))\n",
        "            end = (int(ogn_y_max),int(ogn_x_max))\n",
        "            output = np.zeros((end[0]-start[0], end[1]-start[1], 3), np.uint8)\n",
        "            for y in range(output.shape[1]):\n",
        "                for x in range(output.shape[0]):\n",
        "                    xp, yp = x + start[0], y+start[1]\n",
        "                    output[x,y] = img[xp,yp]\n",
        "            if idx == 0: # 1행 6열 2개를 합치는 방식\n",
        "                concat_img1 = output # 처음 크롭한 것은 concat1에 적절한 이미지 크기로 넣어줌\n",
        "                concat_img1 = cv2.resize(concat_img1,(53,150))\n",
        "            elif idx > 0 and idx < 12: # 2-6번째 이미지는 리사이즈 후 합침\n",
        "                output = cv2.resize(output,(53,150))\n",
        "                concat_img1 = cv2.hconcat([concat_img1,output]) # 가로로 합치는 코드\n",
        "            elif idx == 12 or idx == 24 or idx == 36:\n",
        "                if idx == 12:\n",
        "                    concat_img1 = cv2.rectangle(concat_img1, (0, 160), (640, 125), (0, 0, 0), -1) # concat1 아래부분 가리기\n",
        "                    concat_img1 = cv2.copyMakeBorder(concat_img1,10,0,2,2,cv2.BORDER_CONSTANT)\n",
        "                concat_img2 = output # 2행 1열 이미지\n",
        "                concat_img2 = cv2.resize(concat_img2,(53,150))\n",
        "            elif idx == 47 or idx == 23 or idx == 35: # 마지막 concat후\n",
        "                output = cv2.resize(output,(53,150))\n",
        "                concat_img2 = cv2.hconcat([concat_img2,output])\n",
        "                concat_img2 = cv2.rectangle(concat_img2, (0, 160), (640, 125), (0, 0, 0), -1) # concat2 아래부분 가리기\n",
        "                concat_img2 = cv2.copyMakeBorder(concat_img2,10,0,2,2,cv2.BORDER_CONSTANT) # concat2의 패딩\n",
        "                concat_img1 = cv2.vconcat([concat_img1,concat_img2])\n",
        "            elif idx > 12 and (idx not in [0,12,23,24,35,36,47]): # 2행 나머지 concat2에 합치기\n",
        "                output = cv2.resize(output,(53,150))\n",
        "                concat_img2 = cv2.hconcat([concat_img2,output])\n",
        "        # print(concat_img1.shape) # 크기확인\n",
        "        # # box 쳐주기 예시\n",
        "        # for label in new_label_dic['new_label_minmax']:\n",
        "        #     # print(label)\n",
        "        #     label = label.split(' ')\n",
        "        #     concat_img1 = cv2.rectangle(concat_img1, (int(label[1]), int(label[3])),(int(label[2]), int(label[4])), (0, 255, 0), 2)\n",
        "        # plt.imshow(concat_img1)\n",
        "        cv2.imwrite(path_im + f'/concat48_image{number}.jpg',concat_img1)\n",
        "        # cv2.imwrite('/content/Dairy-Product-5/train2/images' + f'/concat48_image{number}.jpg',concat_img1)"
      ],
      "metadata": {
        "id": "MMt9_5u79Ma0"
      },
      "execution_count": null,
      "outputs": []
    },
    {
      "cell_type": "code",
      "execution_count": null,
      "metadata": {
        "colab": {
          "base_uri": "https://localhost:8080/"
        },
        "id": "LrU3ITPj2Jtb",
        "outputId": "e78dfa0f-9bc7-4b7e-9552-988286c1d892"
      },
      "outputs": [
        {
          "output_type": "stream",
          "name": "stdout",
          "text": [
            "loading Roboflow workspace...\n",
            "loading Roboflow project...\n",
            "Downloading Dataset Version Zip in Dairy_New-1 to yolov8: 100% [42142230 / 42142230] bytes\n"
          ]
        },
        {
          "output_type": "stream",
          "name": "stderr",
          "text": [
            "Extracting Dataset Version Zip to Dairy_New-1 in yolov8:: 100%|██████████| 2290/2290 [00:00<00:00, 2413.81it/s]\n"
          ]
        }
      ],
      "source": [
        "from roboflow import Roboflow\n",
        "rf = Roboflow(api_key=\"qGwguWtA0jklwjG4hM6E\")\n",
        "project = rf.workspace(\"dairynew\").project(\"dairy_new\")\n",
        "dataset = project.version(1).download(\"yolov8\")"
      ]
    },
    {
      "cell_type": "code",
      "source": [
        "path_im = '/content/Dairy_New-1/train/images'\n",
        "path_lb = '/content/Dairy_New-1/train/labels'\n",
        "print(len(glob.glob(path_im + '/*.jpg')),len(glob.glob(path_lb + '/*.txt')))"
      ],
      "metadata": {
        "colab": {
          "base_uri": "https://localhost:8080/"
        },
        "id": "VnAeSNeA2W-l",
        "outputId": "267fa877-6b89-485b-c9fd-870f7e0db0d2"
      },
      "execution_count": null,
      "outputs": [
        {
          "output_type": "stream",
          "name": "stdout",
          "text": [
            "554 554\n"
          ]
        }
      ]
    },
    {
      "cell_type": "code",
      "source": [
        "crop_48(path_im,path_lb,1)\n",
        "print(len(glob.glob(path_im + '/*.jpg')),len(glob.glob(path_lb + '/*.txt')))\n",
        "img = cv2.imread('/content/Dairy_New-1/train/images/concat48_image0.jpg')\n",
        "plt.imshow(img)"
      ],
      "metadata": {
        "colab": {
          "base_uri": "https://localhost:8080/",
          "height": 317,
          "referenced_widgets": [
            "d9b865cdde6d41f0b4f72c44d3656031",
            "43efa2ca1f3d4f27842b4324bb402204",
            "79ba7eafd6f1474ba5553f73fc3e6fe7",
            "5e3ec33524ec4034a0f4491ac72971e0",
            "51300a4bec3d4cfe96382e0b04a685d3",
            "60f42c6a80484e4abf87c4985884ecbc",
            "264ddc881af94514bb404ae399781c7a",
            "dd64e91cac214d26a5de9bde1ba57e26",
            "ee1267865ff54b08836b7b551638ecf8",
            "db78fdd1e985497c9f516626101efe63",
            "7b12c839e41140e9a362aaa1ead70d67"
          ]
        },
        "id": "BdOAY0CX4BvY",
        "outputId": "a677849c-7c2c-466f-9f7d-852115c2280d"
      },
      "execution_count": null,
      "outputs": [
        {
          "output_type": "display_data",
          "data": {
            "text/plain": [
              "  0%|          | 0/1 [00:00<?, ?it/s]"
            ],
            "application/vnd.jupyter.widget-view+json": {
              "version_major": 2,
              "version_minor": 0,
              "model_id": "d9b865cdde6d41f0b4f72c44d3656031"
            }
          },
          "metadata": {}
        },
        {
          "output_type": "stream",
          "name": "stdout",
          "text": [
            "555 555\n"
          ]
        },
        {
          "output_type": "execute_result",
          "data": {
            "text/plain": [
              "<matplotlib.image.AxesImage at 0x7fbff932d190>"
            ]
          },
          "metadata": {},
          "execution_count": 7
        },
        {
          "output_type": "display_data",
          "data": {
            "text/plain": [
              "<Figure size 432x288 with 1 Axes>"
            ],
            "image/png": "[encoded data removed]"
          },
          "metadata": {
            "needs_background": "light"
          }
        }
      ]
    },
    {
      "cell_type": "code",
      "source": [
        "crop_12(path_im,path_lb,1)\n",
        "print(len(glob.glob(path_im + '/*.jpg')),len(glob.glob(path_lb + '/*.txt')))\n",
        "img = cv2.imread('/content/Dairy_New-1/train/images/concat12_image0.jpg')\n",
        "plt.imshow(img)"
      ],
      "metadata": {
        "colab": {
          "base_uri": "https://localhost:8080/",
          "height": 317,
          "referenced_widgets": [
            "8a2e1f6aaa3a4e568cdeff01519ce996",
            "47e8f285ffd14494a1e832d9b6c8a60a",
            "c75ec0c01527402ca6849a9d67a56556",
            "b4bee2332a4443759a2864e58b5cdf3b",
            "158735a41a1a434b8202005f8025ef5d",
            "ff8da242d3e94f15892900b56a2eb306",
            "6aec6e0cab644432ba1c300709e302ca",
            "e1a2568021924a12a2e0ca5a325be13d",
            "b60f52d7a20c4bea88afb400a9946157",
            "eca383cc01b04b93b0a20adfda12df6b",
            "f6da776dcc584e58a0def91995478173"
          ]
        },
        "id": "rSZQuKJ14Oba",
        "outputId": "d5febed4-f47c-458f-dee2-3e750dc25cb8"
      },
      "execution_count": null,
      "outputs": [
        {
          "output_type": "display_data",
          "data": {
            "text/plain": [
              "  0%|          | 0/1 [00:00<?, ?it/s]"
            ],
            "application/vnd.jupyter.widget-view+json": {
              "version_major": 2,
              "version_minor": 0,
              "model_id": "8a2e1f6aaa3a4e568cdeff01519ce996"
            }
          },
          "metadata": {}
        },
        {
          "output_type": "stream",
          "name": "stdout",
          "text": [
            "556 556\n"
          ]
        },
        {
          "output_type": "execute_result",
          "data": {
            "text/plain": [
              "<matplotlib.image.AxesImage at 0x7fbff7cea5e0>"
            ]
          },
          "metadata": {},
          "execution_count": 8
        },
        {
          "output_type": "display_data",
          "data": {
            "text/plain": [
              "<Figure size 432x288 with 1 Axes>"
            ],
            "image/png": "[encoded data removed]"
          },
          "metadata": {
            "needs_background": "light"
          }
        }
      ]
    },
    {
      "cell_type": "code",
      "source": [
        "path_im = '/content/Dairy_New-1/train/images'\n",
        "path_lb = '/content/Dairy_New-1/train/labels'\n",
        "print(len(glob.glob(path_im + '/*.jpg')),len(glob.glob(path_lb + '/*.txt')))\n",
        "crop_48(path_im,path_lb,100)\n",
        "crop_12(path_im,path_lb,100)\n",
        "print(len(glob.glob(path_im + '/*.jpg')),len(glob.glob(path_lb + '/*.txt')))"
      ],
      "metadata": {
        "colab": {
          "base_uri": "https://localhost:8080/",
          "height": 349,
          "referenced_widgets": [
            "981b78aaaa964a0ab0fcc80419278a37",
            "daf7f2cc31104550abf11626eb717089",
            "40e43f0a9f0842479c940f5618572951",
            "e763da745d6f42c0824f10596b526902",
            "54dfe372999642d19a199cc8796cb160",
            "834deb007b794b6b81b61fb7235f4fcf",
            "f27cc687d34a4d9eb177615759fd809c",
            "68ec38b2b6244e81b75495366910acb1",
            "87e54d23ac574470aca0e81c5c9f6c5e",
            "2c9ff6cac75b47589142bc10980cde9d",
            "aec7cef419fc41ccbfd2394ff1561b22",
            "e66d49e5480a4325b5541dd315773c5b",
            "44f94d97843f434b987ffc3916f28e20",
            "745ce86dc6334d258df098dbbbc08926",
            "524940032ec24503aed4cca967d9d1e6",
            "7c039bd1be1f49f59858acbc25585d73",
            "1a54ac9f4ea047aebd64e0039b1ec2ba",
            "d0ba15a5326a4f229715d61053dde9ab",
            "8cc73887d776479a81297b8bf6fe9b75",
            "d571b828a67a429b86254f020f59e894",
            "f6a64084cf354ba78c9abaaba3564adc",
            "d4a5a32bfb294054ba33faa9e8dd8c16"
          ]
        },
        "id": "hxhbVoiP4UBO",
        "outputId": "7837939e-cee9-4055-955e-800bf6811ad0"
      },
      "execution_count": null,
      "outputs": [
        {
          "output_type": "stream",
          "name": "stdout",
          "text": [
            "556 556\n"
          ]
        },
        {
          "output_type": "display_data",
          "data": {
            "text/plain": [
              "  0%|          | 0/100 [00:00<?, ?it/s]"
            ],
            "application/vnd.jupyter.widget-view+json": {
              "version_major": 2,
              "version_minor": 0,
              "model_id": "981b78aaaa964a0ab0fcc80419278a37"
            }
          },
          "metadata": {}
        },
        {
          "output_type": "display_data",
          "data": {
            "text/plain": [
              "  0%|          | 0/100 [00:00<?, ?it/s]"
            ],
            "application/vnd.jupyter.widget-view+json": {
              "version_major": 2,
              "version_minor": 0,
              "model_id": "e66d49e5480a4325b5541dd315773c5b"
            }
          },
          "metadata": {}
        },
        {
          "output_type": "stream",
          "name": "stdout",
          "text": [
            "754 754\n"
          ]
        },
        {
          "output_type": "display_data",
          "data": {
            "text/plain": [
              "<Figure size 432x288 with 1 Axes>"
            ],
            "image/png": "[encoded data removed]"
          },
          "metadata": {
            "needs_background": "light"
          }
        }
      ]
    },
    {
      "cell_type": "code",
      "source": [
        "!pip install ultralytics"
      ],
      "metadata": {
        "id": "LbgZI1sF68Lb"
      },
      "execution_count": null,
      "outputs": []
    },
    {
      "cell_type": "code",
      "source": [
        "!git clone https://github.com/dbtjr1103/YOLOv8.0.3.git"
      ],
      "metadata": {
        "colab": {
          "base_uri": "https://localhost:8080/"
        },
        "id": "_sDycfFR6_kS",
        "outputId": "874cd1d7-2f42-4c9b-ac7d-aafd51a0d618"
      },
      "execution_count": null,
      "outputs": [
        {
          "output_type": "stream",
          "name": "stdout",
          "text": [
            "Cloning into 'YOLOv8.0.3'...\n",
            "remote: Enumerating objects: 195, done.\u001b[K\n",
            "remote: Counting objects: 100% (195/195), done.\u001b[K\n",
            "remote: Compressing objects: 100% (163/163), done.\u001b[K\n",
            "remote: Total 195 (delta 32), reused 138 (delta 25), pack-reused 0\u001b[K\n",
            "Receiving objects: 100% (195/195), 907.10 KiB | 20.62 MiB/s, done.\n",
            "Resolving deltas: 100% (32/32), done.\n"
          ]
        }
      ]
    },
    {
      "cell_type": "code",
      "source": [
        "cd YOLOv8.0.3"
      ],
      "metadata": {
        "colab": {
          "base_uri": "https://localhost:8080/"
        },
        "id": "wFD22nvqAIlg",
        "outputId": "ca293593-ad38-4e93-85f2-b59c3a5f3753"
      },
      "execution_count": null,
      "outputs": [
        {
          "output_type": "stream",
          "name": "stdout",
          "text": [
            "/content/YOLOv8.0.3\n"
          ]
        }
      ]
    },
    {
      "cell_type": "code",
      "source": [
        "!pip install -qr requirements.txt"
      ],
      "metadata": {
        "id": "sIbn_cYmAIom"
      },
      "execution_count": null,
      "outputs": []
    },
    {
      "cell_type": "code",
      "source": [
        "from ultralytics import YOLO\n",
        "from IPython.display import display, Image\n",
        "model = YOLO('yolov8n.pt')"
      ],
      "metadata": {
        "colab": {
          "base_uri": "https://localhost:8080/",
          "height": 86,
          "referenced_widgets": [
            "df3d6419a3da445eb987e78902867419",
            "6aebae52020d44d7981aade8ab0b3223",
            "793f3375797b4e38ba4cdc4f8b1770e5",
            "731608383bac44c79dce5eea73b84ce5",
            "aebc70ac8ea7456f93292af23462dca5",
            "c40aacd92fa54301afad8192412c5ee4",
            "fdd2a399759a4ff09580827fe8d517bf",
            "fcf00799e87046ff96738f8d15ad2837",
            "745c6438f51944fe8af71e975ff6e23f",
            "92267bfde6a744a2a5f2bfcb349c1f20",
            "1e3166a7301945e58319f5d5a01141a8"
          ]
        },
        "id": "r-KbsjUrAIrG",
        "outputId": "b3bf0489-348d-4cf6-b757-61fda03fd9d9"
      },
      "execution_count": null,
      "outputs": [
        {
          "output_type": "stream",
          "name": "stderr",
          "text": [
            "Downloading https://github.com/ultralytics/assets/releases/download/v0.0.0/yolov8n.pt to yolov8n.pt...\n"
          ]
        },
        {
          "output_type": "display_data",
          "data": {
            "text/plain": [
              "  0%|          | 0.00/6.24M [00:00<?, ?B/s]"
            ],
            "application/vnd.jupyter.widget-view+json": {
              "version_major": 2,
              "version_minor": 0,
              "model_id": "df3d6419a3da445eb987e78902867419"
            }
          },
          "metadata": {}
        },
        {
          "output_type": "stream",
          "name": "stderr",
          "text": [
            "\n"
          ]
        }
      ]
    },
    {
      "cell_type": "code",
      "source": [
        "from IPython import display\n",
        "display.clear_output()\n",
        "!yolo mode=checks"
      ],
      "metadata": {
        "colab": {
          "base_uri": "https://localhost:8080/"
        },
        "id": "c9FXoNuFAItK",
        "outputId": "fa972100-4793-4402-acb9-400af139286c"
      },
      "execution_count": null,
      "outputs": [
        {
          "output_type": "stream",
          "name": "stdout",
          "text": [
            "\u001b[2K\r\u001b[2K\rUltralytics YOLOv8.0.5 🚀 Python-3.8.16 torch-1.13.0+cu116 CUDA:0 (Tesla T4, 15110MiB)\n",
            "Setup complete ✅ (2 CPUs, 12.7 GB RAM, 23.2/166.8 GB disk)\n"
          ]
        }
      ]
    },
    {
      "cell_type": "code",
      "source": [
        "!yolo task=detect mode=train model=yolov8n.pt data=Dairy_New-1/data.yaml epochs=2 imgsz=640  --config-name=default.yaml --config-path=/content/YOLOv8.0.3/ultralytics/yolo/configs"
      ],
      "metadata": {
        "colab": {
          "base_uri": "https://localhost:8080/"
        },
        "id": "eZoAS3riAIyJ",
        "outputId": "666e514c-56c1-4fe0-f22e-ca75baeede38"
      },
      "execution_count": null,
      "outputs": [
        {
          "output_type": "stream",
          "name": "stdout",
          "text": [
            "Ultralytics YOLOv8.0.5 🚀 Python-3.8.16 torch-1.13.0+cu116 CUDA:0 (Tesla T4, 15110MiB)\n",
            "\u001b[34m\u001b[1myolo/engine/trainer: \u001b[0mtask=detect, mode=train, model=yolov8n.pt, data=Dairy_New-1/data.yaml, epochs=2, patience=50, batch=16, imgsz=640, save=True, cache=False, device=, workers=8, project=None, name=None, exist_ok=False, pretrained=False, optimizer=SGD, verbose=False, seed=0, deterministic=True, single_cls=False, image_weights=False, rect=False, cos_lr=False, close_mosaic=1, resume=False, overlap_mask=True, mask_ratio=4, dropout=0.0, val=True, save_json=False, save_hybrid=False, conf=None, iou=0.7, max_det=300, half=False, dnn=False, plots=True, source=None, show=False, save_txt=False, save_conf=False, save_crop=False, hide_labels=False, hide_conf=False, vid_stride=1, line_thickness=3, visualize=False, augment=False, agnostic_nms=False, retina_masks=False, format=torchscript, keras=False, optimize=False, int8=False, dynamic=False, simplify=False, opset=17, workspace=4, nms=False, lr0=0.01, lrf=0.01, momentum=0.937, weight_decay=0.0005, warmup_epochs=3.0, warmup_momentum=0.8, warmup_bias_lr=0.1, box=7.5, cls=0.5, dfl=1.5, fl_gamma=0.0, label_smoothing=0.0, nbs=64, hsv_h=0.015, hsv_s=0.7, hsv_v=0.4, degrees=0.0, translate=0.1, scale=0.5, shear=0.0, perspective=0.0, flipud=0.0, fliplr=0.0, mosaic=0.0, mixup=0.0, copy_paste=0.0, cfg=None, hydra={'output_subdir': None, 'run': {'dir': '.'}}, v5loader=False, save_dir=runs/detect/train12\n",
            "Overriding model.yaml nc=80 with nc=10\n",
            "\n",
            "                   from  n    params  module                                       arguments                     \n",
            "  0                  -1  1       464  ultralytics.nn.modules.Conv                  [3, 16, 3, 2]                 \n",
            "  1                  -1  1      4672  ultralytics.nn.modules.Conv                  [16, 32, 3, 2]                \n",
            "  2                  -1  1      7360  ultralytics.nn.modules.C2f                   [32, 32, 1, True]             \n",
            "  3                  -1  1     18560  ultralytics.nn.modules.Conv                  [32, 64, 3, 2]                \n",
            "  4                  -1  2     49664  ultralytics.nn.modules.C2f                   [64, 64, 2, True]             \n",
            "  5                  -1  1     73984  ultralytics.nn.modules.Conv                  [64, 128, 3, 2]               \n",
            "  6                  -1  2    197632  ultralytics.nn.modules.C2f                   [128, 128, 2, True]           \n",
            "  7                  -1  1    295424  ultralytics.nn.modules.Conv                  [128, 256, 3, 2]              \n",
            "  8                  -1  1    460288  ultralytics.nn.modules.C2f                   [256, 256, 1, True]           \n",
            "  9                  -1  1    164608  ultralytics.nn.modules.SPPF                  [256, 256, 5]                 \n",
            " 10                  -1  1         0  torch.nn.modules.upsampling.Upsample         [None, 2, 'nearest']          \n",
            " 11             [-1, 6]  1         0  ultralytics.nn.modules.Concat                [1]                           \n",
            " 12                  -1  1    148224  ultralytics.nn.modules.C2f                   [384, 128, 1]                 \n",
            " 13                  -1  1         0  torch.nn.modules.upsampling.Upsample         [None, 2, 'nearest']          \n",
            " 14             [-1, 4]  1         0  ultralytics.nn.modules.Concat                [1]                           \n",
            " 15                  -1  1     37248  ultralytics.nn.modules.C2f                   [192, 64, 1]                  \n",
            " 16                  -1  1     36992  ultralytics.nn.modules.Conv                  [64, 64, 3, 2]                \n",
            " 17            [-1, 12]  1         0  ultralytics.nn.modules.Concat                [1]                           \n",
            " 18                  -1  1    123648  ultralytics.nn.modules.C2f                   [192, 128, 1]                 \n",
            " 19                  -1  1    147712  ultralytics.nn.modules.Conv                  [128, 128, 3, 2]              \n",
            " 20             [-1, 9]  1         0  ultralytics.nn.modules.Concat                [1]                           \n",
            " 21                  -1  1    493056  ultralytics.nn.modules.C2f                   [384, 256, 1]                 \n",
            " 22        [15, 18, 21]  1    753262  ultralytics.nn.modules.Detect                [10, [64, 128, 256]]          \n",
            "Model summary: 225 layers, 3012798 parameters, 3012782 gradients, 8.2 GFLOPs\n",
            "\n",
            "Transferred 319/355 items from pretrained weights\n",
            "\u001b[34m\u001b[1moptimizer:\u001b[0m SGD(lr=0.01) with parameter groups 57 weight(decay=0.0), 64 weight(decay=0.0005), 63 bias\n",
            "\u001b[34m\u001b[1mtrain: \u001b[0mScanning /content/YOLOv8.0.3/Dairy_New-1/train/labels.cache... 754 images, 0 backgrounds, 0 corrupt: 100% 754/754 [00:00<?, ?it/s]\n",
            "\u001b[34m\u001b[1malbumentations: \u001b[0mBlur(p=0.01, blur_limit=(3, 7)), MedianBlur(p=0.01, blur_limit=(3, 7)), ToGray(p=0.01), CLAHE(p=0.01, clip_limit=(1, 4.0), tile_grid_size=(8, 8))\n",
            "\u001b[34m\u001b[1mval: \u001b[0mScanning /content/YOLOv8.0.3/Dairy_New-1/valid/labels.cache... 292 images, 0 backgrounds, 0 corrupt: 100% 292/292 [00:00<?, ?it/s]\n",
            "Image sizes 640 train, 640 val\n",
            "Using 2 dataloader workers\n",
            "Logging results to \u001b[1mruns/detect/train12\u001b[0m\n",
            "Starting training for 2 epochs...\n",
            "\n",
            "      Epoch    GPU_mem   box_loss   cls_loss   dfl_loss  Instances       Size\n",
            "        1/2      2.47G          0        inf          0          0        640: 100% 48/48 [00:14<00:00,  3.30it/s]\n",
            "/usr/local/lib/python3.8/dist-packages/torch/optim/lr_scheduler.py:138: UserWarning: Detected call of `lr_scheduler.step()` before `optimizer.step()`. In PyTorch 1.1.0 and later, you should call them in the opposite order: `optimizer.step()` before `lr_scheduler.step()`.  Failure to do this will result in PyTorch skipping the first value of the learning rate schedule. See more details at https://pytorch.org/docs/stable/optim.html#how-to-adjust-learning-rate\n",
            "  warnings.warn(\"Detected call of `lr_scheduler.step()` before `optimizer.step()`. \"\n",
            "                 Class     Images  Instances      Box(P          R      mAP50  mAP50-95): 100% 10/10 [00:03<00:00,  2.51it/s]\n",
            "                   all        292        743    0.00738      0.799      0.021    0.00784\n",
            "Closing dataloader mosaic\n",
            "\u001b[34m\u001b[1malbumentations: \u001b[0mBlur(p=0.01, blur_limit=(3, 7)), MedianBlur(p=0.01, blur_limit=(3, 7)), ToGray(p=0.01), CLAHE(p=0.01, clip_limit=(1, 4.0), tile_grid_size=(8, 8))\n",
            "\n",
            "      Epoch    GPU_mem   box_loss   cls_loss   dfl_loss  Instances       Size\n",
            "        2/2       3.4G      1.294      4.008      1.454        109        640:   2% 1/48 [00:01<01:05,  1.40s/it]Exception in thread Thread-11:\n",
            "Traceback (most recent call last):\n",
            "  File \"/usr/lib/python3.8/threading.py\", line 932, in _bootstrap_inner\n",
            "    self.run()\n",
            "  File \"/usr/lib/python3.8/threading.py\", line 870, in run\n",
            "    self._target(*self._args, **self._kwargs)\n",
            "  File \"/usr/local/lib/python3.8/dist-packages/ultralytics/yolo/utils/plotting.py\", line 250, in plot_images\n",
            "    annotator.box_label(box, label, color=color)\n",
            "  File \"/usr/local/lib/python3.8/dist-packages/ultralytics/yolo/utils/plotting.py\", line 63, in box_label\n",
            "    _, _, w, h = self.font.getbbox(label)  # text width, height\n",
            "AttributeError: 'FreeTypeFont' object has no attribute 'getbbox'\n",
            "        2/2       3.4G      1.364       4.07      1.395        155        640:   6% 3/48 [00:02<00:30,  1.48it/s]Exception in thread Thread-12:\n",
            "Traceback (most recent call last):\n",
            "  File \"/usr/lib/python3.8/threading.py\", line 932, in _bootstrap_inner\n",
            "    self.run()\n",
            "  File \"/usr/lib/python3.8/threading.py\", line 870, in run\n",
            "    self._target(*self._args, **self._kwargs)\n",
            "  File \"/usr/local/lib/python3.8/dist-packages/ultralytics/yolo/utils/plotting.py\", line 250, in plot_images\n",
            "    annotator.box_label(box, label, color=color)\n",
            "  File \"/usr/local/lib/python3.8/dist-packages/ultralytics/yolo/utils/plotting.py\", line 63, in box_label\n",
            "    _, _, w, h = self.font.getbbox(label)  # text width, height\n",
            "AttributeError: 'FreeTypeFont' object has no attribute 'getbbox'\n",
            "Exception in thread Thread-13:\n",
            "Traceback (most recent call last):\n",
            "  File \"/usr/lib/python3.8/threading.py\", line 932, in _bootstrap_inner\n",
            "    self.run()\n",
            "  File \"/usr/lib/python3.8/threading.py\", line 870, in run\n",
            "    self._target(*self._args, **self._kwargs)\n",
            "  File \"/usr/local/lib/python3.8/dist-packages/ultralytics/yolo/utils/plotting.py\", line 250, in plot_images\n",
            "    annotator.box_label(box, label, color=color)\n",
            "  File \"/usr/local/lib/python3.8/dist-packages/ultralytics/yolo/utils/plotting.py\", line 63, in box_label\n",
            "    _, _, w, h = self.font.getbbox(label)  # text width, height\n",
            "AttributeError: 'FreeTypeFont' object has no attribute 'getbbox'\n",
            "        2/2      3.41G      1.661      4.127      1.594         95        640: 100% 48/48 [00:15<00:00,  3.02it/s]\n",
            "                 Class     Images  Instances      Box(P          R      mAP50  mAP50-95):  10% 1/10 [00:01<00:10,  1.20s/it]Exception in thread Thread-15:\n",
            "Traceback (most recent call last):\n",
            "  File \"/usr/lib/python3.8/threading.py\", line 932, in _bootstrap_inner\n",
            "    self.run()\n",
            "  File \"/usr/lib/python3.8/threading.py\", line 870, in run\n",
            "    self._target(*self._args, **self._kwargs)\n",
            "  File \"/usr/local/lib/python3.8/dist-packages/ultralytics/yolo/utils/plotting.py\", line 250, in plot_images\n",
            "    annotator.box_label(box, label, color=color)\n",
            "  File \"/usr/local/lib/python3.8/dist-packages/ultralytics/yolo/utils/plotting.py\", line 63, in box_label\n",
            "    _, _, w, h = self.font.getbbox(label)  # text width, height\n",
            "AttributeError: 'FreeTypeFont' object has no attribute 'getbbox'\n",
            "                 Class     Images  Instances      Box(P          R      mAP50  mAP50-95):  20% 2/10 [00:02<00:08,  1.08s/it]Exception in thread Thread-17:\n",
            "Traceback (most recent call last):\n",
            "  File \"/usr/lib/python3.8/threading.py\", line 932, in _bootstrap_inner\n",
            "    self.run()\n",
            "  File \"/usr/lib/python3.8/threading.py\", line 870, in run\n",
            "    self._target(*self._args, **self._kwargs)\n",
            "  File \"/usr/local/lib/python3.8/dist-packages/ultralytics/yolo/utils/plotting.py\", line 250, in plot_images\n",
            "    annotator.box_label(box, label, color=color)\n",
            "  File \"/usr/local/lib/python3.8/dist-packages/ultralytics/yolo/utils/plotting.py\", line 63, in box_label\n",
            "    _, _, w, h = self.font.getbbox(label)  # text width, height\n",
            "AttributeError: 'FreeTypeFont' object has no attribute 'getbbox'\n",
            "                 Class     Images  Instances      Box(P          R      mAP50  mAP50-95):  30% 3/10 [00:02<00:06,  1.07it/s]Exception in thread Thread-19:\n",
            "Traceback (most recent call last):\n",
            "  File \"/usr/lib/python3.8/threading.py\", line 932, in _bootstrap_inner\n",
            "    self.run()\n",
            "  File \"/usr/lib/python3.8/threading.py\", line 870, in run\n",
            "    self._target(*self._args, **self._kwargs)\n",
            "  File \"/usr/local/lib/python3.8/dist-packages/ultralytics/yolo/utils/plotting.py\", line 250, in plot_images\n",
            "    annotator.box_label(box, label, color=color)\n",
            "  File \"/usr/local/lib/python3.8/dist-packages/ultralytics/yolo/utils/plotting.py\", line 63, in box_label\n",
            "    _, _, w, h = self.font.getbbox(label)  # text width, height\n",
            "AttributeError: 'FreeTypeFont' object has no attribute 'getbbox'\n",
            "                 Class     Images  Instances      Box(P          R      mAP50  mAP50-95): 100% 10/10 [00:05<00:00,  1.87it/s]\n",
            "                   all        292        743    0.00762       0.81     0.0316     0.0112\n",
            "\n",
            "2 epochs completed in 0.012 hours.\n",
            "Optimizer stripped from runs/detect/train12/weights/last.pt, 6.3MB\n",
            "Optimizer stripped from runs/detect/train12/weights/best.pt, 6.3MB\n",
            "\n",
            "Validating runs/detect/train12/weights/best.pt...\n",
            "Ultralytics YOLOv8.0.5 🚀 Python-3.8.16 torch-1.13.0+cu116 CUDA:0 (Tesla T4, 15110MiB)\n",
            "Fusing layers... \n",
            "Model summary: 168 layers, 3007598 parameters, 0 gradients, 8.1 GFLOPs\n",
            "                 Class     Images  Instances      Box(P          R      mAP50  mAP50-95):  10% 1/10 [00:01<00:13,  1.47s/it]Exception in thread Thread-22:\n",
            "Traceback (most recent call last):\n",
            "  File \"/usr/lib/python3.8/threading.py\", line 932, in _bootstrap_inner\n",
            "    self.run()\n",
            "  File \"/usr/lib/python3.8/threading.py\", line 870, in run\n",
            "    self._target(*self._args, **self._kwargs)\n",
            "  File \"/usr/local/lib/python3.8/dist-packages/ultralytics/yolo/utils/plotting.py\", line 250, in plot_images\n",
            "    annotator.box_label(box, label, color=color)\n",
            "  File \"/usr/local/lib/python3.8/dist-packages/ultralytics/yolo/utils/plotting.py\", line 63, in box_label\n",
            "    _, _, w, h = self.font.getbbox(label)  # text width, height\n",
            "AttributeError: 'FreeTypeFont' object has no attribute 'getbbox'\n",
            "                 Class     Images  Instances      Box(P          R      mAP50  mAP50-95):  20% 2/10 [00:02<00:10,  1.29s/it]Exception in thread Thread-24:\n",
            "Traceback (most recent call last):\n",
            "  File \"/usr/lib/python3.8/threading.py\", line 932, in _bootstrap_inner\n",
            "    self.run()\n",
            "  File \"/usr/lib/python3.8/threading.py\", line 870, in run\n",
            "    self._target(*self._args, **self._kwargs)\n",
            "  File \"/usr/local/lib/python3.8/dist-packages/ultralytics/yolo/utils/plotting.py\", line 250, in plot_images\n",
            "    annotator.box_label(box, label, color=color)\n",
            "  File \"/usr/local/lib/python3.8/dist-packages/ultralytics/yolo/utils/plotting.py\", line 63, in box_label\n",
            "    _, _, w, h = self.font.getbbox(label)  # text width, height\n",
            "AttributeError: 'FreeTypeFont' object has no attribute 'getbbox'\n",
            "                 Class     Images  Instances      Box(P          R      mAP50  mAP50-95):  30% 3/10 [00:03<00:08,  1.21s/it]Exception in thread Thread-26:\n",
            "Traceback (most recent call last):\n",
            "  File \"/usr/lib/python3.8/threading.py\", line 932, in _bootstrap_inner\n",
            "    self.run()\n",
            "  File \"/usr/lib/python3.8/threading.py\", line 870, in run\n",
            "    self._target(*self._args, **self._kwargs)\n",
            "  File \"/usr/local/lib/python3.8/dist-packages/ultralytics/yolo/utils/plotting.py\", line 250, in plot_images\n",
            "    annotator.box_label(box, label, color=color)\n",
            "  File \"/usr/local/lib/python3.8/dist-packages/ultralytics/yolo/utils/plotting.py\", line 63, in box_label\n",
            "    _, _, w, h = self.font.getbbox(label)  # text width, height\n",
            "AttributeError: 'FreeTypeFont' object has no attribute 'getbbox'\n",
            "                 Class     Images  Instances      Box(P          R      mAP50  mAP50-95): 100% 10/10 [00:06<00:00,  1.49it/s]\n",
            "                   all        292        743    0.00763      0.811     0.0317     0.0112\n",
            "                     0        292         86     0.0112       0.86     0.0322     0.0116\n",
            "                     1        292        101    0.00586      0.792     0.0392     0.0125\n",
            "                     2        292         62    0.00483      0.952     0.0295     0.0103\n",
            "                     3        292         76    0.00657      0.763      0.014    0.00564\n",
            "                     4        292         52    0.00502      0.788      0.026    0.00816\n",
            "                     5        292         67    0.00695      0.746     0.0117    0.00434\n",
            "                     6        292         84    0.00797      0.869      0.048     0.0116\n",
            "                     7        292         80    0.00548        0.9     0.0461     0.0252\n",
            "                     8        292         67     0.0112      0.672     0.0302    0.00858\n",
            "                     9        292         68     0.0112      0.765       0.04     0.0143\n",
            "Speed: 1.3ms pre-process, 2.6ms inference, 0.0ms loss, 4.8ms post-process per image\n",
            "Saving runs/detect/train12/predictions.json...\n",
            "Results saved to \u001b[1mruns/detect/train12\u001b[0m\n"
          ]
        }
      ]
    },
    {
      "cell_type": "code",
      "source": [
        "cd /content"
      ],
      "metadata": {
        "colab": {
          "base_uri": "https://localhost:8080/"
        },
        "id": "biN67cKeAI1R",
        "outputId": "1c646b21-71d4-45ff-a12f-b075f1eabf5e"
      },
      "execution_count": null,
      "outputs": [
        {
          "output_type": "stream",
          "name": "stdout",
          "text": [
            "/content\n"
          ]
        }
      ]
    },
    {
      "cell_type": "code",
      "source": [
        "!rm yolov8n.pt"
      ],
      "metadata": {
        "id": "MQ9rTGi2AI36"
      },
      "execution_count": null,
      "outputs": []
    },
    {
      "cell_type": "code",
      "source": [],
      "metadata": {
        "id": "d_GOQH-1AI6a"
      },
      "execution_count": null,
      "outputs": []
    },
    {
      "cell_type": "markdown",
      "source": [
        "#### 다른폴더 테스트"
      ],
      "metadata": {
        "id": "W2Hfej1K6ZZz"
      }
    },
    {
      "cell_type": "code",
      "source": [
        "import cv2\n",
        "import matplotlib.pyplot as plt\n",
        "import numpy as np\n",
        "import glob\n",
        "import random\n",
        "from tqdm.notebook import tqdm\n",
        "\n",
        "def crop_48(path_im,path_lb,iter_num):\n",
        "    all_img = glob.glob(path_im + '/*.jpg') # 이미지 경로\n",
        "    all_lbl = glob.glob(path_lb + '/*.txt') # 라벨 경로\n",
        "    all_img.sort()\n",
        "    all_lbl.sort() \n",
        "    for number in tqdm(range(iter_num)):\n",
        "        data_list = random.sample(range(len(all_img)), 48)# 전체 경로의 파일수 중 12개 랜덤추출\n",
        "        im_paths = [all_img[i] for i in data_list]\n",
        "        lb_paths = [all_lbl[i] for i in data_list]\n",
        "        # 라벨 담아줄 딕셔너리 / minmax는 박스 그리려고 생성\n",
        "        new_label_dic = {'new_label_json': [], 'new_label_txt':[], 'new_label_minmax':[]}\n",
        "        with open('/content/Dairy_New-1/train2/labels' + f'/concat48_image{number}.txt', \"a\") as f:\n",
        "            f.truncate(0)\n",
        "        for idx,(img_path,label_path) in enumerate(zip(im_paths,lb_paths)):\n",
        "            # Load image\n",
        "            plt.axis(\"off\") # 축 제거\n",
        "            img = cv2.imread(img_path)\n",
        "            with open(label_path, \"r\") as f:\n",
        "                data = f.readline()\n",
        "            list_data = data.strip().split(' ')\n",
        "            # minmax 형식으로 변환\n",
        "            ogn_x_min = 640*float(list_data[1]) - (640*float(list_data[3])/2)\n",
        "            ogn_x_max = 640*float(list_data[1]) + (640*float(list_data[3])/2)\n",
        "            ogn_y_min = 640*float(list_data[2]) - (640*float(list_data[4])/2)\n",
        "            ogn_y_max = 640*float(list_data[2]) + (640*float(list_data[4])/2)\n",
        "            # 라벨 txt 형식 좌표이동 전\n",
        "            bf_ctr_x = (ogn_x_max - ogn_x_min + 0) / 2\n",
        "            bf_ctr_y = (ogn_y_min - ogn_y_max + 0) / 2\n",
        "            bf_width = ogn_x_max - ogn_x_min\n",
        "            bf_height = ogn_y_min - ogn_y_max\n",
        "            # 새로운 라벨         \n",
        "            af_y_min = 160*(idx//12) + 10\n",
        "            af_y_max = 160*(idx//12) + 10 + 125\n",
        "            af_x_min = (idx-12*(idx//12))*53 + 2\n",
        "            af_x_max = (idx-12*(idx//12))*53 + 55\n",
        "            # 새로운 라벨 - json 후\n",
        "            af_ctr_x = (af_x_max + af_x_min) / 2\n",
        "            af_ctr_y = (af_y_max + af_y_min) / 2\n",
        "            af_width = af_x_max - af_x_min\n",
        "            af_height = af_y_max - af_y_min\n",
        "            # 새로운 라벨 비율 - txt 후\n",
        "            ratio_x = af_ctr_x / 640\n",
        "            ratio_y = af_ctr_y / 640\n",
        "            ratio_width = af_width / 640\n",
        "            ratio_height = af_height / 640\n",
        "            # 박스 그리기용 \n",
        "            new_label_minmax = f'{list_data[0]} {af_x_min} {af_x_max} {af_y_min} {af_y_max}'\n",
        "            # json 라벨  x_min y_min x_max y_max\n",
        "            new_label_json = f'{list_data[0]} {af_ctr_x} {af_ctr_y} {af_width} {af_height}' \n",
        "            # txt 라벨  x y width height\n",
        "            new_label_txt = f'{list_data[0]} {ratio_x} {ratio_y} {ratio_width} {ratio_height}'\n",
        "            # 라벨들 저장\n",
        "            new_label_dic['new_label_json'].append(new_label_json)\n",
        "            new_label_dic['new_label_txt'].append(new_label_txt)\n",
        "            new_label_dic['new_label_minmax'].append(new_label_minmax)\n",
        "            with open('/content/Dairy_New-1/train2/labels' + f'/concat48_image{number}.txt','a') as f:\n",
        "            # with open('/content/Dairy-Product-5/train2/labels' + f'/concat48_image{number}.txt','a') as f:\n",
        "                if idx == 47:\n",
        "                    f.write(new_label_txt)\n",
        "                else:\n",
        "                    f.write(new_label_txt + '\\n')\n",
        "            #Cropped data(이미지 라벨로 크롭 후 자르기)\n",
        "            start = (int(ogn_y_min),int(ogn_x_min))\n",
        "            end = (int(ogn_y_max),int(ogn_x_max))\n",
        "            output = np.zeros((end[0]-start[0], end[1]-start[1], 3), np.uint8)\n",
        "            for y in range(output.shape[1]):\n",
        "                for x in range(output.shape[0]):\n",
        "                    xp, yp = x + start[0], y+start[1]\n",
        "                    output[x,y] = img[xp,yp]\n",
        "            if idx == 0: # 1행 6열 2개를 합치는 방식\n",
        "                concat_img1 = output # 처음 크롭한 것은 concat1에 적절한 이미지 크기로 넣어줌\n",
        "                concat_img1 = cv2.resize(concat_img1,(53,150))\n",
        "            elif idx > 0 and idx < 12: # 2-6번째 이미지는 리사이즈 후 합침\n",
        "                output = cv2.resize(output,(53,150))\n",
        "                concat_img1 = cv2.hconcat([concat_img1,output]) # 가로로 합치는 코드\n",
        "            elif idx == 12 or idx == 24 or idx == 36:\n",
        "                if idx == 12:\n",
        "                    concat_img1 = cv2.rectangle(concat_img1, (0, 160), (640, 125), (0, 0, 0), -1) # concat1 아래부분 가리기\n",
        "                    concat_img1 = cv2.copyMakeBorder(concat_img1,10,0,2,2,cv2.BORDER_CONSTANT)\n",
        "                concat_img2 = output # 2행 1열 이미지\n",
        "                concat_img2 = cv2.resize(concat_img2,(53,150))\n",
        "            elif idx == 47 or idx == 23 or idx == 35: # 마지막 concat후\n",
        "                output = cv2.resize(output,(53,150))\n",
        "                concat_img2 = cv2.hconcat([concat_img2,output])\n",
        "                concat_img2 = cv2.rectangle(concat_img2, (0, 160), (640, 125), (0, 0, 0), -1) # concat2 아래부분 가리기\n",
        "                concat_img2 = cv2.copyMakeBorder(concat_img2,10,0,2,2,cv2.BORDER_CONSTANT) # concat2의 패딩\n",
        "                concat_img1 = cv2.vconcat([concat_img1,concat_img2])\n",
        "            elif idx > 12 and (idx not in [0,12,23,24,35,36,47]): # 2행 나머지 concat2에 합치기\n",
        "                output = cv2.resize(output,(53,150))\n",
        "                concat_img2 = cv2.hconcat([concat_img2,output])\n",
        "        # print(concat_img1.shape) # 크기확인\n",
        "        # # box 쳐주기 예시\n",
        "        # for label in new_label_dic['new_label_minmax']:\n",
        "        #     # print(label)\n",
        "        #     label = label.split(' ')\n",
        "        #     concat_img1 = cv2.rectangle(concat_img1, (int(label[1]), int(label[3])),(int(label[2]), int(label[4])), (0, 255, 0), 2)\n",
        "        # plt.imshow(concat_img1)\n",
        "        cv2.imwrite('/content/Dairy_New-1/train2/images' + f'/concat48_image{number}.jpg',concat_img1)\n",
        "        # cv2.imwrite('/content/Dairy-Product-5/train2/images' + f'/concat48_image{number}.jpg',concat_img1)"
      ],
      "metadata": {
        "id": "bfFZzCDD4wrQ"
      },
      "execution_count": null,
      "outputs": []
    },
    {
      "cell_type": "code",
      "source": [
        "crop_48(path_im,path_lb,1)\n",
        "print(len(glob.glob(path_im + '/*.jpg')),len(glob.glob(path_lb + '/*.txt')))\n",
        "img = cv2.imread('/content/Dairy_New-1/train/images/concat48_image0.jpg')\n",
        "plt.imshow(img)"
      ],
      "metadata": {
        "colab": {
          "base_uri": "https://localhost:8080/",
          "height": 317,
          "referenced_widgets": [
            "9856cf0a4b02467eb241fa7f07a879c9",
            "e794f43282b042b9aca767375f835521",
            "ae1b238b23d84ec4bbe10ece74f95f9a",
            "937adb8e4dff4899a51a3f50f09a4c14",
            "d0d5a79c1465440cbcc38831124076af",
            "c12c489270d54f1ba52df7af7ee72c8e",
            "3fec08f9548240359f5945632080567a",
            "64fe7a83ab3f49df8c0a6b8d4a05179d",
            "bee989ff17df40d2af3471dedfba6a67",
            "94ae267f4ab1435b917ab83a0011542d",
            "3ecb1289387a44d392c06fe3cdbe23aa"
          ]
        },
        "id": "qqg-xn7r6ALl",
        "outputId": "41b4aa70-b828-4bb7-f30b-ace0c4225528"
      },
      "execution_count": null,
      "outputs": [
        {
          "output_type": "display_data",
          "data": {
            "text/plain": [
              "  0%|          | 0/1 [00:00<?, ?it/s]"
            ],
            "application/vnd.jupyter.widget-view+json": {
              "version_major": 2,
              "version_minor": 0,
              "model_id": "9856cf0a4b02467eb241fa7f07a879c9"
            }
          },
          "metadata": {}
        },
        {
          "output_type": "stream",
          "name": "stdout",
          "text": [
            "556 556\n"
          ]
        },
        {
          "output_type": "execute_result",
          "data": {
            "text/plain": [
              "<matplotlib.image.AxesImage at 0x7fbff7cac640>"
            ]
          },
          "metadata": {},
          "execution_count": 11
        },
        {
          "output_type": "display_data",
          "data": {
            "text/plain": [
              "<Figure size 432x288 with 1 Axes>"
            ],
            "image/png": "[encoded data removed]"
          },
          "metadata": {
            "needs_background": "light"
          }
        }
      ]
    },
    {
      "cell_type": "code",
      "source": [],
      "metadata": {
        "id": "sy-iz_rE6C0x"
      },
      "execution_count": null,
      "outputs": []
    },
    {
      "cell_type": "markdown",
      "source": [
        "# 재시도\n"
      ],
      "metadata": {
        "id": "OXEWx_Cfp-qT"
      }
    },
    {
      "cell_type": "code",
      "source": [
        "!pip install ultralytics"
      ],
      "metadata": {
        "id": "SSKfx_UNqAAX"
      },
      "execution_count": null,
      "outputs": []
    },
    {
      "cell_type": "code",
      "source": [
        "!pip install roboflow --quiet"
      ],
      "metadata": {
        "id": "R4c0a0ySqDXg"
      },
      "execution_count": null,
      "outputs": []
    },
    {
      "cell_type": "code",
      "source": [
        "import os\n",
        "HOME = os.getcwd()\n",
        "print(HOME)"
      ],
      "metadata": {
        "colab": {
          "base_uri": "https://localhost:8080/"
        },
        "id": "u5ZVIKP2qyYQ",
        "outputId": "b0e88bef-ea12-4081-d2c6-7d1b741df48b"
      },
      "execution_count": null,
      "outputs": [
        {
          "output_type": "stream",
          "name": "stdout",
          "text": [
            "/content\n"
          ]
        }
      ]
    },
    {
      "cell_type": "code",
      "source": [
        "from IPython import display\n",
        "display.clear_output()\n",
        "!yolo mode=checks"
      ],
      "metadata": {
        "colab": {
          "base_uri": "https://localhost:8080/"
        },
        "id": "Ge4NxvNkq0tJ",
        "outputId": "f9727e16-5b46-476b-a62f-9f2116c05829"
      },
      "execution_count": null,
      "outputs": [
        {
          "output_type": "stream",
          "name": "stdout",
          "text": [
            "\u001b[2K\r\u001b[2K\rUltralytics YOLOv8.0.5 🚀 Python-3.8.16 torch-1.13.0+cu116 CUDA:0 (Tesla T4, 15110MiB)\n",
            "Setup complete ✅ (8 CPUs, 51.0 GB RAM, 23.2/166.8 GB disk)\n"
          ]
        }
      ]
    },
    {
      "cell_type": "code",
      "source": [
        "%cd {HOME}\n",
        "!git clone https://github.com/ultralytics/ultralytics-roboflow.git"
      ],
      "metadata": {
        "colab": {
          "base_uri": "https://localhost:8080/"
        },
        "id": "srJn2PtyqDcg",
        "outputId": "6413cdcb-ca9e-4753-cf02-d1e48537c11e"
      },
      "execution_count": null,
      "outputs": [
        {
          "output_type": "stream",
          "name": "stdout",
          "text": [
            "/content\n",
            "fatal: destination path 'ultralytics-roboflow' already exists and is not an empty directory.\n"
          ]
        }
      ]
    },
    {
      "cell_type": "code",
      "source": [
        "%cd {HOME}/ultralytics-roboflow\n",
        "!pip install -r requirements.txt"
      ],
      "metadata": {
        "id": "q8i1byTLqDff"
      },
      "execution_count": null,
      "outputs": []
    },
    {
      "cell_type": "code",
      "source": [
        "from ultralytics import YOLO\n",
        "\n",
        "from IPython.display import display, Image"
      ],
      "metadata": {
        "id": "JYETvxfjrL5U"
      },
      "execution_count": null,
      "outputs": []
    },
    {
      "cell_type": "code",
      "source": [
        "from roboflow import Roboflow\n",
        "rf = Roboflow(api_key=\"vJw7gZYxURcrIZe9csOU\")\n",
        "project = rf.workspace(\"mainpj\").project(\"main-iqccr\")\n",
        "dataset = project.version(4).download(\"yolov8\")"
      ],
      "metadata": {
        "id": "fFBFNYgjrRyY"
      },
      "execution_count": null,
      "outputs": []
    },
    {
      "cell_type": "code",
      "source": [
        "model = YOLO(\"yolov8n.yaml\")"
      ],
      "metadata": {
        "colab": {
          "base_uri": "https://localhost:8080/"
        },
        "id": "2TIJGyQwtOqI",
        "outputId": "b9ff4541-e64f-499c-e817-c113b771f255"
      },
      "execution_count": null,
      "outputs": [
        {
          "output_type": "stream",
          "name": "stderr",
          "text": [
            "\n",
            "                   from  n    params  module                                       arguments                     \n",
            "  0                  -1  1       464  ultralytics.nn.modules.Conv                  [3, 16, 3, 2]                 \n",
            "  1                  -1  1      4672  ultralytics.nn.modules.Conv                  [16, 32, 3, 2]                \n",
            "  2                  -1  1      7360  ultralytics.nn.modules.C2f                   [32, 32, 1, True]             \n",
            "  3                  -1  1     18560  ultralytics.nn.modules.Conv                  [32, 64, 3, 2]                \n",
            "  4                  -1  2     49664  ultralytics.nn.modules.C2f                   [64, 64, 2, True]             \n",
            "  5                  -1  1     73984  ultralytics.nn.modules.Conv                  [64, 128, 3, 2]               \n",
            "  6                  -1  2    197632  ultralytics.nn.modules.C2f                   [128, 128, 2, True]           \n",
            "  7                  -1  1    295424  ultralytics.nn.modules.Conv                  [128, 256, 3, 2]              \n",
            "  8                  -1  1    460288  ultralytics.nn.modules.C2f                   [256, 256, 1, True]           \n",
            "  9                  -1  1    164608  ultralytics.nn.modules.SPPF                  [256, 256, 5]                 \n",
            " 10                  -1  1         0  torch.nn.modules.upsampling.Upsample         [None, 2, 'nearest']          \n",
            " 11             [-1, 6]  1         0  ultralytics.nn.modules.Concat                [1]                           \n",
            " 12                  -1  1    148224  ultralytics.nn.modules.C2f                   [384, 128, 1]                 \n",
            " 13                  -1  1         0  torch.nn.modules.upsampling.Upsample         [None, 2, 'nearest']          \n",
            " 14             [-1, 4]  1         0  ultralytics.nn.modules.Concat                [1]                           \n",
            " 15                  -1  1     37248  ultralytics.nn.modules.C2f                   [192, 64, 1]                  \n",
            " 16                  -1  1     36992  ultralytics.nn.modules.Conv                  [64, 64, 3, 2]                \n",
            " 17            [-1, 12]  1         0  ultralytics.nn.modules.Concat                [1]                           \n",
            " 18                  -1  1    123648  ultralytics.nn.modules.C2f                   [192, 128, 1]                 \n",
            " 19                  -1  1    147712  ultralytics.nn.modules.Conv                  [128, 128, 3, 2]              \n",
            " 20             [-1, 9]  1         0  ultralytics.nn.modules.Concat                [1]                           \n",
            " 21                  -1  1    493056  ultralytics.nn.modules.C2f                   [384, 256, 1]                 \n",
            " 22        [15, 18, 21]  1    897664  ultralytics.nn.modules.Detect                [80, [64, 128, 256]]          \n",
            "YOLOv8n summary: 225 layers, 3157200 parameters, 3157184 gradients, 8.9 GFLOPs\n",
            "\n"
          ]
        }
      ]
    },
    {
      "cell_type": "code",
      "source": [
        "%cd {HOME}/ultralytics-roboflow\n",
        "\n",
        "!yolo task=detect mode=train model=yolov8n.pt data=/content/ultralytics-roboflow/main-4/data.yaml epochs=1 imgsz=480"
      ],
      "metadata": {
        "colab": {
          "base_uri": "https://localhost:8080/"
        },
        "id": "YQvQJJ3Crc8w",
        "outputId": "9b68cc37-f83d-4baf-a500-79d85ea01123"
      },
      "execution_count": null,
      "outputs": [
        {
          "output_type": "stream",
          "name": "stdout",
          "text": [
            "/content/ultralytics-roboflow\n",
            "Ultralytics YOLOv8.0.5 🚀 Python-3.8.16 torch-1.13.0+cu116 CUDA:0 (Tesla T4, 15110MiB)\n",
            "\u001b[34m\u001b[1myolo/engine/trainer: \u001b[0mtask=detect, mode=train, model=yolov8n.pt, data=/content/ultralytics-roboflow/main-4/data.yaml, epochs=1, patience=50, batch=16, imgsz=480, save=True, cache=False, device=, workers=8, project=None, name=None, exist_ok=False, pretrained=False, optimizer=SGD, verbose=False, seed=0, deterministic=True, single_cls=False, image_weights=False, rect=False, cos_lr=False, close_mosaic=10, resume=False, overlap_mask=True, mask_ratio=4, dropout=0.0, val=True, save_json=False, save_hybrid=False, conf=None, iou=0.7, max_det=300, half=False, dnn=False, plots=True, source=None, show=False, save_txt=False, save_conf=False, save_crop=False, hide_labels=False, hide_conf=False, vid_stride=1, line_thickness=3, visualize=False, augment=False, agnostic_nms=False, retina_masks=False, format=torchscript, keras=False, optimize=False, int8=False, dynamic=False, simplify=False, opset=17, workspace=4, nms=False, lr0=0.01, lrf=0.01, momentum=0.937, weight_decay=0.0005, warmup_epochs=3.0, warmup_momentum=0.8, warmup_bias_lr=0.1, box=7.5, cls=0.5, dfl=1.5, fl_gamma=0.0, label_smoothing=0.0, nbs=64, hsv_h=0.015, hsv_s=0.7, hsv_v=0.4, degrees=0.0, translate=0.1, scale=0.5, shear=0.0, perspective=0.0, flipud=0.0, fliplr=0.5, mosaic=1.0, mixup=0.0, copy_paste=0.0, cfg=None, hydra={'output_subdir': None, 'run': {'dir': '.'}}, v5loader=False, save_dir=runs/detect/train4\n",
            "Overriding model.yaml nc=80 with nc=7\n",
            "\n",
            "                   from  n    params  module                                       arguments                     \n",
            "  0                  -1  1       464  ultralytics.nn.modules.Conv                  [3, 16, 3, 2]                 \n",
            "  1                  -1  1      4672  ultralytics.nn.modules.Conv                  [16, 32, 3, 2]                \n",
            "  2                  -1  1      7360  ultralytics.nn.modules.C2f                   [32, 32, 1, True]             \n",
            "  3                  -1  1     18560  ultralytics.nn.modules.Conv                  [32, 64, 3, 2]                \n",
            "  4                  -1  2     49664  ultralytics.nn.modules.C2f                   [64, 64, 2, True]             \n",
            "  5                  -1  1     73984  ultralytics.nn.modules.Conv                  [64, 128, 3, 2]               \n",
            "  6                  -1  2    197632  ultralytics.nn.modules.C2f                   [128, 128, 2, True]           \n",
            "  7                  -1  1    295424  ultralytics.nn.modules.Conv                  [128, 256, 3, 2]              \n",
            "  8                  -1  1    460288  ultralytics.nn.modules.C2f                   [256, 256, 1, True]           \n",
            "  9                  -1  1    164608  ultralytics.nn.modules.SPPF                  [256, 256, 5]                 \n",
            " 10                  -1  1         0  torch.nn.modules.upsampling.Upsample         [None, 2, 'nearest']          \n",
            " 11             [-1, 6]  1         0  ultralytics.nn.modules.Concat                [1]                           \n",
            " 12                  -1  1    148224  ultralytics.nn.modules.C2f                   [384, 128, 1]                 \n",
            " 13                  -1  1         0  torch.nn.modules.upsampling.Upsample         [None, 2, 'nearest']          \n",
            " 14             [-1, 4]  1         0  ultralytics.nn.modules.Concat                [1]                           \n",
            " 15                  -1  1     37248  ultralytics.nn.modules.C2f                   [192, 64, 1]                  \n",
            " 16                  -1  1     36992  ultralytics.nn.modules.Conv                  [64, 64, 3, 2]                \n",
            " 17            [-1, 12]  1         0  ultralytics.nn.modules.Concat                [1]                           \n",
            " 18                  -1  1    123648  ultralytics.nn.modules.C2f                   [192, 128, 1]                 \n",
            " 19                  -1  1    147712  ultralytics.nn.modules.Conv                  [128, 128, 3, 2]              \n",
            " 20             [-1, 9]  1         0  ultralytics.nn.modules.Concat                [1]                           \n",
            " 21                  -1  1    493056  ultralytics.nn.modules.C2f                   [384, 256, 1]                 \n",
            " 22        [15, 18, 21]  1    752677  ultralytics.nn.modules.Detect                [7, [64, 128, 256]]           \n",
            "Model summary: 225 layers, 3012213 parameters, 3012197 gradients, 8.2 GFLOPs\n",
            "\n",
            "Transferred 319/355 items from pretrained weights\n",
            "\u001b[34m\u001b[1moptimizer:\u001b[0m SGD(lr=0.01) with parameter groups 57 weight(decay=0.0), 64 weight(decay=0.0005), 63 bias\n",
            "\u001b[34m\u001b[1mtrain: \u001b[0mScanning /content/ultralytics-roboflow/main-4/train/labels.cache... 558 images, 0 backgrounds, 0 corrupt: 100% 558/558 [00:00<?, ?it/s]\n",
            "\u001b[34m\u001b[1malbumentations: \u001b[0mBlur(p=0.01, blur_limit=(3, 7)), MedianBlur(p=0.01, blur_limit=(3, 7)), ToGray(p=0.01), CLAHE(p=0.01, clip_limit=(1, 4.0), tile_grid_size=(8, 8))\n",
            "\u001b[34m\u001b[1mval: \u001b[0mScanning /content/ultralytics-roboflow/main-4/valid/labels.cache... 240 images, 0 backgrounds, 0 corrupt: 100% 240/240 [00:00<?, ?it/s]\n",
            "Image sizes 480 train, 480 val\n",
            "Using 8 dataloader workers\n",
            "Logging results to \u001b[1mruns/detect/train4\u001b[0m\n",
            "Starting training for 1 epochs...\n",
            "\n",
            "      Epoch    GPU_mem   box_loss   cls_loss   dfl_loss  Instances       Size\n",
            "        1/1      1.18G     0.9994      2.075       1.28         75        480:   3% 1/35 [00:02<01:40,  2.96s/it]Exception in thread Thread-5:\n",
            "Traceback (most recent call last):\n",
            "  File \"/usr/lib/python3.8/threading.py\", line 932, in _bootstrap_inner\n",
            "    self.run()\n",
            "  File \"/usr/lib/python3.8/threading.py\", line 870, in run\n",
            "    self._target(*self._args, **self._kwargs)\n",
            "  File \"/usr/local/lib/python3.8/dist-packages/ultralytics/yolo/utils/plotting.py\", line 250, in plot_images\n",
            "    annotator.box_label(box, label, color=color)\n",
            "  File \"/usr/local/lib/python3.8/dist-packages/ultralytics/yolo/utils/plotting.py\", line 63, in box_label\n",
            "    _, _, w, h = self.font.getbbox(label)  # text width, height\n",
            "AttributeError: 'FreeTypeFont' object has no attribute 'getbbox'\n",
            "        1/1      1.19G      1.015      2.044      1.294         62        480:   6% 2/35 [00:03<00:43,  1.32s/it]Exception in thread Thread-6:\n",
            "Traceback (most recent call last):\n",
            "  File \"/usr/lib/python3.8/threading.py\", line 932, in _bootstrap_inner\n",
            "    self.run()\n",
            "  File \"/usr/lib/python3.8/threading.py\", line 870, in run\n",
            "    self._target(*self._args, **self._kwargs)\n",
            "  File \"/usr/local/lib/python3.8/dist-packages/ultralytics/yolo/utils/plotting.py\", line 250, in plot_images\n",
            "    annotator.box_label(box, label, color=color)\n",
            "  File \"/usr/local/lib/python3.8/dist-packages/ultralytics/yolo/utils/plotting.py\", line 63, in box_label\n",
            "    _, _, w, h = self.font.getbbox(label)  # text width, height\n",
            "AttributeError: 'FreeTypeFont' object has no attribute 'getbbox'\n",
            "        1/1      1.19G     0.9923      2.026      1.292         59        480:   9% 3/35 [00:03<00:25,  1.27it/s]Exception in thread Thread-7:\n",
            "Traceback (most recent call last):\n",
            "  File \"/usr/lib/python3.8/threading.py\", line 932, in _bootstrap_inner\n",
            "    self.run()\n",
            "  File \"/usr/lib/python3.8/threading.py\", line 870, in run\n",
            "    self._target(*self._args, **self._kwargs)\n",
            "  File \"/usr/local/lib/python3.8/dist-packages/ultralytics/yolo/utils/plotting.py\", line 250, in plot_images\n",
            "    annotator.box_label(box, label, color=color)\n",
            "  File \"/usr/local/lib/python3.8/dist-packages/ultralytics/yolo/utils/plotting.py\", line 63, in box_label\n",
            "    _, _, w, h = self.font.getbbox(label)  # text width, height\n",
            "AttributeError: 'FreeTypeFont' object has no attribute 'getbbox'\n",
            "        1/1      1.21G     0.8285      1.973      1.213         44        480: 100% 35/35 [00:06<00:00,  5.05it/s]\n",
            "                 Class     Images  Instances      Box(P          R      mAP50  mAP50-95):  12% 1/8 [00:00<00:06,  1.14it/s]Exception in thread Thread-9:\n",
            "Traceback (most recent call last):\n",
            "  File \"/usr/lib/python3.8/threading.py\", line 932, in _bootstrap_inner\n",
            "    self.run()\n",
            "  File \"/usr/lib/python3.8/threading.py\", line 870, in run\n",
            "    self._target(*self._args, **self._kwargs)\n",
            "  File \"/usr/local/lib/python3.8/dist-packages/ultralytics/yolo/utils/plotting.py\", line 250, in plot_images\n",
            "    annotator.box_label(box, label, color=color)\n",
            "  File \"/usr/local/lib/python3.8/dist-packages/ultralytics/yolo/utils/plotting.py\", line 63, in box_label\n",
            "    _, _, w, h = self.font.getbbox(label)  # text width, height\n",
            "AttributeError: 'FreeTypeFont' object has no attribute 'getbbox'\n",
            "                 Class     Images  Instances      Box(P          R      mAP50  mAP50-95):  25% 2/8 [00:01<00:03,  1.71it/s]Exception in thread Thread-11:\n",
            "Traceback (most recent call last):\n",
            "  File \"/usr/lib/python3.8/threading.py\", line 932, in _bootstrap_inner\n",
            "    self.run()\n",
            "  File \"/usr/lib/python3.8/threading.py\", line 870, in run\n",
            "    self._target(*self._args, **self._kwargs)\n",
            "  File \"/usr/local/lib/python3.8/dist-packages/ultralytics/yolo/utils/plotting.py\", line 250, in plot_images\n",
            "    annotator.box_label(box, label, color=color)\n",
            "  File \"/usr/local/lib/python3.8/dist-packages/ultralytics/yolo/utils/plotting.py\", line 63, in box_label\n",
            "    _, _, w, h = self.font.getbbox(label)  # text width, height\n",
            "AttributeError: 'FreeTypeFont' object has no attribute 'getbbox'\n",
            "                 Class     Images  Instances      Box(P          R      mAP50  mAP50-95):  38% 3/8 [00:01<00:02,  2.08it/s]Exception in thread Thread-13:\n",
            "Traceback (most recent call last):\n",
            "  File \"/usr/lib/python3.8/threading.py\", line 932, in _bootstrap_inner\n",
            "    self.run()\n",
            "  File \"/usr/lib/python3.8/threading.py\", line 870, in run\n",
            "    self._target(*self._args, **self._kwargs)\n",
            "  File \"/usr/local/lib/python3.8/dist-packages/ultralytics/yolo/utils/plotting.py\", line 250, in plot_images\n",
            "    annotator.box_label(box, label, color=color)\n",
            "  File \"/usr/local/lib/python3.8/dist-packages/ultralytics/yolo/utils/plotting.py\", line 63, in box_label\n",
            "    _, _, w, h = self.font.getbbox(label)  # text width, height\n",
            "AttributeError: 'FreeTypeFont' object has no attribute 'getbbox'\n",
            "                 Class     Images  Instances      Box(P          R      mAP50  mAP50-95): 100% 8/8 [00:02<00:00,  2.89it/s]\n",
            "                   all        240        460    0.00884       0.98       0.15      0.122\n",
            "\n",
            "1 epochs completed in 0.004 hours.\n",
            "Optimizer stripped from runs/detect/train4/weights/last.pt, 6.2MB\n",
            "Optimizer stripped from runs/detect/train4/weights/best.pt, 6.2MB\n",
            "\n",
            "Validating runs/detect/train4/weights/best.pt...\n",
            "Ultralytics YOLOv8.0.5 🚀 Python-3.8.16 torch-1.13.0+cu116 CUDA:0 (Tesla T4, 15110MiB)\n",
            "Fusing layers... \n",
            "Model summary: 168 layers, 3007013 parameters, 0 gradients, 8.1 GFLOPs\n",
            "                 Class     Images  Instances      Box(P          R      mAP50  mAP50-95):  12% 1/8 [00:00<00:06,  1.08it/s]Exception in thread Thread-16:\n",
            "Traceback (most recent call last):\n",
            "  File \"/usr/lib/python3.8/threading.py\", line 932, in _bootstrap_inner\n",
            "    self.run()\n",
            "  File \"/usr/lib/python3.8/threading.py\", line 870, in run\n",
            "    self._target(*self._args, **self._kwargs)\n",
            "  File \"/usr/local/lib/python3.8/dist-packages/ultralytics/yolo/utils/plotting.py\", line 250, in plot_images\n",
            "    annotator.box_label(box, label, color=color)\n",
            "  File \"/usr/local/lib/python3.8/dist-packages/ultralytics/yolo/utils/plotting.py\", line 63, in box_label\n",
            "    _, _, w, h = self.font.getbbox(label)  # text width, height\n",
            "AttributeError: 'FreeTypeFont' object has no attribute 'getbbox'\n",
            "                 Class     Images  Instances      Box(P          R      mAP50  mAP50-95):  25% 2/8 [00:01<00:04,  1.40it/s]Exception in thread Thread-18:\n",
            "Traceback (most recent call last):\n",
            "  File \"/usr/lib/python3.8/threading.py\", line 932, in _bootstrap_inner\n",
            "    self.run()\n",
            "  File \"/usr/lib/python3.8/threading.py\", line 870, in run\n",
            "    self._target(*self._args, **self._kwargs)\n",
            "  File \"/usr/local/lib/python3.8/dist-packages/ultralytics/yolo/utils/plotting.py\", line 250, in plot_images\n",
            "    annotator.box_label(box, label, color=color)\n",
            "  File \"/usr/local/lib/python3.8/dist-packages/ultralytics/yolo/utils/plotting.py\", line 63, in box_label\n",
            "    _, _, w, h = self.font.getbbox(label)  # text width, height\n",
            "AttributeError: 'FreeTypeFont' object has no attribute 'getbbox'\n",
            "                 Class     Images  Instances      Box(P          R      mAP50  mAP50-95):  38% 3/8 [00:01<00:02,  1.73it/s]Exception in thread Thread-20:\n",
            "Traceback (most recent call last):\n",
            "  File \"/usr/lib/python3.8/threading.py\", line 932, in _bootstrap_inner\n",
            "    self.run()\n",
            "  File \"/usr/lib/python3.8/threading.py\", line 870, in run\n",
            "    self._target(*self._args, **self._kwargs)\n",
            "  File \"/usr/local/lib/python3.8/dist-packages/ultralytics/yolo/utils/plotting.py\", line 250, in plot_images\n",
            "    annotator.box_label(box, label, color=color)\n",
            "  File \"/usr/local/lib/python3.8/dist-packages/ultralytics/yolo/utils/plotting.py\", line 63, in box_label\n",
            "    _, _, w, h = self.font.getbbox(label)  # text width, height\n",
            "AttributeError: 'FreeTypeFont' object has no attribute 'getbbox'\n",
            "                 Class     Images  Instances      Box(P          R      mAP50  mAP50-95): 100% 8/8 [00:03<00:00,  2.21it/s]\n",
            "                   all        240        460    0.00886      0.983      0.151      0.123\n",
            "                  -41G        240         64    0.00288      0.922     0.0787     0.0633\n",
            "                  -66G        240         72     0.0165      0.986      0.125      0.106\n",
            "                  -72G        240         75    0.00643      0.987      0.212      0.159\n",
            "                  -75G        240         52    0.00627          1      0.178      0.151\n",
            "                  -83G        240         61    0.00742      0.984      0.192      0.163\n",
            "                  -90G        240         73     0.0184          1      0.146      0.122\n",
            "                -D-86G        240         63    0.00411          1      0.128      0.101\n",
            "Speed: 0.6ms pre-process, 1.6ms inference, 0.0ms loss, 1.3ms post-process per image\n",
            "Saving runs/detect/train4/predictions.json...\n",
            "Results saved to \u001b[1mruns/detect/train4\u001b[0m\n"
          ]
        }
      ]
    },
    {
      "cell_type": "code",
      "source": [
        "!yolo cfg=/content/ultralytics-roboflow/ultralytics/yolo/configs/default.yaml"
      ],
      "metadata": {
        "colab": {
          "base_uri": "https://localhost:8080/"
        },
        "id": "lXtNdGJjwcT1",
        "outputId": "211d31d7-0a09-4771-93b0-a43f25d0cdc5"
      },
      "execution_count": null,
      "outputs": [
        {
          "output_type": "stream",
          "name": "stdout",
          "text": [
            "Overriding default config with /content/ultralytics-roboflow/ultralytics/yolo/configs/default.yaml\n",
            "Ultralytics YOLOv8.0.5 🚀 Python-3.8.16 torch-1.13.0+cu116 CUDA:0 (Tesla T4, 15110MiB)\n",
            "\u001b[34m\u001b[1myolo/engine/trainer: \u001b[0mtask=detect, mode=train, model=yolov8n.pt, data=/content/ultralytics-roboflow/main-4/data.yaml, epochs=1, patience=50, batch=16, imgsz=480, save=True, cache=False, device=, workers=8, project=None, name=None, exist_ok=False, pretrained=False, optimizer=SGD, verbose=False, seed=0, deterministic=True, single_cls=False, image_weights=False, rect=False, cos_lr=False, close_mosaic=10, resume=False, overlap_mask=True, mask_ratio=4, dropout=0.0, val=True, save_json=False, save_hybrid=False, conf=None, iou=0.7, max_det=300, half=False, dnn=False, plots=True, source=None, show=False, save_txt=False, save_conf=False, save_crop=False, hide_labels=False, hide_conf=False, vid_stride=1, line_thickness=3, visualize=False, augment=False, agnostic_nms=False, retina_masks=False, format=torchscript, keras=False, optimize=False, int8=False, dynamic=False, simplify=False, opset=17, workspace=4, nms=False, lr0=0.01, lrf=0.01, momentum=0.937, weight_decay=0.0005, warmup_epochs=3.0, warmup_momentum=0.8, warmup_bias_lr=0.1, box=7.5, cls=0.5, dfl=1.5, fl_gamma=0.0, label_smoothing=0.0, nbs=64, hsv_h=0.015, hsv_s=0.7, hsv_v=0.4, degrees=0.0, translate=0.1, scale=0.9, shear=0.0, perspective=0.0, flipud=0.0, fliplr=0.0, mosaic=0.0, mixup=0.0, copy_paste=0.0, cfg=None, hydra={'output_subdir': None, 'run': {'dir': '.'}}, v5loader=True, save_dir=runs/detect/train17\n",
            "Overriding model.yaml nc=80 with nc=7\n",
            "\n",
            "                   from  n    params  module                                       arguments                     \n",
            "  0                  -1  1       464  ultralytics.nn.modules.Conv                  [3, 16, 3, 2]                 \n",
            "  1                  -1  1      4672  ultralytics.nn.modules.Conv                  [16, 32, 3, 2]                \n",
            "  2                  -1  1      7360  ultralytics.nn.modules.C2f                   [32, 32, 1, True]             \n",
            "  3                  -1  1     18560  ultralytics.nn.modules.Conv                  [32, 64, 3, 2]                \n",
            "  4                  -1  2     49664  ultralytics.nn.modules.C2f                   [64, 64, 2, True]             \n",
            "  5                  -1  1     73984  ultralytics.nn.modules.Conv                  [64, 128, 3, 2]               \n",
            "  6                  -1  2    197632  ultralytics.nn.modules.C2f                   [128, 128, 2, True]           \n",
            "  7                  -1  1    295424  ultralytics.nn.modules.Conv                  [128, 256, 3, 2]              \n",
            "  8                  -1  1    460288  ultralytics.nn.modules.C2f                   [256, 256, 1, True]           \n",
            "  9                  -1  1    164608  ultralytics.nn.modules.SPPF                  [256, 256, 5]                 \n",
            " 10                  -1  1         0  torch.nn.modules.upsampling.Upsample         [None, 2, 'nearest']          \n",
            " 11             [-1, 6]  1         0  ultralytics.nn.modules.Concat                [1]                           \n",
            " 12                  -1  1    148224  ultralytics.nn.modules.C2f                   [384, 128, 1]                 \n",
            " 13                  -1  1         0  torch.nn.modules.upsampling.Upsample         [None, 2, 'nearest']          \n",
            " 14             [-1, 4]  1         0  ultralytics.nn.modules.Concat                [1]                           \n",
            " 15                  -1  1     37248  ultralytics.nn.modules.C2f                   [192, 64, 1]                  \n",
            " 16                  -1  1     36992  ultralytics.nn.modules.Conv                  [64, 64, 3, 2]                \n",
            " 17            [-1, 12]  1         0  ultralytics.nn.modules.Concat                [1]                           \n",
            " 18                  -1  1    123648  ultralytics.nn.modules.C2f                   [192, 128, 1]                 \n",
            " 19                  -1  1    147712  ultralytics.nn.modules.Conv                  [128, 128, 3, 2]              \n",
            " 20             [-1, 9]  1         0  ultralytics.nn.modules.Concat                [1]                           \n",
            " 21                  -1  1    493056  ultralytics.nn.modules.C2f                   [384, 256, 1]                 \n",
            " 22        [15, 18, 21]  1    752677  ultralytics.nn.modules.Detect                [7, [64, 128, 256]]           \n",
            "Model summary: 225 layers, 3012213 parameters, 3012197 gradients, 8.2 GFLOPs\n",
            "\n",
            "Transferred 319/355 items from pretrained weights\n",
            "\u001b[34m\u001b[1moptimizer:\u001b[0m SGD(lr=0.01) with parameter groups 57 weight(decay=0.0), 64 weight(decay=0.0005), 63 bias\n",
            "\u001b[34m\u001b[1malbumentations: \u001b[0mBlur(p=0.01, blur_limit=(3, 7)), MedianBlur(p=0.01, blur_limit=(3, 7)), ToGray(p=0.01), CLAHE(p=0.01, clip_limit=(1, 4.0), tile_grid_size=(8, 8))\n",
            "\u001b[34m\u001b[1mtrain: \u001b[0mScanning /content/ultralytics-roboflow/main-4/train/labels.cache... 558 images, 0 backgrounds, 0 corrupt: 100% 558/558 [00:00<?, ?it/s]\n",
            "\u001b[34m\u001b[1mval: \u001b[0mScanning /content/ultralytics-roboflow/main-4/valid/labels.cache... 240 images, 0 backgrounds, 0 corrupt: 100% 240/240 [00:00<?, ?it/s]\n",
            "Image sizes 480 train, 480 val\n",
            "Using 8 dataloader workers\n",
            "Logging results to \u001b[1mruns/detect/train17\u001b[0m\n",
            "Starting training for 1 epochs...\n",
            "\n",
            "      Epoch    GPU_mem   box_loss   cls_loss   dfl_loss  Instances       Size\n",
            "        1/1      1.29G     0.9026      2.141      1.163         29        480:   3% 1/35 [00:02<01:25,  2.51s/it]Exception in thread Thread-5:\n",
            "Traceback (most recent call last):\n",
            "  File \"/usr/lib/python3.8/threading.py\", line 932, in _bootstrap_inner\n",
            "    self.run()\n",
            "  File \"/usr/lib/python3.8/threading.py\", line 870, in run\n",
            "    self._target(*self._args, **self._kwargs)\n",
            "  File \"/usr/local/lib/python3.8/dist-packages/ultralytics/yolo/utils/plotting.py\", line 250, in plot_images\n",
            "    annotator.box_label(box, label, color=color)\n",
            "  File \"/usr/local/lib/python3.8/dist-packages/ultralytics/yolo/utils/plotting.py\", line 63, in box_label\n",
            "    _, _, w, h = self.font.getbbox(label)  # text width, height\n",
            "AttributeError: 'FreeTypeFont' object has no attribute 'getbbox'\n",
            "        1/1       1.3G     0.9581      2.132      1.234         23        480:   6% 2/35 [00:02<00:37,  1.13s/it]Exception in thread Thread-6:\n",
            "Traceback (most recent call last):\n",
            "  File \"/usr/lib/python3.8/threading.py\", line 932, in _bootstrap_inner\n",
            "    self.run()\n",
            "  File \"/usr/lib/python3.8/threading.py\", line 870, in run\n",
            "    self._target(*self._args, **self._kwargs)\n",
            "  File \"/usr/local/lib/python3.8/dist-packages/ultralytics/yolo/utils/plotting.py\", line 250, in plot_images\n",
            "    annotator.box_label(box, label, color=color)\n",
            "  File \"/usr/local/lib/python3.8/dist-packages/ultralytics/yolo/utils/plotting.py\", line 63, in box_label\n",
            "    _, _, w, h = self.font.getbbox(label)  # text width, height\n",
            "AttributeError: 'FreeTypeFont' object has no attribute 'getbbox'\n",
            "        1/1       1.3G       1.03      2.118      1.296         30        480:   9% 3/35 [00:02<00:21,  1.48it/s]Exception in thread Thread-7:\n",
            "Traceback (most recent call last):\n",
            "  File \"/usr/lib/python3.8/threading.py\", line 932, in _bootstrap_inner\n",
            "    self.run()\n",
            "  File \"/usr/lib/python3.8/threading.py\", line 870, in run\n",
            "    self._target(*self._args, **self._kwargs)\n",
            "  File \"/usr/local/lib/python3.8/dist-packages/ultralytics/yolo/utils/plotting.py\", line 250, in plot_images\n",
            "    annotator.box_label(box, label, color=color)\n",
            "  File \"/usr/local/lib/python3.8/dist-packages/ultralytics/yolo/utils/plotting.py\", line 63, in box_label\n",
            "    _, _, w, h = self.font.getbbox(label)  # text width, height\n",
            "AttributeError: 'FreeTypeFont' object has no attribute 'getbbox'\n",
            "        1/1      1.31G     0.8285      2.078      1.229         22        480: 100% 35/35 [00:06<00:00,  5.52it/s]\n",
            "                 Class     Images  Instances      Box(P          R      mAP50  mAP50-95):  12% 1/8 [00:00<00:06,  1.04it/s]Exception in thread Thread-9:\n",
            "Traceback (most recent call last):\n",
            "  File \"/usr/lib/python3.8/threading.py\", line 932, in _bootstrap_inner\n",
            "    self.run()\n",
            "  File \"/usr/lib/python3.8/threading.py\", line 870, in run\n",
            "    self._target(*self._args, **self._kwargs)\n",
            "  File \"/usr/local/lib/python3.8/dist-packages/ultralytics/yolo/utils/plotting.py\", line 250, in plot_images\n",
            "    annotator.box_label(box, label, color=color)\n",
            "  File \"/usr/local/lib/python3.8/dist-packages/ultralytics/yolo/utils/plotting.py\", line 63, in box_label\n",
            "    _, _, w, h = self.font.getbbox(label)  # text width, height\n",
            "AttributeError: 'FreeTypeFont' object has no attribute 'getbbox'\n",
            "                 Class     Images  Instances      Box(P          R      mAP50  mAP50-95):  25% 2/8 [00:01<00:03,  1.64it/s]Exception in thread Thread-11:\n",
            "Traceback (most recent call last):\n",
            "  File \"/usr/lib/python3.8/threading.py\", line 932, in _bootstrap_inner\n",
            "    self.run()\n",
            "  File \"/usr/lib/python3.8/threading.py\", line 870, in run\n",
            "    self._target(*self._args, **self._kwargs)\n",
            "  File \"/usr/local/lib/python3.8/dist-packages/ultralytics/yolo/utils/plotting.py\", line 250, in plot_images\n",
            "    annotator.box_label(box, label, color=color)\n",
            "  File \"/usr/local/lib/python3.8/dist-packages/ultralytics/yolo/utils/plotting.py\", line 63, in box_label\n",
            "    _, _, w, h = self.font.getbbox(label)  # text width, height\n",
            "AttributeError: 'FreeTypeFont' object has no attribute 'getbbox'\n",
            "                 Class     Images  Instances      Box(P          R      mAP50  mAP50-95):  38% 3/8 [00:01<00:02,  2.07it/s]Exception in thread Thread-13:\n",
            "Traceback (most recent call last):\n",
            "  File \"/usr/lib/python3.8/threading.py\", line 932, in _bootstrap_inner\n",
            "    self.run()\n",
            "  File \"/usr/lib/python3.8/threading.py\", line 870, in run\n",
            "    self._target(*self._args, **self._kwargs)\n",
            "  File \"/usr/local/lib/python3.8/dist-packages/ultralytics/yolo/utils/plotting.py\", line 250, in plot_images\n",
            "    annotator.box_label(box, label, color=color)\n",
            "  File \"/usr/local/lib/python3.8/dist-packages/ultralytics/yolo/utils/plotting.py\", line 63, in box_label\n",
            "    _, _, w, h = self.font.getbbox(label)  # text width, height\n",
            "AttributeError: 'FreeTypeFont' object has no attribute 'getbbox'\n",
            "                 Class     Images  Instances      Box(P          R      mAP50  mAP50-95): 100% 8/8 [00:02<00:00,  2.84it/s]\n",
            "                   all        240        460    0.00659      0.964      0.122     0.0944\n",
            "\n",
            "1 epochs completed in 0.003 hours.\n",
            "Optimizer stripped from runs/detect/train17/weights/last.pt, 6.2MB\n",
            "Optimizer stripped from runs/detect/train17/weights/best.pt, 6.2MB\n",
            "\n",
            "Validating runs/detect/train17/weights/best.pt...\n",
            "Ultralytics YOLOv8.0.5 🚀 Python-3.8.16 torch-1.13.0+cu116 CUDA:0 (Tesla T4, 15110MiB)\n",
            "Fusing layers... \n",
            "Model summary: 168 layers, 3007013 parameters, 0 gradients, 8.1 GFLOPs\n",
            "                 Class     Images  Instances      Box(P          R      mAP50  mAP50-95):  12% 1/8 [00:01<00:07,  1.02s/it]Exception in thread Thread-16:\n",
            "Traceback (most recent call last):\n",
            "  File \"/usr/lib/python3.8/threading.py\", line 932, in _bootstrap_inner\n",
            "    self.run()\n",
            "  File \"/usr/lib/python3.8/threading.py\", line 870, in run\n",
            "    self._target(*self._args, **self._kwargs)\n",
            "  File \"/usr/local/lib/python3.8/dist-packages/ultralytics/yolo/utils/plotting.py\", line 250, in plot_images\n",
            "    annotator.box_label(box, label, color=color)\n",
            "  File \"/usr/local/lib/python3.8/dist-packages/ultralytics/yolo/utils/plotting.py\", line 63, in box_label\n",
            "    _, _, w, h = self.font.getbbox(label)  # text width, height\n",
            "AttributeError: 'FreeTypeFont' object has no attribute 'getbbox'\n",
            "                 Class     Images  Instances      Box(P          R      mAP50  mAP50-95):  25% 2/8 [00:01<00:04,  1.40it/s]Exception in thread Thread-18:\n",
            "Traceback (most recent call last):\n",
            "  File \"/usr/lib/python3.8/threading.py\", line 932, in _bootstrap_inner\n",
            "    self.run()\n",
            "  File \"/usr/lib/python3.8/threading.py\", line 870, in run\n",
            "    self._target(*self._args, **self._kwargs)\n",
            "  File \"/usr/local/lib/python3.8/dist-packages/ultralytics/yolo/utils/plotting.py\", line 250, in plot_images\n",
            "    annotator.box_label(box, label, color=color)\n",
            "  File \"/usr/local/lib/python3.8/dist-packages/ultralytics/yolo/utils/plotting.py\", line 63, in box_label\n",
            "    _, _, w, h = self.font.getbbox(label)  # text width, height\n",
            "AttributeError: 'FreeTypeFont' object has no attribute 'getbbox'\n",
            "                 Class     Images  Instances      Box(P          R      mAP50  mAP50-95):  38% 3/8 [00:01<00:02,  1.74it/s]Exception in thread Thread-20:\n",
            "Traceback (most recent call last):\n",
            "  File \"/usr/lib/python3.8/threading.py\", line 932, in _bootstrap_inner\n",
            "    self.run()\n",
            "  File \"/usr/lib/python3.8/threading.py\", line 870, in run\n",
            "    self._target(*self._args, **self._kwargs)\n",
            "  File \"/usr/local/lib/python3.8/dist-packages/ultralytics/yolo/utils/plotting.py\", line 250, in plot_images\n",
            "    annotator.box_label(box, label, color=color)\n",
            "  File \"/usr/local/lib/python3.8/dist-packages/ultralytics/yolo/utils/plotting.py\", line 63, in box_label\n",
            "    _, _, w, h = self.font.getbbox(label)  # text width, height\n",
            "AttributeError: 'FreeTypeFont' object has no attribute 'getbbox'\n",
            "                 Class     Images  Instances      Box(P          R      mAP50  mAP50-95): 100% 8/8 [00:03<00:00,  2.20it/s]\n",
            "                   all        240        460    0.00659      0.964      0.122     0.0948\n",
            "                     1        240         64    0.00447      0.906     0.0956     0.0802\n",
            "                     2        240         72    0.00862      0.944      0.102     0.0791\n",
            "                     3        240         75    0.00626      0.987      0.117     0.0919\n",
            "                     4        240         52    0.00429          1      0.228      0.176\n",
            "                     5        240         61    0.00775      0.967      0.119     0.0885\n",
            "                     6        240         73    0.00967      0.973      0.122     0.0895\n",
            "                     7        240         63    0.00505      0.968     0.0736      0.058\n",
            "Speed: 0.6ms pre-process, 1.6ms inference, 0.0ms loss, 1.9ms post-process per image\n",
            "Saving runs/detect/train17/predictions.json...\n",
            "Results saved to \u001b[1mruns/detect/train17\u001b[0m\n"
          ]
        }
      ]
    },
    {
      "cell_type": "code",
      "source": [],
      "metadata": {
        "id": "llKEYWgezeFk"
      },
      "execution_count": null,
      "outputs": []
    }
  ]
}